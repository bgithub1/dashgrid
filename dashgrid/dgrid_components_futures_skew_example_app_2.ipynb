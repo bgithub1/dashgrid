{
 "cells": [
  {
   "cell_type": "code",
   "execution_count": 1,
   "metadata": {},
   "outputs": [],
   "source": [
    "import sys,os\n",
    "if  not os.path.abspath('./') in sys.path:\n",
    "    sys.path.append(os.path.abspath('./'))\n",
    "if  not os.path.abspath('../') in sys.path:\n",
    "    sys.path.append(os.path.abspath('../'))\n",
    "\n",
    "import pandas as pd\n",
    "import numpy as np\n",
    "import traceback\n",
    "\n",
    "from dashgrid import dash_df_components as ddfc\n",
    "dgc = ddfc.dgc\n",
    "html = dgc.html"
   ]
  },
  {
   "cell_type": "markdown",
   "metadata": {},
   "source": [
    "### Generate some example data for the Chained Dropdowns"
   ]
  },
  {
   "cell_type": "code",
   "execution_count": 2,
   "metadata": {
    "scrolled": true
   },
   "outputs": [
    {
     "data": {
      "text/html": [
       "<div>\n",
       "<style scoped>\n",
       "    .dataframe tbody tr th:only-of-type {\n",
       "        vertical-align: middle;\n",
       "    }\n",
       "\n",
       "    .dataframe tbody tr th {\n",
       "        vertical-align: top;\n",
       "    }\n",
       "\n",
       "    .dataframe thead th {\n",
       "        text-align: right;\n",
       "    }\n",
       "</style>\n",
       "<table border=\"1\" class=\"dataframe\">\n",
       "  <thead>\n",
       "    <tr style=\"text-align: right;\">\n",
       "      <th></th>\n",
       "      <th>commod</th>\n",
       "      <th>year</th>\n",
       "      <th>month</th>\n",
       "    </tr>\n",
       "  </thead>\n",
       "  <tbody>\n",
       "    <tr>\n",
       "      <th>0</th>\n",
       "      <td>ES</td>\n",
       "      <td>2014</td>\n",
       "      <td>H</td>\n",
       "    </tr>\n",
       "    <tr>\n",
       "      <th>1</th>\n",
       "      <td>ES</td>\n",
       "      <td>2014</td>\n",
       "      <td>M</td>\n",
       "    </tr>\n",
       "    <tr>\n",
       "      <th>2</th>\n",
       "      <td>ES</td>\n",
       "      <td>2014</td>\n",
       "      <td>U</td>\n",
       "    </tr>\n",
       "    <tr>\n",
       "      <th>3</th>\n",
       "      <td>ES</td>\n",
       "      <td>2014</td>\n",
       "      <td>Z</td>\n",
       "    </tr>\n",
       "    <tr>\n",
       "      <th>4</th>\n",
       "      <td>ES</td>\n",
       "      <td>2015</td>\n",
       "      <td>H</td>\n",
       "    </tr>\n",
       "    <tr>\n",
       "      <th>...</th>\n",
       "      <td>...</td>\n",
       "      <td>...</td>\n",
       "      <td>...</td>\n",
       "    </tr>\n",
       "    <tr>\n",
       "      <th>311</th>\n",
       "      <td>NG</td>\n",
       "      <td>2020</td>\n",
       "      <td>Q</td>\n",
       "    </tr>\n",
       "    <tr>\n",
       "      <th>312</th>\n",
       "      <td>NG</td>\n",
       "      <td>2020</td>\n",
       "      <td>U</td>\n",
       "    </tr>\n",
       "    <tr>\n",
       "      <th>313</th>\n",
       "      <td>NG</td>\n",
       "      <td>2020</td>\n",
       "      <td>V</td>\n",
       "    </tr>\n",
       "    <tr>\n",
       "      <th>314</th>\n",
       "      <td>NG</td>\n",
       "      <td>2020</td>\n",
       "      <td>X</td>\n",
       "    </tr>\n",
       "    <tr>\n",
       "      <th>315</th>\n",
       "      <td>NG</td>\n",
       "      <td>2020</td>\n",
       "      <td>Z</td>\n",
       "    </tr>\n",
       "  </tbody>\n",
       "</table>\n",
       "<p>316 rows × 3 columns</p>\n",
       "</div>"
      ],
      "text/plain": [
       "    commod  year month\n",
       "0       ES  2014     H\n",
       "1       ES  2014     M\n",
       "2       ES  2014     U\n",
       "3       ES  2014     Z\n",
       "4       ES  2015     H\n",
       "..     ...   ...   ...\n",
       "311     NG  2020     Q\n",
       "312     NG  2020     U\n",
       "313     NG  2020     V\n",
       "314     NG  2020     X\n",
       "315     NG  2020     Z\n",
       "\n",
       "[316 rows x 3 columns]"
      ]
     },
     "execution_count": 2,
     "metadata": {},
     "output_type": "execute_result"
    }
   ],
   "source": [
    "'''\n",
    "create the Dash app and launch it on args.host and args.port\n",
    "'''\n",
    "\n",
    "CONTRACTS_TO_DISPLAY_DICT = {'names':['E-Mini SP','Nymex Crude','Ice Brent','Nymex NatGas'], \n",
    "                             'symbols':['ES','CL','CB','NG']\n",
    "}                             \n",
    "\n",
    "\n",
    "\n",
    "\n",
    "c1 = CONTRACTS_TO_DISPLAY_DICT['symbols']\n",
    "c2 = [\n",
    "    list(range(2014,2021)),list(range(2011,2021)),\n",
    "    list(range(2016,2021)),list(range(2012,2021))\n",
    "]\n",
    "all_months = ['F','G','H','J','K','M','N','Q','U','V','X','Z']\n",
    "q_months = ['H','M','U','Z']\n",
    "c3 = [q_months,all_months,all_months,all_months]\n",
    "c4 = list(zip(c1,c2,c3))\n",
    "c5 = [(x[0],y,z) for x in c4[:] for y in x[1] for z in x[2]]\n",
    "contracts = [x[0] for x in c5]\n",
    "years = [x[1] for x in c5]\n",
    "months = [x[2] for x in c5]\n",
    "\n",
    "df_contracts = pd.DataFrame({'commod':contracts,'year':years,'month':months})\n",
    "df_contracts"
   ]
  },
  {
   "cell_type": "code",
   "execution_count": 3,
   "metadata": {},
   "outputs": [],
   "source": [
    "logger = dgc.init_root_logger('logfile.log','INFO')"
   ]
  },
  {
   "cell_type": "code",
   "execution_count": 4,
   "metadata": {},
   "outputs": [],
   "source": [
    "            \n",
    "mdd = dgc.MultiDropdownDiv('mdd',df_contracts.copy(),['commod','year','month'])            "
   ]
  },
  {
   "cell_type": "code",
   "execution_count": 5,
   "metadata": {},
   "outputs": [],
   "source": [
    "ac = [mdd]\n",
    "gc = ['1fr'] \n",
    "app = dgc.make_app(ac,grid_template_columns_list=gc)    \n",
    "# app.run_server(host='127.0.0.1',port=8500)    \n"
   ]
  },
  {
   "cell_type": "code",
   "execution_count": 6,
   "metadata": {},
   "outputs": [
    {
     "name": "stderr",
     "output_type": "stream",
     "text": [
      "2020-01-31 07:12:01,728 - root - INFO - using configs located at ./temp_folder/dgrid_components_futures_skew_example_app.json\n",
      "/Users/bperlman1/Virtualenvs3/dashrisk3/lib/python3.6/site-packages/pandas/core/frame.py:7138: FutureWarning:\n",
      "\n",
      "Sorting because non-concatenation axis is not aligned. A future version\n",
      "of pandas will change to not sort by default.\n",
      "\n",
      "To accept the future behavior, pass 'sort=False'.\n",
      "\n",
      "To retain the current behavior and silence the warning, pass 'sort=True'.\n",
      "\n",
      "\n"
     ]
    }
   ],
   "source": [
    "DEFAULT_CONFIGS = {\"PATH_DATA_HOME\":\"./\",\n",
    "                  \"host\":\"127.0.0.1\",\n",
    "                  \"port\":8550,\n",
    "                  \"url_base_pathname\":\"futskew\"}\n",
    "\n",
    "# read configuration\n",
    "import json\n",
    "try:\n",
    "    configs = json.load(open('./temp_folder/dgrid_components_futures_skew_example_app.json','r'))\n",
    "    logger.info(f'using configs located at ./temp_folder/dgrid_components_futures_skew_example_app.json')\n",
    "except:\n",
    "    traceback.print_exc()\n",
    "    logger.info(f'using default configs')\n",
    "    configs = DEFAULT_CONFIGS.copy()\n",
    "\n",
    "PATH_DATA_HOME = configs['PATH_DATA_HOME']#'../../barchartacs/barchartacs/temp_folder'\n",
    "FILENAME_SKEW = 'df_iv_skew_COMMOD.csv'\n",
    "FILENAME_IV = 'df_iv_final_COMMOD.csv'\n",
    "FILENAME_FUT = 'df_cash_futures_COMMOD.csv'\n",
    "\n",
    "df_iv_skew = None\n",
    "df_iv_final = None\n",
    "df_cash_futures = None\n",
    "for commod in ['CL','CB','ES','NG']:\n",
    "    fn_skew = FILENAME_SKEW.replace('COMMOD',commod)\n",
    "    df_skew = pd.read_csv(f'{PATH_DATA_HOME}/{fn_skew}')\n",
    "    fn_iv = FILENAME_IV.replace('COMMOD',commod)\n",
    "    df_iv = pd.read_csv(f'{PATH_DATA_HOME}/{fn_iv}')\n",
    "    fn_fut = FILENAME_FUT.replace('COMMOD',commod)\n",
    "    df_fut = pd.read_csv(f'{PATH_DATA_HOME}/{fn_fut}')\n",
    "    df_skew['commod'] = commod\n",
    "    df_iv['commod'] = commod\n",
    "    df_fut['commod'] = commod\n",
    "    if df_iv_skew is None:\n",
    "        df_iv_skew = df_skew.copy()\n",
    "        df_iv_final = df_iv.copy()\n",
    "        df_cash_futures = df_fut.copy()\n",
    "    else:\n",
    "        df_iv_skew = df_iv_skew.append(df_skew.copy())\n",
    "        df_iv_final = df_iv_final.append(df_iv.copy())\n",
    "        df_cash_futures = df_cash_futures.append(df_fut.copy())\n",
    "df_iv_skew = df_iv_skew.rename(columns={c:float(c) for c in df_iv_skew.columns.values if '0.' in c})\n"
   ]
  },
  {
   "cell_type": "code",
   "execution_count": 7,
   "metadata": {},
   "outputs": [],
   "source": [
    "def plot_skew_vs_atm(SYMBOL_TO_RESEARCH,df_iv_final_in,df_iv_skew_in,df_cash_futures_in,dist_from_zero=.1,year=None):\n",
    "    # Step 00: select only SYMBOL_TO_RESEARCH, and for a specific year,  from DataFrames \n",
    "    df_iv_final = df_iv_final_in[df_iv_final_in.symbol.str.slice(0,2)==SYMBOL_TO_RESEARCH].copy()\n",
    "    df_iv_skew = df_iv_skew_in[df_iv_skew_in.symbol.str.slice(0,2)==SYMBOL_TO_RESEARCH].copy()\n",
    "    df_cash_futures = df_cash_futures_in[df_cash_futures_in.symbol.str.slice(0,2)==SYMBOL_TO_RESEARCH].copy()\n",
    "\n",
    "    #  Now slice on specific year\n",
    "    year = 'all' if year is None else year\n",
    "    if str(year).lower() != 'all':\n",
    "        y = int(str(year))\n",
    "        beg_year = y*100*100+1*100+1\n",
    "        end_year = y*100*100+12*100+31\n",
    "        df_iv_final = df_iv_final[(df_iv_final.settle_date>=beg_year) & (df_iv_final.settle_date<=end_year)]\n",
    "        df_iv_skew = df_iv_skew[(df_iv_skew.settle_date>=beg_year) & (df_iv_skew.settle_date<=end_year)]\n",
    "        df_cash_futures = df_cash_futures[(df_cash_futures.settle_date>=beg_year) & (df_cash_futures.settle_date<=end_year)]\n",
    "\n",
    "#     print(f'plot_skew_vs_atm year: {year}')\n",
    "\n",
    "    # Step 01: create df_skew_2, which holds skew difference between \n",
    "    #   positive dist_from_zero and negative dist_from_zero, for each settle_date\n",
    "    df_skew_2 = df_iv_skew.copy()\n",
    "    df_skew_2.index.name = None\n",
    "    skew_range_col = f'iv_skew'\n",
    "    df_skew_2[skew_range_col] = df_skew_2[dist_from_zero] - df_skew_2[-dist_from_zero]\n",
    "    df_skew_2.settle_date = df_skew_2.settle_date.astype(int)\n",
    "    df_skew_2 = df_skew_2[['settle_date',skew_range_col]]\n",
    "    \n",
    "    # Step 02: create atm implied vol table, that also has the cash price for each settle_date\n",
    "    df_atmv = df_iv_final[['settle_date','atm_iv']].drop_duplicates()\n",
    "    df_cf = df_cash_futures[df_cash_futures.symbol==f'{SYMBOL_TO_RESEARCH}Z99']\n",
    "    df_atmv = df_atmv.merge(df_cf[['settle_date','close']],how='inner',on='settle_date')\n",
    "    \n",
    "    # Step 03: merge skew and atm vol/close tables\n",
    "    df_ivs = df_skew_2.merge(df_atmv,how='inner',on='settle_date')\n",
    "    df_ivs = df_ivs.sort_values('settle_date')\n",
    "    \n",
    "    # Step 04: plot skew vs atm_iv\n",
    "    chart_title = f'{SYMBOL_TO_RESEARCH} skew {dist_from_zero*100}% up and down vs atm vol'\n",
    "    df_ivs_skew_vs_atm_iv = df_ivs[['settle_date',skew_range_col,'atm_iv']]\n",
    "    fig_skew_vs_atm_iv = dgc.plotly_plot(df_ivs_skew_vs_atm_iv,x_column='settle_date',yaxis2_cols=['atm_iv'],\n",
    "                      y_left_label='iv_skew',y_right_label='atm_iv',plot_title=chart_title,bar_plot=False)\n",
    "    \n",
    "    # Step 05: plot skew vs close\n",
    "    chart_title = f'{SYMBOL_TO_RESEARCH} skew {dist_from_zero*100}% up and down vs close'\n",
    "    df_ivs_skew_vs_close = df_ivs[['settle_date',skew_range_col,'close']]\n",
    "    fig_skew_vs_close = dgc.plotly_plot(df_ivs_skew_vs_close,x_column='settle_date',yaxis2_cols=['close'],\n",
    "                      y_left_label='iv_skew',y_right_label='close',plot_title=chart_title,bar_plot=False)\n",
    "    return fig_skew_vs_atm_iv,fig_skew_vs_close\n",
    "    \n",
    "def plot_atm_vs_close(SYMBOL_TO_RESEARCH,df_iv_final_in,df_cash_futures_in,year=None):\n",
    "    # Step 00: select only SYMBOL_TO_RESEARCH from DataFrames \n",
    "    df_iv_final = df_iv_final_in[df_iv_final_in.symbol.str.slice(0,2)==SYMBOL_TO_RESEARCH].copy()\n",
    "    df_cash_futures = df_cash_futures_in[df_cash_futures_in.symbol.str.slice(0,2)==SYMBOL_TO_RESEARCH].copy()\n",
    "    \n",
    "    year = 'all' if year is None else year\n",
    "    if str(year).lower() != 'all':\n",
    "        y = int(str(year))\n",
    "        beg_year = y*100*100+1*100+1\n",
    "        end_year = y*100*100+12*100+31\n",
    "        df_iv_final = df_iv_final[(df_iv_final.settle_date>=beg_year) & (df_iv_final.settle_date<=end_year)]\n",
    "        df_cash_futures = df_cash_futures[(df_cash_futures.settle_date>=beg_year) & (df_cash_futures.settle_date<=end_year)]\n",
    "\n",
    "#     print(f'plot_atm_vs_close year: {year}')\n",
    "    \n",
    "    # Step 01: create atm implied vol table, that also has the cash price for each settle_date\n",
    "    df_atmv = df_iv_final[['settle_date','atm_iv']].drop_duplicates()\n",
    "    df_cf = df_cash_futures[df_cash_futures.symbol==f'{SYMBOL_TO_RESEARCH}Z99']\n",
    "    df_atmv = df_atmv.merge(df_cf[['settle_date','close']],how='inner',on='settle_date')\n",
    "\n",
    "    # Step 02: plot atm_iv vs close\n",
    "    chart_title = f'{SYMBOL_TO_RESEARCH} atm vol vs close'\n",
    "    df_atm_vs_close = df_atmv[['settle_date','atm_iv','close']]\n",
    "    fig_atm_vs_close = dgc.plotly_plot(df_atm_vs_close,x_column='settle_date',yaxis2_cols=['close'],\n",
    "                      y_left_label='atm_iv',y_right_label='close',plot_title=chart_title,bar_plot=False)\n",
    "    return fig_atm_vs_close\n",
    "\n"
   ]
  },
  {
   "cell_type": "markdown",
   "metadata": {},
   "source": [
    "### Build callback that returns plotly graph Figures"
   ]
  },
  {
   "cell_type": "code",
   "execution_count": 8,
   "metadata": {},
   "outputs": [],
   "source": [
    "# define a storage components\n",
    "#  build a store here\n",
    "SKEW_RANGE_LIST = [.05,.1,.2]\n",
    "def create_figs_closure(df_iv_final_in, df_iv_skew_in,df_cash_futures_in):\n",
    "    def _create_figs(input_dict):\n",
    "#         print(f'_create_figs {input_dict}')\n",
    "        none_return = None\n",
    "        if input_dict is None or len(input_dict.keys())<2:\n",
    "            return none_return\n",
    "        sym_to_plot = input_dict['mdd2_0']\n",
    "        if sym_to_plot is None:\n",
    "            return none_return\n",
    "        \n",
    "        year_to_plot = input_dict['mdd2_1']\n",
    "        year_to_plot = 'all' if year_to_plot is None else year_to_plot\n",
    "        all_figs = []\n",
    "        fig = plot_atm_vs_close(sym_to_plot,df_iv_final_in,df_cash_futures_in,year=year_to_plot)        \n",
    "        all_figs.append([fig])\n",
    "        for d in SKEW_RANGE_LIST:\n",
    "            fig_skew_vs_atm,fig_skew_vs_price = plot_skew_vs_atm(sym_to_plot,df_iv_final_in,df_iv_skew_in,\n",
    "                                         df_cash_futures_in,dist_from_zero=d,year=year_to_plot)\n",
    "            all_figs.append([fig_skew_vs_atm])\n",
    "            all_figs.append([fig_skew_vs_price])\n",
    "        return all_figs\n",
    "    return _create_figs\n"
   ]
  },
  {
   "cell_type": "code",
   "execution_count": 9,
   "metadata": {},
   "outputs": [],
   "source": [
    "tm_text1 = '''\n",
    "# Commodity Option Skew Analysis\n",
    "## Select a Commodity, Year and Monthcode below to display charts showing:\n",
    "'''\n",
    "tm1 = ddfc.MarkdownLine(tm_text1,text_size=1)\n",
    "tm_text2 = '''\n",
    "* atm vol vs price\n",
    "* skew vs price\n",
    "* skew vs atm vol\n",
    "'''\n",
    "tm2 = ddfc.MarkdownLine(tm_text2,text_align='center')\n",
    "title_comp = ddfc.MarkdownDiv('mdiv1',[tm1,tm2])\n"
   ]
  },
  {
   "cell_type": "code",
   "execution_count": 10,
   "metadata": {},
   "outputs": [],
   "source": [
    "\n",
    "dfcf = df_iv_final[df_iv_final.commod != 'NG'][['settle_date','commod']]\n",
    "dfcf['year'] = dfcf.settle_date.apply(lambda v: int(str(v)[0:4]))\n",
    "dfcf = dfcf[['commod','year']]\n",
    "df_all_years = pd.DataFrame({'commod':dfcf.commod.unique(),'year':'all'})\n",
    "dfcf = df_all_years.append(dfcf,ignore_index=True)\n",
    "mdd2 = dgc.MultiDropdownDiv('mdd2',dfcf.copy(),['commod','year']) \n",
    "                                                 "
   ]
  },
  {
   "cell_type": "code",
   "execution_count": 11,
   "metadata": {},
   "outputs": [
    {
     "name": "stderr",
     "output_type": "stream",
     "text": [
      "2020-01-31 07:12:02,367 - root - INFO - StoreComponent self.output_data_tuple ('store_comp_my_app', 'data')\n"
     ]
    }
   ],
   "source": [
    "# import importlib\n",
    "# importlib.reload(ddfc)\n",
    "dummy_fig = ddfc.dgc.plotly_plot(\n",
    "    pd.DataFrame({'x':list(range(10)),'y':list(range(10))}),x_column='x',bar_plot=False)\n",
    "\n",
    "figure_example = ddfc.FigureStatic('figure_example',None,initial_data=dummy_fig,logger=logger)\n",
    "my_callback = create_figs_closure(df_iv_final, df_iv_skew,df_cash_futures)\n",
    "v = ddfc.VariableRowDiv('my_app',\n",
    "            mdd2.dropdown_list,\n",
    "            my_callback,\n",
    "            [figure_example],\n",
    "            '1fr',\n",
    "            logger=logger)\n"
   ]
  },
  {
   "cell_type": "code",
   "execution_count": 12,
   "metadata": {
    "scrolled": false
   },
   "outputs": [
    {
     "name": "stdout",
     "output_type": "stream",
     "text": [
      " * Serving Flask app \"__main__\" (lazy loading)\n",
      " * Environment: production\n",
      "   WARNING: Do not use the development server in a production environment.\n",
      "   Use a production WSGI server instead.\n",
      " * Debug mode: off\n"
     ]
    },
    {
     "name": "stderr",
     "output_type": "stream",
     "text": [
      "2020-01-31 07:12:02,580 - werkzeug - INFO -  * Running on http://127.0.0.1:8500/ (Press CTRL+C to quit)\n",
      "2020-01-31 07:12:05,121 - werkzeug - INFO - 127.0.0.1 - - [31/Jan/2020 07:12:05] \"\u001b[37mGET / HTTP/1.1\u001b[0m\" 200 -\n",
      "2020-01-31 07:12:05,245 - werkzeug - INFO - 127.0.0.1 - - [31/Jan/2020 07:12:05] \"\u001b[37mGET /_dash-component-suites/dash_renderer/react@16.8.6.min.js?v=1.0.0&m=1574289295 HTTP/1.1\u001b[0m\" 200 -\n",
      "2020-01-31 07:12:05,253 - werkzeug - INFO - 127.0.0.1 - - [31/Jan/2020 07:12:05] \"\u001b[37mGET /_dash-component-suites/dash_renderer/react-dom@16.8.6.min.js?v=1.0.0&m=1574289295 HTTP/1.1\u001b[0m\" 200 -\n",
      "2020-01-31 07:12:05,264 - werkzeug - INFO - 127.0.0.1 - - [31/Jan/2020 07:12:05] \"\u001b[37mGET /_dash-component-suites/dash_renderer/prop-types@15.7.2.min.js?v=1.0.0&m=1574289295 HTTP/1.1\u001b[0m\" 200 -\n",
      "2020-01-31 07:12:05,271 - werkzeug - INFO - 127.0.0.1 - - [31/Jan/2020 07:12:05] \"\u001b[37mGET /_dash-component-suites/dash_html_components/dash_html_components.min.js?v=1.0.0&m=1574289295 HTTP/1.1\u001b[0m\" 200 -\n",
      "2020-01-31 07:12:05,288 - werkzeug - INFO - 127.0.0.1 - - [31/Jan/2020 07:12:05] \"\u001b[37mGET /_dash-component-suites/dash_core_components/highlight.pack.js?v=1.0.0&m=1574289294 HTTP/1.1\u001b[0m\" 200 -\n",
      "2020-01-31 07:12:05,331 - werkzeug - INFO - 127.0.0.1 - - [31/Jan/2020 07:12:05] \"\u001b[37mGET /_dash-component-suites/dash_renderer/dash_renderer.min.js?v=1.0.0&m=1574289295 HTTP/1.1\u001b[0m\" 200 -\n",
      "2020-01-31 07:12:05,333 - werkzeug - INFO - 127.0.0.1 - - [31/Jan/2020 07:12:05] \"\u001b[37mGET /_dash-component-suites/dash_table/bundle.js?v=4.0.1&m=1574289295 HTTP/1.1\u001b[0m\" 200 -\n",
      "2020-01-31 07:12:05,379 - werkzeug - INFO - 127.0.0.1 - - [31/Jan/2020 07:12:05] \"\u001b[37mGET /_dash-component-suites/dash_core_components/dash_core_components.min.js?v=1.0.0&m=1574289294 HTTP/1.1\u001b[0m\" 200 -\n",
      "2020-01-31 07:12:05,465 - werkzeug - INFO - 127.0.0.1 - - [31/Jan/2020 07:12:05] \"\u001b[37mGET /_dash-component-suites/dash_core_components/plotly-1.48.3.min.js?v=1.0.0&m=1574289294 HTTP/1.1\u001b[0m\" 200 -\n",
      "2020-01-31 07:12:05,899 - werkzeug - INFO - 127.0.0.1 - - [31/Jan/2020 07:12:05] \"\u001b[37mGET /_dash-layout HTTP/1.1\u001b[0m\" 200 -\n",
      "2020-01-31 07:12:05,900 - werkzeug - INFO - 127.0.0.1 - - [31/Jan/2020 07:12:05] \"\u001b[37mGET /_dash-dependencies HTTP/1.1\u001b[0m\" 200 -\n",
      "2020-01-31 07:12:05,923 - werkzeug - INFO - 127.0.0.1 - - [31/Jan/2020 07:12:05] \"\u001b[37mPOST /_dash-update-component HTTP/1.1\u001b[0m\" 200 -\n",
      "2020-01-31 07:12:05,936 - werkzeug - INFO - 127.0.0.1 - - [31/Jan/2020 07:12:05] \"\u001b[37mPOST /_dash-update-component HTTP/1.1\u001b[0m\" 200 -\n",
      "2020-01-31 07:12:05,940 - werkzeug - INFO - 127.0.0.1 - - [31/Jan/2020 07:12:05] \"\u001b[37mPOST /_dash-update-component HTTP/1.1\u001b[0m\" 200 -\n",
      "2020-01-31 07:12:05,951 - werkzeug - INFO - 127.0.0.1 - - [31/Jan/2020 07:12:05] \"\u001b[37mPOST /_dash-update-component HTTP/1.1\u001b[0m\" 200 -\n",
      "2020-01-31 07:12:06,000 - werkzeug - INFO - 127.0.0.1 - - [31/Jan/2020 07:12:06] \"\u001b[37mPOST /_dash-update-component HTTP/1.1\u001b[0m\" 204 -\n",
      "2020-01-31 07:12:06,024 - werkzeug - INFO - 127.0.0.1 - - [31/Jan/2020 07:12:06] \"\u001b[37mPOST /_dash-update-component HTTP/1.1\u001b[0m\" 200 -\n",
      "2020-01-31 07:12:06,057 - werkzeug - INFO - 127.0.0.1 - - [31/Jan/2020 07:12:06] \"\u001b[37mPOST /_dash-update-component HTTP/1.1\u001b[0m\" 200 -\n",
      "2020-01-31 07:12:06,085 - werkzeug - INFO - 127.0.0.1 - - [31/Jan/2020 07:12:06] \"\u001b[37mPOST /_dash-update-component HTTP/1.1\u001b[0m\" 200 -\n",
      "2020-01-31 07:12:06,168 - werkzeug - INFO - 127.0.0.1 - - [31/Jan/2020 07:12:06] \"\u001b[37mPOST /_dash-update-component HTTP/1.1\u001b[0m\" 200 -\n"
     ]
    },
    {
     "name": "stdout",
     "output_type": "stream",
     "text": [
      "plot_atm_vs_close year: all\n",
      "plot_atm_vs_close year: all\n",
      "plot_skew_vs_atm year: all"
     ]
    },
    {
     "name": "stderr",
     "output_type": "stream",
     "text": [
      "2020-01-31 07:12:06,441 - numexpr.utils - INFO - NumExpr defaulting to 4 threads.\n"
     ]
    },
    {
     "name": "stdout",
     "output_type": "stream",
     "text": [
      "\n",
      "plot_skew_vs_atm year: all\n",
      "plot_skew_vs_atm year: all\n",
      "plot_skew_vs_atm year: all\n",
      "plot_skew_vs_atm year: all\n",
      "plot_skew_vs_atm year: all\n"
     ]
    },
    {
     "name": "stderr",
     "output_type": "stream",
     "text": [
      "2020-01-31 07:12:07,718 - werkzeug - INFO - 127.0.0.1 - - [31/Jan/2020 07:12:07] \"\u001b[37mPOST /_dash-update-component HTTP/1.1\u001b[0m\" 200 -\n",
      "2020-01-31 07:12:07,720 - werkzeug - INFO - 127.0.0.1 - - [31/Jan/2020 07:12:07] \"\u001b[37mPOST /_dash-update-component HTTP/1.1\u001b[0m\" 200 -\n",
      "2020-01-31 07:12:12,976 - werkzeug - INFO - 127.0.0.1 - - [31/Jan/2020 07:12:12] \"\u001b[37mPOST /_dash-update-component HTTP/1.1\u001b[0m\" 200 -\n",
      "2020-01-31 07:12:13,008 - werkzeug - INFO - 127.0.0.1 - - [31/Jan/2020 07:12:13] \"\u001b[37mPOST /_dash-update-component HTTP/1.1\u001b[0m\" 200 -\n"
     ]
    },
    {
     "name": "stdout",
     "output_type": "stream",
     "text": [
      "plot_atm_vs_close year: 2014\n",
      "plot_skew_vs_atm year: 2014\n",
      "plot_skew_vs_atm year: 2014\n",
      "plot_skew_vs_atm year: 2014\n"
     ]
    },
    {
     "name": "stderr",
     "output_type": "stream",
     "text": [
      "2020-01-31 07:12:13,733 - werkzeug - INFO - 127.0.0.1 - - [31/Jan/2020 07:12:13] \"\u001b[37mPOST /_dash-update-component HTTP/1.1\u001b[0m\" 200 -\n",
      "2020-01-31 07:12:19,406 - werkzeug - INFO - 127.0.0.1 - - [31/Jan/2020 07:12:19] \"\u001b[37mPOST /_dash-update-component HTTP/1.1\u001b[0m\" 200 -\n",
      "2020-01-31 07:12:19,434 - werkzeug - INFO - 127.0.0.1 - - [31/Jan/2020 07:12:19] \"\u001b[37mPOST /_dash-update-component HTTP/1.1\u001b[0m\" 200 -\n",
      "2020-01-31 07:12:19,457 - werkzeug - INFO - 127.0.0.1 - - [31/Jan/2020 07:12:19] \"\u001b[37mPOST /_dash-update-component HTTP/1.1\u001b[0m\" 200 -\n",
      "2020-01-31 07:12:19,512 - werkzeug - INFO - 127.0.0.1 - - [31/Jan/2020 07:12:19] \"\u001b[37mPOST /_dash-update-component HTTP/1.1\u001b[0m\" 200 -\n"
     ]
    },
    {
     "name": "stdout",
     "output_type": "stream",
     "text": [
      "plot_atm_vs_close year: 2014\n",
      "plot_atm_vs_close year: 2014\n",
      "plot_skew_vs_atm year: 2014\n",
      "plot_skew_vs_atm year: 2014\n",
      "plot_skew_vs_atm year: 2014\n",
      "plot_skew_vs_atm year: 2014\n",
      "plot_skew_vs_atm year: 2014\n",
      "plot_skew_vs_atm year: 2014\n"
     ]
    },
    {
     "name": "stderr",
     "output_type": "stream",
     "text": [
      "2020-01-31 07:12:20,734 - werkzeug - INFO - 127.0.0.1 - - [31/Jan/2020 07:12:20] \"\u001b[37mPOST /_dash-update-component HTTP/1.1\u001b[0m\" 200 -\n",
      "2020-01-31 07:12:20,736 - werkzeug - INFO - 127.0.0.1 - - [31/Jan/2020 07:12:20] \"\u001b[37mPOST /_dash-update-component HTTP/1.1\u001b[0m\" 200 -\n"
     ]
    }
   ],
   "source": [
    "ac = [title_comp,mdd2] + v.final_components\n",
    "gc = ['1fr','1fr'] + v.final_layout \n",
    "app = dgc.make_app(ac,grid_template_columns_list=gc)    \n",
    "app.run_server(host='127.0.0.1',port=8500)    \n"
   ]
  },
  {
   "cell_type": "code",
   "execution_count": 13,
   "metadata": {},
   "outputs": [],
   "source": [
    "# import json\n",
    "# p = {'table':'data','split':'columns','records':None}\n",
    "# o_type = 'records'\n",
    "# json_text = df_iv_skew.to_json(orient=o_type)\n",
    "# # json_object = json.loads(json_text)\n",
    "# # t = p[o_type]\n",
    "# # j = json_object[t] if t is not None else json_object\n",
    "# # j\n",
    "\n",
    "# df_new = pd.read_json(json_text,orient=o_type)\n",
    "# df_new.head()"
   ]
  },
  {
   "cell_type": "markdown",
   "metadata": {},
   "source": []
  }
 ],
 "metadata": {
  "kernelspec": {
   "display_name": "Python 3",
   "language": "python",
   "name": "python3"
  },
  "language_info": {
   "codemirror_mode": {
    "name": "ipython",
    "version": 3
   },
   "file_extension": ".py",
   "mimetype": "text/x-python",
   "name": "python",
   "nbconvert_exporter": "python",
   "pygments_lexer": "ipython3",
   "version": "3.6.5"
  }
 },
 "nbformat": 4,
 "nbformat_minor": 2
}
