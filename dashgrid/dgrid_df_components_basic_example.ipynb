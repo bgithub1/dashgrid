{
 "cells": [
  {
   "cell_type": "markdown",
   "metadata": {},
   "source": [
    "### Show an example Dash app using components in dash_df_components"
   ]
  },
  {
   "cell_type": "code",
   "execution_count": 1,
   "metadata": {},
   "outputs": [],
   "source": [
    "import sys,os\n",
    "if  not os.path.abspath('./') in sys.path:\n",
    "    sys.path.append(os.path.abspath('./'))\n",
    "if  not os.path.abspath('../') in sys.path:\n",
    "    sys.path.append(os.path.abspath('../'))\n",
    "\n",
    "import pandas as pd\n",
    "import numpy as np\n",
    "import traceback\n",
    "\n",
    "from dashgrid import dash_df_components as ddfc\n",
    "from flask_caching import Cache"
   ]
  },
  {
   "cell_type": "markdown",
   "metadata": {},
   "source": [
    "## Example of a Dash App using VariableRowDiv"
   ]
  },
  {
   "cell_type": "markdown",
   "metadata": {},
   "source": [
    "### Step 00: Define a logger that all components can use"
   ]
  },
  {
   "cell_type": "code",
   "execution_count": 4,
   "metadata": {},
   "outputs": [],
   "source": [
    "logger = ddfc.dgc.init_root_logger('logfile.log','INFO')"
   ]
  },
  {
   "cell_type": "markdown",
   "metadata": {},
   "source": [
    "### Step 01: Create a title div for our app\n",
    "1. Create a line of markdown for the top title\n",
    "2. Create a multi-line markdown using numbered bullets"
   ]
  },
  {
   "cell_type": "code",
   "execution_count": 3,
   "metadata": {},
   "outputs": [],
   "source": [
    "tm1 = ddfc.MarkdownLine('Dash DataFrame App',text_size=1)\n",
    "tm_text2 = '''\n",
    "            1. This app displays Pandas DataFrames, Plotly Graphs and other html components \n",
    "            2. like file inputs, dropdown lists, and text input fields, and general divs.\n",
    "\n",
    "             '''\n",
    "tm2 = ddfc.MarkdownLine(tm_text2,text_align='left')\n",
    "title_comp = ddfc.MarkdownDiv('mdiv1',[tm1,tm2])\n"
   ]
  },
  {
   "cell_type": "markdown",
   "metadata": {},
   "source": [
    "### Step 02: Create some intial data for our app\n",
    "1. Create a DataFrame\n",
    "2. Create a table div\n",
    "3. Create an xy graph div"
   ]
  },
  {
   "cell_type": "code",
   "execution_count": 5,
   "metadata": {},
   "outputs": [],
   "source": [
    "x = np.arange(1,10,.1).round(4)\n",
    "df = pd.DataFrame({'x':x,'y':(x + np.random.normal(size=len(x))*.1).round(4)})\n",
    "\n",
    "table_example = ddfc.TableInput(\n",
    "    'init_table',initial_data=df,title='Initial Table')\n",
    "xy_example = ddfc.XYGraphSimple(\n",
    "    'init_graph',initial_data=df,x_column='x',title='Initial Graph')  \n"
   ]
  },
  {
   "cell_type": "markdown",
   "metadata": {},
   "source": [
    "### Step 03: Create an input textbox so that you can:\n",
    "1. Enter a floating point number\n",
    "2. See a second graph change, which displays a line that is:\n",
    " * a multiple of the line in the first graph\n",
    " * with some additional randomness"
   ]
  },
  {
   "cell_type": "code",
   "execution_count": 5,
   "metadata": {},
   "outputs": [],
   "source": [
    "input_div = ddfc.dgc.DivComponent('input_div',initial_children=\"Enter a number\")\n",
    "input_comp = ddfc.TextBoxInput('input_box',init_value=1,input_type='number')"
   ]
  },
  {
   "cell_type": "markdown",
   "metadata": {},
   "source": [
    "### Step 04: Create a callback that \n",
    "#### First: excepts a dictionary of data like:\n",
    "1. Pandas Dataframes\n",
    "2. String values\n",
    "\n",
    "####  Second: outputs 2 new rows, where each row contains:\n",
    "1. a pandas DataFrame that will be used by ```dash_df_components.TableInput```\n",
    "2. the same pandas DataFrame that will be used by ```dash_df_components.XYGraphSimple```\n"
   ]
  },
  {
   "cell_type": "code",
   "execution_count": 6,
   "metadata": {},
   "outputs": [],
   "source": [
    "# your input argument is a single dictionary or data, like a pandas DataFrame\n",
    "# your callback method should return a 2 dimensional array of data types that coincide\n",
    "#   with the data types that your repeating components need.\n",
    "# In this case, we are repeating a table an a graph.  Both of these component need a \n",
    "#    pandas DataFrame. \n",
    "def my_callback(input_dict:dict):   \n",
    "    df = input_dict['init_table']\n",
    "    try:\n",
    "        if 'x' not in df.columns.values:\n",
    "            return [[None,None]]\n",
    "        x = df.x\n",
    "        scale_y = input_dict['input_box']\n",
    "        if scale_y is None:\n",
    "            scale_y = 1\n",
    "        scale_y = float(str(scale_y))\n",
    "        y2 = x * scale_y + np.random.normal(size=len(x))*.1\n",
    "        df2 = pd.DataFrame({'x':x,'y':y2})    \n",
    "        df3 = pd.DataFrame({'x':x,'y':y2*-1}) \n",
    "        # return a 2 dimensional array, where each dimension has 2 DataFrames\n",
    "        return [[df2,df2],[df3,df3]]\n",
    "    except Exception as e:\n",
    "        traceback.print_exc()\n",
    "        return [[None,None],[None,None]]\n"
   ]
  },
  {
   "cell_type": "markdown",
   "metadata": {},
   "source": [
    "### Step 05: Create a VariableRowDiv, a class that allows you to create a variable number of repeating rows of Tables, Graphs, Maps, and many other graphical elements found in Dash.\n",
    "\n",
    "#### The arguments are as follows:\n",
    "* arg0: the id of the VariableRowDiv\n",
    "* arg1: a list of class instances from the component library dash_df_components\n",
    "* arg2: your callback that creates data for each repeating row\n",
    "* arg3: a css grid layout template for each repeating row\n",
    "* arg4: a logger"
   ]
  },
  {
   "cell_type": "code",
   "execution_count": null,
   "metadata": {},
   "outputs": [],
   "source": []
  },
  {
   "cell_type": "code",
   "execution_count": 17,
   "metadata": {
    "scrolled": true
   },
   "outputs": [
    {
     "name": "stderr",
     "output_type": "stream",
     "text": [
      "2020-01-29 17:20:18,271 - root - INFO - StoreComponent self.output_data_tuple ('store_comp_my_app', 'data')\n"
     ]
    },
    {
     "name": "stdout",
     "output_type": "stream",
     "text": [
      " * Serving Flask app \"__main__\" (lazy loading)\n",
      " * Environment: production\n",
      "   WARNING: Do not use the development server in a production environment.\n",
      "   Use a production WSGI server instead.\n",
      " * Debug mode: off\n"
     ]
    },
    {
     "name": "stderr",
     "output_type": "stream",
     "text": [
      "2020-01-29 17:20:18,308 - werkzeug - INFO -  * Running on http://127.0.0.1:8500/ (Press CTRL+C to quit)\n",
      "2020-01-29 17:20:20,019 - werkzeug - INFO - 127.0.0.1 - - [29/Jan/2020 17:20:20] \"\u001b[37mGET / HTTP/1.1\u001b[0m\" 200 -\n",
      "2020-01-29 17:20:20,086 - werkzeug - INFO - 127.0.0.1 - - [29/Jan/2020 17:20:20] \"\u001b[37mGET /_dash-component-suites/dash_renderer/react@16.8.6.min.js?v=1.0.0&m=1574289295 HTTP/1.1\u001b[0m\" 200 -\n",
      "2020-01-29 17:20:20,088 - werkzeug - INFO - 127.0.0.1 - - [29/Jan/2020 17:20:20] \"\u001b[37mGET /_dash-component-suites/dash_renderer/prop-types@15.7.2.min.js?v=1.0.0&m=1574289295 HTTP/1.1\u001b[0m\" 200 -\n",
      "2020-01-29 17:20:20,104 - werkzeug - INFO - 127.0.0.1 - - [29/Jan/2020 17:20:20] \"\u001b[37mGET /_dash-component-suites/dash_renderer/react-dom@16.8.6.min.js?v=1.0.0&m=1574289295 HTTP/1.1\u001b[0m\" 200 -\n",
      "2020-01-29 17:20:20,111 - werkzeug - INFO - 127.0.0.1 - - [29/Jan/2020 17:20:20] \"\u001b[37mGET /_dash-component-suites/dash_html_components/dash_html_components.min.js?v=1.0.0&m=1574289295 HTTP/1.1\u001b[0m\" 200 -\n",
      "2020-01-29 17:20:20,147 - werkzeug - INFO - 127.0.0.1 - - [29/Jan/2020 17:20:20] \"\u001b[37mGET /_dash-component-suites/dash_core_components/highlight.pack.js?v=1.0.0&m=1574289294 HTTP/1.1\u001b[0m\" 200 -\n",
      "2020-01-29 17:20:20,193 - werkzeug - INFO - 127.0.0.1 - - [29/Jan/2020 17:20:20] \"\u001b[37mGET /_dash-component-suites/dash_renderer/dash_renderer.min.js?v=1.0.0&m=1574289295 HTTP/1.1\u001b[0m\" 200 -\n",
      "2020-01-29 17:20:20,206 - werkzeug - INFO - 127.0.0.1 - - [29/Jan/2020 17:20:20] \"\u001b[37mGET /_dash-component-suites/dash_table/bundle.js?v=4.0.1&m=1574289295 HTTP/1.1\u001b[0m\" 200 -\n",
      "2020-01-29 17:20:20,243 - werkzeug - INFO - 127.0.0.1 - - [29/Jan/2020 17:20:20] \"\u001b[37mGET /_dash-component-suites/dash_core_components/dash_core_components.min.js?v=1.0.0&m=1574289294 HTTP/1.1\u001b[0m\" 200 -\n",
      "2020-01-29 17:20:20,340 - werkzeug - INFO - 127.0.0.1 - - [29/Jan/2020 17:20:20] \"\u001b[37mGET /_dash-component-suites/dash_core_components/plotly-1.48.3.min.js?v=1.0.0&m=1574289294 HTTP/1.1\u001b[0m\" 200 -\n",
      "2020-01-29 17:20:20,775 - werkzeug - INFO - 127.0.0.1 - - [29/Jan/2020 17:20:20] \"\u001b[37mGET /_dash-layout HTTP/1.1\u001b[0m\" 200 -\n",
      "2020-01-29 17:20:20,783 - werkzeug - INFO - 127.0.0.1 - - [29/Jan/2020 17:20:20] \"\u001b[37mGET /_dash-dependencies HTTP/1.1\u001b[0m\" 200 -\n"
     ]
    }
   ],
   "source": [
    "import importlib\n",
    "importlib.reload(ddfc)\n",
    "importlib.reload(ddfc.dgc)\n",
    "\n",
    "v = ddfc.VariableRowDiv('my_app',\n",
    "            [table_example,input_comp],\n",
    "            my_callback,\n",
    "            [table_example,xy_example],\n",
    "            '1fr 1fr',\n",
    "            logger=logger)\n",
    "\n",
    "ac = [title_comp,input_div,input_comp,table_example,xy_example] + v.final_components\n",
    "gc = ['1fr','1fr 1fr','1fr 1fr'] + v.final_layout\n",
    "\n",
    "app = ddfc.dgc.make_app(ac,grid_template_columns_list=gc)    \n",
    "# CACHE_CONFIG = {'CACHE_TYPE': 'simple'}\n",
    "# cache = Cache(config=CACHE_CONFIG)\n",
    "# cache.init_app(app.server)\n",
    "app.run_server(host='127.0.0.1',port=8500)    \n"
   ]
  },
  {
   "cell_type": "code",
   "execution_count": null,
   "metadata": {},
   "outputs": [],
   "source": []
  },
  {
   "cell_type": "markdown",
   "metadata": {},
   "source": [
    "##### multirowdiv\n",
    "all components fire off of storage\n",
    "all are html or dcc's\n",
    "all components can be instantiate via json loads\n",
    "all components\n",
    "\n",
    "* user should implement one callback:\n",
    "* callback(input_dict):\n",
    "  * the user should know, based on his application, the structure of input_dict.\n",
    "  * input_dict could also have nothing in it, and the user could use data that get's referenced from a closure, or comes from some other server-side source.\n",
    "\n",
    "* the user supplies a template of components for \"rows\" as follows:\n",
    " ```\n",
    " component_template = [\n",
    "     [ddfc.Table,ddfc.XyGraph],\n",
    "     [XyGraph],\n",
    "     [ddfc.FigStatic,ddfc.Table]\n",
    " ]\n",
    " ```\n",
    "\n",
    "* In his callback:\n",
    " 1. he returns a 3 dimensional list like \n",
    " ``` \n",
    " [\n",
    "    [[df,df2]],           # this 2-d array creates 1 row of ddfc.Table,ddfc.XyGraph\n",
    "    [[df3],[df4],[df5]],  # this 2-d array creates 3 rows of XyGraph\n",
    "    [[df6,df7]]           # this 2-d array creates 1 row of ddfc.FigStatic,ddfc.Table\n",
    " ]\n",
    " ```\n",
    "\n",
    "* The second dimension determines how many times a template is reused\n"
   ]
  },
  {
   "cell_type": "code",
   "execution_count": 223,
   "metadata": {},
   "outputs": [],
   "source": [
    "from plotly.graph_objs.layout import Margin#,Font\n",
    "import importlib\n",
    "importlib.reload(ddfc.dgc)\n",
    "importlib.reload(ddfc)\n",
    "\n",
    "\n",
    "def quickapp(component_list,layout_list=None,\n",
    "             cols_per_row=1,\n",
    "             app_to_use=None,runit=False,\n",
    "             host=None,port=None):\n",
    "    gc = layout_list\n",
    "    if gc is None:\n",
    "#         gc = ['1fr' for _ in range(len(component_list))]\n",
    "#         gc = [' '.join(gc)]\n",
    "        l = len(component_list)\n",
    "        rows = int(l/cols_per_row) \n",
    "        line = ' '.join(['1fr' for _ in range(cols_per_row)])\n",
    "        row_layouts = [line for _ in range(rows)]\n",
    "        if (l % cols_per_row) > 0:\n",
    "            row_layouts = row_layouts + ['1fr']\n",
    "        gc = row_layouts\n",
    "    app = ddfc.dgc.make_app(component_list,grid_template_columns_list=gc)\n",
    "    if runit:\n",
    "        app.run_server(host=host,port=port)\n",
    "    return app\n"
   ]
  },
  {
   "cell_type": "code",
   "execution_count": 224,
   "metadata": {},
   "outputs": [
    {
     "name": "stdout",
     "output_type": "stream",
     "text": [
      " * Serving Flask app \"__main__\" (lazy loading)\n",
      " * Environment: production\n",
      "   WARNING: Do not use the development server in a production environment.\n",
      "   Use a production WSGI server instead.\n",
      " * Debug mode: off\n"
     ]
    },
    {
     "name": "stderr",
     "output_type": "stream",
     "text": [
      "2020-01-31 06:18:27,908 - werkzeug - INFO -  * Running on http://127.0.0.1:5000/ (Press CTRL+C to quit)\n",
      "2020-01-31 06:18:30,582 - werkzeug - INFO - 127.0.0.1 - - [31/Jan/2020 06:18:30] \"\u001b[37mGET / HTTP/1.1\u001b[0m\" 200 -\n",
      "2020-01-31 06:18:30,795 - werkzeug - INFO - 127.0.0.1 - - [31/Jan/2020 06:18:30] \"\u001b[37mGET /_dash-component-suites/dash_renderer/prop-types@15.7.2.min.js?v=1.0.0&m=1574289295 HTTP/1.1\u001b[0m\" 200 -\n",
      "2020-01-31 06:18:30,797 - werkzeug - INFO - 127.0.0.1 - - [31/Jan/2020 06:18:30] \"\u001b[37mGET /_dash-component-suites/dash_renderer/react@16.8.6.min.js?v=1.0.0&m=1574289295 HTTP/1.1\u001b[0m\" 200 -\n",
      "2020-01-31 06:18:30,814 - werkzeug - INFO - 127.0.0.1 - - [31/Jan/2020 06:18:30] \"\u001b[37mGET /_dash-component-suites/dash_core_components/highlight.pack.js?v=1.0.0&m=1574289294 HTTP/1.1\u001b[0m\" 200 -\n",
      "2020-01-31 06:18:30,810 - werkzeug - INFO - 127.0.0.1 - - [31/Jan/2020 06:18:30] \"\u001b[37mGET /_dash-component-suites/dash_renderer/react-dom@16.8.6.min.js?v=1.0.0&m=1574289295 HTTP/1.1\u001b[0m\" 200 -\n",
      "2020-01-31 06:18:30,803 - werkzeug - INFO - 127.0.0.1 - - [31/Jan/2020 06:18:30] \"\u001b[37mGET /_dash-component-suites/dash_html_components/dash_html_components.min.js?v=1.0.0&m=1574289295 HTTP/1.1\u001b[0m\" 200 -\n",
      "2020-01-31 06:18:30,823 - werkzeug - INFO - 127.0.0.1 - - [31/Jan/2020 06:18:30] \"\u001b[37mGET /_dash-component-suites/dash_table/bundle.js?v=4.0.1&m=1574289295 HTTP/1.1\u001b[0m\" 200 -\n",
      "2020-01-31 06:18:30,852 - werkzeug - INFO - 127.0.0.1 - - [31/Jan/2020 06:18:30] \"\u001b[37mGET /_dash-component-suites/dash_renderer/dash_renderer.min.js?v=1.0.0&m=1574289295 HTTP/1.1\u001b[0m\" 200 -\n",
      "2020-01-31 06:18:30,884 - werkzeug - INFO - 127.0.0.1 - - [31/Jan/2020 06:18:30] \"\u001b[37mGET /_dash-component-suites/dash_core_components/dash_core_components.min.js?v=1.0.0&m=1574289294 HTTP/1.1\u001b[0m\" 200 -\n",
      "2020-01-31 06:18:31,052 - werkzeug - INFO - 127.0.0.1 - - [31/Jan/2020 06:18:31] \"\u001b[37mGET /_dash-component-suites/dash_core_components/plotly-1.48.3.min.js?v=1.0.0&m=1574289294 HTTP/1.1\u001b[0m\" 200 -\n",
      "2020-01-31 06:18:31,526 - werkzeug - INFO - 127.0.0.1 - - [31/Jan/2020 06:18:31] \"\u001b[37mGET /_dash-dependencies HTTP/1.1\u001b[0m\" 200 -\n",
      "2020-01-31 06:18:31,526 - werkzeug - INFO - 127.0.0.1 - - [31/Jan/2020 06:18:31] \"\u001b[37mGET /_dash-layout HTTP/1.1\u001b[0m\" 200 -\n"
     ]
    },
    {
     "data": {
      "text/plain": [
       "<dash.dash.Dash at 0x11cbe2860>"
      ]
     },
     "execution_count": 224,
     "metadata": {},
     "output_type": "execute_result"
    }
   ],
   "source": [
    "df1 = df.copy()\n",
    "df1['z'] = df1.y*-1\n",
    "df1['w'] = df1.z + np.random.normal(size=len(df1))\n",
    "df1 = df1[['x','y','z','w']]\n",
    "a = ddfc.TableInput('mytable1',initial_data=df1,title='test table 1',logger=logger)\n",
    "b = ddfc.XYGraphSimple('myfig1',initial_data=df1,title='test table 1',\n",
    "        use_yaxis2=True,logger=logger)\n",
    "df2 = df1.copy()\n",
    "df2.y = df2.x * .1 + np.random.normal(size=len(df2))\n",
    "df2['z'] = df2.y*-1\n",
    "df2['w'] = df2.z + np.random.normal(size=len(df2))\n",
    "c = a.clone('mytable2',initial_data=df2,title='test table 2')\n",
    "d = b.clone('myfig2',initial_data=df2,title='test table 2')\n",
    "e = a.clone('mytable3',title='test table 3')\n",
    "comp_list = [a,b,c,d,e]\n",
    "ll = ['1fr 1fr','1fr 1fr','1fr']\n",
    "quickapp(comp_list,layout_list=ll,runit=True)\n"
   ]
  },
  {
   "cell_type": "code",
   "execution_count": null,
   "metadata": {},
   "outputs": [],
   "source": []
  }
 ],
 "metadata": {
  "kernelspec": {
   "display_name": "Python 3",
   "language": "python",
   "name": "python3"
  },
  "language_info": {
   "codemirror_mode": {
    "name": "ipython",
    "version": 3
   },
   "file_extension": ".py",
   "mimetype": "text/x-python",
   "name": "python",
   "nbconvert_exporter": "python",
   "pygments_lexer": "ipython3",
   "version": "3.6.5"
  }
 },
 "nbformat": 4,
 "nbformat_minor": 2
}
