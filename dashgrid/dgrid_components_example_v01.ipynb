{
 "cells": [
  {
   "cell_type": "code",
   "execution_count": 18,
   "metadata": {},
   "outputs": [
    {
     "data": {
      "text/html": [
       "<script>requirejs.config({paths: { 'plotly': ['https://cdn.plot.ly/plotly-latest.min']},});if(!window.Plotly) {{require(['plotly'],function(plotly) {window.Plotly=plotly;});}}</script>"
      ],
      "text/vnd.plotly.v1+html": [
       "<script>requirejs.config({paths: { 'plotly': ['https://cdn.plot.ly/plotly-latest.min']},});if(!window.Plotly) {{require(['plotly'],function(plotly) {window.Plotly=plotly;});}}</script>"
      ]
     },
     "metadata": {},
     "output_type": "display_data"
    }
   ],
   "source": [
    "from IPython.display import display\n",
    "import dash\n",
    "import sys,os\n",
    "if  not os.path.abspath('./') in sys.path:\n",
    "    sys.path.append(os.path.abspath('./'))\n",
    "if  not os.path.abspath('../') in sys.path:\n",
    "    sys.path.append(os.path.abspath('../'))\n",
    "\n",
    "import datetime\n",
    "import pandas as pd\n",
    "import numpy as np\n",
    "from dashgrid import dgrid_components as dgc\n",
    "import matplotlib.pyplot as plt\n",
    "import plotly.graph_objs as go\n",
    "from plotly.offline import  init_notebook_mode, iplot\n",
    "init_notebook_mode(connected=True)\n"
   ]
  },
  {
   "cell_type": "code",
   "execution_count": 19,
   "metadata": {},
   "outputs": [],
   "source": [
    "all_days=1000\n",
    "end_date = datetime.datetime.now()\n",
    "beg_date = end_date - datetime.timedelta(all_days)\n",
    "date_series = pd.bdate_range(beg_date,end_date)\n",
    "trade_dates = date_series.astype(str).str.replace('-','').astype(int)\n",
    "n = len(trade_dates)\n",
    "changes = np.random.lognormal(0,.15/256**.5,n-1)\n",
    "initial = np.array([100.0])\n",
    "closes = np.cumprod(np.append(initial,changes)).round(2)\n",
    "open_ranges = np.random.lognormal(0,.3/256**.5,n)\n",
    "opens = (closes * open_ranges).round(2)\n",
    "low_ranges = np.random.lognormal(.1,.2/256**.5,n)\n",
    "lows = np.array([min(x,y) for x,y in zip(opens,closes)]) - low_ranges\n",
    "lows = lows.round(2)\n",
    "high_ranges = np.random.lognormal(.1,.2/256**.5,n)\n",
    "highs = np.array([max(x,y) for x,y in zip(opens,closes)]) + high_ranges\n",
    "highs = highs.round(2)\n",
    "\n",
    "volume_changes = np.random.lognormal(0,.50/256**.5,n-1)\n",
    "initial_volume = np.array([1000000.0]) * np.random.lognormal(0,.15/256**.5)\n",
    "volumes = np.cumprod(np.append(initial_volume,volume_changes)).round(0)\n",
    "\n",
    "\n",
    "df_pseudo = dgc.make_df({'date':trade_dates,'open':opens,'high':highs,'low':lows,\n",
    "                  'close':closes,'volume':volumes})\n"
   ]
  },
  {
   "cell_type": "code",
   "execution_count": 20,
   "metadata": {},
   "outputs": [
    {
     "data": {
      "application/vnd.plotly.v1+json": {
       "data": [
        {
         "hoverinfo": "text",
         "mode": "markers",
         "text": [
          "date: 20190520.0<br>open: 113.17<br>high: 116.38<br>low: 112.08<br>close: 115.27<br>volume: 621296.0",
          "date: 20190521.0<br>open: 116.65<br>high: 117.73<br>low: 115.22<br>close: 116.3<br>volume: 637415.0",
          "date: 20190522.0<br>open: 119.77<br>high: 120.86<br>low: 115.81<br>close: 116.9<br>volume: 624952.0",
          "date: 20190523.0<br>open: 114.74<br>high: 117.44<br>low: 113.63<br>close: 116.33<br>volume: 638266.0",
          "date: 20190524.0<br>open: 115.6<br>high: 119.2<br>low: 114.5<br>close: 118.12<br>volume: 658410.0",
          "date: 20190527.0<br>open: 120.11<br>high: 121.34<br>low: 119.0<br>close: 120.23<br>volume: 651406.0",
          "date: 20190528.0<br>open: 123.02<br>high: 124.12<br>low: 117.7<br>close: 118.81<br>volume: 631331.0",
          "date: 20190529.0<br>open: 120.27<br>high: 121.81<br>low: 119.17<br>close: 120.69<br>volume: 632221.0",
          "date: 20190530.0<br>open: 117.16<br>high: 122.11<br>low: 116.06<br>close: 120.99<br>volume: 628629.0",
          "date: 20190531.0<br>open: 114.18<br>high: 120.76<br>low: 113.08<br>close: 119.66<br>volume: 608881.0",
          "date: 20190603.0<br>open: 119.86<br>high: 120.97<br>low: 118.65<br>close: 119.75<br>volume: 617873.0",
          "date: 20190604.0<br>open: 123.74<br>high: 124.86<br>low: 120.24<br>close: 121.34<br>volume: 590308.0",
          "date: 20190605.0<br>open: 124.41<br>high: 125.53<br>low: 119.29<br>close: 120.42<br>volume: 598560.0",
          "date: 20190606.0<br>open: 118.32<br>high: 119.9<br>low: 117.21<br>close: 118.8<br>volume: 613607.0",
          "date: 20190607.0<br>open: 117.23<br>high: 119.02<br>low: 116.12<br>close: 117.92<br>volume: 600460.0",
          "date: 20190610.0<br>open: 119.57<br>high: 120.67<br>low: 116.09<br>close: 117.21<br>volume: 582002.0",
          "date: 20190611.0<br>open: 116.89<br>high: 118.0<br>low: 115.11<br>close: 116.22<br>volume: 600948.0",
          "date: 20190612.0<br>open: 119.49<br>high: 120.59<br>low: 115.76<br>close: 116.86<br>volume: 607977.0",
          "date: 20190613.0<br>open: 119.34<br>high: 120.44<br>low: 115.94<br>close: 117.04<br>volume: 635485.0",
          "date: 20190614.0<br>open: 114.43<br>high: 117.99<br>low: 113.33<br>close: 116.89<br>volume: 598369.0",
          "date: 20190617.0<br>open: 114.71<br>high: 117.6<br>low: 113.6<br>close: 116.48<br>volume: 606158.0",
          "date: 20190618.0<br>open: 112.72<br>high: 115.98<br>low: 111.62<br>close: 114.89<br>volume: 577935.0",
          "date: 20190619.0<br>open: 111.11<br>high: 115.51<br>low: 110.0<br>close: 114.4<br>volume: 574633.0",
          "date: 20190620.0<br>open: 113.29<br>high: 116.26<br>low: 112.21<br>close: 115.14<br>volume: 561866.0",
          "date: 20190621.0<br>open: 114.48<br>high: 116.44<br>low: 113.37<br>close: 115.33<br>volume: 565476.0",
          "date: 20190624.0<br>open: 118.24<br>high: 119.35<br>low: 114.98<br>close: 116.09<br>volume: 540917.0",
          "date: 20190625.0<br>open: 114.9<br>high: 116.15<br>low: 113.79<br>close: 115.05<br>volume: 518474.0",
          "date: 20190626.0<br>open: 114.04<br>high: 116.09<br>low: 112.94<br>close: 114.99<br>volume: 494450.0",
          "date: 20190627.0<br>open: 118.27<br>high: 119.38<br>low: 114.06<br>close: 115.18<br>volume: 460489.0",
          "date: 20190628.0<br>open: 114.93<br>high: 116.62<br>low: 113.8<br>close: 115.52<br>volume: 463312.0",
          "date: 20190701.0<br>open: 117.51<br>high: 119.73<br>low: 116.43<br>close: 118.62<br>volume: 457218.0",
          "date: 20190702.0<br>open: 120.89<br>high: 122.01<br>low: 119.25<br>close: 120.36<br>volume: 424215.0",
          "date: 20190703.0<br>open: 123.45<br>high: 124.56<br>low: 122.14<br>close: 123.25<br>volume: 426738.0",
          "date: 20190704.0<br>open: 123.46<br>high: 124.85<br>low: 122.34<br>close: 123.75<br>volume: 425519.0",
          "date: 20190705.0<br>open: 123.89<br>high: 126.4<br>low: 122.8<br>close: 125.29<br>volume: 437601.0",
          "date: 20190708.0<br>open: 124.17<br>high: 125.79<br>low: 123.07<br>close: 124.68<br>volume: 449370.0",
          "date: 20190709.0<br>open: 124.54<br>high: 126.61<br>low: 123.44<br>close: 125.5<br>volume: 463888.0",
          "date: 20190710.0<br>open: 126.86<br>high: 127.98<br>low: 123.26<br>close: 124.38<br>volume: 488137.0",
          "date: 20190711.0<br>open: 124.54<br>high: 126.81<br>low: 123.44<br>close: 125.74<br>volume: 491364.0",
          "date: 20190712.0<br>open: 123.83<br>high: 125.94<br>low: 122.73<br>close: 124.83<br>volume: 481009.0",
          "date: 20190715.0<br>open: 125.32<br>high: 126.44<br>low: 123.66<br>close: 124.75<br>volume: 489067.0",
          "date: 20190716.0<br>open: 122.8<br>high: 125.08<br>low: 121.69<br>close: 123.99<br>volume: 481316.0",
          "date: 20190717.0<br>open: 123.04<br>high: 124.13<br>low: 121.67<br>close: 122.76<br>volume: 474061.0",
          "date: 20190718.0<br>open: 121.68<br>high: 122.77<br>low: 120.54<br>close: 121.65<br>volume: 447968.0",
          "date: 20190719.0<br>open: 124.09<br>high: 125.19<br>low: 120.26<br>close: 121.37<br>volume: 439282.0",
          "date: 20190722.0<br>open: 118.08<br>high: 121.53<br>low: 116.97<br>close: 120.43<br>volume: 449222.0",
          "date: 20190723.0<br>open: 120.1<br>high: 121.21<br>low: 118.29<br>close: 119.4<br>volume: 463633.0",
          "date: 20190724.0<br>open: 123.71<br>high: 124.82<br>low: 118.76<br>close: 119.86<br>volume: 455947.0",
          "date: 20190725.0<br>open: 123.37<br>high: 124.47<br>low: 120.43<br>close: 121.52<br>volume: 472954.0",
          "date: 20190726.0<br>open: 120.35<br>high: 121.72<br>low: 119.23<br>close: 120.61<br>volume: 465064.0"
         ],
         "type": "scatter",
         "uid": "c4a012c0-afa5-11e9-a5a1-8c859025e7f9",
         "x": [
          1,
          2,
          3,
          4,
          5,
          6,
          7,
          8,
          9,
          10,
          11,
          12,
          13,
          14,
          15,
          16,
          17,
          18,
          19,
          20,
          21,
          22,
          23,
          24,
          25,
          26,
          27,
          28,
          29,
          30,
          31,
          32,
          33,
          34,
          35,
          36,
          37,
          38,
          39,
          40,
          41,
          42,
          43,
          44,
          45,
          46,
          47,
          48,
          49,
          50
         ],
         "xaxis": "x",
         "y": [
          115.27,
          116.3,
          116.9,
          116.33,
          118.12,
          120.23,
          118.81,
          120.69,
          120.99,
          119.66,
          119.75,
          121.34,
          120.42,
          118.8,
          117.92,
          117.21,
          116.22,
          116.86,
          117.04,
          116.89,
          116.48,
          114.89,
          114.4,
          115.14,
          115.33,
          116.09,
          115.05,
          114.99,
          115.18,
          115.52,
          118.62,
          120.36,
          123.25,
          123.75,
          125.29,
          124.68,
          125.5,
          124.38,
          125.74,
          124.83,
          124.75,
          123.99,
          122.76,
          121.65,
          121.37,
          120.43,
          119.4,
          119.86,
          121.52,
          120.61
         ],
         "yaxis": "y"
        },
        {
         "type": "bar",
         "uid": "c4a03106-afa5-11e9-8e1b-8c859025e7f9",
         "width": 0.5,
         "x": [
          1,
          2,
          3,
          4,
          5,
          6,
          7,
          8,
          9,
          10,
          11,
          12,
          13,
          14,
          15,
          16,
          17,
          18,
          19,
          20,
          21,
          22,
          23,
          24,
          25,
          26,
          27,
          28,
          29,
          30,
          31,
          32,
          33,
          34,
          35,
          36,
          37,
          38,
          39,
          40,
          41,
          42,
          43,
          44,
          45,
          46,
          47,
          48,
          49,
          50
         ],
         "xaxis": "x",
         "y": [
          621296,
          637415,
          624952,
          638266,
          658410,
          651406,
          631331,
          632221,
          628629,
          608881,
          617873,
          590308,
          598560,
          613607,
          600460,
          582002,
          600948,
          607977,
          635485,
          598369,
          606158,
          577935,
          574633,
          561866,
          565476,
          540917,
          518474,
          494450,
          460489,
          463312,
          457218,
          424215,
          426738,
          425519,
          437601,
          449370,
          463888,
          488137,
          491364,
          481009,
          489067,
          481316,
          474061,
          447968,
          439282,
          449222,
          463633,
          455947,
          472954,
          465064
         ],
         "yaxis": "y2"
        }
       ],
       "layout": {
        "margin": {
         "t": 100
        },
        "shapes": [
         {
          "line": {
           "color": "rgb(55, 128, 191)",
           "width": 1.5
          },
          "type": "line",
          "x0": 1,
          "x1": 1,
          "y0": 112.08,
          "y1": 113.17
         },
         {
          "line": {
           "color": "rgb(55, 128, 191)",
           "width": 1.5
          },
          "type": "line",
          "x0": 2,
          "x1": 2,
          "y0": 115.22,
          "y1": 116.3
         },
         {
          "line": {
           "color": "rgb(55, 128, 191)",
           "width": 1.5
          },
          "type": "line",
          "x0": 3,
          "x1": 3,
          "y0": 115.81,
          "y1": 116.9
         },
         {
          "line": {
           "color": "rgb(55, 128, 191)",
           "width": 1.5
          },
          "type": "line",
          "x0": 4,
          "x1": 4,
          "y0": 113.63,
          "y1": 114.74
         },
         {
          "line": {
           "color": "rgb(55, 128, 191)",
           "width": 1.5
          },
          "type": "line",
          "x0": 5,
          "x1": 5,
          "y0": 114.5,
          "y1": 115.6
         },
         {
          "line": {
           "color": "rgb(55, 128, 191)",
           "width": 1.5
          },
          "type": "line",
          "x0": 6,
          "x1": 6,
          "y0": 119,
          "y1": 120.11
         },
         {
          "line": {
           "color": "rgb(55, 128, 191)",
           "width": 1.5
          },
          "type": "line",
          "x0": 7,
          "x1": 7,
          "y0": 117.7,
          "y1": 118.81
         },
         {
          "line": {
           "color": "rgb(55, 128, 191)",
           "width": 1.5
          },
          "type": "line",
          "x0": 8,
          "x1": 8,
          "y0": 119.17,
          "y1": 120.27
         },
         {
          "line": {
           "color": "rgb(55, 128, 191)",
           "width": 1.5
          },
          "type": "line",
          "x0": 9,
          "x1": 9,
          "y0": 116.06,
          "y1": 117.16
         },
         {
          "line": {
           "color": "rgb(55, 128, 191)",
           "width": 1.5
          },
          "type": "line",
          "x0": 10,
          "x1": 10,
          "y0": 113.08,
          "y1": 114.18
         },
         {
          "line": {
           "color": "rgb(55, 128, 191)",
           "width": 1.5
          },
          "type": "line",
          "x0": 11,
          "x1": 11,
          "y0": 118.65,
          "y1": 119.75
         },
         {
          "line": {
           "color": "rgb(55, 128, 191)",
           "width": 1.5
          },
          "type": "line",
          "x0": 12,
          "x1": 12,
          "y0": 120.24,
          "y1": 121.34
         },
         {
          "line": {
           "color": "rgb(55, 128, 191)",
           "width": 1.5
          },
          "type": "line",
          "x0": 13,
          "x1": 13,
          "y0": 119.29,
          "y1": 120.42
         },
         {
          "line": {
           "color": "rgb(55, 128, 191)",
           "width": 1.5
          },
          "type": "line",
          "x0": 14,
          "x1": 14,
          "y0": 117.21,
          "y1": 118.32
         },
         {
          "line": {
           "color": "rgb(55, 128, 191)",
           "width": 1.5
          },
          "type": "line",
          "x0": 15,
          "x1": 15,
          "y0": 116.12,
          "y1": 117.23
         },
         {
          "line": {
           "color": "rgb(55, 128, 191)",
           "width": 1.5
          },
          "type": "line",
          "x0": 16,
          "x1": 16,
          "y0": 116.09,
          "y1": 117.21
         },
         {
          "line": {
           "color": "rgb(55, 128, 191)",
           "width": 1.5
          },
          "type": "line",
          "x0": 17,
          "x1": 17,
          "y0": 115.11,
          "y1": 116.22
         },
         {
          "line": {
           "color": "rgb(55, 128, 191)",
           "width": 1.5
          },
          "type": "line",
          "x0": 18,
          "x1": 18,
          "y0": 115.76,
          "y1": 116.86
         },
         {
          "line": {
           "color": "rgb(55, 128, 191)",
           "width": 1.5
          },
          "type": "line",
          "x0": 19,
          "x1": 19,
          "y0": 115.94,
          "y1": 117.04
         },
         {
          "line": {
           "color": "rgb(55, 128, 191)",
           "width": 1.5
          },
          "type": "line",
          "x0": 20,
          "x1": 20,
          "y0": 113.33,
          "y1": 114.43
         },
         {
          "line": {
           "color": "rgb(55, 128, 191)",
           "width": 1.5
          },
          "type": "line",
          "x0": 21,
          "x1": 21,
          "y0": 113.6,
          "y1": 114.71
         },
         {
          "line": {
           "color": "rgb(55, 128, 191)",
           "width": 1.5
          },
          "type": "line",
          "x0": 22,
          "x1": 22,
          "y0": 111.62,
          "y1": 112.72
         },
         {
          "line": {
           "color": "rgb(55, 128, 191)",
           "width": 1.5
          },
          "type": "line",
          "x0": 23,
          "x1": 23,
          "y0": 110,
          "y1": 111.11
         },
         {
          "line": {
           "color": "rgb(55, 128, 191)",
           "width": 1.5
          },
          "type": "line",
          "x0": 24,
          "x1": 24,
          "y0": 112.21,
          "y1": 113.29
         },
         {
          "line": {
           "color": "rgb(55, 128, 191)",
           "width": 1.5
          },
          "type": "line",
          "x0": 25,
          "x1": 25,
          "y0": 113.37,
          "y1": 114.48
         },
         {
          "line": {
           "color": "rgb(55, 128, 191)",
           "width": 1.5
          },
          "type": "line",
          "x0": 26,
          "x1": 26,
          "y0": 114.98,
          "y1": 116.09
         },
         {
          "line": {
           "color": "rgb(55, 128, 191)",
           "width": 1.5
          },
          "type": "line",
          "x0": 27,
          "x1": 27,
          "y0": 113.79,
          "y1": 114.9
         },
         {
          "line": {
           "color": "rgb(55, 128, 191)",
           "width": 1.5
          },
          "type": "line",
          "x0": 28,
          "x1": 28,
          "y0": 112.94,
          "y1": 114.04
         },
         {
          "line": {
           "color": "rgb(55, 128, 191)",
           "width": 1.5
          },
          "type": "line",
          "x0": 29,
          "x1": 29,
          "y0": 114.06,
          "y1": 115.18
         },
         {
          "line": {
           "color": "rgb(55, 128, 191)",
           "width": 1.5
          },
          "type": "line",
          "x0": 30,
          "x1": 30,
          "y0": 113.8,
          "y1": 114.93
         },
         {
          "line": {
           "color": "rgb(55, 128, 191)",
           "width": 1.5
          },
          "type": "line",
          "x0": 31,
          "x1": 31,
          "y0": 116.43,
          "y1": 117.51
         },
         {
          "line": {
           "color": "rgb(55, 128, 191)",
           "width": 1.5
          },
          "type": "line",
          "x0": 32,
          "x1": 32,
          "y0": 119.25,
          "y1": 120.36
         },
         {
          "line": {
           "color": "rgb(55, 128, 191)",
           "width": 1.5
          },
          "type": "line",
          "x0": 33,
          "x1": 33,
          "y0": 122.14,
          "y1": 123.25
         },
         {
          "line": {
           "color": "rgb(55, 128, 191)",
           "width": 1.5
          },
          "type": "line",
          "x0": 34,
          "x1": 34,
          "y0": 122.34,
          "y1": 123.46
         },
         {
          "line": {
           "color": "rgb(55, 128, 191)",
           "width": 1.5
          },
          "type": "line",
          "x0": 35,
          "x1": 35,
          "y0": 122.8,
          "y1": 123.89
         },
         {
          "line": {
           "color": "rgb(55, 128, 191)",
           "width": 1.5
          },
          "type": "line",
          "x0": 36,
          "x1": 36,
          "y0": 123.07,
          "y1": 124.17
         },
         {
          "line": {
           "color": "rgb(55, 128, 191)",
           "width": 1.5
          },
          "type": "line",
          "x0": 37,
          "x1": 37,
          "y0": 123.44,
          "y1": 124.54
         },
         {
          "line": {
           "color": "rgb(55, 128, 191)",
           "width": 1.5
          },
          "type": "line",
          "x0": 38,
          "x1": 38,
          "y0": 123.26,
          "y1": 124.38
         },
         {
          "line": {
           "color": "rgb(55, 128, 191)",
           "width": 1.5
          },
          "type": "line",
          "x0": 39,
          "x1": 39,
          "y0": 123.44,
          "y1": 124.54
         },
         {
          "line": {
           "color": "rgb(55, 128, 191)",
           "width": 1.5
          },
          "type": "line",
          "x0": 40,
          "x1": 40,
          "y0": 122.73,
          "y1": 123.83
         },
         {
          "line": {
           "color": "rgb(55, 128, 191)",
           "width": 1.5
          },
          "type": "line",
          "x0": 41,
          "x1": 41,
          "y0": 123.66,
          "y1": 124.75
         },
         {
          "line": {
           "color": "rgb(55, 128, 191)",
           "width": 1.5
          },
          "type": "line",
          "x0": 42,
          "x1": 42,
          "y0": 121.69,
          "y1": 122.8
         },
         {
          "line": {
           "color": "rgb(55, 128, 191)",
           "width": 1.5
          },
          "type": "line",
          "x0": 43,
          "x1": 43,
          "y0": 121.67,
          "y1": 122.76
         },
         {
          "line": {
           "color": "rgb(55, 128, 191)",
           "width": 1.5
          },
          "type": "line",
          "x0": 44,
          "x1": 44,
          "y0": 120.54,
          "y1": 121.65
         },
         {
          "line": {
           "color": "rgb(55, 128, 191)",
           "width": 1.5
          },
          "type": "line",
          "x0": 45,
          "x1": 45,
          "y0": 120.26,
          "y1": 121.37
         },
         {
          "line": {
           "color": "rgb(55, 128, 191)",
           "width": 1.5
          },
          "type": "line",
          "x0": 46,
          "x1": 46,
          "y0": 116.97,
          "y1": 118.08
         },
         {
          "line": {
           "color": "rgb(55, 128, 191)",
           "width": 1.5
          },
          "type": "line",
          "x0": 47,
          "x1": 47,
          "y0": 118.29,
          "y1": 119.4
         },
         {
          "line": {
           "color": "rgb(55, 128, 191)",
           "width": 1.5
          },
          "type": "line",
          "x0": 48,
          "x1": 48,
          "y0": 118.76,
          "y1": 119.86
         },
         {
          "line": {
           "color": "rgb(55, 128, 191)",
           "width": 1.5
          },
          "type": "line",
          "x0": 49,
          "x1": 49,
          "y0": 120.43,
          "y1": 121.52
         },
         {
          "line": {
           "color": "rgb(55, 128, 191)",
           "width": 1.5
          },
          "type": "line",
          "x0": 50,
          "x1": 50,
          "y0": 119.23,
          "y1": 120.35
         },
         {
          "fillcolor": "rgba(0, 204, 0, 0.6)",
          "line": {
           "color": "rgb(55, 128, 191)",
           "width": 1
          },
          "type": "rect",
          "x0": 0.75,
          "x1": 1.25,
          "xref": "x",
          "y0": 113.17,
          "y1": 115.27,
          "yref": "y"
         },
         {
          "fillcolor": "rgba(255, 0, 0, 0.6)",
          "line": {
           "color": "rgb(55, 128, 191)",
           "width": 1
          },
          "type": "rect",
          "x0": 1.75,
          "x1": 2.25,
          "xref": "x",
          "y0": 116.3,
          "y1": 116.65,
          "yref": "y"
         },
         {
          "fillcolor": "rgba(255, 0, 0, 0.6)",
          "line": {
           "color": "rgb(55, 128, 191)",
           "width": 1
          },
          "type": "rect",
          "x0": 2.75,
          "x1": 3.25,
          "xref": "x",
          "y0": 116.9,
          "y1": 119.77,
          "yref": "y"
         },
         {
          "fillcolor": "rgba(0, 204, 0, 0.6)",
          "line": {
           "color": "rgb(55, 128, 191)",
           "width": 1
          },
          "type": "rect",
          "x0": 3.75,
          "x1": 4.25,
          "xref": "x",
          "y0": 114.74,
          "y1": 116.33,
          "yref": "y"
         },
         {
          "fillcolor": "rgba(0, 204, 0, 0.6)",
          "line": {
           "color": "rgb(55, 128, 191)",
           "width": 1
          },
          "type": "rect",
          "x0": 4.75,
          "x1": 5.25,
          "xref": "x",
          "y0": 115.6,
          "y1": 118.12,
          "yref": "y"
         },
         {
          "fillcolor": "rgba(0, 204, 0, 0.6)",
          "line": {
           "color": "rgb(55, 128, 191)",
           "width": 1
          },
          "type": "rect",
          "x0": 5.75,
          "x1": 6.25,
          "xref": "x",
          "y0": 120.11,
          "y1": 120.23,
          "yref": "y"
         },
         {
          "fillcolor": "rgba(255, 0, 0, 0.6)",
          "line": {
           "color": "rgb(55, 128, 191)",
           "width": 1
          },
          "type": "rect",
          "x0": 6.75,
          "x1": 7.25,
          "xref": "x",
          "y0": 118.81,
          "y1": 123.02,
          "yref": "y"
         },
         {
          "fillcolor": "rgba(0, 204, 0, 0.6)",
          "line": {
           "color": "rgb(55, 128, 191)",
           "width": 1
          },
          "type": "rect",
          "x0": 7.75,
          "x1": 8.25,
          "xref": "x",
          "y0": 120.27,
          "y1": 120.69,
          "yref": "y"
         },
         {
          "fillcolor": "rgba(0, 204, 0, 0.6)",
          "line": {
           "color": "rgb(55, 128, 191)",
           "width": 1
          },
          "type": "rect",
          "x0": 8.75,
          "x1": 9.25,
          "xref": "x",
          "y0": 117.16,
          "y1": 120.99,
          "yref": "y"
         },
         {
          "fillcolor": "rgba(0, 204, 0, 0.6)",
          "line": {
           "color": "rgb(55, 128, 191)",
           "width": 1
          },
          "type": "rect",
          "x0": 9.75,
          "x1": 10.25,
          "xref": "x",
          "y0": 114.18,
          "y1": 119.66,
          "yref": "y"
         },
         {
          "fillcolor": "rgba(255, 0, 0, 0.6)",
          "line": {
           "color": "rgb(55, 128, 191)",
           "width": 1
          },
          "type": "rect",
          "x0": 10.75,
          "x1": 11.25,
          "xref": "x",
          "y0": 119.75,
          "y1": 119.86,
          "yref": "y"
         },
         {
          "fillcolor": "rgba(255, 0, 0, 0.6)",
          "line": {
           "color": "rgb(55, 128, 191)",
           "width": 1
          },
          "type": "rect",
          "x0": 11.75,
          "x1": 12.25,
          "xref": "x",
          "y0": 121.34,
          "y1": 123.74,
          "yref": "y"
         },
         {
          "fillcolor": "rgba(255, 0, 0, 0.6)",
          "line": {
           "color": "rgb(55, 128, 191)",
           "width": 1
          },
          "type": "rect",
          "x0": 12.75,
          "x1": 13.25,
          "xref": "x",
          "y0": 120.42,
          "y1": 124.41,
          "yref": "y"
         },
         {
          "fillcolor": "rgba(0, 204, 0, 0.6)",
          "line": {
           "color": "rgb(55, 128, 191)",
           "width": 1
          },
          "type": "rect",
          "x0": 13.75,
          "x1": 14.25,
          "xref": "x",
          "y0": 118.32,
          "y1": 118.8,
          "yref": "y"
         },
         {
          "fillcolor": "rgba(0, 204, 0, 0.6)",
          "line": {
           "color": "rgb(55, 128, 191)",
           "width": 1
          },
          "type": "rect",
          "x0": 14.75,
          "x1": 15.25,
          "xref": "x",
          "y0": 117.23,
          "y1": 117.92,
          "yref": "y"
         },
         {
          "fillcolor": "rgba(255, 0, 0, 0.6)",
          "line": {
           "color": "rgb(55, 128, 191)",
           "width": 1
          },
          "type": "rect",
          "x0": 15.75,
          "x1": 16.25,
          "xref": "x",
          "y0": 117.21,
          "y1": 119.57,
          "yref": "y"
         },
         {
          "fillcolor": "rgba(255, 0, 0, 0.6)",
          "line": {
           "color": "rgb(55, 128, 191)",
           "width": 1
          },
          "type": "rect",
          "x0": 16.75,
          "x1": 17.25,
          "xref": "x",
          "y0": 116.22,
          "y1": 116.89,
          "yref": "y"
         },
         {
          "fillcolor": "rgba(255, 0, 0, 0.6)",
          "line": {
           "color": "rgb(55, 128, 191)",
           "width": 1
          },
          "type": "rect",
          "x0": 17.75,
          "x1": 18.25,
          "xref": "x",
          "y0": 116.86,
          "y1": 119.49,
          "yref": "y"
         },
         {
          "fillcolor": "rgba(255, 0, 0, 0.6)",
          "line": {
           "color": "rgb(55, 128, 191)",
           "width": 1
          },
          "type": "rect",
          "x0": 18.75,
          "x1": 19.25,
          "xref": "x",
          "y0": 117.04,
          "y1": 119.34,
          "yref": "y"
         },
         {
          "fillcolor": "rgba(0, 204, 0, 0.6)",
          "line": {
           "color": "rgb(55, 128, 191)",
           "width": 1
          },
          "type": "rect",
          "x0": 19.75,
          "x1": 20.25,
          "xref": "x",
          "y0": 114.43,
          "y1": 116.89,
          "yref": "y"
         },
         {
          "fillcolor": "rgba(0, 204, 0, 0.6)",
          "line": {
           "color": "rgb(55, 128, 191)",
           "width": 1
          },
          "type": "rect",
          "x0": 20.75,
          "x1": 21.25,
          "xref": "x",
          "y0": 114.71,
          "y1": 116.48,
          "yref": "y"
         },
         {
          "fillcolor": "rgba(0, 204, 0, 0.6)",
          "line": {
           "color": "rgb(55, 128, 191)",
           "width": 1
          },
          "type": "rect",
          "x0": 21.75,
          "x1": 22.25,
          "xref": "x",
          "y0": 112.72,
          "y1": 114.89,
          "yref": "y"
         },
         {
          "fillcolor": "rgba(0, 204, 0, 0.6)",
          "line": {
           "color": "rgb(55, 128, 191)",
           "width": 1
          },
          "type": "rect",
          "x0": 22.75,
          "x1": 23.25,
          "xref": "x",
          "y0": 111.11,
          "y1": 114.4,
          "yref": "y"
         },
         {
          "fillcolor": "rgba(0, 204, 0, 0.6)",
          "line": {
           "color": "rgb(55, 128, 191)",
           "width": 1
          },
          "type": "rect",
          "x0": 23.75,
          "x1": 24.25,
          "xref": "x",
          "y0": 113.29,
          "y1": 115.14,
          "yref": "y"
         },
         {
          "fillcolor": "rgba(0, 204, 0, 0.6)",
          "line": {
           "color": "rgb(55, 128, 191)",
           "width": 1
          },
          "type": "rect",
          "x0": 24.75,
          "x1": 25.25,
          "xref": "x",
          "y0": 114.48,
          "y1": 115.33,
          "yref": "y"
         },
         {
          "fillcolor": "rgba(255, 0, 0, 0.6)",
          "line": {
           "color": "rgb(55, 128, 191)",
           "width": 1
          },
          "type": "rect",
          "x0": 25.75,
          "x1": 26.25,
          "xref": "x",
          "y0": 116.09,
          "y1": 118.24,
          "yref": "y"
         },
         {
          "fillcolor": "rgba(0, 204, 0, 0.6)",
          "line": {
           "color": "rgb(55, 128, 191)",
           "width": 1
          },
          "type": "rect",
          "x0": 26.75,
          "x1": 27.25,
          "xref": "x",
          "y0": 114.9,
          "y1": 115.05,
          "yref": "y"
         },
         {
          "fillcolor": "rgba(0, 204, 0, 0.6)",
          "line": {
           "color": "rgb(55, 128, 191)",
           "width": 1
          },
          "type": "rect",
          "x0": 27.75,
          "x1": 28.25,
          "xref": "x",
          "y0": 114.04,
          "y1": 114.99,
          "yref": "y"
         },
         {
          "fillcolor": "rgba(255, 0, 0, 0.6)",
          "line": {
           "color": "rgb(55, 128, 191)",
           "width": 1
          },
          "type": "rect",
          "x0": 28.75,
          "x1": 29.25,
          "xref": "x",
          "y0": 115.18,
          "y1": 118.27,
          "yref": "y"
         },
         {
          "fillcolor": "rgba(0, 204, 0, 0.6)",
          "line": {
           "color": "rgb(55, 128, 191)",
           "width": 1
          },
          "type": "rect",
          "x0": 29.75,
          "x1": 30.25,
          "xref": "x",
          "y0": 114.93,
          "y1": 115.52,
          "yref": "y"
         },
         {
          "fillcolor": "rgba(0, 204, 0, 0.6)",
          "line": {
           "color": "rgb(55, 128, 191)",
           "width": 1
          },
          "type": "rect",
          "x0": 30.75,
          "x1": 31.25,
          "xref": "x",
          "y0": 117.51,
          "y1": 118.62,
          "yref": "y"
         },
         {
          "fillcolor": "rgba(255, 0, 0, 0.6)",
          "line": {
           "color": "rgb(55, 128, 191)",
           "width": 1
          },
          "type": "rect",
          "x0": 31.75,
          "x1": 32.25,
          "xref": "x",
          "y0": 120.36,
          "y1": 120.89,
          "yref": "y"
         },
         {
          "fillcolor": "rgba(255, 0, 0, 0.6)",
          "line": {
           "color": "rgb(55, 128, 191)",
           "width": 1
          },
          "type": "rect",
          "x0": 32.75,
          "x1": 33.25,
          "xref": "x",
          "y0": 123.25,
          "y1": 123.45,
          "yref": "y"
         },
         {
          "fillcolor": "rgba(0, 204, 0, 0.6)",
          "line": {
           "color": "rgb(55, 128, 191)",
           "width": 1
          },
          "type": "rect",
          "x0": 33.75,
          "x1": 34.25,
          "xref": "x",
          "y0": 123.46,
          "y1": 123.75,
          "yref": "y"
         },
         {
          "fillcolor": "rgba(0, 204, 0, 0.6)",
          "line": {
           "color": "rgb(55, 128, 191)",
           "width": 1
          },
          "type": "rect",
          "x0": 34.75,
          "x1": 35.25,
          "xref": "x",
          "y0": 123.89,
          "y1": 125.29,
          "yref": "y"
         },
         {
          "fillcolor": "rgba(0, 204, 0, 0.6)",
          "line": {
           "color": "rgb(55, 128, 191)",
           "width": 1
          },
          "type": "rect",
          "x0": 35.75,
          "x1": 36.25,
          "xref": "x",
          "y0": 124.17,
          "y1": 124.68,
          "yref": "y"
         },
         {
          "fillcolor": "rgba(0, 204, 0, 0.6)",
          "line": {
           "color": "rgb(55, 128, 191)",
           "width": 1
          },
          "type": "rect",
          "x0": 36.75,
          "x1": 37.25,
          "xref": "x",
          "y0": 124.54,
          "y1": 125.5,
          "yref": "y"
         },
         {
          "fillcolor": "rgba(255, 0, 0, 0.6)",
          "line": {
           "color": "rgb(55, 128, 191)",
           "width": 1
          },
          "type": "rect",
          "x0": 37.75,
          "x1": 38.25,
          "xref": "x",
          "y0": 124.38,
          "y1": 126.86,
          "yref": "y"
         },
         {
          "fillcolor": "rgba(0, 204, 0, 0.6)",
          "line": {
           "color": "rgb(55, 128, 191)",
           "width": 1
          },
          "type": "rect",
          "x0": 38.75,
          "x1": 39.25,
          "xref": "x",
          "y0": 124.54,
          "y1": 125.74,
          "yref": "y"
         },
         {
          "fillcolor": "rgba(0, 204, 0, 0.6)",
          "line": {
           "color": "rgb(55, 128, 191)",
           "width": 1
          },
          "type": "rect",
          "x0": 39.75,
          "x1": 40.25,
          "xref": "x",
          "y0": 123.83,
          "y1": 124.83,
          "yref": "y"
         },
         {
          "fillcolor": "rgba(255, 0, 0, 0.6)",
          "line": {
           "color": "rgb(55, 128, 191)",
           "width": 1
          },
          "type": "rect",
          "x0": 40.75,
          "x1": 41.25,
          "xref": "x",
          "y0": 124.75,
          "y1": 125.32,
          "yref": "y"
         },
         {
          "fillcolor": "rgba(0, 204, 0, 0.6)",
          "line": {
           "color": "rgb(55, 128, 191)",
           "width": 1
          },
          "type": "rect",
          "x0": 41.75,
          "x1": 42.25,
          "xref": "x",
          "y0": 122.8,
          "y1": 123.99,
          "yref": "y"
         },
         {
          "fillcolor": "rgba(255, 0, 0, 0.6)",
          "line": {
           "color": "rgb(55, 128, 191)",
           "width": 1
          },
          "type": "rect",
          "x0": 42.75,
          "x1": 43.25,
          "xref": "x",
          "y0": 122.76,
          "y1": 123.04,
          "yref": "y"
         },
         {
          "fillcolor": "rgba(255, 0, 0, 0.6)",
          "line": {
           "color": "rgb(55, 128, 191)",
           "width": 1
          },
          "type": "rect",
          "x0": 43.75,
          "x1": 44.25,
          "xref": "x",
          "y0": 121.65,
          "y1": 121.68,
          "yref": "y"
         },
         {
          "fillcolor": "rgba(255, 0, 0, 0.6)",
          "line": {
           "color": "rgb(55, 128, 191)",
           "width": 1
          },
          "type": "rect",
          "x0": 44.75,
          "x1": 45.25,
          "xref": "x",
          "y0": 121.37,
          "y1": 124.09,
          "yref": "y"
         },
         {
          "fillcolor": "rgba(0, 204, 0, 0.6)",
          "line": {
           "color": "rgb(55, 128, 191)",
           "width": 1
          },
          "type": "rect",
          "x0": 45.75,
          "x1": 46.25,
          "xref": "x",
          "y0": 118.08,
          "y1": 120.43,
          "yref": "y"
         },
         {
          "fillcolor": "rgba(255, 0, 0, 0.6)",
          "line": {
           "color": "rgb(55, 128, 191)",
           "width": 1
          },
          "type": "rect",
          "x0": 46.75,
          "x1": 47.25,
          "xref": "x",
          "y0": 119.4,
          "y1": 120.1,
          "yref": "y"
         },
         {
          "fillcolor": "rgba(255, 0, 0, 0.6)",
          "line": {
           "color": "rgb(55, 128, 191)",
           "width": 1
          },
          "type": "rect",
          "x0": 47.75,
          "x1": 48.25,
          "xref": "x",
          "y0": 119.86,
          "y1": 123.71,
          "yref": "y"
         },
         {
          "fillcolor": "rgba(255, 0, 0, 0.6)",
          "line": {
           "color": "rgb(55, 128, 191)",
           "width": 1
          },
          "type": "rect",
          "x0": 48.75,
          "x1": 49.25,
          "xref": "x",
          "y0": 121.52,
          "y1": 123.37,
          "yref": "y"
         },
         {
          "fillcolor": "rgba(0, 204, 0, 0.6)",
          "line": {
           "color": "rgb(55, 128, 191)",
           "width": 1
          },
          "type": "rect",
          "x0": 49.75,
          "x1": 50.25,
          "xref": "x",
          "y0": 120.35,
          "y1": 120.61,
          "yref": "y"
         },
         {
          "line": {
           "color": "rgb(55, 128, 191)",
           "width": 1.5
          },
          "type": "line",
          "x0": 1,
          "x1": 1,
          "y0": 115.27,
          "y1": 116.38
         },
         {
          "line": {
           "color": "rgb(55, 128, 191)",
           "width": 1.5
          },
          "type": "line",
          "x0": 2,
          "x1": 2,
          "y0": 116.65,
          "y1": 117.73
         },
         {
          "line": {
           "color": "rgb(55, 128, 191)",
           "width": 1.5
          },
          "type": "line",
          "x0": 3,
          "x1": 3,
          "y0": 119.77,
          "y1": 120.86
         },
         {
          "line": {
           "color": "rgb(55, 128, 191)",
           "width": 1.5
          },
          "type": "line",
          "x0": 4,
          "x1": 4,
          "y0": 116.33,
          "y1": 117.44
         },
         {
          "line": {
           "color": "rgb(55, 128, 191)",
           "width": 1.5
          },
          "type": "line",
          "x0": 5,
          "x1": 5,
          "y0": 118.12,
          "y1": 119.2
         },
         {
          "line": {
           "color": "rgb(55, 128, 191)",
           "width": 1.5
          },
          "type": "line",
          "x0": 6,
          "x1": 6,
          "y0": 120.23,
          "y1": 121.34
         },
         {
          "line": {
           "color": "rgb(55, 128, 191)",
           "width": 1.5
          },
          "type": "line",
          "x0": 7,
          "x1": 7,
          "y0": 123.02,
          "y1": 124.12
         },
         {
          "line": {
           "color": "rgb(55, 128, 191)",
           "width": 1.5
          },
          "type": "line",
          "x0": 8,
          "x1": 8,
          "y0": 120.69,
          "y1": 121.81
         },
         {
          "line": {
           "color": "rgb(55, 128, 191)",
           "width": 1.5
          },
          "type": "line",
          "x0": 9,
          "x1": 9,
          "y0": 120.99,
          "y1": 122.11
         },
         {
          "line": {
           "color": "rgb(55, 128, 191)",
           "width": 1.5
          },
          "type": "line",
          "x0": 10,
          "x1": 10,
          "y0": 119.66,
          "y1": 120.76
         },
         {
          "line": {
           "color": "rgb(55, 128, 191)",
           "width": 1.5
          },
          "type": "line",
          "x0": 11,
          "x1": 11,
          "y0": 119.86,
          "y1": 120.97
         },
         {
          "line": {
           "color": "rgb(55, 128, 191)",
           "width": 1.5
          },
          "type": "line",
          "x0": 12,
          "x1": 12,
          "y0": 123.74,
          "y1": 124.86
         },
         {
          "line": {
           "color": "rgb(55, 128, 191)",
           "width": 1.5
          },
          "type": "line",
          "x0": 13,
          "x1": 13,
          "y0": 124.41,
          "y1": 125.53
         },
         {
          "line": {
           "color": "rgb(55, 128, 191)",
           "width": 1.5
          },
          "type": "line",
          "x0": 14,
          "x1": 14,
          "y0": 118.8,
          "y1": 119.9
         },
         {
          "line": {
           "color": "rgb(55, 128, 191)",
           "width": 1.5
          },
          "type": "line",
          "x0": 15,
          "x1": 15,
          "y0": 117.92,
          "y1": 119.02
         },
         {
          "line": {
           "color": "rgb(55, 128, 191)",
           "width": 1.5
          },
          "type": "line",
          "x0": 16,
          "x1": 16,
          "y0": 119.57,
          "y1": 120.67
         },
         {
          "line": {
           "color": "rgb(55, 128, 191)",
           "width": 1.5
          },
          "type": "line",
          "x0": 17,
          "x1": 17,
          "y0": 116.89,
          "y1": 118
         },
         {
          "line": {
           "color": "rgb(55, 128, 191)",
           "width": 1.5
          },
          "type": "line",
          "x0": 18,
          "x1": 18,
          "y0": 119.49,
          "y1": 120.59
         },
         {
          "line": {
           "color": "rgb(55, 128, 191)",
           "width": 1.5
          },
          "type": "line",
          "x0": 19,
          "x1": 19,
          "y0": 119.34,
          "y1": 120.44
         },
         {
          "line": {
           "color": "rgb(55, 128, 191)",
           "width": 1.5
          },
          "type": "line",
          "x0": 20,
          "x1": 20,
          "y0": 116.89,
          "y1": 117.99
         },
         {
          "line": {
           "color": "rgb(55, 128, 191)",
           "width": 1.5
          },
          "type": "line",
          "x0": 21,
          "x1": 21,
          "y0": 116.48,
          "y1": 117.6
         },
         {
          "line": {
           "color": "rgb(55, 128, 191)",
           "width": 1.5
          },
          "type": "line",
          "x0": 22,
          "x1": 22,
          "y0": 114.89,
          "y1": 115.98
         },
         {
          "line": {
           "color": "rgb(55, 128, 191)",
           "width": 1.5
          },
          "type": "line",
          "x0": 23,
          "x1": 23,
          "y0": 114.4,
          "y1": 115.51
         },
         {
          "line": {
           "color": "rgb(55, 128, 191)",
           "width": 1.5
          },
          "type": "line",
          "x0": 24,
          "x1": 24,
          "y0": 115.14,
          "y1": 116.26
         },
         {
          "line": {
           "color": "rgb(55, 128, 191)",
           "width": 1.5
          },
          "type": "line",
          "x0": 25,
          "x1": 25,
          "y0": 115.33,
          "y1": 116.44
         },
         {
          "line": {
           "color": "rgb(55, 128, 191)",
           "width": 1.5
          },
          "type": "line",
          "x0": 26,
          "x1": 26,
          "y0": 118.24,
          "y1": 119.35
         },
         {
          "line": {
           "color": "rgb(55, 128, 191)",
           "width": 1.5
          },
          "type": "line",
          "x0": 27,
          "x1": 27,
          "y0": 115.05,
          "y1": 116.15
         },
         {
          "line": {
           "color": "rgb(55, 128, 191)",
           "width": 1.5
          },
          "type": "line",
          "x0": 28,
          "x1": 28,
          "y0": 114.99,
          "y1": 116.09
         },
         {
          "line": {
           "color": "rgb(55, 128, 191)",
           "width": 1.5
          },
          "type": "line",
          "x0": 29,
          "x1": 29,
          "y0": 118.27,
          "y1": 119.38
         },
         {
          "line": {
           "color": "rgb(55, 128, 191)",
           "width": 1.5
          },
          "type": "line",
          "x0": 30,
          "x1": 30,
          "y0": 115.52,
          "y1": 116.62
         },
         {
          "line": {
           "color": "rgb(55, 128, 191)",
           "width": 1.5
          },
          "type": "line",
          "x0": 31,
          "x1": 31,
          "y0": 118.62,
          "y1": 119.73
         },
         {
          "line": {
           "color": "rgb(55, 128, 191)",
           "width": 1.5
          },
          "type": "line",
          "x0": 32,
          "x1": 32,
          "y0": 120.89,
          "y1": 122.01
         },
         {
          "line": {
           "color": "rgb(55, 128, 191)",
           "width": 1.5
          },
          "type": "line",
          "x0": 33,
          "x1": 33,
          "y0": 123.45,
          "y1": 124.56
         },
         {
          "line": {
           "color": "rgb(55, 128, 191)",
           "width": 1.5
          },
          "type": "line",
          "x0": 34,
          "x1": 34,
          "y0": 123.75,
          "y1": 124.85
         },
         {
          "line": {
           "color": "rgb(55, 128, 191)",
           "width": 1.5
          },
          "type": "line",
          "x0": 35,
          "x1": 35,
          "y0": 125.29,
          "y1": 126.4
         },
         {
          "line": {
           "color": "rgb(55, 128, 191)",
           "width": 1.5
          },
          "type": "line",
          "x0": 36,
          "x1": 36,
          "y0": 124.68,
          "y1": 125.79
         },
         {
          "line": {
           "color": "rgb(55, 128, 191)",
           "width": 1.5
          },
          "type": "line",
          "x0": 37,
          "x1": 37,
          "y0": 125.5,
          "y1": 126.61
         },
         {
          "line": {
           "color": "rgb(55, 128, 191)",
           "width": 1.5
          },
          "type": "line",
          "x0": 38,
          "x1": 38,
          "y0": 126.86,
          "y1": 127.98
         },
         {
          "line": {
           "color": "rgb(55, 128, 191)",
           "width": 1.5
          },
          "type": "line",
          "x0": 39,
          "x1": 39,
          "y0": 125.74,
          "y1": 126.81
         },
         {
          "line": {
           "color": "rgb(55, 128, 191)",
           "width": 1.5
          },
          "type": "line",
          "x0": 40,
          "x1": 40,
          "y0": 124.83,
          "y1": 125.94
         },
         {
          "line": {
           "color": "rgb(55, 128, 191)",
           "width": 1.5
          },
          "type": "line",
          "x0": 41,
          "x1": 41,
          "y0": 125.32,
          "y1": 126.44
         },
         {
          "line": {
           "color": "rgb(55, 128, 191)",
           "width": 1.5
          },
          "type": "line",
          "x0": 42,
          "x1": 42,
          "y0": 123.99,
          "y1": 125.08
         },
         {
          "line": {
           "color": "rgb(55, 128, 191)",
           "width": 1.5
          },
          "type": "line",
          "x0": 43,
          "x1": 43,
          "y0": 123.04,
          "y1": 124.13
         },
         {
          "line": {
           "color": "rgb(55, 128, 191)",
           "width": 1.5
          },
          "type": "line",
          "x0": 44,
          "x1": 44,
          "y0": 121.68,
          "y1": 122.77
         },
         {
          "line": {
           "color": "rgb(55, 128, 191)",
           "width": 1.5
          },
          "type": "line",
          "x0": 45,
          "x1": 45,
          "y0": 124.09,
          "y1": 125.19
         },
         {
          "line": {
           "color": "rgb(55, 128, 191)",
           "width": 1.5
          },
          "type": "line",
          "x0": 46,
          "x1": 46,
          "y0": 120.43,
          "y1": 121.53
         },
         {
          "line": {
           "color": "rgb(55, 128, 191)",
           "width": 1.5
          },
          "type": "line",
          "x0": 47,
          "x1": 47,
          "y0": 120.1,
          "y1": 121.21
         },
         {
          "line": {
           "color": "rgb(55, 128, 191)",
           "width": 1.5
          },
          "type": "line",
          "x0": 48,
          "x1": 48,
          "y0": 123.71,
          "y1": 124.82
         },
         {
          "line": {
           "color": "rgb(55, 128, 191)",
           "width": 1.5
          },
          "type": "line",
          "x0": 49,
          "x1": 49,
          "y0": 123.37,
          "y1": 124.47
         },
         {
          "line": {
           "color": "rgb(55, 128, 191)",
           "width": 1.5
          },
          "type": "line",
          "x0": 50,
          "x1": 50,
          "y0": 120.61,
          "y1": 121.72
         }
        ],
        "showlegend": false,
        "title": "Random Walk",
        "xaxis": {
         "anchor": "y2",
         "showgrid": true,
         "showticklabels": true,
         "tickangle": 90,
         "tickmode": "array",
         "ticktext": [
          20190520,
          20190522,
          20190524,
          20190528,
          20190530,
          20190603,
          20190605,
          20190607,
          20190611,
          20190613,
          20190617,
          20190619,
          20190621,
          20190625,
          20190627,
          20190701,
          20190703,
          20190705,
          20190709,
          20190711,
          20190715,
          20190717,
          20190719,
          20190723,
          20190725,
          20190726
         ],
         "tickvals": [
          1,
          3,
          5,
          7,
          9,
          11,
          13,
          15,
          17,
          19,
          21,
          23,
          25,
          27,
          29,
          31,
          33,
          35,
          37,
          39,
          41,
          43,
          45,
          47,
          49,
          50
         ]
        },
        "yaxis": {
         "domain": [
          0.22,
          1
         ],
         "range": [
          110,
          127.98
         ]
        },
        "yaxis2": {
         "domain": [
          0,
          0.2
         ],
         "range": [
          0,
          658410
         ]
        }
       }
      },
      "text/html": [
       "<div id=\"e48dd9e4-df8f-416d-a249-31f959069274\" style=\"height: 525px; width: 100%;\" class=\"plotly-graph-div\"></div><script type=\"text/javascript\">require([\"plotly\"], function(Plotly) { window.PLOTLYENV=window.PLOTLYENV || {};window.PLOTLYENV.BASE_URL=\"https://plot.ly\";Plotly.newPlot(\"e48dd9e4-df8f-416d-a249-31f959069274\", [{\"hoverinfo\": \"text\", \"mode\": \"markers\", \"text\": [\"date: 20190520.0<br>open: 113.17<br>high: 116.38<br>low: 112.08<br>close: 115.27<br>volume: 621296.0\", \"date: 20190521.0<br>open: 116.65<br>high: 117.73<br>low: 115.22<br>close: 116.3<br>volume: 637415.0\", \"date: 20190522.0<br>open: 119.77<br>high: 120.86<br>low: 115.81<br>close: 116.9<br>volume: 624952.0\", \"date: 20190523.0<br>open: 114.74<br>high: 117.44<br>low: 113.63<br>close: 116.33<br>volume: 638266.0\", \"date: 20190524.0<br>open: 115.6<br>high: 119.2<br>low: 114.5<br>close: 118.12<br>volume: 658410.0\", \"date: 20190527.0<br>open: 120.11<br>high: 121.34<br>low: 119.0<br>close: 120.23<br>volume: 651406.0\", \"date: 20190528.0<br>open: 123.02<br>high: 124.12<br>low: 117.7<br>close: 118.81<br>volume: 631331.0\", \"date: 20190529.0<br>open: 120.27<br>high: 121.81<br>low: 119.17<br>close: 120.69<br>volume: 632221.0\", \"date: 20190530.0<br>open: 117.16<br>high: 122.11<br>low: 116.06<br>close: 120.99<br>volume: 628629.0\", \"date: 20190531.0<br>open: 114.18<br>high: 120.76<br>low: 113.08<br>close: 119.66<br>volume: 608881.0\", \"date: 20190603.0<br>open: 119.86<br>high: 120.97<br>low: 118.65<br>close: 119.75<br>volume: 617873.0\", \"date: 20190604.0<br>open: 123.74<br>high: 124.86<br>low: 120.24<br>close: 121.34<br>volume: 590308.0\", \"date: 20190605.0<br>open: 124.41<br>high: 125.53<br>low: 119.29<br>close: 120.42<br>volume: 598560.0\", \"date: 20190606.0<br>open: 118.32<br>high: 119.9<br>low: 117.21<br>close: 118.8<br>volume: 613607.0\", \"date: 20190607.0<br>open: 117.23<br>high: 119.02<br>low: 116.12<br>close: 117.92<br>volume: 600460.0\", \"date: 20190610.0<br>open: 119.57<br>high: 120.67<br>low: 116.09<br>close: 117.21<br>volume: 582002.0\", \"date: 20190611.0<br>open: 116.89<br>high: 118.0<br>low: 115.11<br>close: 116.22<br>volume: 600948.0\", \"date: 20190612.0<br>open: 119.49<br>high: 120.59<br>low: 115.76<br>close: 116.86<br>volume: 607977.0\", \"date: 20190613.0<br>open: 119.34<br>high: 120.44<br>low: 115.94<br>close: 117.04<br>volume: 635485.0\", \"date: 20190614.0<br>open: 114.43<br>high: 117.99<br>low: 113.33<br>close: 116.89<br>volume: 598369.0\", \"date: 20190617.0<br>open: 114.71<br>high: 117.6<br>low: 113.6<br>close: 116.48<br>volume: 606158.0\", \"date: 20190618.0<br>open: 112.72<br>high: 115.98<br>low: 111.62<br>close: 114.89<br>volume: 577935.0\", \"date: 20190619.0<br>open: 111.11<br>high: 115.51<br>low: 110.0<br>close: 114.4<br>volume: 574633.0\", \"date: 20190620.0<br>open: 113.29<br>high: 116.26<br>low: 112.21<br>close: 115.14<br>volume: 561866.0\", \"date: 20190621.0<br>open: 114.48<br>high: 116.44<br>low: 113.37<br>close: 115.33<br>volume: 565476.0\", \"date: 20190624.0<br>open: 118.24<br>high: 119.35<br>low: 114.98<br>close: 116.09<br>volume: 540917.0\", \"date: 20190625.0<br>open: 114.9<br>high: 116.15<br>low: 113.79<br>close: 115.05<br>volume: 518474.0\", \"date: 20190626.0<br>open: 114.04<br>high: 116.09<br>low: 112.94<br>close: 114.99<br>volume: 494450.0\", \"date: 20190627.0<br>open: 118.27<br>high: 119.38<br>low: 114.06<br>close: 115.18<br>volume: 460489.0\", \"date: 20190628.0<br>open: 114.93<br>high: 116.62<br>low: 113.8<br>close: 115.52<br>volume: 463312.0\", \"date: 20190701.0<br>open: 117.51<br>high: 119.73<br>low: 116.43<br>close: 118.62<br>volume: 457218.0\", \"date: 20190702.0<br>open: 120.89<br>high: 122.01<br>low: 119.25<br>close: 120.36<br>volume: 424215.0\", \"date: 20190703.0<br>open: 123.45<br>high: 124.56<br>low: 122.14<br>close: 123.25<br>volume: 426738.0\", \"date: 20190704.0<br>open: 123.46<br>high: 124.85<br>low: 122.34<br>close: 123.75<br>volume: 425519.0\", \"date: 20190705.0<br>open: 123.89<br>high: 126.4<br>low: 122.8<br>close: 125.29<br>volume: 437601.0\", \"date: 20190708.0<br>open: 124.17<br>high: 125.79<br>low: 123.07<br>close: 124.68<br>volume: 449370.0\", \"date: 20190709.0<br>open: 124.54<br>high: 126.61<br>low: 123.44<br>close: 125.5<br>volume: 463888.0\", \"date: 20190710.0<br>open: 126.86<br>high: 127.98<br>low: 123.26<br>close: 124.38<br>volume: 488137.0\", \"date: 20190711.0<br>open: 124.54<br>high: 126.81<br>low: 123.44<br>close: 125.74<br>volume: 491364.0\", \"date: 20190712.0<br>open: 123.83<br>high: 125.94<br>low: 122.73<br>close: 124.83<br>volume: 481009.0\", \"date: 20190715.0<br>open: 125.32<br>high: 126.44<br>low: 123.66<br>close: 124.75<br>volume: 489067.0\", \"date: 20190716.0<br>open: 122.8<br>high: 125.08<br>low: 121.69<br>close: 123.99<br>volume: 481316.0\", \"date: 20190717.0<br>open: 123.04<br>high: 124.13<br>low: 121.67<br>close: 122.76<br>volume: 474061.0\", \"date: 20190718.0<br>open: 121.68<br>high: 122.77<br>low: 120.54<br>close: 121.65<br>volume: 447968.0\", \"date: 20190719.0<br>open: 124.09<br>high: 125.19<br>low: 120.26<br>close: 121.37<br>volume: 439282.0\", \"date: 20190722.0<br>open: 118.08<br>high: 121.53<br>low: 116.97<br>close: 120.43<br>volume: 449222.0\", \"date: 20190723.0<br>open: 120.1<br>high: 121.21<br>low: 118.29<br>close: 119.4<br>volume: 463633.0\", \"date: 20190724.0<br>open: 123.71<br>high: 124.82<br>low: 118.76<br>close: 119.86<br>volume: 455947.0\", \"date: 20190725.0<br>open: 123.37<br>high: 124.47<br>low: 120.43<br>close: 121.52<br>volume: 472954.0\", \"date: 20190726.0<br>open: 120.35<br>high: 121.72<br>low: 119.23<br>close: 120.61<br>volume: 465064.0\"], \"x\": [1, 2, 3, 4, 5, 6, 7, 8, 9, 10, 11, 12, 13, 14, 15, 16, 17, 18, 19, 20, 21, 22, 23, 24, 25, 26, 27, 28, 29, 30, 31, 32, 33, 34, 35, 36, 37, 38, 39, 40, 41, 42, 43, 44, 45, 46, 47, 48, 49, 50], \"xaxis\": \"x\", \"y\": [115.27, 116.3, 116.9, 116.33, 118.12, 120.23, 118.81, 120.69, 120.99, 119.66, 119.75, 121.34, 120.42, 118.8, 117.92, 117.21, 116.22, 116.86, 117.04, 116.89, 116.48, 114.89, 114.4, 115.14, 115.33, 116.09, 115.05, 114.99, 115.18, 115.52, 118.62, 120.36, 123.25, 123.75, 125.29, 124.68, 125.5, 124.38, 125.74, 124.83, 124.75, 123.99, 122.76, 121.65, 121.37, 120.43, 119.4, 119.86, 121.52, 120.61], \"yaxis\": \"y\", \"type\": \"scatter\", \"uid\": \"c4b1637a-afa5-11e9-902a-8c859025e7f9\"}, {\"width\": 0.5, \"x\": [1, 2, 3, 4, 5, 6, 7, 8, 9, 10, 11, 12, 13, 14, 15, 16, 17, 18, 19, 20, 21, 22, 23, 24, 25, 26, 27, 28, 29, 30, 31, 32, 33, 34, 35, 36, 37, 38, 39, 40, 41, 42, 43, 44, 45, 46, 47, 48, 49, 50], \"xaxis\": \"x\", \"y\": [621296.0, 637415.0, 624952.0, 638266.0, 658410.0, 651406.0, 631331.0, 632221.0, 628629.0, 608881.0, 617873.0, 590308.0, 598560.0, 613607.0, 600460.0, 582002.0, 600948.0, 607977.0, 635485.0, 598369.0, 606158.0, 577935.0, 574633.0, 561866.0, 565476.0, 540917.0, 518474.0, 494450.0, 460489.0, 463312.0, 457218.0, 424215.0, 426738.0, 425519.0, 437601.0, 449370.0, 463888.0, 488137.0, 491364.0, 481009.0, 489067.0, 481316.0, 474061.0, 447968.0, 439282.0, 449222.0, 463633.0, 455947.0, 472954.0, 465064.0], \"yaxis\": \"y2\", \"type\": \"bar\", \"uid\": \"c4b16528-afa5-11e9-917f-8c859025e7f9\"}], {\"margin\": {\"t\": 100}, \"shapes\": [{\"line\": {\"color\": \"rgb(55, 128, 191)\", \"width\": 1.5}, \"type\": \"line\", \"x0\": 1, \"x1\": 1, \"y0\": 112.08, \"y1\": 113.17}, {\"line\": {\"color\": \"rgb(55, 128, 191)\", \"width\": 1.5}, \"type\": \"line\", \"x0\": 2, \"x1\": 2, \"y0\": 115.22, \"y1\": 116.3}, {\"line\": {\"color\": \"rgb(55, 128, 191)\", \"width\": 1.5}, \"type\": \"line\", \"x0\": 3, \"x1\": 3, \"y0\": 115.81, \"y1\": 116.9}, {\"line\": {\"color\": \"rgb(55, 128, 191)\", \"width\": 1.5}, \"type\": \"line\", \"x0\": 4, \"x1\": 4, \"y0\": 113.63, \"y1\": 114.74}, {\"line\": {\"color\": \"rgb(55, 128, 191)\", \"width\": 1.5}, \"type\": \"line\", \"x0\": 5, \"x1\": 5, \"y0\": 114.5, \"y1\": 115.6}, {\"line\": {\"color\": \"rgb(55, 128, 191)\", \"width\": 1.5}, \"type\": \"line\", \"x0\": 6, \"x1\": 6, \"y0\": 119.0, \"y1\": 120.11}, {\"line\": {\"color\": \"rgb(55, 128, 191)\", \"width\": 1.5}, \"type\": \"line\", \"x0\": 7, \"x1\": 7, \"y0\": 117.7, \"y1\": 118.81}, {\"line\": {\"color\": \"rgb(55, 128, 191)\", \"width\": 1.5}, \"type\": \"line\", \"x0\": 8, \"x1\": 8, \"y0\": 119.17, \"y1\": 120.27}, {\"line\": {\"color\": \"rgb(55, 128, 191)\", \"width\": 1.5}, \"type\": \"line\", \"x0\": 9, \"x1\": 9, \"y0\": 116.06, \"y1\": 117.16}, {\"line\": {\"color\": \"rgb(55, 128, 191)\", \"width\": 1.5}, \"type\": \"line\", \"x0\": 10, \"x1\": 10, \"y0\": 113.08, \"y1\": 114.18}, {\"line\": {\"color\": \"rgb(55, 128, 191)\", \"width\": 1.5}, \"type\": \"line\", \"x0\": 11, \"x1\": 11, \"y0\": 118.65, \"y1\": 119.75}, {\"line\": {\"color\": \"rgb(55, 128, 191)\", \"width\": 1.5}, \"type\": \"line\", \"x0\": 12, \"x1\": 12, \"y0\": 120.24, \"y1\": 121.34}, {\"line\": {\"color\": \"rgb(55, 128, 191)\", \"width\": 1.5}, \"type\": \"line\", \"x0\": 13, \"x1\": 13, \"y0\": 119.29, \"y1\": 120.42}, {\"line\": {\"color\": \"rgb(55, 128, 191)\", \"width\": 1.5}, \"type\": \"line\", \"x0\": 14, \"x1\": 14, \"y0\": 117.21, \"y1\": 118.32}, {\"line\": {\"color\": \"rgb(55, 128, 191)\", \"width\": 1.5}, \"type\": \"line\", \"x0\": 15, \"x1\": 15, \"y0\": 116.12, \"y1\": 117.23}, {\"line\": {\"color\": \"rgb(55, 128, 191)\", \"width\": 1.5}, \"type\": \"line\", \"x0\": 16, \"x1\": 16, \"y0\": 116.09, \"y1\": 117.21}, {\"line\": {\"color\": \"rgb(55, 128, 191)\", \"width\": 1.5}, \"type\": \"line\", \"x0\": 17, \"x1\": 17, \"y0\": 115.11, \"y1\": 116.22}, {\"line\": {\"color\": \"rgb(55, 128, 191)\", \"width\": 1.5}, \"type\": \"line\", \"x0\": 18, \"x1\": 18, \"y0\": 115.76, \"y1\": 116.86}, {\"line\": {\"color\": \"rgb(55, 128, 191)\", \"width\": 1.5}, \"type\": \"line\", \"x0\": 19, \"x1\": 19, \"y0\": 115.94, \"y1\": 117.04}, {\"line\": {\"color\": \"rgb(55, 128, 191)\", \"width\": 1.5}, \"type\": \"line\", \"x0\": 20, \"x1\": 20, \"y0\": 113.33, \"y1\": 114.43}, {\"line\": {\"color\": \"rgb(55, 128, 191)\", \"width\": 1.5}, \"type\": \"line\", \"x0\": 21, \"x1\": 21, \"y0\": 113.6, \"y1\": 114.71}, {\"line\": {\"color\": \"rgb(55, 128, 191)\", \"width\": 1.5}, \"type\": \"line\", \"x0\": 22, \"x1\": 22, \"y0\": 111.62, \"y1\": 112.72}, {\"line\": {\"color\": \"rgb(55, 128, 191)\", \"width\": 1.5}, \"type\": \"line\", \"x0\": 23, \"x1\": 23, \"y0\": 110.0, \"y1\": 111.11}, {\"line\": {\"color\": \"rgb(55, 128, 191)\", \"width\": 1.5}, \"type\": \"line\", \"x0\": 24, \"x1\": 24, \"y0\": 112.21, \"y1\": 113.29}, {\"line\": {\"color\": \"rgb(55, 128, 191)\", \"width\": 1.5}, \"type\": \"line\", \"x0\": 25, \"x1\": 25, \"y0\": 113.37, \"y1\": 114.48}, {\"line\": {\"color\": \"rgb(55, 128, 191)\", \"width\": 1.5}, \"type\": \"line\", \"x0\": 26, \"x1\": 26, \"y0\": 114.98, \"y1\": 116.09}, {\"line\": {\"color\": \"rgb(55, 128, 191)\", \"width\": 1.5}, \"type\": \"line\", \"x0\": 27, \"x1\": 27, \"y0\": 113.79, \"y1\": 114.9}, {\"line\": {\"color\": \"rgb(55, 128, 191)\", \"width\": 1.5}, \"type\": \"line\", \"x0\": 28, \"x1\": 28, \"y0\": 112.94, \"y1\": 114.04}, {\"line\": {\"color\": \"rgb(55, 128, 191)\", \"width\": 1.5}, \"type\": \"line\", \"x0\": 29, \"x1\": 29, \"y0\": 114.06, \"y1\": 115.18}, {\"line\": {\"color\": \"rgb(55, 128, 191)\", \"width\": 1.5}, \"type\": \"line\", \"x0\": 30, \"x1\": 30, \"y0\": 113.8, \"y1\": 114.93}, {\"line\": {\"color\": \"rgb(55, 128, 191)\", \"width\": 1.5}, \"type\": \"line\", \"x0\": 31, \"x1\": 31, \"y0\": 116.43, \"y1\": 117.51}, {\"line\": {\"color\": \"rgb(55, 128, 191)\", \"width\": 1.5}, \"type\": \"line\", \"x0\": 32, \"x1\": 32, \"y0\": 119.25, \"y1\": 120.36}, {\"line\": {\"color\": \"rgb(55, 128, 191)\", \"width\": 1.5}, \"type\": \"line\", \"x0\": 33, \"x1\": 33, \"y0\": 122.14, \"y1\": 123.25}, {\"line\": {\"color\": \"rgb(55, 128, 191)\", \"width\": 1.5}, \"type\": \"line\", \"x0\": 34, \"x1\": 34, \"y0\": 122.34, \"y1\": 123.46}, {\"line\": {\"color\": \"rgb(55, 128, 191)\", \"width\": 1.5}, \"type\": \"line\", \"x0\": 35, \"x1\": 35, \"y0\": 122.8, \"y1\": 123.89}, {\"line\": {\"color\": \"rgb(55, 128, 191)\", \"width\": 1.5}, \"type\": \"line\", \"x0\": 36, \"x1\": 36, \"y0\": 123.07, \"y1\": 124.17}, {\"line\": {\"color\": \"rgb(55, 128, 191)\", \"width\": 1.5}, \"type\": \"line\", \"x0\": 37, \"x1\": 37, \"y0\": 123.44, \"y1\": 124.54}, {\"line\": {\"color\": \"rgb(55, 128, 191)\", \"width\": 1.5}, \"type\": \"line\", \"x0\": 38, \"x1\": 38, \"y0\": 123.26, \"y1\": 124.38}, {\"line\": {\"color\": \"rgb(55, 128, 191)\", \"width\": 1.5}, \"type\": \"line\", \"x0\": 39, \"x1\": 39, \"y0\": 123.44, \"y1\": 124.54}, {\"line\": {\"color\": \"rgb(55, 128, 191)\", \"width\": 1.5}, \"type\": \"line\", \"x0\": 40, \"x1\": 40, \"y0\": 122.73, \"y1\": 123.83}, {\"line\": {\"color\": \"rgb(55, 128, 191)\", \"width\": 1.5}, \"type\": \"line\", \"x0\": 41, \"x1\": 41, \"y0\": 123.66, \"y1\": 124.75}, {\"line\": {\"color\": \"rgb(55, 128, 191)\", \"width\": 1.5}, \"type\": \"line\", \"x0\": 42, \"x1\": 42, \"y0\": 121.69, \"y1\": 122.8}, {\"line\": {\"color\": \"rgb(55, 128, 191)\", \"width\": 1.5}, \"type\": \"line\", \"x0\": 43, \"x1\": 43, \"y0\": 121.67, \"y1\": 122.76}, {\"line\": {\"color\": \"rgb(55, 128, 191)\", \"width\": 1.5}, \"type\": \"line\", \"x0\": 44, \"x1\": 44, \"y0\": 120.54, \"y1\": 121.65}, {\"line\": {\"color\": \"rgb(55, 128, 191)\", \"width\": 1.5}, \"type\": \"line\", \"x0\": 45, \"x1\": 45, \"y0\": 120.26, \"y1\": 121.37}, {\"line\": {\"color\": \"rgb(55, 128, 191)\", \"width\": 1.5}, \"type\": \"line\", \"x0\": 46, \"x1\": 46, \"y0\": 116.97, \"y1\": 118.08}, {\"line\": {\"color\": \"rgb(55, 128, 191)\", \"width\": 1.5}, \"type\": \"line\", \"x0\": 47, \"x1\": 47, \"y0\": 118.29, \"y1\": 119.4}, {\"line\": {\"color\": \"rgb(55, 128, 191)\", \"width\": 1.5}, \"type\": \"line\", \"x0\": 48, \"x1\": 48, \"y0\": 118.76, \"y1\": 119.86}, {\"line\": {\"color\": \"rgb(55, 128, 191)\", \"width\": 1.5}, \"type\": \"line\", \"x0\": 49, \"x1\": 49, \"y0\": 120.43, \"y1\": 121.52}, {\"line\": {\"color\": \"rgb(55, 128, 191)\", \"width\": 1.5}, \"type\": \"line\", \"x0\": 50, \"x1\": 50, \"y0\": 119.23, \"y1\": 120.35}, {\"fillcolor\": \"rgba(0, 204, 0, 0.6)\", \"line\": {\"color\": \"rgb(55, 128, 191)\", \"width\": 1}, \"type\": \"rect\", \"x0\": 0.75, \"x1\": 1.25, \"xref\": \"x\", \"y0\": 113.17, \"y1\": 115.27, \"yref\": \"y\"}, {\"fillcolor\": \"rgba(255, 0, 0, 0.6)\", \"line\": {\"color\": \"rgb(55, 128, 191)\", \"width\": 1}, \"type\": \"rect\", \"x0\": 1.75, \"x1\": 2.25, \"xref\": \"x\", \"y0\": 116.3, \"y1\": 116.65, \"yref\": \"y\"}, {\"fillcolor\": \"rgba(255, 0, 0, 0.6)\", \"line\": {\"color\": \"rgb(55, 128, 191)\", \"width\": 1}, \"type\": \"rect\", \"x0\": 2.75, \"x1\": 3.25, \"xref\": \"x\", \"y0\": 116.9, \"y1\": 119.77, \"yref\": \"y\"}, {\"fillcolor\": \"rgba(0, 204, 0, 0.6)\", \"line\": {\"color\": \"rgb(55, 128, 191)\", \"width\": 1}, \"type\": \"rect\", \"x0\": 3.75, \"x1\": 4.25, \"xref\": \"x\", \"y0\": 114.74, \"y1\": 116.33, \"yref\": \"y\"}, {\"fillcolor\": \"rgba(0, 204, 0, 0.6)\", \"line\": {\"color\": \"rgb(55, 128, 191)\", \"width\": 1}, \"type\": \"rect\", \"x0\": 4.75, \"x1\": 5.25, \"xref\": \"x\", \"y0\": 115.6, \"y1\": 118.12, \"yref\": \"y\"}, {\"fillcolor\": \"rgba(0, 204, 0, 0.6)\", \"line\": {\"color\": \"rgb(55, 128, 191)\", \"width\": 1}, \"type\": \"rect\", \"x0\": 5.75, \"x1\": 6.25, \"xref\": \"x\", \"y0\": 120.11, \"y1\": 120.23, \"yref\": \"y\"}, {\"fillcolor\": \"rgba(255, 0, 0, 0.6)\", \"line\": {\"color\": \"rgb(55, 128, 191)\", \"width\": 1}, \"type\": \"rect\", \"x0\": 6.75, \"x1\": 7.25, \"xref\": \"x\", \"y0\": 118.81, \"y1\": 123.02, \"yref\": \"y\"}, {\"fillcolor\": \"rgba(0, 204, 0, 0.6)\", \"line\": {\"color\": \"rgb(55, 128, 191)\", \"width\": 1}, \"type\": \"rect\", \"x0\": 7.75, \"x1\": 8.25, \"xref\": \"x\", \"y0\": 120.27, \"y1\": 120.69, \"yref\": \"y\"}, {\"fillcolor\": \"rgba(0, 204, 0, 0.6)\", \"line\": {\"color\": \"rgb(55, 128, 191)\", \"width\": 1}, \"type\": \"rect\", \"x0\": 8.75, \"x1\": 9.25, \"xref\": \"x\", \"y0\": 117.16, \"y1\": 120.99, \"yref\": \"y\"}, {\"fillcolor\": \"rgba(0, 204, 0, 0.6)\", \"line\": {\"color\": \"rgb(55, 128, 191)\", \"width\": 1}, \"type\": \"rect\", \"x0\": 9.75, \"x1\": 10.25, \"xref\": \"x\", \"y0\": 114.18, \"y1\": 119.66, \"yref\": \"y\"}, {\"fillcolor\": \"rgba(255, 0, 0, 0.6)\", \"line\": {\"color\": \"rgb(55, 128, 191)\", \"width\": 1}, \"type\": \"rect\", \"x0\": 10.75, \"x1\": 11.25, \"xref\": \"x\", \"y0\": 119.75, \"y1\": 119.86, \"yref\": \"y\"}, {\"fillcolor\": \"rgba(255, 0, 0, 0.6)\", \"line\": {\"color\": \"rgb(55, 128, 191)\", \"width\": 1}, \"type\": \"rect\", \"x0\": 11.75, \"x1\": 12.25, \"xref\": \"x\", \"y0\": 121.34, \"y1\": 123.74, \"yref\": \"y\"}, {\"fillcolor\": \"rgba(255, 0, 0, 0.6)\", \"line\": {\"color\": \"rgb(55, 128, 191)\", \"width\": 1}, \"type\": \"rect\", \"x0\": 12.75, \"x1\": 13.25, \"xref\": \"x\", \"y0\": 120.42, \"y1\": 124.41, \"yref\": \"y\"}, {\"fillcolor\": \"rgba(0, 204, 0, 0.6)\", \"line\": {\"color\": \"rgb(55, 128, 191)\", \"width\": 1}, \"type\": \"rect\", \"x0\": 13.75, \"x1\": 14.25, \"xref\": \"x\", \"y0\": 118.32, \"y1\": 118.8, \"yref\": \"y\"}, {\"fillcolor\": \"rgba(0, 204, 0, 0.6)\", \"line\": {\"color\": \"rgb(55, 128, 191)\", \"width\": 1}, \"type\": \"rect\", \"x0\": 14.75, \"x1\": 15.25, \"xref\": \"x\", \"y0\": 117.23, \"y1\": 117.92, \"yref\": \"y\"}, {\"fillcolor\": \"rgba(255, 0, 0, 0.6)\", \"line\": {\"color\": \"rgb(55, 128, 191)\", \"width\": 1}, \"type\": \"rect\", \"x0\": 15.75, \"x1\": 16.25, \"xref\": \"x\", \"y0\": 117.21, \"y1\": 119.57, \"yref\": \"y\"}, {\"fillcolor\": \"rgba(255, 0, 0, 0.6)\", \"line\": {\"color\": \"rgb(55, 128, 191)\", \"width\": 1}, \"type\": \"rect\", \"x0\": 16.75, \"x1\": 17.25, \"xref\": \"x\", \"y0\": 116.22, \"y1\": 116.89, \"yref\": \"y\"}, {\"fillcolor\": \"rgba(255, 0, 0, 0.6)\", \"line\": {\"color\": \"rgb(55, 128, 191)\", \"width\": 1}, \"type\": \"rect\", \"x0\": 17.75, \"x1\": 18.25, \"xref\": \"x\", \"y0\": 116.86, \"y1\": 119.49, \"yref\": \"y\"}, {\"fillcolor\": \"rgba(255, 0, 0, 0.6)\", \"line\": {\"color\": \"rgb(55, 128, 191)\", \"width\": 1}, \"type\": \"rect\", \"x0\": 18.75, \"x1\": 19.25, \"xref\": \"x\", \"y0\": 117.04, \"y1\": 119.34, \"yref\": \"y\"}, {\"fillcolor\": \"rgba(0, 204, 0, 0.6)\", \"line\": {\"color\": \"rgb(55, 128, 191)\", \"width\": 1}, \"type\": \"rect\", \"x0\": 19.75, \"x1\": 20.25, \"xref\": \"x\", \"y0\": 114.43, \"y1\": 116.89, \"yref\": \"y\"}, {\"fillcolor\": \"rgba(0, 204, 0, 0.6)\", \"line\": {\"color\": \"rgb(55, 128, 191)\", \"width\": 1}, \"type\": \"rect\", \"x0\": 20.75, \"x1\": 21.25, \"xref\": \"x\", \"y0\": 114.71, \"y1\": 116.48, \"yref\": \"y\"}, {\"fillcolor\": \"rgba(0, 204, 0, 0.6)\", \"line\": {\"color\": \"rgb(55, 128, 191)\", \"width\": 1}, \"type\": \"rect\", \"x0\": 21.75, \"x1\": 22.25, \"xref\": \"x\", \"y0\": 112.72, \"y1\": 114.89, \"yref\": \"y\"}, {\"fillcolor\": \"rgba(0, 204, 0, 0.6)\", \"line\": {\"color\": \"rgb(55, 128, 191)\", \"width\": 1}, \"type\": \"rect\", \"x0\": 22.75, \"x1\": 23.25, \"xref\": \"x\", \"y0\": 111.11, \"y1\": 114.4, \"yref\": \"y\"}, {\"fillcolor\": \"rgba(0, 204, 0, 0.6)\", \"line\": {\"color\": \"rgb(55, 128, 191)\", \"width\": 1}, \"type\": \"rect\", \"x0\": 23.75, \"x1\": 24.25, \"xref\": \"x\", \"y0\": 113.29, \"y1\": 115.14, \"yref\": \"y\"}, {\"fillcolor\": \"rgba(0, 204, 0, 0.6)\", \"line\": {\"color\": \"rgb(55, 128, 191)\", \"width\": 1}, \"type\": \"rect\", \"x0\": 24.75, \"x1\": 25.25, \"xref\": \"x\", \"y0\": 114.48, \"y1\": 115.33, \"yref\": \"y\"}, {\"fillcolor\": \"rgba(255, 0, 0, 0.6)\", \"line\": {\"color\": \"rgb(55, 128, 191)\", \"width\": 1}, \"type\": \"rect\", \"x0\": 25.75, \"x1\": 26.25, \"xref\": \"x\", \"y0\": 116.09, \"y1\": 118.24, \"yref\": \"y\"}, {\"fillcolor\": \"rgba(0, 204, 0, 0.6)\", \"line\": {\"color\": \"rgb(55, 128, 191)\", \"width\": 1}, \"type\": \"rect\", \"x0\": 26.75, \"x1\": 27.25, \"xref\": \"x\", \"y0\": 114.9, \"y1\": 115.05, \"yref\": \"y\"}, {\"fillcolor\": \"rgba(0, 204, 0, 0.6)\", \"line\": {\"color\": \"rgb(55, 128, 191)\", \"width\": 1}, \"type\": \"rect\", \"x0\": 27.75, \"x1\": 28.25, \"xref\": \"x\", \"y0\": 114.04, \"y1\": 114.99, \"yref\": \"y\"}, {\"fillcolor\": \"rgba(255, 0, 0, 0.6)\", \"line\": {\"color\": \"rgb(55, 128, 191)\", \"width\": 1}, \"type\": \"rect\", \"x0\": 28.75, \"x1\": 29.25, \"xref\": \"x\", \"y0\": 115.18, \"y1\": 118.27, \"yref\": \"y\"}, {\"fillcolor\": \"rgba(0, 204, 0, 0.6)\", \"line\": {\"color\": \"rgb(55, 128, 191)\", \"width\": 1}, \"type\": \"rect\", \"x0\": 29.75, \"x1\": 30.25, \"xref\": \"x\", \"y0\": 114.93, \"y1\": 115.52, \"yref\": \"y\"}, {\"fillcolor\": \"rgba(0, 204, 0, 0.6)\", \"line\": {\"color\": \"rgb(55, 128, 191)\", \"width\": 1}, \"type\": \"rect\", \"x0\": 30.75, \"x1\": 31.25, \"xref\": \"x\", \"y0\": 117.51, \"y1\": 118.62, \"yref\": \"y\"}, {\"fillcolor\": \"rgba(255, 0, 0, 0.6)\", \"line\": {\"color\": \"rgb(55, 128, 191)\", \"width\": 1}, \"type\": \"rect\", \"x0\": 31.75, \"x1\": 32.25, \"xref\": \"x\", \"y0\": 120.36, \"y1\": 120.89, \"yref\": \"y\"}, {\"fillcolor\": \"rgba(255, 0, 0, 0.6)\", \"line\": {\"color\": \"rgb(55, 128, 191)\", \"width\": 1}, \"type\": \"rect\", \"x0\": 32.75, \"x1\": 33.25, \"xref\": \"x\", \"y0\": 123.25, \"y1\": 123.45, \"yref\": \"y\"}, {\"fillcolor\": \"rgba(0, 204, 0, 0.6)\", \"line\": {\"color\": \"rgb(55, 128, 191)\", \"width\": 1}, \"type\": \"rect\", \"x0\": 33.75, \"x1\": 34.25, \"xref\": \"x\", \"y0\": 123.46, \"y1\": 123.75, \"yref\": \"y\"}, {\"fillcolor\": \"rgba(0, 204, 0, 0.6)\", \"line\": {\"color\": \"rgb(55, 128, 191)\", \"width\": 1}, \"type\": \"rect\", \"x0\": 34.75, \"x1\": 35.25, \"xref\": \"x\", \"y0\": 123.89, \"y1\": 125.29, \"yref\": \"y\"}, {\"fillcolor\": \"rgba(0, 204, 0, 0.6)\", \"line\": {\"color\": \"rgb(55, 128, 191)\", \"width\": 1}, \"type\": \"rect\", \"x0\": 35.75, \"x1\": 36.25, \"xref\": \"x\", \"y0\": 124.17, \"y1\": 124.68, \"yref\": \"y\"}, {\"fillcolor\": \"rgba(0, 204, 0, 0.6)\", \"line\": {\"color\": \"rgb(55, 128, 191)\", \"width\": 1}, \"type\": \"rect\", \"x0\": 36.75, \"x1\": 37.25, \"xref\": \"x\", \"y0\": 124.54, \"y1\": 125.5, \"yref\": \"y\"}, {\"fillcolor\": \"rgba(255, 0, 0, 0.6)\", \"line\": {\"color\": \"rgb(55, 128, 191)\", \"width\": 1}, \"type\": \"rect\", \"x0\": 37.75, \"x1\": 38.25, \"xref\": \"x\", \"y0\": 124.38, \"y1\": 126.86, \"yref\": \"y\"}, {\"fillcolor\": \"rgba(0, 204, 0, 0.6)\", \"line\": {\"color\": \"rgb(55, 128, 191)\", \"width\": 1}, \"type\": \"rect\", \"x0\": 38.75, \"x1\": 39.25, \"xref\": \"x\", \"y0\": 124.54, \"y1\": 125.74, \"yref\": \"y\"}, {\"fillcolor\": \"rgba(0, 204, 0, 0.6)\", \"line\": {\"color\": \"rgb(55, 128, 191)\", \"width\": 1}, \"type\": \"rect\", \"x0\": 39.75, \"x1\": 40.25, \"xref\": \"x\", \"y0\": 123.83, \"y1\": 124.83, \"yref\": \"y\"}, {\"fillcolor\": \"rgba(255, 0, 0, 0.6)\", \"line\": {\"color\": \"rgb(55, 128, 191)\", \"width\": 1}, \"type\": \"rect\", \"x0\": 40.75, \"x1\": 41.25, \"xref\": \"x\", \"y0\": 124.75, \"y1\": 125.32, \"yref\": \"y\"}, {\"fillcolor\": \"rgba(0, 204, 0, 0.6)\", \"line\": {\"color\": \"rgb(55, 128, 191)\", \"width\": 1}, \"type\": \"rect\", \"x0\": 41.75, \"x1\": 42.25, \"xref\": \"x\", \"y0\": 122.8, \"y1\": 123.99, \"yref\": \"y\"}, {\"fillcolor\": \"rgba(255, 0, 0, 0.6)\", \"line\": {\"color\": \"rgb(55, 128, 191)\", \"width\": 1}, \"type\": \"rect\", \"x0\": 42.75, \"x1\": 43.25, \"xref\": \"x\", \"y0\": 122.76, \"y1\": 123.04, \"yref\": \"y\"}, {\"fillcolor\": \"rgba(255, 0, 0, 0.6)\", \"line\": {\"color\": \"rgb(55, 128, 191)\", \"width\": 1}, \"type\": \"rect\", \"x0\": 43.75, \"x1\": 44.25, \"xref\": \"x\", \"y0\": 121.65, \"y1\": 121.68, \"yref\": \"y\"}, {\"fillcolor\": \"rgba(255, 0, 0, 0.6)\", \"line\": {\"color\": \"rgb(55, 128, 191)\", \"width\": 1}, \"type\": \"rect\", \"x0\": 44.75, \"x1\": 45.25, \"xref\": \"x\", \"y0\": 121.37, \"y1\": 124.09, \"yref\": \"y\"}, {\"fillcolor\": \"rgba(0, 204, 0, 0.6)\", \"line\": {\"color\": \"rgb(55, 128, 191)\", \"width\": 1}, \"type\": \"rect\", \"x0\": 45.75, \"x1\": 46.25, \"xref\": \"x\", \"y0\": 118.08, \"y1\": 120.43, \"yref\": \"y\"}, {\"fillcolor\": \"rgba(255, 0, 0, 0.6)\", \"line\": {\"color\": \"rgb(55, 128, 191)\", \"width\": 1}, \"type\": \"rect\", \"x0\": 46.75, \"x1\": 47.25, \"xref\": \"x\", \"y0\": 119.4, \"y1\": 120.1, \"yref\": \"y\"}, {\"fillcolor\": \"rgba(255, 0, 0, 0.6)\", \"line\": {\"color\": \"rgb(55, 128, 191)\", \"width\": 1}, \"type\": \"rect\", \"x0\": 47.75, \"x1\": 48.25, \"xref\": \"x\", \"y0\": 119.86, \"y1\": 123.71, \"yref\": \"y\"}, {\"fillcolor\": \"rgba(255, 0, 0, 0.6)\", \"line\": {\"color\": \"rgb(55, 128, 191)\", \"width\": 1}, \"type\": \"rect\", \"x0\": 48.75, \"x1\": 49.25, \"xref\": \"x\", \"y0\": 121.52, \"y1\": 123.37, \"yref\": \"y\"}, {\"fillcolor\": \"rgba(0, 204, 0, 0.6)\", \"line\": {\"color\": \"rgb(55, 128, 191)\", \"width\": 1}, \"type\": \"rect\", \"x0\": 49.75, \"x1\": 50.25, \"xref\": \"x\", \"y0\": 120.35, \"y1\": 120.61, \"yref\": \"y\"}, {\"line\": {\"color\": \"rgb(55, 128, 191)\", \"width\": 1.5}, \"type\": \"line\", \"x0\": 1, \"x1\": 1, \"y0\": 115.27, \"y1\": 116.38}, {\"line\": {\"color\": \"rgb(55, 128, 191)\", \"width\": 1.5}, \"type\": \"line\", \"x0\": 2, \"x1\": 2, \"y0\": 116.65, \"y1\": 117.73}, {\"line\": {\"color\": \"rgb(55, 128, 191)\", \"width\": 1.5}, \"type\": \"line\", \"x0\": 3, \"x1\": 3, \"y0\": 119.77, \"y1\": 120.86}, {\"line\": {\"color\": \"rgb(55, 128, 191)\", \"width\": 1.5}, \"type\": \"line\", \"x0\": 4, \"x1\": 4, \"y0\": 116.33, \"y1\": 117.44}, {\"line\": {\"color\": \"rgb(55, 128, 191)\", \"width\": 1.5}, \"type\": \"line\", \"x0\": 5, \"x1\": 5, \"y0\": 118.12, \"y1\": 119.2}, {\"line\": {\"color\": \"rgb(55, 128, 191)\", \"width\": 1.5}, \"type\": \"line\", \"x0\": 6, \"x1\": 6, \"y0\": 120.23, \"y1\": 121.34}, {\"line\": {\"color\": \"rgb(55, 128, 191)\", \"width\": 1.5}, \"type\": \"line\", \"x0\": 7, \"x1\": 7, \"y0\": 123.02, \"y1\": 124.12}, {\"line\": {\"color\": \"rgb(55, 128, 191)\", \"width\": 1.5}, \"type\": \"line\", \"x0\": 8, \"x1\": 8, \"y0\": 120.69, \"y1\": 121.81}, {\"line\": {\"color\": \"rgb(55, 128, 191)\", \"width\": 1.5}, \"type\": \"line\", \"x0\": 9, \"x1\": 9, \"y0\": 120.99, \"y1\": 122.11}, {\"line\": {\"color\": \"rgb(55, 128, 191)\", \"width\": 1.5}, \"type\": \"line\", \"x0\": 10, \"x1\": 10, \"y0\": 119.66, \"y1\": 120.76}, {\"line\": {\"color\": \"rgb(55, 128, 191)\", \"width\": 1.5}, \"type\": \"line\", \"x0\": 11, \"x1\": 11, \"y0\": 119.86, \"y1\": 120.97}, {\"line\": {\"color\": \"rgb(55, 128, 191)\", \"width\": 1.5}, \"type\": \"line\", \"x0\": 12, \"x1\": 12, \"y0\": 123.74, \"y1\": 124.86}, {\"line\": {\"color\": \"rgb(55, 128, 191)\", \"width\": 1.5}, \"type\": \"line\", \"x0\": 13, \"x1\": 13, \"y0\": 124.41, \"y1\": 125.53}, {\"line\": {\"color\": \"rgb(55, 128, 191)\", \"width\": 1.5}, \"type\": \"line\", \"x0\": 14, \"x1\": 14, \"y0\": 118.8, \"y1\": 119.9}, {\"line\": {\"color\": \"rgb(55, 128, 191)\", \"width\": 1.5}, \"type\": \"line\", \"x0\": 15, \"x1\": 15, \"y0\": 117.92, \"y1\": 119.02}, {\"line\": {\"color\": \"rgb(55, 128, 191)\", \"width\": 1.5}, \"type\": \"line\", \"x0\": 16, \"x1\": 16, \"y0\": 119.57, \"y1\": 120.67}, {\"line\": {\"color\": \"rgb(55, 128, 191)\", \"width\": 1.5}, \"type\": \"line\", \"x0\": 17, \"x1\": 17, \"y0\": 116.89, \"y1\": 118.0}, {\"line\": {\"color\": \"rgb(55, 128, 191)\", \"width\": 1.5}, \"type\": \"line\", \"x0\": 18, \"x1\": 18, \"y0\": 119.49, \"y1\": 120.59}, {\"line\": {\"color\": \"rgb(55, 128, 191)\", \"width\": 1.5}, \"type\": \"line\", \"x0\": 19, \"x1\": 19, \"y0\": 119.34, \"y1\": 120.44}, {\"line\": {\"color\": \"rgb(55, 128, 191)\", \"width\": 1.5}, \"type\": \"line\", \"x0\": 20, \"x1\": 20, \"y0\": 116.89, \"y1\": 117.99}, {\"line\": {\"color\": \"rgb(55, 128, 191)\", \"width\": 1.5}, \"type\": \"line\", \"x0\": 21, \"x1\": 21, \"y0\": 116.48, \"y1\": 117.6}, {\"line\": {\"color\": \"rgb(55, 128, 191)\", \"width\": 1.5}, \"type\": \"line\", \"x0\": 22, \"x1\": 22, \"y0\": 114.89, \"y1\": 115.98}, {\"line\": {\"color\": \"rgb(55, 128, 191)\", \"width\": 1.5}, \"type\": \"line\", \"x0\": 23, \"x1\": 23, \"y0\": 114.4, \"y1\": 115.51}, {\"line\": {\"color\": \"rgb(55, 128, 191)\", \"width\": 1.5}, \"type\": \"line\", \"x0\": 24, \"x1\": 24, \"y0\": 115.14, \"y1\": 116.26}, {\"line\": {\"color\": \"rgb(55, 128, 191)\", \"width\": 1.5}, \"type\": \"line\", \"x0\": 25, \"x1\": 25, \"y0\": 115.33, \"y1\": 116.44}, {\"line\": {\"color\": \"rgb(55, 128, 191)\", \"width\": 1.5}, \"type\": \"line\", \"x0\": 26, \"x1\": 26, \"y0\": 118.24, \"y1\": 119.35}, {\"line\": {\"color\": \"rgb(55, 128, 191)\", \"width\": 1.5}, \"type\": \"line\", \"x0\": 27, \"x1\": 27, \"y0\": 115.05, \"y1\": 116.15}, {\"line\": {\"color\": \"rgb(55, 128, 191)\", \"width\": 1.5}, \"type\": \"line\", \"x0\": 28, \"x1\": 28, \"y0\": 114.99, \"y1\": 116.09}, {\"line\": {\"color\": \"rgb(55, 128, 191)\", \"width\": 1.5}, \"type\": \"line\", \"x0\": 29, \"x1\": 29, \"y0\": 118.27, \"y1\": 119.38}, {\"line\": {\"color\": \"rgb(55, 128, 191)\", \"width\": 1.5}, \"type\": \"line\", \"x0\": 30, \"x1\": 30, \"y0\": 115.52, \"y1\": 116.62}, {\"line\": {\"color\": \"rgb(55, 128, 191)\", \"width\": 1.5}, \"type\": \"line\", \"x0\": 31, \"x1\": 31, \"y0\": 118.62, \"y1\": 119.73}, {\"line\": {\"color\": \"rgb(55, 128, 191)\", \"width\": 1.5}, \"type\": \"line\", \"x0\": 32, \"x1\": 32, \"y0\": 120.89, \"y1\": 122.01}, {\"line\": {\"color\": \"rgb(55, 128, 191)\", \"width\": 1.5}, \"type\": \"line\", \"x0\": 33, \"x1\": 33, \"y0\": 123.45, \"y1\": 124.56}, {\"line\": {\"color\": \"rgb(55, 128, 191)\", \"width\": 1.5}, \"type\": \"line\", \"x0\": 34, \"x1\": 34, \"y0\": 123.75, \"y1\": 124.85}, {\"line\": {\"color\": \"rgb(55, 128, 191)\", \"width\": 1.5}, \"type\": \"line\", \"x0\": 35, \"x1\": 35, \"y0\": 125.29, \"y1\": 126.4}, {\"line\": {\"color\": \"rgb(55, 128, 191)\", \"width\": 1.5}, \"type\": \"line\", \"x0\": 36, \"x1\": 36, \"y0\": 124.68, \"y1\": 125.79}, {\"line\": {\"color\": \"rgb(55, 128, 191)\", \"width\": 1.5}, \"type\": \"line\", \"x0\": 37, \"x1\": 37, \"y0\": 125.5, \"y1\": 126.61}, {\"line\": {\"color\": \"rgb(55, 128, 191)\", \"width\": 1.5}, \"type\": \"line\", \"x0\": 38, \"x1\": 38, \"y0\": 126.86, \"y1\": 127.98}, {\"line\": {\"color\": \"rgb(55, 128, 191)\", \"width\": 1.5}, \"type\": \"line\", \"x0\": 39, \"x1\": 39, \"y0\": 125.74, \"y1\": 126.81}, {\"line\": {\"color\": \"rgb(55, 128, 191)\", \"width\": 1.5}, \"type\": \"line\", \"x0\": 40, \"x1\": 40, \"y0\": 124.83, \"y1\": 125.94}, {\"line\": {\"color\": \"rgb(55, 128, 191)\", \"width\": 1.5}, \"type\": \"line\", \"x0\": 41, \"x1\": 41, \"y0\": 125.32, \"y1\": 126.44}, {\"line\": {\"color\": \"rgb(55, 128, 191)\", \"width\": 1.5}, \"type\": \"line\", \"x0\": 42, \"x1\": 42, \"y0\": 123.99, \"y1\": 125.08}, {\"line\": {\"color\": \"rgb(55, 128, 191)\", \"width\": 1.5}, \"type\": \"line\", \"x0\": 43, \"x1\": 43, \"y0\": 123.04, \"y1\": 124.13}, {\"line\": {\"color\": \"rgb(55, 128, 191)\", \"width\": 1.5}, \"type\": \"line\", \"x0\": 44, \"x1\": 44, \"y0\": 121.68, \"y1\": 122.77}, {\"line\": {\"color\": \"rgb(55, 128, 191)\", \"width\": 1.5}, \"type\": \"line\", \"x0\": 45, \"x1\": 45, \"y0\": 124.09, \"y1\": 125.19}, {\"line\": {\"color\": \"rgb(55, 128, 191)\", \"width\": 1.5}, \"type\": \"line\", \"x0\": 46, \"x1\": 46, \"y0\": 120.43, \"y1\": 121.53}, {\"line\": {\"color\": \"rgb(55, 128, 191)\", \"width\": 1.5}, \"type\": \"line\", \"x0\": 47, \"x1\": 47, \"y0\": 120.1, \"y1\": 121.21}, {\"line\": {\"color\": \"rgb(55, 128, 191)\", \"width\": 1.5}, \"type\": \"line\", \"x0\": 48, \"x1\": 48, \"y0\": 123.71, \"y1\": 124.82}, {\"line\": {\"color\": \"rgb(55, 128, 191)\", \"width\": 1.5}, \"type\": \"line\", \"x0\": 49, \"x1\": 49, \"y0\": 123.37, \"y1\": 124.47}, {\"line\": {\"color\": \"rgb(55, 128, 191)\", \"width\": 1.5}, \"type\": \"line\", \"x0\": 50, \"x1\": 50, \"y0\": 120.61, \"y1\": 121.72}], \"showlegend\": false, \"title\": \"Random Walk\", \"xaxis\": {\"anchor\": \"y2\", \"showgrid\": true, \"showticklabels\": true, \"tickangle\": 90, \"tickmode\": \"array\", \"ticktext\": [20190520, 20190522, 20190524, 20190528, 20190530, 20190603, 20190605, 20190607, 20190611, 20190613, 20190617, 20190619, 20190621, 20190625, 20190627, 20190701, 20190703, 20190705, 20190709, 20190711, 20190715, 20190717, 20190719, 20190723, 20190725, 20190726], \"tickvals\": [1, 3, 5, 7, 9, 11, 13, 15, 17, 19, 21, 23, 25, 27, 29, 31, 33, 35, 37, 39, 41, 43, 45, 47, 49, 50]}, \"yaxis\": {\"domain\": [0.22, 1], \"range\": [110.0, 127.98]}, \"yaxis2\": {\"domain\": [0, 0.2], \"range\": [0, 658410.0]}}, {\"showLink\": true, \"linkText\": \"Export to plot.ly\"})});</script>"
      ],
      "text/vnd.plotly.v1+html": [
       "<div id=\"e48dd9e4-df8f-416d-a249-31f959069274\" style=\"height: 525px; width: 100%;\" class=\"plotly-graph-div\"></div><script type=\"text/javascript\">require([\"plotly\"], function(Plotly) { window.PLOTLYENV=window.PLOTLYENV || {};window.PLOTLYENV.BASE_URL=\"https://plot.ly\";Plotly.newPlot(\"e48dd9e4-df8f-416d-a249-31f959069274\", [{\"hoverinfo\": \"text\", \"mode\": \"markers\", \"text\": [\"date: 20190520.0<br>open: 113.17<br>high: 116.38<br>low: 112.08<br>close: 115.27<br>volume: 621296.0\", \"date: 20190521.0<br>open: 116.65<br>high: 117.73<br>low: 115.22<br>close: 116.3<br>volume: 637415.0\", \"date: 20190522.0<br>open: 119.77<br>high: 120.86<br>low: 115.81<br>close: 116.9<br>volume: 624952.0\", \"date: 20190523.0<br>open: 114.74<br>high: 117.44<br>low: 113.63<br>close: 116.33<br>volume: 638266.0\", \"date: 20190524.0<br>open: 115.6<br>high: 119.2<br>low: 114.5<br>close: 118.12<br>volume: 658410.0\", \"date: 20190527.0<br>open: 120.11<br>high: 121.34<br>low: 119.0<br>close: 120.23<br>volume: 651406.0\", \"date: 20190528.0<br>open: 123.02<br>high: 124.12<br>low: 117.7<br>close: 118.81<br>volume: 631331.0\", \"date: 20190529.0<br>open: 120.27<br>high: 121.81<br>low: 119.17<br>close: 120.69<br>volume: 632221.0\", \"date: 20190530.0<br>open: 117.16<br>high: 122.11<br>low: 116.06<br>close: 120.99<br>volume: 628629.0\", \"date: 20190531.0<br>open: 114.18<br>high: 120.76<br>low: 113.08<br>close: 119.66<br>volume: 608881.0\", \"date: 20190603.0<br>open: 119.86<br>high: 120.97<br>low: 118.65<br>close: 119.75<br>volume: 617873.0\", \"date: 20190604.0<br>open: 123.74<br>high: 124.86<br>low: 120.24<br>close: 121.34<br>volume: 590308.0\", \"date: 20190605.0<br>open: 124.41<br>high: 125.53<br>low: 119.29<br>close: 120.42<br>volume: 598560.0\", \"date: 20190606.0<br>open: 118.32<br>high: 119.9<br>low: 117.21<br>close: 118.8<br>volume: 613607.0\", \"date: 20190607.0<br>open: 117.23<br>high: 119.02<br>low: 116.12<br>close: 117.92<br>volume: 600460.0\", \"date: 20190610.0<br>open: 119.57<br>high: 120.67<br>low: 116.09<br>close: 117.21<br>volume: 582002.0\", \"date: 20190611.0<br>open: 116.89<br>high: 118.0<br>low: 115.11<br>close: 116.22<br>volume: 600948.0\", \"date: 20190612.0<br>open: 119.49<br>high: 120.59<br>low: 115.76<br>close: 116.86<br>volume: 607977.0\", \"date: 20190613.0<br>open: 119.34<br>high: 120.44<br>low: 115.94<br>close: 117.04<br>volume: 635485.0\", \"date: 20190614.0<br>open: 114.43<br>high: 117.99<br>low: 113.33<br>close: 116.89<br>volume: 598369.0\", \"date: 20190617.0<br>open: 114.71<br>high: 117.6<br>low: 113.6<br>close: 116.48<br>volume: 606158.0\", \"date: 20190618.0<br>open: 112.72<br>high: 115.98<br>low: 111.62<br>close: 114.89<br>volume: 577935.0\", \"date: 20190619.0<br>open: 111.11<br>high: 115.51<br>low: 110.0<br>close: 114.4<br>volume: 574633.0\", \"date: 20190620.0<br>open: 113.29<br>high: 116.26<br>low: 112.21<br>close: 115.14<br>volume: 561866.0\", \"date: 20190621.0<br>open: 114.48<br>high: 116.44<br>low: 113.37<br>close: 115.33<br>volume: 565476.0\", \"date: 20190624.0<br>open: 118.24<br>high: 119.35<br>low: 114.98<br>close: 116.09<br>volume: 540917.0\", \"date: 20190625.0<br>open: 114.9<br>high: 116.15<br>low: 113.79<br>close: 115.05<br>volume: 518474.0\", \"date: 20190626.0<br>open: 114.04<br>high: 116.09<br>low: 112.94<br>close: 114.99<br>volume: 494450.0\", \"date: 20190627.0<br>open: 118.27<br>high: 119.38<br>low: 114.06<br>close: 115.18<br>volume: 460489.0\", \"date: 20190628.0<br>open: 114.93<br>high: 116.62<br>low: 113.8<br>close: 115.52<br>volume: 463312.0\", \"date: 20190701.0<br>open: 117.51<br>high: 119.73<br>low: 116.43<br>close: 118.62<br>volume: 457218.0\", \"date: 20190702.0<br>open: 120.89<br>high: 122.01<br>low: 119.25<br>close: 120.36<br>volume: 424215.0\", \"date: 20190703.0<br>open: 123.45<br>high: 124.56<br>low: 122.14<br>close: 123.25<br>volume: 426738.0\", \"date: 20190704.0<br>open: 123.46<br>high: 124.85<br>low: 122.34<br>close: 123.75<br>volume: 425519.0\", \"date: 20190705.0<br>open: 123.89<br>high: 126.4<br>low: 122.8<br>close: 125.29<br>volume: 437601.0\", \"date: 20190708.0<br>open: 124.17<br>high: 125.79<br>low: 123.07<br>close: 124.68<br>volume: 449370.0\", \"date: 20190709.0<br>open: 124.54<br>high: 126.61<br>low: 123.44<br>close: 125.5<br>volume: 463888.0\", \"date: 20190710.0<br>open: 126.86<br>high: 127.98<br>low: 123.26<br>close: 124.38<br>volume: 488137.0\", \"date: 20190711.0<br>open: 124.54<br>high: 126.81<br>low: 123.44<br>close: 125.74<br>volume: 491364.0\", \"date: 20190712.0<br>open: 123.83<br>high: 125.94<br>low: 122.73<br>close: 124.83<br>volume: 481009.0\", \"date: 20190715.0<br>open: 125.32<br>high: 126.44<br>low: 123.66<br>close: 124.75<br>volume: 489067.0\", \"date: 20190716.0<br>open: 122.8<br>high: 125.08<br>low: 121.69<br>close: 123.99<br>volume: 481316.0\", \"date: 20190717.0<br>open: 123.04<br>high: 124.13<br>low: 121.67<br>close: 122.76<br>volume: 474061.0\", \"date: 20190718.0<br>open: 121.68<br>high: 122.77<br>low: 120.54<br>close: 121.65<br>volume: 447968.0\", \"date: 20190719.0<br>open: 124.09<br>high: 125.19<br>low: 120.26<br>close: 121.37<br>volume: 439282.0\", \"date: 20190722.0<br>open: 118.08<br>high: 121.53<br>low: 116.97<br>close: 120.43<br>volume: 449222.0\", \"date: 20190723.0<br>open: 120.1<br>high: 121.21<br>low: 118.29<br>close: 119.4<br>volume: 463633.0\", \"date: 20190724.0<br>open: 123.71<br>high: 124.82<br>low: 118.76<br>close: 119.86<br>volume: 455947.0\", \"date: 20190725.0<br>open: 123.37<br>high: 124.47<br>low: 120.43<br>close: 121.52<br>volume: 472954.0\", \"date: 20190726.0<br>open: 120.35<br>high: 121.72<br>low: 119.23<br>close: 120.61<br>volume: 465064.0\"], \"x\": [1, 2, 3, 4, 5, 6, 7, 8, 9, 10, 11, 12, 13, 14, 15, 16, 17, 18, 19, 20, 21, 22, 23, 24, 25, 26, 27, 28, 29, 30, 31, 32, 33, 34, 35, 36, 37, 38, 39, 40, 41, 42, 43, 44, 45, 46, 47, 48, 49, 50], \"xaxis\": \"x\", \"y\": [115.27, 116.3, 116.9, 116.33, 118.12, 120.23, 118.81, 120.69, 120.99, 119.66, 119.75, 121.34, 120.42, 118.8, 117.92, 117.21, 116.22, 116.86, 117.04, 116.89, 116.48, 114.89, 114.4, 115.14, 115.33, 116.09, 115.05, 114.99, 115.18, 115.52, 118.62, 120.36, 123.25, 123.75, 125.29, 124.68, 125.5, 124.38, 125.74, 124.83, 124.75, 123.99, 122.76, 121.65, 121.37, 120.43, 119.4, 119.86, 121.52, 120.61], \"yaxis\": \"y\", \"type\": \"scatter\", \"uid\": \"c4b1637a-afa5-11e9-902a-8c859025e7f9\"}, {\"width\": 0.5, \"x\": [1, 2, 3, 4, 5, 6, 7, 8, 9, 10, 11, 12, 13, 14, 15, 16, 17, 18, 19, 20, 21, 22, 23, 24, 25, 26, 27, 28, 29, 30, 31, 32, 33, 34, 35, 36, 37, 38, 39, 40, 41, 42, 43, 44, 45, 46, 47, 48, 49, 50], \"xaxis\": \"x\", \"y\": [621296.0, 637415.0, 624952.0, 638266.0, 658410.0, 651406.0, 631331.0, 632221.0, 628629.0, 608881.0, 617873.0, 590308.0, 598560.0, 613607.0, 600460.0, 582002.0, 600948.0, 607977.0, 635485.0, 598369.0, 606158.0, 577935.0, 574633.0, 561866.0, 565476.0, 540917.0, 518474.0, 494450.0, 460489.0, 463312.0, 457218.0, 424215.0, 426738.0, 425519.0, 437601.0, 449370.0, 463888.0, 488137.0, 491364.0, 481009.0, 489067.0, 481316.0, 474061.0, 447968.0, 439282.0, 449222.0, 463633.0, 455947.0, 472954.0, 465064.0], \"yaxis\": \"y2\", \"type\": \"bar\", \"uid\": \"c4b16528-afa5-11e9-917f-8c859025e7f9\"}], {\"margin\": {\"t\": 100}, \"shapes\": [{\"line\": {\"color\": \"rgb(55, 128, 191)\", \"width\": 1.5}, \"type\": \"line\", \"x0\": 1, \"x1\": 1, \"y0\": 112.08, \"y1\": 113.17}, {\"line\": {\"color\": \"rgb(55, 128, 191)\", \"width\": 1.5}, \"type\": \"line\", \"x0\": 2, \"x1\": 2, \"y0\": 115.22, \"y1\": 116.3}, {\"line\": {\"color\": \"rgb(55, 128, 191)\", \"width\": 1.5}, \"type\": \"line\", \"x0\": 3, \"x1\": 3, \"y0\": 115.81, \"y1\": 116.9}, {\"line\": {\"color\": \"rgb(55, 128, 191)\", \"width\": 1.5}, \"type\": \"line\", \"x0\": 4, \"x1\": 4, \"y0\": 113.63, \"y1\": 114.74}, {\"line\": {\"color\": \"rgb(55, 128, 191)\", \"width\": 1.5}, \"type\": \"line\", \"x0\": 5, \"x1\": 5, \"y0\": 114.5, \"y1\": 115.6}, {\"line\": {\"color\": \"rgb(55, 128, 191)\", \"width\": 1.5}, \"type\": \"line\", \"x0\": 6, \"x1\": 6, \"y0\": 119.0, \"y1\": 120.11}, {\"line\": {\"color\": \"rgb(55, 128, 191)\", \"width\": 1.5}, \"type\": \"line\", \"x0\": 7, \"x1\": 7, \"y0\": 117.7, \"y1\": 118.81}, {\"line\": {\"color\": \"rgb(55, 128, 191)\", \"width\": 1.5}, \"type\": \"line\", \"x0\": 8, \"x1\": 8, \"y0\": 119.17, \"y1\": 120.27}, {\"line\": {\"color\": \"rgb(55, 128, 191)\", \"width\": 1.5}, \"type\": \"line\", \"x0\": 9, \"x1\": 9, \"y0\": 116.06, \"y1\": 117.16}, {\"line\": {\"color\": \"rgb(55, 128, 191)\", \"width\": 1.5}, \"type\": \"line\", \"x0\": 10, \"x1\": 10, \"y0\": 113.08, \"y1\": 114.18}, {\"line\": {\"color\": \"rgb(55, 128, 191)\", \"width\": 1.5}, \"type\": \"line\", \"x0\": 11, \"x1\": 11, \"y0\": 118.65, \"y1\": 119.75}, {\"line\": {\"color\": \"rgb(55, 128, 191)\", \"width\": 1.5}, \"type\": \"line\", \"x0\": 12, \"x1\": 12, \"y0\": 120.24, \"y1\": 121.34}, {\"line\": {\"color\": \"rgb(55, 128, 191)\", \"width\": 1.5}, \"type\": \"line\", \"x0\": 13, \"x1\": 13, \"y0\": 119.29, \"y1\": 120.42}, {\"line\": {\"color\": \"rgb(55, 128, 191)\", \"width\": 1.5}, \"type\": \"line\", \"x0\": 14, \"x1\": 14, \"y0\": 117.21, \"y1\": 118.32}, {\"line\": {\"color\": \"rgb(55, 128, 191)\", \"width\": 1.5}, \"type\": \"line\", \"x0\": 15, \"x1\": 15, \"y0\": 116.12, \"y1\": 117.23}, {\"line\": {\"color\": \"rgb(55, 128, 191)\", \"width\": 1.5}, \"type\": \"line\", \"x0\": 16, \"x1\": 16, \"y0\": 116.09, \"y1\": 117.21}, {\"line\": {\"color\": \"rgb(55, 128, 191)\", \"width\": 1.5}, \"type\": \"line\", \"x0\": 17, \"x1\": 17, \"y0\": 115.11, \"y1\": 116.22}, {\"line\": {\"color\": \"rgb(55, 128, 191)\", \"width\": 1.5}, \"type\": \"line\", \"x0\": 18, \"x1\": 18, \"y0\": 115.76, \"y1\": 116.86}, {\"line\": {\"color\": \"rgb(55, 128, 191)\", \"width\": 1.5}, \"type\": \"line\", \"x0\": 19, \"x1\": 19, \"y0\": 115.94, \"y1\": 117.04}, {\"line\": {\"color\": \"rgb(55, 128, 191)\", \"width\": 1.5}, \"type\": \"line\", \"x0\": 20, \"x1\": 20, \"y0\": 113.33, \"y1\": 114.43}, {\"line\": {\"color\": \"rgb(55, 128, 191)\", \"width\": 1.5}, \"type\": \"line\", \"x0\": 21, \"x1\": 21, \"y0\": 113.6, \"y1\": 114.71}, {\"line\": {\"color\": \"rgb(55, 128, 191)\", \"width\": 1.5}, \"type\": \"line\", \"x0\": 22, \"x1\": 22, \"y0\": 111.62, \"y1\": 112.72}, {\"line\": {\"color\": \"rgb(55, 128, 191)\", \"width\": 1.5}, \"type\": \"line\", \"x0\": 23, \"x1\": 23, \"y0\": 110.0, \"y1\": 111.11}, {\"line\": {\"color\": \"rgb(55, 128, 191)\", \"width\": 1.5}, \"type\": \"line\", \"x0\": 24, \"x1\": 24, \"y0\": 112.21, \"y1\": 113.29}, {\"line\": {\"color\": \"rgb(55, 128, 191)\", \"width\": 1.5}, \"type\": \"line\", \"x0\": 25, \"x1\": 25, \"y0\": 113.37, \"y1\": 114.48}, {\"line\": {\"color\": \"rgb(55, 128, 191)\", \"width\": 1.5}, \"type\": \"line\", \"x0\": 26, \"x1\": 26, \"y0\": 114.98, \"y1\": 116.09}, {\"line\": {\"color\": \"rgb(55, 128, 191)\", \"width\": 1.5}, \"type\": \"line\", \"x0\": 27, \"x1\": 27, \"y0\": 113.79, \"y1\": 114.9}, {\"line\": {\"color\": \"rgb(55, 128, 191)\", \"width\": 1.5}, \"type\": \"line\", \"x0\": 28, \"x1\": 28, \"y0\": 112.94, \"y1\": 114.04}, {\"line\": {\"color\": \"rgb(55, 128, 191)\", \"width\": 1.5}, \"type\": \"line\", \"x0\": 29, \"x1\": 29, \"y0\": 114.06, \"y1\": 115.18}, {\"line\": {\"color\": \"rgb(55, 128, 191)\", \"width\": 1.5}, \"type\": \"line\", \"x0\": 30, \"x1\": 30, \"y0\": 113.8, \"y1\": 114.93}, {\"line\": {\"color\": \"rgb(55, 128, 191)\", \"width\": 1.5}, \"type\": \"line\", \"x0\": 31, \"x1\": 31, \"y0\": 116.43, \"y1\": 117.51}, {\"line\": {\"color\": \"rgb(55, 128, 191)\", \"width\": 1.5}, \"type\": \"line\", \"x0\": 32, \"x1\": 32, \"y0\": 119.25, \"y1\": 120.36}, {\"line\": {\"color\": \"rgb(55, 128, 191)\", \"width\": 1.5}, \"type\": \"line\", \"x0\": 33, \"x1\": 33, \"y0\": 122.14, \"y1\": 123.25}, {\"line\": {\"color\": \"rgb(55, 128, 191)\", \"width\": 1.5}, \"type\": \"line\", \"x0\": 34, \"x1\": 34, \"y0\": 122.34, \"y1\": 123.46}, {\"line\": {\"color\": \"rgb(55, 128, 191)\", \"width\": 1.5}, \"type\": \"line\", \"x0\": 35, \"x1\": 35, \"y0\": 122.8, \"y1\": 123.89}, {\"line\": {\"color\": \"rgb(55, 128, 191)\", \"width\": 1.5}, \"type\": \"line\", \"x0\": 36, \"x1\": 36, \"y0\": 123.07, \"y1\": 124.17}, {\"line\": {\"color\": \"rgb(55, 128, 191)\", \"width\": 1.5}, \"type\": \"line\", \"x0\": 37, \"x1\": 37, \"y0\": 123.44, \"y1\": 124.54}, {\"line\": {\"color\": \"rgb(55, 128, 191)\", \"width\": 1.5}, \"type\": \"line\", \"x0\": 38, \"x1\": 38, \"y0\": 123.26, \"y1\": 124.38}, {\"line\": {\"color\": \"rgb(55, 128, 191)\", \"width\": 1.5}, \"type\": \"line\", \"x0\": 39, \"x1\": 39, \"y0\": 123.44, \"y1\": 124.54}, {\"line\": {\"color\": \"rgb(55, 128, 191)\", \"width\": 1.5}, \"type\": \"line\", \"x0\": 40, \"x1\": 40, \"y0\": 122.73, \"y1\": 123.83}, {\"line\": {\"color\": \"rgb(55, 128, 191)\", \"width\": 1.5}, \"type\": \"line\", \"x0\": 41, \"x1\": 41, \"y0\": 123.66, \"y1\": 124.75}, {\"line\": {\"color\": \"rgb(55, 128, 191)\", \"width\": 1.5}, \"type\": \"line\", \"x0\": 42, \"x1\": 42, \"y0\": 121.69, \"y1\": 122.8}, {\"line\": {\"color\": \"rgb(55, 128, 191)\", \"width\": 1.5}, \"type\": \"line\", \"x0\": 43, \"x1\": 43, \"y0\": 121.67, \"y1\": 122.76}, {\"line\": {\"color\": \"rgb(55, 128, 191)\", \"width\": 1.5}, \"type\": \"line\", \"x0\": 44, \"x1\": 44, \"y0\": 120.54, \"y1\": 121.65}, {\"line\": {\"color\": \"rgb(55, 128, 191)\", \"width\": 1.5}, \"type\": \"line\", \"x0\": 45, \"x1\": 45, \"y0\": 120.26, \"y1\": 121.37}, {\"line\": {\"color\": \"rgb(55, 128, 191)\", \"width\": 1.5}, \"type\": \"line\", \"x0\": 46, \"x1\": 46, \"y0\": 116.97, \"y1\": 118.08}, {\"line\": {\"color\": \"rgb(55, 128, 191)\", \"width\": 1.5}, \"type\": \"line\", \"x0\": 47, \"x1\": 47, \"y0\": 118.29, \"y1\": 119.4}, {\"line\": {\"color\": \"rgb(55, 128, 191)\", \"width\": 1.5}, \"type\": \"line\", \"x0\": 48, \"x1\": 48, \"y0\": 118.76, \"y1\": 119.86}, {\"line\": {\"color\": \"rgb(55, 128, 191)\", \"width\": 1.5}, \"type\": \"line\", \"x0\": 49, \"x1\": 49, \"y0\": 120.43, \"y1\": 121.52}, {\"line\": {\"color\": \"rgb(55, 128, 191)\", \"width\": 1.5}, \"type\": \"line\", \"x0\": 50, \"x1\": 50, \"y0\": 119.23, \"y1\": 120.35}, {\"fillcolor\": \"rgba(0, 204, 0, 0.6)\", \"line\": {\"color\": \"rgb(55, 128, 191)\", \"width\": 1}, \"type\": \"rect\", \"x0\": 0.75, \"x1\": 1.25, \"xref\": \"x\", \"y0\": 113.17, \"y1\": 115.27, \"yref\": \"y\"}, {\"fillcolor\": \"rgba(255, 0, 0, 0.6)\", \"line\": {\"color\": \"rgb(55, 128, 191)\", \"width\": 1}, \"type\": \"rect\", \"x0\": 1.75, \"x1\": 2.25, \"xref\": \"x\", \"y0\": 116.3, \"y1\": 116.65, \"yref\": \"y\"}, {\"fillcolor\": \"rgba(255, 0, 0, 0.6)\", \"line\": {\"color\": \"rgb(55, 128, 191)\", \"width\": 1}, \"type\": \"rect\", \"x0\": 2.75, \"x1\": 3.25, \"xref\": \"x\", \"y0\": 116.9, \"y1\": 119.77, \"yref\": \"y\"}, {\"fillcolor\": \"rgba(0, 204, 0, 0.6)\", \"line\": {\"color\": \"rgb(55, 128, 191)\", \"width\": 1}, \"type\": \"rect\", \"x0\": 3.75, \"x1\": 4.25, \"xref\": \"x\", \"y0\": 114.74, \"y1\": 116.33, \"yref\": \"y\"}, {\"fillcolor\": \"rgba(0, 204, 0, 0.6)\", \"line\": {\"color\": \"rgb(55, 128, 191)\", \"width\": 1}, \"type\": \"rect\", \"x0\": 4.75, \"x1\": 5.25, \"xref\": \"x\", \"y0\": 115.6, \"y1\": 118.12, \"yref\": \"y\"}, {\"fillcolor\": \"rgba(0, 204, 0, 0.6)\", \"line\": {\"color\": \"rgb(55, 128, 191)\", \"width\": 1}, \"type\": \"rect\", \"x0\": 5.75, \"x1\": 6.25, \"xref\": \"x\", \"y0\": 120.11, \"y1\": 120.23, \"yref\": \"y\"}, {\"fillcolor\": \"rgba(255, 0, 0, 0.6)\", \"line\": {\"color\": \"rgb(55, 128, 191)\", \"width\": 1}, \"type\": \"rect\", \"x0\": 6.75, \"x1\": 7.25, \"xref\": \"x\", \"y0\": 118.81, \"y1\": 123.02, \"yref\": \"y\"}, {\"fillcolor\": \"rgba(0, 204, 0, 0.6)\", \"line\": {\"color\": \"rgb(55, 128, 191)\", \"width\": 1}, \"type\": \"rect\", \"x0\": 7.75, \"x1\": 8.25, \"xref\": \"x\", \"y0\": 120.27, \"y1\": 120.69, \"yref\": \"y\"}, {\"fillcolor\": \"rgba(0, 204, 0, 0.6)\", \"line\": {\"color\": \"rgb(55, 128, 191)\", \"width\": 1}, \"type\": \"rect\", \"x0\": 8.75, \"x1\": 9.25, \"xref\": \"x\", \"y0\": 117.16, \"y1\": 120.99, \"yref\": \"y\"}, {\"fillcolor\": \"rgba(0, 204, 0, 0.6)\", \"line\": {\"color\": \"rgb(55, 128, 191)\", \"width\": 1}, \"type\": \"rect\", \"x0\": 9.75, \"x1\": 10.25, \"xref\": \"x\", \"y0\": 114.18, \"y1\": 119.66, \"yref\": \"y\"}, {\"fillcolor\": \"rgba(255, 0, 0, 0.6)\", \"line\": {\"color\": \"rgb(55, 128, 191)\", \"width\": 1}, \"type\": \"rect\", \"x0\": 10.75, \"x1\": 11.25, \"xref\": \"x\", \"y0\": 119.75, \"y1\": 119.86, \"yref\": \"y\"}, {\"fillcolor\": \"rgba(255, 0, 0, 0.6)\", \"line\": {\"color\": \"rgb(55, 128, 191)\", \"width\": 1}, \"type\": \"rect\", \"x0\": 11.75, \"x1\": 12.25, \"xref\": \"x\", \"y0\": 121.34, \"y1\": 123.74, \"yref\": \"y\"}, {\"fillcolor\": \"rgba(255, 0, 0, 0.6)\", \"line\": {\"color\": \"rgb(55, 128, 191)\", \"width\": 1}, \"type\": \"rect\", \"x0\": 12.75, \"x1\": 13.25, \"xref\": \"x\", \"y0\": 120.42, \"y1\": 124.41, \"yref\": \"y\"}, {\"fillcolor\": \"rgba(0, 204, 0, 0.6)\", \"line\": {\"color\": \"rgb(55, 128, 191)\", \"width\": 1}, \"type\": \"rect\", \"x0\": 13.75, \"x1\": 14.25, \"xref\": \"x\", \"y0\": 118.32, \"y1\": 118.8, \"yref\": \"y\"}, {\"fillcolor\": \"rgba(0, 204, 0, 0.6)\", \"line\": {\"color\": \"rgb(55, 128, 191)\", \"width\": 1}, \"type\": \"rect\", \"x0\": 14.75, \"x1\": 15.25, \"xref\": \"x\", \"y0\": 117.23, \"y1\": 117.92, \"yref\": \"y\"}, {\"fillcolor\": \"rgba(255, 0, 0, 0.6)\", \"line\": {\"color\": \"rgb(55, 128, 191)\", \"width\": 1}, \"type\": \"rect\", \"x0\": 15.75, \"x1\": 16.25, \"xref\": \"x\", \"y0\": 117.21, \"y1\": 119.57, \"yref\": \"y\"}, {\"fillcolor\": \"rgba(255, 0, 0, 0.6)\", \"line\": {\"color\": \"rgb(55, 128, 191)\", \"width\": 1}, \"type\": \"rect\", \"x0\": 16.75, \"x1\": 17.25, \"xref\": \"x\", \"y0\": 116.22, \"y1\": 116.89, \"yref\": \"y\"}, {\"fillcolor\": \"rgba(255, 0, 0, 0.6)\", \"line\": {\"color\": \"rgb(55, 128, 191)\", \"width\": 1}, \"type\": \"rect\", \"x0\": 17.75, \"x1\": 18.25, \"xref\": \"x\", \"y0\": 116.86, \"y1\": 119.49, \"yref\": \"y\"}, {\"fillcolor\": \"rgba(255, 0, 0, 0.6)\", \"line\": {\"color\": \"rgb(55, 128, 191)\", \"width\": 1}, \"type\": \"rect\", \"x0\": 18.75, \"x1\": 19.25, \"xref\": \"x\", \"y0\": 117.04, \"y1\": 119.34, \"yref\": \"y\"}, {\"fillcolor\": \"rgba(0, 204, 0, 0.6)\", \"line\": {\"color\": \"rgb(55, 128, 191)\", \"width\": 1}, \"type\": \"rect\", \"x0\": 19.75, \"x1\": 20.25, \"xref\": \"x\", \"y0\": 114.43, \"y1\": 116.89, \"yref\": \"y\"}, {\"fillcolor\": \"rgba(0, 204, 0, 0.6)\", \"line\": {\"color\": \"rgb(55, 128, 191)\", \"width\": 1}, \"type\": \"rect\", \"x0\": 20.75, \"x1\": 21.25, \"xref\": \"x\", \"y0\": 114.71, \"y1\": 116.48, \"yref\": \"y\"}, {\"fillcolor\": \"rgba(0, 204, 0, 0.6)\", \"line\": {\"color\": \"rgb(55, 128, 191)\", \"width\": 1}, \"type\": \"rect\", \"x0\": 21.75, \"x1\": 22.25, \"xref\": \"x\", \"y0\": 112.72, \"y1\": 114.89, \"yref\": \"y\"}, {\"fillcolor\": \"rgba(0, 204, 0, 0.6)\", \"line\": {\"color\": \"rgb(55, 128, 191)\", \"width\": 1}, \"type\": \"rect\", \"x0\": 22.75, \"x1\": 23.25, \"xref\": \"x\", \"y0\": 111.11, \"y1\": 114.4, \"yref\": \"y\"}, {\"fillcolor\": \"rgba(0, 204, 0, 0.6)\", \"line\": {\"color\": \"rgb(55, 128, 191)\", \"width\": 1}, \"type\": \"rect\", \"x0\": 23.75, \"x1\": 24.25, \"xref\": \"x\", \"y0\": 113.29, \"y1\": 115.14, \"yref\": \"y\"}, {\"fillcolor\": \"rgba(0, 204, 0, 0.6)\", \"line\": {\"color\": \"rgb(55, 128, 191)\", \"width\": 1}, \"type\": \"rect\", \"x0\": 24.75, \"x1\": 25.25, \"xref\": \"x\", \"y0\": 114.48, \"y1\": 115.33, \"yref\": \"y\"}, {\"fillcolor\": \"rgba(255, 0, 0, 0.6)\", \"line\": {\"color\": \"rgb(55, 128, 191)\", \"width\": 1}, \"type\": \"rect\", \"x0\": 25.75, \"x1\": 26.25, \"xref\": \"x\", \"y0\": 116.09, \"y1\": 118.24, \"yref\": \"y\"}, {\"fillcolor\": \"rgba(0, 204, 0, 0.6)\", \"line\": {\"color\": \"rgb(55, 128, 191)\", \"width\": 1}, \"type\": \"rect\", \"x0\": 26.75, \"x1\": 27.25, \"xref\": \"x\", \"y0\": 114.9, \"y1\": 115.05, \"yref\": \"y\"}, {\"fillcolor\": \"rgba(0, 204, 0, 0.6)\", \"line\": {\"color\": \"rgb(55, 128, 191)\", \"width\": 1}, \"type\": \"rect\", \"x0\": 27.75, \"x1\": 28.25, \"xref\": \"x\", \"y0\": 114.04, \"y1\": 114.99, \"yref\": \"y\"}, {\"fillcolor\": \"rgba(255, 0, 0, 0.6)\", \"line\": {\"color\": \"rgb(55, 128, 191)\", \"width\": 1}, \"type\": \"rect\", \"x0\": 28.75, \"x1\": 29.25, \"xref\": \"x\", \"y0\": 115.18, \"y1\": 118.27, \"yref\": \"y\"}, {\"fillcolor\": \"rgba(0, 204, 0, 0.6)\", \"line\": {\"color\": \"rgb(55, 128, 191)\", \"width\": 1}, \"type\": \"rect\", \"x0\": 29.75, \"x1\": 30.25, \"xref\": \"x\", \"y0\": 114.93, \"y1\": 115.52, \"yref\": \"y\"}, {\"fillcolor\": \"rgba(0, 204, 0, 0.6)\", \"line\": {\"color\": \"rgb(55, 128, 191)\", \"width\": 1}, \"type\": \"rect\", \"x0\": 30.75, \"x1\": 31.25, \"xref\": \"x\", \"y0\": 117.51, \"y1\": 118.62, \"yref\": \"y\"}, {\"fillcolor\": \"rgba(255, 0, 0, 0.6)\", \"line\": {\"color\": \"rgb(55, 128, 191)\", \"width\": 1}, \"type\": \"rect\", \"x0\": 31.75, \"x1\": 32.25, \"xref\": \"x\", \"y0\": 120.36, \"y1\": 120.89, \"yref\": \"y\"}, {\"fillcolor\": \"rgba(255, 0, 0, 0.6)\", \"line\": {\"color\": \"rgb(55, 128, 191)\", \"width\": 1}, \"type\": \"rect\", \"x0\": 32.75, \"x1\": 33.25, \"xref\": \"x\", \"y0\": 123.25, \"y1\": 123.45, \"yref\": \"y\"}, {\"fillcolor\": \"rgba(0, 204, 0, 0.6)\", \"line\": {\"color\": \"rgb(55, 128, 191)\", \"width\": 1}, \"type\": \"rect\", \"x0\": 33.75, \"x1\": 34.25, \"xref\": \"x\", \"y0\": 123.46, \"y1\": 123.75, \"yref\": \"y\"}, {\"fillcolor\": \"rgba(0, 204, 0, 0.6)\", \"line\": {\"color\": \"rgb(55, 128, 191)\", \"width\": 1}, \"type\": \"rect\", \"x0\": 34.75, \"x1\": 35.25, \"xref\": \"x\", \"y0\": 123.89, \"y1\": 125.29, \"yref\": \"y\"}, {\"fillcolor\": \"rgba(0, 204, 0, 0.6)\", \"line\": {\"color\": \"rgb(55, 128, 191)\", \"width\": 1}, \"type\": \"rect\", \"x0\": 35.75, \"x1\": 36.25, \"xref\": \"x\", \"y0\": 124.17, \"y1\": 124.68, \"yref\": \"y\"}, {\"fillcolor\": \"rgba(0, 204, 0, 0.6)\", \"line\": {\"color\": \"rgb(55, 128, 191)\", \"width\": 1}, \"type\": \"rect\", \"x0\": 36.75, \"x1\": 37.25, \"xref\": \"x\", \"y0\": 124.54, \"y1\": 125.5, \"yref\": \"y\"}, {\"fillcolor\": \"rgba(255, 0, 0, 0.6)\", \"line\": {\"color\": \"rgb(55, 128, 191)\", \"width\": 1}, \"type\": \"rect\", \"x0\": 37.75, \"x1\": 38.25, \"xref\": \"x\", \"y0\": 124.38, \"y1\": 126.86, \"yref\": \"y\"}, {\"fillcolor\": \"rgba(0, 204, 0, 0.6)\", \"line\": {\"color\": \"rgb(55, 128, 191)\", \"width\": 1}, \"type\": \"rect\", \"x0\": 38.75, \"x1\": 39.25, \"xref\": \"x\", \"y0\": 124.54, \"y1\": 125.74, \"yref\": \"y\"}, {\"fillcolor\": \"rgba(0, 204, 0, 0.6)\", \"line\": {\"color\": \"rgb(55, 128, 191)\", \"width\": 1}, \"type\": \"rect\", \"x0\": 39.75, \"x1\": 40.25, \"xref\": \"x\", \"y0\": 123.83, \"y1\": 124.83, \"yref\": \"y\"}, {\"fillcolor\": \"rgba(255, 0, 0, 0.6)\", \"line\": {\"color\": \"rgb(55, 128, 191)\", \"width\": 1}, \"type\": \"rect\", \"x0\": 40.75, \"x1\": 41.25, \"xref\": \"x\", \"y0\": 124.75, \"y1\": 125.32, \"yref\": \"y\"}, {\"fillcolor\": \"rgba(0, 204, 0, 0.6)\", \"line\": {\"color\": \"rgb(55, 128, 191)\", \"width\": 1}, \"type\": \"rect\", \"x0\": 41.75, \"x1\": 42.25, \"xref\": \"x\", \"y0\": 122.8, \"y1\": 123.99, \"yref\": \"y\"}, {\"fillcolor\": \"rgba(255, 0, 0, 0.6)\", \"line\": {\"color\": \"rgb(55, 128, 191)\", \"width\": 1}, \"type\": \"rect\", \"x0\": 42.75, \"x1\": 43.25, \"xref\": \"x\", \"y0\": 122.76, \"y1\": 123.04, \"yref\": \"y\"}, {\"fillcolor\": \"rgba(255, 0, 0, 0.6)\", \"line\": {\"color\": \"rgb(55, 128, 191)\", \"width\": 1}, \"type\": \"rect\", \"x0\": 43.75, \"x1\": 44.25, \"xref\": \"x\", \"y0\": 121.65, \"y1\": 121.68, \"yref\": \"y\"}, {\"fillcolor\": \"rgba(255, 0, 0, 0.6)\", \"line\": {\"color\": \"rgb(55, 128, 191)\", \"width\": 1}, \"type\": \"rect\", \"x0\": 44.75, \"x1\": 45.25, \"xref\": \"x\", \"y0\": 121.37, \"y1\": 124.09, \"yref\": \"y\"}, {\"fillcolor\": \"rgba(0, 204, 0, 0.6)\", \"line\": {\"color\": \"rgb(55, 128, 191)\", \"width\": 1}, \"type\": \"rect\", \"x0\": 45.75, \"x1\": 46.25, \"xref\": \"x\", \"y0\": 118.08, \"y1\": 120.43, \"yref\": \"y\"}, {\"fillcolor\": \"rgba(255, 0, 0, 0.6)\", \"line\": {\"color\": \"rgb(55, 128, 191)\", \"width\": 1}, \"type\": \"rect\", \"x0\": 46.75, \"x1\": 47.25, \"xref\": \"x\", \"y0\": 119.4, \"y1\": 120.1, \"yref\": \"y\"}, {\"fillcolor\": \"rgba(255, 0, 0, 0.6)\", \"line\": {\"color\": \"rgb(55, 128, 191)\", \"width\": 1}, \"type\": \"rect\", \"x0\": 47.75, \"x1\": 48.25, \"xref\": \"x\", \"y0\": 119.86, \"y1\": 123.71, \"yref\": \"y\"}, {\"fillcolor\": \"rgba(255, 0, 0, 0.6)\", \"line\": {\"color\": \"rgb(55, 128, 191)\", \"width\": 1}, \"type\": \"rect\", \"x0\": 48.75, \"x1\": 49.25, \"xref\": \"x\", \"y0\": 121.52, \"y1\": 123.37, \"yref\": \"y\"}, {\"fillcolor\": \"rgba(0, 204, 0, 0.6)\", \"line\": {\"color\": \"rgb(55, 128, 191)\", \"width\": 1}, \"type\": \"rect\", \"x0\": 49.75, \"x1\": 50.25, \"xref\": \"x\", \"y0\": 120.35, \"y1\": 120.61, \"yref\": \"y\"}, {\"line\": {\"color\": \"rgb(55, 128, 191)\", \"width\": 1.5}, \"type\": \"line\", \"x0\": 1, \"x1\": 1, \"y0\": 115.27, \"y1\": 116.38}, {\"line\": {\"color\": \"rgb(55, 128, 191)\", \"width\": 1.5}, \"type\": \"line\", \"x0\": 2, \"x1\": 2, \"y0\": 116.65, \"y1\": 117.73}, {\"line\": {\"color\": \"rgb(55, 128, 191)\", \"width\": 1.5}, \"type\": \"line\", \"x0\": 3, \"x1\": 3, \"y0\": 119.77, \"y1\": 120.86}, {\"line\": {\"color\": \"rgb(55, 128, 191)\", \"width\": 1.5}, \"type\": \"line\", \"x0\": 4, \"x1\": 4, \"y0\": 116.33, \"y1\": 117.44}, {\"line\": {\"color\": \"rgb(55, 128, 191)\", \"width\": 1.5}, \"type\": \"line\", \"x0\": 5, \"x1\": 5, \"y0\": 118.12, \"y1\": 119.2}, {\"line\": {\"color\": \"rgb(55, 128, 191)\", \"width\": 1.5}, \"type\": \"line\", \"x0\": 6, \"x1\": 6, \"y0\": 120.23, \"y1\": 121.34}, {\"line\": {\"color\": \"rgb(55, 128, 191)\", \"width\": 1.5}, \"type\": \"line\", \"x0\": 7, \"x1\": 7, \"y0\": 123.02, \"y1\": 124.12}, {\"line\": {\"color\": \"rgb(55, 128, 191)\", \"width\": 1.5}, \"type\": \"line\", \"x0\": 8, \"x1\": 8, \"y0\": 120.69, \"y1\": 121.81}, {\"line\": {\"color\": \"rgb(55, 128, 191)\", \"width\": 1.5}, \"type\": \"line\", \"x0\": 9, \"x1\": 9, \"y0\": 120.99, \"y1\": 122.11}, {\"line\": {\"color\": \"rgb(55, 128, 191)\", \"width\": 1.5}, \"type\": \"line\", \"x0\": 10, \"x1\": 10, \"y0\": 119.66, \"y1\": 120.76}, {\"line\": {\"color\": \"rgb(55, 128, 191)\", \"width\": 1.5}, \"type\": \"line\", \"x0\": 11, \"x1\": 11, \"y0\": 119.86, \"y1\": 120.97}, {\"line\": {\"color\": \"rgb(55, 128, 191)\", \"width\": 1.5}, \"type\": \"line\", \"x0\": 12, \"x1\": 12, \"y0\": 123.74, \"y1\": 124.86}, {\"line\": {\"color\": \"rgb(55, 128, 191)\", \"width\": 1.5}, \"type\": \"line\", \"x0\": 13, \"x1\": 13, \"y0\": 124.41, \"y1\": 125.53}, {\"line\": {\"color\": \"rgb(55, 128, 191)\", \"width\": 1.5}, \"type\": \"line\", \"x0\": 14, \"x1\": 14, \"y0\": 118.8, \"y1\": 119.9}, {\"line\": {\"color\": \"rgb(55, 128, 191)\", \"width\": 1.5}, \"type\": \"line\", \"x0\": 15, \"x1\": 15, \"y0\": 117.92, \"y1\": 119.02}, {\"line\": {\"color\": \"rgb(55, 128, 191)\", \"width\": 1.5}, \"type\": \"line\", \"x0\": 16, \"x1\": 16, \"y0\": 119.57, \"y1\": 120.67}, {\"line\": {\"color\": \"rgb(55, 128, 191)\", \"width\": 1.5}, \"type\": \"line\", \"x0\": 17, \"x1\": 17, \"y0\": 116.89, \"y1\": 118.0}, {\"line\": {\"color\": \"rgb(55, 128, 191)\", \"width\": 1.5}, \"type\": \"line\", \"x0\": 18, \"x1\": 18, \"y0\": 119.49, \"y1\": 120.59}, {\"line\": {\"color\": \"rgb(55, 128, 191)\", \"width\": 1.5}, \"type\": \"line\", \"x0\": 19, \"x1\": 19, \"y0\": 119.34, \"y1\": 120.44}, {\"line\": {\"color\": \"rgb(55, 128, 191)\", \"width\": 1.5}, \"type\": \"line\", \"x0\": 20, \"x1\": 20, \"y0\": 116.89, \"y1\": 117.99}, {\"line\": {\"color\": \"rgb(55, 128, 191)\", \"width\": 1.5}, \"type\": \"line\", \"x0\": 21, \"x1\": 21, \"y0\": 116.48, \"y1\": 117.6}, {\"line\": {\"color\": \"rgb(55, 128, 191)\", \"width\": 1.5}, \"type\": \"line\", \"x0\": 22, \"x1\": 22, \"y0\": 114.89, \"y1\": 115.98}, {\"line\": {\"color\": \"rgb(55, 128, 191)\", \"width\": 1.5}, \"type\": \"line\", \"x0\": 23, \"x1\": 23, \"y0\": 114.4, \"y1\": 115.51}, {\"line\": {\"color\": \"rgb(55, 128, 191)\", \"width\": 1.5}, \"type\": \"line\", \"x0\": 24, \"x1\": 24, \"y0\": 115.14, \"y1\": 116.26}, {\"line\": {\"color\": \"rgb(55, 128, 191)\", \"width\": 1.5}, \"type\": \"line\", \"x0\": 25, \"x1\": 25, \"y0\": 115.33, \"y1\": 116.44}, {\"line\": {\"color\": \"rgb(55, 128, 191)\", \"width\": 1.5}, \"type\": \"line\", \"x0\": 26, \"x1\": 26, \"y0\": 118.24, \"y1\": 119.35}, {\"line\": {\"color\": \"rgb(55, 128, 191)\", \"width\": 1.5}, \"type\": \"line\", \"x0\": 27, \"x1\": 27, \"y0\": 115.05, \"y1\": 116.15}, {\"line\": {\"color\": \"rgb(55, 128, 191)\", \"width\": 1.5}, \"type\": \"line\", \"x0\": 28, \"x1\": 28, \"y0\": 114.99, \"y1\": 116.09}, {\"line\": {\"color\": \"rgb(55, 128, 191)\", \"width\": 1.5}, \"type\": \"line\", \"x0\": 29, \"x1\": 29, \"y0\": 118.27, \"y1\": 119.38}, {\"line\": {\"color\": \"rgb(55, 128, 191)\", \"width\": 1.5}, \"type\": \"line\", \"x0\": 30, \"x1\": 30, \"y0\": 115.52, \"y1\": 116.62}, {\"line\": {\"color\": \"rgb(55, 128, 191)\", \"width\": 1.5}, \"type\": \"line\", \"x0\": 31, \"x1\": 31, \"y0\": 118.62, \"y1\": 119.73}, {\"line\": {\"color\": \"rgb(55, 128, 191)\", \"width\": 1.5}, \"type\": \"line\", \"x0\": 32, \"x1\": 32, \"y0\": 120.89, \"y1\": 122.01}, {\"line\": {\"color\": \"rgb(55, 128, 191)\", \"width\": 1.5}, \"type\": \"line\", \"x0\": 33, \"x1\": 33, \"y0\": 123.45, \"y1\": 124.56}, {\"line\": {\"color\": \"rgb(55, 128, 191)\", \"width\": 1.5}, \"type\": \"line\", \"x0\": 34, \"x1\": 34, \"y0\": 123.75, \"y1\": 124.85}, {\"line\": {\"color\": \"rgb(55, 128, 191)\", \"width\": 1.5}, \"type\": \"line\", \"x0\": 35, \"x1\": 35, \"y0\": 125.29, \"y1\": 126.4}, {\"line\": {\"color\": \"rgb(55, 128, 191)\", \"width\": 1.5}, \"type\": \"line\", \"x0\": 36, \"x1\": 36, \"y0\": 124.68, \"y1\": 125.79}, {\"line\": {\"color\": \"rgb(55, 128, 191)\", \"width\": 1.5}, \"type\": \"line\", \"x0\": 37, \"x1\": 37, \"y0\": 125.5, \"y1\": 126.61}, {\"line\": {\"color\": \"rgb(55, 128, 191)\", \"width\": 1.5}, \"type\": \"line\", \"x0\": 38, \"x1\": 38, \"y0\": 126.86, \"y1\": 127.98}, {\"line\": {\"color\": \"rgb(55, 128, 191)\", \"width\": 1.5}, \"type\": \"line\", \"x0\": 39, \"x1\": 39, \"y0\": 125.74, \"y1\": 126.81}, {\"line\": {\"color\": \"rgb(55, 128, 191)\", \"width\": 1.5}, \"type\": \"line\", \"x0\": 40, \"x1\": 40, \"y0\": 124.83, \"y1\": 125.94}, {\"line\": {\"color\": \"rgb(55, 128, 191)\", \"width\": 1.5}, \"type\": \"line\", \"x0\": 41, \"x1\": 41, \"y0\": 125.32, \"y1\": 126.44}, {\"line\": {\"color\": \"rgb(55, 128, 191)\", \"width\": 1.5}, \"type\": \"line\", \"x0\": 42, \"x1\": 42, \"y0\": 123.99, \"y1\": 125.08}, {\"line\": {\"color\": \"rgb(55, 128, 191)\", \"width\": 1.5}, \"type\": \"line\", \"x0\": 43, \"x1\": 43, \"y0\": 123.04, \"y1\": 124.13}, {\"line\": {\"color\": \"rgb(55, 128, 191)\", \"width\": 1.5}, \"type\": \"line\", \"x0\": 44, \"x1\": 44, \"y0\": 121.68, \"y1\": 122.77}, {\"line\": {\"color\": \"rgb(55, 128, 191)\", \"width\": 1.5}, \"type\": \"line\", \"x0\": 45, \"x1\": 45, \"y0\": 124.09, \"y1\": 125.19}, {\"line\": {\"color\": \"rgb(55, 128, 191)\", \"width\": 1.5}, \"type\": \"line\", \"x0\": 46, \"x1\": 46, \"y0\": 120.43, \"y1\": 121.53}, {\"line\": {\"color\": \"rgb(55, 128, 191)\", \"width\": 1.5}, \"type\": \"line\", \"x0\": 47, \"x1\": 47, \"y0\": 120.1, \"y1\": 121.21}, {\"line\": {\"color\": \"rgb(55, 128, 191)\", \"width\": 1.5}, \"type\": \"line\", \"x0\": 48, \"x1\": 48, \"y0\": 123.71, \"y1\": 124.82}, {\"line\": {\"color\": \"rgb(55, 128, 191)\", \"width\": 1.5}, \"type\": \"line\", \"x0\": 49, \"x1\": 49, \"y0\": 123.37, \"y1\": 124.47}, {\"line\": {\"color\": \"rgb(55, 128, 191)\", \"width\": 1.5}, \"type\": \"line\", \"x0\": 50, \"x1\": 50, \"y0\": 120.61, \"y1\": 121.72}], \"showlegend\": false, \"title\": \"Random Walk\", \"xaxis\": {\"anchor\": \"y2\", \"showgrid\": true, \"showticklabels\": true, \"tickangle\": 90, \"tickmode\": \"array\", \"ticktext\": [20190520, 20190522, 20190524, 20190528, 20190530, 20190603, 20190605, 20190607, 20190611, 20190613, 20190617, 20190619, 20190621, 20190625, 20190627, 20190701, 20190703, 20190705, 20190709, 20190711, 20190715, 20190717, 20190719, 20190723, 20190725, 20190726], \"tickvals\": [1, 3, 5, 7, 9, 11, 13, 15, 17, 19, 21, 23, 25, 27, 29, 31, 33, 35, 37, 39, 41, 43, 45, 47, 49, 50]}, \"yaxis\": {\"domain\": [0.22, 1], \"range\": [110.0, 127.98]}, \"yaxis2\": {\"domain\": [0, 0.2], \"range\": [0, 658410.0]}}, {\"showLink\": true, \"linkText\": \"Export to plot.ly\"})});</script>"
      ]
     },
     "metadata": {},
     "output_type": "display_data"
    }
   ],
   "source": [
    "fig1 = dgc.PlotlyCandles(df_pseudo.iloc[-50:],number_of_ticks_display=20,title='Random Walk')\n",
    "iplot(fig1.get_figure())"
   ]
  },
  {
   "cell_type": "code",
   "execution_count": null,
   "metadata": {},
   "outputs": [],
   "source": []
  },
  {
   "cell_type": "code",
   "execution_count": 21,
   "metadata": {},
   "outputs": [],
   "source": [
    "no_border={\n",
    "    'border': '1px solid #000',\n",
    "    'grid-gap': '10px 10px',\n",
    "}\n",
    "\n",
    "logger = dgc.li.init_root_logger('logfile.log','INFO')\n",
    "\n",
    "def dash_app_1():\n",
    "    days_to_show = 50\n",
    "    df_to_show = df_pseudo.iloc[-days_to_show:]\n",
    "    \n",
    "    dt1_comp = dgc.DashTableComponent(\n",
    "        'dt1',df_to_show,None,title='Random Walk',\n",
    "        editable_columns=['close'],logger = logger\n",
    "    )\n",
    "    def create_figure_from_df(input_list):\n",
    "        if input_list is None or len(input_list)<1 or input_list[0] is None:\n",
    "            return [None]\n",
    "        dict_df = input_list[0]\n",
    "        df = dgc.make_df(dict_df)\n",
    "        df.close = df.close.astype(str).astype(float)\n",
    "        p = dgc.PlotlyCandles(df,number_of_ticks_display=20,title='Random Walk').get_figure()\n",
    "        return p\n",
    "    \n",
    "    gr1_comp = dgc.FigureComponent('f1',dt1_comp,create_figure_from_df,logger=logger)\n",
    "\n",
    "    app = dash.Dash()\n",
    "    comp_list = [dt1_comp,gr1_comp]\n",
    "    html_list = [dgc.create_grid([c],num_columns=1) for c in comp_list]\n",
    "    app.layout = dgc.html.Div(html_list)\n",
    "    [c.callback(app) for c in comp_list]\n",
    "    return app\n"
   ]
  },
  {
   "cell_type": "code",
   "execution_count": 22,
   "metadata": {
    "scrolled": true
   },
   "outputs": [
    {
     "name": "stdout",
     "output_type": "stream",
     "text": [
      " * Serving Flask app \"__main__\" (lazy loading)\n",
      " * Environment: production\n",
      "   WARNING: Do not use the development server in a production environment.\n",
      "   Use a production WSGI server instead.\n",
      " * Debug mode: off\n"
     ]
    },
    {
     "name": "stderr",
     "output_type": "stream",
     "text": [
      "2019-07-26 09:03:31,820 - werkzeug - INFO -  * Running on http://127.0.0.1:8500/ (Press CTRL+C to quit)\n"
     ]
    }
   ],
   "source": [
    "DASH_APP_TO_RUN = dash_app_1\n",
    "app = DASH_APP_TO_RUN()\n",
    "app.run_server(host='127.0.0.1',port=8500)"
   ]
  },
  {
   "cell_type": "code",
   "execution_count": 23,
   "metadata": {
    "scrolled": true
   },
   "outputs": [
    {
     "name": "stdout",
     "output_type": "stream",
     "text": [
      "***********************************************\n",
      "Loading(children=Div([Div(children=[Div([Div(children=Div(children='Random Walk', style={'display': 'table-cell', 'textAlign': 'center', 'vertical-align': 'middle', 'font-size': '16px', 'font-weight': 'bold', 'width': '100%'}), style={'display': 'table', 'width': '100%'}), DataTable(columns=[{'name': 'date', 'id': 'date', 'editable': False}, {'name': 'open', 'id': 'open', 'editable': False}, {'name': 'high', 'id': 'high', 'editable': False}, {'name': 'low', 'id': 'low', 'editable': False}, {'name': 'close', 'id': 'close', 'editable': True}, {'name': 'volume', 'id': 'volume', 'editable': False}], css=[{'selector': 'table', 'rule': 'width: 100%;'}], data=[{'date': 20190520.0, 'open': 113.17, 'high': 116.38, 'low': 112.08, 'close': 115.27, 'volume': 621296.0}, {'date': 20190521.0, 'open': 116.65, 'high': 117.73, 'low': 115.22, 'close': 116.3, 'volume': 637415.0}, {'date': 20190522.0, 'open': 119.77, 'high': 120.86, 'low': 115.81, 'close': 116.9, 'volume': 624952.0}, {'date': 20190523.0, 'open': 114.74, 'high': 117.44, 'low': 113.63, 'close': 116.33, 'volume': 638266.0}, {'date': 20190524.0, 'open': 115.6, 'high': 119.2, 'low': 114.5, 'close': 118.12, 'volume': 658410.0}, {'date': 20190527.0, 'open': 120.11, 'high': 121.34, 'low': 119.0, 'close': 120.23, 'volume': 651406.0}, {'date': 20190528.0, 'open': 123.02, 'high': 124.12, 'low': 117.7, 'close': 118.81, 'volume': 631331.0}, {'date': 20190529.0, 'open': 120.27, 'high': 121.81, 'low': 119.17, 'close': 120.69, 'volume': 632221.0}, {'date': 20190530.0, 'open': 117.16, 'high': 122.11, 'low': 116.06, 'close': 120.99, 'volume': 628629.0}, {'date': 20190531.0, 'open': 114.18, 'high': 120.76, 'low': 113.08, 'close': 119.66, 'volume': 608881.0}, {'date': 20190603.0, 'open': 119.86, 'high': 120.97, 'low': 118.65, 'close': 119.75, 'volume': 617873.0}, {'date': 20190604.0, 'open': 123.74, 'high': 124.86, 'low': 120.24, 'close': 121.34, 'volume': 590308.0}, {'date': 20190605.0, 'open': 124.41, 'high': 125.53, 'low': 119.29, 'close': 120.42, 'volume': 598560.0}, {'date': 20190606.0, 'open': 118.32, 'high': 119.9, 'low': 117.21, 'close': 118.8, 'volume': 613607.0}, {'date': 20190607.0, 'open': 117.23, 'high': 119.02, 'low': 116.12, 'close': 117.92, 'volume': 600460.0}, {'date': 20190610.0, 'open': 119.57, 'high': 120.67, 'low': 116.09, 'close': 117.21, 'volume': 582002.0}, {'date': 20190611.0, 'open': 116.89, 'high': 118.0, 'low': 115.11, 'close': 116.22, 'volume': 600948.0}, {'date': 20190612.0, 'open': 119.49, 'high': 120.59, 'low': 115.76, 'close': 116.86, 'volume': 607977.0}, {'date': 20190613.0, 'open': 119.34, 'high': 120.44, 'low': 115.94, 'close': 117.04, 'volume': 635485.0}, {'date': 20190614.0, 'open': 114.43, 'high': 117.99, 'low': 113.33, 'close': 116.89, 'volume': 598369.0}, {'date': 20190617.0, 'open': 114.71, 'high': 117.6, 'low': 113.6, 'close': 116.48, 'volume': 606158.0}, {'date': 20190618.0, 'open': 112.72, 'high': 115.98, 'low': 111.62, 'close': 114.89, 'volume': 577935.0}, {'date': 20190619.0, 'open': 111.11, 'high': 115.51, 'low': 110.0, 'close': 114.4, 'volume': 574633.0}, {'date': 20190620.0, 'open': 113.29, 'high': 116.26, 'low': 112.21, 'close': 115.14, 'volume': 561866.0}, {'date': 20190621.0, 'open': 114.48, 'high': 116.44, 'low': 113.37, 'close': 115.33, 'volume': 565476.0}, {'date': 20190624.0, 'open': 118.24, 'high': 119.35, 'low': 114.98, 'close': 116.09, 'volume': 540917.0}, {'date': 20190625.0, 'open': 114.9, 'high': 116.15, 'low': 113.79, 'close': 115.05, 'volume': 518474.0}, {'date': 20190626.0, 'open': 114.04, 'high': 116.09, 'low': 112.94, 'close': 114.99, 'volume': 494450.0}, {'date': 20190627.0, 'open': 118.27, 'high': 119.38, 'low': 114.06, 'close': 115.18, 'volume': 460489.0}, {'date': 20190628.0, 'open': 114.93, 'high': 116.62, 'low': 113.8, 'close': 115.52, 'volume': 463312.0}, {'date': 20190701.0, 'open': 117.51, 'high': 119.73, 'low': 116.43, 'close': 118.62, 'volume': 457218.0}, {'date': 20190702.0, 'open': 120.89, 'high': 122.01, 'low': 119.25, 'close': 120.36, 'volume': 424215.0}, {'date': 20190703.0, 'open': 123.45, 'high': 124.56, 'low': 122.14, 'close': 123.25, 'volume': 426738.0}, {'date': 20190704.0, 'open': 123.46, 'high': 124.85, 'low': 122.34, 'close': 123.75, 'volume': 425519.0}, {'date': 20190705.0, 'open': 123.89, 'high': 126.4, 'low': 122.8, 'close': 125.29, 'volume': 437601.0}, {'date': 20190708.0, 'open': 124.17, 'high': 125.79, 'low': 123.07, 'close': 124.68, 'volume': 449370.0}, {'date': 20190709.0, 'open': 124.54, 'high': 126.61, 'low': 123.44, 'close': 125.5, 'volume': 463888.0}, {'date': 20190710.0, 'open': 126.86, 'high': 127.98, 'low': 123.26, 'close': 124.38, 'volume': 488137.0}, {'date': 20190711.0, 'open': 124.54, 'high': 126.81, 'low': 123.44, 'close': 125.74, 'volume': 491364.0}, {'date': 20190712.0, 'open': 123.83, 'high': 125.94, 'low': 122.73, 'close': 124.83, 'volume': 481009.0}, {'date': 20190715.0, 'open': 125.32, 'high': 126.44, 'low': 123.66, 'close': 124.75, 'volume': 489067.0}, {'date': 20190716.0, 'open': 122.8, 'high': 125.08, 'low': 121.69, 'close': 123.99, 'volume': 481316.0}, {'date': 20190717.0, 'open': 123.04, 'high': 124.13, 'low': 121.67, 'close': 122.76, 'volume': 474061.0}, {'date': 20190718.0, 'open': 121.68, 'high': 122.77, 'low': 120.54, 'close': 121.65, 'volume': 447968.0}, {'date': 20190719.0, 'open': 124.09, 'high': 125.19, 'low': 120.26, 'close': 121.37, 'volume': 439282.0}, {'date': 20190722.0, 'open': 118.08, 'high': 121.53, 'low': 116.97, 'close': 120.43, 'volume': 449222.0}, {'date': 20190723.0, 'open': 120.1, 'high': 121.21, 'low': 118.29, 'close': 119.4, 'volume': 463633.0}, {'date': 20190724.0, 'open': 123.71, 'high': 124.82, 'low': 118.76, 'close': 119.86, 'volume': 455947.0}, {'date': 20190725.0, 'open': 123.37, 'high': 124.47, 'low': 120.43, 'close': 121.52, 'volume': 472954.0}, {'date': 20190726.0, 'open': 120.35, 'high': 121.72, 'low': 119.23, 'close': 120.61, 'volume': 465064.0}], editable=True, id='dt1', style_as_list_view=False, page_current=0, page_size=100, filter_action='none', style_table={'maxHeight': '450px', 'overflowX': 'scroll', 'overflowY': 'scroll'}, style_cell_conditional=[{'if': {'row_index': 'odd'}, 'backgroundColor': 'rgb(248, 248, 248)'}, {'if': {'column_id': 'symbol'}, 'textAlign': 'left'}, {'if': {'column_id': 'underlying'}, 'textAlign': 'left'}])]), Store(id='dt1_default_store', data=[[{'date': 20190520.0, 'open': 113.17, 'high': 116.38, 'low': 112.08, 'close': 115.27, 'volume': 621296.0}, {'date': 20190521.0, 'open': 116.65, 'high': 117.73, 'low': 115.22, 'close': 116.3, 'volume': 637415.0}, {'date': 20190522.0, 'open': 119.77, 'high': 120.86, 'low': 115.81, 'close': 116.9, 'volume': 624952.0}, {'date': 20190523.0, 'open': 114.74, 'high': 117.44, 'low': 113.63, 'close': 116.33, 'volume': 638266.0}, {'date': 20190524.0, 'open': 115.6, 'high': 119.2, 'low': 114.5, 'close': 118.12, 'volume': 658410.0}, {'date': 20190527.0, 'open': 120.11, 'high': 121.34, 'low': 119.0, 'close': 120.23, 'volume': 651406.0}, {'date': 20190528.0, 'open': 123.02, 'high': 124.12, 'low': 117.7, 'close': 118.81, 'volume': 631331.0}, {'date': 20190529.0, 'open': 120.27, 'high': 121.81, 'low': 119.17, 'close': 120.69, 'volume': 632221.0}, {'date': 20190530.0, 'open': 117.16, 'high': 122.11, 'low': 116.06, 'close': 120.99, 'volume': 628629.0}, {'date': 20190531.0, 'open': 114.18, 'high': 120.76, 'low': 113.08, 'close': 119.66, 'volume': 608881.0}, {'date': 20190603.0, 'open': 119.86, 'high': 120.97, 'low': 118.65, 'close': 119.75, 'volume': 617873.0}, {'date': 20190604.0, 'open': 123.74, 'high': 124.86, 'low': 120.24, 'close': 121.34, 'volume': 590308.0}, {'date': 20190605.0, 'open': 124.41, 'high': 125.53, 'low': 119.29, 'close': 120.42, 'volume': 598560.0}, {'date': 20190606.0, 'open': 118.32, 'high': 119.9, 'low': 117.21, 'close': 118.8, 'volume': 613607.0}, {'date': 20190607.0, 'open': 117.23, 'high': 119.02, 'low': 116.12, 'close': 117.92, 'volume': 600460.0}, {'date': 20190610.0, 'open': 119.57, 'high': 120.67, 'low': 116.09, 'close': 117.21, 'volume': 582002.0}, {'date': 20190611.0, 'open': 116.89, 'high': 118.0, 'low': 115.11, 'close': 116.22, 'volume': 600948.0}, {'date': 20190612.0, 'open': 119.49, 'high': 120.59, 'low': 115.76, 'close': 116.86, 'volume': 607977.0}, {'date': 20190613.0, 'open': 119.34, 'high': 120.44, 'low': 115.94, 'close': 117.04, 'volume': 635485.0}, {'date': 20190614.0, 'open': 114.43, 'high': 117.99, 'low': 113.33, 'close': 116.89, 'volume': 598369.0}, {'date': 20190617.0, 'open': 114.71, 'high': 117.6, 'low': 113.6, 'close': 116.48, 'volume': 606158.0}, {'date': 20190618.0, 'open': 112.72, 'high': 115.98, 'low': 111.62, 'close': 114.89, 'volume': 577935.0}, {'date': 20190619.0, 'open': 111.11, 'high': 115.51, 'low': 110.0, 'close': 114.4, 'volume': 574633.0}, {'date': 20190620.0, 'open': 113.29, 'high': 116.26, 'low': 112.21, 'close': 115.14, 'volume': 561866.0}, {'date': 20190621.0, 'open': 114.48, 'high': 116.44, 'low': 113.37, 'close': 115.33, 'volume': 565476.0}, {'date': 20190624.0, 'open': 118.24, 'high': 119.35, 'low': 114.98, 'close': 116.09, 'volume': 540917.0}, {'date': 20190625.0, 'open': 114.9, 'high': 116.15, 'low': 113.79, 'close': 115.05, 'volume': 518474.0}, {'date': 20190626.0, 'open': 114.04, 'high': 116.09, 'low': 112.94, 'close': 114.99, 'volume': 494450.0}, {'date': 20190627.0, 'open': 118.27, 'high': 119.38, 'low': 114.06, 'close': 115.18, 'volume': 460489.0}, {'date': 20190628.0, 'open': 114.93, 'high': 116.62, 'low': 113.8, 'close': 115.52, 'volume': 463312.0}, {'date': 20190701.0, 'open': 117.51, 'high': 119.73, 'low': 116.43, 'close': 118.62, 'volume': 457218.0}, {'date': 20190702.0, 'open': 120.89, 'high': 122.01, 'low': 119.25, 'close': 120.36, 'volume': 424215.0}, {'date': 20190703.0, 'open': 123.45, 'high': 124.56, 'low': 122.14, 'close': 123.25, 'volume': 426738.0}, {'date': 20190704.0, 'open': 123.46, 'high': 124.85, 'low': 122.34, 'close': 123.75, 'volume': 425519.0}, {'date': 20190705.0, 'open': 123.89, 'high': 126.4, 'low': 122.8, 'close': 125.29, 'volume': 437601.0}, {'date': 20190708.0, 'open': 124.17, 'high': 125.79, 'low': 123.07, 'close': 124.68, 'volume': 449370.0}, {'date': 20190709.0, 'open': 124.54, 'high': 126.61, 'low': 123.44, 'close': 125.5, 'volume': 463888.0}, {'date': 20190710.0, 'open': 126.86, 'high': 127.98, 'low': 123.26, 'close': 124.38, 'volume': 488137.0}, {'date': 20190711.0, 'open': 124.54, 'high': 126.81, 'low': 123.44, 'close': 125.74, 'volume': 491364.0}, {'date': 20190712.0, 'open': 123.83, 'high': 125.94, 'low': 122.73, 'close': 124.83, 'volume': 481009.0}, {'date': 20190715.0, 'open': 125.32, 'high': 126.44, 'low': 123.66, 'close': 124.75, 'volume': 489067.0}, {'date': 20190716.0, 'open': 122.8, 'high': 125.08, 'low': 121.69, 'close': 123.99, 'volume': 481316.0}, {'date': 20190717.0, 'open': 123.04, 'high': 124.13, 'low': 121.67, 'close': 122.76, 'volume': 474061.0}, {'date': 20190718.0, 'open': 121.68, 'high': 122.77, 'low': 120.54, 'close': 121.65, 'volume': 447968.0}, {'date': 20190719.0, 'open': 124.09, 'high': 125.19, 'low': 120.26, 'close': 121.37, 'volume': 439282.0}, {'date': 20190722.0, 'open': 118.08, 'high': 121.53, 'low': 116.97, 'close': 120.43, 'volume': 449222.0}, {'date': 20190723.0, 'open': 120.1, 'high': 121.21, 'low': 118.29, 'close': 119.4, 'volume': 463633.0}, {'date': 20190724.0, 'open': 123.71, 'high': 124.82, 'low': 118.76, 'close': 119.86, 'volume': 455947.0}, {'date': 20190725.0, 'open': 123.37, 'high': 124.47, 'low': 120.43, 'close': 121.52, 'volume': 472954.0}, {'date': 20190726.0, 'open': 120.35, 'high': 121.72, 'low': 119.23, 'close': 120.61, 'volume': 465064.0}]])], id='dt1_html', style={'margin-right': 'auto', 'margin-left': 'auto', 'height': '98%', 'width': '98%', 'border': 'none #000', 'line-height': '40px', 'textAlign': 'center', 'vertical-align': 'middle'})]), type='cube')\n",
      "***********************************************\n",
      "Loading(children=Div([Div(children=Graph(id='f1', figure=Figure({\n",
      "    'data': [], 'layout': {}\n",
      "})), id='f1_html', className='item1', style={'line-height': '40px', 'border': 'none #000', 'textAlign': 'center', 'vertical-align': 'middle'})]), type='cube')\n"
     ]
    }
   ],
   "source": [
    "l = dgc.flatten_layout(app)\n",
    "for c in l:\n",
    "    print('***********************************************')\n",
    "    print(c)"
   ]
  },
  {
   "cell_type": "code",
   "execution_count": 24,
   "metadata": {},
   "outputs": [
    {
     "data": {
      "text/html": [
       "<div>\n",
       "<style scoped>\n",
       "    .dataframe tbody tr th:only-of-type {\n",
       "        vertical-align: middle;\n",
       "    }\n",
       "\n",
       "    .dataframe tbody tr th {\n",
       "        vertical-align: top;\n",
       "    }\n",
       "\n",
       "    .dataframe thead th {\n",
       "        text-align: right;\n",
       "    }\n",
       "</style>\n",
       "<table border=\"1\" class=\"dataframe\">\n",
       "  <thead>\n",
       "    <tr style=\"text-align: right;\">\n",
       "      <th></th>\n",
       "      <th>date</th>\n",
       "      <th>open</th>\n",
       "      <th>high</th>\n",
       "      <th>low</th>\n",
       "      <th>close</th>\n",
       "      <th>volume</th>\n",
       "    </tr>\n",
       "  </thead>\n",
       "  <tbody>\n",
       "    <tr>\n",
       "      <th>0</th>\n",
       "      <td>20161031</td>\n",
       "      <td>100.1</td>\n",
       "      <td>101.16</td>\n",
       "      <td>98.93</td>\n",
       "      <td>100.00</td>\n",
       "      <td>1003196.0</td>\n",
       "    </tr>\n",
       "    <tr>\n",
       "      <th>1</th>\n",
       "      <td>20161101</td>\n",
       "      <td>99.6</td>\n",
       "      <td>101.75</td>\n",
       "      <td>98.47</td>\n",
       "      <td>100.64</td>\n",
       "      <td>968376.0</td>\n",
       "    </tr>\n",
       "    <tr>\n",
       "      <th>2</th>\n",
       "      <td>20161102</td>\n",
       "      <td>101.2</td>\n",
       "      <td>102.34</td>\n",
       "      <td>98.06</td>\n",
       "      <td>99.16</td>\n",
       "      <td>963503.0</td>\n",
       "    </tr>\n",
       "    <tr>\n",
       "      <th>3</th>\n",
       "      <td>20161103</td>\n",
       "      <td>100.5</td>\n",
       "      <td>101.59</td>\n",
       "      <td>98.51</td>\n",
       "      <td>99.60</td>\n",
       "      <td>962542.0</td>\n",
       "    </tr>\n",
       "    <tr>\n",
       "      <th>4</th>\n",
       "      <td>20161104</td>\n",
       "      <td>99.6</td>\n",
       "      <td>100.75</td>\n",
       "      <td>96.79</td>\n",
       "      <td>97.90</td>\n",
       "      <td>912761.0</td>\n",
       "    </tr>\n",
       "  </tbody>\n",
       "</table>\n",
       "</div>"
      ],
      "text/plain": [
       "       date   open    high    low   close     volume\n",
       "0  20161031  100.1  101.16  98.93  100.00  1003196.0\n",
       "1  20161101   99.6  101.75  98.47  100.64   968376.0\n",
       "2  20161102  101.2  102.34  98.06   99.16   963503.0\n",
       "3  20161103  100.5  101.59  98.51   99.60   962542.0\n",
       "4  20161104   99.6  100.75  96.79   97.90   912761.0"
      ]
     },
     "execution_count": 24,
     "metadata": {},
     "output_type": "execute_result"
    }
   ],
   "source": [
    "\n",
    "dgc.dataframe_rounder(df_pseudo.head(),columns_to_round=['open'],digits=1)"
   ]
  },
  {
   "cell_type": "code",
   "execution_count": 26,
   "metadata": {},
   "outputs": [],
   "source": [
    "df1 = df_pseudo.head()"
   ]
  },
  {
   "cell_type": "code",
   "execution_count": 27,
   "metadata": {
    "scrolled": true
   },
   "outputs": [
    {
     "data": {
      "text/plain": [
       "[{'date': 20161031.0,\n",
       "  'open': 100.06,\n",
       "  'high': 101.16,\n",
       "  'low': 98.93,\n",
       "  'close': 100.0,\n",
       "  'volume': 1003196.0},\n",
       " {'date': 20161101.0,\n",
       "  'open': 99.57,\n",
       "  'high': 101.75,\n",
       "  'low': 98.47,\n",
       "  'close': 100.64,\n",
       "  'volume': 968376.0},\n",
       " {'date': 20161102.0,\n",
       "  'open': 101.23,\n",
       "  'high': 102.34,\n",
       "  'low': 98.06,\n",
       "  'close': 99.16,\n",
       "  'volume': 963503.0},\n",
       " {'date': 20161103.0,\n",
       "  'open': 100.49,\n",
       "  'high': 101.59,\n",
       "  'low': 98.51,\n",
       "  'close': 99.6,\n",
       "  'volume': 962542.0},\n",
       " {'date': 20161104.0,\n",
       "  'open': 99.63,\n",
       "  'high': 100.75,\n",
       "  'low': 96.79,\n",
       "  'close': 97.9,\n",
       "  'volume': 912761.0}]"
      ]
     },
     "execution_count": 27,
     "metadata": {},
     "output_type": "execute_result"
    }
   ],
   "source": [
    "df1.to_dict('rows')"
   ]
  },
  {
   "cell_type": "code",
   "execution_count": 28,
   "metadata": {
    "scrolled": true
   },
   "outputs": [
    {
     "data": {
      "text/plain": [
       "[{'date': 20161031.0,\n",
       "  'open': 100.06,\n",
       "  'high': 101.16,\n",
       "  'low': 98.93,\n",
       "  'close': 100.0,\n",
       "  'volume': 1003196.0},\n",
       " {'date': 20161101.0,\n",
       "  'open': 99.57,\n",
       "  'high': 101.75,\n",
       "  'low': 98.47,\n",
       "  'close': 100.64,\n",
       "  'volume': 968376.0},\n",
       " {'date': 20161102.0,\n",
       "  'open': 101.23,\n",
       "  'high': 102.34,\n",
       "  'low': 98.06,\n",
       "  'close': 99.16,\n",
       "  'volume': 963503.0},\n",
       " {'date': 20161103.0,\n",
       "  'open': 100.49,\n",
       "  'high': 101.59,\n",
       "  'low': 98.51,\n",
       "  'close': 99.6,\n",
       "  'volume': 962542.0},\n",
       " {'date': 20161104.0,\n",
       "  'open': 99.63,\n",
       "  'high': 100.75,\n",
       "  'low': 96.79,\n",
       "  'close': 97.9,\n",
       "  'volume': 912761.0}]"
      ]
     },
     "execution_count": 28,
     "metadata": {},
     "output_type": "execute_result"
    }
   ],
   "source": [
    "df1.to_dict('records')"
   ]
  },
  {
   "cell_type": "code",
   "execution_count": 29,
   "metadata": {},
   "outputs": [
    {
     "data": {
      "text/plain": [
       "{'date': {0: 20161031, 1: 20161101, 2: 20161102, 3: 20161103, 4: 20161104},\n",
       " 'open': {0: 100.06, 1: 99.57, 2: 101.23, 3: 100.49, 4: 99.63},\n",
       " 'high': {0: 101.16, 1: 101.75, 2: 102.34, 3: 101.59, 4: 100.75},\n",
       " 'low': {0: 98.93, 1: 98.47, 2: 98.06, 3: 98.51, 4: 96.79},\n",
       " 'close': {0: 100.0, 1: 100.64, 2: 99.16, 3: 99.6, 4: 97.9},\n",
       " 'volume': {0: 1003196.0, 1: 968376.0, 2: 963503.0, 3: 962542.0, 4: 912761.0}}"
      ]
     },
     "execution_count": 29,
     "metadata": {},
     "output_type": "execute_result"
    }
   ],
   "source": [
    "df1.to_dict()"
   ]
  },
  {
   "cell_type": "code",
   "execution_count": null,
   "metadata": {},
   "outputs": [],
   "source": []
  }
 ],
 "metadata": {
  "kernelspec": {
   "display_name": "Python 3",
   "language": "python",
   "name": "python3"
  },
  "language_info": {
   "codemirror_mode": {
    "name": "ipython",
    "version": 3
   },
   "file_extension": ".py",
   "mimetype": "text/x-python",
   "name": "python",
   "nbconvert_exporter": "python",
   "pygments_lexer": "ipython3",
   "version": "3.6.5"
  }
 },
 "nbformat": 4,
 "nbformat_minor": 2
}
