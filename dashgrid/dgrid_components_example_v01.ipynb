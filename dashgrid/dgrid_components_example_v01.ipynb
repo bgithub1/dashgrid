{
 "cells": [
  {
   "cell_type": "code",
   "execution_count": 1,
   "metadata": {},
   "outputs": [
    {
     "data": {
      "text/html": [
       "<script>requirejs.config({paths: { 'plotly': ['https://cdn.plot.ly/plotly-latest.min']},});if(!window.Plotly) {{require(['plotly'],function(plotly) {window.Plotly=plotly;});}}</script>"
      ],
      "text/vnd.plotly.v1+html": [
       "<script>requirejs.config({paths: { 'plotly': ['https://cdn.plot.ly/plotly-latest.min']},});if(!window.Plotly) {{require(['plotly'],function(plotly) {window.Plotly=plotly;});}}</script>"
      ]
     },
     "metadata": {},
     "output_type": "display_data"
    }
   ],
   "source": [
    "from IPython.display import display\n",
    "import dash\n",
    "import sys,os\n",
    "if  not os.path.abspath('./') in sys.path:\n",
    "    sys.path.append(os.path.abspath('./'))\n",
    "if  not os.path.abspath('../') in sys.path:\n",
    "    sys.path.append(os.path.abspath('../'))\n",
    "\n",
    "import datetime\n",
    "import pandas as pd\n",
    "import numpy as np\n",
    "from dashgrid import dgrid_components as dgc\n",
    "import matplotlib.pyplot as plt\n",
    "import plotly.graph_objs as go\n",
    "from plotly.offline import  init_notebook_mode, iplot\n",
    "init_notebook_mode(connected=True)\n"
   ]
  },
  {
   "cell_type": "code",
   "execution_count": 2,
   "metadata": {},
   "outputs": [],
   "source": [
    "all_days=1000\n",
    "end_date = datetime.datetime.now()\n",
    "beg_date = end_date - datetime.timedelta(all_days)\n",
    "date_series = pd.bdate_range(beg_date,end_date)\n",
    "trade_dates = date_series.astype(str).str.replace('-','').astype(int)\n",
    "n = len(trade_dates)\n",
    "changes = np.random.lognormal(0,.15/256**.5,n-1)\n",
    "initial = np.array([100.0])\n",
    "closes = np.cumprod(np.append(initial,changes)).round(2)\n",
    "open_ranges = np.random.lognormal(0,.3/256**.5,n)\n",
    "opens = (closes * open_ranges).round(2)\n",
    "low_ranges = np.random.lognormal(.1,.2/256**.5,n)\n",
    "lows = np.array([min(x,y) for x,y in zip(opens,closes)]) - low_ranges\n",
    "lows = lows.round(2)\n",
    "high_ranges = np.random.lognormal(.1,.2/256**.5,n)\n",
    "highs = np.array([max(x,y) for x,y in zip(opens,closes)]) + high_ranges\n",
    "highs = highs.round(2)\n",
    "\n",
    "volume_changes = np.random.lognormal(0,.50/256**.5,n-1)\n",
    "initial_volume = np.array([1000000.0]) * np.random.lognormal(0,.15/256**.5)\n",
    "volumes = np.cumprod(np.append(initial_volume,volume_changes)).round(0)\n",
    "\n",
    "\n",
    "df_pseudo = dgc.make_df({'date':trade_dates,'open':opens,'high':highs,'low':lows,\n",
    "                  'close':closes,'volume':volumes})\n"
   ]
  },
  {
   "cell_type": "code",
   "execution_count": 3,
   "metadata": {},
   "outputs": [
    {
     "data": {
      "application/vnd.plotly.v1+json": {
       "data": [
        {
         "hoverinfo": "text",
         "mode": "markers",
         "text": [
          "date: 20190514.0<br>open: 78.32<br>high: 81.52<br>low: 77.22<br>close: 80.41<br>volume: 1537074.0",
          "date: 20190515.0<br>open: 82.96<br>high: 84.08<br>low: 79.31<br>close: 80.4<br>volume: 1596596.0",
          "date: 20190516.0<br>open: 77.13<br>high: 81.2<br>low: 76.04<br>close: 80.09<br>volume: 1655362.0",
          "date: 20190517.0<br>open: 81.17<br>high: 82.28<br>low: 78.3<br>close: 79.43<br>volume: 1645488.0",
          "date: 20190520.0<br>open: 77.75<br>high: 79.86<br>low: 76.66<br>close: 78.75<br>volume: 1772376.0",
          "date: 20190521.0<br>open: 76.68<br>high: 79.08<br>low: 75.57<br>close: 77.98<br>volume: 1737117.0",
          "date: 20190522.0<br>open: 78.08<br>high: 79.19<br>low: 76.86<br>close: 77.98<br>volume: 1782203.0",
          "date: 20190523.0<br>open: 78.36<br>high: 79.46<br>low: 76.92<br>close: 78.03<br>volume: 1761971.0",
          "date: 20190524.0<br>open: 77.48<br>high: 78.59<br>low: 76.2<br>close: 77.3<br>volume: 1723128.0",
          "date: 20190527.0<br>open: 77.48<br>high: 78.63<br>low: 76.37<br>close: 77.57<br>volume: 1753630.0",
          "date: 20190528.0<br>open: 77.28<br>high: 79.31<br>low: 76.2<br>close: 78.22<br>volume: 1794732.0",
          "date: 20190529.0<br>open: 78.69<br>high: 79.82<br>low: 76.55<br>close: 77.66<br>volume: 1766008.0",
          "date: 20190530.0<br>open: 78.53<br>high: 79.75<br>low: 77.44<br>close: 78.65<br>volume: 1706375.0",
          "date: 20190531.0<br>open: 78.69<br>high: 79.82<br>low: 76.85<br>close: 77.94<br>volume: 1708568.0",
          "date: 20190603.0<br>open: 79.44<br>high: 80.56<br>low: 76.64<br>close: 77.74<br>volume: 1600341.0",
          "date: 20190604.0<br>open: 78.38<br>high: 79.47<br>low: 76.17<br>close: 77.25<br>volume: 1581432.0",
          "date: 20190605.0<br>open: 79.78<br>high: 80.89<br>low: 76.32<br>close: 77.43<br>volume: 1561330.0",
          "date: 20190606.0<br>open: 73.44<br>high: 77.02<br>low: 72.34<br>close: 75.94<br>volume: 1457293.0",
          "date: 20190607.0<br>open: 76.39<br>high: 77.69<br>low: 75.28<br>close: 76.58<br>volume: 1444542.0",
          "date: 20190610.0<br>open: 76.09<br>high: 77.61<br>low: 74.98<br>close: 76.5<br>volume: 1444719.0",
          "date: 20190611.0<br>open: 75.83<br>high: 77.38<br>low: 74.72<br>close: 76.26<br>volume: 1521363.0",
          "date: 20190612.0<br>open: 75.86<br>high: 76.96<br>low: 74.61<br>close: 75.7<br>volume: 1553205.0",
          "date: 20190613.0<br>open: 77.43<br>high: 78.54<br>low: 73.97<br>close: 75.07<br>volume: 1506117.0",
          "date: 20190614.0<br>open: 74.65<br>high: 75.77<br>low: 73.14<br>close: 74.24<br>volume: 1482352.0",
          "date: 20190617.0<br>open: 75.45<br>high: 76.56<br>low: 72.74<br>close: 73.84<br>volume: 1383236.0",
          "date: 20190618.0<br>open: 75.95<br>high: 77.06<br>low: 73.0<br>close: 74.09<br>volume: 1378581.0",
          "date: 20190619.0<br>open: 72.82<br>high: 75.17<br>low: 71.71<br>close: 74.05<br>volume: 1382361.0",
          "date: 20190620.0<br>open: 75.72<br>high: 76.82<br>low: 74.17<br>close: 75.26<br>volume: 1366770.0",
          "date: 20190621.0<br>open: 75.88<br>high: 77.0<br>low: 73.8<br>close: 74.91<br>volume: 1330874.0",
          "date: 20190624.0<br>open: 73.23<br>high: 75.68<br>low: 72.13<br>close: 74.57<br>volume: 1335705.0",
          "date: 20190625.0<br>open: 72.55<br>high: 74.58<br>low: 71.47<br>close: 73.47<br>volume: 1235113.0",
          "date: 20190626.0<br>open: 73.38<br>high: 74.49<br>low: 72.24<br>close: 73.34<br>volume: 1246769.0",
          "date: 20190627.0<br>open: 71.93<br>high: 74.51<br>low: 70.82<br>close: 73.41<br>volume: 1229397.0",
          "date: 20190628.0<br>open: 71.78<br>high: 74.84<br>low: 70.67<br>close: 73.74<br>volume: 1251386.0",
          "date: 20190701.0<br>open: 71.31<br>high: 75.33<br>low: 70.22<br>close: 74.25<br>volume: 1260542.0",
          "date: 20190702.0<br>open: 74.8<br>high: 75.91<br>low: 73.68<br>close: 74.79<br>volume: 1282203.0",
          "date: 20190703.0<br>open: 75.91<br>high: 77.01<br>low: 74.13<br>close: 75.21<br>volume: 1233658.0",
          "date: 20190704.0<br>open: 75.26<br>high: 76.65<br>low: 74.12<br>close: 75.54<br>volume: 1210297.0",
          "date: 20190705.0<br>open: 77.77<br>high: 78.86<br>low: 74.65<br>close: 75.77<br>volume: 1263261.0",
          "date: 20190708.0<br>open: 76.55<br>high: 77.64<br>low: 75.07<br>close: 76.2<br>volume: 1327812.0",
          "date: 20190709.0<br>open: 77.08<br>high: 78.17<br>low: 75.06<br>close: 76.16<br>volume: 1305152.0",
          "date: 20190710.0<br>open: 78.19<br>high: 79.3<br>low: 75.41<br>close: 76.51<br>volume: 1334601.0",
          "date: 20190711.0<br>open: 74.5<br>high: 76.5<br>low: 73.39<br>close: 75.37<br>volume: 1324815.0",
          "date: 20190712.0<br>open: 76.66<br>high: 77.77<br>low: 74.91<br>close: 75.99<br>volume: 1299490.0",
          "date: 20190715.0<br>open: 73.57<br>high: 77.18<br>low: 72.45<br>close: 76.06<br>volume: 1304942.0",
          "date: 20190716.0<br>open: 76.76<br>high: 77.86<br>low: 75.61<br>close: 76.72<br>volume: 1354948.0",
          "date: 20190717.0<br>open: 76.75<br>high: 78.29<br>low: 75.64<br>close: 77.17<br>volume: 1348077.0",
          "date: 20190718.0<br>open: 77.81<br>high: 78.91<br>low: 75.41<br>close: 76.52<br>volume: 1346183.0",
          "date: 20190719.0<br>open: 76.12<br>high: 77.22<br>low: 74.9<br>close: 75.99<br>volume: 1342862.0",
          "date: 20190722.0<br>open: 74.55<br>high: 75.68<br>low: 73.47<br>close: 74.56<br>volume: 1342618.0"
         ],
         "type": "scatter",
         "uid": "0aa2008a-acf4-11e9-8809-8c859025e7f9",
         "x": [
          1,
          2,
          3,
          4,
          5,
          6,
          7,
          8,
          9,
          10,
          11,
          12,
          13,
          14,
          15,
          16,
          17,
          18,
          19,
          20,
          21,
          22,
          23,
          24,
          25,
          26,
          27,
          28,
          29,
          30,
          31,
          32,
          33,
          34,
          35,
          36,
          37,
          38,
          39,
          40,
          41,
          42,
          43,
          44,
          45,
          46,
          47,
          48,
          49,
          50
         ],
         "xaxis": "x",
         "y": [
          80.41,
          80.4,
          80.09,
          79.43,
          78.75,
          77.98,
          77.98,
          78.03,
          77.3,
          77.57,
          78.22,
          77.66,
          78.65,
          77.94,
          77.74,
          77.25,
          77.43,
          75.94,
          76.58,
          76.5,
          76.26,
          75.7,
          75.07,
          74.24,
          73.84,
          74.09,
          74.05,
          75.26,
          74.91,
          74.57,
          73.47,
          73.34,
          73.41,
          73.74,
          74.25,
          74.79,
          75.21,
          75.54,
          75.77,
          76.2,
          76.16,
          76.51,
          75.37,
          75.99,
          76.06,
          76.72,
          77.17,
          76.52,
          75.99,
          74.56
         ],
         "yaxis": "y"
        },
        {
         "type": "bar",
         "uid": "0aa2e43a-acf4-11e9-a3d4-8c859025e7f9",
         "width": 0.5,
         "x": [
          1,
          2,
          3,
          4,
          5,
          6,
          7,
          8,
          9,
          10,
          11,
          12,
          13,
          14,
          15,
          16,
          17,
          18,
          19,
          20,
          21,
          22,
          23,
          24,
          25,
          26,
          27,
          28,
          29,
          30,
          31,
          32,
          33,
          34,
          35,
          36,
          37,
          38,
          39,
          40,
          41,
          42,
          43,
          44,
          45,
          46,
          47,
          48,
          49,
          50
         ],
         "xaxis": "x",
         "y": [
          1537074,
          1596596,
          1655362,
          1645488,
          1772376,
          1737117,
          1782203,
          1761971,
          1723128,
          1753630,
          1794732,
          1766008,
          1706375,
          1708568,
          1600341,
          1581432,
          1561330,
          1457293,
          1444542,
          1444719,
          1521363,
          1553205,
          1506117,
          1482352,
          1383236,
          1378581,
          1382361,
          1366770,
          1330874,
          1335705,
          1235113,
          1246769,
          1229397,
          1251386,
          1260542,
          1282203,
          1233658,
          1210297,
          1263261,
          1327812,
          1305152,
          1334601,
          1324815,
          1299490,
          1304942,
          1354948,
          1348077,
          1346183,
          1342862,
          1342618
         ],
         "yaxis": "y2"
        }
       ],
       "layout": {
        "margin": {
         "t": 100
        },
        "shapes": [
         {
          "line": {
           "color": "rgb(55, 128, 191)",
           "width": 1.5
          },
          "type": "line",
          "x0": 1,
          "x1": 1,
          "y0": 77.22,
          "y1": 78.32
         },
         {
          "line": {
           "color": "rgb(55, 128, 191)",
           "width": 1.5
          },
          "type": "line",
          "x0": 2,
          "x1": 2,
          "y0": 79.31,
          "y1": 80.4
         },
         {
          "line": {
           "color": "rgb(55, 128, 191)",
           "width": 1.5
          },
          "type": "line",
          "x0": 3,
          "x1": 3,
          "y0": 76.04,
          "y1": 77.13
         },
         {
          "line": {
           "color": "rgb(55, 128, 191)",
           "width": 1.5
          },
          "type": "line",
          "x0": 4,
          "x1": 4,
          "y0": 78.3,
          "y1": 79.43
         },
         {
          "line": {
           "color": "rgb(55, 128, 191)",
           "width": 1.5
          },
          "type": "line",
          "x0": 5,
          "x1": 5,
          "y0": 76.66,
          "y1": 77.75
         },
         {
          "line": {
           "color": "rgb(55, 128, 191)",
           "width": 1.5
          },
          "type": "line",
          "x0": 6,
          "x1": 6,
          "y0": 75.57,
          "y1": 76.68
         },
         {
          "line": {
           "color": "rgb(55, 128, 191)",
           "width": 1.5
          },
          "type": "line",
          "x0": 7,
          "x1": 7,
          "y0": 76.86,
          "y1": 77.98
         },
         {
          "line": {
           "color": "rgb(55, 128, 191)",
           "width": 1.5
          },
          "type": "line",
          "x0": 8,
          "x1": 8,
          "y0": 76.92,
          "y1": 78.03
         },
         {
          "line": {
           "color": "rgb(55, 128, 191)",
           "width": 1.5
          },
          "type": "line",
          "x0": 9,
          "x1": 9,
          "y0": 76.2,
          "y1": 77.3
         },
         {
          "line": {
           "color": "rgb(55, 128, 191)",
           "width": 1.5
          },
          "type": "line",
          "x0": 10,
          "x1": 10,
          "y0": 76.37,
          "y1": 77.48
         },
         {
          "line": {
           "color": "rgb(55, 128, 191)",
           "width": 1.5
          },
          "type": "line",
          "x0": 11,
          "x1": 11,
          "y0": 76.2,
          "y1": 77.28
         },
         {
          "line": {
           "color": "rgb(55, 128, 191)",
           "width": 1.5
          },
          "type": "line",
          "x0": 12,
          "x1": 12,
          "y0": 76.55,
          "y1": 77.66
         },
         {
          "line": {
           "color": "rgb(55, 128, 191)",
           "width": 1.5
          },
          "type": "line",
          "x0": 13,
          "x1": 13,
          "y0": 77.44,
          "y1": 78.53
         },
         {
          "line": {
           "color": "rgb(55, 128, 191)",
           "width": 1.5
          },
          "type": "line",
          "x0": 14,
          "x1": 14,
          "y0": 76.85,
          "y1": 77.94
         },
         {
          "line": {
           "color": "rgb(55, 128, 191)",
           "width": 1.5
          },
          "type": "line",
          "x0": 15,
          "x1": 15,
          "y0": 76.64,
          "y1": 77.74
         },
         {
          "line": {
           "color": "rgb(55, 128, 191)",
           "width": 1.5
          },
          "type": "line",
          "x0": 16,
          "x1": 16,
          "y0": 76.17,
          "y1": 77.25
         },
         {
          "line": {
           "color": "rgb(55, 128, 191)",
           "width": 1.5
          },
          "type": "line",
          "x0": 17,
          "x1": 17,
          "y0": 76.32,
          "y1": 77.43
         },
         {
          "line": {
           "color": "rgb(55, 128, 191)",
           "width": 1.5
          },
          "type": "line",
          "x0": 18,
          "x1": 18,
          "y0": 72.34,
          "y1": 73.44
         },
         {
          "line": {
           "color": "rgb(55, 128, 191)",
           "width": 1.5
          },
          "type": "line",
          "x0": 19,
          "x1": 19,
          "y0": 75.28,
          "y1": 76.39
         },
         {
          "line": {
           "color": "rgb(55, 128, 191)",
           "width": 1.5
          },
          "type": "line",
          "x0": 20,
          "x1": 20,
          "y0": 74.98,
          "y1": 76.09
         },
         {
          "line": {
           "color": "rgb(55, 128, 191)",
           "width": 1.5
          },
          "type": "line",
          "x0": 21,
          "x1": 21,
          "y0": 74.72,
          "y1": 75.83
         },
         {
          "line": {
           "color": "rgb(55, 128, 191)",
           "width": 1.5
          },
          "type": "line",
          "x0": 22,
          "x1": 22,
          "y0": 74.61,
          "y1": 75.7
         },
         {
          "line": {
           "color": "rgb(55, 128, 191)",
           "width": 1.5
          },
          "type": "line",
          "x0": 23,
          "x1": 23,
          "y0": 73.97,
          "y1": 75.07
         },
         {
          "line": {
           "color": "rgb(55, 128, 191)",
           "width": 1.5
          },
          "type": "line",
          "x0": 24,
          "x1": 24,
          "y0": 73.14,
          "y1": 74.24
         },
         {
          "line": {
           "color": "rgb(55, 128, 191)",
           "width": 1.5
          },
          "type": "line",
          "x0": 25,
          "x1": 25,
          "y0": 72.74,
          "y1": 73.84
         },
         {
          "line": {
           "color": "rgb(55, 128, 191)",
           "width": 1.5
          },
          "type": "line",
          "x0": 26,
          "x1": 26,
          "y0": 73,
          "y1": 74.09
         },
         {
          "line": {
           "color": "rgb(55, 128, 191)",
           "width": 1.5
          },
          "type": "line",
          "x0": 27,
          "x1": 27,
          "y0": 71.71,
          "y1": 72.82
         },
         {
          "line": {
           "color": "rgb(55, 128, 191)",
           "width": 1.5
          },
          "type": "line",
          "x0": 28,
          "x1": 28,
          "y0": 74.17,
          "y1": 75.26
         },
         {
          "line": {
           "color": "rgb(55, 128, 191)",
           "width": 1.5
          },
          "type": "line",
          "x0": 29,
          "x1": 29,
          "y0": 73.8,
          "y1": 74.91
         },
         {
          "line": {
           "color": "rgb(55, 128, 191)",
           "width": 1.5
          },
          "type": "line",
          "x0": 30,
          "x1": 30,
          "y0": 72.13,
          "y1": 73.23
         },
         {
          "line": {
           "color": "rgb(55, 128, 191)",
           "width": 1.5
          },
          "type": "line",
          "x0": 31,
          "x1": 31,
          "y0": 71.47,
          "y1": 72.55
         },
         {
          "line": {
           "color": "rgb(55, 128, 191)",
           "width": 1.5
          },
          "type": "line",
          "x0": 32,
          "x1": 32,
          "y0": 72.24,
          "y1": 73.34
         },
         {
          "line": {
           "color": "rgb(55, 128, 191)",
           "width": 1.5
          },
          "type": "line",
          "x0": 33,
          "x1": 33,
          "y0": 70.82,
          "y1": 71.93
         },
         {
          "line": {
           "color": "rgb(55, 128, 191)",
           "width": 1.5
          },
          "type": "line",
          "x0": 34,
          "x1": 34,
          "y0": 70.67,
          "y1": 71.78
         },
         {
          "line": {
           "color": "rgb(55, 128, 191)",
           "width": 1.5
          },
          "type": "line",
          "x0": 35,
          "x1": 35,
          "y0": 70.22,
          "y1": 71.31
         },
         {
          "line": {
           "color": "rgb(55, 128, 191)",
           "width": 1.5
          },
          "type": "line",
          "x0": 36,
          "x1": 36,
          "y0": 73.68,
          "y1": 74.79
         },
         {
          "line": {
           "color": "rgb(55, 128, 191)",
           "width": 1.5
          },
          "type": "line",
          "x0": 37,
          "x1": 37,
          "y0": 74.13,
          "y1": 75.21
         },
         {
          "line": {
           "color": "rgb(55, 128, 191)",
           "width": 1.5
          },
          "type": "line",
          "x0": 38,
          "x1": 38,
          "y0": 74.12,
          "y1": 75.26
         },
         {
          "line": {
           "color": "rgb(55, 128, 191)",
           "width": 1.5
          },
          "type": "line",
          "x0": 39,
          "x1": 39,
          "y0": 74.65,
          "y1": 75.77
         },
         {
          "line": {
           "color": "rgb(55, 128, 191)",
           "width": 1.5
          },
          "type": "line",
          "x0": 40,
          "x1": 40,
          "y0": 75.07,
          "y1": 76.2
         },
         {
          "line": {
           "color": "rgb(55, 128, 191)",
           "width": 1.5
          },
          "type": "line",
          "x0": 41,
          "x1": 41,
          "y0": 75.06,
          "y1": 76.16
         },
         {
          "line": {
           "color": "rgb(55, 128, 191)",
           "width": 1.5
          },
          "type": "line",
          "x0": 42,
          "x1": 42,
          "y0": 75.41,
          "y1": 76.51
         },
         {
          "line": {
           "color": "rgb(55, 128, 191)",
           "width": 1.5
          },
          "type": "line",
          "x0": 43,
          "x1": 43,
          "y0": 73.39,
          "y1": 74.5
         },
         {
          "line": {
           "color": "rgb(55, 128, 191)",
           "width": 1.5
          },
          "type": "line",
          "x0": 44,
          "x1": 44,
          "y0": 74.91,
          "y1": 75.99
         },
         {
          "line": {
           "color": "rgb(55, 128, 191)",
           "width": 1.5
          },
          "type": "line",
          "x0": 45,
          "x1": 45,
          "y0": 72.45,
          "y1": 73.57
         },
         {
          "line": {
           "color": "rgb(55, 128, 191)",
           "width": 1.5
          },
          "type": "line",
          "x0": 46,
          "x1": 46,
          "y0": 75.61,
          "y1": 76.72
         },
         {
          "line": {
           "color": "rgb(55, 128, 191)",
           "width": 1.5
          },
          "type": "line",
          "x0": 47,
          "x1": 47,
          "y0": 75.64,
          "y1": 76.75
         },
         {
          "line": {
           "color": "rgb(55, 128, 191)",
           "width": 1.5
          },
          "type": "line",
          "x0": 48,
          "x1": 48,
          "y0": 75.41,
          "y1": 76.52
         },
         {
          "line": {
           "color": "rgb(55, 128, 191)",
           "width": 1.5
          },
          "type": "line",
          "x0": 49,
          "x1": 49,
          "y0": 74.9,
          "y1": 75.99
         },
         {
          "line": {
           "color": "rgb(55, 128, 191)",
           "width": 1.5
          },
          "type": "line",
          "x0": 50,
          "x1": 50,
          "y0": 73.47,
          "y1": 74.55
         },
         {
          "fillcolor": "rgba(0, 204, 0, 0.6)",
          "line": {
           "color": "rgb(55, 128, 191)",
           "width": 1
          },
          "type": "rect",
          "x0": 0.75,
          "x1": 1.25,
          "xref": "x",
          "y0": 78.32,
          "y1": 80.41,
          "yref": "y"
         },
         {
          "fillcolor": "rgba(255, 0, 0, 0.6)",
          "line": {
           "color": "rgb(55, 128, 191)",
           "width": 1
          },
          "type": "rect",
          "x0": 1.75,
          "x1": 2.25,
          "xref": "x",
          "y0": 80.4,
          "y1": 82.96,
          "yref": "y"
         },
         {
          "fillcolor": "rgba(0, 204, 0, 0.6)",
          "line": {
           "color": "rgb(55, 128, 191)",
           "width": 1
          },
          "type": "rect",
          "x0": 2.75,
          "x1": 3.25,
          "xref": "x",
          "y0": 77.13,
          "y1": 80.09,
          "yref": "y"
         },
         {
          "fillcolor": "rgba(255, 0, 0, 0.6)",
          "line": {
           "color": "rgb(55, 128, 191)",
           "width": 1
          },
          "type": "rect",
          "x0": 3.75,
          "x1": 4.25,
          "xref": "x",
          "y0": 79.43,
          "y1": 81.17,
          "yref": "y"
         },
         {
          "fillcolor": "rgba(0, 204, 0, 0.6)",
          "line": {
           "color": "rgb(55, 128, 191)",
           "width": 1
          },
          "type": "rect",
          "x0": 4.75,
          "x1": 5.25,
          "xref": "x",
          "y0": 77.75,
          "y1": 78.75,
          "yref": "y"
         },
         {
          "fillcolor": "rgba(0, 204, 0, 0.6)",
          "line": {
           "color": "rgb(55, 128, 191)",
           "width": 1
          },
          "type": "rect",
          "x0": 5.75,
          "x1": 6.25,
          "xref": "x",
          "y0": 76.68,
          "y1": 77.98,
          "yref": "y"
         },
         {
          "fillcolor": "rgba(255, 0, 0, 0.6)",
          "line": {
           "color": "rgb(55, 128, 191)",
           "width": 1
          },
          "type": "rect",
          "x0": 6.75,
          "x1": 7.25,
          "xref": "x",
          "y0": 77.98,
          "y1": 78.08,
          "yref": "y"
         },
         {
          "fillcolor": "rgba(255, 0, 0, 0.6)",
          "line": {
           "color": "rgb(55, 128, 191)",
           "width": 1
          },
          "type": "rect",
          "x0": 7.75,
          "x1": 8.25,
          "xref": "x",
          "y0": 78.03,
          "y1": 78.36,
          "yref": "y"
         },
         {
          "fillcolor": "rgba(255, 0, 0, 0.6)",
          "line": {
           "color": "rgb(55, 128, 191)",
           "width": 1
          },
          "type": "rect",
          "x0": 8.75,
          "x1": 9.25,
          "xref": "x",
          "y0": 77.3,
          "y1": 77.48,
          "yref": "y"
         },
         {
          "fillcolor": "rgba(0, 204, 0, 0.6)",
          "line": {
           "color": "rgb(55, 128, 191)",
           "width": 1
          },
          "type": "rect",
          "x0": 9.75,
          "x1": 10.25,
          "xref": "x",
          "y0": 77.48,
          "y1": 77.57,
          "yref": "y"
         },
         {
          "fillcolor": "rgba(0, 204, 0, 0.6)",
          "line": {
           "color": "rgb(55, 128, 191)",
           "width": 1
          },
          "type": "rect",
          "x0": 10.75,
          "x1": 11.25,
          "xref": "x",
          "y0": 77.28,
          "y1": 78.22,
          "yref": "y"
         },
         {
          "fillcolor": "rgba(255, 0, 0, 0.6)",
          "line": {
           "color": "rgb(55, 128, 191)",
           "width": 1
          },
          "type": "rect",
          "x0": 11.75,
          "x1": 12.25,
          "xref": "x",
          "y0": 77.66,
          "y1": 78.69,
          "yref": "y"
         },
         {
          "fillcolor": "rgba(0, 204, 0, 0.6)",
          "line": {
           "color": "rgb(55, 128, 191)",
           "width": 1
          },
          "type": "rect",
          "x0": 12.75,
          "x1": 13.25,
          "xref": "x",
          "y0": 78.53,
          "y1": 78.65,
          "yref": "y"
         },
         {
          "fillcolor": "rgba(255, 0, 0, 0.6)",
          "line": {
           "color": "rgb(55, 128, 191)",
           "width": 1
          },
          "type": "rect",
          "x0": 13.75,
          "x1": 14.25,
          "xref": "x",
          "y0": 77.94,
          "y1": 78.69,
          "yref": "y"
         },
         {
          "fillcolor": "rgba(255, 0, 0, 0.6)",
          "line": {
           "color": "rgb(55, 128, 191)",
           "width": 1
          },
          "type": "rect",
          "x0": 14.75,
          "x1": 15.25,
          "xref": "x",
          "y0": 77.74,
          "y1": 79.44,
          "yref": "y"
         },
         {
          "fillcolor": "rgba(255, 0, 0, 0.6)",
          "line": {
           "color": "rgb(55, 128, 191)",
           "width": 1
          },
          "type": "rect",
          "x0": 15.75,
          "x1": 16.25,
          "xref": "x",
          "y0": 77.25,
          "y1": 78.38,
          "yref": "y"
         },
         {
          "fillcolor": "rgba(255, 0, 0, 0.6)",
          "line": {
           "color": "rgb(55, 128, 191)",
           "width": 1
          },
          "type": "rect",
          "x0": 16.75,
          "x1": 17.25,
          "xref": "x",
          "y0": 77.43,
          "y1": 79.78,
          "yref": "y"
         },
         {
          "fillcolor": "rgba(0, 204, 0, 0.6)",
          "line": {
           "color": "rgb(55, 128, 191)",
           "width": 1
          },
          "type": "rect",
          "x0": 17.75,
          "x1": 18.25,
          "xref": "x",
          "y0": 73.44,
          "y1": 75.94,
          "yref": "y"
         },
         {
          "fillcolor": "rgba(0, 204, 0, 0.6)",
          "line": {
           "color": "rgb(55, 128, 191)",
           "width": 1
          },
          "type": "rect",
          "x0": 18.75,
          "x1": 19.25,
          "xref": "x",
          "y0": 76.39,
          "y1": 76.58,
          "yref": "y"
         },
         {
          "fillcolor": "rgba(0, 204, 0, 0.6)",
          "line": {
           "color": "rgb(55, 128, 191)",
           "width": 1
          },
          "type": "rect",
          "x0": 19.75,
          "x1": 20.25,
          "xref": "x",
          "y0": 76.09,
          "y1": 76.5,
          "yref": "y"
         },
         {
          "fillcolor": "rgba(0, 204, 0, 0.6)",
          "line": {
           "color": "rgb(55, 128, 191)",
           "width": 1
          },
          "type": "rect",
          "x0": 20.75,
          "x1": 21.25,
          "xref": "x",
          "y0": 75.83,
          "y1": 76.26,
          "yref": "y"
         },
         {
          "fillcolor": "rgba(255, 0, 0, 0.6)",
          "line": {
           "color": "rgb(55, 128, 191)",
           "width": 1
          },
          "type": "rect",
          "x0": 21.75,
          "x1": 22.25,
          "xref": "x",
          "y0": 75.7,
          "y1": 75.86,
          "yref": "y"
         },
         {
          "fillcolor": "rgba(255, 0, 0, 0.6)",
          "line": {
           "color": "rgb(55, 128, 191)",
           "width": 1
          },
          "type": "rect",
          "x0": 22.75,
          "x1": 23.25,
          "xref": "x",
          "y0": 75.07,
          "y1": 77.43,
          "yref": "y"
         },
         {
          "fillcolor": "rgba(255, 0, 0, 0.6)",
          "line": {
           "color": "rgb(55, 128, 191)",
           "width": 1
          },
          "type": "rect",
          "x0": 23.75,
          "x1": 24.25,
          "xref": "x",
          "y0": 74.24,
          "y1": 74.65,
          "yref": "y"
         },
         {
          "fillcolor": "rgba(255, 0, 0, 0.6)",
          "line": {
           "color": "rgb(55, 128, 191)",
           "width": 1
          },
          "type": "rect",
          "x0": 24.75,
          "x1": 25.25,
          "xref": "x",
          "y0": 73.84,
          "y1": 75.45,
          "yref": "y"
         },
         {
          "fillcolor": "rgba(255, 0, 0, 0.6)",
          "line": {
           "color": "rgb(55, 128, 191)",
           "width": 1
          },
          "type": "rect",
          "x0": 25.75,
          "x1": 26.25,
          "xref": "x",
          "y0": 74.09,
          "y1": 75.95,
          "yref": "y"
         },
         {
          "fillcolor": "rgba(0, 204, 0, 0.6)",
          "line": {
           "color": "rgb(55, 128, 191)",
           "width": 1
          },
          "type": "rect",
          "x0": 26.75,
          "x1": 27.25,
          "xref": "x",
          "y0": 72.82,
          "y1": 74.05,
          "yref": "y"
         },
         {
          "fillcolor": "rgba(255, 0, 0, 0.6)",
          "line": {
           "color": "rgb(55, 128, 191)",
           "width": 1
          },
          "type": "rect",
          "x0": 27.75,
          "x1": 28.25,
          "xref": "x",
          "y0": 75.26,
          "y1": 75.72,
          "yref": "y"
         },
         {
          "fillcolor": "rgba(255, 0, 0, 0.6)",
          "line": {
           "color": "rgb(55, 128, 191)",
           "width": 1
          },
          "type": "rect",
          "x0": 28.75,
          "x1": 29.25,
          "xref": "x",
          "y0": 74.91,
          "y1": 75.88,
          "yref": "y"
         },
         {
          "fillcolor": "rgba(0, 204, 0, 0.6)",
          "line": {
           "color": "rgb(55, 128, 191)",
           "width": 1
          },
          "type": "rect",
          "x0": 29.75,
          "x1": 30.25,
          "xref": "x",
          "y0": 73.23,
          "y1": 74.57,
          "yref": "y"
         },
         {
          "fillcolor": "rgba(0, 204, 0, 0.6)",
          "line": {
           "color": "rgb(55, 128, 191)",
           "width": 1
          },
          "type": "rect",
          "x0": 30.75,
          "x1": 31.25,
          "xref": "x",
          "y0": 72.55,
          "y1": 73.47,
          "yref": "y"
         },
         {
          "fillcolor": "rgba(255, 0, 0, 0.6)",
          "line": {
           "color": "rgb(55, 128, 191)",
           "width": 1
          },
          "type": "rect",
          "x0": 31.75,
          "x1": 32.25,
          "xref": "x",
          "y0": 73.34,
          "y1": 73.38,
          "yref": "y"
         },
         {
          "fillcolor": "rgba(0, 204, 0, 0.6)",
          "line": {
           "color": "rgb(55, 128, 191)",
           "width": 1
          },
          "type": "rect",
          "x0": 32.75,
          "x1": 33.25,
          "xref": "x",
          "y0": 71.93,
          "y1": 73.41,
          "yref": "y"
         },
         {
          "fillcolor": "rgba(0, 204, 0, 0.6)",
          "line": {
           "color": "rgb(55, 128, 191)",
           "width": 1
          },
          "type": "rect",
          "x0": 33.75,
          "x1": 34.25,
          "xref": "x",
          "y0": 71.78,
          "y1": 73.74,
          "yref": "y"
         },
         {
          "fillcolor": "rgba(0, 204, 0, 0.6)",
          "line": {
           "color": "rgb(55, 128, 191)",
           "width": 1
          },
          "type": "rect",
          "x0": 34.75,
          "x1": 35.25,
          "xref": "x",
          "y0": 71.31,
          "y1": 74.25,
          "yref": "y"
         },
         {
          "fillcolor": "rgba(255, 0, 0, 0.6)",
          "line": {
           "color": "rgb(55, 128, 191)",
           "width": 1
          },
          "type": "rect",
          "x0": 35.75,
          "x1": 36.25,
          "xref": "x",
          "y0": 74.79,
          "y1": 74.8,
          "yref": "y"
         },
         {
          "fillcolor": "rgba(255, 0, 0, 0.6)",
          "line": {
           "color": "rgb(55, 128, 191)",
           "width": 1
          },
          "type": "rect",
          "x0": 36.75,
          "x1": 37.25,
          "xref": "x",
          "y0": 75.21,
          "y1": 75.91,
          "yref": "y"
         },
         {
          "fillcolor": "rgba(0, 204, 0, 0.6)",
          "line": {
           "color": "rgb(55, 128, 191)",
           "width": 1
          },
          "type": "rect",
          "x0": 37.75,
          "x1": 38.25,
          "xref": "x",
          "y0": 75.26,
          "y1": 75.54,
          "yref": "y"
         },
         {
          "fillcolor": "rgba(255, 0, 0, 0.6)",
          "line": {
           "color": "rgb(55, 128, 191)",
           "width": 1
          },
          "type": "rect",
          "x0": 38.75,
          "x1": 39.25,
          "xref": "x",
          "y0": 75.77,
          "y1": 77.77,
          "yref": "y"
         },
         {
          "fillcolor": "rgba(255, 0, 0, 0.6)",
          "line": {
           "color": "rgb(55, 128, 191)",
           "width": 1
          },
          "type": "rect",
          "x0": 39.75,
          "x1": 40.25,
          "xref": "x",
          "y0": 76.2,
          "y1": 76.55,
          "yref": "y"
         },
         {
          "fillcolor": "rgba(255, 0, 0, 0.6)",
          "line": {
           "color": "rgb(55, 128, 191)",
           "width": 1
          },
          "type": "rect",
          "x0": 40.75,
          "x1": 41.25,
          "xref": "x",
          "y0": 76.16,
          "y1": 77.08,
          "yref": "y"
         },
         {
          "fillcolor": "rgba(255, 0, 0, 0.6)",
          "line": {
           "color": "rgb(55, 128, 191)",
           "width": 1
          },
          "type": "rect",
          "x0": 41.75,
          "x1": 42.25,
          "xref": "x",
          "y0": 76.51,
          "y1": 78.19,
          "yref": "y"
         },
         {
          "fillcolor": "rgba(0, 204, 0, 0.6)",
          "line": {
           "color": "rgb(55, 128, 191)",
           "width": 1
          },
          "type": "rect",
          "x0": 42.75,
          "x1": 43.25,
          "xref": "x",
          "y0": 74.5,
          "y1": 75.37,
          "yref": "y"
         },
         {
          "fillcolor": "rgba(255, 0, 0, 0.6)",
          "line": {
           "color": "rgb(55, 128, 191)",
           "width": 1
          },
          "type": "rect",
          "x0": 43.75,
          "x1": 44.25,
          "xref": "x",
          "y0": 75.99,
          "y1": 76.66,
          "yref": "y"
         },
         {
          "fillcolor": "rgba(0, 204, 0, 0.6)",
          "line": {
           "color": "rgb(55, 128, 191)",
           "width": 1
          },
          "type": "rect",
          "x0": 44.75,
          "x1": 45.25,
          "xref": "x",
          "y0": 73.57,
          "y1": 76.06,
          "yref": "y"
         },
         {
          "fillcolor": "rgba(255, 0, 0, 0.6)",
          "line": {
           "color": "rgb(55, 128, 191)",
           "width": 1
          },
          "type": "rect",
          "x0": 45.75,
          "x1": 46.25,
          "xref": "x",
          "y0": 76.72,
          "y1": 76.76,
          "yref": "y"
         },
         {
          "fillcolor": "rgba(0, 204, 0, 0.6)",
          "line": {
           "color": "rgb(55, 128, 191)",
           "width": 1
          },
          "type": "rect",
          "x0": 46.75,
          "x1": 47.25,
          "xref": "x",
          "y0": 76.75,
          "y1": 77.17,
          "yref": "y"
         },
         {
          "fillcolor": "rgba(255, 0, 0, 0.6)",
          "line": {
           "color": "rgb(55, 128, 191)",
           "width": 1
          },
          "type": "rect",
          "x0": 47.75,
          "x1": 48.25,
          "xref": "x",
          "y0": 76.52,
          "y1": 77.81,
          "yref": "y"
         },
         {
          "fillcolor": "rgba(255, 0, 0, 0.6)",
          "line": {
           "color": "rgb(55, 128, 191)",
           "width": 1
          },
          "type": "rect",
          "x0": 48.75,
          "x1": 49.25,
          "xref": "x",
          "y0": 75.99,
          "y1": 76.12,
          "yref": "y"
         },
         {
          "fillcolor": "rgba(0, 204, 0, 0.6)",
          "line": {
           "color": "rgb(55, 128, 191)",
           "width": 1
          },
          "type": "rect",
          "x0": 49.75,
          "x1": 50.25,
          "xref": "x",
          "y0": 74.55,
          "y1": 74.56,
          "yref": "y"
         },
         {
          "line": {
           "color": "rgb(55, 128, 191)",
           "width": 1.5
          },
          "type": "line",
          "x0": 1,
          "x1": 1,
          "y0": 80.41,
          "y1": 81.52
         },
         {
          "line": {
           "color": "rgb(55, 128, 191)",
           "width": 1.5
          },
          "type": "line",
          "x0": 2,
          "x1": 2,
          "y0": 82.96,
          "y1": 84.08
         },
         {
          "line": {
           "color": "rgb(55, 128, 191)",
           "width": 1.5
          },
          "type": "line",
          "x0": 3,
          "x1": 3,
          "y0": 80.09,
          "y1": 81.2
         },
         {
          "line": {
           "color": "rgb(55, 128, 191)",
           "width": 1.5
          },
          "type": "line",
          "x0": 4,
          "x1": 4,
          "y0": 81.17,
          "y1": 82.28
         },
         {
          "line": {
           "color": "rgb(55, 128, 191)",
           "width": 1.5
          },
          "type": "line",
          "x0": 5,
          "x1": 5,
          "y0": 78.75,
          "y1": 79.86
         },
         {
          "line": {
           "color": "rgb(55, 128, 191)",
           "width": 1.5
          },
          "type": "line",
          "x0": 6,
          "x1": 6,
          "y0": 77.98,
          "y1": 79.08
         },
         {
          "line": {
           "color": "rgb(55, 128, 191)",
           "width": 1.5
          },
          "type": "line",
          "x0": 7,
          "x1": 7,
          "y0": 78.08,
          "y1": 79.19
         },
         {
          "line": {
           "color": "rgb(55, 128, 191)",
           "width": 1.5
          },
          "type": "line",
          "x0": 8,
          "x1": 8,
          "y0": 78.36,
          "y1": 79.46
         },
         {
          "line": {
           "color": "rgb(55, 128, 191)",
           "width": 1.5
          },
          "type": "line",
          "x0": 9,
          "x1": 9,
          "y0": 77.48,
          "y1": 78.59
         },
         {
          "line": {
           "color": "rgb(55, 128, 191)",
           "width": 1.5
          },
          "type": "line",
          "x0": 10,
          "x1": 10,
          "y0": 77.57,
          "y1": 78.63
         },
         {
          "line": {
           "color": "rgb(55, 128, 191)",
           "width": 1.5
          },
          "type": "line",
          "x0": 11,
          "x1": 11,
          "y0": 78.22,
          "y1": 79.31
         },
         {
          "line": {
           "color": "rgb(55, 128, 191)",
           "width": 1.5
          },
          "type": "line",
          "x0": 12,
          "x1": 12,
          "y0": 78.69,
          "y1": 79.82
         },
         {
          "line": {
           "color": "rgb(55, 128, 191)",
           "width": 1.5
          },
          "type": "line",
          "x0": 13,
          "x1": 13,
          "y0": 78.65,
          "y1": 79.75
         },
         {
          "line": {
           "color": "rgb(55, 128, 191)",
           "width": 1.5
          },
          "type": "line",
          "x0": 14,
          "x1": 14,
          "y0": 78.69,
          "y1": 79.82
         },
         {
          "line": {
           "color": "rgb(55, 128, 191)",
           "width": 1.5
          },
          "type": "line",
          "x0": 15,
          "x1": 15,
          "y0": 79.44,
          "y1": 80.56
         },
         {
          "line": {
           "color": "rgb(55, 128, 191)",
           "width": 1.5
          },
          "type": "line",
          "x0": 16,
          "x1": 16,
          "y0": 78.38,
          "y1": 79.47
         },
         {
          "line": {
           "color": "rgb(55, 128, 191)",
           "width": 1.5
          },
          "type": "line",
          "x0": 17,
          "x1": 17,
          "y0": 79.78,
          "y1": 80.89
         },
         {
          "line": {
           "color": "rgb(55, 128, 191)",
           "width": 1.5
          },
          "type": "line",
          "x0": 18,
          "x1": 18,
          "y0": 75.94,
          "y1": 77.02
         },
         {
          "line": {
           "color": "rgb(55, 128, 191)",
           "width": 1.5
          },
          "type": "line",
          "x0": 19,
          "x1": 19,
          "y0": 76.58,
          "y1": 77.69
         },
         {
          "line": {
           "color": "rgb(55, 128, 191)",
           "width": 1.5
          },
          "type": "line",
          "x0": 20,
          "x1": 20,
          "y0": 76.5,
          "y1": 77.61
         },
         {
          "line": {
           "color": "rgb(55, 128, 191)",
           "width": 1.5
          },
          "type": "line",
          "x0": 21,
          "x1": 21,
          "y0": 76.26,
          "y1": 77.38
         },
         {
          "line": {
           "color": "rgb(55, 128, 191)",
           "width": 1.5
          },
          "type": "line",
          "x0": 22,
          "x1": 22,
          "y0": 75.86,
          "y1": 76.96
         },
         {
          "line": {
           "color": "rgb(55, 128, 191)",
           "width": 1.5
          },
          "type": "line",
          "x0": 23,
          "x1": 23,
          "y0": 77.43,
          "y1": 78.54
         },
         {
          "line": {
           "color": "rgb(55, 128, 191)",
           "width": 1.5
          },
          "type": "line",
          "x0": 24,
          "x1": 24,
          "y0": 74.65,
          "y1": 75.77
         },
         {
          "line": {
           "color": "rgb(55, 128, 191)",
           "width": 1.5
          },
          "type": "line",
          "x0": 25,
          "x1": 25,
          "y0": 75.45,
          "y1": 76.56
         },
         {
          "line": {
           "color": "rgb(55, 128, 191)",
           "width": 1.5
          },
          "type": "line",
          "x0": 26,
          "x1": 26,
          "y0": 75.95,
          "y1": 77.06
         },
         {
          "line": {
           "color": "rgb(55, 128, 191)",
           "width": 1.5
          },
          "type": "line",
          "x0": 27,
          "x1": 27,
          "y0": 74.05,
          "y1": 75.17
         },
         {
          "line": {
           "color": "rgb(55, 128, 191)",
           "width": 1.5
          },
          "type": "line",
          "x0": 28,
          "x1": 28,
          "y0": 75.72,
          "y1": 76.82
         },
         {
          "line": {
           "color": "rgb(55, 128, 191)",
           "width": 1.5
          },
          "type": "line",
          "x0": 29,
          "x1": 29,
          "y0": 75.88,
          "y1": 77
         },
         {
          "line": {
           "color": "rgb(55, 128, 191)",
           "width": 1.5
          },
          "type": "line",
          "x0": 30,
          "x1": 30,
          "y0": 74.57,
          "y1": 75.68
         },
         {
          "line": {
           "color": "rgb(55, 128, 191)",
           "width": 1.5
          },
          "type": "line",
          "x0": 31,
          "x1": 31,
          "y0": 73.47,
          "y1": 74.58
         },
         {
          "line": {
           "color": "rgb(55, 128, 191)",
           "width": 1.5
          },
          "type": "line",
          "x0": 32,
          "x1": 32,
          "y0": 73.38,
          "y1": 74.49
         },
         {
          "line": {
           "color": "rgb(55, 128, 191)",
           "width": 1.5
          },
          "type": "line",
          "x0": 33,
          "x1": 33,
          "y0": 73.41,
          "y1": 74.51
         },
         {
          "line": {
           "color": "rgb(55, 128, 191)",
           "width": 1.5
          },
          "type": "line",
          "x0": 34,
          "x1": 34,
          "y0": 73.74,
          "y1": 74.84
         },
         {
          "line": {
           "color": "rgb(55, 128, 191)",
           "width": 1.5
          },
          "type": "line",
          "x0": 35,
          "x1": 35,
          "y0": 74.25,
          "y1": 75.33
         },
         {
          "line": {
           "color": "rgb(55, 128, 191)",
           "width": 1.5
          },
          "type": "line",
          "x0": 36,
          "x1": 36,
          "y0": 74.8,
          "y1": 75.91
         },
         {
          "line": {
           "color": "rgb(55, 128, 191)",
           "width": 1.5
          },
          "type": "line",
          "x0": 37,
          "x1": 37,
          "y0": 75.91,
          "y1": 77.01
         },
         {
          "line": {
           "color": "rgb(55, 128, 191)",
           "width": 1.5
          },
          "type": "line",
          "x0": 38,
          "x1": 38,
          "y0": 75.54,
          "y1": 76.65
         },
         {
          "line": {
           "color": "rgb(55, 128, 191)",
           "width": 1.5
          },
          "type": "line",
          "x0": 39,
          "x1": 39,
          "y0": 77.77,
          "y1": 78.86
         },
         {
          "line": {
           "color": "rgb(55, 128, 191)",
           "width": 1.5
          },
          "type": "line",
          "x0": 40,
          "x1": 40,
          "y0": 76.55,
          "y1": 77.64
         },
         {
          "line": {
           "color": "rgb(55, 128, 191)",
           "width": 1.5
          },
          "type": "line",
          "x0": 41,
          "x1": 41,
          "y0": 77.08,
          "y1": 78.17
         },
         {
          "line": {
           "color": "rgb(55, 128, 191)",
           "width": 1.5
          },
          "type": "line",
          "x0": 42,
          "x1": 42,
          "y0": 78.19,
          "y1": 79.3
         },
         {
          "line": {
           "color": "rgb(55, 128, 191)",
           "width": 1.5
          },
          "type": "line",
          "x0": 43,
          "x1": 43,
          "y0": 75.37,
          "y1": 76.5
         },
         {
          "line": {
           "color": "rgb(55, 128, 191)",
           "width": 1.5
          },
          "type": "line",
          "x0": 44,
          "x1": 44,
          "y0": 76.66,
          "y1": 77.77
         },
         {
          "line": {
           "color": "rgb(55, 128, 191)",
           "width": 1.5
          },
          "type": "line",
          "x0": 45,
          "x1": 45,
          "y0": 76.06,
          "y1": 77.18
         },
         {
          "line": {
           "color": "rgb(55, 128, 191)",
           "width": 1.5
          },
          "type": "line",
          "x0": 46,
          "x1": 46,
          "y0": 76.76,
          "y1": 77.86
         },
         {
          "line": {
           "color": "rgb(55, 128, 191)",
           "width": 1.5
          },
          "type": "line",
          "x0": 47,
          "x1": 47,
          "y0": 77.17,
          "y1": 78.29
         },
         {
          "line": {
           "color": "rgb(55, 128, 191)",
           "width": 1.5
          },
          "type": "line",
          "x0": 48,
          "x1": 48,
          "y0": 77.81,
          "y1": 78.91
         },
         {
          "line": {
           "color": "rgb(55, 128, 191)",
           "width": 1.5
          },
          "type": "line",
          "x0": 49,
          "x1": 49,
          "y0": 76.12,
          "y1": 77.22
         },
         {
          "line": {
           "color": "rgb(55, 128, 191)",
           "width": 1.5
          },
          "type": "line",
          "x0": 50,
          "x1": 50,
          "y0": 74.56,
          "y1": 75.68
         }
        ],
        "showlegend": false,
        "title": "Random Walk",
        "xaxis": {
         "anchor": "y2",
         "showgrid": true,
         "showticklabels": true,
         "tickangle": 90,
         "tickmode": "array",
         "ticktext": [
          20190514,
          20190516,
          20190520,
          20190522,
          20190524,
          20190528,
          20190530,
          20190603,
          20190605,
          20190607,
          20190611,
          20190613,
          20190617,
          20190619,
          20190621,
          20190625,
          20190627,
          20190701,
          20190703,
          20190705,
          20190709,
          20190711,
          20190715,
          20190717,
          20190719,
          20190722
         ],
         "tickvals": [
          1,
          3,
          5,
          7,
          9,
          11,
          13,
          15,
          17,
          19,
          21,
          23,
          25,
          27,
          29,
          31,
          33,
          35,
          37,
          39,
          41,
          43,
          45,
          47,
          49,
          50
         ]
        },
        "yaxis": {
         "domain": [
          0.22,
          1
         ],
         "range": [
          70.22,
          84.08
         ]
        },
        "yaxis2": {
         "domain": [
          0,
          0.2
         ],
         "range": [
          0,
          1794732
         ]
        }
       }
      },
      "text/html": [
       "<div id=\"076ffb00-6724-455c-9105-544ed1bd5e91\" style=\"height: 525px; width: 100%;\" class=\"plotly-graph-div\"></div><script type=\"text/javascript\">require([\"plotly\"], function(Plotly) { window.PLOTLYENV=window.PLOTLYENV || {};window.PLOTLYENV.BASE_URL=\"https://plot.ly\";Plotly.newPlot(\"076ffb00-6724-455c-9105-544ed1bd5e91\", [{\"hoverinfo\": \"text\", \"mode\": \"markers\", \"text\": [\"date: 20190514.0<br>open: 78.32<br>high: 81.52<br>low: 77.22<br>close: 80.41<br>volume: 1537074.0\", \"date: 20190515.0<br>open: 82.96<br>high: 84.08<br>low: 79.31<br>close: 80.4<br>volume: 1596596.0\", \"date: 20190516.0<br>open: 77.13<br>high: 81.2<br>low: 76.04<br>close: 80.09<br>volume: 1655362.0\", \"date: 20190517.0<br>open: 81.17<br>high: 82.28<br>low: 78.3<br>close: 79.43<br>volume: 1645488.0\", \"date: 20190520.0<br>open: 77.75<br>high: 79.86<br>low: 76.66<br>close: 78.75<br>volume: 1772376.0\", \"date: 20190521.0<br>open: 76.68<br>high: 79.08<br>low: 75.57<br>close: 77.98<br>volume: 1737117.0\", \"date: 20190522.0<br>open: 78.08<br>high: 79.19<br>low: 76.86<br>close: 77.98<br>volume: 1782203.0\", \"date: 20190523.0<br>open: 78.36<br>high: 79.46<br>low: 76.92<br>close: 78.03<br>volume: 1761971.0\", \"date: 20190524.0<br>open: 77.48<br>high: 78.59<br>low: 76.2<br>close: 77.3<br>volume: 1723128.0\", \"date: 20190527.0<br>open: 77.48<br>high: 78.63<br>low: 76.37<br>close: 77.57<br>volume: 1753630.0\", \"date: 20190528.0<br>open: 77.28<br>high: 79.31<br>low: 76.2<br>close: 78.22<br>volume: 1794732.0\", \"date: 20190529.0<br>open: 78.69<br>high: 79.82<br>low: 76.55<br>close: 77.66<br>volume: 1766008.0\", \"date: 20190530.0<br>open: 78.53<br>high: 79.75<br>low: 77.44<br>close: 78.65<br>volume: 1706375.0\", \"date: 20190531.0<br>open: 78.69<br>high: 79.82<br>low: 76.85<br>close: 77.94<br>volume: 1708568.0\", \"date: 20190603.0<br>open: 79.44<br>high: 80.56<br>low: 76.64<br>close: 77.74<br>volume: 1600341.0\", \"date: 20190604.0<br>open: 78.38<br>high: 79.47<br>low: 76.17<br>close: 77.25<br>volume: 1581432.0\", \"date: 20190605.0<br>open: 79.78<br>high: 80.89<br>low: 76.32<br>close: 77.43<br>volume: 1561330.0\", \"date: 20190606.0<br>open: 73.44<br>high: 77.02<br>low: 72.34<br>close: 75.94<br>volume: 1457293.0\", \"date: 20190607.0<br>open: 76.39<br>high: 77.69<br>low: 75.28<br>close: 76.58<br>volume: 1444542.0\", \"date: 20190610.0<br>open: 76.09<br>high: 77.61<br>low: 74.98<br>close: 76.5<br>volume: 1444719.0\", \"date: 20190611.0<br>open: 75.83<br>high: 77.38<br>low: 74.72<br>close: 76.26<br>volume: 1521363.0\", \"date: 20190612.0<br>open: 75.86<br>high: 76.96<br>low: 74.61<br>close: 75.7<br>volume: 1553205.0\", \"date: 20190613.0<br>open: 77.43<br>high: 78.54<br>low: 73.97<br>close: 75.07<br>volume: 1506117.0\", \"date: 20190614.0<br>open: 74.65<br>high: 75.77<br>low: 73.14<br>close: 74.24<br>volume: 1482352.0\", \"date: 20190617.0<br>open: 75.45<br>high: 76.56<br>low: 72.74<br>close: 73.84<br>volume: 1383236.0\", \"date: 20190618.0<br>open: 75.95<br>high: 77.06<br>low: 73.0<br>close: 74.09<br>volume: 1378581.0\", \"date: 20190619.0<br>open: 72.82<br>high: 75.17<br>low: 71.71<br>close: 74.05<br>volume: 1382361.0\", \"date: 20190620.0<br>open: 75.72<br>high: 76.82<br>low: 74.17<br>close: 75.26<br>volume: 1366770.0\", \"date: 20190621.0<br>open: 75.88<br>high: 77.0<br>low: 73.8<br>close: 74.91<br>volume: 1330874.0\", \"date: 20190624.0<br>open: 73.23<br>high: 75.68<br>low: 72.13<br>close: 74.57<br>volume: 1335705.0\", \"date: 20190625.0<br>open: 72.55<br>high: 74.58<br>low: 71.47<br>close: 73.47<br>volume: 1235113.0\", \"date: 20190626.0<br>open: 73.38<br>high: 74.49<br>low: 72.24<br>close: 73.34<br>volume: 1246769.0\", \"date: 20190627.0<br>open: 71.93<br>high: 74.51<br>low: 70.82<br>close: 73.41<br>volume: 1229397.0\", \"date: 20190628.0<br>open: 71.78<br>high: 74.84<br>low: 70.67<br>close: 73.74<br>volume: 1251386.0\", \"date: 20190701.0<br>open: 71.31<br>high: 75.33<br>low: 70.22<br>close: 74.25<br>volume: 1260542.0\", \"date: 20190702.0<br>open: 74.8<br>high: 75.91<br>low: 73.68<br>close: 74.79<br>volume: 1282203.0\", \"date: 20190703.0<br>open: 75.91<br>high: 77.01<br>low: 74.13<br>close: 75.21<br>volume: 1233658.0\", \"date: 20190704.0<br>open: 75.26<br>high: 76.65<br>low: 74.12<br>close: 75.54<br>volume: 1210297.0\", \"date: 20190705.0<br>open: 77.77<br>high: 78.86<br>low: 74.65<br>close: 75.77<br>volume: 1263261.0\", \"date: 20190708.0<br>open: 76.55<br>high: 77.64<br>low: 75.07<br>close: 76.2<br>volume: 1327812.0\", \"date: 20190709.0<br>open: 77.08<br>high: 78.17<br>low: 75.06<br>close: 76.16<br>volume: 1305152.0\", \"date: 20190710.0<br>open: 78.19<br>high: 79.3<br>low: 75.41<br>close: 76.51<br>volume: 1334601.0\", \"date: 20190711.0<br>open: 74.5<br>high: 76.5<br>low: 73.39<br>close: 75.37<br>volume: 1324815.0\", \"date: 20190712.0<br>open: 76.66<br>high: 77.77<br>low: 74.91<br>close: 75.99<br>volume: 1299490.0\", \"date: 20190715.0<br>open: 73.57<br>high: 77.18<br>low: 72.45<br>close: 76.06<br>volume: 1304942.0\", \"date: 20190716.0<br>open: 76.76<br>high: 77.86<br>low: 75.61<br>close: 76.72<br>volume: 1354948.0\", \"date: 20190717.0<br>open: 76.75<br>high: 78.29<br>low: 75.64<br>close: 77.17<br>volume: 1348077.0\", \"date: 20190718.0<br>open: 77.81<br>high: 78.91<br>low: 75.41<br>close: 76.52<br>volume: 1346183.0\", \"date: 20190719.0<br>open: 76.12<br>high: 77.22<br>low: 74.9<br>close: 75.99<br>volume: 1342862.0\", \"date: 20190722.0<br>open: 74.55<br>high: 75.68<br>low: 73.47<br>close: 74.56<br>volume: 1342618.0\"], \"x\": [1, 2, 3, 4, 5, 6, 7, 8, 9, 10, 11, 12, 13, 14, 15, 16, 17, 18, 19, 20, 21, 22, 23, 24, 25, 26, 27, 28, 29, 30, 31, 32, 33, 34, 35, 36, 37, 38, 39, 40, 41, 42, 43, 44, 45, 46, 47, 48, 49, 50], \"xaxis\": \"x\", \"y\": [80.41, 80.4, 80.09, 79.43, 78.75, 77.98, 77.98, 78.03, 77.3, 77.57, 78.22, 77.66, 78.65, 77.94, 77.74, 77.25, 77.43, 75.94, 76.58, 76.5, 76.26, 75.7, 75.07, 74.24, 73.84, 74.09, 74.05, 75.26, 74.91, 74.57, 73.47, 73.34, 73.41, 73.74, 74.25, 74.79, 75.21, 75.54, 75.77, 76.2, 76.16, 76.51, 75.37, 75.99, 76.06, 76.72, 77.17, 76.52, 75.99, 74.56], \"yaxis\": \"y\", \"type\": \"scatter\", \"uid\": \"0aaf5488-acf4-11e9-9014-8c859025e7f9\"}, {\"width\": 0.5, \"x\": [1, 2, 3, 4, 5, 6, 7, 8, 9, 10, 11, 12, 13, 14, 15, 16, 17, 18, 19, 20, 21, 22, 23, 24, 25, 26, 27, 28, 29, 30, 31, 32, 33, 34, 35, 36, 37, 38, 39, 40, 41, 42, 43, 44, 45, 46, 47, 48, 49, 50], \"xaxis\": \"x\", \"y\": [1537074.0, 1596596.0, 1655362.0, 1645488.0, 1772376.0, 1737117.0, 1782203.0, 1761971.0, 1723128.0, 1753630.0, 1794732.0, 1766008.0, 1706375.0, 1708568.0, 1600341.0, 1581432.0, 1561330.0, 1457293.0, 1444542.0, 1444719.0, 1521363.0, 1553205.0, 1506117.0, 1482352.0, 1383236.0, 1378581.0, 1382361.0, 1366770.0, 1330874.0, 1335705.0, 1235113.0, 1246769.0, 1229397.0, 1251386.0, 1260542.0, 1282203.0, 1233658.0, 1210297.0, 1263261.0, 1327812.0, 1305152.0, 1334601.0, 1324815.0, 1299490.0, 1304942.0, 1354948.0, 1348077.0, 1346183.0, 1342862.0, 1342618.0], \"yaxis\": \"y2\", \"type\": \"bar\", \"uid\": \"0aaf55dc-acf4-11e9-b9e9-8c859025e7f9\"}], {\"margin\": {\"t\": 100}, \"shapes\": [{\"line\": {\"color\": \"rgb(55, 128, 191)\", \"width\": 1.5}, \"type\": \"line\", \"x0\": 1, \"x1\": 1, \"y0\": 77.22, \"y1\": 78.32}, {\"line\": {\"color\": \"rgb(55, 128, 191)\", \"width\": 1.5}, \"type\": \"line\", \"x0\": 2, \"x1\": 2, \"y0\": 79.31, \"y1\": 80.4}, {\"line\": {\"color\": \"rgb(55, 128, 191)\", \"width\": 1.5}, \"type\": \"line\", \"x0\": 3, \"x1\": 3, \"y0\": 76.04, \"y1\": 77.13}, {\"line\": {\"color\": \"rgb(55, 128, 191)\", \"width\": 1.5}, \"type\": \"line\", \"x0\": 4, \"x1\": 4, \"y0\": 78.3, \"y1\": 79.43}, {\"line\": {\"color\": \"rgb(55, 128, 191)\", \"width\": 1.5}, \"type\": \"line\", \"x0\": 5, \"x1\": 5, \"y0\": 76.66, \"y1\": 77.75}, {\"line\": {\"color\": \"rgb(55, 128, 191)\", \"width\": 1.5}, \"type\": \"line\", \"x0\": 6, \"x1\": 6, \"y0\": 75.57, \"y1\": 76.68}, {\"line\": {\"color\": \"rgb(55, 128, 191)\", \"width\": 1.5}, \"type\": \"line\", \"x0\": 7, \"x1\": 7, \"y0\": 76.86, \"y1\": 77.98}, {\"line\": {\"color\": \"rgb(55, 128, 191)\", \"width\": 1.5}, \"type\": \"line\", \"x0\": 8, \"x1\": 8, \"y0\": 76.92, \"y1\": 78.03}, {\"line\": {\"color\": \"rgb(55, 128, 191)\", \"width\": 1.5}, \"type\": \"line\", \"x0\": 9, \"x1\": 9, \"y0\": 76.2, \"y1\": 77.3}, {\"line\": {\"color\": \"rgb(55, 128, 191)\", \"width\": 1.5}, \"type\": \"line\", \"x0\": 10, \"x1\": 10, \"y0\": 76.37, \"y1\": 77.48}, {\"line\": {\"color\": \"rgb(55, 128, 191)\", \"width\": 1.5}, \"type\": \"line\", \"x0\": 11, \"x1\": 11, \"y0\": 76.2, \"y1\": 77.28}, {\"line\": {\"color\": \"rgb(55, 128, 191)\", \"width\": 1.5}, \"type\": \"line\", \"x0\": 12, \"x1\": 12, \"y0\": 76.55, \"y1\": 77.66}, {\"line\": {\"color\": \"rgb(55, 128, 191)\", \"width\": 1.5}, \"type\": \"line\", \"x0\": 13, \"x1\": 13, \"y0\": 77.44, \"y1\": 78.53}, {\"line\": {\"color\": \"rgb(55, 128, 191)\", \"width\": 1.5}, \"type\": \"line\", \"x0\": 14, \"x1\": 14, \"y0\": 76.85, \"y1\": 77.94}, {\"line\": {\"color\": \"rgb(55, 128, 191)\", \"width\": 1.5}, \"type\": \"line\", \"x0\": 15, \"x1\": 15, \"y0\": 76.64, \"y1\": 77.74}, {\"line\": {\"color\": \"rgb(55, 128, 191)\", \"width\": 1.5}, \"type\": \"line\", \"x0\": 16, \"x1\": 16, \"y0\": 76.17, \"y1\": 77.25}, {\"line\": {\"color\": \"rgb(55, 128, 191)\", \"width\": 1.5}, \"type\": \"line\", \"x0\": 17, \"x1\": 17, \"y0\": 76.32, \"y1\": 77.43}, {\"line\": {\"color\": \"rgb(55, 128, 191)\", \"width\": 1.5}, \"type\": \"line\", \"x0\": 18, \"x1\": 18, \"y0\": 72.34, \"y1\": 73.44}, {\"line\": {\"color\": \"rgb(55, 128, 191)\", \"width\": 1.5}, \"type\": \"line\", \"x0\": 19, \"x1\": 19, \"y0\": 75.28, \"y1\": 76.39}, {\"line\": {\"color\": \"rgb(55, 128, 191)\", \"width\": 1.5}, \"type\": \"line\", \"x0\": 20, \"x1\": 20, \"y0\": 74.98, \"y1\": 76.09}, {\"line\": {\"color\": \"rgb(55, 128, 191)\", \"width\": 1.5}, \"type\": \"line\", \"x0\": 21, \"x1\": 21, \"y0\": 74.72, \"y1\": 75.83}, {\"line\": {\"color\": \"rgb(55, 128, 191)\", \"width\": 1.5}, \"type\": \"line\", \"x0\": 22, \"x1\": 22, \"y0\": 74.61, \"y1\": 75.7}, {\"line\": {\"color\": \"rgb(55, 128, 191)\", \"width\": 1.5}, \"type\": \"line\", \"x0\": 23, \"x1\": 23, \"y0\": 73.97, \"y1\": 75.07}, {\"line\": {\"color\": \"rgb(55, 128, 191)\", \"width\": 1.5}, \"type\": \"line\", \"x0\": 24, \"x1\": 24, \"y0\": 73.14, \"y1\": 74.24}, {\"line\": {\"color\": \"rgb(55, 128, 191)\", \"width\": 1.5}, \"type\": \"line\", \"x0\": 25, \"x1\": 25, \"y0\": 72.74, \"y1\": 73.84}, {\"line\": {\"color\": \"rgb(55, 128, 191)\", \"width\": 1.5}, \"type\": \"line\", \"x0\": 26, \"x1\": 26, \"y0\": 73.0, \"y1\": 74.09}, {\"line\": {\"color\": \"rgb(55, 128, 191)\", \"width\": 1.5}, \"type\": \"line\", \"x0\": 27, \"x1\": 27, \"y0\": 71.71, \"y1\": 72.82}, {\"line\": {\"color\": \"rgb(55, 128, 191)\", \"width\": 1.5}, \"type\": \"line\", \"x0\": 28, \"x1\": 28, \"y0\": 74.17, \"y1\": 75.26}, {\"line\": {\"color\": \"rgb(55, 128, 191)\", \"width\": 1.5}, \"type\": \"line\", \"x0\": 29, \"x1\": 29, \"y0\": 73.8, \"y1\": 74.91}, {\"line\": {\"color\": \"rgb(55, 128, 191)\", \"width\": 1.5}, \"type\": \"line\", \"x0\": 30, \"x1\": 30, \"y0\": 72.13, \"y1\": 73.23}, {\"line\": {\"color\": \"rgb(55, 128, 191)\", \"width\": 1.5}, \"type\": \"line\", \"x0\": 31, \"x1\": 31, \"y0\": 71.47, \"y1\": 72.55}, {\"line\": {\"color\": \"rgb(55, 128, 191)\", \"width\": 1.5}, \"type\": \"line\", \"x0\": 32, \"x1\": 32, \"y0\": 72.24, \"y1\": 73.34}, {\"line\": {\"color\": \"rgb(55, 128, 191)\", \"width\": 1.5}, \"type\": \"line\", \"x0\": 33, \"x1\": 33, \"y0\": 70.82, \"y1\": 71.93}, {\"line\": {\"color\": \"rgb(55, 128, 191)\", \"width\": 1.5}, \"type\": \"line\", \"x0\": 34, \"x1\": 34, \"y0\": 70.67, \"y1\": 71.78}, {\"line\": {\"color\": \"rgb(55, 128, 191)\", \"width\": 1.5}, \"type\": \"line\", \"x0\": 35, \"x1\": 35, \"y0\": 70.22, \"y1\": 71.31}, {\"line\": {\"color\": \"rgb(55, 128, 191)\", \"width\": 1.5}, \"type\": \"line\", \"x0\": 36, \"x1\": 36, \"y0\": 73.68, \"y1\": 74.79}, {\"line\": {\"color\": \"rgb(55, 128, 191)\", \"width\": 1.5}, \"type\": \"line\", \"x0\": 37, \"x1\": 37, \"y0\": 74.13, \"y1\": 75.21}, {\"line\": {\"color\": \"rgb(55, 128, 191)\", \"width\": 1.5}, \"type\": \"line\", \"x0\": 38, \"x1\": 38, \"y0\": 74.12, \"y1\": 75.26}, {\"line\": {\"color\": \"rgb(55, 128, 191)\", \"width\": 1.5}, \"type\": \"line\", \"x0\": 39, \"x1\": 39, \"y0\": 74.65, \"y1\": 75.77}, {\"line\": {\"color\": \"rgb(55, 128, 191)\", \"width\": 1.5}, \"type\": \"line\", \"x0\": 40, \"x1\": 40, \"y0\": 75.07, \"y1\": 76.2}, {\"line\": {\"color\": \"rgb(55, 128, 191)\", \"width\": 1.5}, \"type\": \"line\", \"x0\": 41, \"x1\": 41, \"y0\": 75.06, \"y1\": 76.16}, {\"line\": {\"color\": \"rgb(55, 128, 191)\", \"width\": 1.5}, \"type\": \"line\", \"x0\": 42, \"x1\": 42, \"y0\": 75.41, \"y1\": 76.51}, {\"line\": {\"color\": \"rgb(55, 128, 191)\", \"width\": 1.5}, \"type\": \"line\", \"x0\": 43, \"x1\": 43, \"y0\": 73.39, \"y1\": 74.5}, {\"line\": {\"color\": \"rgb(55, 128, 191)\", \"width\": 1.5}, \"type\": \"line\", \"x0\": 44, \"x1\": 44, \"y0\": 74.91, \"y1\": 75.99}, {\"line\": {\"color\": \"rgb(55, 128, 191)\", \"width\": 1.5}, \"type\": \"line\", \"x0\": 45, \"x1\": 45, \"y0\": 72.45, \"y1\": 73.57}, {\"line\": {\"color\": \"rgb(55, 128, 191)\", \"width\": 1.5}, \"type\": \"line\", \"x0\": 46, \"x1\": 46, \"y0\": 75.61, \"y1\": 76.72}, {\"line\": {\"color\": \"rgb(55, 128, 191)\", \"width\": 1.5}, \"type\": \"line\", \"x0\": 47, \"x1\": 47, \"y0\": 75.64, \"y1\": 76.75}, {\"line\": {\"color\": \"rgb(55, 128, 191)\", \"width\": 1.5}, \"type\": \"line\", \"x0\": 48, \"x1\": 48, \"y0\": 75.41, \"y1\": 76.52}, {\"line\": {\"color\": \"rgb(55, 128, 191)\", \"width\": 1.5}, \"type\": \"line\", \"x0\": 49, \"x1\": 49, \"y0\": 74.9, \"y1\": 75.99}, {\"line\": {\"color\": \"rgb(55, 128, 191)\", \"width\": 1.5}, \"type\": \"line\", \"x0\": 50, \"x1\": 50, \"y0\": 73.47, \"y1\": 74.55}, {\"fillcolor\": \"rgba(0, 204, 0, 0.6)\", \"line\": {\"color\": \"rgb(55, 128, 191)\", \"width\": 1}, \"type\": \"rect\", \"x0\": 0.75, \"x1\": 1.25, \"xref\": \"x\", \"y0\": 78.32, \"y1\": 80.41, \"yref\": \"y\"}, {\"fillcolor\": \"rgba(255, 0, 0, 0.6)\", \"line\": {\"color\": \"rgb(55, 128, 191)\", \"width\": 1}, \"type\": \"rect\", \"x0\": 1.75, \"x1\": 2.25, \"xref\": \"x\", \"y0\": 80.4, \"y1\": 82.96, \"yref\": \"y\"}, {\"fillcolor\": \"rgba(0, 204, 0, 0.6)\", \"line\": {\"color\": \"rgb(55, 128, 191)\", \"width\": 1}, \"type\": \"rect\", \"x0\": 2.75, \"x1\": 3.25, \"xref\": \"x\", \"y0\": 77.13, \"y1\": 80.09, \"yref\": \"y\"}, {\"fillcolor\": \"rgba(255, 0, 0, 0.6)\", \"line\": {\"color\": \"rgb(55, 128, 191)\", \"width\": 1}, \"type\": \"rect\", \"x0\": 3.75, \"x1\": 4.25, \"xref\": \"x\", \"y0\": 79.43, \"y1\": 81.17, \"yref\": \"y\"}, {\"fillcolor\": \"rgba(0, 204, 0, 0.6)\", \"line\": {\"color\": \"rgb(55, 128, 191)\", \"width\": 1}, \"type\": \"rect\", \"x0\": 4.75, \"x1\": 5.25, \"xref\": \"x\", \"y0\": 77.75, \"y1\": 78.75, \"yref\": \"y\"}, {\"fillcolor\": \"rgba(0, 204, 0, 0.6)\", \"line\": {\"color\": \"rgb(55, 128, 191)\", \"width\": 1}, \"type\": \"rect\", \"x0\": 5.75, \"x1\": 6.25, \"xref\": \"x\", \"y0\": 76.68, \"y1\": 77.98, \"yref\": \"y\"}, {\"fillcolor\": \"rgba(255, 0, 0, 0.6)\", \"line\": {\"color\": \"rgb(55, 128, 191)\", \"width\": 1}, \"type\": \"rect\", \"x0\": 6.75, \"x1\": 7.25, \"xref\": \"x\", \"y0\": 77.98, \"y1\": 78.08, \"yref\": \"y\"}, {\"fillcolor\": \"rgba(255, 0, 0, 0.6)\", \"line\": {\"color\": \"rgb(55, 128, 191)\", \"width\": 1}, \"type\": \"rect\", \"x0\": 7.75, \"x1\": 8.25, \"xref\": \"x\", \"y0\": 78.03, \"y1\": 78.36, \"yref\": \"y\"}, {\"fillcolor\": \"rgba(255, 0, 0, 0.6)\", \"line\": {\"color\": \"rgb(55, 128, 191)\", \"width\": 1}, \"type\": \"rect\", \"x0\": 8.75, \"x1\": 9.25, \"xref\": \"x\", \"y0\": 77.3, \"y1\": 77.48, \"yref\": \"y\"}, {\"fillcolor\": \"rgba(0, 204, 0, 0.6)\", \"line\": {\"color\": \"rgb(55, 128, 191)\", \"width\": 1}, \"type\": \"rect\", \"x0\": 9.75, \"x1\": 10.25, \"xref\": \"x\", \"y0\": 77.48, \"y1\": 77.57, \"yref\": \"y\"}, {\"fillcolor\": \"rgba(0, 204, 0, 0.6)\", \"line\": {\"color\": \"rgb(55, 128, 191)\", \"width\": 1}, \"type\": \"rect\", \"x0\": 10.75, \"x1\": 11.25, \"xref\": \"x\", \"y0\": 77.28, \"y1\": 78.22, \"yref\": \"y\"}, {\"fillcolor\": \"rgba(255, 0, 0, 0.6)\", \"line\": {\"color\": \"rgb(55, 128, 191)\", \"width\": 1}, \"type\": \"rect\", \"x0\": 11.75, \"x1\": 12.25, \"xref\": \"x\", \"y0\": 77.66, \"y1\": 78.69, \"yref\": \"y\"}, {\"fillcolor\": \"rgba(0, 204, 0, 0.6)\", \"line\": {\"color\": \"rgb(55, 128, 191)\", \"width\": 1}, \"type\": \"rect\", \"x0\": 12.75, \"x1\": 13.25, \"xref\": \"x\", \"y0\": 78.53, \"y1\": 78.65, \"yref\": \"y\"}, {\"fillcolor\": \"rgba(255, 0, 0, 0.6)\", \"line\": {\"color\": \"rgb(55, 128, 191)\", \"width\": 1}, \"type\": \"rect\", \"x0\": 13.75, \"x1\": 14.25, \"xref\": \"x\", \"y0\": 77.94, \"y1\": 78.69, \"yref\": \"y\"}, {\"fillcolor\": \"rgba(255, 0, 0, 0.6)\", \"line\": {\"color\": \"rgb(55, 128, 191)\", \"width\": 1}, \"type\": \"rect\", \"x0\": 14.75, \"x1\": 15.25, \"xref\": \"x\", \"y0\": 77.74, \"y1\": 79.44, \"yref\": \"y\"}, {\"fillcolor\": \"rgba(255, 0, 0, 0.6)\", \"line\": {\"color\": \"rgb(55, 128, 191)\", \"width\": 1}, \"type\": \"rect\", \"x0\": 15.75, \"x1\": 16.25, \"xref\": \"x\", \"y0\": 77.25, \"y1\": 78.38, \"yref\": \"y\"}, {\"fillcolor\": \"rgba(255, 0, 0, 0.6)\", \"line\": {\"color\": \"rgb(55, 128, 191)\", \"width\": 1}, \"type\": \"rect\", \"x0\": 16.75, \"x1\": 17.25, \"xref\": \"x\", \"y0\": 77.43, \"y1\": 79.78, \"yref\": \"y\"}, {\"fillcolor\": \"rgba(0, 204, 0, 0.6)\", \"line\": {\"color\": \"rgb(55, 128, 191)\", \"width\": 1}, \"type\": \"rect\", \"x0\": 17.75, \"x1\": 18.25, \"xref\": \"x\", \"y0\": 73.44, \"y1\": 75.94, \"yref\": \"y\"}, {\"fillcolor\": \"rgba(0, 204, 0, 0.6)\", \"line\": {\"color\": \"rgb(55, 128, 191)\", \"width\": 1}, \"type\": \"rect\", \"x0\": 18.75, \"x1\": 19.25, \"xref\": \"x\", \"y0\": 76.39, \"y1\": 76.58, \"yref\": \"y\"}, {\"fillcolor\": \"rgba(0, 204, 0, 0.6)\", \"line\": {\"color\": \"rgb(55, 128, 191)\", \"width\": 1}, \"type\": \"rect\", \"x0\": 19.75, \"x1\": 20.25, \"xref\": \"x\", \"y0\": 76.09, \"y1\": 76.5, \"yref\": \"y\"}, {\"fillcolor\": \"rgba(0, 204, 0, 0.6)\", \"line\": {\"color\": \"rgb(55, 128, 191)\", \"width\": 1}, \"type\": \"rect\", \"x0\": 20.75, \"x1\": 21.25, \"xref\": \"x\", \"y0\": 75.83, \"y1\": 76.26, \"yref\": \"y\"}, {\"fillcolor\": \"rgba(255, 0, 0, 0.6)\", \"line\": {\"color\": \"rgb(55, 128, 191)\", \"width\": 1}, \"type\": \"rect\", \"x0\": 21.75, \"x1\": 22.25, \"xref\": \"x\", \"y0\": 75.7, \"y1\": 75.86, \"yref\": \"y\"}, {\"fillcolor\": \"rgba(255, 0, 0, 0.6)\", \"line\": {\"color\": \"rgb(55, 128, 191)\", \"width\": 1}, \"type\": \"rect\", \"x0\": 22.75, \"x1\": 23.25, \"xref\": \"x\", \"y0\": 75.07, \"y1\": 77.43, \"yref\": \"y\"}, {\"fillcolor\": \"rgba(255, 0, 0, 0.6)\", \"line\": {\"color\": \"rgb(55, 128, 191)\", \"width\": 1}, \"type\": \"rect\", \"x0\": 23.75, \"x1\": 24.25, \"xref\": \"x\", \"y0\": 74.24, \"y1\": 74.65, \"yref\": \"y\"}, {\"fillcolor\": \"rgba(255, 0, 0, 0.6)\", \"line\": {\"color\": \"rgb(55, 128, 191)\", \"width\": 1}, \"type\": \"rect\", \"x0\": 24.75, \"x1\": 25.25, \"xref\": \"x\", \"y0\": 73.84, \"y1\": 75.45, \"yref\": \"y\"}, {\"fillcolor\": \"rgba(255, 0, 0, 0.6)\", \"line\": {\"color\": \"rgb(55, 128, 191)\", \"width\": 1}, \"type\": \"rect\", \"x0\": 25.75, \"x1\": 26.25, \"xref\": \"x\", \"y0\": 74.09, \"y1\": 75.95, \"yref\": \"y\"}, {\"fillcolor\": \"rgba(0, 204, 0, 0.6)\", \"line\": {\"color\": \"rgb(55, 128, 191)\", \"width\": 1}, \"type\": \"rect\", \"x0\": 26.75, \"x1\": 27.25, \"xref\": \"x\", \"y0\": 72.82, \"y1\": 74.05, \"yref\": \"y\"}, {\"fillcolor\": \"rgba(255, 0, 0, 0.6)\", \"line\": {\"color\": \"rgb(55, 128, 191)\", \"width\": 1}, \"type\": \"rect\", \"x0\": 27.75, \"x1\": 28.25, \"xref\": \"x\", \"y0\": 75.26, \"y1\": 75.72, \"yref\": \"y\"}, {\"fillcolor\": \"rgba(255, 0, 0, 0.6)\", \"line\": {\"color\": \"rgb(55, 128, 191)\", \"width\": 1}, \"type\": \"rect\", \"x0\": 28.75, \"x1\": 29.25, \"xref\": \"x\", \"y0\": 74.91, \"y1\": 75.88, \"yref\": \"y\"}, {\"fillcolor\": \"rgba(0, 204, 0, 0.6)\", \"line\": {\"color\": \"rgb(55, 128, 191)\", \"width\": 1}, \"type\": \"rect\", \"x0\": 29.75, \"x1\": 30.25, \"xref\": \"x\", \"y0\": 73.23, \"y1\": 74.57, \"yref\": \"y\"}, {\"fillcolor\": \"rgba(0, 204, 0, 0.6)\", \"line\": {\"color\": \"rgb(55, 128, 191)\", \"width\": 1}, \"type\": \"rect\", \"x0\": 30.75, \"x1\": 31.25, \"xref\": \"x\", \"y0\": 72.55, \"y1\": 73.47, \"yref\": \"y\"}, {\"fillcolor\": \"rgba(255, 0, 0, 0.6)\", \"line\": {\"color\": \"rgb(55, 128, 191)\", \"width\": 1}, \"type\": \"rect\", \"x0\": 31.75, \"x1\": 32.25, \"xref\": \"x\", \"y0\": 73.34, \"y1\": 73.38, \"yref\": \"y\"}, {\"fillcolor\": \"rgba(0, 204, 0, 0.6)\", \"line\": {\"color\": \"rgb(55, 128, 191)\", \"width\": 1}, \"type\": \"rect\", \"x0\": 32.75, \"x1\": 33.25, \"xref\": \"x\", \"y0\": 71.93, \"y1\": 73.41, \"yref\": \"y\"}, {\"fillcolor\": \"rgba(0, 204, 0, 0.6)\", \"line\": {\"color\": \"rgb(55, 128, 191)\", \"width\": 1}, \"type\": \"rect\", \"x0\": 33.75, \"x1\": 34.25, \"xref\": \"x\", \"y0\": 71.78, \"y1\": 73.74, \"yref\": \"y\"}, {\"fillcolor\": \"rgba(0, 204, 0, 0.6)\", \"line\": {\"color\": \"rgb(55, 128, 191)\", \"width\": 1}, \"type\": \"rect\", \"x0\": 34.75, \"x1\": 35.25, \"xref\": \"x\", \"y0\": 71.31, \"y1\": 74.25, \"yref\": \"y\"}, {\"fillcolor\": \"rgba(255, 0, 0, 0.6)\", \"line\": {\"color\": \"rgb(55, 128, 191)\", \"width\": 1}, \"type\": \"rect\", \"x0\": 35.75, \"x1\": 36.25, \"xref\": \"x\", \"y0\": 74.79, \"y1\": 74.8, \"yref\": \"y\"}, {\"fillcolor\": \"rgba(255, 0, 0, 0.6)\", \"line\": {\"color\": \"rgb(55, 128, 191)\", \"width\": 1}, \"type\": \"rect\", \"x0\": 36.75, \"x1\": 37.25, \"xref\": \"x\", \"y0\": 75.21, \"y1\": 75.91, \"yref\": \"y\"}, {\"fillcolor\": \"rgba(0, 204, 0, 0.6)\", \"line\": {\"color\": \"rgb(55, 128, 191)\", \"width\": 1}, \"type\": \"rect\", \"x0\": 37.75, \"x1\": 38.25, \"xref\": \"x\", \"y0\": 75.26, \"y1\": 75.54, \"yref\": \"y\"}, {\"fillcolor\": \"rgba(255, 0, 0, 0.6)\", \"line\": {\"color\": \"rgb(55, 128, 191)\", \"width\": 1}, \"type\": \"rect\", \"x0\": 38.75, \"x1\": 39.25, \"xref\": \"x\", \"y0\": 75.77, \"y1\": 77.77, \"yref\": \"y\"}, {\"fillcolor\": \"rgba(255, 0, 0, 0.6)\", \"line\": {\"color\": \"rgb(55, 128, 191)\", \"width\": 1}, \"type\": \"rect\", \"x0\": 39.75, \"x1\": 40.25, \"xref\": \"x\", \"y0\": 76.2, \"y1\": 76.55, \"yref\": \"y\"}, {\"fillcolor\": \"rgba(255, 0, 0, 0.6)\", \"line\": {\"color\": \"rgb(55, 128, 191)\", \"width\": 1}, \"type\": \"rect\", \"x0\": 40.75, \"x1\": 41.25, \"xref\": \"x\", \"y0\": 76.16, \"y1\": 77.08, \"yref\": \"y\"}, {\"fillcolor\": \"rgba(255, 0, 0, 0.6)\", \"line\": {\"color\": \"rgb(55, 128, 191)\", \"width\": 1}, \"type\": \"rect\", \"x0\": 41.75, \"x1\": 42.25, \"xref\": \"x\", \"y0\": 76.51, \"y1\": 78.19, \"yref\": \"y\"}, {\"fillcolor\": \"rgba(0, 204, 0, 0.6)\", \"line\": {\"color\": \"rgb(55, 128, 191)\", \"width\": 1}, \"type\": \"rect\", \"x0\": 42.75, \"x1\": 43.25, \"xref\": \"x\", \"y0\": 74.5, \"y1\": 75.37, \"yref\": \"y\"}, {\"fillcolor\": \"rgba(255, 0, 0, 0.6)\", \"line\": {\"color\": \"rgb(55, 128, 191)\", \"width\": 1}, \"type\": \"rect\", \"x0\": 43.75, \"x1\": 44.25, \"xref\": \"x\", \"y0\": 75.99, \"y1\": 76.66, \"yref\": \"y\"}, {\"fillcolor\": \"rgba(0, 204, 0, 0.6)\", \"line\": {\"color\": \"rgb(55, 128, 191)\", \"width\": 1}, \"type\": \"rect\", \"x0\": 44.75, \"x1\": 45.25, \"xref\": \"x\", \"y0\": 73.57, \"y1\": 76.06, \"yref\": \"y\"}, {\"fillcolor\": \"rgba(255, 0, 0, 0.6)\", \"line\": {\"color\": \"rgb(55, 128, 191)\", \"width\": 1}, \"type\": \"rect\", \"x0\": 45.75, \"x1\": 46.25, \"xref\": \"x\", \"y0\": 76.72, \"y1\": 76.76, \"yref\": \"y\"}, {\"fillcolor\": \"rgba(0, 204, 0, 0.6)\", \"line\": {\"color\": \"rgb(55, 128, 191)\", \"width\": 1}, \"type\": \"rect\", \"x0\": 46.75, \"x1\": 47.25, \"xref\": \"x\", \"y0\": 76.75, \"y1\": 77.17, \"yref\": \"y\"}, {\"fillcolor\": \"rgba(255, 0, 0, 0.6)\", \"line\": {\"color\": \"rgb(55, 128, 191)\", \"width\": 1}, \"type\": \"rect\", \"x0\": 47.75, \"x1\": 48.25, \"xref\": \"x\", \"y0\": 76.52, \"y1\": 77.81, \"yref\": \"y\"}, {\"fillcolor\": \"rgba(255, 0, 0, 0.6)\", \"line\": {\"color\": \"rgb(55, 128, 191)\", \"width\": 1}, \"type\": \"rect\", \"x0\": 48.75, \"x1\": 49.25, \"xref\": \"x\", \"y0\": 75.99, \"y1\": 76.12, \"yref\": \"y\"}, {\"fillcolor\": \"rgba(0, 204, 0, 0.6)\", \"line\": {\"color\": \"rgb(55, 128, 191)\", \"width\": 1}, \"type\": \"rect\", \"x0\": 49.75, \"x1\": 50.25, \"xref\": \"x\", \"y0\": 74.55, \"y1\": 74.56, \"yref\": \"y\"}, {\"line\": {\"color\": \"rgb(55, 128, 191)\", \"width\": 1.5}, \"type\": \"line\", \"x0\": 1, \"x1\": 1, \"y0\": 80.41, \"y1\": 81.52}, {\"line\": {\"color\": \"rgb(55, 128, 191)\", \"width\": 1.5}, \"type\": \"line\", \"x0\": 2, \"x1\": 2, \"y0\": 82.96, \"y1\": 84.08}, {\"line\": {\"color\": \"rgb(55, 128, 191)\", \"width\": 1.5}, \"type\": \"line\", \"x0\": 3, \"x1\": 3, \"y0\": 80.09, \"y1\": 81.2}, {\"line\": {\"color\": \"rgb(55, 128, 191)\", \"width\": 1.5}, \"type\": \"line\", \"x0\": 4, \"x1\": 4, \"y0\": 81.17, \"y1\": 82.28}, {\"line\": {\"color\": \"rgb(55, 128, 191)\", \"width\": 1.5}, \"type\": \"line\", \"x0\": 5, \"x1\": 5, \"y0\": 78.75, \"y1\": 79.86}, {\"line\": {\"color\": \"rgb(55, 128, 191)\", \"width\": 1.5}, \"type\": \"line\", \"x0\": 6, \"x1\": 6, \"y0\": 77.98, \"y1\": 79.08}, {\"line\": {\"color\": \"rgb(55, 128, 191)\", \"width\": 1.5}, \"type\": \"line\", \"x0\": 7, \"x1\": 7, \"y0\": 78.08, \"y1\": 79.19}, {\"line\": {\"color\": \"rgb(55, 128, 191)\", \"width\": 1.5}, \"type\": \"line\", \"x0\": 8, \"x1\": 8, \"y0\": 78.36, \"y1\": 79.46}, {\"line\": {\"color\": \"rgb(55, 128, 191)\", \"width\": 1.5}, \"type\": \"line\", \"x0\": 9, \"x1\": 9, \"y0\": 77.48, \"y1\": 78.59}, {\"line\": {\"color\": \"rgb(55, 128, 191)\", \"width\": 1.5}, \"type\": \"line\", \"x0\": 10, \"x1\": 10, \"y0\": 77.57, \"y1\": 78.63}, {\"line\": {\"color\": \"rgb(55, 128, 191)\", \"width\": 1.5}, \"type\": \"line\", \"x0\": 11, \"x1\": 11, \"y0\": 78.22, \"y1\": 79.31}, {\"line\": {\"color\": \"rgb(55, 128, 191)\", \"width\": 1.5}, \"type\": \"line\", \"x0\": 12, \"x1\": 12, \"y0\": 78.69, \"y1\": 79.82}, {\"line\": {\"color\": \"rgb(55, 128, 191)\", \"width\": 1.5}, \"type\": \"line\", \"x0\": 13, \"x1\": 13, \"y0\": 78.65, \"y1\": 79.75}, {\"line\": {\"color\": \"rgb(55, 128, 191)\", \"width\": 1.5}, \"type\": \"line\", \"x0\": 14, \"x1\": 14, \"y0\": 78.69, \"y1\": 79.82}, {\"line\": {\"color\": \"rgb(55, 128, 191)\", \"width\": 1.5}, \"type\": \"line\", \"x0\": 15, \"x1\": 15, \"y0\": 79.44, \"y1\": 80.56}, {\"line\": {\"color\": \"rgb(55, 128, 191)\", \"width\": 1.5}, \"type\": \"line\", \"x0\": 16, \"x1\": 16, \"y0\": 78.38, \"y1\": 79.47}, {\"line\": {\"color\": \"rgb(55, 128, 191)\", \"width\": 1.5}, \"type\": \"line\", \"x0\": 17, \"x1\": 17, \"y0\": 79.78, \"y1\": 80.89}, {\"line\": {\"color\": \"rgb(55, 128, 191)\", \"width\": 1.5}, \"type\": \"line\", \"x0\": 18, \"x1\": 18, \"y0\": 75.94, \"y1\": 77.02}, {\"line\": {\"color\": \"rgb(55, 128, 191)\", \"width\": 1.5}, \"type\": \"line\", \"x0\": 19, \"x1\": 19, \"y0\": 76.58, \"y1\": 77.69}, {\"line\": {\"color\": \"rgb(55, 128, 191)\", \"width\": 1.5}, \"type\": \"line\", \"x0\": 20, \"x1\": 20, \"y0\": 76.5, \"y1\": 77.61}, {\"line\": {\"color\": \"rgb(55, 128, 191)\", \"width\": 1.5}, \"type\": \"line\", \"x0\": 21, \"x1\": 21, \"y0\": 76.26, \"y1\": 77.38}, {\"line\": {\"color\": \"rgb(55, 128, 191)\", \"width\": 1.5}, \"type\": \"line\", \"x0\": 22, \"x1\": 22, \"y0\": 75.86, \"y1\": 76.96}, {\"line\": {\"color\": \"rgb(55, 128, 191)\", \"width\": 1.5}, \"type\": \"line\", \"x0\": 23, \"x1\": 23, \"y0\": 77.43, \"y1\": 78.54}, {\"line\": {\"color\": \"rgb(55, 128, 191)\", \"width\": 1.5}, \"type\": \"line\", \"x0\": 24, \"x1\": 24, \"y0\": 74.65, \"y1\": 75.77}, {\"line\": {\"color\": \"rgb(55, 128, 191)\", \"width\": 1.5}, \"type\": \"line\", \"x0\": 25, \"x1\": 25, \"y0\": 75.45, \"y1\": 76.56}, {\"line\": {\"color\": \"rgb(55, 128, 191)\", \"width\": 1.5}, \"type\": \"line\", \"x0\": 26, \"x1\": 26, \"y0\": 75.95, \"y1\": 77.06}, {\"line\": {\"color\": \"rgb(55, 128, 191)\", \"width\": 1.5}, \"type\": \"line\", \"x0\": 27, \"x1\": 27, \"y0\": 74.05, \"y1\": 75.17}, {\"line\": {\"color\": \"rgb(55, 128, 191)\", \"width\": 1.5}, \"type\": \"line\", \"x0\": 28, \"x1\": 28, \"y0\": 75.72, \"y1\": 76.82}, {\"line\": {\"color\": \"rgb(55, 128, 191)\", \"width\": 1.5}, \"type\": \"line\", \"x0\": 29, \"x1\": 29, \"y0\": 75.88, \"y1\": 77.0}, {\"line\": {\"color\": \"rgb(55, 128, 191)\", \"width\": 1.5}, \"type\": \"line\", \"x0\": 30, \"x1\": 30, \"y0\": 74.57, \"y1\": 75.68}, {\"line\": {\"color\": \"rgb(55, 128, 191)\", \"width\": 1.5}, \"type\": \"line\", \"x0\": 31, \"x1\": 31, \"y0\": 73.47, \"y1\": 74.58}, {\"line\": {\"color\": \"rgb(55, 128, 191)\", \"width\": 1.5}, \"type\": \"line\", \"x0\": 32, \"x1\": 32, \"y0\": 73.38, \"y1\": 74.49}, {\"line\": {\"color\": \"rgb(55, 128, 191)\", \"width\": 1.5}, \"type\": \"line\", \"x0\": 33, \"x1\": 33, \"y0\": 73.41, \"y1\": 74.51}, {\"line\": {\"color\": \"rgb(55, 128, 191)\", \"width\": 1.5}, \"type\": \"line\", \"x0\": 34, \"x1\": 34, \"y0\": 73.74, \"y1\": 74.84}, {\"line\": {\"color\": \"rgb(55, 128, 191)\", \"width\": 1.5}, \"type\": \"line\", \"x0\": 35, \"x1\": 35, \"y0\": 74.25, \"y1\": 75.33}, {\"line\": {\"color\": \"rgb(55, 128, 191)\", \"width\": 1.5}, \"type\": \"line\", \"x0\": 36, \"x1\": 36, \"y0\": 74.8, \"y1\": 75.91}, {\"line\": {\"color\": \"rgb(55, 128, 191)\", \"width\": 1.5}, \"type\": \"line\", \"x0\": 37, \"x1\": 37, \"y0\": 75.91, \"y1\": 77.01}, {\"line\": {\"color\": \"rgb(55, 128, 191)\", \"width\": 1.5}, \"type\": \"line\", \"x0\": 38, \"x1\": 38, \"y0\": 75.54, \"y1\": 76.65}, {\"line\": {\"color\": \"rgb(55, 128, 191)\", \"width\": 1.5}, \"type\": \"line\", \"x0\": 39, \"x1\": 39, \"y0\": 77.77, \"y1\": 78.86}, {\"line\": {\"color\": \"rgb(55, 128, 191)\", \"width\": 1.5}, \"type\": \"line\", \"x0\": 40, \"x1\": 40, \"y0\": 76.55, \"y1\": 77.64}, {\"line\": {\"color\": \"rgb(55, 128, 191)\", \"width\": 1.5}, \"type\": \"line\", \"x0\": 41, \"x1\": 41, \"y0\": 77.08, \"y1\": 78.17}, {\"line\": {\"color\": \"rgb(55, 128, 191)\", \"width\": 1.5}, \"type\": \"line\", \"x0\": 42, \"x1\": 42, \"y0\": 78.19, \"y1\": 79.3}, {\"line\": {\"color\": \"rgb(55, 128, 191)\", \"width\": 1.5}, \"type\": \"line\", \"x0\": 43, \"x1\": 43, \"y0\": 75.37, \"y1\": 76.5}, {\"line\": {\"color\": \"rgb(55, 128, 191)\", \"width\": 1.5}, \"type\": \"line\", \"x0\": 44, \"x1\": 44, \"y0\": 76.66, \"y1\": 77.77}, {\"line\": {\"color\": \"rgb(55, 128, 191)\", \"width\": 1.5}, \"type\": \"line\", \"x0\": 45, \"x1\": 45, \"y0\": 76.06, \"y1\": 77.18}, {\"line\": {\"color\": \"rgb(55, 128, 191)\", \"width\": 1.5}, \"type\": \"line\", \"x0\": 46, \"x1\": 46, \"y0\": 76.76, \"y1\": 77.86}, {\"line\": {\"color\": \"rgb(55, 128, 191)\", \"width\": 1.5}, \"type\": \"line\", \"x0\": 47, \"x1\": 47, \"y0\": 77.17, \"y1\": 78.29}, {\"line\": {\"color\": \"rgb(55, 128, 191)\", \"width\": 1.5}, \"type\": \"line\", \"x0\": 48, \"x1\": 48, \"y0\": 77.81, \"y1\": 78.91}, {\"line\": {\"color\": \"rgb(55, 128, 191)\", \"width\": 1.5}, \"type\": \"line\", \"x0\": 49, \"x1\": 49, \"y0\": 76.12, \"y1\": 77.22}, {\"line\": {\"color\": \"rgb(55, 128, 191)\", \"width\": 1.5}, \"type\": \"line\", \"x0\": 50, \"x1\": 50, \"y0\": 74.56, \"y1\": 75.68}], \"showlegend\": false, \"title\": \"Random Walk\", \"xaxis\": {\"anchor\": \"y2\", \"showgrid\": true, \"showticklabels\": true, \"tickangle\": 90, \"tickmode\": \"array\", \"ticktext\": [20190514, 20190516, 20190520, 20190522, 20190524, 20190528, 20190530, 20190603, 20190605, 20190607, 20190611, 20190613, 20190617, 20190619, 20190621, 20190625, 20190627, 20190701, 20190703, 20190705, 20190709, 20190711, 20190715, 20190717, 20190719, 20190722], \"tickvals\": [1, 3, 5, 7, 9, 11, 13, 15, 17, 19, 21, 23, 25, 27, 29, 31, 33, 35, 37, 39, 41, 43, 45, 47, 49, 50]}, \"yaxis\": {\"domain\": [0.22, 1], \"range\": [70.22, 84.08]}, \"yaxis2\": {\"domain\": [0, 0.2], \"range\": [0, 1794732.0]}}, {\"showLink\": true, \"linkText\": \"Export to plot.ly\"})});</script>"
      ],
      "text/vnd.plotly.v1+html": [
       "<div id=\"076ffb00-6724-455c-9105-544ed1bd5e91\" style=\"height: 525px; width: 100%;\" class=\"plotly-graph-div\"></div><script type=\"text/javascript\">require([\"plotly\"], function(Plotly) { window.PLOTLYENV=window.PLOTLYENV || {};window.PLOTLYENV.BASE_URL=\"https://plot.ly\";Plotly.newPlot(\"076ffb00-6724-455c-9105-544ed1bd5e91\", [{\"hoverinfo\": \"text\", \"mode\": \"markers\", \"text\": [\"date: 20190514.0<br>open: 78.32<br>high: 81.52<br>low: 77.22<br>close: 80.41<br>volume: 1537074.0\", \"date: 20190515.0<br>open: 82.96<br>high: 84.08<br>low: 79.31<br>close: 80.4<br>volume: 1596596.0\", \"date: 20190516.0<br>open: 77.13<br>high: 81.2<br>low: 76.04<br>close: 80.09<br>volume: 1655362.0\", \"date: 20190517.0<br>open: 81.17<br>high: 82.28<br>low: 78.3<br>close: 79.43<br>volume: 1645488.0\", \"date: 20190520.0<br>open: 77.75<br>high: 79.86<br>low: 76.66<br>close: 78.75<br>volume: 1772376.0\", \"date: 20190521.0<br>open: 76.68<br>high: 79.08<br>low: 75.57<br>close: 77.98<br>volume: 1737117.0\", \"date: 20190522.0<br>open: 78.08<br>high: 79.19<br>low: 76.86<br>close: 77.98<br>volume: 1782203.0\", \"date: 20190523.0<br>open: 78.36<br>high: 79.46<br>low: 76.92<br>close: 78.03<br>volume: 1761971.0\", \"date: 20190524.0<br>open: 77.48<br>high: 78.59<br>low: 76.2<br>close: 77.3<br>volume: 1723128.0\", \"date: 20190527.0<br>open: 77.48<br>high: 78.63<br>low: 76.37<br>close: 77.57<br>volume: 1753630.0\", \"date: 20190528.0<br>open: 77.28<br>high: 79.31<br>low: 76.2<br>close: 78.22<br>volume: 1794732.0\", \"date: 20190529.0<br>open: 78.69<br>high: 79.82<br>low: 76.55<br>close: 77.66<br>volume: 1766008.0\", \"date: 20190530.0<br>open: 78.53<br>high: 79.75<br>low: 77.44<br>close: 78.65<br>volume: 1706375.0\", \"date: 20190531.0<br>open: 78.69<br>high: 79.82<br>low: 76.85<br>close: 77.94<br>volume: 1708568.0\", \"date: 20190603.0<br>open: 79.44<br>high: 80.56<br>low: 76.64<br>close: 77.74<br>volume: 1600341.0\", \"date: 20190604.0<br>open: 78.38<br>high: 79.47<br>low: 76.17<br>close: 77.25<br>volume: 1581432.0\", \"date: 20190605.0<br>open: 79.78<br>high: 80.89<br>low: 76.32<br>close: 77.43<br>volume: 1561330.0\", \"date: 20190606.0<br>open: 73.44<br>high: 77.02<br>low: 72.34<br>close: 75.94<br>volume: 1457293.0\", \"date: 20190607.0<br>open: 76.39<br>high: 77.69<br>low: 75.28<br>close: 76.58<br>volume: 1444542.0\", \"date: 20190610.0<br>open: 76.09<br>high: 77.61<br>low: 74.98<br>close: 76.5<br>volume: 1444719.0\", \"date: 20190611.0<br>open: 75.83<br>high: 77.38<br>low: 74.72<br>close: 76.26<br>volume: 1521363.0\", \"date: 20190612.0<br>open: 75.86<br>high: 76.96<br>low: 74.61<br>close: 75.7<br>volume: 1553205.0\", \"date: 20190613.0<br>open: 77.43<br>high: 78.54<br>low: 73.97<br>close: 75.07<br>volume: 1506117.0\", \"date: 20190614.0<br>open: 74.65<br>high: 75.77<br>low: 73.14<br>close: 74.24<br>volume: 1482352.0\", \"date: 20190617.0<br>open: 75.45<br>high: 76.56<br>low: 72.74<br>close: 73.84<br>volume: 1383236.0\", \"date: 20190618.0<br>open: 75.95<br>high: 77.06<br>low: 73.0<br>close: 74.09<br>volume: 1378581.0\", \"date: 20190619.0<br>open: 72.82<br>high: 75.17<br>low: 71.71<br>close: 74.05<br>volume: 1382361.0\", \"date: 20190620.0<br>open: 75.72<br>high: 76.82<br>low: 74.17<br>close: 75.26<br>volume: 1366770.0\", \"date: 20190621.0<br>open: 75.88<br>high: 77.0<br>low: 73.8<br>close: 74.91<br>volume: 1330874.0\", \"date: 20190624.0<br>open: 73.23<br>high: 75.68<br>low: 72.13<br>close: 74.57<br>volume: 1335705.0\", \"date: 20190625.0<br>open: 72.55<br>high: 74.58<br>low: 71.47<br>close: 73.47<br>volume: 1235113.0\", \"date: 20190626.0<br>open: 73.38<br>high: 74.49<br>low: 72.24<br>close: 73.34<br>volume: 1246769.0\", \"date: 20190627.0<br>open: 71.93<br>high: 74.51<br>low: 70.82<br>close: 73.41<br>volume: 1229397.0\", \"date: 20190628.0<br>open: 71.78<br>high: 74.84<br>low: 70.67<br>close: 73.74<br>volume: 1251386.0\", \"date: 20190701.0<br>open: 71.31<br>high: 75.33<br>low: 70.22<br>close: 74.25<br>volume: 1260542.0\", \"date: 20190702.0<br>open: 74.8<br>high: 75.91<br>low: 73.68<br>close: 74.79<br>volume: 1282203.0\", \"date: 20190703.0<br>open: 75.91<br>high: 77.01<br>low: 74.13<br>close: 75.21<br>volume: 1233658.0\", \"date: 20190704.0<br>open: 75.26<br>high: 76.65<br>low: 74.12<br>close: 75.54<br>volume: 1210297.0\", \"date: 20190705.0<br>open: 77.77<br>high: 78.86<br>low: 74.65<br>close: 75.77<br>volume: 1263261.0\", \"date: 20190708.0<br>open: 76.55<br>high: 77.64<br>low: 75.07<br>close: 76.2<br>volume: 1327812.0\", \"date: 20190709.0<br>open: 77.08<br>high: 78.17<br>low: 75.06<br>close: 76.16<br>volume: 1305152.0\", \"date: 20190710.0<br>open: 78.19<br>high: 79.3<br>low: 75.41<br>close: 76.51<br>volume: 1334601.0\", \"date: 20190711.0<br>open: 74.5<br>high: 76.5<br>low: 73.39<br>close: 75.37<br>volume: 1324815.0\", \"date: 20190712.0<br>open: 76.66<br>high: 77.77<br>low: 74.91<br>close: 75.99<br>volume: 1299490.0\", \"date: 20190715.0<br>open: 73.57<br>high: 77.18<br>low: 72.45<br>close: 76.06<br>volume: 1304942.0\", \"date: 20190716.0<br>open: 76.76<br>high: 77.86<br>low: 75.61<br>close: 76.72<br>volume: 1354948.0\", \"date: 20190717.0<br>open: 76.75<br>high: 78.29<br>low: 75.64<br>close: 77.17<br>volume: 1348077.0\", \"date: 20190718.0<br>open: 77.81<br>high: 78.91<br>low: 75.41<br>close: 76.52<br>volume: 1346183.0\", \"date: 20190719.0<br>open: 76.12<br>high: 77.22<br>low: 74.9<br>close: 75.99<br>volume: 1342862.0\", \"date: 20190722.0<br>open: 74.55<br>high: 75.68<br>low: 73.47<br>close: 74.56<br>volume: 1342618.0\"], \"x\": [1, 2, 3, 4, 5, 6, 7, 8, 9, 10, 11, 12, 13, 14, 15, 16, 17, 18, 19, 20, 21, 22, 23, 24, 25, 26, 27, 28, 29, 30, 31, 32, 33, 34, 35, 36, 37, 38, 39, 40, 41, 42, 43, 44, 45, 46, 47, 48, 49, 50], \"xaxis\": \"x\", \"y\": [80.41, 80.4, 80.09, 79.43, 78.75, 77.98, 77.98, 78.03, 77.3, 77.57, 78.22, 77.66, 78.65, 77.94, 77.74, 77.25, 77.43, 75.94, 76.58, 76.5, 76.26, 75.7, 75.07, 74.24, 73.84, 74.09, 74.05, 75.26, 74.91, 74.57, 73.47, 73.34, 73.41, 73.74, 74.25, 74.79, 75.21, 75.54, 75.77, 76.2, 76.16, 76.51, 75.37, 75.99, 76.06, 76.72, 77.17, 76.52, 75.99, 74.56], \"yaxis\": \"y\", \"type\": \"scatter\", \"uid\": \"0aaf5488-acf4-11e9-9014-8c859025e7f9\"}, {\"width\": 0.5, \"x\": [1, 2, 3, 4, 5, 6, 7, 8, 9, 10, 11, 12, 13, 14, 15, 16, 17, 18, 19, 20, 21, 22, 23, 24, 25, 26, 27, 28, 29, 30, 31, 32, 33, 34, 35, 36, 37, 38, 39, 40, 41, 42, 43, 44, 45, 46, 47, 48, 49, 50], \"xaxis\": \"x\", \"y\": [1537074.0, 1596596.0, 1655362.0, 1645488.0, 1772376.0, 1737117.0, 1782203.0, 1761971.0, 1723128.0, 1753630.0, 1794732.0, 1766008.0, 1706375.0, 1708568.0, 1600341.0, 1581432.0, 1561330.0, 1457293.0, 1444542.0, 1444719.0, 1521363.0, 1553205.0, 1506117.0, 1482352.0, 1383236.0, 1378581.0, 1382361.0, 1366770.0, 1330874.0, 1335705.0, 1235113.0, 1246769.0, 1229397.0, 1251386.0, 1260542.0, 1282203.0, 1233658.0, 1210297.0, 1263261.0, 1327812.0, 1305152.0, 1334601.0, 1324815.0, 1299490.0, 1304942.0, 1354948.0, 1348077.0, 1346183.0, 1342862.0, 1342618.0], \"yaxis\": \"y2\", \"type\": \"bar\", \"uid\": \"0aaf55dc-acf4-11e9-b9e9-8c859025e7f9\"}], {\"margin\": {\"t\": 100}, \"shapes\": [{\"line\": {\"color\": \"rgb(55, 128, 191)\", \"width\": 1.5}, \"type\": \"line\", \"x0\": 1, \"x1\": 1, \"y0\": 77.22, \"y1\": 78.32}, {\"line\": {\"color\": \"rgb(55, 128, 191)\", \"width\": 1.5}, \"type\": \"line\", \"x0\": 2, \"x1\": 2, \"y0\": 79.31, \"y1\": 80.4}, {\"line\": {\"color\": \"rgb(55, 128, 191)\", \"width\": 1.5}, \"type\": \"line\", \"x0\": 3, \"x1\": 3, \"y0\": 76.04, \"y1\": 77.13}, {\"line\": {\"color\": \"rgb(55, 128, 191)\", \"width\": 1.5}, \"type\": \"line\", \"x0\": 4, \"x1\": 4, \"y0\": 78.3, \"y1\": 79.43}, {\"line\": {\"color\": \"rgb(55, 128, 191)\", \"width\": 1.5}, \"type\": \"line\", \"x0\": 5, \"x1\": 5, \"y0\": 76.66, \"y1\": 77.75}, {\"line\": {\"color\": \"rgb(55, 128, 191)\", \"width\": 1.5}, \"type\": \"line\", \"x0\": 6, \"x1\": 6, \"y0\": 75.57, \"y1\": 76.68}, {\"line\": {\"color\": \"rgb(55, 128, 191)\", \"width\": 1.5}, \"type\": \"line\", \"x0\": 7, \"x1\": 7, \"y0\": 76.86, \"y1\": 77.98}, {\"line\": {\"color\": \"rgb(55, 128, 191)\", \"width\": 1.5}, \"type\": \"line\", \"x0\": 8, \"x1\": 8, \"y0\": 76.92, \"y1\": 78.03}, {\"line\": {\"color\": \"rgb(55, 128, 191)\", \"width\": 1.5}, \"type\": \"line\", \"x0\": 9, \"x1\": 9, \"y0\": 76.2, \"y1\": 77.3}, {\"line\": {\"color\": \"rgb(55, 128, 191)\", \"width\": 1.5}, \"type\": \"line\", \"x0\": 10, \"x1\": 10, \"y0\": 76.37, \"y1\": 77.48}, {\"line\": {\"color\": \"rgb(55, 128, 191)\", \"width\": 1.5}, \"type\": \"line\", \"x0\": 11, \"x1\": 11, \"y0\": 76.2, \"y1\": 77.28}, {\"line\": {\"color\": \"rgb(55, 128, 191)\", \"width\": 1.5}, \"type\": \"line\", \"x0\": 12, \"x1\": 12, \"y0\": 76.55, \"y1\": 77.66}, {\"line\": {\"color\": \"rgb(55, 128, 191)\", \"width\": 1.5}, \"type\": \"line\", \"x0\": 13, \"x1\": 13, \"y0\": 77.44, \"y1\": 78.53}, {\"line\": {\"color\": \"rgb(55, 128, 191)\", \"width\": 1.5}, \"type\": \"line\", \"x0\": 14, \"x1\": 14, \"y0\": 76.85, \"y1\": 77.94}, {\"line\": {\"color\": \"rgb(55, 128, 191)\", \"width\": 1.5}, \"type\": \"line\", \"x0\": 15, \"x1\": 15, \"y0\": 76.64, \"y1\": 77.74}, {\"line\": {\"color\": \"rgb(55, 128, 191)\", \"width\": 1.5}, \"type\": \"line\", \"x0\": 16, \"x1\": 16, \"y0\": 76.17, \"y1\": 77.25}, {\"line\": {\"color\": \"rgb(55, 128, 191)\", \"width\": 1.5}, \"type\": \"line\", \"x0\": 17, \"x1\": 17, \"y0\": 76.32, \"y1\": 77.43}, {\"line\": {\"color\": \"rgb(55, 128, 191)\", \"width\": 1.5}, \"type\": \"line\", \"x0\": 18, \"x1\": 18, \"y0\": 72.34, \"y1\": 73.44}, {\"line\": {\"color\": \"rgb(55, 128, 191)\", \"width\": 1.5}, \"type\": \"line\", \"x0\": 19, \"x1\": 19, \"y0\": 75.28, \"y1\": 76.39}, {\"line\": {\"color\": \"rgb(55, 128, 191)\", \"width\": 1.5}, \"type\": \"line\", \"x0\": 20, \"x1\": 20, \"y0\": 74.98, \"y1\": 76.09}, {\"line\": {\"color\": \"rgb(55, 128, 191)\", \"width\": 1.5}, \"type\": \"line\", \"x0\": 21, \"x1\": 21, \"y0\": 74.72, \"y1\": 75.83}, {\"line\": {\"color\": \"rgb(55, 128, 191)\", \"width\": 1.5}, \"type\": \"line\", \"x0\": 22, \"x1\": 22, \"y0\": 74.61, \"y1\": 75.7}, {\"line\": {\"color\": \"rgb(55, 128, 191)\", \"width\": 1.5}, \"type\": \"line\", \"x0\": 23, \"x1\": 23, \"y0\": 73.97, \"y1\": 75.07}, {\"line\": {\"color\": \"rgb(55, 128, 191)\", \"width\": 1.5}, \"type\": \"line\", \"x0\": 24, \"x1\": 24, \"y0\": 73.14, \"y1\": 74.24}, {\"line\": {\"color\": \"rgb(55, 128, 191)\", \"width\": 1.5}, \"type\": \"line\", \"x0\": 25, \"x1\": 25, \"y0\": 72.74, \"y1\": 73.84}, {\"line\": {\"color\": \"rgb(55, 128, 191)\", \"width\": 1.5}, \"type\": \"line\", \"x0\": 26, \"x1\": 26, \"y0\": 73.0, \"y1\": 74.09}, {\"line\": {\"color\": \"rgb(55, 128, 191)\", \"width\": 1.5}, \"type\": \"line\", \"x0\": 27, \"x1\": 27, \"y0\": 71.71, \"y1\": 72.82}, {\"line\": {\"color\": \"rgb(55, 128, 191)\", \"width\": 1.5}, \"type\": \"line\", \"x0\": 28, \"x1\": 28, \"y0\": 74.17, \"y1\": 75.26}, {\"line\": {\"color\": \"rgb(55, 128, 191)\", \"width\": 1.5}, \"type\": \"line\", \"x0\": 29, \"x1\": 29, \"y0\": 73.8, \"y1\": 74.91}, {\"line\": {\"color\": \"rgb(55, 128, 191)\", \"width\": 1.5}, \"type\": \"line\", \"x0\": 30, \"x1\": 30, \"y0\": 72.13, \"y1\": 73.23}, {\"line\": {\"color\": \"rgb(55, 128, 191)\", \"width\": 1.5}, \"type\": \"line\", \"x0\": 31, \"x1\": 31, \"y0\": 71.47, \"y1\": 72.55}, {\"line\": {\"color\": \"rgb(55, 128, 191)\", \"width\": 1.5}, \"type\": \"line\", \"x0\": 32, \"x1\": 32, \"y0\": 72.24, \"y1\": 73.34}, {\"line\": {\"color\": \"rgb(55, 128, 191)\", \"width\": 1.5}, \"type\": \"line\", \"x0\": 33, \"x1\": 33, \"y0\": 70.82, \"y1\": 71.93}, {\"line\": {\"color\": \"rgb(55, 128, 191)\", \"width\": 1.5}, \"type\": \"line\", \"x0\": 34, \"x1\": 34, \"y0\": 70.67, \"y1\": 71.78}, {\"line\": {\"color\": \"rgb(55, 128, 191)\", \"width\": 1.5}, \"type\": \"line\", \"x0\": 35, \"x1\": 35, \"y0\": 70.22, \"y1\": 71.31}, {\"line\": {\"color\": \"rgb(55, 128, 191)\", \"width\": 1.5}, \"type\": \"line\", \"x0\": 36, \"x1\": 36, \"y0\": 73.68, \"y1\": 74.79}, {\"line\": {\"color\": \"rgb(55, 128, 191)\", \"width\": 1.5}, \"type\": \"line\", \"x0\": 37, \"x1\": 37, \"y0\": 74.13, \"y1\": 75.21}, {\"line\": {\"color\": \"rgb(55, 128, 191)\", \"width\": 1.5}, \"type\": \"line\", \"x0\": 38, \"x1\": 38, \"y0\": 74.12, \"y1\": 75.26}, {\"line\": {\"color\": \"rgb(55, 128, 191)\", \"width\": 1.5}, \"type\": \"line\", \"x0\": 39, \"x1\": 39, \"y0\": 74.65, \"y1\": 75.77}, {\"line\": {\"color\": \"rgb(55, 128, 191)\", \"width\": 1.5}, \"type\": \"line\", \"x0\": 40, \"x1\": 40, \"y0\": 75.07, \"y1\": 76.2}, {\"line\": {\"color\": \"rgb(55, 128, 191)\", \"width\": 1.5}, \"type\": \"line\", \"x0\": 41, \"x1\": 41, \"y0\": 75.06, \"y1\": 76.16}, {\"line\": {\"color\": \"rgb(55, 128, 191)\", \"width\": 1.5}, \"type\": \"line\", \"x0\": 42, \"x1\": 42, \"y0\": 75.41, \"y1\": 76.51}, {\"line\": {\"color\": \"rgb(55, 128, 191)\", \"width\": 1.5}, \"type\": \"line\", \"x0\": 43, \"x1\": 43, \"y0\": 73.39, \"y1\": 74.5}, {\"line\": {\"color\": \"rgb(55, 128, 191)\", \"width\": 1.5}, \"type\": \"line\", \"x0\": 44, \"x1\": 44, \"y0\": 74.91, \"y1\": 75.99}, {\"line\": {\"color\": \"rgb(55, 128, 191)\", \"width\": 1.5}, \"type\": \"line\", \"x0\": 45, \"x1\": 45, \"y0\": 72.45, \"y1\": 73.57}, {\"line\": {\"color\": \"rgb(55, 128, 191)\", \"width\": 1.5}, \"type\": \"line\", \"x0\": 46, \"x1\": 46, \"y0\": 75.61, \"y1\": 76.72}, {\"line\": {\"color\": \"rgb(55, 128, 191)\", \"width\": 1.5}, \"type\": \"line\", \"x0\": 47, \"x1\": 47, \"y0\": 75.64, \"y1\": 76.75}, {\"line\": {\"color\": \"rgb(55, 128, 191)\", \"width\": 1.5}, \"type\": \"line\", \"x0\": 48, \"x1\": 48, \"y0\": 75.41, \"y1\": 76.52}, {\"line\": {\"color\": \"rgb(55, 128, 191)\", \"width\": 1.5}, \"type\": \"line\", \"x0\": 49, \"x1\": 49, \"y0\": 74.9, \"y1\": 75.99}, {\"line\": {\"color\": \"rgb(55, 128, 191)\", \"width\": 1.5}, \"type\": \"line\", \"x0\": 50, \"x1\": 50, \"y0\": 73.47, \"y1\": 74.55}, {\"fillcolor\": \"rgba(0, 204, 0, 0.6)\", \"line\": {\"color\": \"rgb(55, 128, 191)\", \"width\": 1}, \"type\": \"rect\", \"x0\": 0.75, \"x1\": 1.25, \"xref\": \"x\", \"y0\": 78.32, \"y1\": 80.41, \"yref\": \"y\"}, {\"fillcolor\": \"rgba(255, 0, 0, 0.6)\", \"line\": {\"color\": \"rgb(55, 128, 191)\", \"width\": 1}, \"type\": \"rect\", \"x0\": 1.75, \"x1\": 2.25, \"xref\": \"x\", \"y0\": 80.4, \"y1\": 82.96, \"yref\": \"y\"}, {\"fillcolor\": \"rgba(0, 204, 0, 0.6)\", \"line\": {\"color\": \"rgb(55, 128, 191)\", \"width\": 1}, \"type\": \"rect\", \"x0\": 2.75, \"x1\": 3.25, \"xref\": \"x\", \"y0\": 77.13, \"y1\": 80.09, \"yref\": \"y\"}, {\"fillcolor\": \"rgba(255, 0, 0, 0.6)\", \"line\": {\"color\": \"rgb(55, 128, 191)\", \"width\": 1}, \"type\": \"rect\", \"x0\": 3.75, \"x1\": 4.25, \"xref\": \"x\", \"y0\": 79.43, \"y1\": 81.17, \"yref\": \"y\"}, {\"fillcolor\": \"rgba(0, 204, 0, 0.6)\", \"line\": {\"color\": \"rgb(55, 128, 191)\", \"width\": 1}, \"type\": \"rect\", \"x0\": 4.75, \"x1\": 5.25, \"xref\": \"x\", \"y0\": 77.75, \"y1\": 78.75, \"yref\": \"y\"}, {\"fillcolor\": \"rgba(0, 204, 0, 0.6)\", \"line\": {\"color\": \"rgb(55, 128, 191)\", \"width\": 1}, \"type\": \"rect\", \"x0\": 5.75, \"x1\": 6.25, \"xref\": \"x\", \"y0\": 76.68, \"y1\": 77.98, \"yref\": \"y\"}, {\"fillcolor\": \"rgba(255, 0, 0, 0.6)\", \"line\": {\"color\": \"rgb(55, 128, 191)\", \"width\": 1}, \"type\": \"rect\", \"x0\": 6.75, \"x1\": 7.25, \"xref\": \"x\", \"y0\": 77.98, \"y1\": 78.08, \"yref\": \"y\"}, {\"fillcolor\": \"rgba(255, 0, 0, 0.6)\", \"line\": {\"color\": \"rgb(55, 128, 191)\", \"width\": 1}, \"type\": \"rect\", \"x0\": 7.75, \"x1\": 8.25, \"xref\": \"x\", \"y0\": 78.03, \"y1\": 78.36, \"yref\": \"y\"}, {\"fillcolor\": \"rgba(255, 0, 0, 0.6)\", \"line\": {\"color\": \"rgb(55, 128, 191)\", \"width\": 1}, \"type\": \"rect\", \"x0\": 8.75, \"x1\": 9.25, \"xref\": \"x\", \"y0\": 77.3, \"y1\": 77.48, \"yref\": \"y\"}, {\"fillcolor\": \"rgba(0, 204, 0, 0.6)\", \"line\": {\"color\": \"rgb(55, 128, 191)\", \"width\": 1}, \"type\": \"rect\", \"x0\": 9.75, \"x1\": 10.25, \"xref\": \"x\", \"y0\": 77.48, \"y1\": 77.57, \"yref\": \"y\"}, {\"fillcolor\": \"rgba(0, 204, 0, 0.6)\", \"line\": {\"color\": \"rgb(55, 128, 191)\", \"width\": 1}, \"type\": \"rect\", \"x0\": 10.75, \"x1\": 11.25, \"xref\": \"x\", \"y0\": 77.28, \"y1\": 78.22, \"yref\": \"y\"}, {\"fillcolor\": \"rgba(255, 0, 0, 0.6)\", \"line\": {\"color\": \"rgb(55, 128, 191)\", \"width\": 1}, \"type\": \"rect\", \"x0\": 11.75, \"x1\": 12.25, \"xref\": \"x\", \"y0\": 77.66, \"y1\": 78.69, \"yref\": \"y\"}, {\"fillcolor\": \"rgba(0, 204, 0, 0.6)\", \"line\": {\"color\": \"rgb(55, 128, 191)\", \"width\": 1}, \"type\": \"rect\", \"x0\": 12.75, \"x1\": 13.25, \"xref\": \"x\", \"y0\": 78.53, \"y1\": 78.65, \"yref\": \"y\"}, {\"fillcolor\": \"rgba(255, 0, 0, 0.6)\", \"line\": {\"color\": \"rgb(55, 128, 191)\", \"width\": 1}, \"type\": \"rect\", \"x0\": 13.75, \"x1\": 14.25, \"xref\": \"x\", \"y0\": 77.94, \"y1\": 78.69, \"yref\": \"y\"}, {\"fillcolor\": \"rgba(255, 0, 0, 0.6)\", \"line\": {\"color\": \"rgb(55, 128, 191)\", \"width\": 1}, \"type\": \"rect\", \"x0\": 14.75, \"x1\": 15.25, \"xref\": \"x\", \"y0\": 77.74, \"y1\": 79.44, \"yref\": \"y\"}, {\"fillcolor\": \"rgba(255, 0, 0, 0.6)\", \"line\": {\"color\": \"rgb(55, 128, 191)\", \"width\": 1}, \"type\": \"rect\", \"x0\": 15.75, \"x1\": 16.25, \"xref\": \"x\", \"y0\": 77.25, \"y1\": 78.38, \"yref\": \"y\"}, {\"fillcolor\": \"rgba(255, 0, 0, 0.6)\", \"line\": {\"color\": \"rgb(55, 128, 191)\", \"width\": 1}, \"type\": \"rect\", \"x0\": 16.75, \"x1\": 17.25, \"xref\": \"x\", \"y0\": 77.43, \"y1\": 79.78, \"yref\": \"y\"}, {\"fillcolor\": \"rgba(0, 204, 0, 0.6)\", \"line\": {\"color\": \"rgb(55, 128, 191)\", \"width\": 1}, \"type\": \"rect\", \"x0\": 17.75, \"x1\": 18.25, \"xref\": \"x\", \"y0\": 73.44, \"y1\": 75.94, \"yref\": \"y\"}, {\"fillcolor\": \"rgba(0, 204, 0, 0.6)\", \"line\": {\"color\": \"rgb(55, 128, 191)\", \"width\": 1}, \"type\": \"rect\", \"x0\": 18.75, \"x1\": 19.25, \"xref\": \"x\", \"y0\": 76.39, \"y1\": 76.58, \"yref\": \"y\"}, {\"fillcolor\": \"rgba(0, 204, 0, 0.6)\", \"line\": {\"color\": \"rgb(55, 128, 191)\", \"width\": 1}, \"type\": \"rect\", \"x0\": 19.75, \"x1\": 20.25, \"xref\": \"x\", \"y0\": 76.09, \"y1\": 76.5, \"yref\": \"y\"}, {\"fillcolor\": \"rgba(0, 204, 0, 0.6)\", \"line\": {\"color\": \"rgb(55, 128, 191)\", \"width\": 1}, \"type\": \"rect\", \"x0\": 20.75, \"x1\": 21.25, \"xref\": \"x\", \"y0\": 75.83, \"y1\": 76.26, \"yref\": \"y\"}, {\"fillcolor\": \"rgba(255, 0, 0, 0.6)\", \"line\": {\"color\": \"rgb(55, 128, 191)\", \"width\": 1}, \"type\": \"rect\", \"x0\": 21.75, \"x1\": 22.25, \"xref\": \"x\", \"y0\": 75.7, \"y1\": 75.86, \"yref\": \"y\"}, {\"fillcolor\": \"rgba(255, 0, 0, 0.6)\", \"line\": {\"color\": \"rgb(55, 128, 191)\", \"width\": 1}, \"type\": \"rect\", \"x0\": 22.75, \"x1\": 23.25, \"xref\": \"x\", \"y0\": 75.07, \"y1\": 77.43, \"yref\": \"y\"}, {\"fillcolor\": \"rgba(255, 0, 0, 0.6)\", \"line\": {\"color\": \"rgb(55, 128, 191)\", \"width\": 1}, \"type\": \"rect\", \"x0\": 23.75, \"x1\": 24.25, \"xref\": \"x\", \"y0\": 74.24, \"y1\": 74.65, \"yref\": \"y\"}, {\"fillcolor\": \"rgba(255, 0, 0, 0.6)\", \"line\": {\"color\": \"rgb(55, 128, 191)\", \"width\": 1}, \"type\": \"rect\", \"x0\": 24.75, \"x1\": 25.25, \"xref\": \"x\", \"y0\": 73.84, \"y1\": 75.45, \"yref\": \"y\"}, {\"fillcolor\": \"rgba(255, 0, 0, 0.6)\", \"line\": {\"color\": \"rgb(55, 128, 191)\", \"width\": 1}, \"type\": \"rect\", \"x0\": 25.75, \"x1\": 26.25, \"xref\": \"x\", \"y0\": 74.09, \"y1\": 75.95, \"yref\": \"y\"}, {\"fillcolor\": \"rgba(0, 204, 0, 0.6)\", \"line\": {\"color\": \"rgb(55, 128, 191)\", \"width\": 1}, \"type\": \"rect\", \"x0\": 26.75, \"x1\": 27.25, \"xref\": \"x\", \"y0\": 72.82, \"y1\": 74.05, \"yref\": \"y\"}, {\"fillcolor\": \"rgba(255, 0, 0, 0.6)\", \"line\": {\"color\": \"rgb(55, 128, 191)\", \"width\": 1}, \"type\": \"rect\", \"x0\": 27.75, \"x1\": 28.25, \"xref\": \"x\", \"y0\": 75.26, \"y1\": 75.72, \"yref\": \"y\"}, {\"fillcolor\": \"rgba(255, 0, 0, 0.6)\", \"line\": {\"color\": \"rgb(55, 128, 191)\", \"width\": 1}, \"type\": \"rect\", \"x0\": 28.75, \"x1\": 29.25, \"xref\": \"x\", \"y0\": 74.91, \"y1\": 75.88, \"yref\": \"y\"}, {\"fillcolor\": \"rgba(0, 204, 0, 0.6)\", \"line\": {\"color\": \"rgb(55, 128, 191)\", \"width\": 1}, \"type\": \"rect\", \"x0\": 29.75, \"x1\": 30.25, \"xref\": \"x\", \"y0\": 73.23, \"y1\": 74.57, \"yref\": \"y\"}, {\"fillcolor\": \"rgba(0, 204, 0, 0.6)\", \"line\": {\"color\": \"rgb(55, 128, 191)\", \"width\": 1}, \"type\": \"rect\", \"x0\": 30.75, \"x1\": 31.25, \"xref\": \"x\", \"y0\": 72.55, \"y1\": 73.47, \"yref\": \"y\"}, {\"fillcolor\": \"rgba(255, 0, 0, 0.6)\", \"line\": {\"color\": \"rgb(55, 128, 191)\", \"width\": 1}, \"type\": \"rect\", \"x0\": 31.75, \"x1\": 32.25, \"xref\": \"x\", \"y0\": 73.34, \"y1\": 73.38, \"yref\": \"y\"}, {\"fillcolor\": \"rgba(0, 204, 0, 0.6)\", \"line\": {\"color\": \"rgb(55, 128, 191)\", \"width\": 1}, \"type\": \"rect\", \"x0\": 32.75, \"x1\": 33.25, \"xref\": \"x\", \"y0\": 71.93, \"y1\": 73.41, \"yref\": \"y\"}, {\"fillcolor\": \"rgba(0, 204, 0, 0.6)\", \"line\": {\"color\": \"rgb(55, 128, 191)\", \"width\": 1}, \"type\": \"rect\", \"x0\": 33.75, \"x1\": 34.25, \"xref\": \"x\", \"y0\": 71.78, \"y1\": 73.74, \"yref\": \"y\"}, {\"fillcolor\": \"rgba(0, 204, 0, 0.6)\", \"line\": {\"color\": \"rgb(55, 128, 191)\", \"width\": 1}, \"type\": \"rect\", \"x0\": 34.75, \"x1\": 35.25, \"xref\": \"x\", \"y0\": 71.31, \"y1\": 74.25, \"yref\": \"y\"}, {\"fillcolor\": \"rgba(255, 0, 0, 0.6)\", \"line\": {\"color\": \"rgb(55, 128, 191)\", \"width\": 1}, \"type\": \"rect\", \"x0\": 35.75, \"x1\": 36.25, \"xref\": \"x\", \"y0\": 74.79, \"y1\": 74.8, \"yref\": \"y\"}, {\"fillcolor\": \"rgba(255, 0, 0, 0.6)\", \"line\": {\"color\": \"rgb(55, 128, 191)\", \"width\": 1}, \"type\": \"rect\", \"x0\": 36.75, \"x1\": 37.25, \"xref\": \"x\", \"y0\": 75.21, \"y1\": 75.91, \"yref\": \"y\"}, {\"fillcolor\": \"rgba(0, 204, 0, 0.6)\", \"line\": {\"color\": \"rgb(55, 128, 191)\", \"width\": 1}, \"type\": \"rect\", \"x0\": 37.75, \"x1\": 38.25, \"xref\": \"x\", \"y0\": 75.26, \"y1\": 75.54, \"yref\": \"y\"}, {\"fillcolor\": \"rgba(255, 0, 0, 0.6)\", \"line\": {\"color\": \"rgb(55, 128, 191)\", \"width\": 1}, \"type\": \"rect\", \"x0\": 38.75, \"x1\": 39.25, \"xref\": \"x\", \"y0\": 75.77, \"y1\": 77.77, \"yref\": \"y\"}, {\"fillcolor\": \"rgba(255, 0, 0, 0.6)\", \"line\": {\"color\": \"rgb(55, 128, 191)\", \"width\": 1}, \"type\": \"rect\", \"x0\": 39.75, \"x1\": 40.25, \"xref\": \"x\", \"y0\": 76.2, \"y1\": 76.55, \"yref\": \"y\"}, {\"fillcolor\": \"rgba(255, 0, 0, 0.6)\", \"line\": {\"color\": \"rgb(55, 128, 191)\", \"width\": 1}, \"type\": \"rect\", \"x0\": 40.75, \"x1\": 41.25, \"xref\": \"x\", \"y0\": 76.16, \"y1\": 77.08, \"yref\": \"y\"}, {\"fillcolor\": \"rgba(255, 0, 0, 0.6)\", \"line\": {\"color\": \"rgb(55, 128, 191)\", \"width\": 1}, \"type\": \"rect\", \"x0\": 41.75, \"x1\": 42.25, \"xref\": \"x\", \"y0\": 76.51, \"y1\": 78.19, \"yref\": \"y\"}, {\"fillcolor\": \"rgba(0, 204, 0, 0.6)\", \"line\": {\"color\": \"rgb(55, 128, 191)\", \"width\": 1}, \"type\": \"rect\", \"x0\": 42.75, \"x1\": 43.25, \"xref\": \"x\", \"y0\": 74.5, \"y1\": 75.37, \"yref\": \"y\"}, {\"fillcolor\": \"rgba(255, 0, 0, 0.6)\", \"line\": {\"color\": \"rgb(55, 128, 191)\", \"width\": 1}, \"type\": \"rect\", \"x0\": 43.75, \"x1\": 44.25, \"xref\": \"x\", \"y0\": 75.99, \"y1\": 76.66, \"yref\": \"y\"}, {\"fillcolor\": \"rgba(0, 204, 0, 0.6)\", \"line\": {\"color\": \"rgb(55, 128, 191)\", \"width\": 1}, \"type\": \"rect\", \"x0\": 44.75, \"x1\": 45.25, \"xref\": \"x\", \"y0\": 73.57, \"y1\": 76.06, \"yref\": \"y\"}, {\"fillcolor\": \"rgba(255, 0, 0, 0.6)\", \"line\": {\"color\": \"rgb(55, 128, 191)\", \"width\": 1}, \"type\": \"rect\", \"x0\": 45.75, \"x1\": 46.25, \"xref\": \"x\", \"y0\": 76.72, \"y1\": 76.76, \"yref\": \"y\"}, {\"fillcolor\": \"rgba(0, 204, 0, 0.6)\", \"line\": {\"color\": \"rgb(55, 128, 191)\", \"width\": 1}, \"type\": \"rect\", \"x0\": 46.75, \"x1\": 47.25, \"xref\": \"x\", \"y0\": 76.75, \"y1\": 77.17, \"yref\": \"y\"}, {\"fillcolor\": \"rgba(255, 0, 0, 0.6)\", \"line\": {\"color\": \"rgb(55, 128, 191)\", \"width\": 1}, \"type\": \"rect\", \"x0\": 47.75, \"x1\": 48.25, \"xref\": \"x\", \"y0\": 76.52, \"y1\": 77.81, \"yref\": \"y\"}, {\"fillcolor\": \"rgba(255, 0, 0, 0.6)\", \"line\": {\"color\": \"rgb(55, 128, 191)\", \"width\": 1}, \"type\": \"rect\", \"x0\": 48.75, \"x1\": 49.25, \"xref\": \"x\", \"y0\": 75.99, \"y1\": 76.12, \"yref\": \"y\"}, {\"fillcolor\": \"rgba(0, 204, 0, 0.6)\", \"line\": {\"color\": \"rgb(55, 128, 191)\", \"width\": 1}, \"type\": \"rect\", \"x0\": 49.75, \"x1\": 50.25, \"xref\": \"x\", \"y0\": 74.55, \"y1\": 74.56, \"yref\": \"y\"}, {\"line\": {\"color\": \"rgb(55, 128, 191)\", \"width\": 1.5}, \"type\": \"line\", \"x0\": 1, \"x1\": 1, \"y0\": 80.41, \"y1\": 81.52}, {\"line\": {\"color\": \"rgb(55, 128, 191)\", \"width\": 1.5}, \"type\": \"line\", \"x0\": 2, \"x1\": 2, \"y0\": 82.96, \"y1\": 84.08}, {\"line\": {\"color\": \"rgb(55, 128, 191)\", \"width\": 1.5}, \"type\": \"line\", \"x0\": 3, \"x1\": 3, \"y0\": 80.09, \"y1\": 81.2}, {\"line\": {\"color\": \"rgb(55, 128, 191)\", \"width\": 1.5}, \"type\": \"line\", \"x0\": 4, \"x1\": 4, \"y0\": 81.17, \"y1\": 82.28}, {\"line\": {\"color\": \"rgb(55, 128, 191)\", \"width\": 1.5}, \"type\": \"line\", \"x0\": 5, \"x1\": 5, \"y0\": 78.75, \"y1\": 79.86}, {\"line\": {\"color\": \"rgb(55, 128, 191)\", \"width\": 1.5}, \"type\": \"line\", \"x0\": 6, \"x1\": 6, \"y0\": 77.98, \"y1\": 79.08}, {\"line\": {\"color\": \"rgb(55, 128, 191)\", \"width\": 1.5}, \"type\": \"line\", \"x0\": 7, \"x1\": 7, \"y0\": 78.08, \"y1\": 79.19}, {\"line\": {\"color\": \"rgb(55, 128, 191)\", \"width\": 1.5}, \"type\": \"line\", \"x0\": 8, \"x1\": 8, \"y0\": 78.36, \"y1\": 79.46}, {\"line\": {\"color\": \"rgb(55, 128, 191)\", \"width\": 1.5}, \"type\": \"line\", \"x0\": 9, \"x1\": 9, \"y0\": 77.48, \"y1\": 78.59}, {\"line\": {\"color\": \"rgb(55, 128, 191)\", \"width\": 1.5}, \"type\": \"line\", \"x0\": 10, \"x1\": 10, \"y0\": 77.57, \"y1\": 78.63}, {\"line\": {\"color\": \"rgb(55, 128, 191)\", \"width\": 1.5}, \"type\": \"line\", \"x0\": 11, \"x1\": 11, \"y0\": 78.22, \"y1\": 79.31}, {\"line\": {\"color\": \"rgb(55, 128, 191)\", \"width\": 1.5}, \"type\": \"line\", \"x0\": 12, \"x1\": 12, \"y0\": 78.69, \"y1\": 79.82}, {\"line\": {\"color\": \"rgb(55, 128, 191)\", \"width\": 1.5}, \"type\": \"line\", \"x0\": 13, \"x1\": 13, \"y0\": 78.65, \"y1\": 79.75}, {\"line\": {\"color\": \"rgb(55, 128, 191)\", \"width\": 1.5}, \"type\": \"line\", \"x0\": 14, \"x1\": 14, \"y0\": 78.69, \"y1\": 79.82}, {\"line\": {\"color\": \"rgb(55, 128, 191)\", \"width\": 1.5}, \"type\": \"line\", \"x0\": 15, \"x1\": 15, \"y0\": 79.44, \"y1\": 80.56}, {\"line\": {\"color\": \"rgb(55, 128, 191)\", \"width\": 1.5}, \"type\": \"line\", \"x0\": 16, \"x1\": 16, \"y0\": 78.38, \"y1\": 79.47}, {\"line\": {\"color\": \"rgb(55, 128, 191)\", \"width\": 1.5}, \"type\": \"line\", \"x0\": 17, \"x1\": 17, \"y0\": 79.78, \"y1\": 80.89}, {\"line\": {\"color\": \"rgb(55, 128, 191)\", \"width\": 1.5}, \"type\": \"line\", \"x0\": 18, \"x1\": 18, \"y0\": 75.94, \"y1\": 77.02}, {\"line\": {\"color\": \"rgb(55, 128, 191)\", \"width\": 1.5}, \"type\": \"line\", \"x0\": 19, \"x1\": 19, \"y0\": 76.58, \"y1\": 77.69}, {\"line\": {\"color\": \"rgb(55, 128, 191)\", \"width\": 1.5}, \"type\": \"line\", \"x0\": 20, \"x1\": 20, \"y0\": 76.5, \"y1\": 77.61}, {\"line\": {\"color\": \"rgb(55, 128, 191)\", \"width\": 1.5}, \"type\": \"line\", \"x0\": 21, \"x1\": 21, \"y0\": 76.26, \"y1\": 77.38}, {\"line\": {\"color\": \"rgb(55, 128, 191)\", \"width\": 1.5}, \"type\": \"line\", \"x0\": 22, \"x1\": 22, \"y0\": 75.86, \"y1\": 76.96}, {\"line\": {\"color\": \"rgb(55, 128, 191)\", \"width\": 1.5}, \"type\": \"line\", \"x0\": 23, \"x1\": 23, \"y0\": 77.43, \"y1\": 78.54}, {\"line\": {\"color\": \"rgb(55, 128, 191)\", \"width\": 1.5}, \"type\": \"line\", \"x0\": 24, \"x1\": 24, \"y0\": 74.65, \"y1\": 75.77}, {\"line\": {\"color\": \"rgb(55, 128, 191)\", \"width\": 1.5}, \"type\": \"line\", \"x0\": 25, \"x1\": 25, \"y0\": 75.45, \"y1\": 76.56}, {\"line\": {\"color\": \"rgb(55, 128, 191)\", \"width\": 1.5}, \"type\": \"line\", \"x0\": 26, \"x1\": 26, \"y0\": 75.95, \"y1\": 77.06}, {\"line\": {\"color\": \"rgb(55, 128, 191)\", \"width\": 1.5}, \"type\": \"line\", \"x0\": 27, \"x1\": 27, \"y0\": 74.05, \"y1\": 75.17}, {\"line\": {\"color\": \"rgb(55, 128, 191)\", \"width\": 1.5}, \"type\": \"line\", \"x0\": 28, \"x1\": 28, \"y0\": 75.72, \"y1\": 76.82}, {\"line\": {\"color\": \"rgb(55, 128, 191)\", \"width\": 1.5}, \"type\": \"line\", \"x0\": 29, \"x1\": 29, \"y0\": 75.88, \"y1\": 77.0}, {\"line\": {\"color\": \"rgb(55, 128, 191)\", \"width\": 1.5}, \"type\": \"line\", \"x0\": 30, \"x1\": 30, \"y0\": 74.57, \"y1\": 75.68}, {\"line\": {\"color\": \"rgb(55, 128, 191)\", \"width\": 1.5}, \"type\": \"line\", \"x0\": 31, \"x1\": 31, \"y0\": 73.47, \"y1\": 74.58}, {\"line\": {\"color\": \"rgb(55, 128, 191)\", \"width\": 1.5}, \"type\": \"line\", \"x0\": 32, \"x1\": 32, \"y0\": 73.38, \"y1\": 74.49}, {\"line\": {\"color\": \"rgb(55, 128, 191)\", \"width\": 1.5}, \"type\": \"line\", \"x0\": 33, \"x1\": 33, \"y0\": 73.41, \"y1\": 74.51}, {\"line\": {\"color\": \"rgb(55, 128, 191)\", \"width\": 1.5}, \"type\": \"line\", \"x0\": 34, \"x1\": 34, \"y0\": 73.74, \"y1\": 74.84}, {\"line\": {\"color\": \"rgb(55, 128, 191)\", \"width\": 1.5}, \"type\": \"line\", \"x0\": 35, \"x1\": 35, \"y0\": 74.25, \"y1\": 75.33}, {\"line\": {\"color\": \"rgb(55, 128, 191)\", \"width\": 1.5}, \"type\": \"line\", \"x0\": 36, \"x1\": 36, \"y0\": 74.8, \"y1\": 75.91}, {\"line\": {\"color\": \"rgb(55, 128, 191)\", \"width\": 1.5}, \"type\": \"line\", \"x0\": 37, \"x1\": 37, \"y0\": 75.91, \"y1\": 77.01}, {\"line\": {\"color\": \"rgb(55, 128, 191)\", \"width\": 1.5}, \"type\": \"line\", \"x0\": 38, \"x1\": 38, \"y0\": 75.54, \"y1\": 76.65}, {\"line\": {\"color\": \"rgb(55, 128, 191)\", \"width\": 1.5}, \"type\": \"line\", \"x0\": 39, \"x1\": 39, \"y0\": 77.77, \"y1\": 78.86}, {\"line\": {\"color\": \"rgb(55, 128, 191)\", \"width\": 1.5}, \"type\": \"line\", \"x0\": 40, \"x1\": 40, \"y0\": 76.55, \"y1\": 77.64}, {\"line\": {\"color\": \"rgb(55, 128, 191)\", \"width\": 1.5}, \"type\": \"line\", \"x0\": 41, \"x1\": 41, \"y0\": 77.08, \"y1\": 78.17}, {\"line\": {\"color\": \"rgb(55, 128, 191)\", \"width\": 1.5}, \"type\": \"line\", \"x0\": 42, \"x1\": 42, \"y0\": 78.19, \"y1\": 79.3}, {\"line\": {\"color\": \"rgb(55, 128, 191)\", \"width\": 1.5}, \"type\": \"line\", \"x0\": 43, \"x1\": 43, \"y0\": 75.37, \"y1\": 76.5}, {\"line\": {\"color\": \"rgb(55, 128, 191)\", \"width\": 1.5}, \"type\": \"line\", \"x0\": 44, \"x1\": 44, \"y0\": 76.66, \"y1\": 77.77}, {\"line\": {\"color\": \"rgb(55, 128, 191)\", \"width\": 1.5}, \"type\": \"line\", \"x0\": 45, \"x1\": 45, \"y0\": 76.06, \"y1\": 77.18}, {\"line\": {\"color\": \"rgb(55, 128, 191)\", \"width\": 1.5}, \"type\": \"line\", \"x0\": 46, \"x1\": 46, \"y0\": 76.76, \"y1\": 77.86}, {\"line\": {\"color\": \"rgb(55, 128, 191)\", \"width\": 1.5}, \"type\": \"line\", \"x0\": 47, \"x1\": 47, \"y0\": 77.17, \"y1\": 78.29}, {\"line\": {\"color\": \"rgb(55, 128, 191)\", \"width\": 1.5}, \"type\": \"line\", \"x0\": 48, \"x1\": 48, \"y0\": 77.81, \"y1\": 78.91}, {\"line\": {\"color\": \"rgb(55, 128, 191)\", \"width\": 1.5}, \"type\": \"line\", \"x0\": 49, \"x1\": 49, \"y0\": 76.12, \"y1\": 77.22}, {\"line\": {\"color\": \"rgb(55, 128, 191)\", \"width\": 1.5}, \"type\": \"line\", \"x0\": 50, \"x1\": 50, \"y0\": 74.56, \"y1\": 75.68}], \"showlegend\": false, \"title\": \"Random Walk\", \"xaxis\": {\"anchor\": \"y2\", \"showgrid\": true, \"showticklabels\": true, \"tickangle\": 90, \"tickmode\": \"array\", \"ticktext\": [20190514, 20190516, 20190520, 20190522, 20190524, 20190528, 20190530, 20190603, 20190605, 20190607, 20190611, 20190613, 20190617, 20190619, 20190621, 20190625, 20190627, 20190701, 20190703, 20190705, 20190709, 20190711, 20190715, 20190717, 20190719, 20190722], \"tickvals\": [1, 3, 5, 7, 9, 11, 13, 15, 17, 19, 21, 23, 25, 27, 29, 31, 33, 35, 37, 39, 41, 43, 45, 47, 49, 50]}, \"yaxis\": {\"domain\": [0.22, 1], \"range\": [70.22, 84.08]}, \"yaxis2\": {\"domain\": [0, 0.2], \"range\": [0, 1794732.0]}}, {\"showLink\": true, \"linkText\": \"Export to plot.ly\"})});</script>"
      ]
     },
     "metadata": {},
     "output_type": "display_data"
    }
   ],
   "source": [
    "fig1 = dgc.PlotlyCandles(df_pseudo.iloc[-50:],number_of_ticks_display=20,title='Random Walk')\n",
    "iplot(fig1.get_figure())"
   ]
  },
  {
   "cell_type": "code",
   "execution_count": null,
   "metadata": {},
   "outputs": [],
   "source": []
  },
  {
   "cell_type": "code",
   "execution_count": 4,
   "metadata": {},
   "outputs": [],
   "source": [
    "no_border={\n",
    "    'border': '1px solid #000',\n",
    "    'grid-gap': '10px 10px',\n",
    "}\n",
    "\n",
    "logger = dgc.li.init_root_logger('logfile.log','INFO')\n",
    "\n",
    "def dash_app_1():\n",
    "    days_to_show = 50\n",
    "    df_to_show = df_pseudo.iloc[-days_to_show:]\n",
    "    \n",
    "    dt1_comp = dgc.DashTableComponent(\n",
    "        'dt1',df_to_show,None,title='Random Walk',\n",
    "        editable_columns=['close'],logger = logger\n",
    "    )\n",
    "    def create_figure_from_df(input_list):\n",
    "        if input_list is None or len(input_list)<1 or input_list[0] is None:\n",
    "            return [None]\n",
    "        dict_df = input_list[0]\n",
    "        df = dgc.make_df(dict_df)\n",
    "        df.close = df.close.astype(str).astype(float)\n",
    "        p = dgc.PlotlyCandles(df,number_of_ticks_display=20,title='Random Walk').get_figure()\n",
    "        return p\n",
    "    \n",
    "    gr1_comp = dgc.FigureComponent('f1',dt1_comp,create_figure_from_df,logger=logger)\n",
    "\n",
    "    app = dash.Dash()\n",
    "    comp_list = [dt1_comp,gr1_comp]\n",
    "    html_list = [dgc.create_grid([c],num_columns=1) for c in comp_list]\n",
    "    app.layout = dgc.html.Div(html_list)\n",
    "    [c.callback(app) for c in comp_list]\n",
    "    return app\n"
   ]
  },
  {
   "cell_type": "code",
   "execution_count": null,
   "metadata": {
    "scrolled": true
   },
   "outputs": [
    {
     "name": "stdout",
     "output_type": "stream",
     "text": [
      "dt.columns [{'name': 'date', 'id': 'date', 'editable': False}, {'name': 'open', 'id': 'open', 'editable': False}, {'name': 'high', 'id': 'high', 'editable': False}, {'name': 'low', 'id': 'low', 'editable': False}, {'name': 'close', 'id': 'close', 'editable': True}, {'name': 'volume', 'id': 'volume', 'editable': False}]\n",
      " * Serving Flask app \"__main__\" (lazy loading)\n",
      " * Environment: production\n",
      "   WARNING: Do not use the development server in a production environment.\n",
      "   Use a production WSGI server instead.\n",
      " * Debug mode: off\n"
     ]
    },
    {
     "name": "stderr",
     "output_type": "stream",
     "text": [
      "2019-07-22 22:46:16,432 - werkzeug - INFO -  * Running on http://127.0.0.1:8500/ (Press CTRL+C to quit)\n",
      "2019-07-22 22:46:21,752 - werkzeug - INFO - 127.0.0.1 - - [22/Jul/2019 22:46:21] \"GET / HTTP/1.1\" 200 -\n",
      "2019-07-22 22:46:21,809 - werkzeug - INFO - 127.0.0.1 - - [22/Jul/2019 22:46:21] \"GET /assets/custom.css?m=1561500470.0 HTTP/1.1\" 304 -\n",
      "2019-07-22 22:46:21,813 - werkzeug - INFO - 127.0.0.1 - - [22/Jul/2019 22:46:21] \"GET /_dash-component-suites/dash_renderer/react@16.8.6.min.js?v=1.0.0&m=1563025507 HTTP/1.1\" 200 -\n",
      "2019-07-22 22:46:21,830 - werkzeug - INFO - 127.0.0.1 - - [22/Jul/2019 22:46:21] \"GET /_dash-component-suites/dash_renderer/react-dom@16.8.6.min.js?v=1.0.0&m=1563025507 HTTP/1.1\" 200 -\n",
      "2019-07-22 22:46:21,831 - werkzeug - INFO - 127.0.0.1 - - [22/Jul/2019 22:46:21] \"GET /_dash-component-suites/dash_html_components/dash_html_components.min.js?v=1.0.0&m=1563025508 HTTP/1.1\" 200 -\n",
      "2019-07-22 22:46:21,834 - werkzeug - INFO - 127.0.0.1 - - [22/Jul/2019 22:46:21] \"GET /_dash-component-suites/dash_renderer/prop-types@15.7.2.min.js?v=1.0.0&m=1563025507 HTTP/1.1\" 200 -\n",
      "2019-07-22 22:46:21,838 - werkzeug - INFO - 127.0.0.1 - - [22/Jul/2019 22:46:21] \"GET /_dash-component-suites/dash_core_components/highlight.pack.js?v=1.0.0&m=1563025508 HTTP/1.1\" 200 -\n",
      "2019-07-22 22:46:21,896 - werkzeug - INFO - 127.0.0.1 - - [22/Jul/2019 22:46:21] \"GET /_dash-component-suites/dash_renderer/dash_renderer.min.js?v=1.0.0&m=1563025507 HTTP/1.1\" 200 -\n",
      "2019-07-22 22:46:21,912 - werkzeug - INFO - 127.0.0.1 - - [22/Jul/2019 22:46:21] \"GET /_dash-component-suites/dash_core_components/dash_core_components.min.js?v=1.0.0&m=1563025508 HTTP/1.1\" 200 -\n",
      "2019-07-22 22:46:21,922 - werkzeug - INFO - 127.0.0.1 - - [22/Jul/2019 22:46:21] \"GET /_dash-component-suites/dash_table/bundle.js?v=4.0.1&m=1563025509 HTTP/1.1\" 200 -\n",
      "2019-07-22 22:46:22,041 - werkzeug - INFO - 127.0.0.1 - - [22/Jul/2019 22:46:22] \"GET /_dash-component-suites/dash_core_components/plotly-1.48.3.min.js?v=1.0.0&m=1563025508 HTTP/1.1\" 200 -\n",
      "2019-07-22 22:46:22,542 - werkzeug - INFO - 127.0.0.1 - - [22/Jul/2019 22:46:22] \"GET /_dash-dependencies HTTP/1.1\" 200 -\n",
      "2019-07-22 22:46:22,543 - werkzeug - INFO - 127.0.0.1 - - [22/Jul/2019 22:46:22] \"GET /_dash-layout HTTP/1.1\" 200 -\n",
      "2019-07-22 22:46:22,599 - root - WARNING - 'list' object has no attribute 'keys'\n",
      "2019-07-22 22:46:22,618 - flask.app - ERROR - Exception on /_dash-update-component [POST]\n",
      "Traceback (most recent call last):\n",
      "  File \"/Users/bperlman1/Virtualenvs3/dashrisk2/lib/python3.6/site-packages/flask/app.py\", line 2292, in wsgi_app\n",
      "    response = self.full_dispatch_request()\n",
      "  File \"/Users/bperlman1/Virtualenvs3/dashrisk2/lib/python3.6/site-packages/flask/app.py\", line 1815, in full_dispatch_request\n",
      "    rv = self.handle_user_exception(e)\n",
      "  File \"/Users/bperlman1/Virtualenvs3/dashrisk2/lib/python3.6/site-packages/flask/app.py\", line 1718, in handle_user_exception\n",
      "    reraise(exc_type, exc_value, tb)\n",
      "  File \"/Users/bperlman1/Virtualenvs3/dashrisk2/lib/python3.6/site-packages/flask/_compat.py\", line 35, in reraise\n",
      "    raise value\n",
      "  File \"/Users/bperlman1/Virtualenvs3/dashrisk2/lib/python3.6/site-packages/flask/app.py\", line 1813, in full_dispatch_request\n",
      "    rv = self.dispatch_request()\n",
      "  File \"/Users/bperlman1/Virtualenvs3/dashrisk2/lib/python3.6/site-packages/flask/app.py\", line 1799, in dispatch_request\n",
      "    return self.view_functions[rule.endpoint](**req.view_args)\n",
      "  File \"/Users/bperlman1/Virtualenvs3/dashrisk2/lib/python3.6/site-packages/dash/dash.py\", line 1291, in dispatch\n",
      "    response.set_data(self.callback_map[output]['callback'](*args))\n",
      "  File \"/Users/bperlman1/Virtualenvs3/dashrisk2/lib/python3.6/site-packages/dash/dash.py\", line 1175, in add_context\n",
      "    output_value = func(*args, **kwargs)\n",
      "  File \"/Users/bperlman1/Documents/billybyte/pyliverisk/dashgrid/dashgrid/dgrid_components.py\", line 587, in execute_callback\n",
      "    ret = self.callback_input_transformer(l)\n",
      "  File \"/Users/bperlman1/Documents/billybyte/pyliverisk/dashgrid/dashgrid/dgrid_components.py\", line 696, in _dt_lambda\n",
      "    raise ValueError('dt1_lambda value_list has no data.  Callback return is ignored')\n",
      "ValueError: dt1_lambda value_list has no data.  Callback return is ignored\n",
      "2019-07-22 22:46:22,798 - werkzeug - INFO - 127.0.0.1 - - [22/Jul/2019 22:46:22] \"POST /_dash-update-component HTTP/1.1\" 200 -\n",
      "2019-07-22 22:46:22,800 - werkzeug - INFO - 127.0.0.1 - - [22/Jul/2019 22:46:22] \"POST /_dash-update-component HTTP/1.1\" 500 -\n",
      "2019-07-22 22:46:39,248 - werkzeug - INFO - 127.0.0.1 - - [22/Jul/2019 22:46:39] \"POST /_dash-update-component HTTP/1.1\" 200 -\n",
      "2019-07-22 22:47:03,043 - werkzeug - INFO - 127.0.0.1 - - [22/Jul/2019 22:47:03] \"POST /_dash-update-component HTTP/1.1\" 200 -\n"
     ]
    }
   ],
   "source": [
    "DASH_APP_TO_RUN = dash_app_1\n",
    "app = DASH_APP_TO_RUN()\n",
    "app.run_server(host='127.0.0.1',port=8500)"
   ]
  },
  {
   "cell_type": "code",
   "execution_count": null,
   "metadata": {
    "scrolled": true
   },
   "outputs": [],
   "source": [
    "l = dgc.flatten_layout(app)\n",
    "for c in l:\n",
    "    print('***********************************************')\n",
    "    print(c)"
   ]
  },
  {
   "cell_type": "code",
   "execution_count": null,
   "metadata": {},
   "outputs": [],
   "source": [
    "import importlib\n",
    "importlib.reload(dgc)"
   ]
  },
  {
   "cell_type": "code",
   "execution_count": null,
   "metadata": {},
   "outputs": [],
   "source": [
    "df1 = df_save_list[0]"
   ]
  },
  {
   "cell_type": "code",
   "execution_count": null,
   "metadata": {},
   "outputs": [],
   "source": [
    "df1.to_dict('rows')"
   ]
  },
  {
   "cell_type": "code",
   "execution_count": null,
   "metadata": {},
   "outputs": [],
   "source": []
  }
 ],
 "metadata": {
  "kernelspec": {
   "display_name": "Python 3",
   "language": "python",
   "name": "python3"
  },
  "language_info": {
   "codemirror_mode": {
    "name": "ipython",
    "version": 3
   },
   "file_extension": ".py",
   "mimetype": "text/x-python",
   "name": "python",
   "nbconvert_exporter": "python",
   "pygments_lexer": "ipython3",
   "version": "3.6.5"
  }
 },
 "nbformat": 4,
 "nbformat_minor": 2
}
