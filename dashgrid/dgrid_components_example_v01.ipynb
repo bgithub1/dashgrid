{
 "cells": [
  {
   "cell_type": "code",
   "execution_count": 3,
   "metadata": {},
   "outputs": [
    {
     "data": {
      "text/html": [
       "<script>requirejs.config({paths: { 'plotly': ['https://cdn.plot.ly/plotly-latest.min']},});if(!window.Plotly) {{require(['plotly'],function(plotly) {window.Plotly=plotly;});}}</script>"
      ],
      "text/vnd.plotly.v1+html": [
       "<script>requirejs.config({paths: { 'plotly': ['https://cdn.plot.ly/plotly-latest.min']},});if(!window.Plotly) {{require(['plotly'],function(plotly) {window.Plotly=plotly;});}}</script>"
      ]
     },
     "metadata": {},
     "output_type": "display_data"
    }
   ],
   "source": [
    "from IPython.display import display\n",
    "import dash\n",
    "import sys,os\n",
    "if  not os.path.abspath('./') in sys.path:\n",
    "    sys.path.append(os.path.abspath('./'))\n",
    "if  not os.path.abspath('../') in sys.path:\n",
    "    sys.path.append(os.path.abspath('../'))\n",
    "\n",
    "import datetime\n",
    "import pandas as pd\n",
    "import numpy as np\n",
    "from dashgrid import dgrid_components as dgc\n",
    "import matplotlib.pyplot as plt\n",
    "import plotly.graph_objs as go\n",
    "from plotly.offline import  init_notebook_mode, iplot\n",
    "init_notebook_mode(connected=True)\n"
   ]
  },
  {
   "cell_type": "code",
   "execution_count": 4,
   "metadata": {},
   "outputs": [],
   "source": [
    "all_days=1000\n",
    "end_date = datetime.datetime.now()\n",
    "beg_date = end_date - datetime.timedelta(all_days)\n",
    "date_series = pd.bdate_range(beg_date,end_date)\n",
    "trade_dates = date_series.astype(str).str.replace('-','').astype(int)\n",
    "n = len(trade_dates)\n",
    "changes = np.random.lognormal(0,.15/256**.5,n-1)\n",
    "initial = np.array([100.0])\n",
    "closes = np.cumprod(np.append(initial,changes)).round(2)\n",
    "open_ranges = np.random.lognormal(0,.3/256**.5,n)\n",
    "opens = (closes * open_ranges).round(2)\n",
    "low_ranges = np.random.lognormal(.1,.2/256**.5,n)\n",
    "lows = np.array([min(x,y) for x,y in zip(opens,closes)]) - low_ranges\n",
    "lows = lows.round(2)\n",
    "high_ranges = np.random.lognormal(.1,.2/256**.5,n)\n",
    "highs = np.array([max(x,y) for x,y in zip(opens,closes)]) + high_ranges\n",
    "highs = highs.round(2)\n",
    "\n",
    "volume_changes = np.random.lognormal(0,.50/256**.5,n-1)\n",
    "initial_volume = np.array([1000000.0]) * np.random.lognormal(0,.15/256**.5)\n",
    "volumes = np.cumprod(np.append(initial_volume,volume_changes)).round(0)\n",
    "\n",
    "\n",
    "df_pseudo = dgc.make_df({'date':trade_dates,'open':opens,'high':highs,'low':lows,\n",
    "                  'close':closes,'volume':volumes})\n"
   ]
  },
  {
   "cell_type": "code",
   "execution_count": 5,
   "metadata": {},
   "outputs": [
    {
     "data": {
      "application/vnd.plotly.v1+json": {
       "data": [
        {
         "hoverinfo": "text",
         "mode": "markers",
         "text": [
          "date: 20190517.0<br>open: 101.91<br>high: 103.05<br>low: 98.0<br>close: 99.12<br>volume: 1317099.0",
          "date: 20190520.0<br>open: 98.19<br>high: 99.86<br>low: 97.09<br>close: 98.77<br>volume: 1297101.0",
          "date: 20190521.0<br>open: 98.85<br>high: 100.48<br>low: 97.77<br>close: 99.39<br>volume: 1349345.0",
          "date: 20190522.0<br>open: 98.8<br>high: 101.16<br>low: 97.7<br>close: 100.06<br>volume: 1303767.0",
          "date: 20190523.0<br>open: 96.85<br>high: 102.23<br>low: 95.74<br>close: 101.12<br>volume: 1293155.0",
          "date: 20190524.0<br>open: 99.28<br>high: 101.91<br>low: 98.17<br>close: 100.81<br>volume: 1327404.0",
          "date: 20190527.0<br>open: 102.62<br>high: 103.74<br>low: 100.4<br>close: 101.49<br>volume: 1325228.0",
          "date: 20190528.0<br>open: 96.13<br>high: 100.72<br>low: 95.0<br>close: 99.6<br>volume: 1282694.0",
          "date: 20190529.0<br>open: 101.48<br>high: 102.58<br>low: 98.92<br>close: 100.03<br>volume: 1229502.0",
          "date: 20190530.0<br>open: 101.2<br>high: 102.29<br>low: 98.67<br>close: 99.79<br>volume: 1249271.0",
          "date: 20190531.0<br>open: 96.48<br>high: 99.73<br>low: 95.37<br>close: 98.62<br>volume: 1278860.0",
          "date: 20190603.0<br>open: 103.26<br>high: 104.38<br>low: 100.76<br>close: 101.86<br>volume: 1304090.0",
          "date: 20190604.0<br>open: 102.64<br>high: 104.12<br>low: 101.53<br>close: 103.01<br>volume: 1390095.0",
          "date: 20190605.0<br>open: 104.18<br>high: 105.66<br>low: 103.09<br>close: 104.55<br>volume: 1387546.0",
          "date: 20190606.0<br>open: 103.2<br>high: 105.24<br>low: 102.1<br>close: 104.15<br>volume: 1350877.0",
          "date: 20190607.0<br>open: 104.38<br>high: 105.49<br>low: 102.78<br>close: 103.91<br>volume: 1357093.0",
          "date: 20190610.0<br>open: 104.72<br>high: 106.63<br>low: 103.61<br>close: 105.52<br>volume: 1347121.0",
          "date: 20190611.0<br>open: 104.84<br>high: 106.44<br>low: 103.76<br>close: 105.32<br>volume: 1361006.0",
          "date: 20190612.0<br>open: 105.46<br>high: 106.55<br>low: 102.17<br>close: 103.27<br>volume: 1436072.0",
          "date: 20190613.0<br>open: 102.08<br>high: 105.23<br>low: 100.98<br>close: 104.13<br>volume: 1328566.0",
          "date: 20190614.0<br>open: 105.97<br>high: 107.08<br>low: 101.62<br>close: 102.73<br>volume: 1280587.0",
          "date: 20190617.0<br>open: 102.48<br>high: 106.38<br>low: 101.37<br>close: 105.25<br>volume: 1349745.0",
          "date: 20190618.0<br>open: 102.05<br>high: 106.17<br>low: 100.96<br>close: 105.07<br>volume: 1366529.0",
          "date: 20190619.0<br>open: 104.88<br>high: 106.0<br>low: 103.64<br>close: 104.75<br>volume: 1379434.0",
          "date: 20190620.0<br>open: 103.77<br>high: 104.87<br>low: 102.55<br>close: 103.67<br>volume: 1390020.0",
          "date: 20190621.0<br>open: 100.76<br>high: 102.68<br>low: 99.68<br>close: 101.57<br>volume: 1368857.0",
          "date: 20190624.0<br>open: 104.83<br>high: 105.92<br>low: 100.73<br>close: 101.83<br>volume: 1349611.0",
          "date: 20190625.0<br>open: 104.91<br>high: 106.01<br>low: 101.06<br>close: 102.16<br>volume: 1378415.0",
          "date: 20190626.0<br>open: 104.23<br>high: 105.34<br>low: 100.78<br>close: 101.92<br>volume: 1414065.0",
          "date: 20190627.0<br>open: 99.28<br>high: 102.3<br>low: 98.16<br>close: 101.2<br>volume: 1355548.0",
          "date: 20190628.0<br>open: 102.37<br>high: 103.45<br>low: 100.91<br>close: 102.0<br>volume: 1371480.0",
          "date: 20190701.0<br>open: 101.41<br>high: 102.51<br>low: 99.72<br>close: 100.84<br>volume: 1433200.0",
          "date: 20190702.0<br>open: 99.21<br>high: 100.59<br>low: 98.1<br>close: 99.49<br>volume: 1507285.0",
          "date: 20190703.0<br>open: 99.17<br>high: 101.43<br>low: 98.07<br>close: 100.3<br>volume: 1467061.0",
          "date: 20190704.0<br>open: 100.04<br>high: 101.15<br>low: 97.57<br>close: 98.69<br>volume: 1491500.0",
          "date: 20190705.0<br>open: 98.07<br>high: 99.25<br>low: 96.97<br>close: 98.15<br>volume: 1459459.0",
          "date: 20190708.0<br>open: 100.31<br>high: 101.4<br>low: 99.07<br>close: 100.18<br>volume: 1504075.0",
          "date: 20190709.0<br>open: 103.25<br>high: 104.33<br>low: 99.54<br>close: 100.64<br>volume: 1460040.0",
          "date: 20190710.0<br>open: 98.5<br>high: 99.62<br>low: 96.94<br>close: 98.04<br>volume: 1386740.0",
          "date: 20190711.0<br>open: 96.91<br>high: 98.0<br>low: 94.34<br>close: 95.46<br>volume: 1352060.0",
          "date: 20190712.0<br>open: 95.96<br>high: 97.08<br>low: 93.27<br>close: 94.4<br>volume: 1259117.0",
          "date: 20190715.0<br>open: 94.8<br>high: 95.91<br>low: 92.65<br>close: 93.77<br>volume: 1354809.0",
          "date: 20190716.0<br>open: 93.58<br>high: 94.93<br>low: 92.48<br>close: 93.81<br>volume: 1367099.0",
          "date: 20190717.0<br>open: 95.18<br>high: 96.27<br>low: 92.31<br>close: 93.43<br>volume: 1332122.0",
          "date: 20190718.0<br>open: 94.99<br>high: 96.07<br>low: 93.01<br>close: 94.1<br>volume: 1316868.0",
          "date: 20190719.0<br>open: 94.7<br>high: 96.14<br>low: 93.61<br>close: 95.03<br>volume: 1284454.0",
          "date: 20190722.0<br>open: 92.25<br>high: 95.96<br>low: 91.15<br>close: 94.86<br>volume: 1291802.0",
          "date: 20190723.0<br>open: 92.55<br>high: 96.48<br>low: 91.47<br>close: 95.37<br>volume: 1265041.0",
          "date: 20190724.0<br>open: 93.45<br>high: 96.23<br>low: 92.34<br>close: 95.12<br>volume: 1331263.0",
          "date: 20190725.0<br>open: 91.41<br>high: 95.64<br>low: 90.31<br>close: 94.55<br>volume: 1341539.0"
         ],
         "type": "scatter",
         "uid": "d278c23a-aed5-11e9-acbd-8c859025e7f9",
         "x": [
          1,
          2,
          3,
          4,
          5,
          6,
          7,
          8,
          9,
          10,
          11,
          12,
          13,
          14,
          15,
          16,
          17,
          18,
          19,
          20,
          21,
          22,
          23,
          24,
          25,
          26,
          27,
          28,
          29,
          30,
          31,
          32,
          33,
          34,
          35,
          36,
          37,
          38,
          39,
          40,
          41,
          42,
          43,
          44,
          45,
          46,
          47,
          48,
          49,
          50
         ],
         "xaxis": "x",
         "y": [
          99.12,
          98.77,
          99.39,
          100.06,
          101.12,
          100.81,
          101.49,
          99.6,
          100.03,
          99.79,
          98.62,
          101.86,
          103.01,
          104.55,
          104.15,
          103.91,
          105.52,
          105.32,
          103.27,
          104.13,
          102.73,
          105.25,
          105.07,
          104.75,
          103.67,
          101.57,
          101.83,
          102.16,
          101.92,
          101.2,
          102,
          100.84,
          99.49,
          100.3,
          98.69,
          98.15,
          100.18,
          100.64,
          98.04,
          95.46,
          94.4,
          93.77,
          93.81,
          93.43,
          94.1,
          95.03,
          94.86,
          95.37,
          95.12,
          94.55
         ],
         "yaxis": "y"
        },
        {
         "type": "bar",
         "uid": "d27a31b4-aed5-11e9-bb1f-8c859025e7f9",
         "width": 0.5,
         "x": [
          1,
          2,
          3,
          4,
          5,
          6,
          7,
          8,
          9,
          10,
          11,
          12,
          13,
          14,
          15,
          16,
          17,
          18,
          19,
          20,
          21,
          22,
          23,
          24,
          25,
          26,
          27,
          28,
          29,
          30,
          31,
          32,
          33,
          34,
          35,
          36,
          37,
          38,
          39,
          40,
          41,
          42,
          43,
          44,
          45,
          46,
          47,
          48,
          49,
          50
         ],
         "xaxis": "x",
         "y": [
          1317099,
          1297101,
          1349345,
          1303767,
          1293155,
          1327404,
          1325228,
          1282694,
          1229502,
          1249271,
          1278860,
          1304090,
          1390095,
          1387546,
          1350877,
          1357093,
          1347121,
          1361006,
          1436072,
          1328566,
          1280587,
          1349745,
          1366529,
          1379434,
          1390020,
          1368857,
          1349611,
          1378415,
          1414065,
          1355548,
          1371480,
          1433200,
          1507285,
          1467061,
          1491500,
          1459459,
          1504075,
          1460040,
          1386740,
          1352060,
          1259117,
          1354809,
          1367099,
          1332122,
          1316868,
          1284454,
          1291802,
          1265041,
          1331263,
          1341539
         ],
         "yaxis": "y2"
        }
       ],
       "layout": {
        "margin": {
         "t": 100
        },
        "shapes": [
         {
          "line": {
           "color": "rgb(55, 128, 191)",
           "width": 1.5
          },
          "type": "line",
          "x0": 1,
          "x1": 1,
          "y0": 98,
          "y1": 99.12
         },
         {
          "line": {
           "color": "rgb(55, 128, 191)",
           "width": 1.5
          },
          "type": "line",
          "x0": 2,
          "x1": 2,
          "y0": 97.09,
          "y1": 98.19
         },
         {
          "line": {
           "color": "rgb(55, 128, 191)",
           "width": 1.5
          },
          "type": "line",
          "x0": 3,
          "x1": 3,
          "y0": 97.77,
          "y1": 98.85
         },
         {
          "line": {
           "color": "rgb(55, 128, 191)",
           "width": 1.5
          },
          "type": "line",
          "x0": 4,
          "x1": 4,
          "y0": 97.7,
          "y1": 98.8
         },
         {
          "line": {
           "color": "rgb(55, 128, 191)",
           "width": 1.5
          },
          "type": "line",
          "x0": 5,
          "x1": 5,
          "y0": 95.74,
          "y1": 96.85
         },
         {
          "line": {
           "color": "rgb(55, 128, 191)",
           "width": 1.5
          },
          "type": "line",
          "x0": 6,
          "x1": 6,
          "y0": 98.17,
          "y1": 99.28
         },
         {
          "line": {
           "color": "rgb(55, 128, 191)",
           "width": 1.5
          },
          "type": "line",
          "x0": 7,
          "x1": 7,
          "y0": 100.4,
          "y1": 101.49
         },
         {
          "line": {
           "color": "rgb(55, 128, 191)",
           "width": 1.5
          },
          "type": "line",
          "x0": 8,
          "x1": 8,
          "y0": 95,
          "y1": 96.13
         },
         {
          "line": {
           "color": "rgb(55, 128, 191)",
           "width": 1.5
          },
          "type": "line",
          "x0": 9,
          "x1": 9,
          "y0": 98.92,
          "y1": 100.03
         },
         {
          "line": {
           "color": "rgb(55, 128, 191)",
           "width": 1.5
          },
          "type": "line",
          "x0": 10,
          "x1": 10,
          "y0": 98.67,
          "y1": 99.79
         },
         {
          "line": {
           "color": "rgb(55, 128, 191)",
           "width": 1.5
          },
          "type": "line",
          "x0": 11,
          "x1": 11,
          "y0": 95.37,
          "y1": 96.48
         },
         {
          "line": {
           "color": "rgb(55, 128, 191)",
           "width": 1.5
          },
          "type": "line",
          "x0": 12,
          "x1": 12,
          "y0": 100.76,
          "y1": 101.86
         },
         {
          "line": {
           "color": "rgb(55, 128, 191)",
           "width": 1.5
          },
          "type": "line",
          "x0": 13,
          "x1": 13,
          "y0": 101.53,
          "y1": 102.64
         },
         {
          "line": {
           "color": "rgb(55, 128, 191)",
           "width": 1.5
          },
          "type": "line",
          "x0": 14,
          "x1": 14,
          "y0": 103.09,
          "y1": 104.18
         },
         {
          "line": {
           "color": "rgb(55, 128, 191)",
           "width": 1.5
          },
          "type": "line",
          "x0": 15,
          "x1": 15,
          "y0": 102.1,
          "y1": 103.2
         },
         {
          "line": {
           "color": "rgb(55, 128, 191)",
           "width": 1.5
          },
          "type": "line",
          "x0": 16,
          "x1": 16,
          "y0": 102.78,
          "y1": 103.91
         },
         {
          "line": {
           "color": "rgb(55, 128, 191)",
           "width": 1.5
          },
          "type": "line",
          "x0": 17,
          "x1": 17,
          "y0": 103.61,
          "y1": 104.72
         },
         {
          "line": {
           "color": "rgb(55, 128, 191)",
           "width": 1.5
          },
          "type": "line",
          "x0": 18,
          "x1": 18,
          "y0": 103.76,
          "y1": 104.84
         },
         {
          "line": {
           "color": "rgb(55, 128, 191)",
           "width": 1.5
          },
          "type": "line",
          "x0": 19,
          "x1": 19,
          "y0": 102.17,
          "y1": 103.27
         },
         {
          "line": {
           "color": "rgb(55, 128, 191)",
           "width": 1.5
          },
          "type": "line",
          "x0": 20,
          "x1": 20,
          "y0": 100.98,
          "y1": 102.08
         },
         {
          "line": {
           "color": "rgb(55, 128, 191)",
           "width": 1.5
          },
          "type": "line",
          "x0": 21,
          "x1": 21,
          "y0": 101.62,
          "y1": 102.73
         },
         {
          "line": {
           "color": "rgb(55, 128, 191)",
           "width": 1.5
          },
          "type": "line",
          "x0": 22,
          "x1": 22,
          "y0": 101.37,
          "y1": 102.48
         },
         {
          "line": {
           "color": "rgb(55, 128, 191)",
           "width": 1.5
          },
          "type": "line",
          "x0": 23,
          "x1": 23,
          "y0": 100.96,
          "y1": 102.05
         },
         {
          "line": {
           "color": "rgb(55, 128, 191)",
           "width": 1.5
          },
          "type": "line",
          "x0": 24,
          "x1": 24,
          "y0": 103.64,
          "y1": 104.75
         },
         {
          "line": {
           "color": "rgb(55, 128, 191)",
           "width": 1.5
          },
          "type": "line",
          "x0": 25,
          "x1": 25,
          "y0": 102.55,
          "y1": 103.67
         },
         {
          "line": {
           "color": "rgb(55, 128, 191)",
           "width": 1.5
          },
          "type": "line",
          "x0": 26,
          "x1": 26,
          "y0": 99.68,
          "y1": 100.76
         },
         {
          "line": {
           "color": "rgb(55, 128, 191)",
           "width": 1.5
          },
          "type": "line",
          "x0": 27,
          "x1": 27,
          "y0": 100.73,
          "y1": 101.83
         },
         {
          "line": {
           "color": "rgb(55, 128, 191)",
           "width": 1.5
          },
          "type": "line",
          "x0": 28,
          "x1": 28,
          "y0": 101.06,
          "y1": 102.16
         },
         {
          "line": {
           "color": "rgb(55, 128, 191)",
           "width": 1.5
          },
          "type": "line",
          "x0": 29,
          "x1": 29,
          "y0": 100.78,
          "y1": 101.92
         },
         {
          "line": {
           "color": "rgb(55, 128, 191)",
           "width": 1.5
          },
          "type": "line",
          "x0": 30,
          "x1": 30,
          "y0": 98.16,
          "y1": 99.28
         },
         {
          "line": {
           "color": "rgb(55, 128, 191)",
           "width": 1.5
          },
          "type": "line",
          "x0": 31,
          "x1": 31,
          "y0": 100.91,
          "y1": 102
         },
         {
          "line": {
           "color": "rgb(55, 128, 191)",
           "width": 1.5
          },
          "type": "line",
          "x0": 32,
          "x1": 32,
          "y0": 99.72,
          "y1": 100.84
         },
         {
          "line": {
           "color": "rgb(55, 128, 191)",
           "width": 1.5
          },
          "type": "line",
          "x0": 33,
          "x1": 33,
          "y0": 98.1,
          "y1": 99.21
         },
         {
          "line": {
           "color": "rgb(55, 128, 191)",
           "width": 1.5
          },
          "type": "line",
          "x0": 34,
          "x1": 34,
          "y0": 98.07,
          "y1": 99.17
         },
         {
          "line": {
           "color": "rgb(55, 128, 191)",
           "width": 1.5
          },
          "type": "line",
          "x0": 35,
          "x1": 35,
          "y0": 97.57,
          "y1": 98.69
         },
         {
          "line": {
           "color": "rgb(55, 128, 191)",
           "width": 1.5
          },
          "type": "line",
          "x0": 36,
          "x1": 36,
          "y0": 96.97,
          "y1": 98.07
         },
         {
          "line": {
           "color": "rgb(55, 128, 191)",
           "width": 1.5
          },
          "type": "line",
          "x0": 37,
          "x1": 37,
          "y0": 99.07,
          "y1": 100.18
         },
         {
          "line": {
           "color": "rgb(55, 128, 191)",
           "width": 1.5
          },
          "type": "line",
          "x0": 38,
          "x1": 38,
          "y0": 99.54,
          "y1": 100.64
         },
         {
          "line": {
           "color": "rgb(55, 128, 191)",
           "width": 1.5
          },
          "type": "line",
          "x0": 39,
          "x1": 39,
          "y0": 96.94,
          "y1": 98.04
         },
         {
          "line": {
           "color": "rgb(55, 128, 191)",
           "width": 1.5
          },
          "type": "line",
          "x0": 40,
          "x1": 40,
          "y0": 94.34,
          "y1": 95.46
         },
         {
          "line": {
           "color": "rgb(55, 128, 191)",
           "width": 1.5
          },
          "type": "line",
          "x0": 41,
          "x1": 41,
          "y0": 93.27,
          "y1": 94.4
         },
         {
          "line": {
           "color": "rgb(55, 128, 191)",
           "width": 1.5
          },
          "type": "line",
          "x0": 42,
          "x1": 42,
          "y0": 92.65,
          "y1": 93.77
         },
         {
          "line": {
           "color": "rgb(55, 128, 191)",
           "width": 1.5
          },
          "type": "line",
          "x0": 43,
          "x1": 43,
          "y0": 92.48,
          "y1": 93.58
         },
         {
          "line": {
           "color": "rgb(55, 128, 191)",
           "width": 1.5
          },
          "type": "line",
          "x0": 44,
          "x1": 44,
          "y0": 92.31,
          "y1": 93.43
         },
         {
          "line": {
           "color": "rgb(55, 128, 191)",
           "width": 1.5
          },
          "type": "line",
          "x0": 45,
          "x1": 45,
          "y0": 93.01,
          "y1": 94.1
         },
         {
          "line": {
           "color": "rgb(55, 128, 191)",
           "width": 1.5
          },
          "type": "line",
          "x0": 46,
          "x1": 46,
          "y0": 93.61,
          "y1": 94.7
         },
         {
          "line": {
           "color": "rgb(55, 128, 191)",
           "width": 1.5
          },
          "type": "line",
          "x0": 47,
          "x1": 47,
          "y0": 91.15,
          "y1": 92.25
         },
         {
          "line": {
           "color": "rgb(55, 128, 191)",
           "width": 1.5
          },
          "type": "line",
          "x0": 48,
          "x1": 48,
          "y0": 91.47,
          "y1": 92.55
         },
         {
          "line": {
           "color": "rgb(55, 128, 191)",
           "width": 1.5
          },
          "type": "line",
          "x0": 49,
          "x1": 49,
          "y0": 92.34,
          "y1": 93.45
         },
         {
          "line": {
           "color": "rgb(55, 128, 191)",
           "width": 1.5
          },
          "type": "line",
          "x0": 50,
          "x1": 50,
          "y0": 90.31,
          "y1": 91.41
         },
         {
          "fillcolor": "rgba(255, 0, 0, 0.6)",
          "line": {
           "color": "rgb(55, 128, 191)",
           "width": 1
          },
          "type": "rect",
          "x0": 0.75,
          "x1": 1.25,
          "xref": "x",
          "y0": 99.12,
          "y1": 101.91,
          "yref": "y"
         },
         {
          "fillcolor": "rgba(0, 204, 0, 0.6)",
          "line": {
           "color": "rgb(55, 128, 191)",
           "width": 1
          },
          "type": "rect",
          "x0": 1.75,
          "x1": 2.25,
          "xref": "x",
          "y0": 98.19,
          "y1": 98.77,
          "yref": "y"
         },
         {
          "fillcolor": "rgba(0, 204, 0, 0.6)",
          "line": {
           "color": "rgb(55, 128, 191)",
           "width": 1
          },
          "type": "rect",
          "x0": 2.75,
          "x1": 3.25,
          "xref": "x",
          "y0": 98.85,
          "y1": 99.39,
          "yref": "y"
         },
         {
          "fillcolor": "rgba(0, 204, 0, 0.6)",
          "line": {
           "color": "rgb(55, 128, 191)",
           "width": 1
          },
          "type": "rect",
          "x0": 3.75,
          "x1": 4.25,
          "xref": "x",
          "y0": 98.8,
          "y1": 100.06,
          "yref": "y"
         },
         {
          "fillcolor": "rgba(0, 204, 0, 0.6)",
          "line": {
           "color": "rgb(55, 128, 191)",
           "width": 1
          },
          "type": "rect",
          "x0": 4.75,
          "x1": 5.25,
          "xref": "x",
          "y0": 96.85,
          "y1": 101.12,
          "yref": "y"
         },
         {
          "fillcolor": "rgba(0, 204, 0, 0.6)",
          "line": {
           "color": "rgb(55, 128, 191)",
           "width": 1
          },
          "type": "rect",
          "x0": 5.75,
          "x1": 6.25,
          "xref": "x",
          "y0": 99.28,
          "y1": 100.81,
          "yref": "y"
         },
         {
          "fillcolor": "rgba(255, 0, 0, 0.6)",
          "line": {
           "color": "rgb(55, 128, 191)",
           "width": 1
          },
          "type": "rect",
          "x0": 6.75,
          "x1": 7.25,
          "xref": "x",
          "y0": 101.49,
          "y1": 102.62,
          "yref": "y"
         },
         {
          "fillcolor": "rgba(0, 204, 0, 0.6)",
          "line": {
           "color": "rgb(55, 128, 191)",
           "width": 1
          },
          "type": "rect",
          "x0": 7.75,
          "x1": 8.25,
          "xref": "x",
          "y0": 96.13,
          "y1": 99.6,
          "yref": "y"
         },
         {
          "fillcolor": "rgba(255, 0, 0, 0.6)",
          "line": {
           "color": "rgb(55, 128, 191)",
           "width": 1
          },
          "type": "rect",
          "x0": 8.75,
          "x1": 9.25,
          "xref": "x",
          "y0": 100.03,
          "y1": 101.48,
          "yref": "y"
         },
         {
          "fillcolor": "rgba(255, 0, 0, 0.6)",
          "line": {
           "color": "rgb(55, 128, 191)",
           "width": 1
          },
          "type": "rect",
          "x0": 9.75,
          "x1": 10.25,
          "xref": "x",
          "y0": 99.79,
          "y1": 101.2,
          "yref": "y"
         },
         {
          "fillcolor": "rgba(0, 204, 0, 0.6)",
          "line": {
           "color": "rgb(55, 128, 191)",
           "width": 1
          },
          "type": "rect",
          "x0": 10.75,
          "x1": 11.25,
          "xref": "x",
          "y0": 96.48,
          "y1": 98.62,
          "yref": "y"
         },
         {
          "fillcolor": "rgba(255, 0, 0, 0.6)",
          "line": {
           "color": "rgb(55, 128, 191)",
           "width": 1
          },
          "type": "rect",
          "x0": 11.75,
          "x1": 12.25,
          "xref": "x",
          "y0": 101.86,
          "y1": 103.26,
          "yref": "y"
         },
         {
          "fillcolor": "rgba(0, 204, 0, 0.6)",
          "line": {
           "color": "rgb(55, 128, 191)",
           "width": 1
          },
          "type": "rect",
          "x0": 12.75,
          "x1": 13.25,
          "xref": "x",
          "y0": 102.64,
          "y1": 103.01,
          "yref": "y"
         },
         {
          "fillcolor": "rgba(0, 204, 0, 0.6)",
          "line": {
           "color": "rgb(55, 128, 191)",
           "width": 1
          },
          "type": "rect",
          "x0": 13.75,
          "x1": 14.25,
          "xref": "x",
          "y0": 104.18,
          "y1": 104.55,
          "yref": "y"
         },
         {
          "fillcolor": "rgba(0, 204, 0, 0.6)",
          "line": {
           "color": "rgb(55, 128, 191)",
           "width": 1
          },
          "type": "rect",
          "x0": 14.75,
          "x1": 15.25,
          "xref": "x",
          "y0": 103.2,
          "y1": 104.15,
          "yref": "y"
         },
         {
          "fillcolor": "rgba(255, 0, 0, 0.6)",
          "line": {
           "color": "rgb(55, 128, 191)",
           "width": 1
          },
          "type": "rect",
          "x0": 15.75,
          "x1": 16.25,
          "xref": "x",
          "y0": 103.91,
          "y1": 104.38,
          "yref": "y"
         },
         {
          "fillcolor": "rgba(0, 204, 0, 0.6)",
          "line": {
           "color": "rgb(55, 128, 191)",
           "width": 1
          },
          "type": "rect",
          "x0": 16.75,
          "x1": 17.25,
          "xref": "x",
          "y0": 104.72,
          "y1": 105.52,
          "yref": "y"
         },
         {
          "fillcolor": "rgba(0, 204, 0, 0.6)",
          "line": {
           "color": "rgb(55, 128, 191)",
           "width": 1
          },
          "type": "rect",
          "x0": 17.75,
          "x1": 18.25,
          "xref": "x",
          "y0": 104.84,
          "y1": 105.32,
          "yref": "y"
         },
         {
          "fillcolor": "rgba(255, 0, 0, 0.6)",
          "line": {
           "color": "rgb(55, 128, 191)",
           "width": 1
          },
          "type": "rect",
          "x0": 18.75,
          "x1": 19.25,
          "xref": "x",
          "y0": 103.27,
          "y1": 105.46,
          "yref": "y"
         },
         {
          "fillcolor": "rgba(0, 204, 0, 0.6)",
          "line": {
           "color": "rgb(55, 128, 191)",
           "width": 1
          },
          "type": "rect",
          "x0": 19.75,
          "x1": 20.25,
          "xref": "x",
          "y0": 102.08,
          "y1": 104.13,
          "yref": "y"
         },
         {
          "fillcolor": "rgba(255, 0, 0, 0.6)",
          "line": {
           "color": "rgb(55, 128, 191)",
           "width": 1
          },
          "type": "rect",
          "x0": 20.75,
          "x1": 21.25,
          "xref": "x",
          "y0": 102.73,
          "y1": 105.97,
          "yref": "y"
         },
         {
          "fillcolor": "rgba(0, 204, 0, 0.6)",
          "line": {
           "color": "rgb(55, 128, 191)",
           "width": 1
          },
          "type": "rect",
          "x0": 21.75,
          "x1": 22.25,
          "xref": "x",
          "y0": 102.48,
          "y1": 105.25,
          "yref": "y"
         },
         {
          "fillcolor": "rgba(0, 204, 0, 0.6)",
          "line": {
           "color": "rgb(55, 128, 191)",
           "width": 1
          },
          "type": "rect",
          "x0": 22.75,
          "x1": 23.25,
          "xref": "x",
          "y0": 102.05,
          "y1": 105.07,
          "yref": "y"
         },
         {
          "fillcolor": "rgba(255, 0, 0, 0.6)",
          "line": {
           "color": "rgb(55, 128, 191)",
           "width": 1
          },
          "type": "rect",
          "x0": 23.75,
          "x1": 24.25,
          "xref": "x",
          "y0": 104.75,
          "y1": 104.88,
          "yref": "y"
         },
         {
          "fillcolor": "rgba(255, 0, 0, 0.6)",
          "line": {
           "color": "rgb(55, 128, 191)",
           "width": 1
          },
          "type": "rect",
          "x0": 24.75,
          "x1": 25.25,
          "xref": "x",
          "y0": 103.67,
          "y1": 103.77,
          "yref": "y"
         },
         {
          "fillcolor": "rgba(0, 204, 0, 0.6)",
          "line": {
           "color": "rgb(55, 128, 191)",
           "width": 1
          },
          "type": "rect",
          "x0": 25.75,
          "x1": 26.25,
          "xref": "x",
          "y0": 100.76,
          "y1": 101.57,
          "yref": "y"
         },
         {
          "fillcolor": "rgba(255, 0, 0, 0.6)",
          "line": {
           "color": "rgb(55, 128, 191)",
           "width": 1
          },
          "type": "rect",
          "x0": 26.75,
          "x1": 27.25,
          "xref": "x",
          "y0": 101.83,
          "y1": 104.83,
          "yref": "y"
         },
         {
          "fillcolor": "rgba(255, 0, 0, 0.6)",
          "line": {
           "color": "rgb(55, 128, 191)",
           "width": 1
          },
          "type": "rect",
          "x0": 27.75,
          "x1": 28.25,
          "xref": "x",
          "y0": 102.16,
          "y1": 104.91,
          "yref": "y"
         },
         {
          "fillcolor": "rgba(255, 0, 0, 0.6)",
          "line": {
           "color": "rgb(55, 128, 191)",
           "width": 1
          },
          "type": "rect",
          "x0": 28.75,
          "x1": 29.25,
          "xref": "x",
          "y0": 101.92,
          "y1": 104.23,
          "yref": "y"
         },
         {
          "fillcolor": "rgba(0, 204, 0, 0.6)",
          "line": {
           "color": "rgb(55, 128, 191)",
           "width": 1
          },
          "type": "rect",
          "x0": 29.75,
          "x1": 30.25,
          "xref": "x",
          "y0": 99.28,
          "y1": 101.2,
          "yref": "y"
         },
         {
          "fillcolor": "rgba(255, 0, 0, 0.6)",
          "line": {
           "color": "rgb(55, 128, 191)",
           "width": 1
          },
          "type": "rect",
          "x0": 30.75,
          "x1": 31.25,
          "xref": "x",
          "y0": 102,
          "y1": 102.37,
          "yref": "y"
         },
         {
          "fillcolor": "rgba(255, 0, 0, 0.6)",
          "line": {
           "color": "rgb(55, 128, 191)",
           "width": 1
          },
          "type": "rect",
          "x0": 31.75,
          "x1": 32.25,
          "xref": "x",
          "y0": 100.84,
          "y1": 101.41,
          "yref": "y"
         },
         {
          "fillcolor": "rgba(0, 204, 0, 0.6)",
          "line": {
           "color": "rgb(55, 128, 191)",
           "width": 1
          },
          "type": "rect",
          "x0": 32.75,
          "x1": 33.25,
          "xref": "x",
          "y0": 99.21,
          "y1": 99.49,
          "yref": "y"
         },
         {
          "fillcolor": "rgba(0, 204, 0, 0.6)",
          "line": {
           "color": "rgb(55, 128, 191)",
           "width": 1
          },
          "type": "rect",
          "x0": 33.75,
          "x1": 34.25,
          "xref": "x",
          "y0": 99.17,
          "y1": 100.3,
          "yref": "y"
         },
         {
          "fillcolor": "rgba(255, 0, 0, 0.6)",
          "line": {
           "color": "rgb(55, 128, 191)",
           "width": 1
          },
          "type": "rect",
          "x0": 34.75,
          "x1": 35.25,
          "xref": "x",
          "y0": 98.69,
          "y1": 100.04,
          "yref": "y"
         },
         {
          "fillcolor": "rgba(0, 204, 0, 0.6)",
          "line": {
           "color": "rgb(55, 128, 191)",
           "width": 1
          },
          "type": "rect",
          "x0": 35.75,
          "x1": 36.25,
          "xref": "x",
          "y0": 98.07,
          "y1": 98.15,
          "yref": "y"
         },
         {
          "fillcolor": "rgba(255, 0, 0, 0.6)",
          "line": {
           "color": "rgb(55, 128, 191)",
           "width": 1
          },
          "type": "rect",
          "x0": 36.75,
          "x1": 37.25,
          "xref": "x",
          "y0": 100.18,
          "y1": 100.31,
          "yref": "y"
         },
         {
          "fillcolor": "rgba(255, 0, 0, 0.6)",
          "line": {
           "color": "rgb(55, 128, 191)",
           "width": 1
          },
          "type": "rect",
          "x0": 37.75,
          "x1": 38.25,
          "xref": "x",
          "y0": 100.64,
          "y1": 103.25,
          "yref": "y"
         },
         {
          "fillcolor": "rgba(255, 0, 0, 0.6)",
          "line": {
           "color": "rgb(55, 128, 191)",
           "width": 1
          },
          "type": "rect",
          "x0": 38.75,
          "x1": 39.25,
          "xref": "x",
          "y0": 98.04,
          "y1": 98.5,
          "yref": "y"
         },
         {
          "fillcolor": "rgba(255, 0, 0, 0.6)",
          "line": {
           "color": "rgb(55, 128, 191)",
           "width": 1
          },
          "type": "rect",
          "x0": 39.75,
          "x1": 40.25,
          "xref": "x",
          "y0": 95.46,
          "y1": 96.91,
          "yref": "y"
         },
         {
          "fillcolor": "rgba(255, 0, 0, 0.6)",
          "line": {
           "color": "rgb(55, 128, 191)",
           "width": 1
          },
          "type": "rect",
          "x0": 40.75,
          "x1": 41.25,
          "xref": "x",
          "y0": 94.4,
          "y1": 95.96,
          "yref": "y"
         },
         {
          "fillcolor": "rgba(255, 0, 0, 0.6)",
          "line": {
           "color": "rgb(55, 128, 191)",
           "width": 1
          },
          "type": "rect",
          "x0": 41.75,
          "x1": 42.25,
          "xref": "x",
          "y0": 93.77,
          "y1": 94.8,
          "yref": "y"
         },
         {
          "fillcolor": "rgba(0, 204, 0, 0.6)",
          "line": {
           "color": "rgb(55, 128, 191)",
           "width": 1
          },
          "type": "rect",
          "x0": 42.75,
          "x1": 43.25,
          "xref": "x",
          "y0": 93.58,
          "y1": 93.81,
          "yref": "y"
         },
         {
          "fillcolor": "rgba(255, 0, 0, 0.6)",
          "line": {
           "color": "rgb(55, 128, 191)",
           "width": 1
          },
          "type": "rect",
          "x0": 43.75,
          "x1": 44.25,
          "xref": "x",
          "y0": 93.43,
          "y1": 95.18,
          "yref": "y"
         },
         {
          "fillcolor": "rgba(255, 0, 0, 0.6)",
          "line": {
           "color": "rgb(55, 128, 191)",
           "width": 1
          },
          "type": "rect",
          "x0": 44.75,
          "x1": 45.25,
          "xref": "x",
          "y0": 94.1,
          "y1": 94.99,
          "yref": "y"
         },
         {
          "fillcolor": "rgba(0, 204, 0, 0.6)",
          "line": {
           "color": "rgb(55, 128, 191)",
           "width": 1
          },
          "type": "rect",
          "x0": 45.75,
          "x1": 46.25,
          "xref": "x",
          "y0": 94.7,
          "y1": 95.03,
          "yref": "y"
         },
         {
          "fillcolor": "rgba(0, 204, 0, 0.6)",
          "line": {
           "color": "rgb(55, 128, 191)",
           "width": 1
          },
          "type": "rect",
          "x0": 46.75,
          "x1": 47.25,
          "xref": "x",
          "y0": 92.25,
          "y1": 94.86,
          "yref": "y"
         },
         {
          "fillcolor": "rgba(0, 204, 0, 0.6)",
          "line": {
           "color": "rgb(55, 128, 191)",
           "width": 1
          },
          "type": "rect",
          "x0": 47.75,
          "x1": 48.25,
          "xref": "x",
          "y0": 92.55,
          "y1": 95.37,
          "yref": "y"
         },
         {
          "fillcolor": "rgba(0, 204, 0, 0.6)",
          "line": {
           "color": "rgb(55, 128, 191)",
           "width": 1
          },
          "type": "rect",
          "x0": 48.75,
          "x1": 49.25,
          "xref": "x",
          "y0": 93.45,
          "y1": 95.12,
          "yref": "y"
         },
         {
          "fillcolor": "rgba(0, 204, 0, 0.6)",
          "line": {
           "color": "rgb(55, 128, 191)",
           "width": 1
          },
          "type": "rect",
          "x0": 49.75,
          "x1": 50.25,
          "xref": "x",
          "y0": 91.41,
          "y1": 94.55,
          "yref": "y"
         },
         {
          "line": {
           "color": "rgb(55, 128, 191)",
           "width": 1.5
          },
          "type": "line",
          "x0": 1,
          "x1": 1,
          "y0": 101.91,
          "y1": 103.05
         },
         {
          "line": {
           "color": "rgb(55, 128, 191)",
           "width": 1.5
          },
          "type": "line",
          "x0": 2,
          "x1": 2,
          "y0": 98.77,
          "y1": 99.86
         },
         {
          "line": {
           "color": "rgb(55, 128, 191)",
           "width": 1.5
          },
          "type": "line",
          "x0": 3,
          "x1": 3,
          "y0": 99.39,
          "y1": 100.48
         },
         {
          "line": {
           "color": "rgb(55, 128, 191)",
           "width": 1.5
          },
          "type": "line",
          "x0": 4,
          "x1": 4,
          "y0": 100.06,
          "y1": 101.16
         },
         {
          "line": {
           "color": "rgb(55, 128, 191)",
           "width": 1.5
          },
          "type": "line",
          "x0": 5,
          "x1": 5,
          "y0": 101.12,
          "y1": 102.23
         },
         {
          "line": {
           "color": "rgb(55, 128, 191)",
           "width": 1.5
          },
          "type": "line",
          "x0": 6,
          "x1": 6,
          "y0": 100.81,
          "y1": 101.91
         },
         {
          "line": {
           "color": "rgb(55, 128, 191)",
           "width": 1.5
          },
          "type": "line",
          "x0": 7,
          "x1": 7,
          "y0": 102.62,
          "y1": 103.74
         },
         {
          "line": {
           "color": "rgb(55, 128, 191)",
           "width": 1.5
          },
          "type": "line",
          "x0": 8,
          "x1": 8,
          "y0": 99.6,
          "y1": 100.72
         },
         {
          "line": {
           "color": "rgb(55, 128, 191)",
           "width": 1.5
          },
          "type": "line",
          "x0": 9,
          "x1": 9,
          "y0": 101.48,
          "y1": 102.58
         },
         {
          "line": {
           "color": "rgb(55, 128, 191)",
           "width": 1.5
          },
          "type": "line",
          "x0": 10,
          "x1": 10,
          "y0": 101.2,
          "y1": 102.29
         },
         {
          "line": {
           "color": "rgb(55, 128, 191)",
           "width": 1.5
          },
          "type": "line",
          "x0": 11,
          "x1": 11,
          "y0": 98.62,
          "y1": 99.73
         },
         {
          "line": {
           "color": "rgb(55, 128, 191)",
           "width": 1.5
          },
          "type": "line",
          "x0": 12,
          "x1": 12,
          "y0": 103.26,
          "y1": 104.38
         },
         {
          "line": {
           "color": "rgb(55, 128, 191)",
           "width": 1.5
          },
          "type": "line",
          "x0": 13,
          "x1": 13,
          "y0": 103.01,
          "y1": 104.12
         },
         {
          "line": {
           "color": "rgb(55, 128, 191)",
           "width": 1.5
          },
          "type": "line",
          "x0": 14,
          "x1": 14,
          "y0": 104.55,
          "y1": 105.66
         },
         {
          "line": {
           "color": "rgb(55, 128, 191)",
           "width": 1.5
          },
          "type": "line",
          "x0": 15,
          "x1": 15,
          "y0": 104.15,
          "y1": 105.24
         },
         {
          "line": {
           "color": "rgb(55, 128, 191)",
           "width": 1.5
          },
          "type": "line",
          "x0": 16,
          "x1": 16,
          "y0": 104.38,
          "y1": 105.49
         },
         {
          "line": {
           "color": "rgb(55, 128, 191)",
           "width": 1.5
          },
          "type": "line",
          "x0": 17,
          "x1": 17,
          "y0": 105.52,
          "y1": 106.63
         },
         {
          "line": {
           "color": "rgb(55, 128, 191)",
           "width": 1.5
          },
          "type": "line",
          "x0": 18,
          "x1": 18,
          "y0": 105.32,
          "y1": 106.44
         },
         {
          "line": {
           "color": "rgb(55, 128, 191)",
           "width": 1.5
          },
          "type": "line",
          "x0": 19,
          "x1": 19,
          "y0": 105.46,
          "y1": 106.55
         },
         {
          "line": {
           "color": "rgb(55, 128, 191)",
           "width": 1.5
          },
          "type": "line",
          "x0": 20,
          "x1": 20,
          "y0": 104.13,
          "y1": 105.23
         },
         {
          "line": {
           "color": "rgb(55, 128, 191)",
           "width": 1.5
          },
          "type": "line",
          "x0": 21,
          "x1": 21,
          "y0": 105.97,
          "y1": 107.08
         },
         {
          "line": {
           "color": "rgb(55, 128, 191)",
           "width": 1.5
          },
          "type": "line",
          "x0": 22,
          "x1": 22,
          "y0": 105.25,
          "y1": 106.38
         },
         {
          "line": {
           "color": "rgb(55, 128, 191)",
           "width": 1.5
          },
          "type": "line",
          "x0": 23,
          "x1": 23,
          "y0": 105.07,
          "y1": 106.17
         },
         {
          "line": {
           "color": "rgb(55, 128, 191)",
           "width": 1.5
          },
          "type": "line",
          "x0": 24,
          "x1": 24,
          "y0": 104.88,
          "y1": 106
         },
         {
          "line": {
           "color": "rgb(55, 128, 191)",
           "width": 1.5
          },
          "type": "line",
          "x0": 25,
          "x1": 25,
          "y0": 103.77,
          "y1": 104.87
         },
         {
          "line": {
           "color": "rgb(55, 128, 191)",
           "width": 1.5
          },
          "type": "line",
          "x0": 26,
          "x1": 26,
          "y0": 101.57,
          "y1": 102.68
         },
         {
          "line": {
           "color": "rgb(55, 128, 191)",
           "width": 1.5
          },
          "type": "line",
          "x0": 27,
          "x1": 27,
          "y0": 104.83,
          "y1": 105.92
         },
         {
          "line": {
           "color": "rgb(55, 128, 191)",
           "width": 1.5
          },
          "type": "line",
          "x0": 28,
          "x1": 28,
          "y0": 104.91,
          "y1": 106.01
         },
         {
          "line": {
           "color": "rgb(55, 128, 191)",
           "width": 1.5
          },
          "type": "line",
          "x0": 29,
          "x1": 29,
          "y0": 104.23,
          "y1": 105.34
         },
         {
          "line": {
           "color": "rgb(55, 128, 191)",
           "width": 1.5
          },
          "type": "line",
          "x0": 30,
          "x1": 30,
          "y0": 101.2,
          "y1": 102.3
         },
         {
          "line": {
           "color": "rgb(55, 128, 191)",
           "width": 1.5
          },
          "type": "line",
          "x0": 31,
          "x1": 31,
          "y0": 102.37,
          "y1": 103.45
         },
         {
          "line": {
           "color": "rgb(55, 128, 191)",
           "width": 1.5
          },
          "type": "line",
          "x0": 32,
          "x1": 32,
          "y0": 101.41,
          "y1": 102.51
         },
         {
          "line": {
           "color": "rgb(55, 128, 191)",
           "width": 1.5
          },
          "type": "line",
          "x0": 33,
          "x1": 33,
          "y0": 99.49,
          "y1": 100.59
         },
         {
          "line": {
           "color": "rgb(55, 128, 191)",
           "width": 1.5
          },
          "type": "line",
          "x0": 34,
          "x1": 34,
          "y0": 100.3,
          "y1": 101.43
         },
         {
          "line": {
           "color": "rgb(55, 128, 191)",
           "width": 1.5
          },
          "type": "line",
          "x0": 35,
          "x1": 35,
          "y0": 100.04,
          "y1": 101.15
         },
         {
          "line": {
           "color": "rgb(55, 128, 191)",
           "width": 1.5
          },
          "type": "line",
          "x0": 36,
          "x1": 36,
          "y0": 98.15,
          "y1": 99.25
         },
         {
          "line": {
           "color": "rgb(55, 128, 191)",
           "width": 1.5
          },
          "type": "line",
          "x0": 37,
          "x1": 37,
          "y0": 100.31,
          "y1": 101.4
         },
         {
          "line": {
           "color": "rgb(55, 128, 191)",
           "width": 1.5
          },
          "type": "line",
          "x0": 38,
          "x1": 38,
          "y0": 103.25,
          "y1": 104.33
         },
         {
          "line": {
           "color": "rgb(55, 128, 191)",
           "width": 1.5
          },
          "type": "line",
          "x0": 39,
          "x1": 39,
          "y0": 98.5,
          "y1": 99.62
         },
         {
          "line": {
           "color": "rgb(55, 128, 191)",
           "width": 1.5
          },
          "type": "line",
          "x0": 40,
          "x1": 40,
          "y0": 96.91,
          "y1": 98
         },
         {
          "line": {
           "color": "rgb(55, 128, 191)",
           "width": 1.5
          },
          "type": "line",
          "x0": 41,
          "x1": 41,
          "y0": 95.96,
          "y1": 97.08
         },
         {
          "line": {
           "color": "rgb(55, 128, 191)",
           "width": 1.5
          },
          "type": "line",
          "x0": 42,
          "x1": 42,
          "y0": 94.8,
          "y1": 95.91
         },
         {
          "line": {
           "color": "rgb(55, 128, 191)",
           "width": 1.5
          },
          "type": "line",
          "x0": 43,
          "x1": 43,
          "y0": 93.81,
          "y1": 94.93
         },
         {
          "line": {
           "color": "rgb(55, 128, 191)",
           "width": 1.5
          },
          "type": "line",
          "x0": 44,
          "x1": 44,
          "y0": 95.18,
          "y1": 96.27
         },
         {
          "line": {
           "color": "rgb(55, 128, 191)",
           "width": 1.5
          },
          "type": "line",
          "x0": 45,
          "x1": 45,
          "y0": 94.99,
          "y1": 96.07
         },
         {
          "line": {
           "color": "rgb(55, 128, 191)",
           "width": 1.5
          },
          "type": "line",
          "x0": 46,
          "x1": 46,
          "y0": 95.03,
          "y1": 96.14
         },
         {
          "line": {
           "color": "rgb(55, 128, 191)",
           "width": 1.5
          },
          "type": "line",
          "x0": 47,
          "x1": 47,
          "y0": 94.86,
          "y1": 95.96
         },
         {
          "line": {
           "color": "rgb(55, 128, 191)",
           "width": 1.5
          },
          "type": "line",
          "x0": 48,
          "x1": 48,
          "y0": 95.37,
          "y1": 96.48
         },
         {
          "line": {
           "color": "rgb(55, 128, 191)",
           "width": 1.5
          },
          "type": "line",
          "x0": 49,
          "x1": 49,
          "y0": 95.12,
          "y1": 96.23
         },
         {
          "line": {
           "color": "rgb(55, 128, 191)",
           "width": 1.5
          },
          "type": "line",
          "x0": 50,
          "x1": 50,
          "y0": 94.55,
          "y1": 95.64
         }
        ],
        "showlegend": false,
        "title": "Random Walk",
        "xaxis": {
         "anchor": "y2",
         "showgrid": true,
         "showticklabels": true,
         "tickangle": 90,
         "tickmode": "array",
         "ticktext": [
          20190517,
          20190521,
          20190523,
          20190527,
          20190529,
          20190531,
          20190604,
          20190606,
          20190610,
          20190612,
          20190614,
          20190618,
          20190620,
          20190624,
          20190626,
          20190628,
          20190702,
          20190704,
          20190708,
          20190710,
          20190712,
          20190716,
          20190718,
          20190722,
          20190724,
          20190725
         ],
         "tickvals": [
          1,
          3,
          5,
          7,
          9,
          11,
          13,
          15,
          17,
          19,
          21,
          23,
          25,
          27,
          29,
          31,
          33,
          35,
          37,
          39,
          41,
          43,
          45,
          47,
          49,
          50
         ]
        },
        "yaxis": {
         "domain": [
          0.22,
          1
         ],
         "range": [
          90.31,
          107.08
         ]
        },
        "yaxis2": {
         "domain": [
          0,
          0.2
         ],
         "range": [
          0,
          1507285
         ]
        }
       }
      },
      "text/html": [
       "<div id=\"6797be0d-6fed-424f-a077-b77d927b9cfe\" style=\"height: 525px; width: 100%;\" class=\"plotly-graph-div\"></div><script type=\"text/javascript\">require([\"plotly\"], function(Plotly) { window.PLOTLYENV=window.PLOTLYENV || {};window.PLOTLYENV.BASE_URL=\"https://plot.ly\";Plotly.newPlot(\"6797be0d-6fed-424f-a077-b77d927b9cfe\", [{\"hoverinfo\": \"text\", \"mode\": \"markers\", \"text\": [\"date: 20190517.0<br>open: 101.91<br>high: 103.05<br>low: 98.0<br>close: 99.12<br>volume: 1317099.0\", \"date: 20190520.0<br>open: 98.19<br>high: 99.86<br>low: 97.09<br>close: 98.77<br>volume: 1297101.0\", \"date: 20190521.0<br>open: 98.85<br>high: 100.48<br>low: 97.77<br>close: 99.39<br>volume: 1349345.0\", \"date: 20190522.0<br>open: 98.8<br>high: 101.16<br>low: 97.7<br>close: 100.06<br>volume: 1303767.0\", \"date: 20190523.0<br>open: 96.85<br>high: 102.23<br>low: 95.74<br>close: 101.12<br>volume: 1293155.0\", \"date: 20190524.0<br>open: 99.28<br>high: 101.91<br>low: 98.17<br>close: 100.81<br>volume: 1327404.0\", \"date: 20190527.0<br>open: 102.62<br>high: 103.74<br>low: 100.4<br>close: 101.49<br>volume: 1325228.0\", \"date: 20190528.0<br>open: 96.13<br>high: 100.72<br>low: 95.0<br>close: 99.6<br>volume: 1282694.0\", \"date: 20190529.0<br>open: 101.48<br>high: 102.58<br>low: 98.92<br>close: 100.03<br>volume: 1229502.0\", \"date: 20190530.0<br>open: 101.2<br>high: 102.29<br>low: 98.67<br>close: 99.79<br>volume: 1249271.0\", \"date: 20190531.0<br>open: 96.48<br>high: 99.73<br>low: 95.37<br>close: 98.62<br>volume: 1278860.0\", \"date: 20190603.0<br>open: 103.26<br>high: 104.38<br>low: 100.76<br>close: 101.86<br>volume: 1304090.0\", \"date: 20190604.0<br>open: 102.64<br>high: 104.12<br>low: 101.53<br>close: 103.01<br>volume: 1390095.0\", \"date: 20190605.0<br>open: 104.18<br>high: 105.66<br>low: 103.09<br>close: 104.55<br>volume: 1387546.0\", \"date: 20190606.0<br>open: 103.2<br>high: 105.24<br>low: 102.1<br>close: 104.15<br>volume: 1350877.0\", \"date: 20190607.0<br>open: 104.38<br>high: 105.49<br>low: 102.78<br>close: 103.91<br>volume: 1357093.0\", \"date: 20190610.0<br>open: 104.72<br>high: 106.63<br>low: 103.61<br>close: 105.52<br>volume: 1347121.0\", \"date: 20190611.0<br>open: 104.84<br>high: 106.44<br>low: 103.76<br>close: 105.32<br>volume: 1361006.0\", \"date: 20190612.0<br>open: 105.46<br>high: 106.55<br>low: 102.17<br>close: 103.27<br>volume: 1436072.0\", \"date: 20190613.0<br>open: 102.08<br>high: 105.23<br>low: 100.98<br>close: 104.13<br>volume: 1328566.0\", \"date: 20190614.0<br>open: 105.97<br>high: 107.08<br>low: 101.62<br>close: 102.73<br>volume: 1280587.0\", \"date: 20190617.0<br>open: 102.48<br>high: 106.38<br>low: 101.37<br>close: 105.25<br>volume: 1349745.0\", \"date: 20190618.0<br>open: 102.05<br>high: 106.17<br>low: 100.96<br>close: 105.07<br>volume: 1366529.0\", \"date: 20190619.0<br>open: 104.88<br>high: 106.0<br>low: 103.64<br>close: 104.75<br>volume: 1379434.0\", \"date: 20190620.0<br>open: 103.77<br>high: 104.87<br>low: 102.55<br>close: 103.67<br>volume: 1390020.0\", \"date: 20190621.0<br>open: 100.76<br>high: 102.68<br>low: 99.68<br>close: 101.57<br>volume: 1368857.0\", \"date: 20190624.0<br>open: 104.83<br>high: 105.92<br>low: 100.73<br>close: 101.83<br>volume: 1349611.0\", \"date: 20190625.0<br>open: 104.91<br>high: 106.01<br>low: 101.06<br>close: 102.16<br>volume: 1378415.0\", \"date: 20190626.0<br>open: 104.23<br>high: 105.34<br>low: 100.78<br>close: 101.92<br>volume: 1414065.0\", \"date: 20190627.0<br>open: 99.28<br>high: 102.3<br>low: 98.16<br>close: 101.2<br>volume: 1355548.0\", \"date: 20190628.0<br>open: 102.37<br>high: 103.45<br>low: 100.91<br>close: 102.0<br>volume: 1371480.0\", \"date: 20190701.0<br>open: 101.41<br>high: 102.51<br>low: 99.72<br>close: 100.84<br>volume: 1433200.0\", \"date: 20190702.0<br>open: 99.21<br>high: 100.59<br>low: 98.1<br>close: 99.49<br>volume: 1507285.0\", \"date: 20190703.0<br>open: 99.17<br>high: 101.43<br>low: 98.07<br>close: 100.3<br>volume: 1467061.0\", \"date: 20190704.0<br>open: 100.04<br>high: 101.15<br>low: 97.57<br>close: 98.69<br>volume: 1491500.0\", \"date: 20190705.0<br>open: 98.07<br>high: 99.25<br>low: 96.97<br>close: 98.15<br>volume: 1459459.0\", \"date: 20190708.0<br>open: 100.31<br>high: 101.4<br>low: 99.07<br>close: 100.18<br>volume: 1504075.0\", \"date: 20190709.0<br>open: 103.25<br>high: 104.33<br>low: 99.54<br>close: 100.64<br>volume: 1460040.0\", \"date: 20190710.0<br>open: 98.5<br>high: 99.62<br>low: 96.94<br>close: 98.04<br>volume: 1386740.0\", \"date: 20190711.0<br>open: 96.91<br>high: 98.0<br>low: 94.34<br>close: 95.46<br>volume: 1352060.0\", \"date: 20190712.0<br>open: 95.96<br>high: 97.08<br>low: 93.27<br>close: 94.4<br>volume: 1259117.0\", \"date: 20190715.0<br>open: 94.8<br>high: 95.91<br>low: 92.65<br>close: 93.77<br>volume: 1354809.0\", \"date: 20190716.0<br>open: 93.58<br>high: 94.93<br>low: 92.48<br>close: 93.81<br>volume: 1367099.0\", \"date: 20190717.0<br>open: 95.18<br>high: 96.27<br>low: 92.31<br>close: 93.43<br>volume: 1332122.0\", \"date: 20190718.0<br>open: 94.99<br>high: 96.07<br>low: 93.01<br>close: 94.1<br>volume: 1316868.0\", \"date: 20190719.0<br>open: 94.7<br>high: 96.14<br>low: 93.61<br>close: 95.03<br>volume: 1284454.0\", \"date: 20190722.0<br>open: 92.25<br>high: 95.96<br>low: 91.15<br>close: 94.86<br>volume: 1291802.0\", \"date: 20190723.0<br>open: 92.55<br>high: 96.48<br>low: 91.47<br>close: 95.37<br>volume: 1265041.0\", \"date: 20190724.0<br>open: 93.45<br>high: 96.23<br>low: 92.34<br>close: 95.12<br>volume: 1331263.0\", \"date: 20190725.0<br>open: 91.41<br>high: 95.64<br>low: 90.31<br>close: 94.55<br>volume: 1341539.0\"], \"x\": [1, 2, 3, 4, 5, 6, 7, 8, 9, 10, 11, 12, 13, 14, 15, 16, 17, 18, 19, 20, 21, 22, 23, 24, 25, 26, 27, 28, 29, 30, 31, 32, 33, 34, 35, 36, 37, 38, 39, 40, 41, 42, 43, 44, 45, 46, 47, 48, 49, 50], \"xaxis\": \"x\", \"y\": [99.12, 98.77, 99.39, 100.06, 101.12, 100.81, 101.49, 99.6, 100.03, 99.79, 98.62, 101.86, 103.01, 104.55, 104.15, 103.91, 105.52, 105.32, 103.27, 104.13, 102.73, 105.25, 105.07, 104.75, 103.67, 101.57, 101.83, 102.16, 101.92, 101.2, 102.0, 100.84, 99.49, 100.3, 98.69, 98.15, 100.18, 100.64, 98.04, 95.46, 94.4, 93.77, 93.81, 93.43, 94.1, 95.03, 94.86, 95.37, 95.12, 94.55], \"yaxis\": \"y\", \"type\": \"scatter\", \"uid\": \"d28736c8-aed5-11e9-80dd-8c859025e7f9\"}, {\"width\": 0.5, \"x\": [1, 2, 3, 4, 5, 6, 7, 8, 9, 10, 11, 12, 13, 14, 15, 16, 17, 18, 19, 20, 21, 22, 23, 24, 25, 26, 27, 28, 29, 30, 31, 32, 33, 34, 35, 36, 37, 38, 39, 40, 41, 42, 43, 44, 45, 46, 47, 48, 49, 50], \"xaxis\": \"x\", \"y\": [1317099.0, 1297101.0, 1349345.0, 1303767.0, 1293155.0, 1327404.0, 1325228.0, 1282694.0, 1229502.0, 1249271.0, 1278860.0, 1304090.0, 1390095.0, 1387546.0, 1350877.0, 1357093.0, 1347121.0, 1361006.0, 1436072.0, 1328566.0, 1280587.0, 1349745.0, 1366529.0, 1379434.0, 1390020.0, 1368857.0, 1349611.0, 1378415.0, 1414065.0, 1355548.0, 1371480.0, 1433200.0, 1507285.0, 1467061.0, 1491500.0, 1459459.0, 1504075.0, 1460040.0, 1386740.0, 1352060.0, 1259117.0, 1354809.0, 1367099.0, 1332122.0, 1316868.0, 1284454.0, 1291802.0, 1265041.0, 1331263.0, 1341539.0], \"yaxis\": \"y2\", \"type\": \"bar\", \"uid\": \"d287383a-aed5-11e9-91b2-8c859025e7f9\"}], {\"margin\": {\"t\": 100}, \"shapes\": [{\"line\": {\"color\": \"rgb(55, 128, 191)\", \"width\": 1.5}, \"type\": \"line\", \"x0\": 1, \"x1\": 1, \"y0\": 98.0, \"y1\": 99.12}, {\"line\": {\"color\": \"rgb(55, 128, 191)\", \"width\": 1.5}, \"type\": \"line\", \"x0\": 2, \"x1\": 2, \"y0\": 97.09, \"y1\": 98.19}, {\"line\": {\"color\": \"rgb(55, 128, 191)\", \"width\": 1.5}, \"type\": \"line\", \"x0\": 3, \"x1\": 3, \"y0\": 97.77, \"y1\": 98.85}, {\"line\": {\"color\": \"rgb(55, 128, 191)\", \"width\": 1.5}, \"type\": \"line\", \"x0\": 4, \"x1\": 4, \"y0\": 97.7, \"y1\": 98.8}, {\"line\": {\"color\": \"rgb(55, 128, 191)\", \"width\": 1.5}, \"type\": \"line\", \"x0\": 5, \"x1\": 5, \"y0\": 95.74, \"y1\": 96.85}, {\"line\": {\"color\": \"rgb(55, 128, 191)\", \"width\": 1.5}, \"type\": \"line\", \"x0\": 6, \"x1\": 6, \"y0\": 98.17, \"y1\": 99.28}, {\"line\": {\"color\": \"rgb(55, 128, 191)\", \"width\": 1.5}, \"type\": \"line\", \"x0\": 7, \"x1\": 7, \"y0\": 100.4, \"y1\": 101.49}, {\"line\": {\"color\": \"rgb(55, 128, 191)\", \"width\": 1.5}, \"type\": \"line\", \"x0\": 8, \"x1\": 8, \"y0\": 95.0, \"y1\": 96.13}, {\"line\": {\"color\": \"rgb(55, 128, 191)\", \"width\": 1.5}, \"type\": \"line\", \"x0\": 9, \"x1\": 9, \"y0\": 98.92, \"y1\": 100.03}, {\"line\": {\"color\": \"rgb(55, 128, 191)\", \"width\": 1.5}, \"type\": \"line\", \"x0\": 10, \"x1\": 10, \"y0\": 98.67, \"y1\": 99.79}, {\"line\": {\"color\": \"rgb(55, 128, 191)\", \"width\": 1.5}, \"type\": \"line\", \"x0\": 11, \"x1\": 11, \"y0\": 95.37, \"y1\": 96.48}, {\"line\": {\"color\": \"rgb(55, 128, 191)\", \"width\": 1.5}, \"type\": \"line\", \"x0\": 12, \"x1\": 12, \"y0\": 100.76, \"y1\": 101.86}, {\"line\": {\"color\": \"rgb(55, 128, 191)\", \"width\": 1.5}, \"type\": \"line\", \"x0\": 13, \"x1\": 13, \"y0\": 101.53, \"y1\": 102.64}, {\"line\": {\"color\": \"rgb(55, 128, 191)\", \"width\": 1.5}, \"type\": \"line\", \"x0\": 14, \"x1\": 14, \"y0\": 103.09, \"y1\": 104.18}, {\"line\": {\"color\": \"rgb(55, 128, 191)\", \"width\": 1.5}, \"type\": \"line\", \"x0\": 15, \"x1\": 15, \"y0\": 102.1, \"y1\": 103.2}, {\"line\": {\"color\": \"rgb(55, 128, 191)\", \"width\": 1.5}, \"type\": \"line\", \"x0\": 16, \"x1\": 16, \"y0\": 102.78, \"y1\": 103.91}, {\"line\": {\"color\": \"rgb(55, 128, 191)\", \"width\": 1.5}, \"type\": \"line\", \"x0\": 17, \"x1\": 17, \"y0\": 103.61, \"y1\": 104.72}, {\"line\": {\"color\": \"rgb(55, 128, 191)\", \"width\": 1.5}, \"type\": \"line\", \"x0\": 18, \"x1\": 18, \"y0\": 103.76, \"y1\": 104.84}, {\"line\": {\"color\": \"rgb(55, 128, 191)\", \"width\": 1.5}, \"type\": \"line\", \"x0\": 19, \"x1\": 19, \"y0\": 102.17, \"y1\": 103.27}, {\"line\": {\"color\": \"rgb(55, 128, 191)\", \"width\": 1.5}, \"type\": \"line\", \"x0\": 20, \"x1\": 20, \"y0\": 100.98, \"y1\": 102.08}, {\"line\": {\"color\": \"rgb(55, 128, 191)\", \"width\": 1.5}, \"type\": \"line\", \"x0\": 21, \"x1\": 21, \"y0\": 101.62, \"y1\": 102.73}, {\"line\": {\"color\": \"rgb(55, 128, 191)\", \"width\": 1.5}, \"type\": \"line\", \"x0\": 22, \"x1\": 22, \"y0\": 101.37, \"y1\": 102.48}, {\"line\": {\"color\": \"rgb(55, 128, 191)\", \"width\": 1.5}, \"type\": \"line\", \"x0\": 23, \"x1\": 23, \"y0\": 100.96, \"y1\": 102.05}, {\"line\": {\"color\": \"rgb(55, 128, 191)\", \"width\": 1.5}, \"type\": \"line\", \"x0\": 24, \"x1\": 24, \"y0\": 103.64, \"y1\": 104.75}, {\"line\": {\"color\": \"rgb(55, 128, 191)\", \"width\": 1.5}, \"type\": \"line\", \"x0\": 25, \"x1\": 25, \"y0\": 102.55, \"y1\": 103.67}, {\"line\": {\"color\": \"rgb(55, 128, 191)\", \"width\": 1.5}, \"type\": \"line\", \"x0\": 26, \"x1\": 26, \"y0\": 99.68, \"y1\": 100.76}, {\"line\": {\"color\": \"rgb(55, 128, 191)\", \"width\": 1.5}, \"type\": \"line\", \"x0\": 27, \"x1\": 27, \"y0\": 100.73, \"y1\": 101.83}, {\"line\": {\"color\": \"rgb(55, 128, 191)\", \"width\": 1.5}, \"type\": \"line\", \"x0\": 28, \"x1\": 28, \"y0\": 101.06, \"y1\": 102.16}, {\"line\": {\"color\": \"rgb(55, 128, 191)\", \"width\": 1.5}, \"type\": \"line\", \"x0\": 29, \"x1\": 29, \"y0\": 100.78, \"y1\": 101.92}, {\"line\": {\"color\": \"rgb(55, 128, 191)\", \"width\": 1.5}, \"type\": \"line\", \"x0\": 30, \"x1\": 30, \"y0\": 98.16, \"y1\": 99.28}, {\"line\": {\"color\": \"rgb(55, 128, 191)\", \"width\": 1.5}, \"type\": \"line\", \"x0\": 31, \"x1\": 31, \"y0\": 100.91, \"y1\": 102.0}, {\"line\": {\"color\": \"rgb(55, 128, 191)\", \"width\": 1.5}, \"type\": \"line\", \"x0\": 32, \"x1\": 32, \"y0\": 99.72, \"y1\": 100.84}, {\"line\": {\"color\": \"rgb(55, 128, 191)\", \"width\": 1.5}, \"type\": \"line\", \"x0\": 33, \"x1\": 33, \"y0\": 98.1, \"y1\": 99.21}, {\"line\": {\"color\": \"rgb(55, 128, 191)\", \"width\": 1.5}, \"type\": \"line\", \"x0\": 34, \"x1\": 34, \"y0\": 98.07, \"y1\": 99.17}, {\"line\": {\"color\": \"rgb(55, 128, 191)\", \"width\": 1.5}, \"type\": \"line\", \"x0\": 35, \"x1\": 35, \"y0\": 97.57, \"y1\": 98.69}, {\"line\": {\"color\": \"rgb(55, 128, 191)\", \"width\": 1.5}, \"type\": \"line\", \"x0\": 36, \"x1\": 36, \"y0\": 96.97, \"y1\": 98.07}, {\"line\": {\"color\": \"rgb(55, 128, 191)\", \"width\": 1.5}, \"type\": \"line\", \"x0\": 37, \"x1\": 37, \"y0\": 99.07, \"y1\": 100.18}, {\"line\": {\"color\": \"rgb(55, 128, 191)\", \"width\": 1.5}, \"type\": \"line\", \"x0\": 38, \"x1\": 38, \"y0\": 99.54, \"y1\": 100.64}, {\"line\": {\"color\": \"rgb(55, 128, 191)\", \"width\": 1.5}, \"type\": \"line\", \"x0\": 39, \"x1\": 39, \"y0\": 96.94, \"y1\": 98.04}, {\"line\": {\"color\": \"rgb(55, 128, 191)\", \"width\": 1.5}, \"type\": \"line\", \"x0\": 40, \"x1\": 40, \"y0\": 94.34, \"y1\": 95.46}, {\"line\": {\"color\": \"rgb(55, 128, 191)\", \"width\": 1.5}, \"type\": \"line\", \"x0\": 41, \"x1\": 41, \"y0\": 93.27, \"y1\": 94.4}, {\"line\": {\"color\": \"rgb(55, 128, 191)\", \"width\": 1.5}, \"type\": \"line\", \"x0\": 42, \"x1\": 42, \"y0\": 92.65, \"y1\": 93.77}, {\"line\": {\"color\": \"rgb(55, 128, 191)\", \"width\": 1.5}, \"type\": \"line\", \"x0\": 43, \"x1\": 43, \"y0\": 92.48, \"y1\": 93.58}, {\"line\": {\"color\": \"rgb(55, 128, 191)\", \"width\": 1.5}, \"type\": \"line\", \"x0\": 44, \"x1\": 44, \"y0\": 92.31, \"y1\": 93.43}, {\"line\": {\"color\": \"rgb(55, 128, 191)\", \"width\": 1.5}, \"type\": \"line\", \"x0\": 45, \"x1\": 45, \"y0\": 93.01, \"y1\": 94.1}, {\"line\": {\"color\": \"rgb(55, 128, 191)\", \"width\": 1.5}, \"type\": \"line\", \"x0\": 46, \"x1\": 46, \"y0\": 93.61, \"y1\": 94.7}, {\"line\": {\"color\": \"rgb(55, 128, 191)\", \"width\": 1.5}, \"type\": \"line\", \"x0\": 47, \"x1\": 47, \"y0\": 91.15, \"y1\": 92.25}, {\"line\": {\"color\": \"rgb(55, 128, 191)\", \"width\": 1.5}, \"type\": \"line\", \"x0\": 48, \"x1\": 48, \"y0\": 91.47, \"y1\": 92.55}, {\"line\": {\"color\": \"rgb(55, 128, 191)\", \"width\": 1.5}, \"type\": \"line\", \"x0\": 49, \"x1\": 49, \"y0\": 92.34, \"y1\": 93.45}, {\"line\": {\"color\": \"rgb(55, 128, 191)\", \"width\": 1.5}, \"type\": \"line\", \"x0\": 50, \"x1\": 50, \"y0\": 90.31, \"y1\": 91.41}, {\"fillcolor\": \"rgba(255, 0, 0, 0.6)\", \"line\": {\"color\": \"rgb(55, 128, 191)\", \"width\": 1}, \"type\": \"rect\", \"x0\": 0.75, \"x1\": 1.25, \"xref\": \"x\", \"y0\": 99.12, \"y1\": 101.91, \"yref\": \"y\"}, {\"fillcolor\": \"rgba(0, 204, 0, 0.6)\", \"line\": {\"color\": \"rgb(55, 128, 191)\", \"width\": 1}, \"type\": \"rect\", \"x0\": 1.75, \"x1\": 2.25, \"xref\": \"x\", \"y0\": 98.19, \"y1\": 98.77, \"yref\": \"y\"}, {\"fillcolor\": \"rgba(0, 204, 0, 0.6)\", \"line\": {\"color\": \"rgb(55, 128, 191)\", \"width\": 1}, \"type\": \"rect\", \"x0\": 2.75, \"x1\": 3.25, \"xref\": \"x\", \"y0\": 98.85, \"y1\": 99.39, \"yref\": \"y\"}, {\"fillcolor\": \"rgba(0, 204, 0, 0.6)\", \"line\": {\"color\": \"rgb(55, 128, 191)\", \"width\": 1}, \"type\": \"rect\", \"x0\": 3.75, \"x1\": 4.25, \"xref\": \"x\", \"y0\": 98.8, \"y1\": 100.06, \"yref\": \"y\"}, {\"fillcolor\": \"rgba(0, 204, 0, 0.6)\", \"line\": {\"color\": \"rgb(55, 128, 191)\", \"width\": 1}, \"type\": \"rect\", \"x0\": 4.75, \"x1\": 5.25, \"xref\": \"x\", \"y0\": 96.85, \"y1\": 101.12, \"yref\": \"y\"}, {\"fillcolor\": \"rgba(0, 204, 0, 0.6)\", \"line\": {\"color\": \"rgb(55, 128, 191)\", \"width\": 1}, \"type\": \"rect\", \"x0\": 5.75, \"x1\": 6.25, \"xref\": \"x\", \"y0\": 99.28, \"y1\": 100.81, \"yref\": \"y\"}, {\"fillcolor\": \"rgba(255, 0, 0, 0.6)\", \"line\": {\"color\": \"rgb(55, 128, 191)\", \"width\": 1}, \"type\": \"rect\", \"x0\": 6.75, \"x1\": 7.25, \"xref\": \"x\", \"y0\": 101.49, \"y1\": 102.62, \"yref\": \"y\"}, {\"fillcolor\": \"rgba(0, 204, 0, 0.6)\", \"line\": {\"color\": \"rgb(55, 128, 191)\", \"width\": 1}, \"type\": \"rect\", \"x0\": 7.75, \"x1\": 8.25, \"xref\": \"x\", \"y0\": 96.13, \"y1\": 99.6, \"yref\": \"y\"}, {\"fillcolor\": \"rgba(255, 0, 0, 0.6)\", \"line\": {\"color\": \"rgb(55, 128, 191)\", \"width\": 1}, \"type\": \"rect\", \"x0\": 8.75, \"x1\": 9.25, \"xref\": \"x\", \"y0\": 100.03, \"y1\": 101.48, \"yref\": \"y\"}, {\"fillcolor\": \"rgba(255, 0, 0, 0.6)\", \"line\": {\"color\": \"rgb(55, 128, 191)\", \"width\": 1}, \"type\": \"rect\", \"x0\": 9.75, \"x1\": 10.25, \"xref\": \"x\", \"y0\": 99.79, \"y1\": 101.2, \"yref\": \"y\"}, {\"fillcolor\": \"rgba(0, 204, 0, 0.6)\", \"line\": {\"color\": \"rgb(55, 128, 191)\", \"width\": 1}, \"type\": \"rect\", \"x0\": 10.75, \"x1\": 11.25, \"xref\": \"x\", \"y0\": 96.48, \"y1\": 98.62, \"yref\": \"y\"}, {\"fillcolor\": \"rgba(255, 0, 0, 0.6)\", \"line\": {\"color\": \"rgb(55, 128, 191)\", \"width\": 1}, \"type\": \"rect\", \"x0\": 11.75, \"x1\": 12.25, \"xref\": \"x\", \"y0\": 101.86, \"y1\": 103.26, \"yref\": \"y\"}, {\"fillcolor\": \"rgba(0, 204, 0, 0.6)\", \"line\": {\"color\": \"rgb(55, 128, 191)\", \"width\": 1}, \"type\": \"rect\", \"x0\": 12.75, \"x1\": 13.25, \"xref\": \"x\", \"y0\": 102.64, \"y1\": 103.01, \"yref\": \"y\"}, {\"fillcolor\": \"rgba(0, 204, 0, 0.6)\", \"line\": {\"color\": \"rgb(55, 128, 191)\", \"width\": 1}, \"type\": \"rect\", \"x0\": 13.75, \"x1\": 14.25, \"xref\": \"x\", \"y0\": 104.18, \"y1\": 104.55, \"yref\": \"y\"}, {\"fillcolor\": \"rgba(0, 204, 0, 0.6)\", \"line\": {\"color\": \"rgb(55, 128, 191)\", \"width\": 1}, \"type\": \"rect\", \"x0\": 14.75, \"x1\": 15.25, \"xref\": \"x\", \"y0\": 103.2, \"y1\": 104.15, \"yref\": \"y\"}, {\"fillcolor\": \"rgba(255, 0, 0, 0.6)\", \"line\": {\"color\": \"rgb(55, 128, 191)\", \"width\": 1}, \"type\": \"rect\", \"x0\": 15.75, \"x1\": 16.25, \"xref\": \"x\", \"y0\": 103.91, \"y1\": 104.38, \"yref\": \"y\"}, {\"fillcolor\": \"rgba(0, 204, 0, 0.6)\", \"line\": {\"color\": \"rgb(55, 128, 191)\", \"width\": 1}, \"type\": \"rect\", \"x0\": 16.75, \"x1\": 17.25, \"xref\": \"x\", \"y0\": 104.72, \"y1\": 105.52, \"yref\": \"y\"}, {\"fillcolor\": \"rgba(0, 204, 0, 0.6)\", \"line\": {\"color\": \"rgb(55, 128, 191)\", \"width\": 1}, \"type\": \"rect\", \"x0\": 17.75, \"x1\": 18.25, \"xref\": \"x\", \"y0\": 104.84, \"y1\": 105.32, \"yref\": \"y\"}, {\"fillcolor\": \"rgba(255, 0, 0, 0.6)\", \"line\": {\"color\": \"rgb(55, 128, 191)\", \"width\": 1}, \"type\": \"rect\", \"x0\": 18.75, \"x1\": 19.25, \"xref\": \"x\", \"y0\": 103.27, \"y1\": 105.46, \"yref\": \"y\"}, {\"fillcolor\": \"rgba(0, 204, 0, 0.6)\", \"line\": {\"color\": \"rgb(55, 128, 191)\", \"width\": 1}, \"type\": \"rect\", \"x0\": 19.75, \"x1\": 20.25, \"xref\": \"x\", \"y0\": 102.08, \"y1\": 104.13, \"yref\": \"y\"}, {\"fillcolor\": \"rgba(255, 0, 0, 0.6)\", \"line\": {\"color\": \"rgb(55, 128, 191)\", \"width\": 1}, \"type\": \"rect\", \"x0\": 20.75, \"x1\": 21.25, \"xref\": \"x\", \"y0\": 102.73, \"y1\": 105.97, \"yref\": \"y\"}, {\"fillcolor\": \"rgba(0, 204, 0, 0.6)\", \"line\": {\"color\": \"rgb(55, 128, 191)\", \"width\": 1}, \"type\": \"rect\", \"x0\": 21.75, \"x1\": 22.25, \"xref\": \"x\", \"y0\": 102.48, \"y1\": 105.25, \"yref\": \"y\"}, {\"fillcolor\": \"rgba(0, 204, 0, 0.6)\", \"line\": {\"color\": \"rgb(55, 128, 191)\", \"width\": 1}, \"type\": \"rect\", \"x0\": 22.75, \"x1\": 23.25, \"xref\": \"x\", \"y0\": 102.05, \"y1\": 105.07, \"yref\": \"y\"}, {\"fillcolor\": \"rgba(255, 0, 0, 0.6)\", \"line\": {\"color\": \"rgb(55, 128, 191)\", \"width\": 1}, \"type\": \"rect\", \"x0\": 23.75, \"x1\": 24.25, \"xref\": \"x\", \"y0\": 104.75, \"y1\": 104.88, \"yref\": \"y\"}, {\"fillcolor\": \"rgba(255, 0, 0, 0.6)\", \"line\": {\"color\": \"rgb(55, 128, 191)\", \"width\": 1}, \"type\": \"rect\", \"x0\": 24.75, \"x1\": 25.25, \"xref\": \"x\", \"y0\": 103.67, \"y1\": 103.77, \"yref\": \"y\"}, {\"fillcolor\": \"rgba(0, 204, 0, 0.6)\", \"line\": {\"color\": \"rgb(55, 128, 191)\", \"width\": 1}, \"type\": \"rect\", \"x0\": 25.75, \"x1\": 26.25, \"xref\": \"x\", \"y0\": 100.76, \"y1\": 101.57, \"yref\": \"y\"}, {\"fillcolor\": \"rgba(255, 0, 0, 0.6)\", \"line\": {\"color\": \"rgb(55, 128, 191)\", \"width\": 1}, \"type\": \"rect\", \"x0\": 26.75, \"x1\": 27.25, \"xref\": \"x\", \"y0\": 101.83, \"y1\": 104.83, \"yref\": \"y\"}, {\"fillcolor\": \"rgba(255, 0, 0, 0.6)\", \"line\": {\"color\": \"rgb(55, 128, 191)\", \"width\": 1}, \"type\": \"rect\", \"x0\": 27.75, \"x1\": 28.25, \"xref\": \"x\", \"y0\": 102.16, \"y1\": 104.91, \"yref\": \"y\"}, {\"fillcolor\": \"rgba(255, 0, 0, 0.6)\", \"line\": {\"color\": \"rgb(55, 128, 191)\", \"width\": 1}, \"type\": \"rect\", \"x0\": 28.75, \"x1\": 29.25, \"xref\": \"x\", \"y0\": 101.92, \"y1\": 104.23, \"yref\": \"y\"}, {\"fillcolor\": \"rgba(0, 204, 0, 0.6)\", \"line\": {\"color\": \"rgb(55, 128, 191)\", \"width\": 1}, \"type\": \"rect\", \"x0\": 29.75, \"x1\": 30.25, \"xref\": \"x\", \"y0\": 99.28, \"y1\": 101.2, \"yref\": \"y\"}, {\"fillcolor\": \"rgba(255, 0, 0, 0.6)\", \"line\": {\"color\": \"rgb(55, 128, 191)\", \"width\": 1}, \"type\": \"rect\", \"x0\": 30.75, \"x1\": 31.25, \"xref\": \"x\", \"y0\": 102.0, \"y1\": 102.37, \"yref\": \"y\"}, {\"fillcolor\": \"rgba(255, 0, 0, 0.6)\", \"line\": {\"color\": \"rgb(55, 128, 191)\", \"width\": 1}, \"type\": \"rect\", \"x0\": 31.75, \"x1\": 32.25, \"xref\": \"x\", \"y0\": 100.84, \"y1\": 101.41, \"yref\": \"y\"}, {\"fillcolor\": \"rgba(0, 204, 0, 0.6)\", \"line\": {\"color\": \"rgb(55, 128, 191)\", \"width\": 1}, \"type\": \"rect\", \"x0\": 32.75, \"x1\": 33.25, \"xref\": \"x\", \"y0\": 99.21, \"y1\": 99.49, \"yref\": \"y\"}, {\"fillcolor\": \"rgba(0, 204, 0, 0.6)\", \"line\": {\"color\": \"rgb(55, 128, 191)\", \"width\": 1}, \"type\": \"rect\", \"x0\": 33.75, \"x1\": 34.25, \"xref\": \"x\", \"y0\": 99.17, \"y1\": 100.3, \"yref\": \"y\"}, {\"fillcolor\": \"rgba(255, 0, 0, 0.6)\", \"line\": {\"color\": \"rgb(55, 128, 191)\", \"width\": 1}, \"type\": \"rect\", \"x0\": 34.75, \"x1\": 35.25, \"xref\": \"x\", \"y0\": 98.69, \"y1\": 100.04, \"yref\": \"y\"}, {\"fillcolor\": \"rgba(0, 204, 0, 0.6)\", \"line\": {\"color\": \"rgb(55, 128, 191)\", \"width\": 1}, \"type\": \"rect\", \"x0\": 35.75, \"x1\": 36.25, \"xref\": \"x\", \"y0\": 98.07, \"y1\": 98.15, \"yref\": \"y\"}, {\"fillcolor\": \"rgba(255, 0, 0, 0.6)\", \"line\": {\"color\": \"rgb(55, 128, 191)\", \"width\": 1}, \"type\": \"rect\", \"x0\": 36.75, \"x1\": 37.25, \"xref\": \"x\", \"y0\": 100.18, \"y1\": 100.31, \"yref\": \"y\"}, {\"fillcolor\": \"rgba(255, 0, 0, 0.6)\", \"line\": {\"color\": \"rgb(55, 128, 191)\", \"width\": 1}, \"type\": \"rect\", \"x0\": 37.75, \"x1\": 38.25, \"xref\": \"x\", \"y0\": 100.64, \"y1\": 103.25, \"yref\": \"y\"}, {\"fillcolor\": \"rgba(255, 0, 0, 0.6)\", \"line\": {\"color\": \"rgb(55, 128, 191)\", \"width\": 1}, \"type\": \"rect\", \"x0\": 38.75, \"x1\": 39.25, \"xref\": \"x\", \"y0\": 98.04, \"y1\": 98.5, \"yref\": \"y\"}, {\"fillcolor\": \"rgba(255, 0, 0, 0.6)\", \"line\": {\"color\": \"rgb(55, 128, 191)\", \"width\": 1}, \"type\": \"rect\", \"x0\": 39.75, \"x1\": 40.25, \"xref\": \"x\", \"y0\": 95.46, \"y1\": 96.91, \"yref\": \"y\"}, {\"fillcolor\": \"rgba(255, 0, 0, 0.6)\", \"line\": {\"color\": \"rgb(55, 128, 191)\", \"width\": 1}, \"type\": \"rect\", \"x0\": 40.75, \"x1\": 41.25, \"xref\": \"x\", \"y0\": 94.4, \"y1\": 95.96, \"yref\": \"y\"}, {\"fillcolor\": \"rgba(255, 0, 0, 0.6)\", \"line\": {\"color\": \"rgb(55, 128, 191)\", \"width\": 1}, \"type\": \"rect\", \"x0\": 41.75, \"x1\": 42.25, \"xref\": \"x\", \"y0\": 93.77, \"y1\": 94.8, \"yref\": \"y\"}, {\"fillcolor\": \"rgba(0, 204, 0, 0.6)\", \"line\": {\"color\": \"rgb(55, 128, 191)\", \"width\": 1}, \"type\": \"rect\", \"x0\": 42.75, \"x1\": 43.25, \"xref\": \"x\", \"y0\": 93.58, \"y1\": 93.81, \"yref\": \"y\"}, {\"fillcolor\": \"rgba(255, 0, 0, 0.6)\", \"line\": {\"color\": \"rgb(55, 128, 191)\", \"width\": 1}, \"type\": \"rect\", \"x0\": 43.75, \"x1\": 44.25, \"xref\": \"x\", \"y0\": 93.43, \"y1\": 95.18, \"yref\": \"y\"}, {\"fillcolor\": \"rgba(255, 0, 0, 0.6)\", \"line\": {\"color\": \"rgb(55, 128, 191)\", \"width\": 1}, \"type\": \"rect\", \"x0\": 44.75, \"x1\": 45.25, \"xref\": \"x\", \"y0\": 94.1, \"y1\": 94.99, \"yref\": \"y\"}, {\"fillcolor\": \"rgba(0, 204, 0, 0.6)\", \"line\": {\"color\": \"rgb(55, 128, 191)\", \"width\": 1}, \"type\": \"rect\", \"x0\": 45.75, \"x1\": 46.25, \"xref\": \"x\", \"y0\": 94.7, \"y1\": 95.03, \"yref\": \"y\"}, {\"fillcolor\": \"rgba(0, 204, 0, 0.6)\", \"line\": {\"color\": \"rgb(55, 128, 191)\", \"width\": 1}, \"type\": \"rect\", \"x0\": 46.75, \"x1\": 47.25, \"xref\": \"x\", \"y0\": 92.25, \"y1\": 94.86, \"yref\": \"y\"}, {\"fillcolor\": \"rgba(0, 204, 0, 0.6)\", \"line\": {\"color\": \"rgb(55, 128, 191)\", \"width\": 1}, \"type\": \"rect\", \"x0\": 47.75, \"x1\": 48.25, \"xref\": \"x\", \"y0\": 92.55, \"y1\": 95.37, \"yref\": \"y\"}, {\"fillcolor\": \"rgba(0, 204, 0, 0.6)\", \"line\": {\"color\": \"rgb(55, 128, 191)\", \"width\": 1}, \"type\": \"rect\", \"x0\": 48.75, \"x1\": 49.25, \"xref\": \"x\", \"y0\": 93.45, \"y1\": 95.12, \"yref\": \"y\"}, {\"fillcolor\": \"rgba(0, 204, 0, 0.6)\", \"line\": {\"color\": \"rgb(55, 128, 191)\", \"width\": 1}, \"type\": \"rect\", \"x0\": 49.75, \"x1\": 50.25, \"xref\": \"x\", \"y0\": 91.41, \"y1\": 94.55, \"yref\": \"y\"}, {\"line\": {\"color\": \"rgb(55, 128, 191)\", \"width\": 1.5}, \"type\": \"line\", \"x0\": 1, \"x1\": 1, \"y0\": 101.91, \"y1\": 103.05}, {\"line\": {\"color\": \"rgb(55, 128, 191)\", \"width\": 1.5}, \"type\": \"line\", \"x0\": 2, \"x1\": 2, \"y0\": 98.77, \"y1\": 99.86}, {\"line\": {\"color\": \"rgb(55, 128, 191)\", \"width\": 1.5}, \"type\": \"line\", \"x0\": 3, \"x1\": 3, \"y0\": 99.39, \"y1\": 100.48}, {\"line\": {\"color\": \"rgb(55, 128, 191)\", \"width\": 1.5}, \"type\": \"line\", \"x0\": 4, \"x1\": 4, \"y0\": 100.06, \"y1\": 101.16}, {\"line\": {\"color\": \"rgb(55, 128, 191)\", \"width\": 1.5}, \"type\": \"line\", \"x0\": 5, \"x1\": 5, \"y0\": 101.12, \"y1\": 102.23}, {\"line\": {\"color\": \"rgb(55, 128, 191)\", \"width\": 1.5}, \"type\": \"line\", \"x0\": 6, \"x1\": 6, \"y0\": 100.81, \"y1\": 101.91}, {\"line\": {\"color\": \"rgb(55, 128, 191)\", \"width\": 1.5}, \"type\": \"line\", \"x0\": 7, \"x1\": 7, \"y0\": 102.62, \"y1\": 103.74}, {\"line\": {\"color\": \"rgb(55, 128, 191)\", \"width\": 1.5}, \"type\": \"line\", \"x0\": 8, \"x1\": 8, \"y0\": 99.6, \"y1\": 100.72}, {\"line\": {\"color\": \"rgb(55, 128, 191)\", \"width\": 1.5}, \"type\": \"line\", \"x0\": 9, \"x1\": 9, \"y0\": 101.48, \"y1\": 102.58}, {\"line\": {\"color\": \"rgb(55, 128, 191)\", \"width\": 1.5}, \"type\": \"line\", \"x0\": 10, \"x1\": 10, \"y0\": 101.2, \"y1\": 102.29}, {\"line\": {\"color\": \"rgb(55, 128, 191)\", \"width\": 1.5}, \"type\": \"line\", \"x0\": 11, \"x1\": 11, \"y0\": 98.62, \"y1\": 99.73}, {\"line\": {\"color\": \"rgb(55, 128, 191)\", \"width\": 1.5}, \"type\": \"line\", \"x0\": 12, \"x1\": 12, \"y0\": 103.26, \"y1\": 104.38}, {\"line\": {\"color\": \"rgb(55, 128, 191)\", \"width\": 1.5}, \"type\": \"line\", \"x0\": 13, \"x1\": 13, \"y0\": 103.01, \"y1\": 104.12}, {\"line\": {\"color\": \"rgb(55, 128, 191)\", \"width\": 1.5}, \"type\": \"line\", \"x0\": 14, \"x1\": 14, \"y0\": 104.55, \"y1\": 105.66}, {\"line\": {\"color\": \"rgb(55, 128, 191)\", \"width\": 1.5}, \"type\": \"line\", \"x0\": 15, \"x1\": 15, \"y0\": 104.15, \"y1\": 105.24}, {\"line\": {\"color\": \"rgb(55, 128, 191)\", \"width\": 1.5}, \"type\": \"line\", \"x0\": 16, \"x1\": 16, \"y0\": 104.38, \"y1\": 105.49}, {\"line\": {\"color\": \"rgb(55, 128, 191)\", \"width\": 1.5}, \"type\": \"line\", \"x0\": 17, \"x1\": 17, \"y0\": 105.52, \"y1\": 106.63}, {\"line\": {\"color\": \"rgb(55, 128, 191)\", \"width\": 1.5}, \"type\": \"line\", \"x0\": 18, \"x1\": 18, \"y0\": 105.32, \"y1\": 106.44}, {\"line\": {\"color\": \"rgb(55, 128, 191)\", \"width\": 1.5}, \"type\": \"line\", \"x0\": 19, \"x1\": 19, \"y0\": 105.46, \"y1\": 106.55}, {\"line\": {\"color\": \"rgb(55, 128, 191)\", \"width\": 1.5}, \"type\": \"line\", \"x0\": 20, \"x1\": 20, \"y0\": 104.13, \"y1\": 105.23}, {\"line\": {\"color\": \"rgb(55, 128, 191)\", \"width\": 1.5}, \"type\": \"line\", \"x0\": 21, \"x1\": 21, \"y0\": 105.97, \"y1\": 107.08}, {\"line\": {\"color\": \"rgb(55, 128, 191)\", \"width\": 1.5}, \"type\": \"line\", \"x0\": 22, \"x1\": 22, \"y0\": 105.25, \"y1\": 106.38}, {\"line\": {\"color\": \"rgb(55, 128, 191)\", \"width\": 1.5}, \"type\": \"line\", \"x0\": 23, \"x1\": 23, \"y0\": 105.07, \"y1\": 106.17}, {\"line\": {\"color\": \"rgb(55, 128, 191)\", \"width\": 1.5}, \"type\": \"line\", \"x0\": 24, \"x1\": 24, \"y0\": 104.88, \"y1\": 106.0}, {\"line\": {\"color\": \"rgb(55, 128, 191)\", \"width\": 1.5}, \"type\": \"line\", \"x0\": 25, \"x1\": 25, \"y0\": 103.77, \"y1\": 104.87}, {\"line\": {\"color\": \"rgb(55, 128, 191)\", \"width\": 1.5}, \"type\": \"line\", \"x0\": 26, \"x1\": 26, \"y0\": 101.57, \"y1\": 102.68}, {\"line\": {\"color\": \"rgb(55, 128, 191)\", \"width\": 1.5}, \"type\": \"line\", \"x0\": 27, \"x1\": 27, \"y0\": 104.83, \"y1\": 105.92}, {\"line\": {\"color\": \"rgb(55, 128, 191)\", \"width\": 1.5}, \"type\": \"line\", \"x0\": 28, \"x1\": 28, \"y0\": 104.91, \"y1\": 106.01}, {\"line\": {\"color\": \"rgb(55, 128, 191)\", \"width\": 1.5}, \"type\": \"line\", \"x0\": 29, \"x1\": 29, \"y0\": 104.23, \"y1\": 105.34}, {\"line\": {\"color\": \"rgb(55, 128, 191)\", \"width\": 1.5}, \"type\": \"line\", \"x0\": 30, \"x1\": 30, \"y0\": 101.2, \"y1\": 102.3}, {\"line\": {\"color\": \"rgb(55, 128, 191)\", \"width\": 1.5}, \"type\": \"line\", \"x0\": 31, \"x1\": 31, \"y0\": 102.37, \"y1\": 103.45}, {\"line\": {\"color\": \"rgb(55, 128, 191)\", \"width\": 1.5}, \"type\": \"line\", \"x0\": 32, \"x1\": 32, \"y0\": 101.41, \"y1\": 102.51}, {\"line\": {\"color\": \"rgb(55, 128, 191)\", \"width\": 1.5}, \"type\": \"line\", \"x0\": 33, \"x1\": 33, \"y0\": 99.49, \"y1\": 100.59}, {\"line\": {\"color\": \"rgb(55, 128, 191)\", \"width\": 1.5}, \"type\": \"line\", \"x0\": 34, \"x1\": 34, \"y0\": 100.3, \"y1\": 101.43}, {\"line\": {\"color\": \"rgb(55, 128, 191)\", \"width\": 1.5}, \"type\": \"line\", \"x0\": 35, \"x1\": 35, \"y0\": 100.04, \"y1\": 101.15}, {\"line\": {\"color\": \"rgb(55, 128, 191)\", \"width\": 1.5}, \"type\": \"line\", \"x0\": 36, \"x1\": 36, \"y0\": 98.15, \"y1\": 99.25}, {\"line\": {\"color\": \"rgb(55, 128, 191)\", \"width\": 1.5}, \"type\": \"line\", \"x0\": 37, \"x1\": 37, \"y0\": 100.31, \"y1\": 101.4}, {\"line\": {\"color\": \"rgb(55, 128, 191)\", \"width\": 1.5}, \"type\": \"line\", \"x0\": 38, \"x1\": 38, \"y0\": 103.25, \"y1\": 104.33}, {\"line\": {\"color\": \"rgb(55, 128, 191)\", \"width\": 1.5}, \"type\": \"line\", \"x0\": 39, \"x1\": 39, \"y0\": 98.5, \"y1\": 99.62}, {\"line\": {\"color\": \"rgb(55, 128, 191)\", \"width\": 1.5}, \"type\": \"line\", \"x0\": 40, \"x1\": 40, \"y0\": 96.91, \"y1\": 98.0}, {\"line\": {\"color\": \"rgb(55, 128, 191)\", \"width\": 1.5}, \"type\": \"line\", \"x0\": 41, \"x1\": 41, \"y0\": 95.96, \"y1\": 97.08}, {\"line\": {\"color\": \"rgb(55, 128, 191)\", \"width\": 1.5}, \"type\": \"line\", \"x0\": 42, \"x1\": 42, \"y0\": 94.8, \"y1\": 95.91}, {\"line\": {\"color\": \"rgb(55, 128, 191)\", \"width\": 1.5}, \"type\": \"line\", \"x0\": 43, \"x1\": 43, \"y0\": 93.81, \"y1\": 94.93}, {\"line\": {\"color\": \"rgb(55, 128, 191)\", \"width\": 1.5}, \"type\": \"line\", \"x0\": 44, \"x1\": 44, \"y0\": 95.18, \"y1\": 96.27}, {\"line\": {\"color\": \"rgb(55, 128, 191)\", \"width\": 1.5}, \"type\": \"line\", \"x0\": 45, \"x1\": 45, \"y0\": 94.99, \"y1\": 96.07}, {\"line\": {\"color\": \"rgb(55, 128, 191)\", \"width\": 1.5}, \"type\": \"line\", \"x0\": 46, \"x1\": 46, \"y0\": 95.03, \"y1\": 96.14}, {\"line\": {\"color\": \"rgb(55, 128, 191)\", \"width\": 1.5}, \"type\": \"line\", \"x0\": 47, \"x1\": 47, \"y0\": 94.86, \"y1\": 95.96}, {\"line\": {\"color\": \"rgb(55, 128, 191)\", \"width\": 1.5}, \"type\": \"line\", \"x0\": 48, \"x1\": 48, \"y0\": 95.37, \"y1\": 96.48}, {\"line\": {\"color\": \"rgb(55, 128, 191)\", \"width\": 1.5}, \"type\": \"line\", \"x0\": 49, \"x1\": 49, \"y0\": 95.12, \"y1\": 96.23}, {\"line\": {\"color\": \"rgb(55, 128, 191)\", \"width\": 1.5}, \"type\": \"line\", \"x0\": 50, \"x1\": 50, \"y0\": 94.55, \"y1\": 95.64}], \"showlegend\": false, \"title\": \"Random Walk\", \"xaxis\": {\"anchor\": \"y2\", \"showgrid\": true, \"showticklabels\": true, \"tickangle\": 90, \"tickmode\": \"array\", \"ticktext\": [20190517, 20190521, 20190523, 20190527, 20190529, 20190531, 20190604, 20190606, 20190610, 20190612, 20190614, 20190618, 20190620, 20190624, 20190626, 20190628, 20190702, 20190704, 20190708, 20190710, 20190712, 20190716, 20190718, 20190722, 20190724, 20190725], \"tickvals\": [1, 3, 5, 7, 9, 11, 13, 15, 17, 19, 21, 23, 25, 27, 29, 31, 33, 35, 37, 39, 41, 43, 45, 47, 49, 50]}, \"yaxis\": {\"domain\": [0.22, 1], \"range\": [90.31, 107.08]}, \"yaxis2\": {\"domain\": [0, 0.2], \"range\": [0, 1507285.0]}}, {\"showLink\": true, \"linkText\": \"Export to plot.ly\"})});</script>"
      ],
      "text/vnd.plotly.v1+html": [
       "<div id=\"6797be0d-6fed-424f-a077-b77d927b9cfe\" style=\"height: 525px; width: 100%;\" class=\"plotly-graph-div\"></div><script type=\"text/javascript\">require([\"plotly\"], function(Plotly) { window.PLOTLYENV=window.PLOTLYENV || {};window.PLOTLYENV.BASE_URL=\"https://plot.ly\";Plotly.newPlot(\"6797be0d-6fed-424f-a077-b77d927b9cfe\", [{\"hoverinfo\": \"text\", \"mode\": \"markers\", \"text\": [\"date: 20190517.0<br>open: 101.91<br>high: 103.05<br>low: 98.0<br>close: 99.12<br>volume: 1317099.0\", \"date: 20190520.0<br>open: 98.19<br>high: 99.86<br>low: 97.09<br>close: 98.77<br>volume: 1297101.0\", \"date: 20190521.0<br>open: 98.85<br>high: 100.48<br>low: 97.77<br>close: 99.39<br>volume: 1349345.0\", \"date: 20190522.0<br>open: 98.8<br>high: 101.16<br>low: 97.7<br>close: 100.06<br>volume: 1303767.0\", \"date: 20190523.0<br>open: 96.85<br>high: 102.23<br>low: 95.74<br>close: 101.12<br>volume: 1293155.0\", \"date: 20190524.0<br>open: 99.28<br>high: 101.91<br>low: 98.17<br>close: 100.81<br>volume: 1327404.0\", \"date: 20190527.0<br>open: 102.62<br>high: 103.74<br>low: 100.4<br>close: 101.49<br>volume: 1325228.0\", \"date: 20190528.0<br>open: 96.13<br>high: 100.72<br>low: 95.0<br>close: 99.6<br>volume: 1282694.0\", \"date: 20190529.0<br>open: 101.48<br>high: 102.58<br>low: 98.92<br>close: 100.03<br>volume: 1229502.0\", \"date: 20190530.0<br>open: 101.2<br>high: 102.29<br>low: 98.67<br>close: 99.79<br>volume: 1249271.0\", \"date: 20190531.0<br>open: 96.48<br>high: 99.73<br>low: 95.37<br>close: 98.62<br>volume: 1278860.0\", \"date: 20190603.0<br>open: 103.26<br>high: 104.38<br>low: 100.76<br>close: 101.86<br>volume: 1304090.0\", \"date: 20190604.0<br>open: 102.64<br>high: 104.12<br>low: 101.53<br>close: 103.01<br>volume: 1390095.0\", \"date: 20190605.0<br>open: 104.18<br>high: 105.66<br>low: 103.09<br>close: 104.55<br>volume: 1387546.0\", \"date: 20190606.0<br>open: 103.2<br>high: 105.24<br>low: 102.1<br>close: 104.15<br>volume: 1350877.0\", \"date: 20190607.0<br>open: 104.38<br>high: 105.49<br>low: 102.78<br>close: 103.91<br>volume: 1357093.0\", \"date: 20190610.0<br>open: 104.72<br>high: 106.63<br>low: 103.61<br>close: 105.52<br>volume: 1347121.0\", \"date: 20190611.0<br>open: 104.84<br>high: 106.44<br>low: 103.76<br>close: 105.32<br>volume: 1361006.0\", \"date: 20190612.0<br>open: 105.46<br>high: 106.55<br>low: 102.17<br>close: 103.27<br>volume: 1436072.0\", \"date: 20190613.0<br>open: 102.08<br>high: 105.23<br>low: 100.98<br>close: 104.13<br>volume: 1328566.0\", \"date: 20190614.0<br>open: 105.97<br>high: 107.08<br>low: 101.62<br>close: 102.73<br>volume: 1280587.0\", \"date: 20190617.0<br>open: 102.48<br>high: 106.38<br>low: 101.37<br>close: 105.25<br>volume: 1349745.0\", \"date: 20190618.0<br>open: 102.05<br>high: 106.17<br>low: 100.96<br>close: 105.07<br>volume: 1366529.0\", \"date: 20190619.0<br>open: 104.88<br>high: 106.0<br>low: 103.64<br>close: 104.75<br>volume: 1379434.0\", \"date: 20190620.0<br>open: 103.77<br>high: 104.87<br>low: 102.55<br>close: 103.67<br>volume: 1390020.0\", \"date: 20190621.0<br>open: 100.76<br>high: 102.68<br>low: 99.68<br>close: 101.57<br>volume: 1368857.0\", \"date: 20190624.0<br>open: 104.83<br>high: 105.92<br>low: 100.73<br>close: 101.83<br>volume: 1349611.0\", \"date: 20190625.0<br>open: 104.91<br>high: 106.01<br>low: 101.06<br>close: 102.16<br>volume: 1378415.0\", \"date: 20190626.0<br>open: 104.23<br>high: 105.34<br>low: 100.78<br>close: 101.92<br>volume: 1414065.0\", \"date: 20190627.0<br>open: 99.28<br>high: 102.3<br>low: 98.16<br>close: 101.2<br>volume: 1355548.0\", \"date: 20190628.0<br>open: 102.37<br>high: 103.45<br>low: 100.91<br>close: 102.0<br>volume: 1371480.0\", \"date: 20190701.0<br>open: 101.41<br>high: 102.51<br>low: 99.72<br>close: 100.84<br>volume: 1433200.0\", \"date: 20190702.0<br>open: 99.21<br>high: 100.59<br>low: 98.1<br>close: 99.49<br>volume: 1507285.0\", \"date: 20190703.0<br>open: 99.17<br>high: 101.43<br>low: 98.07<br>close: 100.3<br>volume: 1467061.0\", \"date: 20190704.0<br>open: 100.04<br>high: 101.15<br>low: 97.57<br>close: 98.69<br>volume: 1491500.0\", \"date: 20190705.0<br>open: 98.07<br>high: 99.25<br>low: 96.97<br>close: 98.15<br>volume: 1459459.0\", \"date: 20190708.0<br>open: 100.31<br>high: 101.4<br>low: 99.07<br>close: 100.18<br>volume: 1504075.0\", \"date: 20190709.0<br>open: 103.25<br>high: 104.33<br>low: 99.54<br>close: 100.64<br>volume: 1460040.0\", \"date: 20190710.0<br>open: 98.5<br>high: 99.62<br>low: 96.94<br>close: 98.04<br>volume: 1386740.0\", \"date: 20190711.0<br>open: 96.91<br>high: 98.0<br>low: 94.34<br>close: 95.46<br>volume: 1352060.0\", \"date: 20190712.0<br>open: 95.96<br>high: 97.08<br>low: 93.27<br>close: 94.4<br>volume: 1259117.0\", \"date: 20190715.0<br>open: 94.8<br>high: 95.91<br>low: 92.65<br>close: 93.77<br>volume: 1354809.0\", \"date: 20190716.0<br>open: 93.58<br>high: 94.93<br>low: 92.48<br>close: 93.81<br>volume: 1367099.0\", \"date: 20190717.0<br>open: 95.18<br>high: 96.27<br>low: 92.31<br>close: 93.43<br>volume: 1332122.0\", \"date: 20190718.0<br>open: 94.99<br>high: 96.07<br>low: 93.01<br>close: 94.1<br>volume: 1316868.0\", \"date: 20190719.0<br>open: 94.7<br>high: 96.14<br>low: 93.61<br>close: 95.03<br>volume: 1284454.0\", \"date: 20190722.0<br>open: 92.25<br>high: 95.96<br>low: 91.15<br>close: 94.86<br>volume: 1291802.0\", \"date: 20190723.0<br>open: 92.55<br>high: 96.48<br>low: 91.47<br>close: 95.37<br>volume: 1265041.0\", \"date: 20190724.0<br>open: 93.45<br>high: 96.23<br>low: 92.34<br>close: 95.12<br>volume: 1331263.0\", \"date: 20190725.0<br>open: 91.41<br>high: 95.64<br>low: 90.31<br>close: 94.55<br>volume: 1341539.0\"], \"x\": [1, 2, 3, 4, 5, 6, 7, 8, 9, 10, 11, 12, 13, 14, 15, 16, 17, 18, 19, 20, 21, 22, 23, 24, 25, 26, 27, 28, 29, 30, 31, 32, 33, 34, 35, 36, 37, 38, 39, 40, 41, 42, 43, 44, 45, 46, 47, 48, 49, 50], \"xaxis\": \"x\", \"y\": [99.12, 98.77, 99.39, 100.06, 101.12, 100.81, 101.49, 99.6, 100.03, 99.79, 98.62, 101.86, 103.01, 104.55, 104.15, 103.91, 105.52, 105.32, 103.27, 104.13, 102.73, 105.25, 105.07, 104.75, 103.67, 101.57, 101.83, 102.16, 101.92, 101.2, 102.0, 100.84, 99.49, 100.3, 98.69, 98.15, 100.18, 100.64, 98.04, 95.46, 94.4, 93.77, 93.81, 93.43, 94.1, 95.03, 94.86, 95.37, 95.12, 94.55], \"yaxis\": \"y\", \"type\": \"scatter\", \"uid\": \"d28736c8-aed5-11e9-80dd-8c859025e7f9\"}, {\"width\": 0.5, \"x\": [1, 2, 3, 4, 5, 6, 7, 8, 9, 10, 11, 12, 13, 14, 15, 16, 17, 18, 19, 20, 21, 22, 23, 24, 25, 26, 27, 28, 29, 30, 31, 32, 33, 34, 35, 36, 37, 38, 39, 40, 41, 42, 43, 44, 45, 46, 47, 48, 49, 50], \"xaxis\": \"x\", \"y\": [1317099.0, 1297101.0, 1349345.0, 1303767.0, 1293155.0, 1327404.0, 1325228.0, 1282694.0, 1229502.0, 1249271.0, 1278860.0, 1304090.0, 1390095.0, 1387546.0, 1350877.0, 1357093.0, 1347121.0, 1361006.0, 1436072.0, 1328566.0, 1280587.0, 1349745.0, 1366529.0, 1379434.0, 1390020.0, 1368857.0, 1349611.0, 1378415.0, 1414065.0, 1355548.0, 1371480.0, 1433200.0, 1507285.0, 1467061.0, 1491500.0, 1459459.0, 1504075.0, 1460040.0, 1386740.0, 1352060.0, 1259117.0, 1354809.0, 1367099.0, 1332122.0, 1316868.0, 1284454.0, 1291802.0, 1265041.0, 1331263.0, 1341539.0], \"yaxis\": \"y2\", \"type\": \"bar\", \"uid\": \"d287383a-aed5-11e9-91b2-8c859025e7f9\"}], {\"margin\": {\"t\": 100}, \"shapes\": [{\"line\": {\"color\": \"rgb(55, 128, 191)\", \"width\": 1.5}, \"type\": \"line\", \"x0\": 1, \"x1\": 1, \"y0\": 98.0, \"y1\": 99.12}, {\"line\": {\"color\": \"rgb(55, 128, 191)\", \"width\": 1.5}, \"type\": \"line\", \"x0\": 2, \"x1\": 2, \"y0\": 97.09, \"y1\": 98.19}, {\"line\": {\"color\": \"rgb(55, 128, 191)\", \"width\": 1.5}, \"type\": \"line\", \"x0\": 3, \"x1\": 3, \"y0\": 97.77, \"y1\": 98.85}, {\"line\": {\"color\": \"rgb(55, 128, 191)\", \"width\": 1.5}, \"type\": \"line\", \"x0\": 4, \"x1\": 4, \"y0\": 97.7, \"y1\": 98.8}, {\"line\": {\"color\": \"rgb(55, 128, 191)\", \"width\": 1.5}, \"type\": \"line\", \"x0\": 5, \"x1\": 5, \"y0\": 95.74, \"y1\": 96.85}, {\"line\": {\"color\": \"rgb(55, 128, 191)\", \"width\": 1.5}, \"type\": \"line\", \"x0\": 6, \"x1\": 6, \"y0\": 98.17, \"y1\": 99.28}, {\"line\": {\"color\": \"rgb(55, 128, 191)\", \"width\": 1.5}, \"type\": \"line\", \"x0\": 7, \"x1\": 7, \"y0\": 100.4, \"y1\": 101.49}, {\"line\": {\"color\": \"rgb(55, 128, 191)\", \"width\": 1.5}, \"type\": \"line\", \"x0\": 8, \"x1\": 8, \"y0\": 95.0, \"y1\": 96.13}, {\"line\": {\"color\": \"rgb(55, 128, 191)\", \"width\": 1.5}, \"type\": \"line\", \"x0\": 9, \"x1\": 9, \"y0\": 98.92, \"y1\": 100.03}, {\"line\": {\"color\": \"rgb(55, 128, 191)\", \"width\": 1.5}, \"type\": \"line\", \"x0\": 10, \"x1\": 10, \"y0\": 98.67, \"y1\": 99.79}, {\"line\": {\"color\": \"rgb(55, 128, 191)\", \"width\": 1.5}, \"type\": \"line\", \"x0\": 11, \"x1\": 11, \"y0\": 95.37, \"y1\": 96.48}, {\"line\": {\"color\": \"rgb(55, 128, 191)\", \"width\": 1.5}, \"type\": \"line\", \"x0\": 12, \"x1\": 12, \"y0\": 100.76, \"y1\": 101.86}, {\"line\": {\"color\": \"rgb(55, 128, 191)\", \"width\": 1.5}, \"type\": \"line\", \"x0\": 13, \"x1\": 13, \"y0\": 101.53, \"y1\": 102.64}, {\"line\": {\"color\": \"rgb(55, 128, 191)\", \"width\": 1.5}, \"type\": \"line\", \"x0\": 14, \"x1\": 14, \"y0\": 103.09, \"y1\": 104.18}, {\"line\": {\"color\": \"rgb(55, 128, 191)\", \"width\": 1.5}, \"type\": \"line\", \"x0\": 15, \"x1\": 15, \"y0\": 102.1, \"y1\": 103.2}, {\"line\": {\"color\": \"rgb(55, 128, 191)\", \"width\": 1.5}, \"type\": \"line\", \"x0\": 16, \"x1\": 16, \"y0\": 102.78, \"y1\": 103.91}, {\"line\": {\"color\": \"rgb(55, 128, 191)\", \"width\": 1.5}, \"type\": \"line\", \"x0\": 17, \"x1\": 17, \"y0\": 103.61, \"y1\": 104.72}, {\"line\": {\"color\": \"rgb(55, 128, 191)\", \"width\": 1.5}, \"type\": \"line\", \"x0\": 18, \"x1\": 18, \"y0\": 103.76, \"y1\": 104.84}, {\"line\": {\"color\": \"rgb(55, 128, 191)\", \"width\": 1.5}, \"type\": \"line\", \"x0\": 19, \"x1\": 19, \"y0\": 102.17, \"y1\": 103.27}, {\"line\": {\"color\": \"rgb(55, 128, 191)\", \"width\": 1.5}, \"type\": \"line\", \"x0\": 20, \"x1\": 20, \"y0\": 100.98, \"y1\": 102.08}, {\"line\": {\"color\": \"rgb(55, 128, 191)\", \"width\": 1.5}, \"type\": \"line\", \"x0\": 21, \"x1\": 21, \"y0\": 101.62, \"y1\": 102.73}, {\"line\": {\"color\": \"rgb(55, 128, 191)\", \"width\": 1.5}, \"type\": \"line\", \"x0\": 22, \"x1\": 22, \"y0\": 101.37, \"y1\": 102.48}, {\"line\": {\"color\": \"rgb(55, 128, 191)\", \"width\": 1.5}, \"type\": \"line\", \"x0\": 23, \"x1\": 23, \"y0\": 100.96, \"y1\": 102.05}, {\"line\": {\"color\": \"rgb(55, 128, 191)\", \"width\": 1.5}, \"type\": \"line\", \"x0\": 24, \"x1\": 24, \"y0\": 103.64, \"y1\": 104.75}, {\"line\": {\"color\": \"rgb(55, 128, 191)\", \"width\": 1.5}, \"type\": \"line\", \"x0\": 25, \"x1\": 25, \"y0\": 102.55, \"y1\": 103.67}, {\"line\": {\"color\": \"rgb(55, 128, 191)\", \"width\": 1.5}, \"type\": \"line\", \"x0\": 26, \"x1\": 26, \"y0\": 99.68, \"y1\": 100.76}, {\"line\": {\"color\": \"rgb(55, 128, 191)\", \"width\": 1.5}, \"type\": \"line\", \"x0\": 27, \"x1\": 27, \"y0\": 100.73, \"y1\": 101.83}, {\"line\": {\"color\": \"rgb(55, 128, 191)\", \"width\": 1.5}, \"type\": \"line\", \"x0\": 28, \"x1\": 28, \"y0\": 101.06, \"y1\": 102.16}, {\"line\": {\"color\": \"rgb(55, 128, 191)\", \"width\": 1.5}, \"type\": \"line\", \"x0\": 29, \"x1\": 29, \"y0\": 100.78, \"y1\": 101.92}, {\"line\": {\"color\": \"rgb(55, 128, 191)\", \"width\": 1.5}, \"type\": \"line\", \"x0\": 30, \"x1\": 30, \"y0\": 98.16, \"y1\": 99.28}, {\"line\": {\"color\": \"rgb(55, 128, 191)\", \"width\": 1.5}, \"type\": \"line\", \"x0\": 31, \"x1\": 31, \"y0\": 100.91, \"y1\": 102.0}, {\"line\": {\"color\": \"rgb(55, 128, 191)\", \"width\": 1.5}, \"type\": \"line\", \"x0\": 32, \"x1\": 32, \"y0\": 99.72, \"y1\": 100.84}, {\"line\": {\"color\": \"rgb(55, 128, 191)\", \"width\": 1.5}, \"type\": \"line\", \"x0\": 33, \"x1\": 33, \"y0\": 98.1, \"y1\": 99.21}, {\"line\": {\"color\": \"rgb(55, 128, 191)\", \"width\": 1.5}, \"type\": \"line\", \"x0\": 34, \"x1\": 34, \"y0\": 98.07, \"y1\": 99.17}, {\"line\": {\"color\": \"rgb(55, 128, 191)\", \"width\": 1.5}, \"type\": \"line\", \"x0\": 35, \"x1\": 35, \"y0\": 97.57, \"y1\": 98.69}, {\"line\": {\"color\": \"rgb(55, 128, 191)\", \"width\": 1.5}, \"type\": \"line\", \"x0\": 36, \"x1\": 36, \"y0\": 96.97, \"y1\": 98.07}, {\"line\": {\"color\": \"rgb(55, 128, 191)\", \"width\": 1.5}, \"type\": \"line\", \"x0\": 37, \"x1\": 37, \"y0\": 99.07, \"y1\": 100.18}, {\"line\": {\"color\": \"rgb(55, 128, 191)\", \"width\": 1.5}, \"type\": \"line\", \"x0\": 38, \"x1\": 38, \"y0\": 99.54, \"y1\": 100.64}, {\"line\": {\"color\": \"rgb(55, 128, 191)\", \"width\": 1.5}, \"type\": \"line\", \"x0\": 39, \"x1\": 39, \"y0\": 96.94, \"y1\": 98.04}, {\"line\": {\"color\": \"rgb(55, 128, 191)\", \"width\": 1.5}, \"type\": \"line\", \"x0\": 40, \"x1\": 40, \"y0\": 94.34, \"y1\": 95.46}, {\"line\": {\"color\": \"rgb(55, 128, 191)\", \"width\": 1.5}, \"type\": \"line\", \"x0\": 41, \"x1\": 41, \"y0\": 93.27, \"y1\": 94.4}, {\"line\": {\"color\": \"rgb(55, 128, 191)\", \"width\": 1.5}, \"type\": \"line\", \"x0\": 42, \"x1\": 42, \"y0\": 92.65, \"y1\": 93.77}, {\"line\": {\"color\": \"rgb(55, 128, 191)\", \"width\": 1.5}, \"type\": \"line\", \"x0\": 43, \"x1\": 43, \"y0\": 92.48, \"y1\": 93.58}, {\"line\": {\"color\": \"rgb(55, 128, 191)\", \"width\": 1.5}, \"type\": \"line\", \"x0\": 44, \"x1\": 44, \"y0\": 92.31, \"y1\": 93.43}, {\"line\": {\"color\": \"rgb(55, 128, 191)\", \"width\": 1.5}, \"type\": \"line\", \"x0\": 45, \"x1\": 45, \"y0\": 93.01, \"y1\": 94.1}, {\"line\": {\"color\": \"rgb(55, 128, 191)\", \"width\": 1.5}, \"type\": \"line\", \"x0\": 46, \"x1\": 46, \"y0\": 93.61, \"y1\": 94.7}, {\"line\": {\"color\": \"rgb(55, 128, 191)\", \"width\": 1.5}, \"type\": \"line\", \"x0\": 47, \"x1\": 47, \"y0\": 91.15, \"y1\": 92.25}, {\"line\": {\"color\": \"rgb(55, 128, 191)\", \"width\": 1.5}, \"type\": \"line\", \"x0\": 48, \"x1\": 48, \"y0\": 91.47, \"y1\": 92.55}, {\"line\": {\"color\": \"rgb(55, 128, 191)\", \"width\": 1.5}, \"type\": \"line\", \"x0\": 49, \"x1\": 49, \"y0\": 92.34, \"y1\": 93.45}, {\"line\": {\"color\": \"rgb(55, 128, 191)\", \"width\": 1.5}, \"type\": \"line\", \"x0\": 50, \"x1\": 50, \"y0\": 90.31, \"y1\": 91.41}, {\"fillcolor\": \"rgba(255, 0, 0, 0.6)\", \"line\": {\"color\": \"rgb(55, 128, 191)\", \"width\": 1}, \"type\": \"rect\", \"x0\": 0.75, \"x1\": 1.25, \"xref\": \"x\", \"y0\": 99.12, \"y1\": 101.91, \"yref\": \"y\"}, {\"fillcolor\": \"rgba(0, 204, 0, 0.6)\", \"line\": {\"color\": \"rgb(55, 128, 191)\", \"width\": 1}, \"type\": \"rect\", \"x0\": 1.75, \"x1\": 2.25, \"xref\": \"x\", \"y0\": 98.19, \"y1\": 98.77, \"yref\": \"y\"}, {\"fillcolor\": \"rgba(0, 204, 0, 0.6)\", \"line\": {\"color\": \"rgb(55, 128, 191)\", \"width\": 1}, \"type\": \"rect\", \"x0\": 2.75, \"x1\": 3.25, \"xref\": \"x\", \"y0\": 98.85, \"y1\": 99.39, \"yref\": \"y\"}, {\"fillcolor\": \"rgba(0, 204, 0, 0.6)\", \"line\": {\"color\": \"rgb(55, 128, 191)\", \"width\": 1}, \"type\": \"rect\", \"x0\": 3.75, \"x1\": 4.25, \"xref\": \"x\", \"y0\": 98.8, \"y1\": 100.06, \"yref\": \"y\"}, {\"fillcolor\": \"rgba(0, 204, 0, 0.6)\", \"line\": {\"color\": \"rgb(55, 128, 191)\", \"width\": 1}, \"type\": \"rect\", \"x0\": 4.75, \"x1\": 5.25, \"xref\": \"x\", \"y0\": 96.85, \"y1\": 101.12, \"yref\": \"y\"}, {\"fillcolor\": \"rgba(0, 204, 0, 0.6)\", \"line\": {\"color\": \"rgb(55, 128, 191)\", \"width\": 1}, \"type\": \"rect\", \"x0\": 5.75, \"x1\": 6.25, \"xref\": \"x\", \"y0\": 99.28, \"y1\": 100.81, \"yref\": \"y\"}, {\"fillcolor\": \"rgba(255, 0, 0, 0.6)\", \"line\": {\"color\": \"rgb(55, 128, 191)\", \"width\": 1}, \"type\": \"rect\", \"x0\": 6.75, \"x1\": 7.25, \"xref\": \"x\", \"y0\": 101.49, \"y1\": 102.62, \"yref\": \"y\"}, {\"fillcolor\": \"rgba(0, 204, 0, 0.6)\", \"line\": {\"color\": \"rgb(55, 128, 191)\", \"width\": 1}, \"type\": \"rect\", \"x0\": 7.75, \"x1\": 8.25, \"xref\": \"x\", \"y0\": 96.13, \"y1\": 99.6, \"yref\": \"y\"}, {\"fillcolor\": \"rgba(255, 0, 0, 0.6)\", \"line\": {\"color\": \"rgb(55, 128, 191)\", \"width\": 1}, \"type\": \"rect\", \"x0\": 8.75, \"x1\": 9.25, \"xref\": \"x\", \"y0\": 100.03, \"y1\": 101.48, \"yref\": \"y\"}, {\"fillcolor\": \"rgba(255, 0, 0, 0.6)\", \"line\": {\"color\": \"rgb(55, 128, 191)\", \"width\": 1}, \"type\": \"rect\", \"x0\": 9.75, \"x1\": 10.25, \"xref\": \"x\", \"y0\": 99.79, \"y1\": 101.2, \"yref\": \"y\"}, {\"fillcolor\": \"rgba(0, 204, 0, 0.6)\", \"line\": {\"color\": \"rgb(55, 128, 191)\", \"width\": 1}, \"type\": \"rect\", \"x0\": 10.75, \"x1\": 11.25, \"xref\": \"x\", \"y0\": 96.48, \"y1\": 98.62, \"yref\": \"y\"}, {\"fillcolor\": \"rgba(255, 0, 0, 0.6)\", \"line\": {\"color\": \"rgb(55, 128, 191)\", \"width\": 1}, \"type\": \"rect\", \"x0\": 11.75, \"x1\": 12.25, \"xref\": \"x\", \"y0\": 101.86, \"y1\": 103.26, \"yref\": \"y\"}, {\"fillcolor\": \"rgba(0, 204, 0, 0.6)\", \"line\": {\"color\": \"rgb(55, 128, 191)\", \"width\": 1}, \"type\": \"rect\", \"x0\": 12.75, \"x1\": 13.25, \"xref\": \"x\", \"y0\": 102.64, \"y1\": 103.01, \"yref\": \"y\"}, {\"fillcolor\": \"rgba(0, 204, 0, 0.6)\", \"line\": {\"color\": \"rgb(55, 128, 191)\", \"width\": 1}, \"type\": \"rect\", \"x0\": 13.75, \"x1\": 14.25, \"xref\": \"x\", \"y0\": 104.18, \"y1\": 104.55, \"yref\": \"y\"}, {\"fillcolor\": \"rgba(0, 204, 0, 0.6)\", \"line\": {\"color\": \"rgb(55, 128, 191)\", \"width\": 1}, \"type\": \"rect\", \"x0\": 14.75, \"x1\": 15.25, \"xref\": \"x\", \"y0\": 103.2, \"y1\": 104.15, \"yref\": \"y\"}, {\"fillcolor\": \"rgba(255, 0, 0, 0.6)\", \"line\": {\"color\": \"rgb(55, 128, 191)\", \"width\": 1}, \"type\": \"rect\", \"x0\": 15.75, \"x1\": 16.25, \"xref\": \"x\", \"y0\": 103.91, \"y1\": 104.38, \"yref\": \"y\"}, {\"fillcolor\": \"rgba(0, 204, 0, 0.6)\", \"line\": {\"color\": \"rgb(55, 128, 191)\", \"width\": 1}, \"type\": \"rect\", \"x0\": 16.75, \"x1\": 17.25, \"xref\": \"x\", \"y0\": 104.72, \"y1\": 105.52, \"yref\": \"y\"}, {\"fillcolor\": \"rgba(0, 204, 0, 0.6)\", \"line\": {\"color\": \"rgb(55, 128, 191)\", \"width\": 1}, \"type\": \"rect\", \"x0\": 17.75, \"x1\": 18.25, \"xref\": \"x\", \"y0\": 104.84, \"y1\": 105.32, \"yref\": \"y\"}, {\"fillcolor\": \"rgba(255, 0, 0, 0.6)\", \"line\": {\"color\": \"rgb(55, 128, 191)\", \"width\": 1}, \"type\": \"rect\", \"x0\": 18.75, \"x1\": 19.25, \"xref\": \"x\", \"y0\": 103.27, \"y1\": 105.46, \"yref\": \"y\"}, {\"fillcolor\": \"rgba(0, 204, 0, 0.6)\", \"line\": {\"color\": \"rgb(55, 128, 191)\", \"width\": 1}, \"type\": \"rect\", \"x0\": 19.75, \"x1\": 20.25, \"xref\": \"x\", \"y0\": 102.08, \"y1\": 104.13, \"yref\": \"y\"}, {\"fillcolor\": \"rgba(255, 0, 0, 0.6)\", \"line\": {\"color\": \"rgb(55, 128, 191)\", \"width\": 1}, \"type\": \"rect\", \"x0\": 20.75, \"x1\": 21.25, \"xref\": \"x\", \"y0\": 102.73, \"y1\": 105.97, \"yref\": \"y\"}, {\"fillcolor\": \"rgba(0, 204, 0, 0.6)\", \"line\": {\"color\": \"rgb(55, 128, 191)\", \"width\": 1}, \"type\": \"rect\", \"x0\": 21.75, \"x1\": 22.25, \"xref\": \"x\", \"y0\": 102.48, \"y1\": 105.25, \"yref\": \"y\"}, {\"fillcolor\": \"rgba(0, 204, 0, 0.6)\", \"line\": {\"color\": \"rgb(55, 128, 191)\", \"width\": 1}, \"type\": \"rect\", \"x0\": 22.75, \"x1\": 23.25, \"xref\": \"x\", \"y0\": 102.05, \"y1\": 105.07, \"yref\": \"y\"}, {\"fillcolor\": \"rgba(255, 0, 0, 0.6)\", \"line\": {\"color\": \"rgb(55, 128, 191)\", \"width\": 1}, \"type\": \"rect\", \"x0\": 23.75, \"x1\": 24.25, \"xref\": \"x\", \"y0\": 104.75, \"y1\": 104.88, \"yref\": \"y\"}, {\"fillcolor\": \"rgba(255, 0, 0, 0.6)\", \"line\": {\"color\": \"rgb(55, 128, 191)\", \"width\": 1}, \"type\": \"rect\", \"x0\": 24.75, \"x1\": 25.25, \"xref\": \"x\", \"y0\": 103.67, \"y1\": 103.77, \"yref\": \"y\"}, {\"fillcolor\": \"rgba(0, 204, 0, 0.6)\", \"line\": {\"color\": \"rgb(55, 128, 191)\", \"width\": 1}, \"type\": \"rect\", \"x0\": 25.75, \"x1\": 26.25, \"xref\": \"x\", \"y0\": 100.76, \"y1\": 101.57, \"yref\": \"y\"}, {\"fillcolor\": \"rgba(255, 0, 0, 0.6)\", \"line\": {\"color\": \"rgb(55, 128, 191)\", \"width\": 1}, \"type\": \"rect\", \"x0\": 26.75, \"x1\": 27.25, \"xref\": \"x\", \"y0\": 101.83, \"y1\": 104.83, \"yref\": \"y\"}, {\"fillcolor\": \"rgba(255, 0, 0, 0.6)\", \"line\": {\"color\": \"rgb(55, 128, 191)\", \"width\": 1}, \"type\": \"rect\", \"x0\": 27.75, \"x1\": 28.25, \"xref\": \"x\", \"y0\": 102.16, \"y1\": 104.91, \"yref\": \"y\"}, {\"fillcolor\": \"rgba(255, 0, 0, 0.6)\", \"line\": {\"color\": \"rgb(55, 128, 191)\", \"width\": 1}, \"type\": \"rect\", \"x0\": 28.75, \"x1\": 29.25, \"xref\": \"x\", \"y0\": 101.92, \"y1\": 104.23, \"yref\": \"y\"}, {\"fillcolor\": \"rgba(0, 204, 0, 0.6)\", \"line\": {\"color\": \"rgb(55, 128, 191)\", \"width\": 1}, \"type\": \"rect\", \"x0\": 29.75, \"x1\": 30.25, \"xref\": \"x\", \"y0\": 99.28, \"y1\": 101.2, \"yref\": \"y\"}, {\"fillcolor\": \"rgba(255, 0, 0, 0.6)\", \"line\": {\"color\": \"rgb(55, 128, 191)\", \"width\": 1}, \"type\": \"rect\", \"x0\": 30.75, \"x1\": 31.25, \"xref\": \"x\", \"y0\": 102.0, \"y1\": 102.37, \"yref\": \"y\"}, {\"fillcolor\": \"rgba(255, 0, 0, 0.6)\", \"line\": {\"color\": \"rgb(55, 128, 191)\", \"width\": 1}, \"type\": \"rect\", \"x0\": 31.75, \"x1\": 32.25, \"xref\": \"x\", \"y0\": 100.84, \"y1\": 101.41, \"yref\": \"y\"}, {\"fillcolor\": \"rgba(0, 204, 0, 0.6)\", \"line\": {\"color\": \"rgb(55, 128, 191)\", \"width\": 1}, \"type\": \"rect\", \"x0\": 32.75, \"x1\": 33.25, \"xref\": \"x\", \"y0\": 99.21, \"y1\": 99.49, \"yref\": \"y\"}, {\"fillcolor\": \"rgba(0, 204, 0, 0.6)\", \"line\": {\"color\": \"rgb(55, 128, 191)\", \"width\": 1}, \"type\": \"rect\", \"x0\": 33.75, \"x1\": 34.25, \"xref\": \"x\", \"y0\": 99.17, \"y1\": 100.3, \"yref\": \"y\"}, {\"fillcolor\": \"rgba(255, 0, 0, 0.6)\", \"line\": {\"color\": \"rgb(55, 128, 191)\", \"width\": 1}, \"type\": \"rect\", \"x0\": 34.75, \"x1\": 35.25, \"xref\": \"x\", \"y0\": 98.69, \"y1\": 100.04, \"yref\": \"y\"}, {\"fillcolor\": \"rgba(0, 204, 0, 0.6)\", \"line\": {\"color\": \"rgb(55, 128, 191)\", \"width\": 1}, \"type\": \"rect\", \"x0\": 35.75, \"x1\": 36.25, \"xref\": \"x\", \"y0\": 98.07, \"y1\": 98.15, \"yref\": \"y\"}, {\"fillcolor\": \"rgba(255, 0, 0, 0.6)\", \"line\": {\"color\": \"rgb(55, 128, 191)\", \"width\": 1}, \"type\": \"rect\", \"x0\": 36.75, \"x1\": 37.25, \"xref\": \"x\", \"y0\": 100.18, \"y1\": 100.31, \"yref\": \"y\"}, {\"fillcolor\": \"rgba(255, 0, 0, 0.6)\", \"line\": {\"color\": \"rgb(55, 128, 191)\", \"width\": 1}, \"type\": \"rect\", \"x0\": 37.75, \"x1\": 38.25, \"xref\": \"x\", \"y0\": 100.64, \"y1\": 103.25, \"yref\": \"y\"}, {\"fillcolor\": \"rgba(255, 0, 0, 0.6)\", \"line\": {\"color\": \"rgb(55, 128, 191)\", \"width\": 1}, \"type\": \"rect\", \"x0\": 38.75, \"x1\": 39.25, \"xref\": \"x\", \"y0\": 98.04, \"y1\": 98.5, \"yref\": \"y\"}, {\"fillcolor\": \"rgba(255, 0, 0, 0.6)\", \"line\": {\"color\": \"rgb(55, 128, 191)\", \"width\": 1}, \"type\": \"rect\", \"x0\": 39.75, \"x1\": 40.25, \"xref\": \"x\", \"y0\": 95.46, \"y1\": 96.91, \"yref\": \"y\"}, {\"fillcolor\": \"rgba(255, 0, 0, 0.6)\", \"line\": {\"color\": \"rgb(55, 128, 191)\", \"width\": 1}, \"type\": \"rect\", \"x0\": 40.75, \"x1\": 41.25, \"xref\": \"x\", \"y0\": 94.4, \"y1\": 95.96, \"yref\": \"y\"}, {\"fillcolor\": \"rgba(255, 0, 0, 0.6)\", \"line\": {\"color\": \"rgb(55, 128, 191)\", \"width\": 1}, \"type\": \"rect\", \"x0\": 41.75, \"x1\": 42.25, \"xref\": \"x\", \"y0\": 93.77, \"y1\": 94.8, \"yref\": \"y\"}, {\"fillcolor\": \"rgba(0, 204, 0, 0.6)\", \"line\": {\"color\": \"rgb(55, 128, 191)\", \"width\": 1}, \"type\": \"rect\", \"x0\": 42.75, \"x1\": 43.25, \"xref\": \"x\", \"y0\": 93.58, \"y1\": 93.81, \"yref\": \"y\"}, {\"fillcolor\": \"rgba(255, 0, 0, 0.6)\", \"line\": {\"color\": \"rgb(55, 128, 191)\", \"width\": 1}, \"type\": \"rect\", \"x0\": 43.75, \"x1\": 44.25, \"xref\": \"x\", \"y0\": 93.43, \"y1\": 95.18, \"yref\": \"y\"}, {\"fillcolor\": \"rgba(255, 0, 0, 0.6)\", \"line\": {\"color\": \"rgb(55, 128, 191)\", \"width\": 1}, \"type\": \"rect\", \"x0\": 44.75, \"x1\": 45.25, \"xref\": \"x\", \"y0\": 94.1, \"y1\": 94.99, \"yref\": \"y\"}, {\"fillcolor\": \"rgba(0, 204, 0, 0.6)\", \"line\": {\"color\": \"rgb(55, 128, 191)\", \"width\": 1}, \"type\": \"rect\", \"x0\": 45.75, \"x1\": 46.25, \"xref\": \"x\", \"y0\": 94.7, \"y1\": 95.03, \"yref\": \"y\"}, {\"fillcolor\": \"rgba(0, 204, 0, 0.6)\", \"line\": {\"color\": \"rgb(55, 128, 191)\", \"width\": 1}, \"type\": \"rect\", \"x0\": 46.75, \"x1\": 47.25, \"xref\": \"x\", \"y0\": 92.25, \"y1\": 94.86, \"yref\": \"y\"}, {\"fillcolor\": \"rgba(0, 204, 0, 0.6)\", \"line\": {\"color\": \"rgb(55, 128, 191)\", \"width\": 1}, \"type\": \"rect\", \"x0\": 47.75, \"x1\": 48.25, \"xref\": \"x\", \"y0\": 92.55, \"y1\": 95.37, \"yref\": \"y\"}, {\"fillcolor\": \"rgba(0, 204, 0, 0.6)\", \"line\": {\"color\": \"rgb(55, 128, 191)\", \"width\": 1}, \"type\": \"rect\", \"x0\": 48.75, \"x1\": 49.25, \"xref\": \"x\", \"y0\": 93.45, \"y1\": 95.12, \"yref\": \"y\"}, {\"fillcolor\": \"rgba(0, 204, 0, 0.6)\", \"line\": {\"color\": \"rgb(55, 128, 191)\", \"width\": 1}, \"type\": \"rect\", \"x0\": 49.75, \"x1\": 50.25, \"xref\": \"x\", \"y0\": 91.41, \"y1\": 94.55, \"yref\": \"y\"}, {\"line\": {\"color\": \"rgb(55, 128, 191)\", \"width\": 1.5}, \"type\": \"line\", \"x0\": 1, \"x1\": 1, \"y0\": 101.91, \"y1\": 103.05}, {\"line\": {\"color\": \"rgb(55, 128, 191)\", \"width\": 1.5}, \"type\": \"line\", \"x0\": 2, \"x1\": 2, \"y0\": 98.77, \"y1\": 99.86}, {\"line\": {\"color\": \"rgb(55, 128, 191)\", \"width\": 1.5}, \"type\": \"line\", \"x0\": 3, \"x1\": 3, \"y0\": 99.39, \"y1\": 100.48}, {\"line\": {\"color\": \"rgb(55, 128, 191)\", \"width\": 1.5}, \"type\": \"line\", \"x0\": 4, \"x1\": 4, \"y0\": 100.06, \"y1\": 101.16}, {\"line\": {\"color\": \"rgb(55, 128, 191)\", \"width\": 1.5}, \"type\": \"line\", \"x0\": 5, \"x1\": 5, \"y0\": 101.12, \"y1\": 102.23}, {\"line\": {\"color\": \"rgb(55, 128, 191)\", \"width\": 1.5}, \"type\": \"line\", \"x0\": 6, \"x1\": 6, \"y0\": 100.81, \"y1\": 101.91}, {\"line\": {\"color\": \"rgb(55, 128, 191)\", \"width\": 1.5}, \"type\": \"line\", \"x0\": 7, \"x1\": 7, \"y0\": 102.62, \"y1\": 103.74}, {\"line\": {\"color\": \"rgb(55, 128, 191)\", \"width\": 1.5}, \"type\": \"line\", \"x0\": 8, \"x1\": 8, \"y0\": 99.6, \"y1\": 100.72}, {\"line\": {\"color\": \"rgb(55, 128, 191)\", \"width\": 1.5}, \"type\": \"line\", \"x0\": 9, \"x1\": 9, \"y0\": 101.48, \"y1\": 102.58}, {\"line\": {\"color\": \"rgb(55, 128, 191)\", \"width\": 1.5}, \"type\": \"line\", \"x0\": 10, \"x1\": 10, \"y0\": 101.2, \"y1\": 102.29}, {\"line\": {\"color\": \"rgb(55, 128, 191)\", \"width\": 1.5}, \"type\": \"line\", \"x0\": 11, \"x1\": 11, \"y0\": 98.62, \"y1\": 99.73}, {\"line\": {\"color\": \"rgb(55, 128, 191)\", \"width\": 1.5}, \"type\": \"line\", \"x0\": 12, \"x1\": 12, \"y0\": 103.26, \"y1\": 104.38}, {\"line\": {\"color\": \"rgb(55, 128, 191)\", \"width\": 1.5}, \"type\": \"line\", \"x0\": 13, \"x1\": 13, \"y0\": 103.01, \"y1\": 104.12}, {\"line\": {\"color\": \"rgb(55, 128, 191)\", \"width\": 1.5}, \"type\": \"line\", \"x0\": 14, \"x1\": 14, \"y0\": 104.55, \"y1\": 105.66}, {\"line\": {\"color\": \"rgb(55, 128, 191)\", \"width\": 1.5}, \"type\": \"line\", \"x0\": 15, \"x1\": 15, \"y0\": 104.15, \"y1\": 105.24}, {\"line\": {\"color\": \"rgb(55, 128, 191)\", \"width\": 1.5}, \"type\": \"line\", \"x0\": 16, \"x1\": 16, \"y0\": 104.38, \"y1\": 105.49}, {\"line\": {\"color\": \"rgb(55, 128, 191)\", \"width\": 1.5}, \"type\": \"line\", \"x0\": 17, \"x1\": 17, \"y0\": 105.52, \"y1\": 106.63}, {\"line\": {\"color\": \"rgb(55, 128, 191)\", \"width\": 1.5}, \"type\": \"line\", \"x0\": 18, \"x1\": 18, \"y0\": 105.32, \"y1\": 106.44}, {\"line\": {\"color\": \"rgb(55, 128, 191)\", \"width\": 1.5}, \"type\": \"line\", \"x0\": 19, \"x1\": 19, \"y0\": 105.46, \"y1\": 106.55}, {\"line\": {\"color\": \"rgb(55, 128, 191)\", \"width\": 1.5}, \"type\": \"line\", \"x0\": 20, \"x1\": 20, \"y0\": 104.13, \"y1\": 105.23}, {\"line\": {\"color\": \"rgb(55, 128, 191)\", \"width\": 1.5}, \"type\": \"line\", \"x0\": 21, \"x1\": 21, \"y0\": 105.97, \"y1\": 107.08}, {\"line\": {\"color\": \"rgb(55, 128, 191)\", \"width\": 1.5}, \"type\": \"line\", \"x0\": 22, \"x1\": 22, \"y0\": 105.25, \"y1\": 106.38}, {\"line\": {\"color\": \"rgb(55, 128, 191)\", \"width\": 1.5}, \"type\": \"line\", \"x0\": 23, \"x1\": 23, \"y0\": 105.07, \"y1\": 106.17}, {\"line\": {\"color\": \"rgb(55, 128, 191)\", \"width\": 1.5}, \"type\": \"line\", \"x0\": 24, \"x1\": 24, \"y0\": 104.88, \"y1\": 106.0}, {\"line\": {\"color\": \"rgb(55, 128, 191)\", \"width\": 1.5}, \"type\": \"line\", \"x0\": 25, \"x1\": 25, \"y0\": 103.77, \"y1\": 104.87}, {\"line\": {\"color\": \"rgb(55, 128, 191)\", \"width\": 1.5}, \"type\": \"line\", \"x0\": 26, \"x1\": 26, \"y0\": 101.57, \"y1\": 102.68}, {\"line\": {\"color\": \"rgb(55, 128, 191)\", \"width\": 1.5}, \"type\": \"line\", \"x0\": 27, \"x1\": 27, \"y0\": 104.83, \"y1\": 105.92}, {\"line\": {\"color\": \"rgb(55, 128, 191)\", \"width\": 1.5}, \"type\": \"line\", \"x0\": 28, \"x1\": 28, \"y0\": 104.91, \"y1\": 106.01}, {\"line\": {\"color\": \"rgb(55, 128, 191)\", \"width\": 1.5}, \"type\": \"line\", \"x0\": 29, \"x1\": 29, \"y0\": 104.23, \"y1\": 105.34}, {\"line\": {\"color\": \"rgb(55, 128, 191)\", \"width\": 1.5}, \"type\": \"line\", \"x0\": 30, \"x1\": 30, \"y0\": 101.2, \"y1\": 102.3}, {\"line\": {\"color\": \"rgb(55, 128, 191)\", \"width\": 1.5}, \"type\": \"line\", \"x0\": 31, \"x1\": 31, \"y0\": 102.37, \"y1\": 103.45}, {\"line\": {\"color\": \"rgb(55, 128, 191)\", \"width\": 1.5}, \"type\": \"line\", \"x0\": 32, \"x1\": 32, \"y0\": 101.41, \"y1\": 102.51}, {\"line\": {\"color\": \"rgb(55, 128, 191)\", \"width\": 1.5}, \"type\": \"line\", \"x0\": 33, \"x1\": 33, \"y0\": 99.49, \"y1\": 100.59}, {\"line\": {\"color\": \"rgb(55, 128, 191)\", \"width\": 1.5}, \"type\": \"line\", \"x0\": 34, \"x1\": 34, \"y0\": 100.3, \"y1\": 101.43}, {\"line\": {\"color\": \"rgb(55, 128, 191)\", \"width\": 1.5}, \"type\": \"line\", \"x0\": 35, \"x1\": 35, \"y0\": 100.04, \"y1\": 101.15}, {\"line\": {\"color\": \"rgb(55, 128, 191)\", \"width\": 1.5}, \"type\": \"line\", \"x0\": 36, \"x1\": 36, \"y0\": 98.15, \"y1\": 99.25}, {\"line\": {\"color\": \"rgb(55, 128, 191)\", \"width\": 1.5}, \"type\": \"line\", \"x0\": 37, \"x1\": 37, \"y0\": 100.31, \"y1\": 101.4}, {\"line\": {\"color\": \"rgb(55, 128, 191)\", \"width\": 1.5}, \"type\": \"line\", \"x0\": 38, \"x1\": 38, \"y0\": 103.25, \"y1\": 104.33}, {\"line\": {\"color\": \"rgb(55, 128, 191)\", \"width\": 1.5}, \"type\": \"line\", \"x0\": 39, \"x1\": 39, \"y0\": 98.5, \"y1\": 99.62}, {\"line\": {\"color\": \"rgb(55, 128, 191)\", \"width\": 1.5}, \"type\": \"line\", \"x0\": 40, \"x1\": 40, \"y0\": 96.91, \"y1\": 98.0}, {\"line\": {\"color\": \"rgb(55, 128, 191)\", \"width\": 1.5}, \"type\": \"line\", \"x0\": 41, \"x1\": 41, \"y0\": 95.96, \"y1\": 97.08}, {\"line\": {\"color\": \"rgb(55, 128, 191)\", \"width\": 1.5}, \"type\": \"line\", \"x0\": 42, \"x1\": 42, \"y0\": 94.8, \"y1\": 95.91}, {\"line\": {\"color\": \"rgb(55, 128, 191)\", \"width\": 1.5}, \"type\": \"line\", \"x0\": 43, \"x1\": 43, \"y0\": 93.81, \"y1\": 94.93}, {\"line\": {\"color\": \"rgb(55, 128, 191)\", \"width\": 1.5}, \"type\": \"line\", \"x0\": 44, \"x1\": 44, \"y0\": 95.18, \"y1\": 96.27}, {\"line\": {\"color\": \"rgb(55, 128, 191)\", \"width\": 1.5}, \"type\": \"line\", \"x0\": 45, \"x1\": 45, \"y0\": 94.99, \"y1\": 96.07}, {\"line\": {\"color\": \"rgb(55, 128, 191)\", \"width\": 1.5}, \"type\": \"line\", \"x0\": 46, \"x1\": 46, \"y0\": 95.03, \"y1\": 96.14}, {\"line\": {\"color\": \"rgb(55, 128, 191)\", \"width\": 1.5}, \"type\": \"line\", \"x0\": 47, \"x1\": 47, \"y0\": 94.86, \"y1\": 95.96}, {\"line\": {\"color\": \"rgb(55, 128, 191)\", \"width\": 1.5}, \"type\": \"line\", \"x0\": 48, \"x1\": 48, \"y0\": 95.37, \"y1\": 96.48}, {\"line\": {\"color\": \"rgb(55, 128, 191)\", \"width\": 1.5}, \"type\": \"line\", \"x0\": 49, \"x1\": 49, \"y0\": 95.12, \"y1\": 96.23}, {\"line\": {\"color\": \"rgb(55, 128, 191)\", \"width\": 1.5}, \"type\": \"line\", \"x0\": 50, \"x1\": 50, \"y0\": 94.55, \"y1\": 95.64}], \"showlegend\": false, \"title\": \"Random Walk\", \"xaxis\": {\"anchor\": \"y2\", \"showgrid\": true, \"showticklabels\": true, \"tickangle\": 90, \"tickmode\": \"array\", \"ticktext\": [20190517, 20190521, 20190523, 20190527, 20190529, 20190531, 20190604, 20190606, 20190610, 20190612, 20190614, 20190618, 20190620, 20190624, 20190626, 20190628, 20190702, 20190704, 20190708, 20190710, 20190712, 20190716, 20190718, 20190722, 20190724, 20190725], \"tickvals\": [1, 3, 5, 7, 9, 11, 13, 15, 17, 19, 21, 23, 25, 27, 29, 31, 33, 35, 37, 39, 41, 43, 45, 47, 49, 50]}, \"yaxis\": {\"domain\": [0.22, 1], \"range\": [90.31, 107.08]}, \"yaxis2\": {\"domain\": [0, 0.2], \"range\": [0, 1507285.0]}}, {\"showLink\": true, \"linkText\": \"Export to plot.ly\"})});</script>"
      ]
     },
     "metadata": {},
     "output_type": "display_data"
    }
   ],
   "source": [
    "fig1 = dgc.PlotlyCandles(df_pseudo.iloc[-50:],number_of_ticks_display=20,title='Random Walk')\n",
    "iplot(fig1.get_figure())"
   ]
  },
  {
   "cell_type": "code",
   "execution_count": null,
   "metadata": {},
   "outputs": [],
   "source": []
  },
  {
   "cell_type": "code",
   "execution_count": 6,
   "metadata": {},
   "outputs": [],
   "source": [
    "no_border={\n",
    "    'border': '1px solid #000',\n",
    "    'grid-gap': '10px 10px',\n",
    "}\n",
    "\n",
    "logger = dgc.li.init_root_logger('logfile.log','INFO')\n",
    "\n",
    "def dash_app_1():\n",
    "    days_to_show = 50\n",
    "    df_to_show = df_pseudo.iloc[-days_to_show:]\n",
    "    \n",
    "    dt1_comp = dgc.DashTableComponent(\n",
    "        'dt1',df_to_show,None,title='Random Walk',\n",
    "        editable_columns=['close'],logger = logger\n",
    "    )\n",
    "    def create_figure_from_df(input_list):\n",
    "        if input_list is None or len(input_list)<1 or input_list[0] is None:\n",
    "            return [None]\n",
    "        dict_df = input_list[0]\n",
    "        df = dgc.make_df(dict_df)\n",
    "        df.close = df.close.astype(str).astype(float)\n",
    "        p = dgc.PlotlyCandles(df,number_of_ticks_display=20,title='Random Walk').get_figure()\n",
    "        return p\n",
    "    \n",
    "    gr1_comp = dgc.FigureComponent('f1',dt1_comp,create_figure_from_df,logger=logger)\n",
    "\n",
    "    app = dash.Dash()\n",
    "    comp_list = [dt1_comp,gr1_comp]\n",
    "    html_list = [dgc.create_grid([c],num_columns=1) for c in comp_list]\n",
    "    app.layout = dgc.html.Div(html_list)\n",
    "    [c.callback(app) for c in comp_list]\n",
    "    return app\n"
   ]
  },
  {
   "cell_type": "code",
   "execution_count": null,
   "metadata": {
    "scrolled": true
   },
   "outputs": [
    {
     "name": "stdout",
     "output_type": "stream",
     "text": [
      "dt.columns [{'name': 'date', 'id': 'date', 'editable': False}, {'name': 'open', 'id': 'open', 'editable': False}, {'name': 'high', 'id': 'high', 'editable': False}, {'name': 'low', 'id': 'low', 'editable': False}, {'name': 'close', 'id': 'close', 'editable': True}, {'name': 'volume', 'id': 'volume', 'editable': False}]\n",
      " * Serving Flask app \"__main__\" (lazy loading)\n",
      " * Environment: production\n",
      "   WARNING: Do not use the development server in a production environment.\n",
      "   Use a production WSGI server instead.\n",
      " * Debug mode: off\n"
     ]
    },
    {
     "name": "stderr",
     "output_type": "stream",
     "text": [
      "2019-07-22 22:46:16,432 - werkzeug - INFO -  * Running on http://127.0.0.1:8500/ (Press CTRL+C to quit)\n",
      "2019-07-22 22:46:21,752 - werkzeug - INFO - 127.0.0.1 - - [22/Jul/2019 22:46:21] \"GET / HTTP/1.1\" 200 -\n",
      "2019-07-22 22:46:21,809 - werkzeug - INFO - 127.0.0.1 - - [22/Jul/2019 22:46:21] \"GET /assets/custom.css?m=1561500470.0 HTTP/1.1\" 304 -\n",
      "2019-07-22 22:46:21,813 - werkzeug - INFO - 127.0.0.1 - - [22/Jul/2019 22:46:21] \"GET /_dash-component-suites/dash_renderer/react@16.8.6.min.js?v=1.0.0&m=1563025507 HTTP/1.1\" 200 -\n",
      "2019-07-22 22:46:21,830 - werkzeug - INFO - 127.0.0.1 - - [22/Jul/2019 22:46:21] \"GET /_dash-component-suites/dash_renderer/react-dom@16.8.6.min.js?v=1.0.0&m=1563025507 HTTP/1.1\" 200 -\n",
      "2019-07-22 22:46:21,831 - werkzeug - INFO - 127.0.0.1 - - [22/Jul/2019 22:46:21] \"GET /_dash-component-suites/dash_html_components/dash_html_components.min.js?v=1.0.0&m=1563025508 HTTP/1.1\" 200 -\n",
      "2019-07-22 22:46:21,834 - werkzeug - INFO - 127.0.0.1 - - [22/Jul/2019 22:46:21] \"GET /_dash-component-suites/dash_renderer/prop-types@15.7.2.min.js?v=1.0.0&m=1563025507 HTTP/1.1\" 200 -\n",
      "2019-07-22 22:46:21,838 - werkzeug - INFO - 127.0.0.1 - - [22/Jul/2019 22:46:21] \"GET /_dash-component-suites/dash_core_components/highlight.pack.js?v=1.0.0&m=1563025508 HTTP/1.1\" 200 -\n",
      "2019-07-22 22:46:21,896 - werkzeug - INFO - 127.0.0.1 - - [22/Jul/2019 22:46:21] \"GET /_dash-component-suites/dash_renderer/dash_renderer.min.js?v=1.0.0&m=1563025507 HTTP/1.1\" 200 -\n",
      "2019-07-22 22:46:21,912 - werkzeug - INFO - 127.0.0.1 - - [22/Jul/2019 22:46:21] \"GET /_dash-component-suites/dash_core_components/dash_core_components.min.js?v=1.0.0&m=1563025508 HTTP/1.1\" 200 -\n",
      "2019-07-22 22:46:21,922 - werkzeug - INFO - 127.0.0.1 - - [22/Jul/2019 22:46:21] \"GET /_dash-component-suites/dash_table/bundle.js?v=4.0.1&m=1563025509 HTTP/1.1\" 200 -\n",
      "2019-07-22 22:46:22,041 - werkzeug - INFO - 127.0.0.1 - - [22/Jul/2019 22:46:22] \"GET /_dash-component-suites/dash_core_components/plotly-1.48.3.min.js?v=1.0.0&m=1563025508 HTTP/1.1\" 200 -\n",
      "2019-07-22 22:46:22,542 - werkzeug - INFO - 127.0.0.1 - - [22/Jul/2019 22:46:22] \"GET /_dash-dependencies HTTP/1.1\" 200 -\n",
      "2019-07-22 22:46:22,543 - werkzeug - INFO - 127.0.0.1 - - [22/Jul/2019 22:46:22] \"GET /_dash-layout HTTP/1.1\" 200 -\n",
      "2019-07-22 22:46:22,599 - root - WARNING - 'list' object has no attribute 'keys'\n",
      "2019-07-22 22:46:22,618 - flask.app - ERROR - Exception on /_dash-update-component [POST]\n",
      "Traceback (most recent call last):\n",
      "  File \"/Users/bperlman1/Virtualenvs3/dashrisk2/lib/python3.6/site-packages/flask/app.py\", line 2292, in wsgi_app\n",
      "    response = self.full_dispatch_request()\n",
      "  File \"/Users/bperlman1/Virtualenvs3/dashrisk2/lib/python3.6/site-packages/flask/app.py\", line 1815, in full_dispatch_request\n",
      "    rv = self.handle_user_exception(e)\n",
      "  File \"/Users/bperlman1/Virtualenvs3/dashrisk2/lib/python3.6/site-packages/flask/app.py\", line 1718, in handle_user_exception\n",
      "    reraise(exc_type, exc_value, tb)\n",
      "  File \"/Users/bperlman1/Virtualenvs3/dashrisk2/lib/python3.6/site-packages/flask/_compat.py\", line 35, in reraise\n",
      "    raise value\n",
      "  File \"/Users/bperlman1/Virtualenvs3/dashrisk2/lib/python3.6/site-packages/flask/app.py\", line 1813, in full_dispatch_request\n",
      "    rv = self.dispatch_request()\n",
      "  File \"/Users/bperlman1/Virtualenvs3/dashrisk2/lib/python3.6/site-packages/flask/app.py\", line 1799, in dispatch_request\n",
      "    return self.view_functions[rule.endpoint](**req.view_args)\n",
      "  File \"/Users/bperlman1/Virtualenvs3/dashrisk2/lib/python3.6/site-packages/dash/dash.py\", line 1291, in dispatch\n",
      "    response.set_data(self.callback_map[output]['callback'](*args))\n",
      "  File \"/Users/bperlman1/Virtualenvs3/dashrisk2/lib/python3.6/site-packages/dash/dash.py\", line 1175, in add_context\n",
      "    output_value = func(*args, **kwargs)\n",
      "  File \"/Users/bperlman1/Documents/billybyte/pyliverisk/dashgrid/dashgrid/dgrid_components.py\", line 587, in execute_callback\n",
      "    ret = self.callback_input_transformer(l)\n",
      "  File \"/Users/bperlman1/Documents/billybyte/pyliverisk/dashgrid/dashgrid/dgrid_components.py\", line 696, in _dt_lambda\n",
      "    raise ValueError('dt1_lambda value_list has no data.  Callback return is ignored')\n",
      "ValueError: dt1_lambda value_list has no data.  Callback return is ignored\n",
      "2019-07-22 22:46:22,798 - werkzeug - INFO - 127.0.0.1 - - [22/Jul/2019 22:46:22] \"POST /_dash-update-component HTTP/1.1\" 200 -\n",
      "2019-07-22 22:46:22,800 - werkzeug - INFO - 127.0.0.1 - - [22/Jul/2019 22:46:22] \"POST /_dash-update-component HTTP/1.1\" 500 -\n",
      "2019-07-22 22:46:39,248 - werkzeug - INFO - 127.0.0.1 - - [22/Jul/2019 22:46:39] \"POST /_dash-update-component HTTP/1.1\" 200 -\n",
      "2019-07-22 22:47:03,043 - werkzeug - INFO - 127.0.0.1 - - [22/Jul/2019 22:47:03] \"POST /_dash-update-component HTTP/1.1\" 200 -\n"
     ]
    }
   ],
   "source": [
    "DASH_APP_TO_RUN = dash_app_1\n",
    "app = DASH_APP_TO_RUN()\n",
    "app.run_server(host='127.0.0.1',port=8500)"
   ]
  },
  {
   "cell_type": "code",
   "execution_count": null,
   "metadata": {
    "scrolled": true
   },
   "outputs": [],
   "source": [
    "l = dgc.flatten_layout(app)\n",
    "for c in l:\n",
    "    print('***********************************************')\n",
    "    print(c)"
   ]
  },
  {
   "cell_type": "code",
   "execution_count": 16,
   "metadata": {},
   "outputs": [
    {
     "data": {
      "text/html": [
       "<div>\n",
       "<style scoped>\n",
       "    .dataframe tbody tr th:only-of-type {\n",
       "        vertical-align: middle;\n",
       "    }\n",
       "\n",
       "    .dataframe tbody tr th {\n",
       "        vertical-align: top;\n",
       "    }\n",
       "\n",
       "    .dataframe thead th {\n",
       "        text-align: right;\n",
       "    }\n",
       "</style>\n",
       "<table border=\"1\" class=\"dataframe\">\n",
       "  <thead>\n",
       "    <tr style=\"text-align: right;\">\n",
       "      <th></th>\n",
       "      <th>date</th>\n",
       "      <th>open</th>\n",
       "      <th>high</th>\n",
       "      <th>low</th>\n",
       "      <th>close</th>\n",
       "      <th>volume</th>\n",
       "    </tr>\n",
       "  </thead>\n",
       "  <tbody>\n",
       "    <tr>\n",
       "      <th>0</th>\n",
       "      <td>20161028</td>\n",
       "      <td>104.1</td>\n",
       "      <td>105.21</td>\n",
       "      <td>98.92</td>\n",
       "      <td>100.00</td>\n",
       "      <td>1005294.0</td>\n",
       "    </tr>\n",
       "    <tr>\n",
       "      <th>1</th>\n",
       "      <td>20161031</td>\n",
       "      <td>97.4</td>\n",
       "      <td>100.99</td>\n",
       "      <td>96.31</td>\n",
       "      <td>99.89</td>\n",
       "      <td>1020732.0</td>\n",
       "    </tr>\n",
       "    <tr>\n",
       "      <th>2</th>\n",
       "      <td>20161101</td>\n",
       "      <td>103.0</td>\n",
       "      <td>104.12</td>\n",
       "      <td>98.51</td>\n",
       "      <td>99.60</td>\n",
       "      <td>997560.0</td>\n",
       "    </tr>\n",
       "    <tr>\n",
       "      <th>3</th>\n",
       "      <td>20161102</td>\n",
       "      <td>97.5</td>\n",
       "      <td>100.12</td>\n",
       "      <td>96.43</td>\n",
       "      <td>99.04</td>\n",
       "      <td>1021329.0</td>\n",
       "    </tr>\n",
       "    <tr>\n",
       "      <th>4</th>\n",
       "      <td>20161103</td>\n",
       "      <td>96.6</td>\n",
       "      <td>99.94</td>\n",
       "      <td>95.55</td>\n",
       "      <td>98.83</td>\n",
       "      <td>1087607.0</td>\n",
       "    </tr>\n",
       "  </tbody>\n",
       "</table>\n",
       "</div>"
      ],
      "text/plain": [
       "       date   open    high    low   close     volume\n",
       "0  20161028  104.1  105.21  98.92  100.00  1005294.0\n",
       "1  20161031   97.4  100.99  96.31   99.89  1020732.0\n",
       "2  20161101  103.0  104.12  98.51   99.60   997560.0\n",
       "3  20161102   97.5  100.12  96.43   99.04  1021329.0\n",
       "4  20161103   96.6   99.94  95.55   98.83  1087607.0"
      ]
     },
     "execution_count": 16,
     "metadata": {},
     "output_type": "execute_result"
    }
   ],
   "source": [
    "\n",
    "dgc.dataframe_rounder(df_pseudo.head(),columns_to_round=['open'],digits=1)"
   ]
  },
  {
   "cell_type": "code",
   "execution_count": null,
   "metadata": {},
   "outputs": [],
   "source": [
    "df1 = df_save_list[0]"
   ]
  },
  {
   "cell_type": "code",
   "execution_count": null,
   "metadata": {},
   "outputs": [],
   "source": [
    "df1.to_dict('rows')"
   ]
  },
  {
   "cell_type": "code",
   "execution_count": 2,
   "metadata": {},
   "outputs": [
    {
     "ename": "NameError",
     "evalue": "name 'dgc' is not defined",
     "output_type": "error",
     "traceback": [
      "\u001b[0;31m---------------------------------------------------------------------------\u001b[0m",
      "\u001b[0;31mNameError\u001b[0m                                 Traceback (most recent call last)",
      "\u001b[0;32m<ipython-input-2-b545a290c3bc>\u001b[0m in \u001b[0;36m<module>\u001b[0;34m\u001b[0m\n\u001b[1;32m      1\u001b[0m \u001b[0;32mimport\u001b[0m \u001b[0mimportlib\u001b[0m\u001b[0;34m\u001b[0m\u001b[0m\n\u001b[0;32m----> 2\u001b[0;31m \u001b[0mimportlib\u001b[0m\u001b[0;34m.\u001b[0m\u001b[0mreload\u001b[0m\u001b[0;34m(\u001b[0m\u001b[0mdgc\u001b[0m\u001b[0;34m)\u001b[0m\u001b[0;34m\u001b[0m\u001b[0m\n\u001b[0m",
      "\u001b[0;31mNameError\u001b[0m: name 'dgc' is not defined"
     ]
    }
   ],
   "source": []
  },
  {
   "cell_type": "code",
   "execution_count": null,
   "metadata": {},
   "outputs": [],
   "source": []
  }
 ],
 "metadata": {
  "kernelspec": {
   "display_name": "Python 3",
   "language": "python",
   "name": "python3"
  },
  "language_info": {
   "codemirror_mode": {
    "name": "ipython",
    "version": 3
   },
   "file_extension": ".py",
   "mimetype": "text/x-python",
   "name": "python",
   "nbconvert_exporter": "python",
   "pygments_lexer": "ipython3",
   "version": "3.6.5"
  }
 },
 "nbformat": 4,
 "nbformat_minor": 2
}
