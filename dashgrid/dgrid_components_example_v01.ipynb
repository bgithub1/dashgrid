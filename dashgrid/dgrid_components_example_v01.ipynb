{
 "cells": [
  {
   "cell_type": "markdown",
   "metadata": {},
   "source": [
    "## A toy example of using the dgrid_components.py module in risktables, for both plots inside a jupyter notebook, and to run a web app from a jupyter notebook"
   ]
  },
  {
   "cell_type": "code",
   "execution_count": 1,
   "metadata": {},
   "outputs": [
    {
     "data": {
      "text/html": [
       "<script>requirejs.config({paths: { 'plotly': ['https://cdn.plot.ly/plotly-latest.min']},});if(!window.Plotly) {{require(['plotly'],function(plotly) {window.Plotly=plotly;});}}</script>"
      ],
      "text/vnd.plotly.v1+html": [
       "<script>requirejs.config({paths: { 'plotly': ['https://cdn.plot.ly/plotly-latest.min']},});if(!window.Plotly) {{require(['plotly'],function(plotly) {window.Plotly=plotly;});}}</script>"
      ]
     },
     "metadata": {},
     "output_type": "display_data"
    }
   ],
   "source": [
    "from IPython.display import display\n",
    "import dash\n",
    "import sys,os\n",
    "if  not os.path.abspath('./') in sys.path:\n",
    "    sys.path.append(os.path.abspath('./'))\n",
    "if  not os.path.abspath('../') in sys.path:\n",
    "    sys.path.append(os.path.abspath('../'))\n",
    "\n",
    "import datetime\n",
    "import pandas as pd\n",
    "import numpy as np\n",
    "import importlib\n",
    "\n",
    "from dashgrid import dgrid_components as dgc\n",
    "import matplotlib.pyplot as plt\n",
    "import plotly.graph_objs as go\n",
    "from plotly.offline import  init_notebook_mode, iplot\n",
    "init_notebook_mode(connected=True)\n",
    "import pathlib\n",
    "SYSTEM_HOME = pathlib.Path.home()"
   ]
  },
  {
   "cell_type": "markdown",
   "metadata": {},
   "source": [
    "### Generate a Pandas DataFrame ( ```df_pseudo```), with open, high, low and close data generated from a random walk process."
   ]
  },
  {
   "cell_type": "code",
   "execution_count": 2,
   "metadata": {},
   "outputs": [],
   "source": [
    "all_days=1000\n",
    "end_date = datetime.datetime.now()\n",
    "beg_date = end_date - datetime.timedelta(all_days)\n",
    "date_series = pd.bdate_range(beg_date,end_date)\n",
    "trade_dates = date_series.astype(str).str.replace('-','').astype(int)\n",
    "n = len(trade_dates)\n",
    "changes = np.random.lognormal(0,.15/256**.5,n-1)\n",
    "initial = np.array([100.0])\n",
    "closes = np.cumprod(np.append(initial,changes)).round(2)\n",
    "open_ranges = np.random.lognormal(0,.3/256**.5,n)\n",
    "opens = (closes * open_ranges).round(2)\n",
    "low_ranges = np.random.lognormal(.1,.2/256**.5,n)\n",
    "lows = np.array([min(x,y) for x,y in zip(opens,closes)]) - low_ranges\n",
    "lows = lows.round(2)\n",
    "high_ranges = np.random.lognormal(.1,.2/256**.5,n)\n",
    "highs = np.array([max(x,y) for x,y in zip(opens,closes)]) + high_ranges\n",
    "highs = highs.round(2)\n",
    "\n",
    "volume_changes = np.random.lognormal(0,.50/256**.5,n-1)\n",
    "initial_volume = np.array([1000000.0]) * np.random.lognormal(0,.15/256**.5)\n",
    "volumes = np.cumprod(np.append(initial_volume,volume_changes)).round(0)\n",
    "\n",
    "\n",
    "df_pseudo = dgc.make_df({'date':trade_dates,'open':opens,'high':highs,'low':lows,\n",
    "                  'close':closes,'volume':volumes})\n"
   ]
  },
  {
   "cell_type": "markdown",
   "metadata": {},
   "source": [
    "### Plot candlesticks using the data from ```df_pseudo```"
   ]
  },
  {
   "cell_type": "code",
   "execution_count": 3,
   "metadata": {},
   "outputs": [
    {
     "data": {
      "text/plain": [
       "<module 'dashgrid.dgrid_components' from '/Users/bperlman1/Documents/billybyte/pyliverisk/dashgrid/dashgrid/dgrid_components.py'>"
      ]
     },
     "execution_count": 3,
     "metadata": {},
     "output_type": "execute_result"
    }
   ],
   "source": [
    "importlib.reload(dgc)"
   ]
  },
  {
   "cell_type": "code",
   "execution_count": 4,
   "metadata": {
    "scrolled": true
   },
   "outputs": [
    {
     "data": {
      "application/vnd.plotly.v1+json": {
       "data": [
        {
         "hoverinfo": "text",
         "mode": "markers",
         "text": [
          "date: 20191104.0<br>open: 123.9<br>high: 128.0<br>low: 122.81<br>close: 126.9<br>volume: 2467633.0",
          "date: 20191105.0<br>open: 128.96<br>high: 130.07<br>low: 127.8<br>close: 128.88<br>volume: 2481655.0",
          "date: 20191106.0<br>open: 130.36<br>high: 131.46<br>low: 127.78<br>close: 128.87<br>volume: 2464120.0",
          "date: 20191107.0<br>open: 127.29<br>high: 130.71<br>low: 126.18<br>close: 129.6<br>volume: 2406211.0",
          "date: 20191108.0<br>open: 124.67<br>high: 128.33<br>low: 123.54<br>close: 127.24<br>volume: 2303044.0",
          "date: 20191111.0<br>open: 128.8<br>high: 129.92<br>low: 127.6<br>close: 128.72<br>volume: 2354824.0",
          "date: 20191112.0<br>open: 124.75<br>high: 130.19<br>low: 123.64<br>close: 129.08<br>volume: 2352136.0",
          "date: 20191113.0<br>open: 129.51<br>high: 131.39<br>low: 128.4<br>close: 130.27<br>volume: 2332562.0",
          "date: 20191114.0<br>open: 134.78<br>high: 135.88<br>low: 128.46<br>close: 129.57<br>volume: 2402712.0",
          "date: 20191115.0<br>open: 132.74<br>high: 133.85<br>low: 130.42<br>close: 131.54<br>volume: 2407905.0",
          "date: 20191118.0<br>open: 131.59<br>high: 133.41<br>low: 130.47<br>close: 132.3<br>volume: 2348237.0",
          "date: 20191119.0<br>open: 132.58<br>high: 133.68<br>low: 129.85<br>close: 130.93<br>volume: 2240126.0",
          "date: 20191120.0<br>open: 129.29<br>high: 132.49<br>low: 128.19<br>close: 131.4<br>volume: 2108755.0",
          "date: 20191121.0<br>open: 133.46<br>high: 134.58<br>low: 130.8<br>close: 131.9<br>volume: 2049904.0",
          "date: 20191122.0<br>open: 129.59<br>high: 135.12<br>low: 128.46<br>close: 134.03<br>volume: 2031316.0",
          "date: 20191125.0<br>open: 136.08<br>high: 137.19<br>low: 133.52<br>close: 134.61<br>volume: 2116949.0",
          "date: 20191126.0<br>open: 136.42<br>high: 137.78<br>low: 135.32<br>close: 136.69<br>volume: 2151449.0",
          "date: 20191127.0<br>open: 141.47<br>high: 142.57<br>low: 136.29<br>close: 137.37<br>volume: 2224127.0",
          "date: 20191128.0<br>open: 136.6<br>high: 138.88<br>low: 135.47<br>close: 137.77<br>volume: 2265921.0",
          "date: 20191129.0<br>open: 137.83<br>high: 138.94<br>low: 136.57<br>close: 137.67<br>volume: 2226350.0",
          "date: 20191202.0<br>open: 137.56<br>high: 138.68<br>low: 136.45<br>close: 137.58<br>volume: 2208417.0",
          "date: 20191203.0<br>open: 138.41<br>high: 139.5<br>low: 135.99<br>close: 137.12<br>volume: 2101406.0",
          "date: 20191204.0<br>open: 135.38<br>high: 138.53<br>low: 134.26<br>close: 137.44<br>volume: 2041957.0",
          "date: 20191205.0<br>open: 139.46<br>high: 140.56<br>low: 137.28<br>close: 138.41<br>volume: 2092391.0",
          "date: 20191206.0<br>open: 140.16<br>high: 141.27<br>low: 137.46<br>close: 138.56<br>volume: 2085057.0",
          "date: 20191209.0<br>open: 140.9<br>high: 142.01<br>low: 138.42<br>close: 139.55<br>volume: 2140467.0",
          "date: 20191210.0<br>open: 140.91<br>high: 142.01<br>low: 139.28<br>close: 140.38<br>volume: 2101641.0",
          "date: 20191211.0<br>open: 142.71<br>high: 144.35<br>low: 141.6<br>close: 143.24<br>volume: 2084150.0",
          "date: 20191212.0<br>open: 140.99<br>high: 144.23<br>low: 139.92<br>close: 143.11<br>volume: 2166044.0",
          "date: 20191213.0<br>open: 139.79<br>high: 142.76<br>low: 138.66<br>close: 141.66<br>volume: 2207442.0",
          "date: 20191216.0<br>open: 139.85<br>high: 143.36<br>low: 138.74<br>close: 142.26<br>volume: 2212078.0",
          "date: 20191217.0<br>open: 141.2<br>high: 143.94<br>low: 140.07<br>close: 142.81<br>volume: 2135872.0",
          "date: 20191218.0<br>open: 145.88<br>high: 147.0<br>low: 142.4<br>close: 143.5<br>volume: 2229974.0",
          "date: 20191219.0<br>open: 141.62<br>high: 144.66<br>low: 140.53<br>close: 143.53<br>volume: 2296021.0",
          "date: 20191220.0<br>open: 144.7<br>high: 145.79<br>low: 142.48<br>close: 143.58<br>volume: 2314655.0",
          "date: 20191223.0<br>open: 140.05<br>high: 142.55<br>low: 138.92<br>close: 141.44<br>volume: 2448829.0",
          "date: 20191224.0<br>open: 147.74<br>high: 148.83<br>low: 143.42<br>close: 144.52<br>volume: 2431066.0",
          "date: 20191225.0<br>open: 142.78<br>high: 146.39<br>low: 141.67<br>close: 145.28<br>volume: 2575361.0",
          "date: 20191226.0<br>open: 144.34<br>high: 146.06<br>low: 143.25<br>close: 144.97<br>volume: 2609626.0",
          "date: 20191227.0<br>open: 148.67<br>high: 149.76<br>low: 144.79<br>close: 145.89<br>volume: 2452806.0",
          "date: 20191230.0<br>open: 145.16<br>high: 147.36<br>low: 144.06<br>close: 146.24<br>volume: 2520244.0",
          "date: 20191231.0<br>open: 146.73<br>high: 148.91<br>low: 145.63<br>close: 147.8<br>volume: 2612389.0",
          "date: 20200101.0<br>open: 145.19<br>high: 147.32<br>low: 144.08<br>close: 146.22<br>volume: 2623522.0",
          "date: 20200102.0<br>open: 148.18<br>high: 149.26<br>low: 146.57<br>close: 147.7<br>volume: 2674869.0",
          "date: 20200103.0<br>open: 140.27<br>high: 147.04<br>low: 139.16<br>close: 145.93<br>volume: 2750854.0",
          "date: 20200106.0<br>open: 148.96<br>high: 150.05<br>low: 143.44<br>close: 144.53<br>volume: 2760316.0",
          "date: 20200107.0<br>open: 153.64<br>high: 154.75<br>low: 147.21<br>close: 148.33<br>volume: 2895122.0",
          "date: 20200108.0<br>open: 151.65<br>high: 152.78<br>low: 147.41<br>close: 148.51<br>volume: 2874667.0",
          "date: 20200109.0<br>open: 153.78<br>high: 154.9<br>low: 148.73<br>close: 149.84<br>volume: 2864451.0",
          "date: 20200110.0<br>open: 151.97<br>high: 153.07<br>low: 149.63<br>close: 150.74<br>volume: 2888461.0"
         ],
         "type": "scatter",
         "uid": "9b09b0e4-33f1-11ea-8df7-8c859025e7f9",
         "x": [
          1,
          2,
          3,
          4,
          5,
          6,
          7,
          8,
          9,
          10,
          11,
          12,
          13,
          14,
          15,
          16,
          17,
          18,
          19,
          20,
          21,
          22,
          23,
          24,
          25,
          26,
          27,
          28,
          29,
          30,
          31,
          32,
          33,
          34,
          35,
          36,
          37,
          38,
          39,
          40,
          41,
          42,
          43,
          44,
          45,
          46,
          47,
          48,
          49,
          50
         ],
         "xaxis": "x",
         "y": [
          126.9,
          128.88,
          128.87,
          129.6,
          127.24,
          128.72,
          129.08,
          130.27,
          129.57,
          131.54,
          132.3,
          130.93,
          131.4,
          131.9,
          134.03,
          134.61,
          136.69,
          137.37,
          137.77,
          137.67,
          137.58,
          137.12,
          137.44,
          138.41,
          138.56,
          139.55,
          140.38,
          143.24,
          143.11,
          141.66,
          142.26,
          142.81,
          143.5,
          143.53,
          143.58,
          141.44,
          144.52,
          145.28,
          144.97,
          145.89,
          146.24,
          147.8,
          146.22,
          147.7,
          145.93,
          144.53,
          148.33,
          148.51,
          149.84,
          150.74
         ],
         "yaxis": "y"
        },
        {
         "type": "bar",
         "uid": "9b0acb78-33f1-11ea-82b5-8c859025e7f9",
         "width": 0.5,
         "x": [
          1,
          2,
          3,
          4,
          5,
          6,
          7,
          8,
          9,
          10,
          11,
          12,
          13,
          14,
          15,
          16,
          17,
          18,
          19,
          20,
          21,
          22,
          23,
          24,
          25,
          26,
          27,
          28,
          29,
          30,
          31,
          32,
          33,
          34,
          35,
          36,
          37,
          38,
          39,
          40,
          41,
          42,
          43,
          44,
          45,
          46,
          47,
          48,
          49,
          50
         ],
         "xaxis": "x",
         "y": [
          2467633,
          2481655,
          2464120,
          2406211,
          2303044,
          2354824,
          2352136,
          2332562,
          2402712,
          2407905,
          2348237,
          2240126,
          2108755,
          2049904,
          2031316,
          2116949,
          2151449,
          2224127,
          2265921,
          2226350,
          2208417,
          2101406,
          2041957,
          2092391,
          2085057,
          2140467,
          2101641,
          2084150,
          2166044,
          2207442,
          2212078,
          2135872,
          2229974,
          2296021,
          2314655,
          2448829,
          2431066,
          2575361,
          2609626,
          2452806,
          2520244,
          2612389,
          2623522,
          2674869,
          2750854,
          2760316,
          2895122,
          2874667,
          2864451,
          2888461
         ],
         "yaxis": "y2"
        }
       ],
       "layout": {
        "margin": {
         "t": 100
        },
        "shapes": [
         {
          "line": {
           "color": "rgb(55, 128, 191)",
           "width": 1.5
          },
          "type": "line",
          "x0": 1,
          "x1": 1,
          "y0": 122.81,
          "y1": 123.9
         },
         {
          "line": {
           "color": "rgb(55, 128, 191)",
           "width": 1.5
          },
          "type": "line",
          "x0": 2,
          "x1": 2,
          "y0": 127.8,
          "y1": 128.88
         },
         {
          "line": {
           "color": "rgb(55, 128, 191)",
           "width": 1.5
          },
          "type": "line",
          "x0": 3,
          "x1": 3,
          "y0": 127.78,
          "y1": 128.87
         },
         {
          "line": {
           "color": "rgb(55, 128, 191)",
           "width": 1.5
          },
          "type": "line",
          "x0": 4,
          "x1": 4,
          "y0": 126.18,
          "y1": 127.29
         },
         {
          "line": {
           "color": "rgb(55, 128, 191)",
           "width": 1.5
          },
          "type": "line",
          "x0": 5,
          "x1": 5,
          "y0": 123.54,
          "y1": 124.67
         },
         {
          "line": {
           "color": "rgb(55, 128, 191)",
           "width": 1.5
          },
          "type": "line",
          "x0": 6,
          "x1": 6,
          "y0": 127.6,
          "y1": 128.72
         },
         {
          "line": {
           "color": "rgb(55, 128, 191)",
           "width": 1.5
          },
          "type": "line",
          "x0": 7,
          "x1": 7,
          "y0": 123.64,
          "y1": 124.75
         },
         {
          "line": {
           "color": "rgb(55, 128, 191)",
           "width": 1.5
          },
          "type": "line",
          "x0": 8,
          "x1": 8,
          "y0": 128.4,
          "y1": 129.51
         },
         {
          "line": {
           "color": "rgb(55, 128, 191)",
           "width": 1.5
          },
          "type": "line",
          "x0": 9,
          "x1": 9,
          "y0": 128.46,
          "y1": 129.57
         },
         {
          "line": {
           "color": "rgb(55, 128, 191)",
           "width": 1.5
          },
          "type": "line",
          "x0": 10,
          "x1": 10,
          "y0": 130.42,
          "y1": 131.54
         },
         {
          "line": {
           "color": "rgb(55, 128, 191)",
           "width": 1.5
          },
          "type": "line",
          "x0": 11,
          "x1": 11,
          "y0": 130.47,
          "y1": 131.59
         },
         {
          "line": {
           "color": "rgb(55, 128, 191)",
           "width": 1.5
          },
          "type": "line",
          "x0": 12,
          "x1": 12,
          "y0": 129.85,
          "y1": 130.93
         },
         {
          "line": {
           "color": "rgb(55, 128, 191)",
           "width": 1.5
          },
          "type": "line",
          "x0": 13,
          "x1": 13,
          "y0": 128.19,
          "y1": 129.29
         },
         {
          "line": {
           "color": "rgb(55, 128, 191)",
           "width": 1.5
          },
          "type": "line",
          "x0": 14,
          "x1": 14,
          "y0": 130.8,
          "y1": 131.9
         },
         {
          "line": {
           "color": "rgb(55, 128, 191)",
           "width": 1.5
          },
          "type": "line",
          "x0": 15,
          "x1": 15,
          "y0": 128.46,
          "y1": 129.59
         },
         {
          "line": {
           "color": "rgb(55, 128, 191)",
           "width": 1.5
          },
          "type": "line",
          "x0": 16,
          "x1": 16,
          "y0": 133.52,
          "y1": 134.61
         },
         {
          "line": {
           "color": "rgb(55, 128, 191)",
           "width": 1.5
          },
          "type": "line",
          "x0": 17,
          "x1": 17,
          "y0": 135.32,
          "y1": 136.42
         },
         {
          "line": {
           "color": "rgb(55, 128, 191)",
           "width": 1.5
          },
          "type": "line",
          "x0": 18,
          "x1": 18,
          "y0": 136.29,
          "y1": 137.37
         },
         {
          "line": {
           "color": "rgb(55, 128, 191)",
           "width": 1.5
          },
          "type": "line",
          "x0": 19,
          "x1": 19,
          "y0": 135.47,
          "y1": 136.6
         },
         {
          "line": {
           "color": "rgb(55, 128, 191)",
           "width": 1.5
          },
          "type": "line",
          "x0": 20,
          "x1": 20,
          "y0": 136.57,
          "y1": 137.67
         },
         {
          "line": {
           "color": "rgb(55, 128, 191)",
           "width": 1.5
          },
          "type": "line",
          "x0": 21,
          "x1": 21,
          "y0": 136.45,
          "y1": 137.56
         },
         {
          "line": {
           "color": "rgb(55, 128, 191)",
           "width": 1.5
          },
          "type": "line",
          "x0": 22,
          "x1": 22,
          "y0": 135.99,
          "y1": 137.12
         },
         {
          "line": {
           "color": "rgb(55, 128, 191)",
           "width": 1.5
          },
          "type": "line",
          "x0": 23,
          "x1": 23,
          "y0": 134.26,
          "y1": 135.38
         },
         {
          "line": {
           "color": "rgb(55, 128, 191)",
           "width": 1.5
          },
          "type": "line",
          "x0": 24,
          "x1": 24,
          "y0": 137.28,
          "y1": 138.41
         },
         {
          "line": {
           "color": "rgb(55, 128, 191)",
           "width": 1.5
          },
          "type": "line",
          "x0": 25,
          "x1": 25,
          "y0": 137.46,
          "y1": 138.56
         },
         {
          "line": {
           "color": "rgb(55, 128, 191)",
           "width": 1.5
          },
          "type": "line",
          "x0": 26,
          "x1": 26,
          "y0": 138.42,
          "y1": 139.55
         },
         {
          "line": {
           "color": "rgb(55, 128, 191)",
           "width": 1.5
          },
          "type": "line",
          "x0": 27,
          "x1": 27,
          "y0": 139.28,
          "y1": 140.38
         },
         {
          "line": {
           "color": "rgb(55, 128, 191)",
           "width": 1.5
          },
          "type": "line",
          "x0": 28,
          "x1": 28,
          "y0": 141.6,
          "y1": 142.71
         },
         {
          "line": {
           "color": "rgb(55, 128, 191)",
           "width": 1.5
          },
          "type": "line",
          "x0": 29,
          "x1": 29,
          "y0": 139.92,
          "y1": 140.99
         },
         {
          "line": {
           "color": "rgb(55, 128, 191)",
           "width": 1.5
          },
          "type": "line",
          "x0": 30,
          "x1": 30,
          "y0": 138.66,
          "y1": 139.79
         },
         {
          "line": {
           "color": "rgb(55, 128, 191)",
           "width": 1.5
          },
          "type": "line",
          "x0": 31,
          "x1": 31,
          "y0": 138.74,
          "y1": 139.85
         },
         {
          "line": {
           "color": "rgb(55, 128, 191)",
           "width": 1.5
          },
          "type": "line",
          "x0": 32,
          "x1": 32,
          "y0": 140.07,
          "y1": 141.2
         },
         {
          "line": {
           "color": "rgb(55, 128, 191)",
           "width": 1.5
          },
          "type": "line",
          "x0": 33,
          "x1": 33,
          "y0": 142.4,
          "y1": 143.5
         },
         {
          "line": {
           "color": "rgb(55, 128, 191)",
           "width": 1.5
          },
          "type": "line",
          "x0": 34,
          "x1": 34,
          "y0": 140.53,
          "y1": 141.62
         },
         {
          "line": {
           "color": "rgb(55, 128, 191)",
           "width": 1.5
          },
          "type": "line",
          "x0": 35,
          "x1": 35,
          "y0": 142.48,
          "y1": 143.58
         },
         {
          "line": {
           "color": "rgb(55, 128, 191)",
           "width": 1.5
          },
          "type": "line",
          "x0": 36,
          "x1": 36,
          "y0": 138.92,
          "y1": 140.05
         },
         {
          "line": {
           "color": "rgb(55, 128, 191)",
           "width": 1.5
          },
          "type": "line",
          "x0": 37,
          "x1": 37,
          "y0": 143.42,
          "y1": 144.52
         },
         {
          "line": {
           "color": "rgb(55, 128, 191)",
           "width": 1.5
          },
          "type": "line",
          "x0": 38,
          "x1": 38,
          "y0": 141.67,
          "y1": 142.78
         },
         {
          "line": {
           "color": "rgb(55, 128, 191)",
           "width": 1.5
          },
          "type": "line",
          "x0": 39,
          "x1": 39,
          "y0": 143.25,
          "y1": 144.34
         },
         {
          "line": {
           "color": "rgb(55, 128, 191)",
           "width": 1.5
          },
          "type": "line",
          "x0": 40,
          "x1": 40,
          "y0": 144.79,
          "y1": 145.89
         },
         {
          "line": {
           "color": "rgb(55, 128, 191)",
           "width": 1.5
          },
          "type": "line",
          "x0": 41,
          "x1": 41,
          "y0": 144.06,
          "y1": 145.16
         },
         {
          "line": {
           "color": "rgb(55, 128, 191)",
           "width": 1.5
          },
          "type": "line",
          "x0": 42,
          "x1": 42,
          "y0": 145.63,
          "y1": 146.73
         },
         {
          "line": {
           "color": "rgb(55, 128, 191)",
           "width": 1.5
          },
          "type": "line",
          "x0": 43,
          "x1": 43,
          "y0": 144.08,
          "y1": 145.19
         },
         {
          "line": {
           "color": "rgb(55, 128, 191)",
           "width": 1.5
          },
          "type": "line",
          "x0": 44,
          "x1": 44,
          "y0": 146.57,
          "y1": 147.7
         },
         {
          "line": {
           "color": "rgb(55, 128, 191)",
           "width": 1.5
          },
          "type": "line",
          "x0": 45,
          "x1": 45,
          "y0": 139.16,
          "y1": 140.27
         },
         {
          "line": {
           "color": "rgb(55, 128, 191)",
           "width": 1.5
          },
          "type": "line",
          "x0": 46,
          "x1": 46,
          "y0": 143.44,
          "y1": 144.53
         },
         {
          "line": {
           "color": "rgb(55, 128, 191)",
           "width": 1.5
          },
          "type": "line",
          "x0": 47,
          "x1": 47,
          "y0": 147.21,
          "y1": 148.33
         },
         {
          "line": {
           "color": "rgb(55, 128, 191)",
           "width": 1.5
          },
          "type": "line",
          "x0": 48,
          "x1": 48,
          "y0": 147.41,
          "y1": 148.51
         },
         {
          "line": {
           "color": "rgb(55, 128, 191)",
           "width": 1.5
          },
          "type": "line",
          "x0": 49,
          "x1": 49,
          "y0": 148.73,
          "y1": 149.84
         },
         {
          "line": {
           "color": "rgb(55, 128, 191)",
           "width": 1.5
          },
          "type": "line",
          "x0": 50,
          "x1": 50,
          "y0": 149.63,
          "y1": 150.74
         },
         {
          "fillcolor": "rgba(0, 204, 0, 0.6)",
          "line": {
           "color": "rgb(55, 128, 191)",
           "width": 1
          },
          "type": "rect",
          "x0": 0.75,
          "x1": 1.25,
          "xref": "x",
          "y0": 123.9,
          "y1": 126.9,
          "yref": "y"
         },
         {
          "fillcolor": "rgba(255, 0, 0, 0.6)",
          "line": {
           "color": "rgb(55, 128, 191)",
           "width": 1
          },
          "type": "rect",
          "x0": 1.75,
          "x1": 2.25,
          "xref": "x",
          "y0": 128.88,
          "y1": 128.96,
          "yref": "y"
         },
         {
          "fillcolor": "rgba(255, 0, 0, 0.6)",
          "line": {
           "color": "rgb(55, 128, 191)",
           "width": 1
          },
          "type": "rect",
          "x0": 2.75,
          "x1": 3.25,
          "xref": "x",
          "y0": 128.87,
          "y1": 130.36,
          "yref": "y"
         },
         {
          "fillcolor": "rgba(0, 204, 0, 0.6)",
          "line": {
           "color": "rgb(55, 128, 191)",
           "width": 1
          },
          "type": "rect",
          "x0": 3.75,
          "x1": 4.25,
          "xref": "x",
          "y0": 127.29,
          "y1": 129.6,
          "yref": "y"
         },
         {
          "fillcolor": "rgba(0, 204, 0, 0.6)",
          "line": {
           "color": "rgb(55, 128, 191)",
           "width": 1
          },
          "type": "rect",
          "x0": 4.75,
          "x1": 5.25,
          "xref": "x",
          "y0": 124.67,
          "y1": 127.24,
          "yref": "y"
         },
         {
          "fillcolor": "rgba(255, 0, 0, 0.6)",
          "line": {
           "color": "rgb(55, 128, 191)",
           "width": 1
          },
          "type": "rect",
          "x0": 5.75,
          "x1": 6.25,
          "xref": "x",
          "y0": 128.72,
          "y1": 128.8,
          "yref": "y"
         },
         {
          "fillcolor": "rgba(0, 204, 0, 0.6)",
          "line": {
           "color": "rgb(55, 128, 191)",
           "width": 1
          },
          "type": "rect",
          "x0": 6.75,
          "x1": 7.25,
          "xref": "x",
          "y0": 124.75,
          "y1": 129.08,
          "yref": "y"
         },
         {
          "fillcolor": "rgba(0, 204, 0, 0.6)",
          "line": {
           "color": "rgb(55, 128, 191)",
           "width": 1
          },
          "type": "rect",
          "x0": 7.75,
          "x1": 8.25,
          "xref": "x",
          "y0": 129.51,
          "y1": 130.27,
          "yref": "y"
         },
         {
          "fillcolor": "rgba(255, 0, 0, 0.6)",
          "line": {
           "color": "rgb(55, 128, 191)",
           "width": 1
          },
          "type": "rect",
          "x0": 8.75,
          "x1": 9.25,
          "xref": "x",
          "y0": 129.57,
          "y1": 134.78,
          "yref": "y"
         },
         {
          "fillcolor": "rgba(255, 0, 0, 0.6)",
          "line": {
           "color": "rgb(55, 128, 191)",
           "width": 1
          },
          "type": "rect",
          "x0": 9.75,
          "x1": 10.25,
          "xref": "x",
          "y0": 131.54,
          "y1": 132.74,
          "yref": "y"
         },
         {
          "fillcolor": "rgba(0, 204, 0, 0.6)",
          "line": {
           "color": "rgb(55, 128, 191)",
           "width": 1
          },
          "type": "rect",
          "x0": 10.75,
          "x1": 11.25,
          "xref": "x",
          "y0": 131.59,
          "y1": 132.3,
          "yref": "y"
         },
         {
          "fillcolor": "rgba(255, 0, 0, 0.6)",
          "line": {
           "color": "rgb(55, 128, 191)",
           "width": 1
          },
          "type": "rect",
          "x0": 11.75,
          "x1": 12.25,
          "xref": "x",
          "y0": 130.93,
          "y1": 132.58,
          "yref": "y"
         },
         {
          "fillcolor": "rgba(0, 204, 0, 0.6)",
          "line": {
           "color": "rgb(55, 128, 191)",
           "width": 1
          },
          "type": "rect",
          "x0": 12.75,
          "x1": 13.25,
          "xref": "x",
          "y0": 129.29,
          "y1": 131.4,
          "yref": "y"
         },
         {
          "fillcolor": "rgba(255, 0, 0, 0.6)",
          "line": {
           "color": "rgb(55, 128, 191)",
           "width": 1
          },
          "type": "rect",
          "x0": 13.75,
          "x1": 14.25,
          "xref": "x",
          "y0": 131.9,
          "y1": 133.46,
          "yref": "y"
         },
         {
          "fillcolor": "rgba(0, 204, 0, 0.6)",
          "line": {
           "color": "rgb(55, 128, 191)",
           "width": 1
          },
          "type": "rect",
          "x0": 14.75,
          "x1": 15.25,
          "xref": "x",
          "y0": 129.59,
          "y1": 134.03,
          "yref": "y"
         },
         {
          "fillcolor": "rgba(255, 0, 0, 0.6)",
          "line": {
           "color": "rgb(55, 128, 191)",
           "width": 1
          },
          "type": "rect",
          "x0": 15.75,
          "x1": 16.25,
          "xref": "x",
          "y0": 134.61,
          "y1": 136.08,
          "yref": "y"
         },
         {
          "fillcolor": "rgba(0, 204, 0, 0.6)",
          "line": {
           "color": "rgb(55, 128, 191)",
           "width": 1
          },
          "type": "rect",
          "x0": 16.75,
          "x1": 17.25,
          "xref": "x",
          "y0": 136.42,
          "y1": 136.69,
          "yref": "y"
         },
         {
          "fillcolor": "rgba(255, 0, 0, 0.6)",
          "line": {
           "color": "rgb(55, 128, 191)",
           "width": 1
          },
          "type": "rect",
          "x0": 17.75,
          "x1": 18.25,
          "xref": "x",
          "y0": 137.37,
          "y1": 141.47,
          "yref": "y"
         },
         {
          "fillcolor": "rgba(0, 204, 0, 0.6)",
          "line": {
           "color": "rgb(55, 128, 191)",
           "width": 1
          },
          "type": "rect",
          "x0": 18.75,
          "x1": 19.25,
          "xref": "x",
          "y0": 136.6,
          "y1": 137.77,
          "yref": "y"
         },
         {
          "fillcolor": "rgba(255, 0, 0, 0.6)",
          "line": {
           "color": "rgb(55, 128, 191)",
           "width": 1
          },
          "type": "rect",
          "x0": 19.75,
          "x1": 20.25,
          "xref": "x",
          "y0": 137.67,
          "y1": 137.83,
          "yref": "y"
         },
         {
          "fillcolor": "rgba(0, 204, 0, 0.6)",
          "line": {
           "color": "rgb(55, 128, 191)",
           "width": 1
          },
          "type": "rect",
          "x0": 20.75,
          "x1": 21.25,
          "xref": "x",
          "y0": 137.56,
          "y1": 137.58,
          "yref": "y"
         },
         {
          "fillcolor": "rgba(255, 0, 0, 0.6)",
          "line": {
           "color": "rgb(55, 128, 191)",
           "width": 1
          },
          "type": "rect",
          "x0": 21.75,
          "x1": 22.25,
          "xref": "x",
          "y0": 137.12,
          "y1": 138.41,
          "yref": "y"
         },
         {
          "fillcolor": "rgba(0, 204, 0, 0.6)",
          "line": {
           "color": "rgb(55, 128, 191)",
           "width": 1
          },
          "type": "rect",
          "x0": 22.75,
          "x1": 23.25,
          "xref": "x",
          "y0": 135.38,
          "y1": 137.44,
          "yref": "y"
         },
         {
          "fillcolor": "rgba(255, 0, 0, 0.6)",
          "line": {
           "color": "rgb(55, 128, 191)",
           "width": 1
          },
          "type": "rect",
          "x0": 23.75,
          "x1": 24.25,
          "xref": "x",
          "y0": 138.41,
          "y1": 139.46,
          "yref": "y"
         },
         {
          "fillcolor": "rgba(255, 0, 0, 0.6)",
          "line": {
           "color": "rgb(55, 128, 191)",
           "width": 1
          },
          "type": "rect",
          "x0": 24.75,
          "x1": 25.25,
          "xref": "x",
          "y0": 138.56,
          "y1": 140.16,
          "yref": "y"
         },
         {
          "fillcolor": "rgba(255, 0, 0, 0.6)",
          "line": {
           "color": "rgb(55, 128, 191)",
           "width": 1
          },
          "type": "rect",
          "x0": 25.75,
          "x1": 26.25,
          "xref": "x",
          "y0": 139.55,
          "y1": 140.9,
          "yref": "y"
         },
         {
          "fillcolor": "rgba(255, 0, 0, 0.6)",
          "line": {
           "color": "rgb(55, 128, 191)",
           "width": 1
          },
          "type": "rect",
          "x0": 26.75,
          "x1": 27.25,
          "xref": "x",
          "y0": 140.38,
          "y1": 140.91,
          "yref": "y"
         },
         {
          "fillcolor": "rgba(0, 204, 0, 0.6)",
          "line": {
           "color": "rgb(55, 128, 191)",
           "width": 1
          },
          "type": "rect",
          "x0": 27.75,
          "x1": 28.25,
          "xref": "x",
          "y0": 142.71,
          "y1": 143.24,
          "yref": "y"
         },
         {
          "fillcolor": "rgba(0, 204, 0, 0.6)",
          "line": {
           "color": "rgb(55, 128, 191)",
           "width": 1
          },
          "type": "rect",
          "x0": 28.75,
          "x1": 29.25,
          "xref": "x",
          "y0": 140.99,
          "y1": 143.11,
          "yref": "y"
         },
         {
          "fillcolor": "rgba(0, 204, 0, 0.6)",
          "line": {
           "color": "rgb(55, 128, 191)",
           "width": 1
          },
          "type": "rect",
          "x0": 29.75,
          "x1": 30.25,
          "xref": "x",
          "y0": 139.79,
          "y1": 141.66,
          "yref": "y"
         },
         {
          "fillcolor": "rgba(0, 204, 0, 0.6)",
          "line": {
           "color": "rgb(55, 128, 191)",
           "width": 1
          },
          "type": "rect",
          "x0": 30.75,
          "x1": 31.25,
          "xref": "x",
          "y0": 139.85,
          "y1": 142.26,
          "yref": "y"
         },
         {
          "fillcolor": "rgba(0, 204, 0, 0.6)",
          "line": {
           "color": "rgb(55, 128, 191)",
           "width": 1
          },
          "type": "rect",
          "x0": 31.75,
          "x1": 32.25,
          "xref": "x",
          "y0": 141.2,
          "y1": 142.81,
          "yref": "y"
         },
         {
          "fillcolor": "rgba(255, 0, 0, 0.6)",
          "line": {
           "color": "rgb(55, 128, 191)",
           "width": 1
          },
          "type": "rect",
          "x0": 32.75,
          "x1": 33.25,
          "xref": "x",
          "y0": 143.5,
          "y1": 145.88,
          "yref": "y"
         },
         {
          "fillcolor": "rgba(0, 204, 0, 0.6)",
          "line": {
           "color": "rgb(55, 128, 191)",
           "width": 1
          },
          "type": "rect",
          "x0": 33.75,
          "x1": 34.25,
          "xref": "x",
          "y0": 141.62,
          "y1": 143.53,
          "yref": "y"
         },
         {
          "fillcolor": "rgba(255, 0, 0, 0.6)",
          "line": {
           "color": "rgb(55, 128, 191)",
           "width": 1
          },
          "type": "rect",
          "x0": 34.75,
          "x1": 35.25,
          "xref": "x",
          "y0": 143.58,
          "y1": 144.7,
          "yref": "y"
         },
         {
          "fillcolor": "rgba(0, 204, 0, 0.6)",
          "line": {
           "color": "rgb(55, 128, 191)",
           "width": 1
          },
          "type": "rect",
          "x0": 35.75,
          "x1": 36.25,
          "xref": "x",
          "y0": 140.05,
          "y1": 141.44,
          "yref": "y"
         },
         {
          "fillcolor": "rgba(255, 0, 0, 0.6)",
          "line": {
           "color": "rgb(55, 128, 191)",
           "width": 1
          },
          "type": "rect",
          "x0": 36.75,
          "x1": 37.25,
          "xref": "x",
          "y0": 144.52,
          "y1": 147.74,
          "yref": "y"
         },
         {
          "fillcolor": "rgba(0, 204, 0, 0.6)",
          "line": {
           "color": "rgb(55, 128, 191)",
           "width": 1
          },
          "type": "rect",
          "x0": 37.75,
          "x1": 38.25,
          "xref": "x",
          "y0": 142.78,
          "y1": 145.28,
          "yref": "y"
         },
         {
          "fillcolor": "rgba(0, 204, 0, 0.6)",
          "line": {
           "color": "rgb(55, 128, 191)",
           "width": 1
          },
          "type": "rect",
          "x0": 38.75,
          "x1": 39.25,
          "xref": "x",
          "y0": 144.34,
          "y1": 144.97,
          "yref": "y"
         },
         {
          "fillcolor": "rgba(255, 0, 0, 0.6)",
          "line": {
           "color": "rgb(55, 128, 191)",
           "width": 1
          },
          "type": "rect",
          "x0": 39.75,
          "x1": 40.25,
          "xref": "x",
          "y0": 145.89,
          "y1": 148.67,
          "yref": "y"
         },
         {
          "fillcolor": "rgba(0, 204, 0, 0.6)",
          "line": {
           "color": "rgb(55, 128, 191)",
           "width": 1
          },
          "type": "rect",
          "x0": 40.75,
          "x1": 41.25,
          "xref": "x",
          "y0": 145.16,
          "y1": 146.24,
          "yref": "y"
         },
         {
          "fillcolor": "rgba(0, 204, 0, 0.6)",
          "line": {
           "color": "rgb(55, 128, 191)",
           "width": 1
          },
          "type": "rect",
          "x0": 41.75,
          "x1": 42.25,
          "xref": "x",
          "y0": 146.73,
          "y1": 147.8,
          "yref": "y"
         },
         {
          "fillcolor": "rgba(0, 204, 0, 0.6)",
          "line": {
           "color": "rgb(55, 128, 191)",
           "width": 1
          },
          "type": "rect",
          "x0": 42.75,
          "x1": 43.25,
          "xref": "x",
          "y0": 145.19,
          "y1": 146.22,
          "yref": "y"
         },
         {
          "fillcolor": "rgba(255, 0, 0, 0.6)",
          "line": {
           "color": "rgb(55, 128, 191)",
           "width": 1
          },
          "type": "rect",
          "x0": 43.75,
          "x1": 44.25,
          "xref": "x",
          "y0": 147.7,
          "y1": 148.18,
          "yref": "y"
         },
         {
          "fillcolor": "rgba(0, 204, 0, 0.6)",
          "line": {
           "color": "rgb(55, 128, 191)",
           "width": 1
          },
          "type": "rect",
          "x0": 44.75,
          "x1": 45.25,
          "xref": "x",
          "y0": 140.27,
          "y1": 145.93,
          "yref": "y"
         },
         {
          "fillcolor": "rgba(255, 0, 0, 0.6)",
          "line": {
           "color": "rgb(55, 128, 191)",
           "width": 1
          },
          "type": "rect",
          "x0": 45.75,
          "x1": 46.25,
          "xref": "x",
          "y0": 144.53,
          "y1": 148.96,
          "yref": "y"
         },
         {
          "fillcolor": "rgba(255, 0, 0, 0.6)",
          "line": {
           "color": "rgb(55, 128, 191)",
           "width": 1
          },
          "type": "rect",
          "x0": 46.75,
          "x1": 47.25,
          "xref": "x",
          "y0": 148.33,
          "y1": 153.64,
          "yref": "y"
         },
         {
          "fillcolor": "rgba(255, 0, 0, 0.6)",
          "line": {
           "color": "rgb(55, 128, 191)",
           "width": 1
          },
          "type": "rect",
          "x0": 47.75,
          "x1": 48.25,
          "xref": "x",
          "y0": 148.51,
          "y1": 151.65,
          "yref": "y"
         },
         {
          "fillcolor": "rgba(255, 0, 0, 0.6)",
          "line": {
           "color": "rgb(55, 128, 191)",
           "width": 1
          },
          "type": "rect",
          "x0": 48.75,
          "x1": 49.25,
          "xref": "x",
          "y0": 149.84,
          "y1": 153.78,
          "yref": "y"
         },
         {
          "fillcolor": "rgba(255, 0, 0, 0.6)",
          "line": {
           "color": "rgb(55, 128, 191)",
           "width": 1
          },
          "type": "rect",
          "x0": 49.75,
          "x1": 50.25,
          "xref": "x",
          "y0": 150.74,
          "y1": 151.97,
          "yref": "y"
         },
         {
          "line": {
           "color": "rgb(55, 128, 191)",
           "width": 1.5
          },
          "type": "line",
          "x0": 1,
          "x1": 1,
          "y0": 126.9,
          "y1": 128
         },
         {
          "line": {
           "color": "rgb(55, 128, 191)",
           "width": 1.5
          },
          "type": "line",
          "x0": 2,
          "x1": 2,
          "y0": 128.96,
          "y1": 130.07
         },
         {
          "line": {
           "color": "rgb(55, 128, 191)",
           "width": 1.5
          },
          "type": "line",
          "x0": 3,
          "x1": 3,
          "y0": 130.36,
          "y1": 131.46
         },
         {
          "line": {
           "color": "rgb(55, 128, 191)",
           "width": 1.5
          },
          "type": "line",
          "x0": 4,
          "x1": 4,
          "y0": 129.6,
          "y1": 130.71
         },
         {
          "line": {
           "color": "rgb(55, 128, 191)",
           "width": 1.5
          },
          "type": "line",
          "x0": 5,
          "x1": 5,
          "y0": 127.24,
          "y1": 128.33
         },
         {
          "line": {
           "color": "rgb(55, 128, 191)",
           "width": 1.5
          },
          "type": "line",
          "x0": 6,
          "x1": 6,
          "y0": 128.8,
          "y1": 129.92
         },
         {
          "line": {
           "color": "rgb(55, 128, 191)",
           "width": 1.5
          },
          "type": "line",
          "x0": 7,
          "x1": 7,
          "y0": 129.08,
          "y1": 130.19
         },
         {
          "line": {
           "color": "rgb(55, 128, 191)",
           "width": 1.5
          },
          "type": "line",
          "x0": 8,
          "x1": 8,
          "y0": 130.27,
          "y1": 131.39
         },
         {
          "line": {
           "color": "rgb(55, 128, 191)",
           "width": 1.5
          },
          "type": "line",
          "x0": 9,
          "x1": 9,
          "y0": 134.78,
          "y1": 135.88
         },
         {
          "line": {
           "color": "rgb(55, 128, 191)",
           "width": 1.5
          },
          "type": "line",
          "x0": 10,
          "x1": 10,
          "y0": 132.74,
          "y1": 133.85
         },
         {
          "line": {
           "color": "rgb(55, 128, 191)",
           "width": 1.5
          },
          "type": "line",
          "x0": 11,
          "x1": 11,
          "y0": 132.3,
          "y1": 133.41
         },
         {
          "line": {
           "color": "rgb(55, 128, 191)",
           "width": 1.5
          },
          "type": "line",
          "x0": 12,
          "x1": 12,
          "y0": 132.58,
          "y1": 133.68
         },
         {
          "line": {
           "color": "rgb(55, 128, 191)",
           "width": 1.5
          },
          "type": "line",
          "x0": 13,
          "x1": 13,
          "y0": 131.4,
          "y1": 132.49
         },
         {
          "line": {
           "color": "rgb(55, 128, 191)",
           "width": 1.5
          },
          "type": "line",
          "x0": 14,
          "x1": 14,
          "y0": 133.46,
          "y1": 134.58
         },
         {
          "line": {
           "color": "rgb(55, 128, 191)",
           "width": 1.5
          },
          "type": "line",
          "x0": 15,
          "x1": 15,
          "y0": 134.03,
          "y1": 135.12
         },
         {
          "line": {
           "color": "rgb(55, 128, 191)",
           "width": 1.5
          },
          "type": "line",
          "x0": 16,
          "x1": 16,
          "y0": 136.08,
          "y1": 137.19
         },
         {
          "line": {
           "color": "rgb(55, 128, 191)",
           "width": 1.5
          },
          "type": "line",
          "x0": 17,
          "x1": 17,
          "y0": 136.69,
          "y1": 137.78
         },
         {
          "line": {
           "color": "rgb(55, 128, 191)",
           "width": 1.5
          },
          "type": "line",
          "x0": 18,
          "x1": 18,
          "y0": 141.47,
          "y1": 142.57
         },
         {
          "line": {
           "color": "rgb(55, 128, 191)",
           "width": 1.5
          },
          "type": "line",
          "x0": 19,
          "x1": 19,
          "y0": 137.77,
          "y1": 138.88
         },
         {
          "line": {
           "color": "rgb(55, 128, 191)",
           "width": 1.5
          },
          "type": "line",
          "x0": 20,
          "x1": 20,
          "y0": 137.83,
          "y1": 138.94
         },
         {
          "line": {
           "color": "rgb(55, 128, 191)",
           "width": 1.5
          },
          "type": "line",
          "x0": 21,
          "x1": 21,
          "y0": 137.58,
          "y1": 138.68
         },
         {
          "line": {
           "color": "rgb(55, 128, 191)",
           "width": 1.5
          },
          "type": "line",
          "x0": 22,
          "x1": 22,
          "y0": 138.41,
          "y1": 139.5
         },
         {
          "line": {
           "color": "rgb(55, 128, 191)",
           "width": 1.5
          },
          "type": "line",
          "x0": 23,
          "x1": 23,
          "y0": 137.44,
          "y1": 138.53
         },
         {
          "line": {
           "color": "rgb(55, 128, 191)",
           "width": 1.5
          },
          "type": "line",
          "x0": 24,
          "x1": 24,
          "y0": 139.46,
          "y1": 140.56
         },
         {
          "line": {
           "color": "rgb(55, 128, 191)",
           "width": 1.5
          },
          "type": "line",
          "x0": 25,
          "x1": 25,
          "y0": 140.16,
          "y1": 141.27
         },
         {
          "line": {
           "color": "rgb(55, 128, 191)",
           "width": 1.5
          },
          "type": "line",
          "x0": 26,
          "x1": 26,
          "y0": 140.9,
          "y1": 142.01
         },
         {
          "line": {
           "color": "rgb(55, 128, 191)",
           "width": 1.5
          },
          "type": "line",
          "x0": 27,
          "x1": 27,
          "y0": 140.91,
          "y1": 142.01
         },
         {
          "line": {
           "color": "rgb(55, 128, 191)",
           "width": 1.5
          },
          "type": "line",
          "x0": 28,
          "x1": 28,
          "y0": 143.24,
          "y1": 144.35
         },
         {
          "line": {
           "color": "rgb(55, 128, 191)",
           "width": 1.5
          },
          "type": "line",
          "x0": 29,
          "x1": 29,
          "y0": 143.11,
          "y1": 144.23
         },
         {
          "line": {
           "color": "rgb(55, 128, 191)",
           "width": 1.5
          },
          "type": "line",
          "x0": 30,
          "x1": 30,
          "y0": 141.66,
          "y1": 142.76
         },
         {
          "line": {
           "color": "rgb(55, 128, 191)",
           "width": 1.5
          },
          "type": "line",
          "x0": 31,
          "x1": 31,
          "y0": 142.26,
          "y1": 143.36
         },
         {
          "line": {
           "color": "rgb(55, 128, 191)",
           "width": 1.5
          },
          "type": "line",
          "x0": 32,
          "x1": 32,
          "y0": 142.81,
          "y1": 143.94
         },
         {
          "line": {
           "color": "rgb(55, 128, 191)",
           "width": 1.5
          },
          "type": "line",
          "x0": 33,
          "x1": 33,
          "y0": 145.88,
          "y1": 147
         },
         {
          "line": {
           "color": "rgb(55, 128, 191)",
           "width": 1.5
          },
          "type": "line",
          "x0": 34,
          "x1": 34,
          "y0": 143.53,
          "y1": 144.66
         },
         {
          "line": {
           "color": "rgb(55, 128, 191)",
           "width": 1.5
          },
          "type": "line",
          "x0": 35,
          "x1": 35,
          "y0": 144.7,
          "y1": 145.79
         },
         {
          "line": {
           "color": "rgb(55, 128, 191)",
           "width": 1.5
          },
          "type": "line",
          "x0": 36,
          "x1": 36,
          "y0": 141.44,
          "y1": 142.55
         },
         {
          "line": {
           "color": "rgb(55, 128, 191)",
           "width": 1.5
          },
          "type": "line",
          "x0": 37,
          "x1": 37,
          "y0": 147.74,
          "y1": 148.83
         },
         {
          "line": {
           "color": "rgb(55, 128, 191)",
           "width": 1.5
          },
          "type": "line",
          "x0": 38,
          "x1": 38,
          "y0": 145.28,
          "y1": 146.39
         },
         {
          "line": {
           "color": "rgb(55, 128, 191)",
           "width": 1.5
          },
          "type": "line",
          "x0": 39,
          "x1": 39,
          "y0": 144.97,
          "y1": 146.06
         },
         {
          "line": {
           "color": "rgb(55, 128, 191)",
           "width": 1.5
          },
          "type": "line",
          "x0": 40,
          "x1": 40,
          "y0": 148.67,
          "y1": 149.76
         },
         {
          "line": {
           "color": "rgb(55, 128, 191)",
           "width": 1.5
          },
          "type": "line",
          "x0": 41,
          "x1": 41,
          "y0": 146.24,
          "y1": 147.36
         },
         {
          "line": {
           "color": "rgb(55, 128, 191)",
           "width": 1.5
          },
          "type": "line",
          "x0": 42,
          "x1": 42,
          "y0": 147.8,
          "y1": 148.91
         },
         {
          "line": {
           "color": "rgb(55, 128, 191)",
           "width": 1.5
          },
          "type": "line",
          "x0": 43,
          "x1": 43,
          "y0": 146.22,
          "y1": 147.32
         },
         {
          "line": {
           "color": "rgb(55, 128, 191)",
           "width": 1.5
          },
          "type": "line",
          "x0": 44,
          "x1": 44,
          "y0": 148.18,
          "y1": 149.26
         },
         {
          "line": {
           "color": "rgb(55, 128, 191)",
           "width": 1.5
          },
          "type": "line",
          "x0": 45,
          "x1": 45,
          "y0": 145.93,
          "y1": 147.04
         },
         {
          "line": {
           "color": "rgb(55, 128, 191)",
           "width": 1.5
          },
          "type": "line",
          "x0": 46,
          "x1": 46,
          "y0": 148.96,
          "y1": 150.05
         },
         {
          "line": {
           "color": "rgb(55, 128, 191)",
           "width": 1.5
          },
          "type": "line",
          "x0": 47,
          "x1": 47,
          "y0": 153.64,
          "y1": 154.75
         },
         {
          "line": {
           "color": "rgb(55, 128, 191)",
           "width": 1.5
          },
          "type": "line",
          "x0": 48,
          "x1": 48,
          "y0": 151.65,
          "y1": 152.78
         },
         {
          "line": {
           "color": "rgb(55, 128, 191)",
           "width": 1.5
          },
          "type": "line",
          "x0": 49,
          "x1": 49,
          "y0": 153.78,
          "y1": 154.9
         },
         {
          "line": {
           "color": "rgb(55, 128, 191)",
           "width": 1.5
          },
          "type": "line",
          "x0": 50,
          "x1": 50,
          "y0": 151.97,
          "y1": 153.07
         }
        ],
        "showlegend": false,
        "title": "Random Walk",
        "xaxis": {
         "anchor": "y2",
         "showgrid": true,
         "showticklabels": true,
         "tickangle": 90,
         "tickmode": "array",
         "ticktext": [
          20191104,
          20191106,
          20191108,
          20191112,
          20191114,
          20191118,
          20191120,
          20191122,
          20191126,
          20191128,
          20191202,
          20191204,
          20191206,
          20191210,
          20191212,
          20191216,
          20191218,
          20191220,
          20191224,
          20191226,
          20191230,
          20200101,
          20200103,
          20200107,
          20200109,
          20200110
         ],
         "tickvals": [
          1,
          3,
          5,
          7,
          9,
          11,
          13,
          15,
          17,
          19,
          21,
          23,
          25,
          27,
          29,
          31,
          33,
          35,
          37,
          39,
          41,
          43,
          45,
          47,
          49,
          50
         ]
        },
        "yaxis": {
         "domain": [
          0.22,
          1
         ],
         "range": [
          122.81,
          154.9
         ]
        },
        "yaxis2": {
         "domain": [
          0,
          0.2
         ],
         "range": [
          0,
          2895122
         ]
        }
       }
      },
      "text/html": [
       "<div id=\"1093b2aa-730d-4202-bbc2-19dd43021b3f\" style=\"height: 525px; width: 100%;\" class=\"plotly-graph-div\"></div><script type=\"text/javascript\">require([\"plotly\"], function(Plotly) { window.PLOTLYENV=window.PLOTLYENV || {};window.PLOTLYENV.BASE_URL=\"https://plot.ly\";Plotly.newPlot(\"1093b2aa-730d-4202-bbc2-19dd43021b3f\", [{\"hoverinfo\": \"text\", \"mode\": \"markers\", \"text\": [\"date: 20191104.0<br>open: 123.9<br>high: 128.0<br>low: 122.81<br>close: 126.9<br>volume: 2467633.0\", \"date: 20191105.0<br>open: 128.96<br>high: 130.07<br>low: 127.8<br>close: 128.88<br>volume: 2481655.0\", \"date: 20191106.0<br>open: 130.36<br>high: 131.46<br>low: 127.78<br>close: 128.87<br>volume: 2464120.0\", \"date: 20191107.0<br>open: 127.29<br>high: 130.71<br>low: 126.18<br>close: 129.6<br>volume: 2406211.0\", \"date: 20191108.0<br>open: 124.67<br>high: 128.33<br>low: 123.54<br>close: 127.24<br>volume: 2303044.0\", \"date: 20191111.0<br>open: 128.8<br>high: 129.92<br>low: 127.6<br>close: 128.72<br>volume: 2354824.0\", \"date: 20191112.0<br>open: 124.75<br>high: 130.19<br>low: 123.64<br>close: 129.08<br>volume: 2352136.0\", \"date: 20191113.0<br>open: 129.51<br>high: 131.39<br>low: 128.4<br>close: 130.27<br>volume: 2332562.0\", \"date: 20191114.0<br>open: 134.78<br>high: 135.88<br>low: 128.46<br>close: 129.57<br>volume: 2402712.0\", \"date: 20191115.0<br>open: 132.74<br>high: 133.85<br>low: 130.42<br>close: 131.54<br>volume: 2407905.0\", \"date: 20191118.0<br>open: 131.59<br>high: 133.41<br>low: 130.47<br>close: 132.3<br>volume: 2348237.0\", \"date: 20191119.0<br>open: 132.58<br>high: 133.68<br>low: 129.85<br>close: 130.93<br>volume: 2240126.0\", \"date: 20191120.0<br>open: 129.29<br>high: 132.49<br>low: 128.19<br>close: 131.4<br>volume: 2108755.0\", \"date: 20191121.0<br>open: 133.46<br>high: 134.58<br>low: 130.8<br>close: 131.9<br>volume: 2049904.0\", \"date: 20191122.0<br>open: 129.59<br>high: 135.12<br>low: 128.46<br>close: 134.03<br>volume: 2031316.0\", \"date: 20191125.0<br>open: 136.08<br>high: 137.19<br>low: 133.52<br>close: 134.61<br>volume: 2116949.0\", \"date: 20191126.0<br>open: 136.42<br>high: 137.78<br>low: 135.32<br>close: 136.69<br>volume: 2151449.0\", \"date: 20191127.0<br>open: 141.47<br>high: 142.57<br>low: 136.29<br>close: 137.37<br>volume: 2224127.0\", \"date: 20191128.0<br>open: 136.6<br>high: 138.88<br>low: 135.47<br>close: 137.77<br>volume: 2265921.0\", \"date: 20191129.0<br>open: 137.83<br>high: 138.94<br>low: 136.57<br>close: 137.67<br>volume: 2226350.0\", \"date: 20191202.0<br>open: 137.56<br>high: 138.68<br>low: 136.45<br>close: 137.58<br>volume: 2208417.0\", \"date: 20191203.0<br>open: 138.41<br>high: 139.5<br>low: 135.99<br>close: 137.12<br>volume: 2101406.0\", \"date: 20191204.0<br>open: 135.38<br>high: 138.53<br>low: 134.26<br>close: 137.44<br>volume: 2041957.0\", \"date: 20191205.0<br>open: 139.46<br>high: 140.56<br>low: 137.28<br>close: 138.41<br>volume: 2092391.0\", \"date: 20191206.0<br>open: 140.16<br>high: 141.27<br>low: 137.46<br>close: 138.56<br>volume: 2085057.0\", \"date: 20191209.0<br>open: 140.9<br>high: 142.01<br>low: 138.42<br>close: 139.55<br>volume: 2140467.0\", \"date: 20191210.0<br>open: 140.91<br>high: 142.01<br>low: 139.28<br>close: 140.38<br>volume: 2101641.0\", \"date: 20191211.0<br>open: 142.71<br>high: 144.35<br>low: 141.6<br>close: 143.24<br>volume: 2084150.0\", \"date: 20191212.0<br>open: 140.99<br>high: 144.23<br>low: 139.92<br>close: 143.11<br>volume: 2166044.0\", \"date: 20191213.0<br>open: 139.79<br>high: 142.76<br>low: 138.66<br>close: 141.66<br>volume: 2207442.0\", \"date: 20191216.0<br>open: 139.85<br>high: 143.36<br>low: 138.74<br>close: 142.26<br>volume: 2212078.0\", \"date: 20191217.0<br>open: 141.2<br>high: 143.94<br>low: 140.07<br>close: 142.81<br>volume: 2135872.0\", \"date: 20191218.0<br>open: 145.88<br>high: 147.0<br>low: 142.4<br>close: 143.5<br>volume: 2229974.0\", \"date: 20191219.0<br>open: 141.62<br>high: 144.66<br>low: 140.53<br>close: 143.53<br>volume: 2296021.0\", \"date: 20191220.0<br>open: 144.7<br>high: 145.79<br>low: 142.48<br>close: 143.58<br>volume: 2314655.0\", \"date: 20191223.0<br>open: 140.05<br>high: 142.55<br>low: 138.92<br>close: 141.44<br>volume: 2448829.0\", \"date: 20191224.0<br>open: 147.74<br>high: 148.83<br>low: 143.42<br>close: 144.52<br>volume: 2431066.0\", \"date: 20191225.0<br>open: 142.78<br>high: 146.39<br>low: 141.67<br>close: 145.28<br>volume: 2575361.0\", \"date: 20191226.0<br>open: 144.34<br>high: 146.06<br>low: 143.25<br>close: 144.97<br>volume: 2609626.0\", \"date: 20191227.0<br>open: 148.67<br>high: 149.76<br>low: 144.79<br>close: 145.89<br>volume: 2452806.0\", \"date: 20191230.0<br>open: 145.16<br>high: 147.36<br>low: 144.06<br>close: 146.24<br>volume: 2520244.0\", \"date: 20191231.0<br>open: 146.73<br>high: 148.91<br>low: 145.63<br>close: 147.8<br>volume: 2612389.0\", \"date: 20200101.0<br>open: 145.19<br>high: 147.32<br>low: 144.08<br>close: 146.22<br>volume: 2623522.0\", \"date: 20200102.0<br>open: 148.18<br>high: 149.26<br>low: 146.57<br>close: 147.7<br>volume: 2674869.0\", \"date: 20200103.0<br>open: 140.27<br>high: 147.04<br>low: 139.16<br>close: 145.93<br>volume: 2750854.0\", \"date: 20200106.0<br>open: 148.96<br>high: 150.05<br>low: 143.44<br>close: 144.53<br>volume: 2760316.0\", \"date: 20200107.0<br>open: 153.64<br>high: 154.75<br>low: 147.21<br>close: 148.33<br>volume: 2895122.0\", \"date: 20200108.0<br>open: 151.65<br>high: 152.78<br>low: 147.41<br>close: 148.51<br>volume: 2874667.0\", \"date: 20200109.0<br>open: 153.78<br>high: 154.9<br>low: 148.73<br>close: 149.84<br>volume: 2864451.0\", \"date: 20200110.0<br>open: 151.97<br>high: 153.07<br>low: 149.63<br>close: 150.74<br>volume: 2888461.0\"], \"x\": [1, 2, 3, 4, 5, 6, 7, 8, 9, 10, 11, 12, 13, 14, 15, 16, 17, 18, 19, 20, 21, 22, 23, 24, 25, 26, 27, 28, 29, 30, 31, 32, 33, 34, 35, 36, 37, 38, 39, 40, 41, 42, 43, 44, 45, 46, 47, 48, 49, 50], \"xaxis\": \"x\", \"y\": [126.9, 128.88, 128.87, 129.6, 127.24, 128.72, 129.08, 130.27, 129.57, 131.54, 132.3, 130.93, 131.4, 131.9, 134.03, 134.61, 136.69, 137.37, 137.77, 137.67, 137.58, 137.12, 137.44, 138.41, 138.56, 139.55, 140.38, 143.24, 143.11, 141.66, 142.26, 142.81, 143.5, 143.53, 143.58, 141.44, 144.52, 145.28, 144.97, 145.89, 146.24, 147.8, 146.22, 147.7, 145.93, 144.53, 148.33, 148.51, 149.84, 150.74], \"yaxis\": \"y\", \"type\": \"scatter\", \"uid\": \"9b17b70c-33f1-11ea-b830-8c859025e7f9\"}, {\"width\": 0.5, \"x\": [1, 2, 3, 4, 5, 6, 7, 8, 9, 10, 11, 12, 13, 14, 15, 16, 17, 18, 19, 20, 21, 22, 23, 24, 25, 26, 27, 28, 29, 30, 31, 32, 33, 34, 35, 36, 37, 38, 39, 40, 41, 42, 43, 44, 45, 46, 47, 48, 49, 50], \"xaxis\": \"x\", \"y\": [2467633.0, 2481655.0, 2464120.0, 2406211.0, 2303044.0, 2354824.0, 2352136.0, 2332562.0, 2402712.0, 2407905.0, 2348237.0, 2240126.0, 2108755.0, 2049904.0, 2031316.0, 2116949.0, 2151449.0, 2224127.0, 2265921.0, 2226350.0, 2208417.0, 2101406.0, 2041957.0, 2092391.0, 2085057.0, 2140467.0, 2101641.0, 2084150.0, 2166044.0, 2207442.0, 2212078.0, 2135872.0, 2229974.0, 2296021.0, 2314655.0, 2448829.0, 2431066.0, 2575361.0, 2609626.0, 2452806.0, 2520244.0, 2612389.0, 2623522.0, 2674869.0, 2750854.0, 2760316.0, 2895122.0, 2874667.0, 2864451.0, 2888461.0], \"yaxis\": \"y2\", \"type\": \"bar\", \"uid\": \"9b17b874-33f1-11ea-82c9-8c859025e7f9\"}], {\"margin\": {\"t\": 100}, \"shapes\": [{\"line\": {\"color\": \"rgb(55, 128, 191)\", \"width\": 1.5}, \"type\": \"line\", \"x0\": 1, \"x1\": 1, \"y0\": 122.81, \"y1\": 123.9}, {\"line\": {\"color\": \"rgb(55, 128, 191)\", \"width\": 1.5}, \"type\": \"line\", \"x0\": 2, \"x1\": 2, \"y0\": 127.8, \"y1\": 128.88}, {\"line\": {\"color\": \"rgb(55, 128, 191)\", \"width\": 1.5}, \"type\": \"line\", \"x0\": 3, \"x1\": 3, \"y0\": 127.78, \"y1\": 128.87}, {\"line\": {\"color\": \"rgb(55, 128, 191)\", \"width\": 1.5}, \"type\": \"line\", \"x0\": 4, \"x1\": 4, \"y0\": 126.18, \"y1\": 127.29}, {\"line\": {\"color\": \"rgb(55, 128, 191)\", \"width\": 1.5}, \"type\": \"line\", \"x0\": 5, \"x1\": 5, \"y0\": 123.54, \"y1\": 124.67}, {\"line\": {\"color\": \"rgb(55, 128, 191)\", \"width\": 1.5}, \"type\": \"line\", \"x0\": 6, \"x1\": 6, \"y0\": 127.6, \"y1\": 128.72}, {\"line\": {\"color\": \"rgb(55, 128, 191)\", \"width\": 1.5}, \"type\": \"line\", \"x0\": 7, \"x1\": 7, \"y0\": 123.64, \"y1\": 124.75}, {\"line\": {\"color\": \"rgb(55, 128, 191)\", \"width\": 1.5}, \"type\": \"line\", \"x0\": 8, \"x1\": 8, \"y0\": 128.4, \"y1\": 129.51}, {\"line\": {\"color\": \"rgb(55, 128, 191)\", \"width\": 1.5}, \"type\": \"line\", \"x0\": 9, \"x1\": 9, \"y0\": 128.46, \"y1\": 129.57}, {\"line\": {\"color\": \"rgb(55, 128, 191)\", \"width\": 1.5}, \"type\": \"line\", \"x0\": 10, \"x1\": 10, \"y0\": 130.42, \"y1\": 131.54}, {\"line\": {\"color\": \"rgb(55, 128, 191)\", \"width\": 1.5}, \"type\": \"line\", \"x0\": 11, \"x1\": 11, \"y0\": 130.47, \"y1\": 131.59}, {\"line\": {\"color\": \"rgb(55, 128, 191)\", \"width\": 1.5}, \"type\": \"line\", \"x0\": 12, \"x1\": 12, \"y0\": 129.85, \"y1\": 130.93}, {\"line\": {\"color\": \"rgb(55, 128, 191)\", \"width\": 1.5}, \"type\": \"line\", \"x0\": 13, \"x1\": 13, \"y0\": 128.19, \"y1\": 129.29}, {\"line\": {\"color\": \"rgb(55, 128, 191)\", \"width\": 1.5}, \"type\": \"line\", \"x0\": 14, \"x1\": 14, \"y0\": 130.8, \"y1\": 131.9}, {\"line\": {\"color\": \"rgb(55, 128, 191)\", \"width\": 1.5}, \"type\": \"line\", \"x0\": 15, \"x1\": 15, \"y0\": 128.46, \"y1\": 129.59}, {\"line\": {\"color\": \"rgb(55, 128, 191)\", \"width\": 1.5}, \"type\": \"line\", \"x0\": 16, \"x1\": 16, \"y0\": 133.52, \"y1\": 134.61}, {\"line\": {\"color\": \"rgb(55, 128, 191)\", \"width\": 1.5}, \"type\": \"line\", \"x0\": 17, \"x1\": 17, \"y0\": 135.32, \"y1\": 136.42}, {\"line\": {\"color\": \"rgb(55, 128, 191)\", \"width\": 1.5}, \"type\": \"line\", \"x0\": 18, \"x1\": 18, \"y0\": 136.29, \"y1\": 137.37}, {\"line\": {\"color\": \"rgb(55, 128, 191)\", \"width\": 1.5}, \"type\": \"line\", \"x0\": 19, \"x1\": 19, \"y0\": 135.47, \"y1\": 136.6}, {\"line\": {\"color\": \"rgb(55, 128, 191)\", \"width\": 1.5}, \"type\": \"line\", \"x0\": 20, \"x1\": 20, \"y0\": 136.57, \"y1\": 137.67}, {\"line\": {\"color\": \"rgb(55, 128, 191)\", \"width\": 1.5}, \"type\": \"line\", \"x0\": 21, \"x1\": 21, \"y0\": 136.45, \"y1\": 137.56}, {\"line\": {\"color\": \"rgb(55, 128, 191)\", \"width\": 1.5}, \"type\": \"line\", \"x0\": 22, \"x1\": 22, \"y0\": 135.99, \"y1\": 137.12}, {\"line\": {\"color\": \"rgb(55, 128, 191)\", \"width\": 1.5}, \"type\": \"line\", \"x0\": 23, \"x1\": 23, \"y0\": 134.26, \"y1\": 135.38}, {\"line\": {\"color\": \"rgb(55, 128, 191)\", \"width\": 1.5}, \"type\": \"line\", \"x0\": 24, \"x1\": 24, \"y0\": 137.28, \"y1\": 138.41}, {\"line\": {\"color\": \"rgb(55, 128, 191)\", \"width\": 1.5}, \"type\": \"line\", \"x0\": 25, \"x1\": 25, \"y0\": 137.46, \"y1\": 138.56}, {\"line\": {\"color\": \"rgb(55, 128, 191)\", \"width\": 1.5}, \"type\": \"line\", \"x0\": 26, \"x1\": 26, \"y0\": 138.42, \"y1\": 139.55}, {\"line\": {\"color\": \"rgb(55, 128, 191)\", \"width\": 1.5}, \"type\": \"line\", \"x0\": 27, \"x1\": 27, \"y0\": 139.28, \"y1\": 140.38}, {\"line\": {\"color\": \"rgb(55, 128, 191)\", \"width\": 1.5}, \"type\": \"line\", \"x0\": 28, \"x1\": 28, \"y0\": 141.6, \"y1\": 142.71}, {\"line\": {\"color\": \"rgb(55, 128, 191)\", \"width\": 1.5}, \"type\": \"line\", \"x0\": 29, \"x1\": 29, \"y0\": 139.92, \"y1\": 140.99}, {\"line\": {\"color\": \"rgb(55, 128, 191)\", \"width\": 1.5}, \"type\": \"line\", \"x0\": 30, \"x1\": 30, \"y0\": 138.66, \"y1\": 139.79}, {\"line\": {\"color\": \"rgb(55, 128, 191)\", \"width\": 1.5}, \"type\": \"line\", \"x0\": 31, \"x1\": 31, \"y0\": 138.74, \"y1\": 139.85}, {\"line\": {\"color\": \"rgb(55, 128, 191)\", \"width\": 1.5}, \"type\": \"line\", \"x0\": 32, \"x1\": 32, \"y0\": 140.07, \"y1\": 141.2}, {\"line\": {\"color\": \"rgb(55, 128, 191)\", \"width\": 1.5}, \"type\": \"line\", \"x0\": 33, \"x1\": 33, \"y0\": 142.4, \"y1\": 143.5}, {\"line\": {\"color\": \"rgb(55, 128, 191)\", \"width\": 1.5}, \"type\": \"line\", \"x0\": 34, \"x1\": 34, \"y0\": 140.53, \"y1\": 141.62}, {\"line\": {\"color\": \"rgb(55, 128, 191)\", \"width\": 1.5}, \"type\": \"line\", \"x0\": 35, \"x1\": 35, \"y0\": 142.48, \"y1\": 143.58}, {\"line\": {\"color\": \"rgb(55, 128, 191)\", \"width\": 1.5}, \"type\": \"line\", \"x0\": 36, \"x1\": 36, \"y0\": 138.92, \"y1\": 140.05}, {\"line\": {\"color\": \"rgb(55, 128, 191)\", \"width\": 1.5}, \"type\": \"line\", \"x0\": 37, \"x1\": 37, \"y0\": 143.42, \"y1\": 144.52}, {\"line\": {\"color\": \"rgb(55, 128, 191)\", \"width\": 1.5}, \"type\": \"line\", \"x0\": 38, \"x1\": 38, \"y0\": 141.67, \"y1\": 142.78}, {\"line\": {\"color\": \"rgb(55, 128, 191)\", \"width\": 1.5}, \"type\": \"line\", \"x0\": 39, \"x1\": 39, \"y0\": 143.25, \"y1\": 144.34}, {\"line\": {\"color\": \"rgb(55, 128, 191)\", \"width\": 1.5}, \"type\": \"line\", \"x0\": 40, \"x1\": 40, \"y0\": 144.79, \"y1\": 145.89}, {\"line\": {\"color\": \"rgb(55, 128, 191)\", \"width\": 1.5}, \"type\": \"line\", \"x0\": 41, \"x1\": 41, \"y0\": 144.06, \"y1\": 145.16}, {\"line\": {\"color\": \"rgb(55, 128, 191)\", \"width\": 1.5}, \"type\": \"line\", \"x0\": 42, \"x1\": 42, \"y0\": 145.63, \"y1\": 146.73}, {\"line\": {\"color\": \"rgb(55, 128, 191)\", \"width\": 1.5}, \"type\": \"line\", \"x0\": 43, \"x1\": 43, \"y0\": 144.08, \"y1\": 145.19}, {\"line\": {\"color\": \"rgb(55, 128, 191)\", \"width\": 1.5}, \"type\": \"line\", \"x0\": 44, \"x1\": 44, \"y0\": 146.57, \"y1\": 147.7}, {\"line\": {\"color\": \"rgb(55, 128, 191)\", \"width\": 1.5}, \"type\": \"line\", \"x0\": 45, \"x1\": 45, \"y0\": 139.16, \"y1\": 140.27}, {\"line\": {\"color\": \"rgb(55, 128, 191)\", \"width\": 1.5}, \"type\": \"line\", \"x0\": 46, \"x1\": 46, \"y0\": 143.44, \"y1\": 144.53}, {\"line\": {\"color\": \"rgb(55, 128, 191)\", \"width\": 1.5}, \"type\": \"line\", \"x0\": 47, \"x1\": 47, \"y0\": 147.21, \"y1\": 148.33}, {\"line\": {\"color\": \"rgb(55, 128, 191)\", \"width\": 1.5}, \"type\": \"line\", \"x0\": 48, \"x1\": 48, \"y0\": 147.41, \"y1\": 148.51}, {\"line\": {\"color\": \"rgb(55, 128, 191)\", \"width\": 1.5}, \"type\": \"line\", \"x0\": 49, \"x1\": 49, \"y0\": 148.73, \"y1\": 149.84}, {\"line\": {\"color\": \"rgb(55, 128, 191)\", \"width\": 1.5}, \"type\": \"line\", \"x0\": 50, \"x1\": 50, \"y0\": 149.63, \"y1\": 150.74}, {\"fillcolor\": \"rgba(0, 204, 0, 0.6)\", \"line\": {\"color\": \"rgb(55, 128, 191)\", \"width\": 1}, \"type\": \"rect\", \"x0\": 0.75, \"x1\": 1.25, \"xref\": \"x\", \"y0\": 123.9, \"y1\": 126.9, \"yref\": \"y\"}, {\"fillcolor\": \"rgba(255, 0, 0, 0.6)\", \"line\": {\"color\": \"rgb(55, 128, 191)\", \"width\": 1}, \"type\": \"rect\", \"x0\": 1.75, \"x1\": 2.25, \"xref\": \"x\", \"y0\": 128.88, \"y1\": 128.96, \"yref\": \"y\"}, {\"fillcolor\": \"rgba(255, 0, 0, 0.6)\", \"line\": {\"color\": \"rgb(55, 128, 191)\", \"width\": 1}, \"type\": \"rect\", \"x0\": 2.75, \"x1\": 3.25, \"xref\": \"x\", \"y0\": 128.87, \"y1\": 130.36, \"yref\": \"y\"}, {\"fillcolor\": \"rgba(0, 204, 0, 0.6)\", \"line\": {\"color\": \"rgb(55, 128, 191)\", \"width\": 1}, \"type\": \"rect\", \"x0\": 3.75, \"x1\": 4.25, \"xref\": \"x\", \"y0\": 127.29, \"y1\": 129.6, \"yref\": \"y\"}, {\"fillcolor\": \"rgba(0, 204, 0, 0.6)\", \"line\": {\"color\": \"rgb(55, 128, 191)\", \"width\": 1}, \"type\": \"rect\", \"x0\": 4.75, \"x1\": 5.25, \"xref\": \"x\", \"y0\": 124.67, \"y1\": 127.24, \"yref\": \"y\"}, {\"fillcolor\": \"rgba(255, 0, 0, 0.6)\", \"line\": {\"color\": \"rgb(55, 128, 191)\", \"width\": 1}, \"type\": \"rect\", \"x0\": 5.75, \"x1\": 6.25, \"xref\": \"x\", \"y0\": 128.72, \"y1\": 128.8, \"yref\": \"y\"}, {\"fillcolor\": \"rgba(0, 204, 0, 0.6)\", \"line\": {\"color\": \"rgb(55, 128, 191)\", \"width\": 1}, \"type\": \"rect\", \"x0\": 6.75, \"x1\": 7.25, \"xref\": \"x\", \"y0\": 124.75, \"y1\": 129.08, \"yref\": \"y\"}, {\"fillcolor\": \"rgba(0, 204, 0, 0.6)\", \"line\": {\"color\": \"rgb(55, 128, 191)\", \"width\": 1}, \"type\": \"rect\", \"x0\": 7.75, \"x1\": 8.25, \"xref\": \"x\", \"y0\": 129.51, \"y1\": 130.27, \"yref\": \"y\"}, {\"fillcolor\": \"rgba(255, 0, 0, 0.6)\", \"line\": {\"color\": \"rgb(55, 128, 191)\", \"width\": 1}, \"type\": \"rect\", \"x0\": 8.75, \"x1\": 9.25, \"xref\": \"x\", \"y0\": 129.57, \"y1\": 134.78, \"yref\": \"y\"}, {\"fillcolor\": \"rgba(255, 0, 0, 0.6)\", \"line\": {\"color\": \"rgb(55, 128, 191)\", \"width\": 1}, \"type\": \"rect\", \"x0\": 9.75, \"x1\": 10.25, \"xref\": \"x\", \"y0\": 131.54, \"y1\": 132.74, \"yref\": \"y\"}, {\"fillcolor\": \"rgba(0, 204, 0, 0.6)\", \"line\": {\"color\": \"rgb(55, 128, 191)\", \"width\": 1}, \"type\": \"rect\", \"x0\": 10.75, \"x1\": 11.25, \"xref\": \"x\", \"y0\": 131.59, \"y1\": 132.3, \"yref\": \"y\"}, {\"fillcolor\": \"rgba(255, 0, 0, 0.6)\", \"line\": {\"color\": \"rgb(55, 128, 191)\", \"width\": 1}, \"type\": \"rect\", \"x0\": 11.75, \"x1\": 12.25, \"xref\": \"x\", \"y0\": 130.93, \"y1\": 132.58, \"yref\": \"y\"}, {\"fillcolor\": \"rgba(0, 204, 0, 0.6)\", \"line\": {\"color\": \"rgb(55, 128, 191)\", \"width\": 1}, \"type\": \"rect\", \"x0\": 12.75, \"x1\": 13.25, \"xref\": \"x\", \"y0\": 129.29, \"y1\": 131.4, \"yref\": \"y\"}, {\"fillcolor\": \"rgba(255, 0, 0, 0.6)\", \"line\": {\"color\": \"rgb(55, 128, 191)\", \"width\": 1}, \"type\": \"rect\", \"x0\": 13.75, \"x1\": 14.25, \"xref\": \"x\", \"y0\": 131.9, \"y1\": 133.46, \"yref\": \"y\"}, {\"fillcolor\": \"rgba(0, 204, 0, 0.6)\", \"line\": {\"color\": \"rgb(55, 128, 191)\", \"width\": 1}, \"type\": \"rect\", \"x0\": 14.75, \"x1\": 15.25, \"xref\": \"x\", \"y0\": 129.59, \"y1\": 134.03, \"yref\": \"y\"}, {\"fillcolor\": \"rgba(255, 0, 0, 0.6)\", \"line\": {\"color\": \"rgb(55, 128, 191)\", \"width\": 1}, \"type\": \"rect\", \"x0\": 15.75, \"x1\": 16.25, \"xref\": \"x\", \"y0\": 134.61, \"y1\": 136.08, \"yref\": \"y\"}, {\"fillcolor\": \"rgba(0, 204, 0, 0.6)\", \"line\": {\"color\": \"rgb(55, 128, 191)\", \"width\": 1}, \"type\": \"rect\", \"x0\": 16.75, \"x1\": 17.25, \"xref\": \"x\", \"y0\": 136.42, \"y1\": 136.69, \"yref\": \"y\"}, {\"fillcolor\": \"rgba(255, 0, 0, 0.6)\", \"line\": {\"color\": \"rgb(55, 128, 191)\", \"width\": 1}, \"type\": \"rect\", \"x0\": 17.75, \"x1\": 18.25, \"xref\": \"x\", \"y0\": 137.37, \"y1\": 141.47, \"yref\": \"y\"}, {\"fillcolor\": \"rgba(0, 204, 0, 0.6)\", \"line\": {\"color\": \"rgb(55, 128, 191)\", \"width\": 1}, \"type\": \"rect\", \"x0\": 18.75, \"x1\": 19.25, \"xref\": \"x\", \"y0\": 136.6, \"y1\": 137.77, \"yref\": \"y\"}, {\"fillcolor\": \"rgba(255, 0, 0, 0.6)\", \"line\": {\"color\": \"rgb(55, 128, 191)\", \"width\": 1}, \"type\": \"rect\", \"x0\": 19.75, \"x1\": 20.25, \"xref\": \"x\", \"y0\": 137.67, \"y1\": 137.83, \"yref\": \"y\"}, {\"fillcolor\": \"rgba(0, 204, 0, 0.6)\", \"line\": {\"color\": \"rgb(55, 128, 191)\", \"width\": 1}, \"type\": \"rect\", \"x0\": 20.75, \"x1\": 21.25, \"xref\": \"x\", \"y0\": 137.56, \"y1\": 137.58, \"yref\": \"y\"}, {\"fillcolor\": \"rgba(255, 0, 0, 0.6)\", \"line\": {\"color\": \"rgb(55, 128, 191)\", \"width\": 1}, \"type\": \"rect\", \"x0\": 21.75, \"x1\": 22.25, \"xref\": \"x\", \"y0\": 137.12, \"y1\": 138.41, \"yref\": \"y\"}, {\"fillcolor\": \"rgba(0, 204, 0, 0.6)\", \"line\": {\"color\": \"rgb(55, 128, 191)\", \"width\": 1}, \"type\": \"rect\", \"x0\": 22.75, \"x1\": 23.25, \"xref\": \"x\", \"y0\": 135.38, \"y1\": 137.44, \"yref\": \"y\"}, {\"fillcolor\": \"rgba(255, 0, 0, 0.6)\", \"line\": {\"color\": \"rgb(55, 128, 191)\", \"width\": 1}, \"type\": \"rect\", \"x0\": 23.75, \"x1\": 24.25, \"xref\": \"x\", \"y0\": 138.41, \"y1\": 139.46, \"yref\": \"y\"}, {\"fillcolor\": \"rgba(255, 0, 0, 0.6)\", \"line\": {\"color\": \"rgb(55, 128, 191)\", \"width\": 1}, \"type\": \"rect\", \"x0\": 24.75, \"x1\": 25.25, \"xref\": \"x\", \"y0\": 138.56, \"y1\": 140.16, \"yref\": \"y\"}, {\"fillcolor\": \"rgba(255, 0, 0, 0.6)\", \"line\": {\"color\": \"rgb(55, 128, 191)\", \"width\": 1}, \"type\": \"rect\", \"x0\": 25.75, \"x1\": 26.25, \"xref\": \"x\", \"y0\": 139.55, \"y1\": 140.9, \"yref\": \"y\"}, {\"fillcolor\": \"rgba(255, 0, 0, 0.6)\", \"line\": {\"color\": \"rgb(55, 128, 191)\", \"width\": 1}, \"type\": \"rect\", \"x0\": 26.75, \"x1\": 27.25, \"xref\": \"x\", \"y0\": 140.38, \"y1\": 140.91, \"yref\": \"y\"}, {\"fillcolor\": \"rgba(0, 204, 0, 0.6)\", \"line\": {\"color\": \"rgb(55, 128, 191)\", \"width\": 1}, \"type\": \"rect\", \"x0\": 27.75, \"x1\": 28.25, \"xref\": \"x\", \"y0\": 142.71, \"y1\": 143.24, \"yref\": \"y\"}, {\"fillcolor\": \"rgba(0, 204, 0, 0.6)\", \"line\": {\"color\": \"rgb(55, 128, 191)\", \"width\": 1}, \"type\": \"rect\", \"x0\": 28.75, \"x1\": 29.25, \"xref\": \"x\", \"y0\": 140.99, \"y1\": 143.11, \"yref\": \"y\"}, {\"fillcolor\": \"rgba(0, 204, 0, 0.6)\", \"line\": {\"color\": \"rgb(55, 128, 191)\", \"width\": 1}, \"type\": \"rect\", \"x0\": 29.75, \"x1\": 30.25, \"xref\": \"x\", \"y0\": 139.79, \"y1\": 141.66, \"yref\": \"y\"}, {\"fillcolor\": \"rgba(0, 204, 0, 0.6)\", \"line\": {\"color\": \"rgb(55, 128, 191)\", \"width\": 1}, \"type\": \"rect\", \"x0\": 30.75, \"x1\": 31.25, \"xref\": \"x\", \"y0\": 139.85, \"y1\": 142.26, \"yref\": \"y\"}, {\"fillcolor\": \"rgba(0, 204, 0, 0.6)\", \"line\": {\"color\": \"rgb(55, 128, 191)\", \"width\": 1}, \"type\": \"rect\", \"x0\": 31.75, \"x1\": 32.25, \"xref\": \"x\", \"y0\": 141.2, \"y1\": 142.81, \"yref\": \"y\"}, {\"fillcolor\": \"rgba(255, 0, 0, 0.6)\", \"line\": {\"color\": \"rgb(55, 128, 191)\", \"width\": 1}, \"type\": \"rect\", \"x0\": 32.75, \"x1\": 33.25, \"xref\": \"x\", \"y0\": 143.5, \"y1\": 145.88, \"yref\": \"y\"}, {\"fillcolor\": \"rgba(0, 204, 0, 0.6)\", \"line\": {\"color\": \"rgb(55, 128, 191)\", \"width\": 1}, \"type\": \"rect\", \"x0\": 33.75, \"x1\": 34.25, \"xref\": \"x\", \"y0\": 141.62, \"y1\": 143.53, \"yref\": \"y\"}, {\"fillcolor\": \"rgba(255, 0, 0, 0.6)\", \"line\": {\"color\": \"rgb(55, 128, 191)\", \"width\": 1}, \"type\": \"rect\", \"x0\": 34.75, \"x1\": 35.25, \"xref\": \"x\", \"y0\": 143.58, \"y1\": 144.7, \"yref\": \"y\"}, {\"fillcolor\": \"rgba(0, 204, 0, 0.6)\", \"line\": {\"color\": \"rgb(55, 128, 191)\", \"width\": 1}, \"type\": \"rect\", \"x0\": 35.75, \"x1\": 36.25, \"xref\": \"x\", \"y0\": 140.05, \"y1\": 141.44, \"yref\": \"y\"}, {\"fillcolor\": \"rgba(255, 0, 0, 0.6)\", \"line\": {\"color\": \"rgb(55, 128, 191)\", \"width\": 1}, \"type\": \"rect\", \"x0\": 36.75, \"x1\": 37.25, \"xref\": \"x\", \"y0\": 144.52, \"y1\": 147.74, \"yref\": \"y\"}, {\"fillcolor\": \"rgba(0, 204, 0, 0.6)\", \"line\": {\"color\": \"rgb(55, 128, 191)\", \"width\": 1}, \"type\": \"rect\", \"x0\": 37.75, \"x1\": 38.25, \"xref\": \"x\", \"y0\": 142.78, \"y1\": 145.28, \"yref\": \"y\"}, {\"fillcolor\": \"rgba(0, 204, 0, 0.6)\", \"line\": {\"color\": \"rgb(55, 128, 191)\", \"width\": 1}, \"type\": \"rect\", \"x0\": 38.75, \"x1\": 39.25, \"xref\": \"x\", \"y0\": 144.34, \"y1\": 144.97, \"yref\": \"y\"}, {\"fillcolor\": \"rgba(255, 0, 0, 0.6)\", \"line\": {\"color\": \"rgb(55, 128, 191)\", \"width\": 1}, \"type\": \"rect\", \"x0\": 39.75, \"x1\": 40.25, \"xref\": \"x\", \"y0\": 145.89, \"y1\": 148.67, \"yref\": \"y\"}, {\"fillcolor\": \"rgba(0, 204, 0, 0.6)\", \"line\": {\"color\": \"rgb(55, 128, 191)\", \"width\": 1}, \"type\": \"rect\", \"x0\": 40.75, \"x1\": 41.25, \"xref\": \"x\", \"y0\": 145.16, \"y1\": 146.24, \"yref\": \"y\"}, {\"fillcolor\": \"rgba(0, 204, 0, 0.6)\", \"line\": {\"color\": \"rgb(55, 128, 191)\", \"width\": 1}, \"type\": \"rect\", \"x0\": 41.75, \"x1\": 42.25, \"xref\": \"x\", \"y0\": 146.73, \"y1\": 147.8, \"yref\": \"y\"}, {\"fillcolor\": \"rgba(0, 204, 0, 0.6)\", \"line\": {\"color\": \"rgb(55, 128, 191)\", \"width\": 1}, \"type\": \"rect\", \"x0\": 42.75, \"x1\": 43.25, \"xref\": \"x\", \"y0\": 145.19, \"y1\": 146.22, \"yref\": \"y\"}, {\"fillcolor\": \"rgba(255, 0, 0, 0.6)\", \"line\": {\"color\": \"rgb(55, 128, 191)\", \"width\": 1}, \"type\": \"rect\", \"x0\": 43.75, \"x1\": 44.25, \"xref\": \"x\", \"y0\": 147.7, \"y1\": 148.18, \"yref\": \"y\"}, {\"fillcolor\": \"rgba(0, 204, 0, 0.6)\", \"line\": {\"color\": \"rgb(55, 128, 191)\", \"width\": 1}, \"type\": \"rect\", \"x0\": 44.75, \"x1\": 45.25, \"xref\": \"x\", \"y0\": 140.27, \"y1\": 145.93, \"yref\": \"y\"}, {\"fillcolor\": \"rgba(255, 0, 0, 0.6)\", \"line\": {\"color\": \"rgb(55, 128, 191)\", \"width\": 1}, \"type\": \"rect\", \"x0\": 45.75, \"x1\": 46.25, \"xref\": \"x\", \"y0\": 144.53, \"y1\": 148.96, \"yref\": \"y\"}, {\"fillcolor\": \"rgba(255, 0, 0, 0.6)\", \"line\": {\"color\": \"rgb(55, 128, 191)\", \"width\": 1}, \"type\": \"rect\", \"x0\": 46.75, \"x1\": 47.25, \"xref\": \"x\", \"y0\": 148.33, \"y1\": 153.64, \"yref\": \"y\"}, {\"fillcolor\": \"rgba(255, 0, 0, 0.6)\", \"line\": {\"color\": \"rgb(55, 128, 191)\", \"width\": 1}, \"type\": \"rect\", \"x0\": 47.75, \"x1\": 48.25, \"xref\": \"x\", \"y0\": 148.51, \"y1\": 151.65, \"yref\": \"y\"}, {\"fillcolor\": \"rgba(255, 0, 0, 0.6)\", \"line\": {\"color\": \"rgb(55, 128, 191)\", \"width\": 1}, \"type\": \"rect\", \"x0\": 48.75, \"x1\": 49.25, \"xref\": \"x\", \"y0\": 149.84, \"y1\": 153.78, \"yref\": \"y\"}, {\"fillcolor\": \"rgba(255, 0, 0, 0.6)\", \"line\": {\"color\": \"rgb(55, 128, 191)\", \"width\": 1}, \"type\": \"rect\", \"x0\": 49.75, \"x1\": 50.25, \"xref\": \"x\", \"y0\": 150.74, \"y1\": 151.97, \"yref\": \"y\"}, {\"line\": {\"color\": \"rgb(55, 128, 191)\", \"width\": 1.5}, \"type\": \"line\", \"x0\": 1, \"x1\": 1, \"y0\": 126.9, \"y1\": 128.0}, {\"line\": {\"color\": \"rgb(55, 128, 191)\", \"width\": 1.5}, \"type\": \"line\", \"x0\": 2, \"x1\": 2, \"y0\": 128.96, \"y1\": 130.07}, {\"line\": {\"color\": \"rgb(55, 128, 191)\", \"width\": 1.5}, \"type\": \"line\", \"x0\": 3, \"x1\": 3, \"y0\": 130.36, \"y1\": 131.46}, {\"line\": {\"color\": \"rgb(55, 128, 191)\", \"width\": 1.5}, \"type\": \"line\", \"x0\": 4, \"x1\": 4, \"y0\": 129.6, \"y1\": 130.71}, {\"line\": {\"color\": \"rgb(55, 128, 191)\", \"width\": 1.5}, \"type\": \"line\", \"x0\": 5, \"x1\": 5, \"y0\": 127.24, \"y1\": 128.33}, {\"line\": {\"color\": \"rgb(55, 128, 191)\", \"width\": 1.5}, \"type\": \"line\", \"x0\": 6, \"x1\": 6, \"y0\": 128.8, \"y1\": 129.92}, {\"line\": {\"color\": \"rgb(55, 128, 191)\", \"width\": 1.5}, \"type\": \"line\", \"x0\": 7, \"x1\": 7, \"y0\": 129.08, \"y1\": 130.19}, {\"line\": {\"color\": \"rgb(55, 128, 191)\", \"width\": 1.5}, \"type\": \"line\", \"x0\": 8, \"x1\": 8, \"y0\": 130.27, \"y1\": 131.39}, {\"line\": {\"color\": \"rgb(55, 128, 191)\", \"width\": 1.5}, \"type\": \"line\", \"x0\": 9, \"x1\": 9, \"y0\": 134.78, \"y1\": 135.88}, {\"line\": {\"color\": \"rgb(55, 128, 191)\", \"width\": 1.5}, \"type\": \"line\", \"x0\": 10, \"x1\": 10, \"y0\": 132.74, \"y1\": 133.85}, {\"line\": {\"color\": \"rgb(55, 128, 191)\", \"width\": 1.5}, \"type\": \"line\", \"x0\": 11, \"x1\": 11, \"y0\": 132.3, \"y1\": 133.41}, {\"line\": {\"color\": \"rgb(55, 128, 191)\", \"width\": 1.5}, \"type\": \"line\", \"x0\": 12, \"x1\": 12, \"y0\": 132.58, \"y1\": 133.68}, {\"line\": {\"color\": \"rgb(55, 128, 191)\", \"width\": 1.5}, \"type\": \"line\", \"x0\": 13, \"x1\": 13, \"y0\": 131.4, \"y1\": 132.49}, {\"line\": {\"color\": \"rgb(55, 128, 191)\", \"width\": 1.5}, \"type\": \"line\", \"x0\": 14, \"x1\": 14, \"y0\": 133.46, \"y1\": 134.58}, {\"line\": {\"color\": \"rgb(55, 128, 191)\", \"width\": 1.5}, \"type\": \"line\", \"x0\": 15, \"x1\": 15, \"y0\": 134.03, \"y1\": 135.12}, {\"line\": {\"color\": \"rgb(55, 128, 191)\", \"width\": 1.5}, \"type\": \"line\", \"x0\": 16, \"x1\": 16, \"y0\": 136.08, \"y1\": 137.19}, {\"line\": {\"color\": \"rgb(55, 128, 191)\", \"width\": 1.5}, \"type\": \"line\", \"x0\": 17, \"x1\": 17, \"y0\": 136.69, \"y1\": 137.78}, {\"line\": {\"color\": \"rgb(55, 128, 191)\", \"width\": 1.5}, \"type\": \"line\", \"x0\": 18, \"x1\": 18, \"y0\": 141.47, \"y1\": 142.57}, {\"line\": {\"color\": \"rgb(55, 128, 191)\", \"width\": 1.5}, \"type\": \"line\", \"x0\": 19, \"x1\": 19, \"y0\": 137.77, \"y1\": 138.88}, {\"line\": {\"color\": \"rgb(55, 128, 191)\", \"width\": 1.5}, \"type\": \"line\", \"x0\": 20, \"x1\": 20, \"y0\": 137.83, \"y1\": 138.94}, {\"line\": {\"color\": \"rgb(55, 128, 191)\", \"width\": 1.5}, \"type\": \"line\", \"x0\": 21, \"x1\": 21, \"y0\": 137.58, \"y1\": 138.68}, {\"line\": {\"color\": \"rgb(55, 128, 191)\", \"width\": 1.5}, \"type\": \"line\", \"x0\": 22, \"x1\": 22, \"y0\": 138.41, \"y1\": 139.5}, {\"line\": {\"color\": \"rgb(55, 128, 191)\", \"width\": 1.5}, \"type\": \"line\", \"x0\": 23, \"x1\": 23, \"y0\": 137.44, \"y1\": 138.53}, {\"line\": {\"color\": \"rgb(55, 128, 191)\", \"width\": 1.5}, \"type\": \"line\", \"x0\": 24, \"x1\": 24, \"y0\": 139.46, \"y1\": 140.56}, {\"line\": {\"color\": \"rgb(55, 128, 191)\", \"width\": 1.5}, \"type\": \"line\", \"x0\": 25, \"x1\": 25, \"y0\": 140.16, \"y1\": 141.27}, {\"line\": {\"color\": \"rgb(55, 128, 191)\", \"width\": 1.5}, \"type\": \"line\", \"x0\": 26, \"x1\": 26, \"y0\": 140.9, \"y1\": 142.01}, {\"line\": {\"color\": \"rgb(55, 128, 191)\", \"width\": 1.5}, \"type\": \"line\", \"x0\": 27, \"x1\": 27, \"y0\": 140.91, \"y1\": 142.01}, {\"line\": {\"color\": \"rgb(55, 128, 191)\", \"width\": 1.5}, \"type\": \"line\", \"x0\": 28, \"x1\": 28, \"y0\": 143.24, \"y1\": 144.35}, {\"line\": {\"color\": \"rgb(55, 128, 191)\", \"width\": 1.5}, \"type\": \"line\", \"x0\": 29, \"x1\": 29, \"y0\": 143.11, \"y1\": 144.23}, {\"line\": {\"color\": \"rgb(55, 128, 191)\", \"width\": 1.5}, \"type\": \"line\", \"x0\": 30, \"x1\": 30, \"y0\": 141.66, \"y1\": 142.76}, {\"line\": {\"color\": \"rgb(55, 128, 191)\", \"width\": 1.5}, \"type\": \"line\", \"x0\": 31, \"x1\": 31, \"y0\": 142.26, \"y1\": 143.36}, {\"line\": {\"color\": \"rgb(55, 128, 191)\", \"width\": 1.5}, \"type\": \"line\", \"x0\": 32, \"x1\": 32, \"y0\": 142.81, \"y1\": 143.94}, {\"line\": {\"color\": \"rgb(55, 128, 191)\", \"width\": 1.5}, \"type\": \"line\", \"x0\": 33, \"x1\": 33, \"y0\": 145.88, \"y1\": 147.0}, {\"line\": {\"color\": \"rgb(55, 128, 191)\", \"width\": 1.5}, \"type\": \"line\", \"x0\": 34, \"x1\": 34, \"y0\": 143.53, \"y1\": 144.66}, {\"line\": {\"color\": \"rgb(55, 128, 191)\", \"width\": 1.5}, \"type\": \"line\", \"x0\": 35, \"x1\": 35, \"y0\": 144.7, \"y1\": 145.79}, {\"line\": {\"color\": \"rgb(55, 128, 191)\", \"width\": 1.5}, \"type\": \"line\", \"x0\": 36, \"x1\": 36, \"y0\": 141.44, \"y1\": 142.55}, {\"line\": {\"color\": \"rgb(55, 128, 191)\", \"width\": 1.5}, \"type\": \"line\", \"x0\": 37, \"x1\": 37, \"y0\": 147.74, \"y1\": 148.83}, {\"line\": {\"color\": \"rgb(55, 128, 191)\", \"width\": 1.5}, \"type\": \"line\", \"x0\": 38, \"x1\": 38, \"y0\": 145.28, \"y1\": 146.39}, {\"line\": {\"color\": \"rgb(55, 128, 191)\", \"width\": 1.5}, \"type\": \"line\", \"x0\": 39, \"x1\": 39, \"y0\": 144.97, \"y1\": 146.06}, {\"line\": {\"color\": \"rgb(55, 128, 191)\", \"width\": 1.5}, \"type\": \"line\", \"x0\": 40, \"x1\": 40, \"y0\": 148.67, \"y1\": 149.76}, {\"line\": {\"color\": \"rgb(55, 128, 191)\", \"width\": 1.5}, \"type\": \"line\", \"x0\": 41, \"x1\": 41, \"y0\": 146.24, \"y1\": 147.36}, {\"line\": {\"color\": \"rgb(55, 128, 191)\", \"width\": 1.5}, \"type\": \"line\", \"x0\": 42, \"x1\": 42, \"y0\": 147.8, \"y1\": 148.91}, {\"line\": {\"color\": \"rgb(55, 128, 191)\", \"width\": 1.5}, \"type\": \"line\", \"x0\": 43, \"x1\": 43, \"y0\": 146.22, \"y1\": 147.32}, {\"line\": {\"color\": \"rgb(55, 128, 191)\", \"width\": 1.5}, \"type\": \"line\", \"x0\": 44, \"x1\": 44, \"y0\": 148.18, \"y1\": 149.26}, {\"line\": {\"color\": \"rgb(55, 128, 191)\", \"width\": 1.5}, \"type\": \"line\", \"x0\": 45, \"x1\": 45, \"y0\": 145.93, \"y1\": 147.04}, {\"line\": {\"color\": \"rgb(55, 128, 191)\", \"width\": 1.5}, \"type\": \"line\", \"x0\": 46, \"x1\": 46, \"y0\": 148.96, \"y1\": 150.05}, {\"line\": {\"color\": \"rgb(55, 128, 191)\", \"width\": 1.5}, \"type\": \"line\", \"x0\": 47, \"x1\": 47, \"y0\": 153.64, \"y1\": 154.75}, {\"line\": {\"color\": \"rgb(55, 128, 191)\", \"width\": 1.5}, \"type\": \"line\", \"x0\": 48, \"x1\": 48, \"y0\": 151.65, \"y1\": 152.78}, {\"line\": {\"color\": \"rgb(55, 128, 191)\", \"width\": 1.5}, \"type\": \"line\", \"x0\": 49, \"x1\": 49, \"y0\": 153.78, \"y1\": 154.9}, {\"line\": {\"color\": \"rgb(55, 128, 191)\", \"width\": 1.5}, \"type\": \"line\", \"x0\": 50, \"x1\": 50, \"y0\": 151.97, \"y1\": 153.07}], \"showlegend\": false, \"title\": \"Random Walk\", \"xaxis\": {\"anchor\": \"y2\", \"showgrid\": true, \"showticklabels\": true, \"tickangle\": 90, \"tickmode\": \"array\", \"ticktext\": [20191104, 20191106, 20191108, 20191112, 20191114, 20191118, 20191120, 20191122, 20191126, 20191128, 20191202, 20191204, 20191206, 20191210, 20191212, 20191216, 20191218, 20191220, 20191224, 20191226, 20191230, 20200101, 20200103, 20200107, 20200109, 20200110], \"tickvals\": [1, 3, 5, 7, 9, 11, 13, 15, 17, 19, 21, 23, 25, 27, 29, 31, 33, 35, 37, 39, 41, 43, 45, 47, 49, 50]}, \"yaxis\": {\"domain\": [0.22, 1], \"range\": [122.81, 154.9]}, \"yaxis2\": {\"domain\": [0, 0.2], \"range\": [0, 2895122.0]}}, {\"showLink\": true, \"linkText\": \"Export to plot.ly\"})});</script>"
      ],
      "text/vnd.plotly.v1+html": [
       "<div id=\"1093b2aa-730d-4202-bbc2-19dd43021b3f\" style=\"height: 525px; width: 100%;\" class=\"plotly-graph-div\"></div><script type=\"text/javascript\">require([\"plotly\"], function(Plotly) { window.PLOTLYENV=window.PLOTLYENV || {};window.PLOTLYENV.BASE_URL=\"https://plot.ly\";Plotly.newPlot(\"1093b2aa-730d-4202-bbc2-19dd43021b3f\", [{\"hoverinfo\": \"text\", \"mode\": \"markers\", \"text\": [\"date: 20191104.0<br>open: 123.9<br>high: 128.0<br>low: 122.81<br>close: 126.9<br>volume: 2467633.0\", \"date: 20191105.0<br>open: 128.96<br>high: 130.07<br>low: 127.8<br>close: 128.88<br>volume: 2481655.0\", \"date: 20191106.0<br>open: 130.36<br>high: 131.46<br>low: 127.78<br>close: 128.87<br>volume: 2464120.0\", \"date: 20191107.0<br>open: 127.29<br>high: 130.71<br>low: 126.18<br>close: 129.6<br>volume: 2406211.0\", \"date: 20191108.0<br>open: 124.67<br>high: 128.33<br>low: 123.54<br>close: 127.24<br>volume: 2303044.0\", \"date: 20191111.0<br>open: 128.8<br>high: 129.92<br>low: 127.6<br>close: 128.72<br>volume: 2354824.0\", \"date: 20191112.0<br>open: 124.75<br>high: 130.19<br>low: 123.64<br>close: 129.08<br>volume: 2352136.0\", \"date: 20191113.0<br>open: 129.51<br>high: 131.39<br>low: 128.4<br>close: 130.27<br>volume: 2332562.0\", \"date: 20191114.0<br>open: 134.78<br>high: 135.88<br>low: 128.46<br>close: 129.57<br>volume: 2402712.0\", \"date: 20191115.0<br>open: 132.74<br>high: 133.85<br>low: 130.42<br>close: 131.54<br>volume: 2407905.0\", \"date: 20191118.0<br>open: 131.59<br>high: 133.41<br>low: 130.47<br>close: 132.3<br>volume: 2348237.0\", \"date: 20191119.0<br>open: 132.58<br>high: 133.68<br>low: 129.85<br>close: 130.93<br>volume: 2240126.0\", \"date: 20191120.0<br>open: 129.29<br>high: 132.49<br>low: 128.19<br>close: 131.4<br>volume: 2108755.0\", \"date: 20191121.0<br>open: 133.46<br>high: 134.58<br>low: 130.8<br>close: 131.9<br>volume: 2049904.0\", \"date: 20191122.0<br>open: 129.59<br>high: 135.12<br>low: 128.46<br>close: 134.03<br>volume: 2031316.0\", \"date: 20191125.0<br>open: 136.08<br>high: 137.19<br>low: 133.52<br>close: 134.61<br>volume: 2116949.0\", \"date: 20191126.0<br>open: 136.42<br>high: 137.78<br>low: 135.32<br>close: 136.69<br>volume: 2151449.0\", \"date: 20191127.0<br>open: 141.47<br>high: 142.57<br>low: 136.29<br>close: 137.37<br>volume: 2224127.0\", \"date: 20191128.0<br>open: 136.6<br>high: 138.88<br>low: 135.47<br>close: 137.77<br>volume: 2265921.0\", \"date: 20191129.0<br>open: 137.83<br>high: 138.94<br>low: 136.57<br>close: 137.67<br>volume: 2226350.0\", \"date: 20191202.0<br>open: 137.56<br>high: 138.68<br>low: 136.45<br>close: 137.58<br>volume: 2208417.0\", \"date: 20191203.0<br>open: 138.41<br>high: 139.5<br>low: 135.99<br>close: 137.12<br>volume: 2101406.0\", \"date: 20191204.0<br>open: 135.38<br>high: 138.53<br>low: 134.26<br>close: 137.44<br>volume: 2041957.0\", \"date: 20191205.0<br>open: 139.46<br>high: 140.56<br>low: 137.28<br>close: 138.41<br>volume: 2092391.0\", \"date: 20191206.0<br>open: 140.16<br>high: 141.27<br>low: 137.46<br>close: 138.56<br>volume: 2085057.0\", \"date: 20191209.0<br>open: 140.9<br>high: 142.01<br>low: 138.42<br>close: 139.55<br>volume: 2140467.0\", \"date: 20191210.0<br>open: 140.91<br>high: 142.01<br>low: 139.28<br>close: 140.38<br>volume: 2101641.0\", \"date: 20191211.0<br>open: 142.71<br>high: 144.35<br>low: 141.6<br>close: 143.24<br>volume: 2084150.0\", \"date: 20191212.0<br>open: 140.99<br>high: 144.23<br>low: 139.92<br>close: 143.11<br>volume: 2166044.0\", \"date: 20191213.0<br>open: 139.79<br>high: 142.76<br>low: 138.66<br>close: 141.66<br>volume: 2207442.0\", \"date: 20191216.0<br>open: 139.85<br>high: 143.36<br>low: 138.74<br>close: 142.26<br>volume: 2212078.0\", \"date: 20191217.0<br>open: 141.2<br>high: 143.94<br>low: 140.07<br>close: 142.81<br>volume: 2135872.0\", \"date: 20191218.0<br>open: 145.88<br>high: 147.0<br>low: 142.4<br>close: 143.5<br>volume: 2229974.0\", \"date: 20191219.0<br>open: 141.62<br>high: 144.66<br>low: 140.53<br>close: 143.53<br>volume: 2296021.0\", \"date: 20191220.0<br>open: 144.7<br>high: 145.79<br>low: 142.48<br>close: 143.58<br>volume: 2314655.0\", \"date: 20191223.0<br>open: 140.05<br>high: 142.55<br>low: 138.92<br>close: 141.44<br>volume: 2448829.0\", \"date: 20191224.0<br>open: 147.74<br>high: 148.83<br>low: 143.42<br>close: 144.52<br>volume: 2431066.0\", \"date: 20191225.0<br>open: 142.78<br>high: 146.39<br>low: 141.67<br>close: 145.28<br>volume: 2575361.0\", \"date: 20191226.0<br>open: 144.34<br>high: 146.06<br>low: 143.25<br>close: 144.97<br>volume: 2609626.0\", \"date: 20191227.0<br>open: 148.67<br>high: 149.76<br>low: 144.79<br>close: 145.89<br>volume: 2452806.0\", \"date: 20191230.0<br>open: 145.16<br>high: 147.36<br>low: 144.06<br>close: 146.24<br>volume: 2520244.0\", \"date: 20191231.0<br>open: 146.73<br>high: 148.91<br>low: 145.63<br>close: 147.8<br>volume: 2612389.0\", \"date: 20200101.0<br>open: 145.19<br>high: 147.32<br>low: 144.08<br>close: 146.22<br>volume: 2623522.0\", \"date: 20200102.0<br>open: 148.18<br>high: 149.26<br>low: 146.57<br>close: 147.7<br>volume: 2674869.0\", \"date: 20200103.0<br>open: 140.27<br>high: 147.04<br>low: 139.16<br>close: 145.93<br>volume: 2750854.0\", \"date: 20200106.0<br>open: 148.96<br>high: 150.05<br>low: 143.44<br>close: 144.53<br>volume: 2760316.0\", \"date: 20200107.0<br>open: 153.64<br>high: 154.75<br>low: 147.21<br>close: 148.33<br>volume: 2895122.0\", \"date: 20200108.0<br>open: 151.65<br>high: 152.78<br>low: 147.41<br>close: 148.51<br>volume: 2874667.0\", \"date: 20200109.0<br>open: 153.78<br>high: 154.9<br>low: 148.73<br>close: 149.84<br>volume: 2864451.0\", \"date: 20200110.0<br>open: 151.97<br>high: 153.07<br>low: 149.63<br>close: 150.74<br>volume: 2888461.0\"], \"x\": [1, 2, 3, 4, 5, 6, 7, 8, 9, 10, 11, 12, 13, 14, 15, 16, 17, 18, 19, 20, 21, 22, 23, 24, 25, 26, 27, 28, 29, 30, 31, 32, 33, 34, 35, 36, 37, 38, 39, 40, 41, 42, 43, 44, 45, 46, 47, 48, 49, 50], \"xaxis\": \"x\", \"y\": [126.9, 128.88, 128.87, 129.6, 127.24, 128.72, 129.08, 130.27, 129.57, 131.54, 132.3, 130.93, 131.4, 131.9, 134.03, 134.61, 136.69, 137.37, 137.77, 137.67, 137.58, 137.12, 137.44, 138.41, 138.56, 139.55, 140.38, 143.24, 143.11, 141.66, 142.26, 142.81, 143.5, 143.53, 143.58, 141.44, 144.52, 145.28, 144.97, 145.89, 146.24, 147.8, 146.22, 147.7, 145.93, 144.53, 148.33, 148.51, 149.84, 150.74], \"yaxis\": \"y\", \"type\": \"scatter\", \"uid\": \"9b17b70c-33f1-11ea-b830-8c859025e7f9\"}, {\"width\": 0.5, \"x\": [1, 2, 3, 4, 5, 6, 7, 8, 9, 10, 11, 12, 13, 14, 15, 16, 17, 18, 19, 20, 21, 22, 23, 24, 25, 26, 27, 28, 29, 30, 31, 32, 33, 34, 35, 36, 37, 38, 39, 40, 41, 42, 43, 44, 45, 46, 47, 48, 49, 50], \"xaxis\": \"x\", \"y\": [2467633.0, 2481655.0, 2464120.0, 2406211.0, 2303044.0, 2354824.0, 2352136.0, 2332562.0, 2402712.0, 2407905.0, 2348237.0, 2240126.0, 2108755.0, 2049904.0, 2031316.0, 2116949.0, 2151449.0, 2224127.0, 2265921.0, 2226350.0, 2208417.0, 2101406.0, 2041957.0, 2092391.0, 2085057.0, 2140467.0, 2101641.0, 2084150.0, 2166044.0, 2207442.0, 2212078.0, 2135872.0, 2229974.0, 2296021.0, 2314655.0, 2448829.0, 2431066.0, 2575361.0, 2609626.0, 2452806.0, 2520244.0, 2612389.0, 2623522.0, 2674869.0, 2750854.0, 2760316.0, 2895122.0, 2874667.0, 2864451.0, 2888461.0], \"yaxis\": \"y2\", \"type\": \"bar\", \"uid\": \"9b17b874-33f1-11ea-82c9-8c859025e7f9\"}], {\"margin\": {\"t\": 100}, \"shapes\": [{\"line\": {\"color\": \"rgb(55, 128, 191)\", \"width\": 1.5}, \"type\": \"line\", \"x0\": 1, \"x1\": 1, \"y0\": 122.81, \"y1\": 123.9}, {\"line\": {\"color\": \"rgb(55, 128, 191)\", \"width\": 1.5}, \"type\": \"line\", \"x0\": 2, \"x1\": 2, \"y0\": 127.8, \"y1\": 128.88}, {\"line\": {\"color\": \"rgb(55, 128, 191)\", \"width\": 1.5}, \"type\": \"line\", \"x0\": 3, \"x1\": 3, \"y0\": 127.78, \"y1\": 128.87}, {\"line\": {\"color\": \"rgb(55, 128, 191)\", \"width\": 1.5}, \"type\": \"line\", \"x0\": 4, \"x1\": 4, \"y0\": 126.18, \"y1\": 127.29}, {\"line\": {\"color\": \"rgb(55, 128, 191)\", \"width\": 1.5}, \"type\": \"line\", \"x0\": 5, \"x1\": 5, \"y0\": 123.54, \"y1\": 124.67}, {\"line\": {\"color\": \"rgb(55, 128, 191)\", \"width\": 1.5}, \"type\": \"line\", \"x0\": 6, \"x1\": 6, \"y0\": 127.6, \"y1\": 128.72}, {\"line\": {\"color\": \"rgb(55, 128, 191)\", \"width\": 1.5}, \"type\": \"line\", \"x0\": 7, \"x1\": 7, \"y0\": 123.64, \"y1\": 124.75}, {\"line\": {\"color\": \"rgb(55, 128, 191)\", \"width\": 1.5}, \"type\": \"line\", \"x0\": 8, \"x1\": 8, \"y0\": 128.4, \"y1\": 129.51}, {\"line\": {\"color\": \"rgb(55, 128, 191)\", \"width\": 1.5}, \"type\": \"line\", \"x0\": 9, \"x1\": 9, \"y0\": 128.46, \"y1\": 129.57}, {\"line\": {\"color\": \"rgb(55, 128, 191)\", \"width\": 1.5}, \"type\": \"line\", \"x0\": 10, \"x1\": 10, \"y0\": 130.42, \"y1\": 131.54}, {\"line\": {\"color\": \"rgb(55, 128, 191)\", \"width\": 1.5}, \"type\": \"line\", \"x0\": 11, \"x1\": 11, \"y0\": 130.47, \"y1\": 131.59}, {\"line\": {\"color\": \"rgb(55, 128, 191)\", \"width\": 1.5}, \"type\": \"line\", \"x0\": 12, \"x1\": 12, \"y0\": 129.85, \"y1\": 130.93}, {\"line\": {\"color\": \"rgb(55, 128, 191)\", \"width\": 1.5}, \"type\": \"line\", \"x0\": 13, \"x1\": 13, \"y0\": 128.19, \"y1\": 129.29}, {\"line\": {\"color\": \"rgb(55, 128, 191)\", \"width\": 1.5}, \"type\": \"line\", \"x0\": 14, \"x1\": 14, \"y0\": 130.8, \"y1\": 131.9}, {\"line\": {\"color\": \"rgb(55, 128, 191)\", \"width\": 1.5}, \"type\": \"line\", \"x0\": 15, \"x1\": 15, \"y0\": 128.46, \"y1\": 129.59}, {\"line\": {\"color\": \"rgb(55, 128, 191)\", \"width\": 1.5}, \"type\": \"line\", \"x0\": 16, \"x1\": 16, \"y0\": 133.52, \"y1\": 134.61}, {\"line\": {\"color\": \"rgb(55, 128, 191)\", \"width\": 1.5}, \"type\": \"line\", \"x0\": 17, \"x1\": 17, \"y0\": 135.32, \"y1\": 136.42}, {\"line\": {\"color\": \"rgb(55, 128, 191)\", \"width\": 1.5}, \"type\": \"line\", \"x0\": 18, \"x1\": 18, \"y0\": 136.29, \"y1\": 137.37}, {\"line\": {\"color\": \"rgb(55, 128, 191)\", \"width\": 1.5}, \"type\": \"line\", \"x0\": 19, \"x1\": 19, \"y0\": 135.47, \"y1\": 136.6}, {\"line\": {\"color\": \"rgb(55, 128, 191)\", \"width\": 1.5}, \"type\": \"line\", \"x0\": 20, \"x1\": 20, \"y0\": 136.57, \"y1\": 137.67}, {\"line\": {\"color\": \"rgb(55, 128, 191)\", \"width\": 1.5}, \"type\": \"line\", \"x0\": 21, \"x1\": 21, \"y0\": 136.45, \"y1\": 137.56}, {\"line\": {\"color\": \"rgb(55, 128, 191)\", \"width\": 1.5}, \"type\": \"line\", \"x0\": 22, \"x1\": 22, \"y0\": 135.99, \"y1\": 137.12}, {\"line\": {\"color\": \"rgb(55, 128, 191)\", \"width\": 1.5}, \"type\": \"line\", \"x0\": 23, \"x1\": 23, \"y0\": 134.26, \"y1\": 135.38}, {\"line\": {\"color\": \"rgb(55, 128, 191)\", \"width\": 1.5}, \"type\": \"line\", \"x0\": 24, \"x1\": 24, \"y0\": 137.28, \"y1\": 138.41}, {\"line\": {\"color\": \"rgb(55, 128, 191)\", \"width\": 1.5}, \"type\": \"line\", \"x0\": 25, \"x1\": 25, \"y0\": 137.46, \"y1\": 138.56}, {\"line\": {\"color\": \"rgb(55, 128, 191)\", \"width\": 1.5}, \"type\": \"line\", \"x0\": 26, \"x1\": 26, \"y0\": 138.42, \"y1\": 139.55}, {\"line\": {\"color\": \"rgb(55, 128, 191)\", \"width\": 1.5}, \"type\": \"line\", \"x0\": 27, \"x1\": 27, \"y0\": 139.28, \"y1\": 140.38}, {\"line\": {\"color\": \"rgb(55, 128, 191)\", \"width\": 1.5}, \"type\": \"line\", \"x0\": 28, \"x1\": 28, \"y0\": 141.6, \"y1\": 142.71}, {\"line\": {\"color\": \"rgb(55, 128, 191)\", \"width\": 1.5}, \"type\": \"line\", \"x0\": 29, \"x1\": 29, \"y0\": 139.92, \"y1\": 140.99}, {\"line\": {\"color\": \"rgb(55, 128, 191)\", \"width\": 1.5}, \"type\": \"line\", \"x0\": 30, \"x1\": 30, \"y0\": 138.66, \"y1\": 139.79}, {\"line\": {\"color\": \"rgb(55, 128, 191)\", \"width\": 1.5}, \"type\": \"line\", \"x0\": 31, \"x1\": 31, \"y0\": 138.74, \"y1\": 139.85}, {\"line\": {\"color\": \"rgb(55, 128, 191)\", \"width\": 1.5}, \"type\": \"line\", \"x0\": 32, \"x1\": 32, \"y0\": 140.07, \"y1\": 141.2}, {\"line\": {\"color\": \"rgb(55, 128, 191)\", \"width\": 1.5}, \"type\": \"line\", \"x0\": 33, \"x1\": 33, \"y0\": 142.4, \"y1\": 143.5}, {\"line\": {\"color\": \"rgb(55, 128, 191)\", \"width\": 1.5}, \"type\": \"line\", \"x0\": 34, \"x1\": 34, \"y0\": 140.53, \"y1\": 141.62}, {\"line\": {\"color\": \"rgb(55, 128, 191)\", \"width\": 1.5}, \"type\": \"line\", \"x0\": 35, \"x1\": 35, \"y0\": 142.48, \"y1\": 143.58}, {\"line\": {\"color\": \"rgb(55, 128, 191)\", \"width\": 1.5}, \"type\": \"line\", \"x0\": 36, \"x1\": 36, \"y0\": 138.92, \"y1\": 140.05}, {\"line\": {\"color\": \"rgb(55, 128, 191)\", \"width\": 1.5}, \"type\": \"line\", \"x0\": 37, \"x1\": 37, \"y0\": 143.42, \"y1\": 144.52}, {\"line\": {\"color\": \"rgb(55, 128, 191)\", \"width\": 1.5}, \"type\": \"line\", \"x0\": 38, \"x1\": 38, \"y0\": 141.67, \"y1\": 142.78}, {\"line\": {\"color\": \"rgb(55, 128, 191)\", \"width\": 1.5}, \"type\": \"line\", \"x0\": 39, \"x1\": 39, \"y0\": 143.25, \"y1\": 144.34}, {\"line\": {\"color\": \"rgb(55, 128, 191)\", \"width\": 1.5}, \"type\": \"line\", \"x0\": 40, \"x1\": 40, \"y0\": 144.79, \"y1\": 145.89}, {\"line\": {\"color\": \"rgb(55, 128, 191)\", \"width\": 1.5}, \"type\": \"line\", \"x0\": 41, \"x1\": 41, \"y0\": 144.06, \"y1\": 145.16}, {\"line\": {\"color\": \"rgb(55, 128, 191)\", \"width\": 1.5}, \"type\": \"line\", \"x0\": 42, \"x1\": 42, \"y0\": 145.63, \"y1\": 146.73}, {\"line\": {\"color\": \"rgb(55, 128, 191)\", \"width\": 1.5}, \"type\": \"line\", \"x0\": 43, \"x1\": 43, \"y0\": 144.08, \"y1\": 145.19}, {\"line\": {\"color\": \"rgb(55, 128, 191)\", \"width\": 1.5}, \"type\": \"line\", \"x0\": 44, \"x1\": 44, \"y0\": 146.57, \"y1\": 147.7}, {\"line\": {\"color\": \"rgb(55, 128, 191)\", \"width\": 1.5}, \"type\": \"line\", \"x0\": 45, \"x1\": 45, \"y0\": 139.16, \"y1\": 140.27}, {\"line\": {\"color\": \"rgb(55, 128, 191)\", \"width\": 1.5}, \"type\": \"line\", \"x0\": 46, \"x1\": 46, \"y0\": 143.44, \"y1\": 144.53}, {\"line\": {\"color\": \"rgb(55, 128, 191)\", \"width\": 1.5}, \"type\": \"line\", \"x0\": 47, \"x1\": 47, \"y0\": 147.21, \"y1\": 148.33}, {\"line\": {\"color\": \"rgb(55, 128, 191)\", \"width\": 1.5}, \"type\": \"line\", \"x0\": 48, \"x1\": 48, \"y0\": 147.41, \"y1\": 148.51}, {\"line\": {\"color\": \"rgb(55, 128, 191)\", \"width\": 1.5}, \"type\": \"line\", \"x0\": 49, \"x1\": 49, \"y0\": 148.73, \"y1\": 149.84}, {\"line\": {\"color\": \"rgb(55, 128, 191)\", \"width\": 1.5}, \"type\": \"line\", \"x0\": 50, \"x1\": 50, \"y0\": 149.63, \"y1\": 150.74}, {\"fillcolor\": \"rgba(0, 204, 0, 0.6)\", \"line\": {\"color\": \"rgb(55, 128, 191)\", \"width\": 1}, \"type\": \"rect\", \"x0\": 0.75, \"x1\": 1.25, \"xref\": \"x\", \"y0\": 123.9, \"y1\": 126.9, \"yref\": \"y\"}, {\"fillcolor\": \"rgba(255, 0, 0, 0.6)\", \"line\": {\"color\": \"rgb(55, 128, 191)\", \"width\": 1}, \"type\": \"rect\", \"x0\": 1.75, \"x1\": 2.25, \"xref\": \"x\", \"y0\": 128.88, \"y1\": 128.96, \"yref\": \"y\"}, {\"fillcolor\": \"rgba(255, 0, 0, 0.6)\", \"line\": {\"color\": \"rgb(55, 128, 191)\", \"width\": 1}, \"type\": \"rect\", \"x0\": 2.75, \"x1\": 3.25, \"xref\": \"x\", \"y0\": 128.87, \"y1\": 130.36, \"yref\": \"y\"}, {\"fillcolor\": \"rgba(0, 204, 0, 0.6)\", \"line\": {\"color\": \"rgb(55, 128, 191)\", \"width\": 1}, \"type\": \"rect\", \"x0\": 3.75, \"x1\": 4.25, \"xref\": \"x\", \"y0\": 127.29, \"y1\": 129.6, \"yref\": \"y\"}, {\"fillcolor\": \"rgba(0, 204, 0, 0.6)\", \"line\": {\"color\": \"rgb(55, 128, 191)\", \"width\": 1}, \"type\": \"rect\", \"x0\": 4.75, \"x1\": 5.25, \"xref\": \"x\", \"y0\": 124.67, \"y1\": 127.24, \"yref\": \"y\"}, {\"fillcolor\": \"rgba(255, 0, 0, 0.6)\", \"line\": {\"color\": \"rgb(55, 128, 191)\", \"width\": 1}, \"type\": \"rect\", \"x0\": 5.75, \"x1\": 6.25, \"xref\": \"x\", \"y0\": 128.72, \"y1\": 128.8, \"yref\": \"y\"}, {\"fillcolor\": \"rgba(0, 204, 0, 0.6)\", \"line\": {\"color\": \"rgb(55, 128, 191)\", \"width\": 1}, \"type\": \"rect\", \"x0\": 6.75, \"x1\": 7.25, \"xref\": \"x\", \"y0\": 124.75, \"y1\": 129.08, \"yref\": \"y\"}, {\"fillcolor\": \"rgba(0, 204, 0, 0.6)\", \"line\": {\"color\": \"rgb(55, 128, 191)\", \"width\": 1}, \"type\": \"rect\", \"x0\": 7.75, \"x1\": 8.25, \"xref\": \"x\", \"y0\": 129.51, \"y1\": 130.27, \"yref\": \"y\"}, {\"fillcolor\": \"rgba(255, 0, 0, 0.6)\", \"line\": {\"color\": \"rgb(55, 128, 191)\", \"width\": 1}, \"type\": \"rect\", \"x0\": 8.75, \"x1\": 9.25, \"xref\": \"x\", \"y0\": 129.57, \"y1\": 134.78, \"yref\": \"y\"}, {\"fillcolor\": \"rgba(255, 0, 0, 0.6)\", \"line\": {\"color\": \"rgb(55, 128, 191)\", \"width\": 1}, \"type\": \"rect\", \"x0\": 9.75, \"x1\": 10.25, \"xref\": \"x\", \"y0\": 131.54, \"y1\": 132.74, \"yref\": \"y\"}, {\"fillcolor\": \"rgba(0, 204, 0, 0.6)\", \"line\": {\"color\": \"rgb(55, 128, 191)\", \"width\": 1}, \"type\": \"rect\", \"x0\": 10.75, \"x1\": 11.25, \"xref\": \"x\", \"y0\": 131.59, \"y1\": 132.3, \"yref\": \"y\"}, {\"fillcolor\": \"rgba(255, 0, 0, 0.6)\", \"line\": {\"color\": \"rgb(55, 128, 191)\", \"width\": 1}, \"type\": \"rect\", \"x0\": 11.75, \"x1\": 12.25, \"xref\": \"x\", \"y0\": 130.93, \"y1\": 132.58, \"yref\": \"y\"}, {\"fillcolor\": \"rgba(0, 204, 0, 0.6)\", \"line\": {\"color\": \"rgb(55, 128, 191)\", \"width\": 1}, \"type\": \"rect\", \"x0\": 12.75, \"x1\": 13.25, \"xref\": \"x\", \"y0\": 129.29, \"y1\": 131.4, \"yref\": \"y\"}, {\"fillcolor\": \"rgba(255, 0, 0, 0.6)\", \"line\": {\"color\": \"rgb(55, 128, 191)\", \"width\": 1}, \"type\": \"rect\", \"x0\": 13.75, \"x1\": 14.25, \"xref\": \"x\", \"y0\": 131.9, \"y1\": 133.46, \"yref\": \"y\"}, {\"fillcolor\": \"rgba(0, 204, 0, 0.6)\", \"line\": {\"color\": \"rgb(55, 128, 191)\", \"width\": 1}, \"type\": \"rect\", \"x0\": 14.75, \"x1\": 15.25, \"xref\": \"x\", \"y0\": 129.59, \"y1\": 134.03, \"yref\": \"y\"}, {\"fillcolor\": \"rgba(255, 0, 0, 0.6)\", \"line\": {\"color\": \"rgb(55, 128, 191)\", \"width\": 1}, \"type\": \"rect\", \"x0\": 15.75, \"x1\": 16.25, \"xref\": \"x\", \"y0\": 134.61, \"y1\": 136.08, \"yref\": \"y\"}, {\"fillcolor\": \"rgba(0, 204, 0, 0.6)\", \"line\": {\"color\": \"rgb(55, 128, 191)\", \"width\": 1}, \"type\": \"rect\", \"x0\": 16.75, \"x1\": 17.25, \"xref\": \"x\", \"y0\": 136.42, \"y1\": 136.69, \"yref\": \"y\"}, {\"fillcolor\": \"rgba(255, 0, 0, 0.6)\", \"line\": {\"color\": \"rgb(55, 128, 191)\", \"width\": 1}, \"type\": \"rect\", \"x0\": 17.75, \"x1\": 18.25, \"xref\": \"x\", \"y0\": 137.37, \"y1\": 141.47, \"yref\": \"y\"}, {\"fillcolor\": \"rgba(0, 204, 0, 0.6)\", \"line\": {\"color\": \"rgb(55, 128, 191)\", \"width\": 1}, \"type\": \"rect\", \"x0\": 18.75, \"x1\": 19.25, \"xref\": \"x\", \"y0\": 136.6, \"y1\": 137.77, \"yref\": \"y\"}, {\"fillcolor\": \"rgba(255, 0, 0, 0.6)\", \"line\": {\"color\": \"rgb(55, 128, 191)\", \"width\": 1}, \"type\": \"rect\", \"x0\": 19.75, \"x1\": 20.25, \"xref\": \"x\", \"y0\": 137.67, \"y1\": 137.83, \"yref\": \"y\"}, {\"fillcolor\": \"rgba(0, 204, 0, 0.6)\", \"line\": {\"color\": \"rgb(55, 128, 191)\", \"width\": 1}, \"type\": \"rect\", \"x0\": 20.75, \"x1\": 21.25, \"xref\": \"x\", \"y0\": 137.56, \"y1\": 137.58, \"yref\": \"y\"}, {\"fillcolor\": \"rgba(255, 0, 0, 0.6)\", \"line\": {\"color\": \"rgb(55, 128, 191)\", \"width\": 1}, \"type\": \"rect\", \"x0\": 21.75, \"x1\": 22.25, \"xref\": \"x\", \"y0\": 137.12, \"y1\": 138.41, \"yref\": \"y\"}, {\"fillcolor\": \"rgba(0, 204, 0, 0.6)\", \"line\": {\"color\": \"rgb(55, 128, 191)\", \"width\": 1}, \"type\": \"rect\", \"x0\": 22.75, \"x1\": 23.25, \"xref\": \"x\", \"y0\": 135.38, \"y1\": 137.44, \"yref\": \"y\"}, {\"fillcolor\": \"rgba(255, 0, 0, 0.6)\", \"line\": {\"color\": \"rgb(55, 128, 191)\", \"width\": 1}, \"type\": \"rect\", \"x0\": 23.75, \"x1\": 24.25, \"xref\": \"x\", \"y0\": 138.41, \"y1\": 139.46, \"yref\": \"y\"}, {\"fillcolor\": \"rgba(255, 0, 0, 0.6)\", \"line\": {\"color\": \"rgb(55, 128, 191)\", \"width\": 1}, \"type\": \"rect\", \"x0\": 24.75, \"x1\": 25.25, \"xref\": \"x\", \"y0\": 138.56, \"y1\": 140.16, \"yref\": \"y\"}, {\"fillcolor\": \"rgba(255, 0, 0, 0.6)\", \"line\": {\"color\": \"rgb(55, 128, 191)\", \"width\": 1}, \"type\": \"rect\", \"x0\": 25.75, \"x1\": 26.25, \"xref\": \"x\", \"y0\": 139.55, \"y1\": 140.9, \"yref\": \"y\"}, {\"fillcolor\": \"rgba(255, 0, 0, 0.6)\", \"line\": {\"color\": \"rgb(55, 128, 191)\", \"width\": 1}, \"type\": \"rect\", \"x0\": 26.75, \"x1\": 27.25, \"xref\": \"x\", \"y0\": 140.38, \"y1\": 140.91, \"yref\": \"y\"}, {\"fillcolor\": \"rgba(0, 204, 0, 0.6)\", \"line\": {\"color\": \"rgb(55, 128, 191)\", \"width\": 1}, \"type\": \"rect\", \"x0\": 27.75, \"x1\": 28.25, \"xref\": \"x\", \"y0\": 142.71, \"y1\": 143.24, \"yref\": \"y\"}, {\"fillcolor\": \"rgba(0, 204, 0, 0.6)\", \"line\": {\"color\": \"rgb(55, 128, 191)\", \"width\": 1}, \"type\": \"rect\", \"x0\": 28.75, \"x1\": 29.25, \"xref\": \"x\", \"y0\": 140.99, \"y1\": 143.11, \"yref\": \"y\"}, {\"fillcolor\": \"rgba(0, 204, 0, 0.6)\", \"line\": {\"color\": \"rgb(55, 128, 191)\", \"width\": 1}, \"type\": \"rect\", \"x0\": 29.75, \"x1\": 30.25, \"xref\": \"x\", \"y0\": 139.79, \"y1\": 141.66, \"yref\": \"y\"}, {\"fillcolor\": \"rgba(0, 204, 0, 0.6)\", \"line\": {\"color\": \"rgb(55, 128, 191)\", \"width\": 1}, \"type\": \"rect\", \"x0\": 30.75, \"x1\": 31.25, \"xref\": \"x\", \"y0\": 139.85, \"y1\": 142.26, \"yref\": \"y\"}, {\"fillcolor\": \"rgba(0, 204, 0, 0.6)\", \"line\": {\"color\": \"rgb(55, 128, 191)\", \"width\": 1}, \"type\": \"rect\", \"x0\": 31.75, \"x1\": 32.25, \"xref\": \"x\", \"y0\": 141.2, \"y1\": 142.81, \"yref\": \"y\"}, {\"fillcolor\": \"rgba(255, 0, 0, 0.6)\", \"line\": {\"color\": \"rgb(55, 128, 191)\", \"width\": 1}, \"type\": \"rect\", \"x0\": 32.75, \"x1\": 33.25, \"xref\": \"x\", \"y0\": 143.5, \"y1\": 145.88, \"yref\": \"y\"}, {\"fillcolor\": \"rgba(0, 204, 0, 0.6)\", \"line\": {\"color\": \"rgb(55, 128, 191)\", \"width\": 1}, \"type\": \"rect\", \"x0\": 33.75, \"x1\": 34.25, \"xref\": \"x\", \"y0\": 141.62, \"y1\": 143.53, \"yref\": \"y\"}, {\"fillcolor\": \"rgba(255, 0, 0, 0.6)\", \"line\": {\"color\": \"rgb(55, 128, 191)\", \"width\": 1}, \"type\": \"rect\", \"x0\": 34.75, \"x1\": 35.25, \"xref\": \"x\", \"y0\": 143.58, \"y1\": 144.7, \"yref\": \"y\"}, {\"fillcolor\": \"rgba(0, 204, 0, 0.6)\", \"line\": {\"color\": \"rgb(55, 128, 191)\", \"width\": 1}, \"type\": \"rect\", \"x0\": 35.75, \"x1\": 36.25, \"xref\": \"x\", \"y0\": 140.05, \"y1\": 141.44, \"yref\": \"y\"}, {\"fillcolor\": \"rgba(255, 0, 0, 0.6)\", \"line\": {\"color\": \"rgb(55, 128, 191)\", \"width\": 1}, \"type\": \"rect\", \"x0\": 36.75, \"x1\": 37.25, \"xref\": \"x\", \"y0\": 144.52, \"y1\": 147.74, \"yref\": \"y\"}, {\"fillcolor\": \"rgba(0, 204, 0, 0.6)\", \"line\": {\"color\": \"rgb(55, 128, 191)\", \"width\": 1}, \"type\": \"rect\", \"x0\": 37.75, \"x1\": 38.25, \"xref\": \"x\", \"y0\": 142.78, \"y1\": 145.28, \"yref\": \"y\"}, {\"fillcolor\": \"rgba(0, 204, 0, 0.6)\", \"line\": {\"color\": \"rgb(55, 128, 191)\", \"width\": 1}, \"type\": \"rect\", \"x0\": 38.75, \"x1\": 39.25, \"xref\": \"x\", \"y0\": 144.34, \"y1\": 144.97, \"yref\": \"y\"}, {\"fillcolor\": \"rgba(255, 0, 0, 0.6)\", \"line\": {\"color\": \"rgb(55, 128, 191)\", \"width\": 1}, \"type\": \"rect\", \"x0\": 39.75, \"x1\": 40.25, \"xref\": \"x\", \"y0\": 145.89, \"y1\": 148.67, \"yref\": \"y\"}, {\"fillcolor\": \"rgba(0, 204, 0, 0.6)\", \"line\": {\"color\": \"rgb(55, 128, 191)\", \"width\": 1}, \"type\": \"rect\", \"x0\": 40.75, \"x1\": 41.25, \"xref\": \"x\", \"y0\": 145.16, \"y1\": 146.24, \"yref\": \"y\"}, {\"fillcolor\": \"rgba(0, 204, 0, 0.6)\", \"line\": {\"color\": \"rgb(55, 128, 191)\", \"width\": 1}, \"type\": \"rect\", \"x0\": 41.75, \"x1\": 42.25, \"xref\": \"x\", \"y0\": 146.73, \"y1\": 147.8, \"yref\": \"y\"}, {\"fillcolor\": \"rgba(0, 204, 0, 0.6)\", \"line\": {\"color\": \"rgb(55, 128, 191)\", \"width\": 1}, \"type\": \"rect\", \"x0\": 42.75, \"x1\": 43.25, \"xref\": \"x\", \"y0\": 145.19, \"y1\": 146.22, \"yref\": \"y\"}, {\"fillcolor\": \"rgba(255, 0, 0, 0.6)\", \"line\": {\"color\": \"rgb(55, 128, 191)\", \"width\": 1}, \"type\": \"rect\", \"x0\": 43.75, \"x1\": 44.25, \"xref\": \"x\", \"y0\": 147.7, \"y1\": 148.18, \"yref\": \"y\"}, {\"fillcolor\": \"rgba(0, 204, 0, 0.6)\", \"line\": {\"color\": \"rgb(55, 128, 191)\", \"width\": 1}, \"type\": \"rect\", \"x0\": 44.75, \"x1\": 45.25, \"xref\": \"x\", \"y0\": 140.27, \"y1\": 145.93, \"yref\": \"y\"}, {\"fillcolor\": \"rgba(255, 0, 0, 0.6)\", \"line\": {\"color\": \"rgb(55, 128, 191)\", \"width\": 1}, \"type\": \"rect\", \"x0\": 45.75, \"x1\": 46.25, \"xref\": \"x\", \"y0\": 144.53, \"y1\": 148.96, \"yref\": \"y\"}, {\"fillcolor\": \"rgba(255, 0, 0, 0.6)\", \"line\": {\"color\": \"rgb(55, 128, 191)\", \"width\": 1}, \"type\": \"rect\", \"x0\": 46.75, \"x1\": 47.25, \"xref\": \"x\", \"y0\": 148.33, \"y1\": 153.64, \"yref\": \"y\"}, {\"fillcolor\": \"rgba(255, 0, 0, 0.6)\", \"line\": {\"color\": \"rgb(55, 128, 191)\", \"width\": 1}, \"type\": \"rect\", \"x0\": 47.75, \"x1\": 48.25, \"xref\": \"x\", \"y0\": 148.51, \"y1\": 151.65, \"yref\": \"y\"}, {\"fillcolor\": \"rgba(255, 0, 0, 0.6)\", \"line\": {\"color\": \"rgb(55, 128, 191)\", \"width\": 1}, \"type\": \"rect\", \"x0\": 48.75, \"x1\": 49.25, \"xref\": \"x\", \"y0\": 149.84, \"y1\": 153.78, \"yref\": \"y\"}, {\"fillcolor\": \"rgba(255, 0, 0, 0.6)\", \"line\": {\"color\": \"rgb(55, 128, 191)\", \"width\": 1}, \"type\": \"rect\", \"x0\": 49.75, \"x1\": 50.25, \"xref\": \"x\", \"y0\": 150.74, \"y1\": 151.97, \"yref\": \"y\"}, {\"line\": {\"color\": \"rgb(55, 128, 191)\", \"width\": 1.5}, \"type\": \"line\", \"x0\": 1, \"x1\": 1, \"y0\": 126.9, \"y1\": 128.0}, {\"line\": {\"color\": \"rgb(55, 128, 191)\", \"width\": 1.5}, \"type\": \"line\", \"x0\": 2, \"x1\": 2, \"y0\": 128.96, \"y1\": 130.07}, {\"line\": {\"color\": \"rgb(55, 128, 191)\", \"width\": 1.5}, \"type\": \"line\", \"x0\": 3, \"x1\": 3, \"y0\": 130.36, \"y1\": 131.46}, {\"line\": {\"color\": \"rgb(55, 128, 191)\", \"width\": 1.5}, \"type\": \"line\", \"x0\": 4, \"x1\": 4, \"y0\": 129.6, \"y1\": 130.71}, {\"line\": {\"color\": \"rgb(55, 128, 191)\", \"width\": 1.5}, \"type\": \"line\", \"x0\": 5, \"x1\": 5, \"y0\": 127.24, \"y1\": 128.33}, {\"line\": {\"color\": \"rgb(55, 128, 191)\", \"width\": 1.5}, \"type\": \"line\", \"x0\": 6, \"x1\": 6, \"y0\": 128.8, \"y1\": 129.92}, {\"line\": {\"color\": \"rgb(55, 128, 191)\", \"width\": 1.5}, \"type\": \"line\", \"x0\": 7, \"x1\": 7, \"y0\": 129.08, \"y1\": 130.19}, {\"line\": {\"color\": \"rgb(55, 128, 191)\", \"width\": 1.5}, \"type\": \"line\", \"x0\": 8, \"x1\": 8, \"y0\": 130.27, \"y1\": 131.39}, {\"line\": {\"color\": \"rgb(55, 128, 191)\", \"width\": 1.5}, \"type\": \"line\", \"x0\": 9, \"x1\": 9, \"y0\": 134.78, \"y1\": 135.88}, {\"line\": {\"color\": \"rgb(55, 128, 191)\", \"width\": 1.5}, \"type\": \"line\", \"x0\": 10, \"x1\": 10, \"y0\": 132.74, \"y1\": 133.85}, {\"line\": {\"color\": \"rgb(55, 128, 191)\", \"width\": 1.5}, \"type\": \"line\", \"x0\": 11, \"x1\": 11, \"y0\": 132.3, \"y1\": 133.41}, {\"line\": {\"color\": \"rgb(55, 128, 191)\", \"width\": 1.5}, \"type\": \"line\", \"x0\": 12, \"x1\": 12, \"y0\": 132.58, \"y1\": 133.68}, {\"line\": {\"color\": \"rgb(55, 128, 191)\", \"width\": 1.5}, \"type\": \"line\", \"x0\": 13, \"x1\": 13, \"y0\": 131.4, \"y1\": 132.49}, {\"line\": {\"color\": \"rgb(55, 128, 191)\", \"width\": 1.5}, \"type\": \"line\", \"x0\": 14, \"x1\": 14, \"y0\": 133.46, \"y1\": 134.58}, {\"line\": {\"color\": \"rgb(55, 128, 191)\", \"width\": 1.5}, \"type\": \"line\", \"x0\": 15, \"x1\": 15, \"y0\": 134.03, \"y1\": 135.12}, {\"line\": {\"color\": \"rgb(55, 128, 191)\", \"width\": 1.5}, \"type\": \"line\", \"x0\": 16, \"x1\": 16, \"y0\": 136.08, \"y1\": 137.19}, {\"line\": {\"color\": \"rgb(55, 128, 191)\", \"width\": 1.5}, \"type\": \"line\", \"x0\": 17, \"x1\": 17, \"y0\": 136.69, \"y1\": 137.78}, {\"line\": {\"color\": \"rgb(55, 128, 191)\", \"width\": 1.5}, \"type\": \"line\", \"x0\": 18, \"x1\": 18, \"y0\": 141.47, \"y1\": 142.57}, {\"line\": {\"color\": \"rgb(55, 128, 191)\", \"width\": 1.5}, \"type\": \"line\", \"x0\": 19, \"x1\": 19, \"y0\": 137.77, \"y1\": 138.88}, {\"line\": {\"color\": \"rgb(55, 128, 191)\", \"width\": 1.5}, \"type\": \"line\", \"x0\": 20, \"x1\": 20, \"y0\": 137.83, \"y1\": 138.94}, {\"line\": {\"color\": \"rgb(55, 128, 191)\", \"width\": 1.5}, \"type\": \"line\", \"x0\": 21, \"x1\": 21, \"y0\": 137.58, \"y1\": 138.68}, {\"line\": {\"color\": \"rgb(55, 128, 191)\", \"width\": 1.5}, \"type\": \"line\", \"x0\": 22, \"x1\": 22, \"y0\": 138.41, \"y1\": 139.5}, {\"line\": {\"color\": \"rgb(55, 128, 191)\", \"width\": 1.5}, \"type\": \"line\", \"x0\": 23, \"x1\": 23, \"y0\": 137.44, \"y1\": 138.53}, {\"line\": {\"color\": \"rgb(55, 128, 191)\", \"width\": 1.5}, \"type\": \"line\", \"x0\": 24, \"x1\": 24, \"y0\": 139.46, \"y1\": 140.56}, {\"line\": {\"color\": \"rgb(55, 128, 191)\", \"width\": 1.5}, \"type\": \"line\", \"x0\": 25, \"x1\": 25, \"y0\": 140.16, \"y1\": 141.27}, {\"line\": {\"color\": \"rgb(55, 128, 191)\", \"width\": 1.5}, \"type\": \"line\", \"x0\": 26, \"x1\": 26, \"y0\": 140.9, \"y1\": 142.01}, {\"line\": {\"color\": \"rgb(55, 128, 191)\", \"width\": 1.5}, \"type\": \"line\", \"x0\": 27, \"x1\": 27, \"y0\": 140.91, \"y1\": 142.01}, {\"line\": {\"color\": \"rgb(55, 128, 191)\", \"width\": 1.5}, \"type\": \"line\", \"x0\": 28, \"x1\": 28, \"y0\": 143.24, \"y1\": 144.35}, {\"line\": {\"color\": \"rgb(55, 128, 191)\", \"width\": 1.5}, \"type\": \"line\", \"x0\": 29, \"x1\": 29, \"y0\": 143.11, \"y1\": 144.23}, {\"line\": {\"color\": \"rgb(55, 128, 191)\", \"width\": 1.5}, \"type\": \"line\", \"x0\": 30, \"x1\": 30, \"y0\": 141.66, \"y1\": 142.76}, {\"line\": {\"color\": \"rgb(55, 128, 191)\", \"width\": 1.5}, \"type\": \"line\", \"x0\": 31, \"x1\": 31, \"y0\": 142.26, \"y1\": 143.36}, {\"line\": {\"color\": \"rgb(55, 128, 191)\", \"width\": 1.5}, \"type\": \"line\", \"x0\": 32, \"x1\": 32, \"y0\": 142.81, \"y1\": 143.94}, {\"line\": {\"color\": \"rgb(55, 128, 191)\", \"width\": 1.5}, \"type\": \"line\", \"x0\": 33, \"x1\": 33, \"y0\": 145.88, \"y1\": 147.0}, {\"line\": {\"color\": \"rgb(55, 128, 191)\", \"width\": 1.5}, \"type\": \"line\", \"x0\": 34, \"x1\": 34, \"y0\": 143.53, \"y1\": 144.66}, {\"line\": {\"color\": \"rgb(55, 128, 191)\", \"width\": 1.5}, \"type\": \"line\", \"x0\": 35, \"x1\": 35, \"y0\": 144.7, \"y1\": 145.79}, {\"line\": {\"color\": \"rgb(55, 128, 191)\", \"width\": 1.5}, \"type\": \"line\", \"x0\": 36, \"x1\": 36, \"y0\": 141.44, \"y1\": 142.55}, {\"line\": {\"color\": \"rgb(55, 128, 191)\", \"width\": 1.5}, \"type\": \"line\", \"x0\": 37, \"x1\": 37, \"y0\": 147.74, \"y1\": 148.83}, {\"line\": {\"color\": \"rgb(55, 128, 191)\", \"width\": 1.5}, \"type\": \"line\", \"x0\": 38, \"x1\": 38, \"y0\": 145.28, \"y1\": 146.39}, {\"line\": {\"color\": \"rgb(55, 128, 191)\", \"width\": 1.5}, \"type\": \"line\", \"x0\": 39, \"x1\": 39, \"y0\": 144.97, \"y1\": 146.06}, {\"line\": {\"color\": \"rgb(55, 128, 191)\", \"width\": 1.5}, \"type\": \"line\", \"x0\": 40, \"x1\": 40, \"y0\": 148.67, \"y1\": 149.76}, {\"line\": {\"color\": \"rgb(55, 128, 191)\", \"width\": 1.5}, \"type\": \"line\", \"x0\": 41, \"x1\": 41, \"y0\": 146.24, \"y1\": 147.36}, {\"line\": {\"color\": \"rgb(55, 128, 191)\", \"width\": 1.5}, \"type\": \"line\", \"x0\": 42, \"x1\": 42, \"y0\": 147.8, \"y1\": 148.91}, {\"line\": {\"color\": \"rgb(55, 128, 191)\", \"width\": 1.5}, \"type\": \"line\", \"x0\": 43, \"x1\": 43, \"y0\": 146.22, \"y1\": 147.32}, {\"line\": {\"color\": \"rgb(55, 128, 191)\", \"width\": 1.5}, \"type\": \"line\", \"x0\": 44, \"x1\": 44, \"y0\": 148.18, \"y1\": 149.26}, {\"line\": {\"color\": \"rgb(55, 128, 191)\", \"width\": 1.5}, \"type\": \"line\", \"x0\": 45, \"x1\": 45, \"y0\": 145.93, \"y1\": 147.04}, {\"line\": {\"color\": \"rgb(55, 128, 191)\", \"width\": 1.5}, \"type\": \"line\", \"x0\": 46, \"x1\": 46, \"y0\": 148.96, \"y1\": 150.05}, {\"line\": {\"color\": \"rgb(55, 128, 191)\", \"width\": 1.5}, \"type\": \"line\", \"x0\": 47, \"x1\": 47, \"y0\": 153.64, \"y1\": 154.75}, {\"line\": {\"color\": \"rgb(55, 128, 191)\", \"width\": 1.5}, \"type\": \"line\", \"x0\": 48, \"x1\": 48, \"y0\": 151.65, \"y1\": 152.78}, {\"line\": {\"color\": \"rgb(55, 128, 191)\", \"width\": 1.5}, \"type\": \"line\", \"x0\": 49, \"x1\": 49, \"y0\": 153.78, \"y1\": 154.9}, {\"line\": {\"color\": \"rgb(55, 128, 191)\", \"width\": 1.5}, \"type\": \"line\", \"x0\": 50, \"x1\": 50, \"y0\": 151.97, \"y1\": 153.07}], \"showlegend\": false, \"title\": \"Random Walk\", \"xaxis\": {\"anchor\": \"y2\", \"showgrid\": true, \"showticklabels\": true, \"tickangle\": 90, \"tickmode\": \"array\", \"ticktext\": [20191104, 20191106, 20191108, 20191112, 20191114, 20191118, 20191120, 20191122, 20191126, 20191128, 20191202, 20191204, 20191206, 20191210, 20191212, 20191216, 20191218, 20191220, 20191224, 20191226, 20191230, 20200101, 20200103, 20200107, 20200109, 20200110], \"tickvals\": [1, 3, 5, 7, 9, 11, 13, 15, 17, 19, 21, 23, 25, 27, 29, 31, 33, 35, 37, 39, 41, 43, 45, 47, 49, 50]}, \"yaxis\": {\"domain\": [0.22, 1], \"range\": [122.81, 154.9]}, \"yaxis2\": {\"domain\": [0, 0.2], \"range\": [0, 2895122.0]}}, {\"showLink\": true, \"linkText\": \"Export to plot.ly\"})});</script>"
      ]
     },
     "metadata": {},
     "output_type": "display_data"
    }
   ],
   "source": [
    "fig1 = dgc.PlotlyCandles(df_pseudo.iloc[-50:],number_of_ticks_display=20,title='Random Walk')\n",
    "iplot(fig1.get_figure())\n"
   ]
  },
  {
   "cell_type": "code",
   "execution_count": 5,
   "metadata": {},
   "outputs": [
    {
     "data": {
      "text/plain": [
       "28704"
      ]
     },
     "execution_count": 5,
     "metadata": {},
     "output_type": "execute_result"
    }
   ],
   "source": [
    "import json\n",
    "import plotly\n",
    "f = json.dumps(fig1.get_figure(), cls=plotly.utils.PlotlyJSONEncoder)\n",
    "open(f'{SYSTEM_HOME}/mydata5.json','w').write(f)\n"
   ]
  },
  {
   "cell_type": "markdown",
   "metadata": {},
   "source": [
    "### Define a small Plot.ly Dash web app using classes from the module ```dgrid_components.py```"
   ]
  },
  {
   "cell_type": "code",
   "execution_count": 21,
   "metadata": {},
   "outputs": [],
   "source": [
    "no_border={\n",
    "    'border': '1px solid #000',\n",
    "    'grid-gap': '10px 10px',\n",
    "}\n",
    "df_save_list = []\n",
    "logger = dgc.init_root_logger('logfile.log','INFO')\n",
    "\n",
    "def dash_app_1(df_to_show,grid_template_columns_list):\n",
    "    # Step 01: create a table component\n",
    "    dt1_comp = dgc.DashTableComponent(\n",
    "        'dt1',df_to_show,None,title='Random Walk',\n",
    "        editable_columns=['close'],logger = logger\n",
    "    )\n",
    "    \n",
    "    # Step 02: define a callback method that get's called from the gr1_comp dgc.FigureComponent components.\n",
    "    #    The callback will extract a Pandas DataFrame in json format, \n",
    "    #    convert it to back to a DataFrame, create a Ploty Figure object, and return\n",
    "    #    the figure object to the caller (the internal callback that Dash executes when\n",
    "    #    it renders gr1_comp).\n",
    "    def create_figure_from_df(input_list):\n",
    "        if input_list is None or len(input_list)<1 or input_list[0] is None:\n",
    "            return [None]\n",
    "        dict_df = input_list[0]\n",
    "        df = dgc.make_df(dict_df)\n",
    "        df.close = df.close.astype(str).astype(float)\n",
    "        p = dgc.PlotlyCandles(df,number_of_ticks_display=20,title='Random Walk').get_figure()\n",
    "        return p\n",
    "    \n",
    "    # Step 03: Create a FigureComponent, which displays any Figure created with Plotly to be displayable \n",
    "    #           on your webpage.  Pass in the method create_figure_from_df method above, so that \n",
    "    #           this component can dynamically get data from the DashTableComponent and use it as \n",
    "    #           the input to a Plotly chart Figure that gets created \n",
    "    gr1_comp = dgc.FigureComponent('f1',dt1_comp,create_figure_from_df,logger=logger)\n",
    "\n",
    "    # Step 04: Create a basic Dash app\n",
    "    comp_list = [dt1_comp,gr1_comp]\n",
    "    app = dgc.make_app(comp_list,grid_template_columns_list=grid_template_columns_list)\n",
    "    return app\n"
   ]
  },
  {
   "cell_type": "markdown",
   "metadata": {},
   "source": [
    "## Show several ways to launch a Dash App with different appearances\n",
    "After each launch, hit the stop button to stop the cell from running ,and then run the next cell"
   ]
  },
  {
   "cell_type": "markdown",
   "metadata": {},
   "source": [
    "### Launch 01  the web app as a page with 2 rows, one for the table and the next for the graph\n",
    "##### To see the web app, open a browser to localhost:8500"
   ]
  },
  {
   "cell_type": "code",
   "execution_count": 22,
   "metadata": {
    "scrolled": true
   },
   "outputs": [
    {
     "name": "stdout",
     "output_type": "stream",
     "text": [
      " * Serving Flask app \"__main__\" (lazy loading)\n",
      " * Environment: production\n",
      "   WARNING: Do not use the development server in a production environment.\n",
      "   Use a production WSGI server instead.\n",
      " * Debug mode: off\n"
     ]
    },
    {
     "name": "stderr",
     "output_type": "stream",
     "text": [
      "2020-01-10 17:05:10,653 - werkzeug - INFO -  * Running on http://127.0.0.1:8500/ (Press CTRL+C to quit)\n",
      "2020-01-10 17:05:13,739 - werkzeug - INFO - 127.0.0.1 - - [10/Jan/2020 17:05:13] \"\u001b[37mGET / HTTP/1.1\u001b[0m\" 200 -\n",
      "2020-01-10 17:05:13,871 - werkzeug - INFO - 127.0.0.1 - - [10/Jan/2020 17:05:13] \"\u001b[37mGET /_dash-component-suites/dash_renderer/react@16.8.6.min.js?v=1.0.0&m=1574289295 HTTP/1.1\u001b[0m\" 200 -\n",
      "2020-01-10 17:05:13,874 - werkzeug - INFO - 127.0.0.1 - - [10/Jan/2020 17:05:13] \"\u001b[37mGET /_dash-component-suites/dash_renderer/prop-types@15.7.2.min.js?v=1.0.0&m=1574289295 HTTP/1.1\u001b[0m\" 200 -\n",
      "2020-01-10 17:05:13,887 - werkzeug - INFO - 127.0.0.1 - - [10/Jan/2020 17:05:13] \"\u001b[37mGET /_dash-component-suites/dash_renderer/react-dom@16.8.6.min.js?v=1.0.0&m=1574289295 HTTP/1.1\u001b[0m\" 200 -\n",
      "2020-01-10 17:05:13,892 - werkzeug - INFO - 127.0.0.1 - - [10/Jan/2020 17:05:13] \"\u001b[37mGET /_dash-component-suites/dash_core_components/highlight.pack.js?v=1.0.0&m=1574289294 HTTP/1.1\u001b[0m\" 200 -\n",
      "2020-01-10 17:05:13,888 - werkzeug - INFO - 127.0.0.1 - - [10/Jan/2020 17:05:13] \"\u001b[37mGET /_dash-component-suites/dash_html_components/dash_html_components.min.js?v=1.0.0&m=1574289295 HTTP/1.1\u001b[0m\" 200 -\n",
      "2020-01-10 17:05:13,933 - werkzeug - INFO - 127.0.0.1 - - [10/Jan/2020 17:05:13] \"\u001b[37mGET /_dash-component-suites/dash_renderer/dash_renderer.min.js?v=1.0.0&m=1574289295 HTTP/1.1\u001b[0m\" 200 -\n",
      "2020-01-10 17:05:13,942 - werkzeug - INFO - 127.0.0.1 - - [10/Jan/2020 17:05:13] \"\u001b[37mGET /_dash-component-suites/dash_table/bundle.js?v=4.0.1&m=1574289295 HTTP/1.1\u001b[0m\" 200 -\n",
      "2020-01-10 17:05:13,955 - werkzeug - INFO - 127.0.0.1 - - [10/Jan/2020 17:05:13] \"\u001b[37mGET /_dash-component-suites/dash_core_components/dash_core_components.min.js?v=1.0.0&m=1574289294 HTTP/1.1\u001b[0m\" 200 -\n",
      "2020-01-10 17:05:14,071 - werkzeug - INFO - 127.0.0.1 - - [10/Jan/2020 17:05:14] \"\u001b[37mGET /_dash-component-suites/dash_core_components/plotly-1.48.3.min.js?v=1.0.0&m=1574289294 HTTP/1.1\u001b[0m\" 200 -\n",
      "2020-01-10 17:05:14,502 - werkzeug - INFO - 127.0.0.1 - - [10/Jan/2020 17:05:14] \"\u001b[37mGET /_dash-dependencies HTTP/1.1\u001b[0m\" 200 -\n",
      "2020-01-10 17:05:14,503 - werkzeug - INFO - 127.0.0.1 - - [10/Jan/2020 17:05:14] \"\u001b[37mGET /_dash-layout HTTP/1.1\u001b[0m\" 200 -\n",
      "2020-01-10 17:05:14,584 - werkzeug - INFO - 127.0.0.1 - - [10/Jan/2020 17:05:14] \"\u001b[37mPOST /_dash-update-component HTTP/1.1\u001b[0m\" 200 -\n",
      "2020-01-10 17:05:14,789 - werkzeug - INFO - 127.0.0.1 - - [10/Jan/2020 17:05:14] \"\u001b[37mPOST /_dash-update-component HTTP/1.1\u001b[0m\" 200 -\n",
      "2020-01-10 17:05:15,550 - werkzeug - INFO - 127.0.0.1 - - [10/Jan/2020 17:05:15] \"\u001b[37mPOST /_dash-update-component HTTP/1.1\u001b[0m\" 200 -\n",
      "2020-01-10 17:05:15,564 - werkzeug - INFO - 127.0.0.1 - - [10/Jan/2020 17:05:15] \"\u001b[37mPOST /_dash-update-component HTTP/1.1\u001b[0m\" 200 -\n"
     ]
    }
   ],
   "source": [
    "days_to_show = 50\n",
    "df_to_show = df_pseudo.iloc[-days_to_show:]  \n",
    "# The grid_template_columns_list defines how the components appear on the page.  They use standard css values\n",
    "#   that you use in a css grid\n",
    "grid_template_columns_list = ['1fr','1fr']\n",
    "app = dash_app_1(df_to_show,grid_template_columns_list)\n",
    "app.run_server(host='127.0.0.1',port=8500)"
   ]
  },
  {
   "cell_type": "markdown",
   "metadata": {},
   "source": [
    "### Launch 02  the web app as a page with 1 row and 2 columns\n",
    "##### To see the web app, open a browser to localhost:8500"
   ]
  },
  {
   "cell_type": "code",
   "execution_count": 23,
   "metadata": {},
   "outputs": [
    {
     "name": "stdout",
     "output_type": "stream",
     "text": [
      " * Serving Flask app \"__main__\" (lazy loading)\n",
      " * Environment: production\n",
      "   WARNING: Do not use the development server in a production environment.\n",
      "   Use a production WSGI server instead.\n",
      " * Debug mode: off\n"
     ]
    },
    {
     "name": "stderr",
     "output_type": "stream",
     "text": [
      "2020-01-10 17:12:09,055 - werkzeug - INFO -  * Running on http://127.0.0.1:8500/ (Press CTRL+C to quit)\n",
      "2020-01-10 17:12:11,354 - werkzeug - INFO - 127.0.0.1 - - [10/Jan/2020 17:12:11] \"\u001b[37mGET / HTTP/1.1\u001b[0m\" 200 -\n",
      "2020-01-10 17:12:11,551 - werkzeug - INFO - 127.0.0.1 - - [10/Jan/2020 17:12:11] \"\u001b[37mGET /_dash-component-suites/dash_renderer/react@16.8.6.min.js?v=1.0.0&m=1574289295 HTTP/1.1\u001b[0m\" 200 -\n",
      "2020-01-10 17:12:11,551 - werkzeug - INFO - 127.0.0.1 - - [10/Jan/2020 17:12:11] \"\u001b[37mGET /_dash-component-suites/dash_renderer/prop-types@15.7.2.min.js?v=1.0.0&m=1574289295 HTTP/1.1\u001b[0m\" 200 -\n",
      "2020-01-10 17:12:11,552 - werkzeug - INFO - 127.0.0.1 - - [10/Jan/2020 17:12:11] \"\u001b[37mGET /_dash-component-suites/dash_renderer/react-dom@16.8.6.min.js?v=1.0.0&m=1574289295 HTTP/1.1\u001b[0m\" 200 -\n",
      "2020-01-10 17:12:11,569 - werkzeug - INFO - 127.0.0.1 - - [10/Jan/2020 17:12:11] \"\u001b[37mGET /_dash-component-suites/dash_html_components/dash_html_components.min.js?v=1.0.0&m=1574289295 HTTP/1.1\u001b[0m\" 200 -\n",
      "2020-01-10 17:12:11,581 - werkzeug - INFO - 127.0.0.1 - - [10/Jan/2020 17:12:11] \"\u001b[37mGET /_dash-component-suites/dash_core_components/highlight.pack.js?v=1.0.0&m=1574289294 HTTP/1.1\u001b[0m\" 200 -\n",
      "2020-01-10 17:12:11,627 - werkzeug - INFO - 127.0.0.1 - - [10/Jan/2020 17:12:11] \"\u001b[37mGET /_dash-component-suites/dash_renderer/dash_renderer.min.js?v=1.0.0&m=1574289295 HTTP/1.1\u001b[0m\" 200 -\n",
      "2020-01-10 17:12:11,632 - werkzeug - INFO - 127.0.0.1 - - [10/Jan/2020 17:12:11] \"\u001b[37mGET /_dash-component-suites/dash_table/bundle.js?v=4.0.1&m=1574289295 HTTP/1.1\u001b[0m\" 200 -\n",
      "2020-01-10 17:12:11,654 - werkzeug - INFO - 127.0.0.1 - - [10/Jan/2020 17:12:11] \"\u001b[37mGET /_dash-component-suites/dash_core_components/dash_core_components.min.js?v=1.0.0&m=1574289294 HTTP/1.1\u001b[0m\" 200 -\n",
      "2020-01-10 17:12:11,763 - werkzeug - INFO - 127.0.0.1 - - [10/Jan/2020 17:12:11] \"\u001b[37mGET /_dash-component-suites/dash_core_components/plotly-1.48.3.min.js?v=1.0.0&m=1574289294 HTTP/1.1\u001b[0m\" 200 -\n",
      "2020-01-10 17:12:12,204 - werkzeug - INFO - 127.0.0.1 - - [10/Jan/2020 17:12:12] \"\u001b[37mGET /_dash-dependencies HTTP/1.1\u001b[0m\" 200 -\n",
      "2020-01-10 17:12:12,205 - werkzeug - INFO - 127.0.0.1 - - [10/Jan/2020 17:12:12] \"\u001b[37mGET /_dash-layout HTTP/1.1\u001b[0m\" 200 -\n",
      "2020-01-10 17:12:12,287 - werkzeug - INFO - 127.0.0.1 - - [10/Jan/2020 17:12:12] \"\u001b[37mPOST /_dash-update-component HTTP/1.1\u001b[0m\" 200 -\n",
      "2020-01-10 17:12:12,492 - werkzeug - INFO - 127.0.0.1 - - [10/Jan/2020 17:12:12] \"\u001b[37mPOST /_dash-update-component HTTP/1.1\u001b[0m\" 200 -\n",
      "2020-01-10 17:12:13,200 - werkzeug - INFO - 127.0.0.1 - - [10/Jan/2020 17:12:13] \"\u001b[37mPOST /_dash-update-component HTTP/1.1\u001b[0m\" 200 -\n",
      "2020-01-10 17:12:13,213 - werkzeug - INFO - 127.0.0.1 - - [10/Jan/2020 17:12:13] \"\u001b[37mPOST /_dash-update-component HTTP/1.1\u001b[0m\" 200 -\n"
     ]
    }
   ],
   "source": [
    "# the grid_template_columns_list now has one element, that defines 2 equal size columns\n",
    "grid_template_columns_list = ['1fr 1fr']\n",
    "app = dash_app_1(df_to_show,grid_template_columns_list)\n",
    "app.run_server(host='127.0.0.1',port=8500)"
   ]
  },
  {
   "cell_type": "markdown",
   "metadata": {},
   "source": [
    "### Launch 02  the web app as a page with 1 row and 2 columns, but where the graph column is twice the size of the data column\n",
    "##### To see the web app, open a browser to localhost:8500"
   ]
  },
  {
   "cell_type": "code",
   "execution_count": 24,
   "metadata": {},
   "outputs": [
    {
     "name": "stdout",
     "output_type": "stream",
     "text": [
      " * Serving Flask app \"__main__\" (lazy loading)\n",
      " * Environment: production\n",
      "   WARNING: Do not use the development server in a production environment.\n",
      "   Use a production WSGI server instead.\n",
      " * Debug mode: off\n"
     ]
    },
    {
     "name": "stderr",
     "output_type": "stream",
     "text": [
      "2020-01-10 17:13:37,395 - werkzeug - INFO -  * Running on http://127.0.0.1:8500/ (Press CTRL+C to quit)\n",
      "2020-01-10 17:13:40,162 - werkzeug - INFO - 127.0.0.1 - - [10/Jan/2020 17:13:40] \"\u001b[37mGET / HTTP/1.1\u001b[0m\" 200 -\n",
      "2020-01-10 17:13:40,289 - werkzeug - INFO - 127.0.0.1 - - [10/Jan/2020 17:13:40] \"\u001b[37mGET /_dash-component-suites/dash_renderer/react@16.8.6.min.js?v=1.0.0&m=1574289295 HTTP/1.1\u001b[0m\" 200 -\n",
      "2020-01-10 17:13:40,291 - werkzeug - INFO - 127.0.0.1 - - [10/Jan/2020 17:13:40] \"\u001b[37mGET /_dash-component-suites/dash_renderer/prop-types@15.7.2.min.js?v=1.0.0&m=1574289295 HTTP/1.1\u001b[0m\" 200 -\n",
      "2020-01-10 17:13:40,307 - werkzeug - INFO - 127.0.0.1 - - [10/Jan/2020 17:13:40] \"\u001b[37mGET /_dash-component-suites/dash_renderer/react-dom@16.8.6.min.js?v=1.0.0&m=1574289295 HTTP/1.1\u001b[0m\" 200 -\n",
      "2020-01-10 17:13:40,317 - werkzeug - INFO - 127.0.0.1 - - [10/Jan/2020 17:13:40] \"\u001b[37mGET /_dash-component-suites/dash_html_components/dash_html_components.min.js?v=1.0.0&m=1574289295 HTTP/1.1\u001b[0m\" 200 -\n",
      "2020-01-10 17:13:40,354 - werkzeug - INFO - 127.0.0.1 - - [10/Jan/2020 17:13:40] \"\u001b[37mGET /_dash-component-suites/dash_core_components/highlight.pack.js?v=1.0.0&m=1574289294 HTTP/1.1\u001b[0m\" 200 -\n",
      "2020-01-10 17:13:40,382 - werkzeug - INFO - 127.0.0.1 - - [10/Jan/2020 17:13:40] \"\u001b[37mGET /_dash-component-suites/dash_table/bundle.js?v=4.0.1&m=1574289295 HTTP/1.1\u001b[0m\" 200 -\n",
      "2020-01-10 17:13:40,402 - werkzeug - INFO - 127.0.0.1 - - [10/Jan/2020 17:13:40] \"\u001b[37mGET /_dash-component-suites/dash_renderer/dash_renderer.min.js?v=1.0.0&m=1574289295 HTTP/1.1\u001b[0m\" 200 -\n",
      "2020-01-10 17:13:40,440 - werkzeug - INFO - 127.0.0.1 - - [10/Jan/2020 17:13:40] \"\u001b[37mGET /_dash-component-suites/dash_core_components/dash_core_components.min.js?v=1.0.0&m=1574289294 HTTP/1.1\u001b[0m\" 200 -\n",
      "2020-01-10 17:13:40,537 - werkzeug - INFO - 127.0.0.1 - - [10/Jan/2020 17:13:40] \"\u001b[37mGET /_dash-component-suites/dash_core_components/plotly-1.48.3.min.js?v=1.0.0&m=1574289294 HTTP/1.1\u001b[0m\" 200 -\n",
      "2020-01-10 17:13:41,001 - werkzeug - INFO - 127.0.0.1 - - [10/Jan/2020 17:13:41] \"\u001b[37mGET /_dash-dependencies HTTP/1.1\u001b[0m\" 200 -\n",
      "2020-01-10 17:13:41,005 - werkzeug - INFO - 127.0.0.1 - - [10/Jan/2020 17:13:41] \"\u001b[37mGET /_dash-layout HTTP/1.1\u001b[0m\" 200 -\n",
      "2020-01-10 17:13:41,200 - werkzeug - INFO - 127.0.0.1 - - [10/Jan/2020 17:13:41] \"\u001b[37mPOST /_dash-update-component HTTP/1.1\u001b[0m\" 200 -\n",
      "2020-01-10 17:13:41,364 - werkzeug - INFO - 127.0.0.1 - - [10/Jan/2020 17:13:41] \"\u001b[37mPOST /_dash-update-component HTTP/1.1\u001b[0m\" 200 -\n",
      "2020-01-10 17:13:41,953 - werkzeug - INFO - 127.0.0.1 - - [10/Jan/2020 17:13:41] \"\u001b[37mPOST /_dash-update-component HTTP/1.1\u001b[0m\" 200 -\n",
      "2020-01-10 17:13:42,002 - werkzeug - INFO - 127.0.0.1 - - [10/Jan/2020 17:13:42] \"\u001b[37mPOST /_dash-update-component HTTP/1.1\u001b[0m\" 200 -\n"
     ]
    }
   ],
   "source": [
    "# the grid_template_columns_list now has one element, that defines 2 columns, \n",
    "#    where the second is twice as big as the first\n",
    "grid_template_columns_list = ['1fr 2fr']\n",
    "app = dash_app_1(df_to_show,grid_template_columns_list)\n",
    "app.run_server(host='127.0.0.1',port=8500)"
   ]
  },
  {
   "cell_type": "code",
   "execution_count": null,
   "metadata": {},
   "outputs": [],
   "source": []
  }
 ],
 "metadata": {
  "kernelspec": {
   "display_name": "Python 3",
   "language": "python",
   "name": "python3"
  },
  "language_info": {
   "codemirror_mode": {
    "name": "ipython",
    "version": 3
   },
   "file_extension": ".py",
   "mimetype": "text/x-python",
   "name": "python",
   "nbconvert_exporter": "python",
   "pygments_lexer": "ipython3",
   "version": "3.6.5"
  }
 },
 "nbformat": 4,
 "nbformat_minor": 2
}
