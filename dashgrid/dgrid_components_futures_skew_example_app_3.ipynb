{
 "cells": [
  {
   "cell_type": "markdown",
   "metadata": {},
   "source": [
    "# Example of ```VariableRowDiv```\n",
    "Build a volatility skew application that shows multiple graphs using the class ```VariableRowDiv```\n",
    "\n",
    "### Usage:\n",
    "1. Run all of the cells below.  \n",
    "2. On the final cell, the url ```http://127.0.0.1:8500``` will appear. \n",
    "3. Click on it and another web page will launch that displays the output of the app."
   ]
  },
  {
   "cell_type": "code",
   "execution_count": null,
   "metadata": {},
   "outputs": [],
   "source": [
    "import sys,os\n",
    "if  not os.path.abspath('./') in sys.path:\n",
    "    sys.path.append(os.path.abspath('./'))\n",
    "if  not os.path.abspath('../') in sys.path:\n",
    "    sys.path.append(os.path.abspath('../'))\n",
    "\n",
    "import pandas as pd\n",
    "import numpy as np\n",
    "import traceback\n",
    "\n",
    "from dashgrid import dash_df_components as ddfc\n"
   ]
  },
  {
   "cell_type": "markdown",
   "metadata": {},
   "source": [
    "### Create a logger that can be used within all components"
   ]
  },
  {
   "cell_type": "code",
   "execution_count": null,
   "metadata": {},
   "outputs": [],
   "source": [
    "logger = ddfc.dgc.init_root_logger()"
   ]
  },
  {
   "cell_type": "markdown",
   "metadata": {},
   "source": [
    "### Generate some example data for the application from 3 csv files"
   ]
  },
  {
   "cell_type": "code",
   "execution_count": null,
   "metadata": {},
   "outputs": [],
   "source": [
    "# location of 3 main csv files\n",
    "PATH_DATA_HOME = './' \n",
    "FILENAME_SKEW = 'df_iv_skew_COMMOD.csv'\n",
    "FILENAME_IV = 'df_iv_final_COMMOD.csv'\n",
    "FILENAME_FUT = 'df_cash_futures_COMMOD.csv'\n",
    "\n",
    "df_iv_skew = None\n",
    "df_iv_final = None\n",
    "df_cash_futures = None\n",
    "for commod in ['CL','CB','ES','NG']:\n",
    "    fn_skew = FILENAME_SKEW.replace('COMMOD',commod)\n",
    "    df_skew = pd.read_csv(f'{PATH_DATA_HOME}/{fn_skew}')\n",
    "    fn_iv = FILENAME_IV.replace('COMMOD',commod)\n",
    "    df_iv = pd.read_csv(f'{PATH_DATA_HOME}/{fn_iv}')\n",
    "    fn_fut = FILENAME_FUT.replace('COMMOD',commod)\n",
    "    df_fut = pd.read_csv(f'{PATH_DATA_HOME}/{fn_fut}')\n",
    "    df_skew['commod'] = commod\n",
    "    df_iv['commod'] = commod\n",
    "    df_fut['commod'] = commod\n",
    "    if df_iv_skew is None:\n",
    "        df_iv_skew = df_skew.copy()\n",
    "        df_iv_final = df_iv.copy()\n",
    "        df_cash_futures = df_fut.copy()\n",
    "    else:\n",
    "        df_iv_skew = df_iv_skew.append(df_skew.copy())\n",
    "        df_iv_final = df_iv_final.append(df_iv.copy())\n",
    "        df_cash_futures = df_cash_futures.append(df_fut.copy())\n",
    "\n",
    "df_iv_skew = df_iv_skew.rename(columns={c:float(c) for c in df_iv_skew.columns.values if '0.' in c})\n"
   ]
  },
  {
   "cell_type": "markdown",
   "metadata": {},
   "source": [
    "### Method to select main dataframes symbol (like CL, CB or ES) and by year"
   ]
  },
  {
   "cell_type": "code",
   "execution_count": null,
   "metadata": {},
   "outputs": [],
   "source": [
    "def slice_dataframes(SYMBOL_TO_RESEARCH,df_iv_final_in,\n",
    "                        df_iv_skew_in,df_cash_futures_in,\n",
    "                        dist_from_zero=.1,year=None):\n",
    "    # Step 00: select only SYMBOL_TO_RESEARCH, and for a specific year,  from DataFrames \n",
    "    df_iv_final = df_iv_final_in[df_iv_final_in.symbol.str.slice(0,2)==SYMBOL_TO_RESEARCH].copy()\n",
    "    df_iv_skew = df_iv_skew_in[df_iv_skew_in.symbol.str.slice(0,2)==SYMBOL_TO_RESEARCH].copy()\n",
    "    df_cash_futures = df_cash_futures_in[df_cash_futures_in.symbol.str.slice(0,2)==SYMBOL_TO_RESEARCH].copy()\n",
    "\n",
    "    #  Now slice on specific year\n",
    "    year = 'all' if year is None else year\n",
    "    if str(year).lower() != 'all':\n",
    "        y = int(str(year))\n",
    "        beg_year = y*100*100+1*100+1\n",
    "        end_year = y*100*100+12*100+31\n",
    "        df_iv_final = df_iv_final[(df_iv_final.settle_date>=beg_year) & (df_iv_final.settle_date<=end_year)]\n",
    "        df_iv_skew = df_iv_skew[(df_iv_skew.settle_date>=beg_year) & (df_iv_skew.settle_date<=end_year)]\n",
    "        df_cash_futures = df_cash_futures[(df_cash_futures.settle_date>=beg_year) & (df_cash_futures.settle_date<=end_year)]\n",
    "\n",
    "    # Step 01: create atm implied vol table, that also has the cash price for each settle_date\n",
    "    df_atmv = df_iv_final[['settle_date','atm_iv']].drop_duplicates()\n",
    "    df_cf = df_cash_futures[df_cash_futures.symbol==f'{SYMBOL_TO_RESEARCH}Z99']\n",
    "    df_atmv = df_atmv.merge(df_cf[['settle_date','close']],how='inner',on='settle_date')\n",
    "        \n",
    "    # Step 02: create df_skew_2, which holds skew difference between \n",
    "    #   positive dist_from_zero and negative dist_from_zero, for each settle_date\n",
    "    df_skew_2 = df_iv_skew.copy()\n",
    "    df_skew_2.index.name = None\n",
    "    skew_range_col = f'iv_skew'\n",
    "    df_skew_2[skew_range_col] = df_skew_2[dist_from_zero] - df_skew_2[-dist_from_zero]\n",
    "    df_skew_2.settle_date = df_skew_2.settle_date.astype(int)\n",
    "    df_skew_2 = df_skew_2[['settle_date',skew_range_col]]\n",
    "    \n",
    "    return df_skew_2,df_atmv\n"
   ]
  },
  {
   "cell_type": "markdown",
   "metadata": {},
   "source": [
    "### Method that shows skew vs atm vol by day"
   ]
  },
  {
   "cell_type": "code",
   "execution_count": null,
   "metadata": {},
   "outputs": [],
   "source": [
    "def skew_vs_atm(SYMBOL_TO_RESEARCH,df_iv_final_in,df_iv_skew_in,df_cash_futures_in,\n",
    "                     dist_from_zero=.1,year=None):\n",
    "\n",
    "    df_skew_2,df_atmv = slice_dataframes(\n",
    "        SYMBOL_TO_RESEARCH,df_iv_final_in,df_iv_skew_in,df_cash_futures_in,\n",
    "        dist_from_zero=dist_from_zero,year=year)\n",
    "    \n",
    "    # Step 03: create atm vs close \n",
    "    chart_title_0 = f'{SYMBOL_TO_RESEARCH} atm vol vs close'\n",
    "    df_atm_vs_close = df_atmv[['settle_date','atm_iv','close']]\n",
    "    \n",
    "    # Step 04: merge skew and atm vol/close tables\n",
    "    df_ivs = df_skew_2.merge(df_atmv,how='inner',on='settle_date')\n",
    "    df_ivs = df_ivs.sort_values('settle_date')\n",
    "    \n",
    "    # Step 05: plot skew vs atm_iv\n",
    "    chart_title_1 = f'{SYMBOL_TO_RESEARCH} skew {dist_from_zero*100}% up and down vs atm vol'\n",
    "    df_ivs_skew_vs_atm_iv = df_ivs[['settle_date',f'iv_skew','atm_iv']]\n",
    "    \n",
    "    # Step 06: plot skew vs close\n",
    "    chart_title_2 = f'{SYMBOL_TO_RESEARCH} skew {dist_from_zero*100}% up and down vs close'\n",
    "    df_ivs_skew_vs_close = df_ivs[['settle_date',f'iv_skew','close']]\n",
    "\n",
    "    d1 = {'initial_data':df_ivs_skew_vs_atm_iv,'title':chart_title_1,'use_yaxis2':True}\n",
    "    d2 = {'initial_data':df_ivs_skew_vs_close,'title':chart_title_2,'use_yaxis2':True}\n",
    "    return d1,d2\n"
   ]
  },
  {
   "cell_type": "markdown",
   "metadata": {},
   "source": [
    "### Method that shows atm vol vs close by day"
   ]
  },
  {
   "cell_type": "code",
   "execution_count": null,
   "metadata": {},
   "outputs": [],
   "source": [
    "def atm_vs_close(SYMBOL_TO_RESEARCH,df_iv_final_in,df_iv_skew_in,df_cash_futures_in,year=None):\n",
    "    _,df_atmv = slice_dataframes(\n",
    "        SYMBOL_TO_RESEARCH,df_iv_final_in,df_iv_skew_in,df_cash_futures_in,year=year)\n",
    "    \n",
    "    # Step 02: plot atm_iv vs close\n",
    "    chart_title = f'{SYMBOL_TO_RESEARCH} atm vol vs close'\n",
    "    df_atm_vs_close = df_atmv[['settle_date','atm_iv','close']]\n",
    "    \n",
    "    return {'initial_data':df_atm_vs_close,'title':chart_title,'use_yaxis2':True}\n"
   ]
  },
  {
   "cell_type": "markdown",
   "metadata": {},
   "source": [
    "### Build callback that returns plotly graph Figures"
   ]
  },
  {
   "cell_type": "code",
   "execution_count": null,
   "metadata": {},
   "outputs": [],
   "source": [
    "# define a storage components\n",
    "#  build a store here\n",
    "SKEW_RANGE_LIST = [.05,.1,.2]\n",
    "def create_figs_closure(df_iv_final_in, df_iv_skew_in,df_cash_futures_in):\n",
    "    def _create_figs(input_dict):\n",
    "#         print(f'_create_figs {input_dict}')\n",
    "        none_return = None\n",
    "        if input_dict is None or len(input_dict.keys())<2:\n",
    "            return none_return\n",
    "        sym_to_plot = input_dict['mdd2_0']\n",
    "        if sym_to_plot is None:\n",
    "            return none_return\n",
    "        \n",
    "        year_to_plot = input_dict['mdd2_1']\n",
    "        year_to_plot = 'all' if year_to_plot is None else year_to_plot\n",
    "        all_figs = []\n",
    "        fig = atm_vs_close(sym_to_plot,df_iv_final_in,df_iv_skew_in,df_cash_futures_in,\n",
    "                                year=year_to_plot)        \n",
    "        all_figs.append([fig])\n",
    "        for d in SKEW_RANGE_LIST:\n",
    "            fig_skew_vs_atm,fig_skew_vs_price = skew_vs_atm(\n",
    "                sym_to_plot,df_iv_final_in,df_iv_skew_in,\n",
    "                df_cash_futures_in,dist_from_zero=d,year=year_to_plot)\n",
    "            all_figs.append([fig_skew_vs_atm])\n",
    "            all_figs.append([fig_skew_vs_price])\n",
    "        return all_figs\n",
    "    return _create_figs\n"
   ]
  },
  {
   "cell_type": "markdown",
   "metadata": {},
   "source": [
    "### Create title div"
   ]
  },
  {
   "cell_type": "code",
   "execution_count": null,
   "metadata": {},
   "outputs": [],
   "source": [
    "tm_text1 = '''\n",
    "# Commodity Option Skew Analysis\n",
    "## Select a Commodity, Year and Monthcode below to display charts showing:\n",
    "'''\n",
    "tm1 = ddfc.MarkdownLine(tm_text1,text_size=1)\n",
    "tm_text2 = '''\n",
    "* atm vol vs price\n",
    "* skew vs price\n",
    "* skew vs atm vol\n",
    "'''\n",
    "tm2 = ddfc.MarkdownLine(tm_text2,text_align='center')\n",
    "title_comp = ddfc.MarkdownDiv('mdiv1',[tm1,tm2])\n"
   ]
  },
  {
   "cell_type": "markdown",
   "metadata": {},
   "source": [
    "### Create multiple dropdown div"
   ]
  },
  {
   "cell_type": "code",
   "execution_count": null,
   "metadata": {},
   "outputs": [],
   "source": [
    "dfcf = df_iv_final[df_iv_final.commod != 'NG'][['settle_date','commod']]\n",
    "dfcf['year'] = dfcf.settle_date.apply(lambda v: int(str(v)[0:4]))\n",
    "dfcf = dfcf[['commod','year']]\n",
    "df_all_years = pd.DataFrame({'commod':dfcf.commod.unique(),'year':'all'})\n",
    "dfcf = df_all_years.append(dfcf,ignore_index=True)\n",
    "mdd2 = ddfc.dgc.MultiDropdownDiv('mdd2',dfcf.copy(),['commod','year']) \n",
    "                                                 "
   ]
  },
  {
   "cell_type": "markdown",
   "metadata": {},
   "source": [
    "### Create div using with multiple graphs using the VariableRowDiv class \n",
    "* In this example, 1 per row following title and dropdowns\n",
    "* VariableRowDiv allows you to create a variable number of repeating rows, where you input:\n",
    " 1. a list of component types that appear on each row\n",
    " 2. a css grid spec for the row, that defines the percentage that each component takes on the row"
   ]
  },
  {
   "cell_type": "code",
   "execution_count": null,
   "metadata": {},
   "outputs": [],
   "source": [
    "import importlib\n",
    "importlib.reload(ddfc)\n",
    "row_component_types = [ddfc.XYGraphSimple]  # a list of  component classs to use on each row\n",
    "v = ddfc.VariableRowDiv('my_app',\n",
    "            mdd2.dropdown_list,\n",
    "            create_figs_closure(df_iv_final, df_iv_skew,df_cash_futures),\n",
    "            row_component_types,\n",
    "            '1fr',  # this is the css that defines how the components will look on each row\n",
    "            logger=logger)\n"
   ]
  },
  {
   "cell_type": "markdown",
   "metadata": {},
   "source": [
    "### Assemble the Dash app, using the title, the dropdown and the components from VariableRowDiv, and run the app\n",
    "* ```VariableRowDiv.final_components``` contains all of the components you need to pass to ```make_app```\n",
    "* ```VariableRowDiv.final_layout``` contains the css grid layout of the components you need to pass to ```make_app```"
   ]
  },
  {
   "cell_type": "code",
   "execution_count": null,
   "metadata": {
    "scrolled": false
   },
   "outputs": [],
   "source": [
    "ac = [title_comp,mdd2] + v.final_components\n",
    "gc = ['1fr','1fr'] + v.final_layout \n",
    "app = ddfc.dgc.make_app(ac,grid_template_columns_list=gc)    \n",
    "app.run_server(host='127.0.0.1',port=8500)    \n"
   ]
  }
 ],
 "metadata": {
  "kernelspec": {
   "display_name": "Python 3",
   "language": "python",
   "name": "python3"
  },
  "language_info": {
   "codemirror_mode": {
    "name": "ipython",
    "version": 3
   },
   "file_extension": ".py",
   "mimetype": "text/x-python",
   "name": "python",
   "nbconvert_exporter": "python",
   "pygments_lexer": "ipython3",
   "version": "3.6.5"
  }
 },
 "nbformat": 4,
 "nbformat_minor": 2
}
