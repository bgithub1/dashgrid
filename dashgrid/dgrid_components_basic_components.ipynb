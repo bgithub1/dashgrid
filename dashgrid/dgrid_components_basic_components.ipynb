{
 "cells": [
  {
   "cell_type": "markdown",
   "metadata": {},
   "source": [
    "## A toy example of using the dgrid_components.py module in risktables, for both plots inside a jupyter notebook, and to run a web app from a jupyter notebook"
   ]
  },
  {
   "cell_type": "code",
   "execution_count": 16,
   "metadata": {},
   "outputs": [
    {
     "data": {
      "text/html": [
       "<script>requirejs.config({paths: { 'plotly': ['https://cdn.plot.ly/plotly-latest.min']},});if(!window.Plotly) {{require(['plotly'],function(plotly) {window.Plotly=plotly;});}}</script>"
      ],
      "text/vnd.plotly.v1+html": [
       "<script>requirejs.config({paths: { 'plotly': ['https://cdn.plot.ly/plotly-latest.min']},});if(!window.Plotly) {{require(['plotly'],function(plotly) {window.Plotly=plotly;});}}</script>"
      ]
     },
     "metadata": {},
     "output_type": "display_data"
    }
   ],
   "source": [
    "from IPython.display import display\n",
    "import dash\n",
    "import sys,os\n",
    "if  not os.path.abspath('./') in sys.path:\n",
    "    sys.path.append(os.path.abspath('./'))\n",
    "if  not os.path.abspath('../') in sys.path:\n",
    "    sys.path.append(os.path.abspath('../'))\n",
    "\n",
    "import datetime\n",
    "import pandas as pd\n",
    "import numpy as np\n",
    "import importlib\n",
    "\n",
    "from dashgrid import dgrid_components as dgc\n",
    "import dash_html_components as html\n",
    "\n",
    "import matplotlib.pyplot as plt\n",
    "import plotly.graph_objs as go\n",
    "from plotly.offline import  init_notebook_mode, iplot\n",
    "init_notebook_mode(connected=True)\n",
    "import pathlib\n",
    "SYSTEM_HOME = pathlib.Path.home()"
   ]
  },
  {
   "cell_type": "markdown",
   "metadata": {},
   "source": [
    "### Define a logger that all components can use"
   ]
  },
  {
   "cell_type": "code",
   "execution_count": 5,
   "metadata": {},
   "outputs": [],
   "source": [
    "logger = dgc.init_root_logger('logfile.log','INFO')"
   ]
  },
  {
   "cell_type": "markdown",
   "metadata": {},
   "source": [
    "### Define several Dash Table examples"
   ]
  },
  {
   "cell_type": "code",
   "execution_count": 12,
   "metadata": {},
   "outputs": [
    {
     "data": {
      "text/plain": [
       "<module 'dashgrid.dgrid_components' from '/Users/bperlman1/Documents/billybyte/pyliverisk/dashgrid/dashgrid/dgrid_components.py'>"
      ]
     },
     "execution_count": 12,
     "metadata": {},
     "output_type": "execute_result"
    }
   ],
   "source": [
    "import importlib\n",
    "importlib.reload(dgc)"
   ]
  },
  {
   "cell_type": "code",
   "execution_count": 13,
   "metadata": {},
   "outputs": [],
   "source": [
    "??dgc.DashTableComponent"
   ]
  },
  {
   "cell_type": "markdown",
   "metadata": {},
   "source": [
    "### DashDataFrameApp"
   ]
  },
  {
   "cell_type": "markdown",
   "metadata": {},
   "source": [
    "### Row 1: title div\n",
    "1. Create a Dash Markdown component, because it is easier to complicated text using Markdown\n",
    "2. Define a css style\n",
    "3. Create a Dash html div that holds the markdown, using that style"
   ]
  },
  {
   "cell_type": "code",
   "execution_count": 37,
   "metadata": {},
   "outputs": [],
   "source": [
    "# This Markdown component allows you to use markdown in html divs\n",
    "# create row 1\n",
    "\n",
    "def make_title(title_markdown,style=None):\n",
    "    tm_text = title_markdown\n",
    "    if tm_text is None:\n",
    "        tm_text = '''\n",
    "                    # Dash DataFrame App\n",
    "                    This app displays Pandas DataFrames, Plotly Graphs and other html components \n",
    "                    like file inputs, dropdown lists, and text input fields, and general divs.\n",
    "\n",
    "                    '''\n",
    "    input_style = 'white' if style is None else style\n",
    "    top_markdown = dgc.dcc.Markdown(tm_text\n",
    "                        ,style={'color':input_style})\n",
    "    # you need to define some css styles as well\n",
    "    STYLE_TITLE={\n",
    "        'line-height': '20px',\n",
    "        'textAlign': 'center',\n",
    "        'background-color':'#47bacc',\n",
    "        'color':'#FFFFF9',\n",
    "        'vertical-align':'middle',\n",
    "    } \n",
    "\n",
    "    top_div = html.Div([top_markdown],style=STYLE_TITLE,id='top_div')\n",
    "    return top_div\n",
    "\n",
    "def make_upload(component_id,df_init=None,style=None,logger=None,title=None):\n",
    "    cid = 'upload_component' if component_id is None else component_id\n",
    "    df = df_init\n",
    "    if df is None:\n",
    "        df = pd.DataFrame()\n",
    "    s = style\n",
    "    if s is None:\n",
    "        yellow_style=dgc.blue_button_style.copy()\n",
    "        yellow_style['background-color'] = '#f2d472'\n",
    "        s = yellow_style\n",
    "    t = title\n",
    "    if t is None:\n",
    "        t = \"CLICK TO UPLOAD A LOCAL CSV\"\n",
    "    df_init = pd.read_csv(DEFAULT_PORTFOLIO_NAME)    \n",
    "    upload_component = dgc.UploadComponent(cid,\n",
    "                t,\n",
    "                initial_data=df.to_dict('rows'),\n",
    "                style=s,\n",
    "                logger=logger)\n",
    "    upload_div = dgc.UploadFileNameDiv('upload_div',upload_component,style=s)\n",
    "    return upload_dic\n",
    "\n",
    "def make_chained_dropdown(component_id,\n",
    "        initial_dropdown_labels=None,\n",
    "        initial_dropdown_values=None,\n",
    "        dropdown_input_components=None,\n",
    "        choices_transformer_method=None,\n",
    "        placeholder=None):\n",
    "    #\n",
    "    cid = 'chained_dd_prods' if component_id is None else component_id\n",
    "                \n",
    "    init_lab = initial_dropdown_labels\n",
    "    init_val = initial_dropdown_values\n",
    "    if init_lab is not None and init_val is None:\n",
    "        init_val = init_lab.copy()    \n",
    "        \n",
    "    chained_comp = dgc.ChainedDropDownDiv('chained_dd_years',\n",
    "            initial_dropdown_labels=init_lab,\n",
    "            initial_dropdown_values = init_val,\n",
    "            dropdown_input_components=dropdown_input_components,\n",
    "            choices_transformer_method=choices_transformer_method,\n",
    "            placeholder=placeholder)\n",
    "    return chained_comp\n",
    "\n",
    "def make_chained_dropdown_simple(component_id,\n",
    "        initial_dropdown_labels,\n",
    "        initial_dropdown_values\n",
    "    ):\n",
    "    return make_chained_dropdown(initial_dropdown_labels=initial_dropdown_labels,\n",
    "            initial_dropdown_values=initial_dropdown_values)\n",
    "\n",
    "def make_cd_from_cd(component_id,chained_dropdown_simple_input,\n",
    "            choices_transformer_method):\n",
    "    return make_chained_dropdown(component_id,\n",
    "        dropdown_input_components=[chained_dropdown_simple_input],\n",
    "        choices_transformer_method=choices_transformer_method)\n",
    "\n",
    "def inputs_are_ok(input_list):\n",
    "    is_none = input_list is None\n",
    "    is_len_zero = len(input_list)<1\n",
    "    is_all_none = len([input_list[i] for i in range(len(input_list)) if input_list[i] is not None])\n",
    "    all_conditions = all([is_none,is_len_zero,is_all_none])\n",
    "    return all_conditions\n",
    "    \n",
    "    \n",
    "def storage_default_transform(input_list,name_list=None):\n",
    "    all_conditions = inputs_are_ok(input_list)\n",
    "    if all_conditions:\n",
    "        return {}\n",
    "    ret = {}\n",
    "    nl = [f'v{i}' for i in range(len(input_list))] if name_list is None else name_list\n",
    "    for i in range(len(input_list)):\n",
    "        v = input_list[i]\n",
    "        if v is not None:\n",
    "            ret[nl[i]] = v\n",
    "    return ret\n",
    "\n",
    "def table_storage(jsonified_df_list,name_list=None):\n",
    "    all_conditions = inputs_are_ok(input_list)\n",
    "    if all_conditions:\n",
    "        return {}\n",
    "    name_list = [f'df_{i}' for i in range(len(jsonified_df_list))]\n",
    "    return storage_default_transform(jsonified_df_list,name_list=name_list)\n",
    "\n",
    "\n",
    "def make_storage(input_components,input_component_transform=None,logger=None):\n",
    "    ict = storage_default_transform if input_component_transform is None else input_component_transform\n",
    "    store_all_risk_dfs_comp = dgc.StoreComponent('store_all_risk_dfs', input_components, \n",
    "            create_data_dictionary_from_df_transformer=ict, logger=logger)\n",
    "\n",
    "\n",
    "def make_table(table_storage_component,title,dataframe_merge_callback,logger=None):\n",
    "    ict = storage_transform_from_dataframes if input_component_transform is None else input_component_transform\n",
    "    dt_risk_comp = dgc.DashTableComponent('risk_all',pd.DataFrame(),storage_component,\n",
    "                    title=title,\n",
    "                    transform_input=dataframe_merge_callback,\n",
    "                    logger=logger)\n",
    "    "
   ]
  },
  {
   "cell_type": "code",
   "execution_count": null,
   "metadata": {},
   "outputs": [],
   "source": [
    "        "
   ]
  },
  {
   "cell_type": "code",
   "execution_count": 30,
   "metadata": {},
   "outputs": [],
   "source": [
    "??dgc.DashTableComponent"
   ]
  },
  {
   "cell_type": "code",
   "execution_count": 31,
   "metadata": {},
   "outputs": [
    {
     "name": "stderr",
     "output_type": "stream",
     "text": [
      "2020-01-20 17:11:34,372 - root - DEBUG - dash_table_simple entering create_dt_div\n",
      "2020-01-20 17:11:34,381 - root - DEBUG - dash_table_simple exiting create_dt_div\n",
      "2020-01-20 17:11:34,384 - root - DEBUG - dash_table_responds_to_responding entering create_dt_div\n",
      "2020-01-20 17:11:34,386 - root - DEBUG - dash_table_responds_to_responding exiting create_dt_div\n"
     ]
    }
   ],
   "source": [
    "x = np.arange(0,10,.1)\n",
    "y = .1 * x + np.random.normal(size=len(x))\n",
    "df_to_show = pd.DataFrame({'x':x,'y':y})\n",
    "\n",
    "t1 = make_table()\n"
   ]
  },
  {
   "cell_type": "code",
   "execution_count": null,
   "metadata": {},
   "outputs": [],
   "source": [
    "app_component_list = [top_div,u1_comp,h1_comp, store_all_risk_dfs_comp, dt1_comp,gr1_comp,dt_risk_comp,dt_corr_comp] \n",
    "# gtcl = ['1fr','49.7% 49.7%','100%',['50% 50%','25% 25% 25% 25%','50% 50%','50% 50%','50% 50%','100%','1fr','100%','50% 50%']]\n",
    "gtcl = ['1fr','49.7% 49.7%','100%','50% 50%','50% 50%']\n",
    "app_to_use = dgc.dash.Dash()\n",
    "app = dgc.make_app(app_component_list,grid_template_columns_list=gtcl,app=app_to_use)    \n"
   ]
  },
  {
   "cell_type": "markdown",
   "metadata": {},
   "source": [
    "### Define a small Plot.ly Dash web app using classes from the module ```dgrid_components.py```"
   ]
  },
  {
   "cell_type": "code",
   "execution_count": 21,
   "metadata": {},
   "outputs": [],
   "source": [
    "no_border={\n",
    "    'border': '1px solid #000',\n",
    "    'grid-gap': '10px 10px',\n",
    "}\n",
    "df_save_list = []\n",
    "\n",
    "def dash_app_1(df_to_show,grid_template_columns_list):\n",
    "    # Step 01: create a table component\n",
    "    dt1_comp = dgc.DashTableComponent(\n",
    "        'dt1',df_to_show,None,title='Random Walk',\n",
    "        editable_columns=['close'],logger = logger\n",
    "    )\n",
    "    \n",
    "    # Step 02: define a callback method that get's called from the gr1_comp dgc.FigureComponent components.\n",
    "    #    The callback will extract a Pandas DataFrame in json format, \n",
    "    #    convert it to back to a DataFrame, create a Ploty Figure object, and return\n",
    "    #    the figure object to the caller (the internal callback that Dash executes when\n",
    "    #    it renders gr1_comp).\n",
    "    def create_figure_from_df(input_list):\n",
    "        if input_list is None or len(input_list)<1 or input_list[0] is None:\n",
    "            return [None]\n",
    "        dict_df = input_list[0]\n",
    "        df = dgc.make_df(dict_df)\n",
    "        df.close = df.close.astype(str).astype(float)\n",
    "        p = dgc.PlotlyCandles(df,number_of_ticks_display=20,title='Random Walk').get_figure()\n",
    "        return p\n",
    "    \n",
    "    # Step 03: Create a FigureComponent, which displays any Figure created with Plotly to be displayable \n",
    "    #           on your webpage.  Pass in the method create_figure_from_df method above, so that \n",
    "    #           this component can dynamically get data from the DashTableComponent and use it as \n",
    "    #           the input to a Plotly chart Figure that gets created \n",
    "    gr1_comp = dgc.FigureComponent('f1',dt1_comp,create_figure_from_df,logger=logger)\n",
    "\n",
    "    # Step 04: Create a basic Dash app\n",
    "    comp_list = [dt1_comp,gr1_comp]\n",
    "    app = dgc.make_app(comp_list,grid_template_columns_list=grid_template_columns_list)\n",
    "    return app\n"
   ]
  },
  {
   "cell_type": "markdown",
   "metadata": {},
   "source": [
    "## Show several ways to launch a Dash App with different appearances\n",
    "After each launch, hit the stop button to stop the cell from running ,and then run the next cell"
   ]
  },
  {
   "cell_type": "markdown",
   "metadata": {},
   "source": [
    "### Launch 01  the web app as a page with 2 rows, one for the table and the next for the graph\n",
    "##### To see the web app, open a browser to localhost:8500"
   ]
  },
  {
   "cell_type": "code",
   "execution_count": 22,
   "metadata": {
    "scrolled": true
   },
   "outputs": [
    {
     "name": "stdout",
     "output_type": "stream",
     "text": [
      " * Serving Flask app \"__main__\" (lazy loading)\n",
      " * Environment: production\n",
      "   WARNING: Do not use the development server in a production environment.\n",
      "   Use a production WSGI server instead.\n",
      " * Debug mode: off\n"
     ]
    },
    {
     "name": "stderr",
     "output_type": "stream",
     "text": [
      "2020-01-10 17:05:10,653 - werkzeug - INFO -  * Running on http://127.0.0.1:8500/ (Press CTRL+C to quit)\n",
      "2020-01-10 17:05:13,739 - werkzeug - INFO - 127.0.0.1 - - [10/Jan/2020 17:05:13] \"\u001b[37mGET / HTTP/1.1\u001b[0m\" 200 -\n",
      "2020-01-10 17:05:13,871 - werkzeug - INFO - 127.0.0.1 - - [10/Jan/2020 17:05:13] \"\u001b[37mGET /_dash-component-suites/dash_renderer/react@16.8.6.min.js?v=1.0.0&m=1574289295 HTTP/1.1\u001b[0m\" 200 -\n",
      "2020-01-10 17:05:13,874 - werkzeug - INFO - 127.0.0.1 - - [10/Jan/2020 17:05:13] \"\u001b[37mGET /_dash-component-suites/dash_renderer/prop-types@15.7.2.min.js?v=1.0.0&m=1574289295 HTTP/1.1\u001b[0m\" 200 -\n",
      "2020-01-10 17:05:13,887 - werkzeug - INFO - 127.0.0.1 - - [10/Jan/2020 17:05:13] \"\u001b[37mGET /_dash-component-suites/dash_renderer/react-dom@16.8.6.min.js?v=1.0.0&m=1574289295 HTTP/1.1\u001b[0m\" 200 -\n",
      "2020-01-10 17:05:13,892 - werkzeug - INFO - 127.0.0.1 - - [10/Jan/2020 17:05:13] \"\u001b[37mGET /_dash-component-suites/dash_core_components/highlight.pack.js?v=1.0.0&m=1574289294 HTTP/1.1\u001b[0m\" 200 -\n",
      "2020-01-10 17:05:13,888 - werkzeug - INFO - 127.0.0.1 - - [10/Jan/2020 17:05:13] \"\u001b[37mGET /_dash-component-suites/dash_html_components/dash_html_components.min.js?v=1.0.0&m=1574289295 HTTP/1.1\u001b[0m\" 200 -\n",
      "2020-01-10 17:05:13,933 - werkzeug - INFO - 127.0.0.1 - - [10/Jan/2020 17:05:13] \"\u001b[37mGET /_dash-component-suites/dash_renderer/dash_renderer.min.js?v=1.0.0&m=1574289295 HTTP/1.1\u001b[0m\" 200 -\n",
      "2020-01-10 17:05:13,942 - werkzeug - INFO - 127.0.0.1 - - [10/Jan/2020 17:05:13] \"\u001b[37mGET /_dash-component-suites/dash_table/bundle.js?v=4.0.1&m=1574289295 HTTP/1.1\u001b[0m\" 200 -\n",
      "2020-01-10 17:05:13,955 - werkzeug - INFO - 127.0.0.1 - - [10/Jan/2020 17:05:13] \"\u001b[37mGET /_dash-component-suites/dash_core_components/dash_core_components.min.js?v=1.0.0&m=1574289294 HTTP/1.1\u001b[0m\" 200 -\n",
      "2020-01-10 17:05:14,071 - werkzeug - INFO - 127.0.0.1 - - [10/Jan/2020 17:05:14] \"\u001b[37mGET /_dash-component-suites/dash_core_components/plotly-1.48.3.min.js?v=1.0.0&m=1574289294 HTTP/1.1\u001b[0m\" 200 -\n",
      "2020-01-10 17:05:14,502 - werkzeug - INFO - 127.0.0.1 - - [10/Jan/2020 17:05:14] \"\u001b[37mGET /_dash-dependencies HTTP/1.1\u001b[0m\" 200 -\n",
      "2020-01-10 17:05:14,503 - werkzeug - INFO - 127.0.0.1 - - [10/Jan/2020 17:05:14] \"\u001b[37mGET /_dash-layout HTTP/1.1\u001b[0m\" 200 -\n",
      "2020-01-10 17:05:14,584 - werkzeug - INFO - 127.0.0.1 - - [10/Jan/2020 17:05:14] \"\u001b[37mPOST /_dash-update-component HTTP/1.1\u001b[0m\" 200 -\n",
      "2020-01-10 17:05:14,789 - werkzeug - INFO - 127.0.0.1 - - [10/Jan/2020 17:05:14] \"\u001b[37mPOST /_dash-update-component HTTP/1.1\u001b[0m\" 200 -\n",
      "2020-01-10 17:05:15,550 - werkzeug - INFO - 127.0.0.1 - - [10/Jan/2020 17:05:15] \"\u001b[37mPOST /_dash-update-component HTTP/1.1\u001b[0m\" 200 -\n",
      "2020-01-10 17:05:15,564 - werkzeug - INFO - 127.0.0.1 - - [10/Jan/2020 17:05:15] \"\u001b[37mPOST /_dash-update-component HTTP/1.1\u001b[0m\" 200 -\n"
     ]
    }
   ],
   "source": [
    "days_to_show = 50\n",
    "df_to_show = df_pseudo.iloc[-days_to_show:]  \n",
    "# The grid_template_columns_list defines how the components appear on the page.  They use standard css values\n",
    "#   that you use in a css grid\n",
    "grid_template_columns_list = ['1fr','1fr']\n",
    "app = dash_app_1(df_to_show,grid_template_columns_list)\n",
    "app.run_server(host='127.0.0.1',port=8500)"
   ]
  },
  {
   "cell_type": "markdown",
   "metadata": {},
   "source": [
    "### Launch 02  the web app as a page with 1 row and 2 columns\n",
    "##### To see the web app, open a browser to localhost:8500"
   ]
  },
  {
   "cell_type": "code",
   "execution_count": 23,
   "metadata": {},
   "outputs": [
    {
     "name": "stdout",
     "output_type": "stream",
     "text": [
      " * Serving Flask app \"__main__\" (lazy loading)\n",
      " * Environment: production\n",
      "   WARNING: Do not use the development server in a production environment.\n",
      "   Use a production WSGI server instead.\n",
      " * Debug mode: off\n"
     ]
    },
    {
     "name": "stderr",
     "output_type": "stream",
     "text": [
      "2020-01-10 17:12:09,055 - werkzeug - INFO -  * Running on http://127.0.0.1:8500/ (Press CTRL+C to quit)\n",
      "2020-01-10 17:12:11,354 - werkzeug - INFO - 127.0.0.1 - - [10/Jan/2020 17:12:11] \"\u001b[37mGET / HTTP/1.1\u001b[0m\" 200 -\n",
      "2020-01-10 17:12:11,551 - werkzeug - INFO - 127.0.0.1 - - [10/Jan/2020 17:12:11] \"\u001b[37mGET /_dash-component-suites/dash_renderer/react@16.8.6.min.js?v=1.0.0&m=1574289295 HTTP/1.1\u001b[0m\" 200 -\n",
      "2020-01-10 17:12:11,551 - werkzeug - INFO - 127.0.0.1 - - [10/Jan/2020 17:12:11] \"\u001b[37mGET /_dash-component-suites/dash_renderer/prop-types@15.7.2.min.js?v=1.0.0&m=1574289295 HTTP/1.1\u001b[0m\" 200 -\n",
      "2020-01-10 17:12:11,552 - werkzeug - INFO - 127.0.0.1 - - [10/Jan/2020 17:12:11] \"\u001b[37mGET /_dash-component-suites/dash_renderer/react-dom@16.8.6.min.js?v=1.0.0&m=1574289295 HTTP/1.1\u001b[0m\" 200 -\n",
      "2020-01-10 17:12:11,569 - werkzeug - INFO - 127.0.0.1 - - [10/Jan/2020 17:12:11] \"\u001b[37mGET /_dash-component-suites/dash_html_components/dash_html_components.min.js?v=1.0.0&m=1574289295 HTTP/1.1\u001b[0m\" 200 -\n",
      "2020-01-10 17:12:11,581 - werkzeug - INFO - 127.0.0.1 - - [10/Jan/2020 17:12:11] \"\u001b[37mGET /_dash-component-suites/dash_core_components/highlight.pack.js?v=1.0.0&m=1574289294 HTTP/1.1\u001b[0m\" 200 -\n",
      "2020-01-10 17:12:11,627 - werkzeug - INFO - 127.0.0.1 - - [10/Jan/2020 17:12:11] \"\u001b[37mGET /_dash-component-suites/dash_renderer/dash_renderer.min.js?v=1.0.0&m=1574289295 HTTP/1.1\u001b[0m\" 200 -\n",
      "2020-01-10 17:12:11,632 - werkzeug - INFO - 127.0.0.1 - - [10/Jan/2020 17:12:11] \"\u001b[37mGET /_dash-component-suites/dash_table/bundle.js?v=4.0.1&m=1574289295 HTTP/1.1\u001b[0m\" 200 -\n",
      "2020-01-10 17:12:11,654 - werkzeug - INFO - 127.0.0.1 - - [10/Jan/2020 17:12:11] \"\u001b[37mGET /_dash-component-suites/dash_core_components/dash_core_components.min.js?v=1.0.0&m=1574289294 HTTP/1.1\u001b[0m\" 200 -\n",
      "2020-01-10 17:12:11,763 - werkzeug - INFO - 127.0.0.1 - - [10/Jan/2020 17:12:11] \"\u001b[37mGET /_dash-component-suites/dash_core_components/plotly-1.48.3.min.js?v=1.0.0&m=1574289294 HTTP/1.1\u001b[0m\" 200 -\n",
      "2020-01-10 17:12:12,204 - werkzeug - INFO - 127.0.0.1 - - [10/Jan/2020 17:12:12] \"\u001b[37mGET /_dash-dependencies HTTP/1.1\u001b[0m\" 200 -\n",
      "2020-01-10 17:12:12,205 - werkzeug - INFO - 127.0.0.1 - - [10/Jan/2020 17:12:12] \"\u001b[37mGET /_dash-layout HTTP/1.1\u001b[0m\" 200 -\n",
      "2020-01-10 17:12:12,287 - werkzeug - INFO - 127.0.0.1 - - [10/Jan/2020 17:12:12] \"\u001b[37mPOST /_dash-update-component HTTP/1.1\u001b[0m\" 200 -\n",
      "2020-01-10 17:12:12,492 - werkzeug - INFO - 127.0.0.1 - - [10/Jan/2020 17:12:12] \"\u001b[37mPOST /_dash-update-component HTTP/1.1\u001b[0m\" 200 -\n",
      "2020-01-10 17:12:13,200 - werkzeug - INFO - 127.0.0.1 - - [10/Jan/2020 17:12:13] \"\u001b[37mPOST /_dash-update-component HTTP/1.1\u001b[0m\" 200 -\n",
      "2020-01-10 17:12:13,213 - werkzeug - INFO - 127.0.0.1 - - [10/Jan/2020 17:12:13] \"\u001b[37mPOST /_dash-update-component HTTP/1.1\u001b[0m\" 200 -\n"
     ]
    }
   ],
   "source": [
    "# the grid_template_columns_list now has one element, that defines 2 equal size columns\n",
    "grid_template_columns_list = ['1fr 1fr']\n",
    "app = dash_app_1(df_to_show,grid_template_columns_list)\n",
    "app.run_server(host='127.0.0.1',port=8500)"
   ]
  },
  {
   "cell_type": "markdown",
   "metadata": {},
   "source": [
    "### Launch 02  the web app as a page with 1 row and 2 columns, but where the graph column is twice the size of the data column\n",
    "##### To see the web app, open a browser to localhost:8500"
   ]
  },
  {
   "cell_type": "code",
   "execution_count": 24,
   "metadata": {},
   "outputs": [
    {
     "name": "stdout",
     "output_type": "stream",
     "text": [
      " * Serving Flask app \"__main__\" (lazy loading)\n",
      " * Environment: production\n",
      "   WARNING: Do not use the development server in a production environment.\n",
      "   Use a production WSGI server instead.\n",
      " * Debug mode: off\n"
     ]
    },
    {
     "name": "stderr",
     "output_type": "stream",
     "text": [
      "2020-01-10 17:13:37,395 - werkzeug - INFO -  * Running on http://127.0.0.1:8500/ (Press CTRL+C to quit)\n",
      "2020-01-10 17:13:40,162 - werkzeug - INFO - 127.0.0.1 - - [10/Jan/2020 17:13:40] \"\u001b[37mGET / HTTP/1.1\u001b[0m\" 200 -\n",
      "2020-01-10 17:13:40,289 - werkzeug - INFO - 127.0.0.1 - - [10/Jan/2020 17:13:40] \"\u001b[37mGET /_dash-component-suites/dash_renderer/react@16.8.6.min.js?v=1.0.0&m=1574289295 HTTP/1.1\u001b[0m\" 200 -\n",
      "2020-01-10 17:13:40,291 - werkzeug - INFO - 127.0.0.1 - - [10/Jan/2020 17:13:40] \"\u001b[37mGET /_dash-component-suites/dash_renderer/prop-types@15.7.2.min.js?v=1.0.0&m=1574289295 HTTP/1.1\u001b[0m\" 200 -\n",
      "2020-01-10 17:13:40,307 - werkzeug - INFO - 127.0.0.1 - - [10/Jan/2020 17:13:40] \"\u001b[37mGET /_dash-component-suites/dash_renderer/react-dom@16.8.6.min.js?v=1.0.0&m=1574289295 HTTP/1.1\u001b[0m\" 200 -\n",
      "2020-01-10 17:13:40,317 - werkzeug - INFO - 127.0.0.1 - - [10/Jan/2020 17:13:40] \"\u001b[37mGET /_dash-component-suites/dash_html_components/dash_html_components.min.js?v=1.0.0&m=1574289295 HTTP/1.1\u001b[0m\" 200 -\n",
      "2020-01-10 17:13:40,354 - werkzeug - INFO - 127.0.0.1 - - [10/Jan/2020 17:13:40] \"\u001b[37mGET /_dash-component-suites/dash_core_components/highlight.pack.js?v=1.0.0&m=1574289294 HTTP/1.1\u001b[0m\" 200 -\n",
      "2020-01-10 17:13:40,382 - werkzeug - INFO - 127.0.0.1 - - [10/Jan/2020 17:13:40] \"\u001b[37mGET /_dash-component-suites/dash_table/bundle.js?v=4.0.1&m=1574289295 HTTP/1.1\u001b[0m\" 200 -\n",
      "2020-01-10 17:13:40,402 - werkzeug - INFO - 127.0.0.1 - - [10/Jan/2020 17:13:40] \"\u001b[37mGET /_dash-component-suites/dash_renderer/dash_renderer.min.js?v=1.0.0&m=1574289295 HTTP/1.1\u001b[0m\" 200 -\n",
      "2020-01-10 17:13:40,440 - werkzeug - INFO - 127.0.0.1 - - [10/Jan/2020 17:13:40] \"\u001b[37mGET /_dash-component-suites/dash_core_components/dash_core_components.min.js?v=1.0.0&m=1574289294 HTTP/1.1\u001b[0m\" 200 -\n",
      "2020-01-10 17:13:40,537 - werkzeug - INFO - 127.0.0.1 - - [10/Jan/2020 17:13:40] \"\u001b[37mGET /_dash-component-suites/dash_core_components/plotly-1.48.3.min.js?v=1.0.0&m=1574289294 HTTP/1.1\u001b[0m\" 200 -\n",
      "2020-01-10 17:13:41,001 - werkzeug - INFO - 127.0.0.1 - - [10/Jan/2020 17:13:41] \"\u001b[37mGET /_dash-dependencies HTTP/1.1\u001b[0m\" 200 -\n",
      "2020-01-10 17:13:41,005 - werkzeug - INFO - 127.0.0.1 - - [10/Jan/2020 17:13:41] \"\u001b[37mGET /_dash-layout HTTP/1.1\u001b[0m\" 200 -\n",
      "2020-01-10 17:13:41,200 - werkzeug - INFO - 127.0.0.1 - - [10/Jan/2020 17:13:41] \"\u001b[37mPOST /_dash-update-component HTTP/1.1\u001b[0m\" 200 -\n",
      "2020-01-10 17:13:41,364 - werkzeug - INFO - 127.0.0.1 - - [10/Jan/2020 17:13:41] \"\u001b[37mPOST /_dash-update-component HTTP/1.1\u001b[0m\" 200 -\n",
      "2020-01-10 17:13:41,953 - werkzeug - INFO - 127.0.0.1 - - [10/Jan/2020 17:13:41] \"\u001b[37mPOST /_dash-update-component HTTP/1.1\u001b[0m\" 200 -\n",
      "2020-01-10 17:13:42,002 - werkzeug - INFO - 127.0.0.1 - - [10/Jan/2020 17:13:42] \"\u001b[37mPOST /_dash-update-component HTTP/1.1\u001b[0m\" 200 -\n"
     ]
    }
   ],
   "source": [
    "# the grid_template_columns_list now has one element, that defines 2 columns, \n",
    "#    where the second is twice as big as the first\n",
    "grid_template_columns_list = ['1fr 2fr']\n",
    "app = dash_app_1(df_to_show,grid_template_columns_list)\n",
    "app.run_server(host='127.0.0.1',port=8500)"
   ]
  },
  {
   "cell_type": "code",
   "execution_count": null,
   "metadata": {},
   "outputs": [],
   "source": []
  }
 ],
 "metadata": {
  "kernelspec": {
   "display_name": "Python 3",
   "language": "python",
   "name": "python3"
  },
  "language_info": {
   "codemirror_mode": {
    "name": "ipython",
    "version": 3
   },
   "file_extension": ".py",
   "mimetype": "text/x-python",
   "name": "python",
   "nbconvert_exporter": "python",
   "pygments_lexer": "ipython3",
   "version": "3.6.5"
  }
 },
 "nbformat": 4,
 "nbformat_minor": 2
}
