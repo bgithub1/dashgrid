{
 "cells": [
  {
   "cell_type": "markdown",
   "metadata": {},
   "source": [
    "## Show using components in dash_df_components"
   ]
  },
  {
   "cell_type": "code",
   "execution_count": 8,
   "metadata": {},
   "outputs": [
    {
     "data": {
      "text/html": [
       "<script>requirejs.config({paths: { 'plotly': ['https://cdn.plot.ly/plotly-latest.min']},});if(!window.Plotly) {{require(['plotly'],function(plotly) {window.Plotly=plotly;});}}</script>"
      ],
      "text/vnd.plotly.v1+html": [
       "<script>requirejs.config({paths: { 'plotly': ['https://cdn.plot.ly/plotly-latest.min']},});if(!window.Plotly) {{require(['plotly'],function(plotly) {window.Plotly=plotly;});}}</script>"
      ]
     },
     "metadata": {},
     "output_type": "display_data"
    }
   ],
   "source": [
    "from IPython.display import display\n",
    "import dash\n",
    "import sys,os\n",
    "if  not os.path.abspath('./') in sys.path:\n",
    "    sys.path.append(os.path.abspath('./'))\n",
    "if  not os.path.abspath('../') in sys.path:\n",
    "    sys.path.append(os.path.abspath('../'))\n",
    "\n",
    "import datetime\n",
    "import pandas as pd\n",
    "import numpy as np\n",
    "import importlib\n",
    "import traceback\n",
    "\n",
    "from dashgrid import dash_df_components as ddfc\n",
    "dgc = ddfc.dgc\n",
    "import dash_html_components as html\n",
    "\n",
    "import matplotlib.pyplot as plt\n",
    "import plotly.graph_objs as go\n",
    "from plotly.offline import  init_notebook_mode, iplot\n",
    "init_notebook_mode(connected=True)\n",
    "import pathlib\n",
    "SYSTEM_HOME = pathlib.Path.home()"
   ]
  },
  {
   "cell_type": "markdown",
   "metadata": {},
   "source": [
    "## Example of a Dash App using VariableRowDiv"
   ]
  },
  {
   "cell_type": "markdown",
   "metadata": {},
   "source": [
    "### Step 00: Define a logger that all components can use"
   ]
  },
  {
   "cell_type": "code",
   "execution_count": 9,
   "metadata": {},
   "outputs": [],
   "source": [
    "logger = dgc.init_root_logger('logfile.log','INFO')"
   ]
  },
  {
   "cell_type": "markdown",
   "metadata": {},
   "source": [
    "### Step 01: Create a title div for our app\n",
    "1. Create a line of markdown for the top title\n",
    "2. Create a multi-line markdown using numbered bullets"
   ]
  },
  {
   "cell_type": "code",
   "execution_count": 10,
   "metadata": {},
   "outputs": [],
   "source": [
    "tm1 = ddfc.MarkdownLine('Dash DataFrame App',text_size=1)\n",
    "tm_text2 = '''\n",
    "            1. This app displays Pandas DataFrames, Plotly Graphs and other html components \n",
    "            2. like file inputs, dropdown lists, and text input fields, and general divs.\n",
    "\n",
    "             '''\n",
    "tm2 = ddfc.MarkdownLine(tm_text2,text_align='left')\n",
    "title_comp = ddfc.MarkdownDiv('mdiv1',[tm1,tm2])\n"
   ]
  },
  {
   "cell_type": "markdown",
   "metadata": {},
   "source": [
    "### Step 02: Create some intial data for our app\n",
    "1. Create a DataFrame\n",
    "2. Create a table div\n",
    "3. Create an xy graph div"
   ]
  },
  {
   "cell_type": "code",
   "execution_count": 11,
   "metadata": {},
   "outputs": [],
   "source": [
    "x = np.arange(1,10,.1).round(4)\n",
    "df = pd.DataFrame({'x':x,'y':(x + np.random.normal(size=len(x))*.1).round(4)})\n",
    "\n",
    "table_example = ddfc.TableInput(\n",
    "    'init_table',initial_data=df,title='Initial Table')\n",
    "xy_example = ddfc.XYGraphSimple(\n",
    "    'init_graph',initial_data=df,x_column='x',title='Initial Graph')  \n"
   ]
  },
  {
   "cell_type": "markdown",
   "metadata": {},
   "source": [
    "### Step 03: Create an input textbox so that you can:\n",
    "1. Enter a floating point number\n",
    "2. See a second graph change, which displays a line that is:\n",
    " * a multiple of the line in the first graph\n",
    " * with some additional randomness"
   ]
  },
  {
   "cell_type": "code",
   "execution_count": 12,
   "metadata": {},
   "outputs": [],
   "source": [
    "input_div = dgc.DivComponent('input_div',initial_children=\"Enter a number\")\n",
    "input_comp = ddfc.TextBoxInput('input_box',init_value=1,input_type='number')"
   ]
  },
  {
   "cell_type": "markdown",
   "metadata": {},
   "source": [
    "### Step 04: Create a callback that \n",
    "#### First: excepts a dictionary of data like:\n",
    "1. Pandas Dataframes\n",
    "2. String values\n",
    "\n",
    "####  Second: outputs 2 new rows, where each row contains:\n",
    "1. a pandas DataFrame that will be used by ```dash_df_components.TableInput```\n",
    "2. the same pandas DataFrame that will be used by ```dash_df_components.XYGraphSimple```\n"
   ]
  },
  {
   "cell_type": "code",
   "execution_count": null,
   "metadata": {},
   "outputs": [],
   "source": [
    "# your input argument is a single dictionary or data, like a pandas DataFrame\n",
    "# your callback method should return a 2 dimensional array of data types that coincide\n",
    "#   with the data types that your repeating components need.\n",
    "# In this case, we are repeating a table an a graph.  Both of these component need a \n",
    "#    pandas DataFrame. \n",
    "def mycb(input_dict):   \n",
    "    df = input_dict['init_table']\n",
    "    try:\n",
    "        if 'x' not in df.columns.values:\n",
    "            return [[None,None]]\n",
    "        x = df.x\n",
    "        scale_y = input_dict['input_box']\n",
    "        if scale_y is None:\n",
    "            scale_y = 1\n",
    "        scale_y = float(str(scale_y))\n",
    "        y2 = x * scale_y + np.random.normal(size=len(x))*.1\n",
    "        df2 = pd.DataFrame({'x':x,'y':y2})    \n",
    "        df3 = pd.DataFrame({'x':x,'y':y2*-1}) \n",
    "        # return a 2 dimensional array, where each dimension has 2 DataFrames\n",
    "        return [[df2,df2],[df3,df3]]\n",
    "    except Exception as e:\n",
    "        traceback.print_exc()\n",
    "        return [[None,None]]\n"
   ]
  },
  {
   "cell_type": "markdown",
   "metadata": {},
   "source": [
    "### Step 05: Create a VariableRowDiv, a class that allows you to create a variable number of repeating rows of Tables, Graphs, Maps, and many other graphical elements found in Dash.\n",
    "\n",
    "#### The arguments are as follows:\n",
    "* arg0: the id of the VariableRowDiv\n",
    "* arg1: a list of class instances from the component library dash_df_components\n",
    "* arg2: your callback that creates data for each repeating row\n",
    "* arg3: a css grid layout template for each repeating row\n",
    "* arg4: a logger"
   ]
  },
  {
   "cell_type": "code",
   "execution_count": null,
   "metadata": {},
   "outputs": [
    {
     "name": "stderr",
     "output_type": "stream",
     "text": [
      "2020-01-25 08:30:08,107 - root - INFO - StoreComponent self.output_data_tuple ('store_comp_my_app', 'data')\n"
     ]
    },
    {
     "name": "stdout",
     "output_type": "stream",
     "text": [
      " * Serving Flask app \"__main__\" (lazy loading)\n",
      " * Environment: production\n",
      "   WARNING: Do not use the development server in a production environment.\n",
      "   Use a production WSGI server instead.\n",
      " * Debug mode: off\n"
     ]
    },
    {
     "name": "stderr",
     "output_type": "stream",
     "text": [
      "2020-01-25 08:30:08,128 - werkzeug - INFO -  * Running on http://127.0.0.1:8500/ (Press CTRL+C to quit)\n",
      "2020-01-25 08:30:14,798 - werkzeug - INFO - 127.0.0.1 - - [25/Jan/2020 08:30:14] \"\u001b[37mGET / HTTP/1.1\u001b[0m\" 200 -\n",
      "2020-01-25 08:30:14,905 - werkzeug - INFO - 127.0.0.1 - - [25/Jan/2020 08:30:14] \"\u001b[37mGET /_dash-component-suites/dash_renderer/react@16.8.6.min.js?v=1.0.0&m=1574289295 HTTP/1.1\u001b[0m\" 200 -\n",
      "2020-01-25 08:30:14,905 - werkzeug - INFO - 127.0.0.1 - - [25/Jan/2020 08:30:14] \"\u001b[37mGET /_dash-component-suites/dash_renderer/prop-types@15.7.2.min.js?v=1.0.0&m=1574289295 HTTP/1.1\u001b[0m\" 200 -\n",
      "2020-01-25 08:30:14,908 - werkzeug - INFO - 127.0.0.1 - - [25/Jan/2020 08:30:14] \"\u001b[37mGET /_dash-component-suites/dash_renderer/react-dom@16.8.6.min.js?v=1.0.0&m=1574289295 HTTP/1.1\u001b[0m\" 200 -\n",
      "2020-01-25 08:30:14,922 - werkzeug - INFO - 127.0.0.1 - - [25/Jan/2020 08:30:14] \"\u001b[37mGET /_dash-component-suites/dash_core_components/highlight.pack.js?v=1.0.0&m=1574289294 HTTP/1.1\u001b[0m\" 200 -\n",
      "2020-01-25 08:30:14,935 - werkzeug - INFO - 127.0.0.1 - - [25/Jan/2020 08:30:14] \"\u001b[37mGET /_dash-component-suites/dash_html_components/dash_html_components.min.js?v=1.0.0&m=1574289295 HTTP/1.1\u001b[0m\" 200 -\n",
      "2020-01-25 08:30:14,959 - werkzeug - INFO - 127.0.0.1 - - [25/Jan/2020 08:30:14] \"\u001b[37mGET /_dash-component-suites/dash_table/bundle.js?v=4.0.1&m=1574289295 HTTP/1.1\u001b[0m\" 200 -\n",
      "2020-01-25 08:30:14,965 - werkzeug - INFO - 127.0.0.1 - - [25/Jan/2020 08:30:14] \"\u001b[37mGET /_dash-component-suites/dash_renderer/dash_renderer.min.js?v=1.0.0&m=1574289295 HTTP/1.1\u001b[0m\" 200 -\n",
      "2020-01-25 08:30:14,985 - werkzeug - INFO - 127.0.0.1 - - [25/Jan/2020 08:30:14] \"\u001b[37mGET /_dash-component-suites/dash_core_components/dash_core_components.min.js?v=1.0.0&m=1574289294 HTTP/1.1\u001b[0m\" 200 -\n",
      "2020-01-25 08:30:15,090 - werkzeug - INFO - 127.0.0.1 - - [25/Jan/2020 08:30:15] \"\u001b[37mGET /_dash-component-suites/dash_core_components/plotly-1.48.3.min.js?v=1.0.0&m=1574289294 HTTP/1.1\u001b[0m\" 200 -\n",
      "2020-01-25 08:30:15,498 - werkzeug - INFO - 127.0.0.1 - - [25/Jan/2020 08:30:15] \"\u001b[37mGET /_dash-layout HTTP/1.1\u001b[0m\" 200 -\n",
      "2020-01-25 08:30:15,506 - werkzeug - INFO - 127.0.0.1 - - [25/Jan/2020 08:30:15] \"\u001b[37mGET /_dash-dependencies HTTP/1.1\u001b[0m\" 200 -\n",
      "2020-01-25 08:30:15,525 - werkzeug - INFO - 127.0.0.1 - - [25/Jan/2020 08:30:15] \"\u001b[37mPOST /_dash-update-component HTTP/1.1\u001b[0m\" 200 -\n",
      "2020-01-25 08:30:15,555 - werkzeug - INFO - 127.0.0.1 - - [25/Jan/2020 08:30:15] \"\u001b[37mPOST /_dash-update-component HTTP/1.1\u001b[0m\" 200 -\n",
      "2020-01-25 08:30:15,960 - werkzeug - INFO - 127.0.0.1 - - [25/Jan/2020 08:30:15] \"\u001b[37mPOST /_dash-update-component HTTP/1.1\u001b[0m\" 200 -\n",
      "2020-01-25 08:30:35,339 - werkzeug - INFO - 127.0.0.1 - - [25/Jan/2020 08:30:35] \"\u001b[37mPOST /_dash-update-component HTTP/1.1\u001b[0m\" 200 -\n",
      "2020-01-25 08:30:35,475 - werkzeug - INFO - 127.0.0.1 - - [25/Jan/2020 08:30:35] \"\u001b[37mPOST /_dash-update-component HTTP/1.1\u001b[0m\" 200 -\n",
      "2020-01-25 08:31:02,740 - werkzeug - INFO - 127.0.0.1 - - [25/Jan/2020 08:31:02] \"\u001b[37mPOST /_dash-update-component HTTP/1.1\u001b[0m\" 200 -\n",
      "2020-01-25 08:31:03,016 - werkzeug - INFO - 127.0.0.1 - - [25/Jan/2020 08:31:03] \"\u001b[37mPOST /_dash-update-component HTTP/1.1\u001b[0m\" 200 -\n",
      "2020-01-25 08:32:52,759 - werkzeug - INFO - 127.0.0.1 - - [25/Jan/2020 08:32:52] \"\u001b[37mPOST /_dash-update-component HTTP/1.1\u001b[0m\" 200 -\n",
      "2020-01-25 08:32:52,931 - werkzeug - INFO - 127.0.0.1 - - [25/Jan/2020 08:32:52] \"\u001b[37mPOST /_dash-update-component HTTP/1.1\u001b[0m\" 200 -\n"
     ]
    }
   ],
   "source": [
    "v = ddfc.VariableRowDiv('my_app',\n",
    "            [table_example,input_comp],\n",
    "            mycb,\n",
    "            [table_example,xy_example],\n",
    "            '1fr 1fr',\n",
    "            logger=logger)\n",
    "\n",
    "ac = [title_comp,input_div,input_comp,table_example,xy_example] + v.final_components\n",
    "gc = ['1fr','1fr 1fr','1fr 1fr'] + v.final_layout\n",
    "\n",
    "app = dgc.make_app(ac,grid_template_columns_list=gc)    \n",
    "app.run_server(host='127.0.0.1',port=8500)    \n"
   ]
  }
 ],
 "metadata": {
  "kernelspec": {
   "display_name": "Python 3",
   "language": "python",
   "name": "python3"
  },
  "language_info": {
   "codemirror_mode": {
    "name": "ipython",
    "version": 3
   },
   "file_extension": ".py",
   "mimetype": "text/x-python",
   "name": "python",
   "nbconvert_exporter": "python",
   "pygments_lexer": "ipython3",
   "version": "3.6.5"
  }
 },
 "nbformat": 4,
 "nbformat_minor": 2
}
