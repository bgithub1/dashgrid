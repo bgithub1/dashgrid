{
 "cells": [
  {
   "cell_type": "markdown",
   "metadata": {},
   "source": [
    "## A toy example of using the dgrid_components.py module in risktables, for both plots inside a jupyter notebook, and to run a web app from a jupyter notebook"
   ]
  },
  {
   "cell_type": "code",
   "execution_count": 48,
   "metadata": {},
   "outputs": [
    {
     "data": {
      "text/html": [
       "<script>requirejs.config({paths: { 'plotly': ['https://cdn.plot.ly/plotly-latest.min']},});if(!window.Plotly) {{require(['plotly'],function(plotly) {window.Plotly=plotly;});}}</script>"
      ],
      "text/vnd.plotly.v1+html": [
       "<script>requirejs.config({paths: { 'plotly': ['https://cdn.plot.ly/plotly-latest.min']},});if(!window.Plotly) {{require(['plotly'],function(plotly) {window.Plotly=plotly;});}}</script>"
      ]
     },
     "metadata": {},
     "output_type": "display_data"
    }
   ],
   "source": [
    "from IPython.display import display\n",
    "import dash\n",
    "import sys,os\n",
    "if  not os.path.abspath('./') in sys.path:\n",
    "    sys.path.append(os.path.abspath('./'))\n",
    "if  not os.path.abspath('../') in sys.path:\n",
    "    sys.path.append(os.path.abspath('../'))\n",
    "\n",
    "import datetime\n",
    "import pandas as pd\n",
    "import numpy as np\n",
    "import importlib\n",
    "import traceback\n",
    "\n",
    "from dashgrid import dgrid_components as dgc\n",
    "from dashgrid import dash_df_components as ddfc\n",
    "import dash_html_components as html\n",
    "\n",
    "import matplotlib.pyplot as plt\n",
    "import plotly.graph_objs as go\n",
    "from plotly.offline import  init_notebook_mode, iplot\n",
    "init_notebook_mode(connected=True)\n",
    "import pathlib\n",
    "SYSTEM_HOME = pathlib.Path.home()"
   ]
  },
  {
   "cell_type": "markdown",
   "metadata": {},
   "source": [
    "### Define a logger that all components can use"
   ]
  },
  {
   "cell_type": "code",
   "execution_count": 2,
   "metadata": {},
   "outputs": [],
   "source": [
    "logger = dgc.init_root_logger('logfile.log','INFO')"
   ]
  },
  {
   "cell_type": "markdown",
   "metadata": {},
   "source": [
    "### Define several Dash Table examples"
   ]
  },
  {
   "cell_type": "code",
   "execution_count": 3,
   "metadata": {},
   "outputs": [],
   "source": [
    "# This Markdown component allows you to use markdown in html divs\n",
    "# create row 1\n",
    "\n",
    "def make_title(title_markdown,style=None):\n",
    "    tm_text = title_markdown\n",
    "    if tm_text is None:\n",
    "        tm_text = '''\n",
    "                    # Dash DataFrame App\n",
    "                    This app displays Pandas DataFrames, Plotly Graphs and other html components \n",
    "                    like file inputs, dropdown lists, and text input fields, and general divs.\n",
    "\n",
    "                    '''\n",
    "    input_style = 'white' if style is None else style\n",
    "    top_markdown = dgc.dcc.Markdown(tm_text\n",
    "                        ,style={'color':input_style})\n",
    "    # you need to define some css styles as well\n",
    "    STYLE_TITLE={\n",
    "        'line-height': '20px',\n",
    "        'textAlign': 'center',\n",
    "        'background-color':'#47bacc',\n",
    "        'color':'#FFFFF9',\n",
    "        'vertical-align':'middle',\n",
    "    } \n",
    "\n",
    "    top_div = html.Div([top_markdown],style=STYLE_TITLE,id='top_div')\n",
    "    return top_div\n"
   ]
  },
  {
   "cell_type": "code",
   "execution_count": null,
   "metadata": {},
   "outputs": [],
   "source": [
    "import importlib\n",
    "importlib.reload(dgc)\n",
    "importlib.reload(ddfc)\n"
   ]
  },
  {
   "cell_type": "markdown",
   "metadata": {},
   "source": [
    "### DataFrameApp"
   ]
  },
  {
   "cell_type": "code",
   "execution_count": 8,
   "metadata": {
    "scrolled": true
   },
   "outputs": [
    {
     "name": "stderr",
     "output_type": "stream",
     "text": [
      "2020-01-24 10:29:07,461 - werkzeug - INFO - 127.0.0.1 - - [24/Jan/2020 10:29:07] \"\u001b[37mPOST /_dash-update-component HTTP/1.1\u001b[0m\" 200 -\n",
      "2020-01-24 10:29:07,515 - werkzeug - INFO - 127.0.0.1 - - [24/Jan/2020 10:29:07] \"\u001b[37mPOST /_dash-update-component HTTP/1.1\u001b[0m\" 200 -\n",
      "2020-01-24 10:29:07,551 - werkzeug - INFO - 127.0.0.1 - - [24/Jan/2020 10:29:07] \"\u001b[37mPOST /_dash-update-component HTTP/1.1\u001b[0m\" 200 -\n"
     ]
    },
    {
     "name": "stdout",
     "output_type": "stream",
     "text": [
      "store_transform input_list: [[{'x': 1, 'y': 1.0517}, {'x': 1.1, 'y': 1.1453}, {'x': 1.2, 'y': 1.2198}, {'x': 1.3, 'y': 1.368}, {'x': 1.4, 'y': 1.5455}, {'x': 1.5, 'y': 1.5013}, {'x': 1.6, 'y': 1.4671}, {'x': 1.7, 'y': 1.6433}, {'x': 1.8, 'y': 1.7985}, {'x': 1.9, 'y': 2.128}, {'x': 2, 'y': 1.9937}, {'x': 2.1, 'y': 2.2276}, {'x': 2.2, 'y': 1.9371}, {'x': 2.3, 'y': 2.2348}, {'x': 2.4, 'y': 2.4101}, {'x': 2.5, 'y': 2.5516}, {'x': 2.6, 'y': 2.5904}, {'x': 2.7, 'y': 2.762}, {'x': 2.8, 'y': 2.794}, {'x': 2.9, 'y': 2.9512}, {'x': 3, 'y': 3.0009}, {'x': 3.1, 'y': 3.0381}, {'x': 3.2, 'y': 3.3089}, {'x': 3.3, 'y': 3.3241}, {'x': 3.4, 'y': 3.618}, {'x': 3.5, 'y': 3.5823}, {'x': 3.6, 'y': 3.5633}, {'x': 3.7, 'y': 3.6051}, {'x': 3.8, 'y': 3.7999}, {'x': 3.9, 'y': 3.7904}, {'x': 4, 'y': 3.8134}, {'x': 4.1, 'y': 4.0882}, {'x': 4.2, 'y': 4.2109}, {'x': 4.3, 'y': 4.5414}, {'x': 4.4, 'y': 4.475}, {'x': 4.5, 'y': 4.6331}, {'x': 4.6, 'y': 4.588}, {'x': 4.7, 'y': 4.7906}, {'x': 4.8, 'y': 4.7117}, {'x': 4.9, 'y': 4.9176}, {'x': 5, 'y': 4.8596}, {'x': 5.1, 'y': 5.0174}, {'x': 5.2, 'y': 5.2833}, {'x': 5.3, 'y': 5.3124}, {'x': 5.4, 'y': 5.496}, {'x': 5.5, 'y': 5.6714}, {'x': 5.6, 'y': 5.5201}, {'x': 5.7, 'y': 5.7305}, {'x': 5.8, 'y': 5.7011}, {'x': 5.9, 'y': 6.0035}, {'x': 6, 'y': 5.9363}, {'x': 6.1, 'y': 6.1739}, {'x': 6.2, 'y': 6.1766}, {'x': 6.3, 'y': 6.1511}, {'x': 6.4, 'y': 6.4349}, {'x': 6.5, 'y': 6.512}, {'x': 6.6, 'y': 6.5913}, {'x': 6.7, 'y': 6.5888}, {'x': 6.8, 'y': 6.6262}, {'x': 6.9, 'y': 6.9384}, {'x': 7, 'y': 7.0561}, {'x': 7.1, 'y': 6.9046}, {'x': 7.2, 'y': 7.0973}, {'x': 7.3, 'y': 7.2765}, {'x': 7.4, 'y': 7.2635}, {'x': 7.5, 'y': 7.5783}, {'x': 7.6, 'y': 7.5959}, {'x': 7.7, 'y': 7.6757}, {'x': 7.8, 'y': 7.7298}, {'x': 7.9, 'y': 7.846}, {'x': 8, 'y': 7.9279}, {'x': 8.1, 'y': 8.0552}, {'x': 8.2, 'y': 8.1599}, {'x': 8.3, 'y': 8.111}, {'x': 8.4, 'y': 8.5567}, {'x': 8.5, 'y': 8.5802}, {'x': 8.6, 'y': 8.3843}, {'x': 8.7, 'y': 8.6097}, {'x': 8.8, 'y': 8.6453}, {'x': 8.9, 'y': 8.8494}, {'x': 9, 'y': 8.9807}, {'x': 9.1, 'y': 9.0883}, {'x': 9.2, 'y': 9.3489}, {'x': 9.3, 'y': 9.3724}, {'x': 9.4, 'y': 9.1955}, {'x': 9.5, 'y': 9.5401}, {'x': 9.6, 'y': 9.6449}, {'x': 9.7, 'y': 9.747}, {'x': 9.8, 'y': 9.8502}, {'x': 9.9, 'y': 9.8771}], -10]\n"
     ]
    },
    {
     "name": "stderr",
     "output_type": "stream",
     "text": [
      "2020-01-24 10:29:09,785 - werkzeug - INFO - 127.0.0.1 - - [24/Jan/2020 10:29:09] \"\u001b[37mPOST /_dash-update-component HTTP/1.1\u001b[0m\" 200 -\n",
      "2020-01-24 10:29:09,840 - werkzeug - INFO - 127.0.0.1 - - [24/Jan/2020 10:29:09] \"\u001b[37mPOST /_dash-update-component HTTP/1.1\u001b[0m\" 200 -\n",
      "2020-01-24 10:29:09,918 - werkzeug - INFO - 127.0.0.1 - - [24/Jan/2020 10:29:09] \"\u001b[37mPOST /_dash-update-component HTTP/1.1\u001b[0m\" 200 -\n"
     ]
    },
    {
     "name": "stdout",
     "output_type": "stream",
     "text": [
      "store_transform input_list: [[{'x': 1, 'y': 1.0517}, {'x': 1.1, 'y': 1.1453}, {'x': 1.2, 'y': 1.2198}, {'x': 1.3, 'y': 1.368}, {'x': 1.4, 'y': 1.5455}, {'x': 1.5, 'y': 1.5013}, {'x': 1.6, 'y': 1.4671}, {'x': 1.7, 'y': 1.6433}, {'x': 1.8, 'y': 1.7985}, {'x': 1.9, 'y': 2.128}, {'x': 2, 'y': 1.9937}, {'x': 2.1, 'y': 2.2276}, {'x': 2.2, 'y': 1.9371}, {'x': 2.3, 'y': 2.2348}, {'x': 2.4, 'y': 2.4101}, {'x': 2.5, 'y': 2.5516}, {'x': 2.6, 'y': 2.5904}, {'x': 2.7, 'y': 2.762}, {'x': 2.8, 'y': 2.794}, {'x': 2.9, 'y': 2.9512}, {'x': 3, 'y': 3.0009}, {'x': 3.1, 'y': 3.0381}, {'x': 3.2, 'y': 3.3089}, {'x': 3.3, 'y': 3.3241}, {'x': 3.4, 'y': 3.618}, {'x': 3.5, 'y': 3.5823}, {'x': 3.6, 'y': 3.5633}, {'x': 3.7, 'y': 3.6051}, {'x': 3.8, 'y': 3.7999}, {'x': 3.9, 'y': 3.7904}, {'x': 4, 'y': 3.8134}, {'x': 4.1, 'y': 4.0882}, {'x': 4.2, 'y': 4.2109}, {'x': 4.3, 'y': 4.5414}, {'x': 4.4, 'y': 4.475}, {'x': 4.5, 'y': 4.6331}, {'x': 4.6, 'y': 4.588}, {'x': 4.7, 'y': 4.7906}, {'x': 4.8, 'y': 4.7117}, {'x': 4.9, 'y': 4.9176}, {'x': 5, 'y': 4.8596}, {'x': 5.1, 'y': 5.0174}, {'x': 5.2, 'y': 5.2833}, {'x': 5.3, 'y': 5.3124}, {'x': 5.4, 'y': 5.496}, {'x': 5.5, 'y': 5.6714}, {'x': 5.6, 'y': 5.5201}, {'x': 5.7, 'y': 5.7305}, {'x': 5.8, 'y': 5.7011}, {'x': 5.9, 'y': 6.0035}, {'x': 6, 'y': 5.9363}, {'x': 6.1, 'y': 6.1739}, {'x': 6.2, 'y': 6.1766}, {'x': 6.3, 'y': 6.1511}, {'x': 6.4, 'y': 6.4349}, {'x': 6.5, 'y': 6.512}, {'x': 6.6, 'y': 6.5913}, {'x': 6.7, 'y': 6.5888}, {'x': 6.8, 'y': 6.6262}, {'x': 6.9, 'y': 6.9384}, {'x': 7, 'y': 7.0561}, {'x': 7.1, 'y': 6.9046}, {'x': 7.2, 'y': 7.0973}, {'x': 7.3, 'y': 7.2765}, {'x': 7.4, 'y': 7.2635}, {'x': 7.5, 'y': 7.5783}, {'x': 7.6, 'y': 7.5959}, {'x': 7.7, 'y': 7.6757}, {'x': 7.8, 'y': 7.7298}, {'x': 7.9, 'y': 7.846}, {'x': 8, 'y': 7.9279}, {'x': 8.1, 'y': 8.0552}, {'x': 8.2, 'y': 8.1599}, {'x': 8.3, 'y': 8.111}, {'x': 8.4, 'y': 8.5567}, {'x': 8.5, 'y': 8.5802}, {'x': 8.6, 'y': 8.3843}, {'x': 8.7, 'y': 8.6097}, {'x': 8.8, 'y': 8.6453}, {'x': 8.9, 'y': 8.8494}, {'x': 9, 'y': 8.9807}, {'x': 9.1, 'y': 9.0883}, {'x': 9.2, 'y': 9.3489}, {'x': 9.3, 'y': 9.3724}, {'x': 9.4, 'y': 9.1955}, {'x': 9.5, 'y': 9.5401}, {'x': 9.6, 'y': 9.6449}, {'x': 9.7, 'y': 9.747}, {'x': 9.8, 'y': 9.8502}, {'x': 9.9, 'y': 9.8771}], -10]\n"
     ]
    }
   ],
   "source": [
    "\n",
    "title_comp = make_title(\"My example app\")\n",
    "input_div = dgc.DivComponent('input_div',initial_children=\"Enter a number\")\n",
    "input_comp = dgc.InputBox('input_comp',init_value=1,input_type='number')\n",
    "\n",
    "x = np.arange(1,10,.1).round(4)\n",
    "y =  x + np.random.normal(size=len(x))*.1\n",
    "y = y.round(4)\n",
    "df = pd.DataFrame({'x':x,'y':y})\n",
    "scale_y = 1\n",
    "y2 = x * scale_y + np.random.normal(size=len(x))*.1\n",
    "df2 = pd.DataFrame({'x':x,'y':y2})\n",
    "init_data = {\"scale_y\":scale_y,\"df\":df.to_dict('rows'),'df2':df2.to_dict('rows')}\n",
    "\n",
    "\n",
    "\n",
    "table_1_comp = ddfc.TableInput('table_1',initial_data=df,title=\"Test Table 1 From Store\")\n",
    "\n",
    "def store_transform(input_list):\n",
    "    if len(input_list)<1:\n",
    "        return {}\n",
    "    if input_list[0] is None:\n",
    "        return {}\n",
    "    dict_df = input_list[0]\n",
    "    scale_y = 1 if input_list[1] is None else float(str(input_list[1]))\n",
    "    df1 = dgc.make_df(dict_df)\n",
    "    df2 = df1.copy()\n",
    "    df2.y = df2.y * scale_y\n",
    "    dict_df2 = df2.to_dict('rows')\n",
    "    r = {'scale_y':scale_y,\"df\":dict_df,\"df2\":dict_df2}\n",
    "    return r\n",
    "    \n",
    "    \n",
    "storage_input_tuples = [table_1_comp.output_data_tuple,input_comp.output_data_tuple]    \n",
    "storage_comp = dgc.StoreComponent('store_comp',storage_input_tuples,\n",
    "        create_data_dictionary_from_df_transformer=store_transform,\n",
    "        initial_data=init_data)\n",
    "\n",
    "table_2_comp = ddfc.TableFromStore('table_2',storage_comp,'df2',title=\"Test Table 2 From Store\")\n",
    "\n",
    "xy_1_comp = dgc.XyGraphComponent('xy_1_comp',table_1_comp,x_column='x',plot_bars=False,title=\"XY Graph 1\")\n",
    "# xy_2_comp = dgc.XyGraphComponent('xy_2_comp',table_2_comp,x_column='x',plot_bars=False)\n",
    "xy_2_comp = ddfc.XyGraphFromStore('xy_2_comp',storage_comp,'df2','x',title=\"XY Graph 2\")\n",
    "\n",
    "app_component_list = [title_comp,\n",
    "                      input_div,input_comp,\n",
    "                      storage_comp,\n",
    "                      xy_1_comp,xy_2_comp,\n",
    "                      table_1_comp,table_2_comp]\n",
    "gtcl = ['1fr','1fr 1fr','1fr','1fr 1fr','1fr 1fr']\n",
    "app_to_use = dgc.dash.Dash()\n",
    "app = dgc.make_app(app_component_list,grid_template_columns_list=gtcl,app=app_to_use)    \n",
    "app.run_server(host='127.0.0.1',port=8500)"
   ]
  },
  {
   "cell_type": "code",
   "execution_count": null,
   "metadata": {},
   "outputs": [],
   "source": [
    "def c1(a,b,**kwargs):\n",
    "    def c2(c):\n",
    "        print(a,b,c,c3(**kwargs))\n",
    "    return c2\n",
    "\n",
    "def c3(**kwargs):\n",
    "    if 'd' in kwargs.keys():\n",
    "        return f\"from c3.d {kwargs['d']}\"\n",
    "\n",
    "a1 = 1\n",
    "a2 = 2\n",
    "f1 = c1(a1,a2,d='d1')\n",
    "f1(3)\n",
    "a1 = 4\n",
    "a2 = 5\n",
    "f1(5)"
   ]
  },
  {
   "cell_type": "code",
   "execution_count": null,
   "metadata": {},
   "outputs": [],
   "source": [
    "import importlib\n",
    "importlib.reload(dgc)\n",
    "importlib.reload(ddfc)\n",
    "\n",
    "\n",
    "x = np.arange(1,10,.1).round(4)\n",
    "y =  x + np.random.normal(size=len(x))*.1\n",
    "y = y.round(4)\n",
    "df = pd.DataFrame({'x':x,'y':y})\n",
    "scale_y = -\n",
    "y2 = x * scale_y + np.random.normal(size=len(x))*.1\n",
    "df2 = pd.DataFrame({'x':x,'y':y2})\n",
    "my_input_dict = {'df':df.to_dict('rows'),'df2':df2.to_dict('rows')}\n"
   ]
  },
  {
   "cell_type": "code",
   "execution_count": null,
   "metadata": {},
   "outputs": [],
   "source": [
    "table_example = ddfc.TableInput('r1c1',initial_data=df,title=\"Table r1c1\")\n",
    "xy_example = ddfc.XYGraphSimple('r1c2',initial_data=df,x_column='x',title=\"Graph r1c2\")  \n"
   ]
  },
  {
   "cell_type": "code",
   "execution_count": null,
   "metadata": {},
   "outputs": [],
   "source": [
    "te_clone = table_example.clone('r2c1',initial_data=df2,title=None)\n",
    "xy_clone = xy_example.clone('r2c2',initial_data=df2,title=None)\n"
   ]
  },
  {
   "cell_type": "code",
   "execution_count": null,
   "metadata": {
    "scrolled": true
   },
   "outputs": [],
   "source": [
    "comp_list = [table_example,xy_example,te_clone,xy_clone]\n",
    "app = dgc.make_app(comp_list,grid_template_columns_list=['1fr 1fr','1fr 1fr'])    \n",
    "app.run_server(host='127.0.0.1',port=8500)    \n"
   ]
  },
  {
   "cell_type": "markdown",
   "metadata": {},
   "source": [
    "## Building new reactive system\n",
    "1. must create a full class\n",
    "2. the input components have to be simplified\n",
    "3. what happens if i use file upload as one of my inputs.\n",
    "4. it might help to have a bunch of example apps, with nothing by input components"
   ]
  },
  {
   "cell_type": "code",
   "execution_count": 114,
   "metadata": {
    "scrolled": false
   },
   "outputs": [
    {
     "name": "stderr",
     "output_type": "stream",
     "text": [
      "2020-01-24 21:07:03,088 - root - INFO - StoreComponent self.output_data_tuple ('store_comp', 'data')\n"
     ]
    },
    {
     "name": "stdout",
     "output_type": "stream",
     "text": [
      " * Serving Flask app \"__main__\" (lazy loading)\n",
      " * Environment: production\n",
      "   WARNING: Do not use the development server in a production environment.\n",
      "   Use a production WSGI server instead.\n",
      " * Debug mode: off\n"
     ]
    },
    {
     "name": "stderr",
     "output_type": "stream",
     "text": [
      "2020-01-24 21:07:03,113 - werkzeug - INFO -  * Running on http://127.0.0.1:8500/ (Press CTRL+C to quit)\n",
      "2020-01-24 21:07:04,913 - werkzeug - INFO - 127.0.0.1 - - [24/Jan/2020 21:07:04] \"\u001b[37mGET / HTTP/1.1\u001b[0m\" 200 -\n",
      "2020-01-24 21:07:04,995 - werkzeug - INFO - 127.0.0.1 - - [24/Jan/2020 21:07:04] \"\u001b[37mGET /_dash-component-suites/dash_renderer/react@16.8.6.min.js?v=1.0.0&m=1574289295 HTTP/1.1\u001b[0m\" 200 -\n",
      "2020-01-24 21:07:04,999 - werkzeug - INFO - 127.0.0.1 - - [24/Jan/2020 21:07:04] \"\u001b[37mGET /_dash-component-suites/dash_renderer/prop-types@15.7.2.min.js?v=1.0.0&m=1574289295 HTTP/1.1\u001b[0m\" 200 -\n",
      "2020-01-24 21:07:05,015 - werkzeug - INFO - 127.0.0.1 - - [24/Jan/2020 21:07:05] \"\u001b[37mGET /_dash-component-suites/dash_renderer/react-dom@16.8.6.min.js?v=1.0.0&m=1574289295 HTTP/1.1\u001b[0m\" 200 -\n",
      "2020-01-24 21:07:05,032 - werkzeug - INFO - 127.0.0.1 - - [24/Jan/2020 21:07:05] \"\u001b[37mGET /_dash-component-suites/dash_core_components/highlight.pack.js?v=1.0.0&m=1574289294 HTTP/1.1\u001b[0m\" 200 -\n",
      "2020-01-24 21:07:05,033 - werkzeug - INFO - 127.0.0.1 - - [24/Jan/2020 21:07:05] \"\u001b[37mGET /_dash-component-suites/dash_html_components/dash_html_components.min.js?v=1.0.0&m=1574289295 HTTP/1.1\u001b[0m\" 200 -\n",
      "2020-01-24 21:07:05,042 - werkzeug - INFO - 127.0.0.1 - - [24/Jan/2020 21:07:05] \"\u001b[37mGET /_dash-component-suites/dash_table/bundle.js?v=4.0.1&m=1574289295 HTTP/1.1\u001b[0m\" 200 -\n",
      "2020-01-24 21:07:05,067 - werkzeug - INFO - 127.0.0.1 - - [24/Jan/2020 21:07:05] \"\u001b[37mGET /_dash-component-suites/dash_renderer/dash_renderer.min.js?v=1.0.0&m=1574289295 HTTP/1.1\u001b[0m\" 200 -\n",
      "2020-01-24 21:07:05,088 - werkzeug - INFO - 127.0.0.1 - - [24/Jan/2020 21:07:05] \"\u001b[37mGET /_dash-component-suites/dash_core_components/dash_core_components.min.js?v=1.0.0&m=1574289294 HTTP/1.1\u001b[0m\" 200 -\n",
      "2020-01-24 21:07:05,214 - werkzeug - INFO - 127.0.0.1 - - [24/Jan/2020 21:07:05] \"\u001b[37mGET /_dash-component-suites/dash_core_components/plotly-1.48.3.min.js?v=1.0.0&m=1574289294 HTTP/1.1\u001b[0m\" 200 -\n",
      "2020-01-24 21:07:05,598 - werkzeug - INFO - 127.0.0.1 - - [24/Jan/2020 21:07:05] \"\u001b[37mGET /_dash-layout HTTP/1.1\u001b[0m\" 200 -\n",
      "2020-01-24 21:07:05,599 - werkzeug - INFO - 127.0.0.1 - - [24/Jan/2020 21:07:05] \"\u001b[37mGET /_dash-dependencies HTTP/1.1\u001b[0m\" 200 -\n",
      "2020-01-24 21:07:05,621 - werkzeug - INFO - 127.0.0.1 - - [24/Jan/2020 21:07:05] \"\u001b[37mPOST /_dash-update-component HTTP/1.1\u001b[0m\" 200 -\n",
      "2020-01-24 21:07:05,652 - werkzeug - INFO - 127.0.0.1 - - [24/Jan/2020 21:07:05] \"\u001b[37mPOST /_dash-update-component HTTP/1.1\u001b[0m\" 200 -\n",
      "2020-01-24 21:07:06,002 - werkzeug - INFO - 127.0.0.1 - - [24/Jan/2020 21:07:06] \"\u001b[37mPOST /_dash-update-component HTTP/1.1\u001b[0m\" 200 -\n",
      "2020-01-24 21:07:13,086 - werkzeug - INFO - 127.0.0.1 - - [24/Jan/2020 21:07:13] \"\u001b[37mPOST /_dash-update-component HTTP/1.1\u001b[0m\" 200 -\n",
      "2020-01-24 21:07:13,181 - werkzeug - INFO - 127.0.0.1 - - [24/Jan/2020 21:07:13] \"\u001b[37mPOST /_dash-update-component HTTP/1.1\u001b[0m\" 200 -\n"
     ]
    }
   ],
   "source": [
    "import importlib\n",
    "importlib.reload(dgc)\n",
    "importlib.reload(ddfc)\n",
    "\n",
    "# create data\n",
    "x = np.arange(1,10,.1).round(4)\n",
    "y =  x + np.random.normal(size=len(x))*.1\n",
    "y = y.round(4)\n",
    "df = pd.DataFrame({'x':x,'y':y})\n",
    "\n",
    "title_table = 'Initial Table'\n",
    "title_graph = 'Initial Graph'\n",
    "table_example = ddfc.TableInput('init_table',initial_data=df,title=title_table)\n",
    "xy_example = ddfc.XYGraphSimple('init_graph',initial_data=df,x_column='x',title=title_graph)  \n",
    "\n",
    "my_row_comps = [table_example,xy_example]\n",
    "my_row_layout = '1fr 1fr'\n",
    "my_input_dict = {'df':df}\n",
    "\n",
    "title_comp = make_title(\"My example app\")\n",
    "input_div = dgc.DivComponent('input_div',initial_children=\"Enter a number\")\n",
    "input_comp = ddfc.TextBoxInput('input_box',init_value=1,input_type='number')\n",
    "\n",
    "my_transform_dict = {\n",
    "    type(table_example):dgc.make_df,\n",
    "    type(input_comp):str\n",
    "}\n",
    "\n",
    "\n",
    "def mycb(input_dict):   \n",
    "    df = input_dict['init_table']\n",
    "    try:\n",
    "        if 'x' not in df.columns.values:\n",
    "            return [[None,None]]\n",
    "        x = df.x\n",
    "        scale_y = input_dict['input_box']\n",
    "        if scale_y is None:\n",
    "            scale_y = 1\n",
    "        scale_y = float(str(scale_y))\n",
    "        y2 = x * scale_y + np.random.normal(size=len(x))*.1\n",
    "        df2 = pd.DataFrame({'x':x,'y':y2})    \n",
    "        return [[df2,df2]]\n",
    "    except Exception as e:\n",
    "        traceback.print_exc()\n",
    "        return [[None,None]]\n",
    "    \n",
    "# ************ ALL BELOW HERE IS GENERIC ****************\n",
    "def store_transform_closure(input_comp_ids,input_comp_types,transform_dict,logger):\n",
    "    def store_transform(input_list):\n",
    "        if len(input_list)<1:\n",
    "            dgc.stop_callback(f'store_transform has NO data.  Callback return is ignored',logger)            \n",
    "#             return {}\n",
    "        if input_list[0] is None:\n",
    "            dgc.stop_callback(f'store_transform has NO data.  Callback return is ignored',logger)            \n",
    "#             return {}\n",
    "        output_dict = {}\n",
    "        for i in range(len(input_list)):\n",
    "            il = input_list[i]\n",
    "            ict = input_comp_types[i]\n",
    "            conv_method = str\n",
    "            conv_key = ict\n",
    "            if conv_key in transform_dict.keys():\n",
    "                conv_method = transform_dict[conv_key]\n",
    "            else:\n",
    "                logger.warn(f'store_transform unexpected conv_key: {conv_key}')\n",
    "            conv_data = None if il is None else conv_method(il)\n",
    "            cid = input_comp_ids[i]\n",
    "            output_dict[cid] = conv_data\n",
    "        return output_dict\n",
    "    return store_transform\n",
    "\n",
    "input_comps = [table_example,input_comp]\n",
    "storage_input_tuples = [ic.output_data_tuple for ic in input_comps]\n",
    "ic_types = [type(ic) for ic in input_comps]\n",
    "ic_ids = [ic.component_id for ic in input_comps]\n",
    "stm = store_transform_closure(ic_ids,ic_types,my_transform_dict,logger)\n",
    "storage_comp = dgc.StoreComponent('store_comp',\n",
    "        storage_input_tuples,\n",
    "#         create_data_dictionary_from_df_transformer=stm,\n",
    "        create_data_dictionary_from_df_transformer=lambda v:v,\n",
    "#         initial_data={ic.component_id:ic.initial_data for ic in input_comps})\n",
    "        initial_data={})\n",
    "\n",
    "\n",
    "def make_comps(input_list,callback,row_comps,row_layout,data_converter):\n",
    "    input_dict = data_converter(input_list[0])\n",
    "    if len(input_dict)<1:\n",
    "        dgc.stop_callback(f'store_transform has NO data.  Callback return is ignored',logger)            \n",
    "        \n",
    "    row_data = callback(input_dict)\n",
    "    if row_data is None:\n",
    "        dgc.stop_callback(f'store_transform has NO data.  Callback return is ignored',logger)            \n",
    "        \n",
    "    all_comps = []\n",
    "    gc_list = []\n",
    "    for i in range(len(row_data)):\n",
    "        data_for_this_row = row_data[i]\n",
    "        for j in range(len(row_comps)):\n",
    "            comp = row_comps[j] \n",
    "            cid = f'r{i+1}c{j+1}'\n",
    "            c = comp.clone(cid,initial_data=row_data[i][j],title=cid)\n",
    "            all_comps.append(c)\n",
    "        gc_list.append(row_layout)\n",
    "    html_grid = dgc.create_grid(all_comps,len(row_comps))\n",
    "    return [html_grid]\n",
    "\n",
    "\n",
    "# content_div = dgc.ReactiveDiv('variable_content',storage_comp.output_data_tuple,\n",
    "#                     input_transformer=lambda input_list,_:make_comps(input_list,mycb,my_row_comps,my_row_layout,stm))\n",
    "content_div = dgc.DivComponent('variable_content',input_component=[storage_comp.output_data_tuple],\n",
    "                    callback_input_transformer=lambda input_list:make_comps(input_list,mycb,my_row_comps,my_row_layout,stm),\n",
    "                    logger=logger)\n",
    "\n",
    "# ac = [title_comp,input_div,input_comp,table_example,xy_example,storage_comp,content_div]\n",
    "# gc = ['1fr','1fr 1fr','1fr 1fr','1fr', '1fr']\n",
    "ac = [title_comp,input_div,input_comp,table_example,xy_example,content_div,storage_comp]\n",
    "gc = ['1fr','1fr 1fr','1fr 1fr','1fr','0%']\n",
    "\n",
    "app = dgc.make_app(ac,grid_template_columns_list=gc)    \n",
    "app.run_server(host='127.0.0.1',port=8500)    \n"
   ]
  },
  {
   "cell_type": "code",
   "execution_count": 52,
   "metadata": {},
   "outputs": [],
   "source": [
    "??dgc.DivComponent"
   ]
  },
  {
   "cell_type": "code",
   "execution_count": 53,
   "metadata": {},
   "outputs": [
    {
     "data": {
      "text/plain": [
       "('store_comp', 'data')"
      ]
     },
     "execution_count": 53,
     "metadata": {},
     "output_type": "execute_result"
    }
   ],
   "source": [
    "storage_comp.output_data_tuple"
   ]
  },
  {
   "cell_type": "markdown",
   "metadata": {},
   "source": [
    "## Building new reactive class\n",
    "1. VariableRowDiv defines a div that can have multiple rows that follow a pattern\n",
    "2. i want to reduce the amount that a python developer has to know about this api.\n",
    " * how does markdown really work"
   ]
  },
  {
   "cell_type": "code",
   "execution_count": 123,
   "metadata": {},
   "outputs": [],
   "source": [
    "DEFAULT_COMPONENT_TRANSFORM_DICT = {\n",
    "    type(table_example):dgc.make_df,\n",
    "    type(input_comp):str\n",
    "}\n",
    "\n",
    "\n",
    "class VariableRowDiv():\n",
    "    def __init__(self,\n",
    "            app_id,\n",
    "            input_component_list,\n",
    "            app_callback,\n",
    "            repeating_row_component_template,\n",
    "            repeating_row_layout_template,\n",
    "            component_transform_dict=None,\n",
    "            logger=None):\n",
    "        #\n",
    "        self.app_id = app_id\n",
    "        self.logger = logger if logger is not None else dgc.init_root_logger('logfile.log','INFO')\n",
    "        self.app_callback = app_callback\n",
    "        ctd = DEFAULT_COMPONENT_TRANSFORM_DICT\n",
    "        if component_transform_dict is not None:\n",
    "            ctd.update(component_transform_dict)\n",
    "        self.repeating_row_component_template = repeating_row_component_template\n",
    "        self.repeating_row_layout_template = repeating_row_layout_template\n",
    "        #\n",
    "        input_comps = input_component_list\n",
    "        storage_input_tuples = [ic.output_data_tuple for ic in input_comps]\n",
    "        ic_types = [type(ic) for ic in input_comps]\n",
    "        ic_ids = [ic.component_id for ic in input_comps]\n",
    "        stm = self.store_transform_closure(ic_ids,ic_types,ctd,self.logger)\n",
    "        #\n",
    "        self.storage_comp = dgc.StoreComponent(f'store_comp_{self.app_id}',\n",
    "                storage_input_tuples,\n",
    "                create_data_dictionary_from_df_transformer=lambda v:v,\n",
    "                initial_data={})\n",
    "        \n",
    "        mcc = self.make_comps_closure(self.app_callback,\n",
    "                     self.repeating_row_component_template,\n",
    "                     self.repeating_row_layout_template,\n",
    "                     stm,self.logger)\n",
    "        self.content_div = dgc.DivComponent('variable_content',\n",
    "                    input_component=[storage_comp.output_data_tuple],\n",
    "                    callback_input_transformer=lambda input_list:mcc(input_list),\n",
    "                    logger=self.logger)\n",
    "        #\n",
    "        self.final_components = [content_div,storage_comp]\n",
    "        self.final_layout = ['1fr', '0%']\n",
    "\n",
    "    def store_transform_closure(self,input_comp_ids,input_comp_types,transform_dict,logger):\n",
    "        def _store_transform(input_list):\n",
    "            if len(input_list)<1:\n",
    "                dgc.stop_callback(f'store_transform has NO data.  Callback return is ignored',logger)            \n",
    "            if input_list[0] is None:\n",
    "                dgc.stop_callback(f'store_transform has NO data.  Callback return is ignored',logger)            \n",
    "            output_dict = {}\n",
    "            for i in range(len(input_list)):\n",
    "                il = input_list[i]\n",
    "                ict = input_comp_types[i]\n",
    "                conv_method = str\n",
    "                conv_key = ict\n",
    "                if conv_key in transform_dict.keys():\n",
    "                    conv_method = transform_dict[conv_key]\n",
    "                else:\n",
    "                    logger.warn(f'store_transform unexpected conv_key: {conv_key}')\n",
    "                conv_data = None if il is None else conv_method(il)\n",
    "                cid = input_comp_ids[i]\n",
    "                output_dict[cid] = conv_data\n",
    "            return output_dict\n",
    "        return _store_transform\n",
    "            \n",
    "            \n",
    "    def make_comps_closure(self,callback,row_comps,row_layout,data_converter,logger):\n",
    "        def make_comps(input_list):\n",
    "            input_dict = data_converter(input_list[0])\n",
    "            if len(input_dict)<1:\n",
    "                dgc.stop_callback(f'store_transform has NO data.  Callback return is ignored',logger)            \n",
    "\n",
    "            row_data = callback(input_dict)\n",
    "            if row_data is None:\n",
    "                dgc.stop_callback(f'store_transform has NO data.  Callback return is ignored',logger)            \n",
    "\n",
    "            all_comps = []\n",
    "            gc_list = []\n",
    "            for i in range(len(row_data)):\n",
    "                data_for_this_row = row_data[i]\n",
    "                for j in range(len(row_comps)):\n",
    "                    comp = row_comps[j] \n",
    "                    cid = f'r{i+1}c{j+1}'\n",
    "                    c = comp.clone(cid,initial_data=row_data[i][j],title=cid)\n",
    "                    all_comps.append(c)\n",
    "                gc_list.append(row_layout)\n",
    "            html_grid = dgc.create_grid(all_comps,len(row_comps))\n",
    "            return [html_grid]\n",
    "        return make_comps\n",
    "\n",
    "\n",
    "\n"
   ]
  },
  {
   "cell_type": "code",
   "execution_count": null,
   "metadata": {},
   "outputs": [
    {
     "name": "stderr",
     "output_type": "stream",
     "text": [
      "2020-01-24 21:18:13,241 - root - INFO - StoreComponent self.output_data_tuple ('store_comp_my_app', 'data')\n"
     ]
    },
    {
     "name": "stdout",
     "output_type": "stream",
     "text": [
      " * Serving Flask app \"__main__\" (lazy loading)\n",
      " * Environment: production\n",
      "   WARNING: Do not use the development server in a production environment.\n",
      "   Use a production WSGI server instead.\n",
      " * Debug mode: off\n"
     ]
    },
    {
     "name": "stderr",
     "output_type": "stream",
     "text": [
      "2020-01-24 21:18:13,258 - werkzeug - INFO -  * Running on http://127.0.0.1:8500/ (Press CTRL+C to quit)\n",
      "2020-01-24 21:18:16,206 - werkzeug - INFO - 127.0.0.1 - - [24/Jan/2020 21:18:16] \"\u001b[37mGET / HTTP/1.1\u001b[0m\" 200 -\n",
      "2020-01-24 21:18:16,385 - werkzeug - INFO - 127.0.0.1 - - [24/Jan/2020 21:18:16] \"\u001b[37mGET /_dash-component-suites/dash_renderer/react@16.8.6.min.js?v=1.0.0&m=1574289295 HTTP/1.1\u001b[0m\" 200 -\n",
      "2020-01-24 21:18:16,409 - werkzeug - INFO - 127.0.0.1 - - [24/Jan/2020 21:18:16] \"\u001b[37mGET /_dash-component-suites/dash_renderer/prop-types@15.7.2.min.js?v=1.0.0&m=1574289295 HTTP/1.1\u001b[0m\" 200 -\n",
      "2020-01-24 21:18:16,410 - werkzeug - INFO - 127.0.0.1 - - [24/Jan/2020 21:18:16] \"\u001b[37mGET /_dash-component-suites/dash_renderer/react-dom@16.8.6.min.js?v=1.0.0&m=1574289295 HTTP/1.1\u001b[0m\" 200 -\n",
      "2020-01-24 21:18:16,415 - werkzeug - INFO - 127.0.0.1 - - [24/Jan/2020 21:18:16] \"\u001b[37mGET /_dash-component-suites/dash_html_components/dash_html_components.min.js?v=1.0.0&m=1574289295 HTTP/1.1\u001b[0m\" 200 -\n",
      "2020-01-24 21:18:16,425 - werkzeug - INFO - 127.0.0.1 - - [24/Jan/2020 21:18:16] \"\u001b[37mGET /_dash-component-suites/dash_table/bundle.js?v=4.0.1&m=1574289295 HTTP/1.1\u001b[0m\" 200 -\n",
      "2020-01-24 21:18:16,464 - werkzeug - INFO - 127.0.0.1 - - [24/Jan/2020 21:18:16] \"\u001b[37mGET /_dash-component-suites/dash_core_components/highlight.pack.js?v=1.0.0&m=1574289294 HTTP/1.1\u001b[0m\" 200 -\n",
      "2020-01-24 21:18:16,473 - werkzeug - INFO - 127.0.0.1 - - [24/Jan/2020 21:18:16] \"\u001b[37mGET /_dash-component-suites/dash_renderer/dash_renderer.min.js?v=1.0.0&m=1574289295 HTTP/1.1\u001b[0m\" 200 -\n",
      "2020-01-24 21:18:16,503 - werkzeug - INFO - 127.0.0.1 - - [24/Jan/2020 21:18:16] \"\u001b[37mGET /_dash-component-suites/dash_core_components/dash_core_components.min.js?v=1.0.0&m=1574289294 HTTP/1.1\u001b[0m\" 200 -\n",
      "2020-01-24 21:18:16,629 - werkzeug - INFO - 127.0.0.1 - - [24/Jan/2020 21:18:16] \"\u001b[37mGET /_dash-component-suites/dash_core_components/plotly-1.48.3.min.js?v=1.0.0&m=1574289294 HTTP/1.1\u001b[0m\" 200 -\n",
      "2020-01-24 21:18:17,062 - werkzeug - INFO - 127.0.0.1 - - [24/Jan/2020 21:18:17] \"\u001b[37mGET /_dash-layout HTTP/1.1\u001b[0m\" 200 -\n",
      "2020-01-24 21:18:17,063 - werkzeug - INFO - 127.0.0.1 - - [24/Jan/2020 21:18:17] \"\u001b[37mGET /_dash-dependencies HTTP/1.1\u001b[0m\" 200 -\n",
      "2020-01-24 21:18:17,086 - werkzeug - INFO - 127.0.0.1 - - [24/Jan/2020 21:18:17] \"\u001b[37mPOST /_dash-update-component HTTP/1.1\u001b[0m\" 200 -\n",
      "2020-01-24 21:18:17,119 - werkzeug - INFO - 127.0.0.1 - - [24/Jan/2020 21:18:17] \"\u001b[37mPOST /_dash-update-component HTTP/1.1\u001b[0m\" 200 -\n",
      "2020-01-24 21:18:17,462 - werkzeug - INFO - 127.0.0.1 - - [24/Jan/2020 21:18:17] \"\u001b[37mPOST /_dash-update-component HTTP/1.1\u001b[0m\" 200 -\n",
      "2020-01-24 21:18:23,279 - werkzeug - INFO - 127.0.0.1 - - [24/Jan/2020 21:18:23] \"\u001b[37mPOST /_dash-update-component HTTP/1.1\u001b[0m\" 200 -\n",
      "2020-01-24 21:18:23,383 - werkzeug - INFO - 127.0.0.1 - - [24/Jan/2020 21:18:23] \"\u001b[37mPOST /_dash-update-component HTTP/1.1\u001b[0m\" 200 -\n",
      "2020-01-24 21:18:26,286 - werkzeug - INFO - 127.0.0.1 - - [24/Jan/2020 21:18:26] \"\u001b[37mPOST /_dash-update-component HTTP/1.1\u001b[0m\" 200 -\n",
      "2020-01-24 21:18:26,428 - werkzeug - INFO - 127.0.0.1 - - [24/Jan/2020 21:18:26] \"\u001b[37mPOST /_dash-update-component HTTP/1.1\u001b[0m\" 200 -\n",
      "2020-01-24 21:41:14,767 - werkzeug - INFO - 127.0.0.1 - - [24/Jan/2020 21:41:14] \"\u001b[37mPOST /_dash-update-component HTTP/1.1\u001b[0m\" 200 -\n",
      "2020-01-24 21:41:14,898 - werkzeug - INFO - 127.0.0.1 - - [24/Jan/2020 21:41:14] \"\u001b[37mPOST /_dash-update-component HTTP/1.1\u001b[0m\" 200 -\n"
     ]
    }
   ],
   "source": [
    "v = VariableRowDiv('my_app',\n",
    "            input_comps,\n",
    "            mycb,\n",
    "            my_row_comps,\n",
    "            my_row_layout,\n",
    "            component_transform_dict=None,\n",
    "            logger=logger)\n",
    "\n",
    "ac = [title_comp,input_div,input_comp,table_example,xy_example] + v.final_components\n",
    "gc = ['1fr','1fr 1fr','1fr 1fr'] + v.final_layout\n",
    "\n",
    "app = dgc.make_app(ac,grid_template_columns_list=gc)    \n",
    "app.run_server(host='127.0.0.1',port=8500)    \n"
   ]
  },
  {
   "cell_type": "code",
   "execution_count": 110,
   "metadata": {},
   "outputs": [
    {
     "name": "stdout",
     "output_type": "stream",
     "text": [
      " * Serving Flask app \"__main__\" (lazy loading)\n",
      " * Environment: production\n",
      "   WARNING: Do not use the development server in a production environment.\n",
      "   Use a production WSGI server instead.\n",
      " * Debug mode: off\n"
     ]
    },
    {
     "name": "stderr",
     "output_type": "stream",
     "text": [
      "2020-01-24 20:51:52,791 - werkzeug - INFO -  * Running on http://127.0.0.1:8500/ (Press CTRL+C to quit)\n",
      "2020-01-24 20:51:54,663 - werkzeug - INFO - 127.0.0.1 - - [24/Jan/2020 20:51:54] \"\u001b[37mGET / HTTP/1.1\u001b[0m\" 200 -\n",
      "2020-01-24 20:51:54,784 - werkzeug - INFO - 127.0.0.1 - - [24/Jan/2020 20:51:54] \"\u001b[37mGET /_dash-component-suites/dash_renderer/react@16.8.6.min.js?v=1.0.0&m=1574289295 HTTP/1.1\u001b[0m\" 200 -\n",
      "2020-01-24 20:51:54,793 - werkzeug - INFO - 127.0.0.1 - - [24/Jan/2020 20:51:54] \"\u001b[37mGET /_dash-component-suites/dash_renderer/prop-types@15.7.2.min.js?v=1.0.0&m=1574289295 HTTP/1.1\u001b[0m\" 200 -\n",
      "2020-01-24 20:51:54,798 - werkzeug - INFO - 127.0.0.1 - - [24/Jan/2020 20:51:54] \"\u001b[37mGET /_dash-component-suites/dash_renderer/react-dom@16.8.6.min.js?v=1.0.0&m=1574289295 HTTP/1.1\u001b[0m\" 200 -\n",
      "2020-01-24 20:51:54,807 - werkzeug - INFO - 127.0.0.1 - - [24/Jan/2020 20:51:54] \"\u001b[37mGET /_dash-component-suites/dash_core_components/highlight.pack.js?v=1.0.0&m=1574289294 HTTP/1.1\u001b[0m\" 200 -\n",
      "2020-01-24 20:51:54,811 - werkzeug - INFO - 127.0.0.1 - - [24/Jan/2020 20:51:54] \"\u001b[37mGET /_dash-component-suites/dash_html_components/dash_html_components.min.js?v=1.0.0&m=1574289295 HTTP/1.1\u001b[0m\" 200 -\n",
      "2020-01-24 20:51:54,830 - werkzeug - INFO - 127.0.0.1 - - [24/Jan/2020 20:51:54] \"\u001b[37mGET /_dash-component-suites/dash_table/bundle.js?v=4.0.1&m=1574289295 HTTP/1.1\u001b[0m\" 200 -\n",
      "2020-01-24 20:51:54,842 - werkzeug - INFO - 127.0.0.1 - - [24/Jan/2020 20:51:54] \"\u001b[37mGET /_dash-component-suites/dash_renderer/dash_renderer.min.js?v=1.0.0&m=1574289295 HTTP/1.1\u001b[0m\" 200 -\n",
      "2020-01-24 20:51:54,872 - werkzeug - INFO - 127.0.0.1 - - [24/Jan/2020 20:51:54] \"\u001b[37mGET /_dash-component-suites/dash_core_components/dash_core_components.min.js?v=1.0.0&m=1574289294 HTTP/1.1\u001b[0m\" 200 -\n",
      "2020-01-24 20:51:54,975 - werkzeug - INFO - 127.0.0.1 - - [24/Jan/2020 20:51:54] \"\u001b[37mGET /_dash-component-suites/dash_core_components/plotly-1.48.3.min.js?v=1.0.0&m=1574289294 HTTP/1.1\u001b[0m\" 200 -\n",
      "2020-01-24 20:51:55,394 - werkzeug - INFO - 127.0.0.1 - - [24/Jan/2020 20:51:55] \"\u001b[37mGET /_dash-layout HTTP/1.1\u001b[0m\" 200 -\n",
      "2020-01-24 20:51:55,395 - werkzeug - INFO - 127.0.0.1 - - [24/Jan/2020 20:51:55] \"\u001b[37mGET /_dash-dependencies HTTP/1.1\u001b[0m\" 200 -\n"
     ]
    }
   ],
   "source": [
    "# This Markdown component allows you to use markdown in html divs\n",
    "# create row 1\n",
    "\n",
    "tm_text1 = ''' # Dash DataFrame App '''\n",
    "tm1 = dgc.dcc.Markdown(tm_text1,style={'color':'white','textAlign': 'center',})\n",
    "tm_text2 = '''\n",
    "            1. This app displays Pandas DataFrames, Plotly Graphs and other html components \n",
    "            2. like file inputs, dropdown lists, and text input fields, and general divs.\n",
    "\n",
    "            '''\n",
    "tm2 = dgc.dcc.Markdown(tm_text2,style={'color':'white','textAlign': 'left',})\n",
    "\n",
    "st1={\n",
    "    'line-height': '20px',\n",
    "    'background-color':'#47bacc',\n",
    "    'color':'#FFFFF9',\n",
    "    'vertical-align':'middle',\n",
    "    'border-style':'hidden'\n",
    "} \n",
    "\n",
    "\n",
    "tm1_div = html.Div([tm1,tm2],style=st1,id='top_div1')\n",
    "tm2_div = html.Div([tm2],style=st2,id='top_div2')\n",
    "\n",
    "app = dgc.make_app([tm1_div],grid_template_columns_list=['1fr'])\n",
    "app.run_server(host='127.0.0.1',port=8500)"
   ]
  },
  {
   "cell_type": "code",
   "execution_count": null,
   "metadata": {},
   "outputs": [],
   "source": []
  }
 ],
 "metadata": {
  "kernelspec": {
   "display_name": "Python 3",
   "language": "python",
   "name": "python3"
  },
  "language_info": {
   "codemirror_mode": {
    "name": "ipython",
    "version": 3
   },
   "file_extension": ".py",
   "mimetype": "text/x-python",
   "name": "python",
   "nbconvert_exporter": "python",
   "pygments_lexer": "ipython3",
   "version": "3.6.5"
  }
 },
 "nbformat": 4,
 "nbformat_minor": 2
}
